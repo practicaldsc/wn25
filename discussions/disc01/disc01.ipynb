{
 "cells": [
  {
   "cell_type": "markdown",
   "id": "3143de48",
   "metadata": {
    "slideshow": {
     "slide_type": "slide"
    },
    "tags": []
   },
   "source": [
    "<div class=\"alert alert-info\" markdown=\"1\">\n",
    "\n",
    "#### Discussion 1\n",
    "\n",
    "# Environment Setup, Python Basics\n",
    "\n",
    "\n",
    "### EECS 398: Practical Data Science, Winter 2025\n",
    "\n",
    "<small><a style=\"text-decoration: none\" href=\"https://practicaldsc.org\">practicaldsc.org</a> • <a style=\"text-decoration: none\" href=\"https://github.com/practicaldsc/wn25\">github.com/practicaldsc/wn25</a></small>\n",
    "    \n",
    "</div>"
   ]
  },
  {
   "cell_type": "markdown",
   "id": "504aee40",
   "metadata": {
    "slideshow": {
     "slide_type": "slide"
    }
   },
   "source": [
    "### Agenda 📆\n",
    "\n",
    "- Introductions 👋.\n",
    "- Environment setup ⚙️.\n",
    "- Python basics 🐍.\n",
    "\n",
    "In most weeks, we'll work through old exam problems, but this week is mostly tech support + an introduction to Python."
   ]
  },
  {
   "cell_type": "markdown",
   "id": "05e13dd0",
   "metadata": {
    "slideshow": {
     "slide_type": "slide"
    }
   },
   "source": [
    "## Introductions 👋\n",
    "\n",
    "---"
   ]
  },
  {
   "cell_type": "markdown",
   "id": "7fbec16c",
   "metadata": {
    "slideshow": {
     "slide_type": "slide"
    }
   },
   "source": [
    "### Hi, I'm Akanksha! 👋\n",
    "\n",
    "* 3rd year undergrad.\n",
    "* Major: Computer Science.\n",
    "* Hometown: Frankfurt, Germany.\n",
    "* Ask me about: chess (<a href=\"https://link.chess.com/play/UPqM6a\"> challenge me! </a>), piano, table tennis, romcoms.\n",
    "\n",
    "<center><img src=\"./imgs/rai.png\" width=\"400\"></center>"
   ]
  },
  {
   "cell_type": "markdown",
   "id": "f6e0f7d3",
   "metadata": {
    "slideshow": {
     "slide_type": "slide"
    }
   },
   "source": [
    "### Hi, I'm Abhi! 👋\n",
    "\n",
    "* 2nd year undergrad.\n",
    "* Major: Computer Science.\n",
    "* Hometown: Northville, MI.\n",
    "* Ask me about: tennis, traveling, hiking, formula 1, soccer.\n",
    "\n",
    "<center><img src=\"./imgs/abhi.png\" width=\"400\"></center>"
   ]
  },
  {
   "cell_type": "markdown",
   "id": "79aca36b",
   "metadata": {
    "slideshow": {
     "slide_type": "slide"
    }
   },
   "source": [
    "### Hi, I'm Pranavi! 👋\n",
    "* 5th year undergrad.\n",
    "* Majors: Mathematical Sciences: Discrete & Algorithmic Methods and Computer Science.\n",
    "* Minor: Creative Writing.\n",
    "* Ask me about: my dog☁, good book recs📚, hiking 🥾, singing 🎵, CS career paths 👩‍💻, scuba diving 🤿.\n",
    "\n",
    "<center><img src=\"./imgs/pranavi.png\" width=\"400\"></center>"
   ]
  },
  {
   "cell_type": "markdown",
   "id": "eebf5f98",
   "metadata": {
    "slideshow": {
     "slide_type": "slide"
    }
   },
   "source": [
    "### Hi, I'm Hana! 👋\n",
    "\n",
    "* 2nd year undergrad.\n",
    "* Majors: Computer Science, Cognitive Science, Statistics.\n",
    "* Hometown: Canton, OH.\n",
    "* Ask me about: sitcoms, traveling, startups, tennis, my cat Pumpkin.\n",
    "\n",
    "<center><img src=\"./imgs/hana.png\" width=\"400\"></center>"
   ]
  },
  {
   "cell_type": "markdown",
   "id": "0320a7f4",
   "metadata": {
    "slideshow": {
     "slide_type": "slide"
    }
   },
   "source": [
    "### Hi, I'm Caleb! 👋\n",
    "\n",
    "* 2nd year undergrad.\n",
    "* Major: Computer Science.\n",
    "* Hometown: Seattle, WA ⛰️.\n",
    "* Ask me about: hiking, <a href=\"https://calebhyun.github.io/pickleball-point-analysis/\">club pickleball</a>, SPAM cooking, tennis, piano.\n",
    "\n",
    "<center><img src=\"./imgs/caleb.png\" width=\"400\"></center>"
   ]
  },
  {
   "cell_type": "markdown",
   "id": "25c72920",
   "metadata": {
    "slideshow": {
     "slide_type": "slide"
    }
   },
   "source": [
    "### Icebreaker! ❄️\n",
    "\n",
    "- Turn to the person next to you.\n",
    "- Share your name, major, year, best memory from the winter break.\n",
    "- Think about a recent decision you made: the next TV show to watch, a future vacation spot, what shoes you wore today\n",
    "- Did you rely on any data to make that decision? Ex: movie reviews, the weather, flight prices, etc. \n",
    "- How do we access relevant data to aid us in our decision-making process? "
   ]
  },
  {
   "cell_type": "markdown",
   "id": "f0ab86cf",
   "metadata": {
    "slideshow": {
     "slide_type": "slide"
    }
   },
   "source": [
    "## Environment setup ⚙️\n",
    "\n",
    "---"
   ]
  },
  {
   "cell_type": "markdown",
   "id": "bf0f0edf",
   "metadata": {
    "slideshow": {
     "slide_type": "slide"
    }
   },
   "source": [
    "### Environment setup"
   ]
  },
  {
   "cell_type": "markdown",
   "id": "fd0b496e",
   "metadata": {
    "slideshow": {
     "slide_type": "fragment"
    }
   },
   "source": [
    "- We'll give you a few minutes to follow the steps in the [**Environment Setup**](https://practicaldsc.org/env-setup) page of the course website. Let us know if you get stuck and we'll try and help."
   ]
  },
  {
   "cell_type": "markdown",
   "id": "72f1f02c",
   "metadata": {
    "slideshow": {
     "slide_type": "fragment"
    }
   },
   "source": [
    "- Once you've done that, see if you can open **this** notebook."
   ]
  },
  {
   "cell_type": "markdown",
   "id": "06816e15",
   "metadata": {
    "slideshow": {
     "slide_type": "fragment"
    }
   },
   "source": [
    "- ***Hint***: It'll involve running the following lines, one by one, in your Terminal:\n",
    "\n",
    "<br>\n",
    "\n",
    "```\n",
    "        git clone https://github.com/practicaldsc/wn25.git\n",
    "        cd wn25\n",
    "        jupyter lab # one of several options\n",
    "```"
   ]
  },
  {
   "cell_type": "markdown",
   "id": "79b04678",
   "metadata": {
    "slideshow": {
     "slide_type": "fragment"
    }
   },
   "source": [
    "- Once you have it open, run the following cell to see what it produces!"
   ]
  },
  {
   "cell_type": "code",
   "execution_count": null,
   "id": "ffa4dc03",
   "metadata": {},
   "outputs": [],
   "source": [
    "sum([i ** 3 for i in range(1, 10)])"
   ]
  },
  {
   "cell_type": "markdown",
   "id": "1e0762aa",
   "metadata": {
    "slideshow": {
     "slide_type": "slide"
    }
   },
   "source": [
    "### Working on homeworks"
   ]
  },
  {
   "cell_type": "markdown",
   "id": "65ebe822",
   "metadata": {
    "slideshow": {
     "slide_type": "fragment"
    }
   },
   "source": [
    "- Homework 1 will be released sometime today."
   ]
  },
  {
   "cell_type": "markdown",
   "id": "b3e5fb6f",
   "metadata": {
    "slideshow": {
     "slide_type": "fragment"
    }
   },
   "source": [
    "- In the meantime, the Example Homework shows the typical formatting of a homework assignment. Open it up, and familiarize yourself with how the autograder works."
   ]
  },
  {
   "cell_type": "markdown",
   "id": "0fb8e32a",
   "metadata": {
    "slideshow": {
     "slide_type": "slide"
    }
   },
   "source": [
    "## Python basics\n",
    "\n",
    "---"
   ]
  },
  {
   "cell_type": "markdown",
   "id": "2cdbcd88",
   "metadata": {
    "slideshow": {
     "slide_type": "slide"
    }
   },
   "source": [
    "### Variables, lists, and strings"
   ]
  },
  {
   "cell_type": "markdown",
   "id": "797fecb5",
   "metadata": {
    "slideshow": {
     "slide_type": "fragment"
    }
   },
   "source": [
    "- In Monday's lecture, we'll go over some of the key differences between Python and C++."
   ]
  },
  {
   "cell_type": "markdown",
   "id": "623f86d5",
   "metadata": {
    "slideshow": {
     "slide_type": "fragment"
    }
   },
   "source": [
    "- Today, we'll focus on working with **variables**, **lists**, and **strings** in Python."
   ]
  },
  {
   "cell_type": "markdown",
   "id": "3e34ba8d",
   "metadata": {
    "slideshow": {
     "slide_type": "slide"
    }
   },
   "source": [
    "### Variables"
   ]
  },
  {
   "cell_type": "markdown",
   "id": "06667308",
   "metadata": {
    "slideshow": {
     "slide_type": "fragment"
    }
   },
   "source": [
    "- In C++, variable types need to be explicitly declared ahead of time, and are fixed (static) once declared. The compiler verifies that all types are consistent before the code is actually executed.\n",
    "\n",
    "<div>\n",
    "\n",
    "```cpp\n",
    "            // Compiler error!\n",
    "            int count = 7 + 9;\n",
    "            count = \"data science\";\n",
    "    \n",
    "```\n",
    "    \n",
    "<small>\n",
    "<div>\n",
    "\n",
    "```\n",
    "                    main.cpp:16:9: error: invalid conversion from ‘const char*’ to ‘int’ [-fpermissive]\n",
    "    \n",
    "```\n",
    "\n",
    "</div>\n",
    "</small>\n",
    "\n",
    "</div>\n",
    "   "
   ]
  },
  {
   "cell_type": "markdown",
   "id": "3ef58942",
   "metadata": {
    "slideshow": {
     "slide_type": "fragment"
    }
   },
   "source": [
    "- In Python, variable types don't need to be declared, and are free to change (dynamic).\n",
    "<br><small>Also, note that you don't need semicolons!</small>"
   ]
  },
  {
   "cell_type": "code",
   "execution_count": null,
   "id": "c1d450f7",
   "metadata": {},
   "outputs": [],
   "source": [
    "# Works just fine.\n",
    "count = 7 + 9\n",
    "count = \"data science\"\n",
    "count"
   ]
  },
  {
   "cell_type": "markdown",
   "id": "4abbd867",
   "metadata": {
    "slideshow": {
     "slide_type": "slide"
    }
   },
   "source": [
    "### Lists"
   ]
  },
  {
   "cell_type": "markdown",
   "id": "92434677",
   "metadata": {
    "slideshow": {
     "slide_type": "fragment"
    }
   },
   "source": [
    "- A list is an **ordered** collection of values. To create a new list from scratch, we use [square brackets]."
   ]
  },
  {
   "cell_type": "code",
   "execution_count": null,
   "id": "c5e63a57",
   "metadata": {},
   "outputs": [],
   "source": [
    "temps = [68, 72, 65, 64, 62, 61, 59, 64, 64, 63, 65, 62]\n",
    "temps"
   ]
  },
  {
   "cell_type": "markdown",
   "id": "e9f2246f",
   "metadata": {
    "slideshow": {
     "slide_type": "fragment"
    }
   },
   "source": [
    "- Many built-in functions work on lists."
   ]
  },
  {
   "cell_type": "code",
   "execution_count": null,
   "id": "40781ca7",
   "metadata": {},
   "outputs": [],
   "source": [
    "sum(temps) / len(temps)"
   ]
  },
  {
   "cell_type": "code",
   "execution_count": null,
   "id": "3795c08b",
   "metadata": {},
   "outputs": [],
   "source": [
    "max(['hey', 'hi', 'hello'])"
   ]
  },
  {
   "cell_type": "markdown",
   "id": "3d0a8eba",
   "metadata": {
    "slideshow": {
     "slide_type": "fragment"
    }
   },
   "source": [
    "- Unlike C++ arrays, lists can contain values of different types."
   ]
  },
  {
   "cell_type": "code",
   "execution_count": null,
   "id": "3c5df1d9",
   "metadata": {},
   "outputs": [],
   "source": [
    "mixed_list = [-2, 2.5, 'michigan', [1, 3], max]\n",
    "mixed_list"
   ]
  },
  {
   "cell_type": "markdown",
   "id": "608de0b7",
   "metadata": {
    "slideshow": {
     "slide_type": "fragment"
    }
   },
   "source": [
    "- Note that we're talking about lists now, since they're built-in, but we'll actually spend more time working with `numpy` arrays, which in some ways behave differently."
   ]
  },
  {
   "cell_type": "markdown",
   "id": "f5e28cbb",
   "metadata": {
    "slideshow": {
     "slide_type": "slide"
    }
   },
   "source": [
    "### Appending"
   ]
  },
  {
   "cell_type": "markdown",
   "id": "1310d4e9",
   "metadata": {
    "slideshow": {
     "slide_type": "fragment"
    }
   },
   "source": [
    "- We use the `append` **method** to add elements to the end of a list.<br><small>Since this is a method, we call it using \"dot\" notation, i.e. `groceries.append(...)` instead of `append(groceries, ...)`.</small>"
   ]
  },
  {
   "cell_type": "code",
   "execution_count": null,
   "id": "49d9edec",
   "metadata": {},
   "outputs": [],
   "source": [
    "groceries = ['eggs', 'milk']\n",
    "groceries"
   ]
  },
  {
   "cell_type": "code",
   "execution_count": null,
   "id": "3ea53469",
   "metadata": {},
   "outputs": [],
   "source": [
    "groceries.append('bread')"
   ]
  },
  {
   "cell_type": "code",
   "execution_count": null,
   "id": "13ad7422",
   "metadata": {},
   "outputs": [],
   "source": [
    "groceries"
   ]
  },
  {
   "cell_type": "markdown",
   "id": "41a33dbd",
   "metadata": {
    "slideshow": {
     "slide_type": "fragment"
    }
   },
   "source": [
    "- **Important**: Note that `groceries.append('bread')` didn’t return anything, but groceries was modified.<br><small>We say `append` is **destructive**, because it does something other than return an output. We try to avoid destructive operations when possible.</small>"
   ]
  },
  {
   "cell_type": "code",
   "execution_count": null,
   "id": "ed5a83f7",
   "metadata": {},
   "outputs": [],
   "source": [
    "groceries + ['yogurt'] # This is a new list, not a modification of groceries!"
   ]
  },
  {
   "cell_type": "markdown",
   "id": "a133861c",
   "metadata": {
    "slideshow": {
     "slide_type": "slide"
    }
   },
   "source": [
    "### Indexing"
   ]
  },
  {
   "cell_type": "markdown",
   "id": "6b10028e",
   "metadata": {
    "slideshow": {
     "slide_type": "fragment"
    }
   },
   "source": [
    "- Python, like most programming languages, is 0-indexed. This means that the **index**, or position, of the first element in a list is 0, not 1.<br><small>One reason: an element's index represents how far it is from the start of the list.</small>"
   ]
  },
  {
   "cell_type": "code",
   "execution_count": null,
   "id": "68488578",
   "metadata": {},
   "outputs": [],
   "source": [
    "nums = [3, 1, 'dog', -9.5, 'michigan']"
   ]
  },
  {
   "cell_type": "code",
   "execution_count": null,
   "id": "2b112ea8",
   "metadata": {},
   "outputs": [],
   "source": [
    "nums[0]"
   ]
  },
  {
   "cell_type": "code",
   "execution_count": null,
   "id": "eeb8b724",
   "metadata": {},
   "outputs": [],
   "source": [
    "nums[3]"
   ]
  },
  {
   "cell_type": "code",
   "execution_count": null,
   "id": "42720635",
   "metadata": {},
   "outputs": [],
   "source": [
    "nums[-1] # Counts from the end."
   ]
  },
  {
   "cell_type": "code",
   "execution_count": null,
   "id": "7e2514bd",
   "metadata": {},
   "outputs": [],
   "source": [
    "nums[5]"
   ]
  },
  {
   "cell_type": "markdown",
   "id": "eaa350be",
   "metadata": {
    "slideshow": {
     "slide_type": "slide"
    }
   },
   "source": [
    "### Slicing"
   ]
  },
  {
   "cell_type": "markdown",
   "id": "1eee6984",
   "metadata": {
    "slideshow": {
     "slide_type": "fragment"
    }
   },
   "source": [
    "- We can use indexes to create a \"slice of a list. A slice is a new list containing elements from another list."
   ]
  },
  {
   "cell_type": "code",
   "execution_count": null,
   "id": "6a476435",
   "metadata": {},
   "outputs": [],
   "source": [
    "nums"
   ]
  },
  {
   "cell_type": "code",
   "execution_count": null,
   "id": "b30bf4a1",
   "metadata": {},
   "outputs": [],
   "source": [
    "nums[1:3]"
   ]
  },
  {
   "cell_type": "markdown",
   "id": "dd304d05",
   "metadata": {
    "slideshow": {
     "slide_type": "fragment"
    }
   },
   "source": [
    "- In general,\n",
    "\n",
    "        list_name[start : stop]\n",
    "    \n",
    "    consists of all elements in list_name starting with index `start` and ending right before index `stop`."
   ]
  },
  {
   "cell_type": "code",
   "execution_count": null,
   "id": "5dcddf9f",
   "metadata": {},
   "outputs": [],
   "source": [
    "nums"
   ]
  },
  {
   "cell_type": "code",
   "execution_count": null,
   "id": "fff9542c",
   "metadata": {},
   "outputs": [],
   "source": [
    "nums[0:4]"
   ]
  },
  {
   "cell_type": "code",
   "execution_count": null,
   "id": "4c7e6d69",
   "metadata": {},
   "outputs": [],
   "source": [
    "# If you don't include 'start', the slice starts at the beginning of the list.\n",
    "nums[:4]"
   ]
  },
  {
   "cell_type": "code",
   "execution_count": null,
   "id": "4d190b79",
   "metadata": {},
   "outputs": [],
   "source": [
    "# If you don't include 'stop', the slice starts at the end of the list.\n",
    "nums[-2:]"
   ]
  },
  {
   "cell_type": "code",
   "execution_count": null,
   "id": "5089d5b1",
   "metadata": {},
   "outputs": [],
   "source": [
    "# Interesting...\n",
    "nums[::-1]"
   ]
  },
  {
   "cell_type": "markdown",
   "id": "a019f2f7",
   "metadata": {
    "slideshow": {
     "slide_type": "slide"
    }
   },
   "source": [
    "<div class=\"alert alert-success\">\n",
    "<h3>Activity</h3>\n",
    "    \n",
    "Complete the implementation of the function `missing_number`, which takes in a list `nums` containing unique integers between `1` and `n` **with one number missing**, and returns the only number in the range `1` to `n` that is missing from `nums`.\n",
    "\n",
    "Example behavior is shown below.\n",
    "    \n",
    "```py\n",
    ">>> missing_number([6, 2, 3, 5, 9, 8, 4, 1])\n",
    "7\n",
    ">>> missing_number([1, 2, 3, 4, 5])\n",
    "6\n",
    "```\n",
    "    \n",
    "***Hint***: While it's possible to answer this using a `for`-loop and the `range` function, you can also answer the question without any loops, by using the fact that:\n",
    "    \n",
    "$$1 + 2 + ... + n = \\frac{n(n+1)}{2}$$\n",
    "   \n",
    "</div>"
   ]
  },
  {
   "cell_type": "code",
   "execution_count": null,
   "id": "80d57a1e",
   "metadata": {},
   "outputs": [],
   "source": [
    "def missing_number(nums):\n",
    "    # This is how a function is defined in Python.\n",
    "    # Below, write one or more lines of code to calculate the answer.\n",
    "    # The last line should be \"return ____\", with the ____ replaced by your final answer.\n",
    "    ..."
   ]
  },
  {
   "cell_type": "code",
   "execution_count": null,
   "id": "045ee40d",
   "metadata": {},
   "outputs": [],
   "source": [
    "# Expecting: 7.\n",
    "missing_number([6, 2, 3, 5, 9, 8, 4, 1])"
   ]
  },
  {
   "cell_type": "code",
   "execution_count": null,
   "id": "be0c5134",
   "metadata": {},
   "outputs": [],
   "source": [
    "# Expecting: 6.\n",
    "missing_number([1, 2, 3, 4, 5])"
   ]
  },
  {
   "cell_type": "markdown",
   "id": "88f7f588",
   "metadata": {
    "slideshow": {
     "slide_type": "slide"
    }
   },
   "source": [
    "<details>\n",
    "    \n",
    "<summary>Click <b>here</b> to see the answer to the previous activity.</summary>\n",
    "\n",
    "<pre>\n",
    "\n",
    "def missing_number(nums):\n",
    "    n = len(nums) + 1\n",
    "    expected = n * (n + 1) // 2\n",
    "    return expected - sum(nums)\n",
    "    \n",
    "</pre>\n",
    "    \n",
    "</details>"
   ]
  },
  {
   "cell_type": "markdown",
   "id": "86f88d84-7701-4c42-a53a-0af84acbeff1",
   "metadata": {
    "slideshow": {
     "slide_type": "slide"
    }
   },
   "source": [
    "### Quick Break: Attendance\n",
    "\n",
    "Fill out this attendance form so we know you're here!\n",
    "\n",
    "<center><img src=\"./imgs/qr-code.png\" width=\"400\"></center>"
   ]
  },
  {
   "cell_type": "markdown",
   "id": "d1860225",
   "metadata": {
    "slideshow": {
     "slide_type": "slide"
    }
   },
   "source": [
    "### Strings"
   ]
  },
  {
   "cell_type": "markdown",
   "id": "eaf9701d",
   "metadata": {
    "slideshow": {
     "slide_type": "fragment"
    }
   },
   "source": [
    "- Strings are similar to lists: they have indexes as well."
   ]
  },
  {
   "cell_type": "code",
   "execution_count": null,
   "id": "3a2e4528",
   "metadata": {},
   "outputs": [],
   "source": [
    "university = 'university of michigan'"
   ]
  },
  {
   "cell_type": "markdown",
   "id": "4b52ec4f",
   "metadata": {
    "slideshow": {
     "slide_type": "fragment"
    }
   },
   "source": [
    "- Each element of a string can be thought of as a \"character\", which is a string of length 1."
   ]
  },
  {
   "cell_type": "code",
   "execution_count": null,
   "id": "2306864d",
   "metadata": {},
   "outputs": [],
   "source": [
    "university[1]"
   ]
  },
  {
   "cell_type": "code",
   "execution_count": null,
   "id": "394a8f49",
   "metadata": {},
   "outputs": [],
   "source": [
    "university[11:13]"
   ]
  },
  {
   "cell_type": "code",
   "execution_count": null,
   "id": "3083c56c",
   "metadata": {},
   "outputs": [],
   "source": [
    "university[-8:]"
   ]
  },
  {
   "cell_type": "markdown",
   "id": "11bb3d77",
   "metadata": {
    "slideshow": {
     "slide_type": "slide"
    }
   },
   "source": [
    "### String methods"
   ]
  },
  {
   "cell_type": "markdown",
   "id": "12b911f1",
   "metadata": {
    "slideshow": {
     "slide_type": "fragment"
    }
   },
   "source": [
    "- Strings also come equipped with several methods."
   ]
  },
  {
   "cell_type": "code",
   "execution_count": null,
   "id": "6633a48f",
   "metadata": {},
   "outputs": [],
   "source": [
    "school = 'university of michigan'"
   ]
  },
  {
   "cell_type": "code",
   "execution_count": null,
   "id": "392bb22e",
   "metadata": {},
   "outputs": [],
   "source": [
    "school.upper()"
   ]
  },
  {
   "cell_type": "code",
   "execution_count": null,
   "id": "ed640d7e",
   "metadata": {},
   "outputs": [],
   "source": [
    "school.title()"
   ]
  },
  {
   "cell_type": "code",
   "execution_count": null,
   "id": "65060245",
   "metadata": {},
   "outputs": [],
   "source": [
    "school.split()"
   ]
  },
  {
   "cell_type": "code",
   "execution_count": null,
   "id": "b0519e15",
   "metadata": {},
   "outputs": [],
   "source": [
    "school.title().replace('i', 'ℹ️').split()"
   ]
  },
  {
   "cell_type": "code",
   "execution_count": null,
   "id": "a9251bd3",
   "metadata": {},
   "outputs": [],
   "source": [
    "school.find('f')"
   ]
  },
  {
   "cell_type": "markdown",
   "id": "f42b64b2",
   "metadata": {
    "slideshow": {
     "slide_type": "fragment"
    }
   },
   "source": [
    "- All of the above methods resulted in new strings, and didn't modify `school`."
   ]
  },
  {
   "cell_type": "code",
   "execution_count": null,
   "id": "69e8007b",
   "metadata": {},
   "outputs": [],
   "source": [
    "school"
   ]
  },
  {
   "cell_type": "markdown",
   "id": "614f1d5f",
   "metadata": {
    "slideshow": {
     "slide_type": "slide"
    }
   },
   "source": [
    "### Immutability"
   ]
  },
  {
   "cell_type": "markdown",
   "id": "7af94578",
   "metadata": {
    "slideshow": {
     "slide_type": "fragment"
    }
   },
   "source": [
    "- One key difference between lists and strings: you **can change** an element of a list, but **not** of a string."
   ]
  },
  {
   "cell_type": "markdown",
   "id": "2c4017ba",
   "metadata": {
    "slideshow": {
     "slide_type": "fragment"
    }
   },
   "source": [
    "- If you want to change any part of a string, you must make a new string. This is because lists are **mutable**, while strings are **immutable**.\n",
    "<br><small>Before and after running `test_list[1] = 99`, `test_list` still refers to the same object in memory under the hood.</small>"
   ]
  },
  {
   "cell_type": "code",
   "execution_count": null,
   "id": "10c4fad9",
   "metadata": {},
   "outputs": [],
   "source": [
    "test_list = [8, 0, 2, 4]\n",
    "test_string = 'zebra'"
   ]
  },
  {
   "cell_type": "code",
   "execution_count": null,
   "id": "d068f39c",
   "metadata": {},
   "outputs": [],
   "source": [
    "test_list[1] = 99\n",
    "test_list"
   ]
  },
  {
   "cell_type": "code",
   "execution_count": null,
   "id": "4ae08faf",
   "metadata": {},
   "outputs": [],
   "source": [
    "test_string[1] = 'f'"
   ]
  },
  {
   "cell_type": "code",
   "execution_count": null,
   "id": "8ac6c0d9",
   "metadata": {},
   "outputs": [],
   "source": [
    "# Since we can't \"change\" test_string, we need to make a \"new\" string \n",
    "# containing the parts of it that we wanted.\n",
    "# We can re-use the variable name test_string, though!\n",
    "test_string = test_string[:1] + 'f' + test_string[2:]\n",
    "test_string"
   ]
  },
  {
   "cell_type": "markdown",
   "id": "8f1425e2",
   "metadata": {
    "slideshow": {
     "slide_type": "fragment"
    }
   },
   "source": [
    "- _Most_ data structures – lists, dictionaries, `numpy` arrays, `pandas` DataFrames – are **mutable**, which means we need to be **extremely careful** when using them to modify them unexpectedly."
   ]
  },
  {
   "cell_type": "markdown",
   "id": "a11e1a33",
   "metadata": {
    "slideshow": {
     "slide_type": "slide"
    }
   },
   "source": [
    "### Aside: Python Tutor"
   ]
  },
  {
   "cell_type": "markdown",
   "id": "9f8f41dc",
   "metadata": {
    "slideshow": {
     "slide_type": "fragment"
    }
   },
   "source": [
    "- Python Tutor, found at [pythontutor.com](https://pythontutor.com), allows you to visualize the execution of Python code.\n",
    "\n",
    "<center><img src=\"imgs/pythontutor.png\" width=400></center>"
   ]
  },
  {
   "cell_type": "markdown",
   "id": "82ced125",
   "metadata": {
    "slideshow": {
     "slide_type": "fragment"
    }
   },
   "source": [
    "- Click [**this link**](https://pythontutor.com/render.html#code=test_list%20%3D%20%5B8,%200,%202,%204%5D%0Atest_string%20%3D%20'zebra'%0Atest_list%5B1%5D%20%3D%2099%0Atest_string%5B1%5D%20%3D%20'f'&cumulative=false&curInstr=0&heapPrimitives=nevernest&mode=display&origin=opt-frontend.js&py=311&rawInputLstJSON=%5B%5D&textReferences=false) to visualize the previous slide's code."
   ]
  },
  {
   "cell_type": "markdown",
   "id": "d5836415",
   "metadata": {
    "slideshow": {
     "slide_type": "slide"
    }
   },
   "source": [
    "### What's next?\n",
    "\n",
    "- Stay tuned for Homework 1.\n",
    "- Make sure to fill out the Welcome Survey."
   ]
  }
 ],
 "metadata": {
  "kernelspec": {
   "display_name": "Python 3 (ipykernel)",
   "language": "python",
   "name": "python3"
  },
  "language_info": {
   "codemirror_mode": {
    "name": "ipython",
    "version": 3
   },
   "file_extension": ".py",
   "mimetype": "text/x-python",
   "name": "python",
   "nbconvert_exporter": "python",
   "pygments_lexer": "ipython3",
   "version": "3.10.16"
  },
  "livereveal": {
   "scroll": true
  },
  "rise": {
   "transition": "none"
  }
 },
 "nbformat": 4,
 "nbformat_minor": 5
}
