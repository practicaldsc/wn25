{
 "cells": [
  {
   "cell_type": "code",
   "execution_count": null,
   "id": "fec69f86",
   "metadata": {
    "slideshow": {
     "slide_type": "skip"
    }
   },
   "outputs": [],
   "source": [
    "from lec_utils import *"
   ]
  },
  {
   "cell_type": "markdown",
   "id": "3143de48",
   "metadata": {
    "slideshow": {
     "slide_type": "slide"
    },
    "tags": []
   },
   "source": [
    "<div class=\"alert alert-info\" markdown=\"1\">\n",
    "\n",
    "#### Discussion 6\n",
    "\n",
    "# RegEx and Text as Data\n",
    "\n",
    "### EECS 398: Practical Data Science, Winter 2025\n",
    "\n",
    "<small><a style=\"text-decoration: none\" href=\"https://practicaldsc.org\">practicaldsc.org</a> • <a style=\"text-decoration: none\" href=\"https://github.com/practicaldsc/wn25\">github.com/practicaldsc/wn25</a> • 📣 See latest announcements [**here on Ed**](https://edstem.org/us/courses/69737/discussion/5943734) </small>\n",
    "    \n",
    "</div>"
   ]
  },
  {
   "cell_type": "markdown",
   "id": "504aee40",
   "metadata": {
    "jp-MarkdownHeadingCollapsed": true,
    "slideshow": {
     "slide_type": "slide"
    }
   },
   "source": [
    "### Agenda 📆\n",
    "- Using RegEx to Parse Recipe Ingredients 🍝.\n",
    "- TF-IDF 📖.\n",
    "- Worksheet 📝."
   ]
  },
  {
   "cell_type": "markdown",
   "id": "5d670621-f77c-44be-a581-119a8e852c6d",
   "metadata": {
    "slideshow": {
     "slide_type": "slide"
    }
   },
   "source": [
    "## Example: Using RegEx to Parse Recipe Ingredients 🍝\n",
    "---"
   ]
  },
  {
   "cell_type": "markdown",
   "id": "19bac1a2-a43f-420a-9ba8-59bae3af971c",
   "metadata": {
    "slideshow": {
     "slide_type": "slide"
    }
   },
   "source": [
    "### Example: Using RegEx to Parse Recipe Ingredients"
   ]
  },
  {
   "cell_type": "markdown",
   "id": "afc3582d-c627-4fba-bc66-6ff8188cc532",
   "metadata": {
    "slideshow": {
     "slide_type": "fragment"
    }
   },
   "source": [
    "- Our goal in today's discussion lecture is to create a DataFrame with the information about ingredients in a recipe. "
   ]
  },
  {
   "cell_type": "code",
   "execution_count": null,
   "id": "e9b0dc6c-6b15-4349-a501-97eceb73166a",
   "metadata": {
    "slideshow": {
     "slide_type": "fragment"
    }
   },
   "outputs": [],
   "source": [
    "recipe_text = '''\n",
    "Ingredients:\n",
    "3/4 cup oil\n",
    "    Use olive oil for best results!\n",
    "1/2 teaspoon salt\n",
    "    Or to taste. \n",
    "8 cups flour\n",
    "12.5 tablespoons butter\n",
    "    Optionally substitute heavy cream. \n",
    "'''"
   ]
  },
  {
   "cell_type": "markdown",
   "id": "5ebaec62-6700-446a-a456-86e743ed99c0",
   "metadata": {},
   "source": [
    "| Quantity | Unit       | Ingredient |\n",
    "|----------|-----------|------------|\n",
    "| 3/4      | cup       | oil        |\n",
    "| 1/2      | teaspoon  | salt       |\n",
    "| 8        | cups      | flour      |\n",
    "| 12.5     | tablespoons | butter   |"
   ]
  },
  {
   "cell_type": "markdown",
   "id": "7d98916c",
   "metadata": {
    "slideshow": {
     "slide_type": "slide"
    }
   },
   "source": [
    "### Capturing Numbers"
   ]
  },
  {
   "cell_type": "markdown",
   "id": "029ef166-878b-45d5-bceb-3f19229ba6fd",
   "metadata": {
    "slideshow": {
     "slide_type": "fragment"
    }
   },
   "source": [
    "- A regular expression, or **regex** for short, is a sequence of characters used to **match patterns in strings**."
   ]
  },
  {
   "cell_type": "markdown",
   "id": "ffaef7ab-a6e9-47ef-918b-47029560aed0",
   "metadata": {
    "slideshow": {
     "slide_type": "fragment"
    }
   },
   "source": [
    "- In regex, `\\d` matches any digit character (equivalent to `[0-9]`), and the `+` quantifier specifies that the preceding element must occur one or more times. `\\d+` matches sequences of one or more digits."
   ]
  },
  {
   "cell_type": "code",
   "execution_count": null,
   "id": "f6b46b76-6ddd-4232-9932-64ec835c7b80",
   "metadata": {},
   "outputs": [],
   "source": [
    "re.findall('\\d+', recipe_text)"
   ]
  },
  {
   "cell_type": "markdown",
   "id": "a4651842",
   "metadata": {
    "slideshow": {
     "slide_type": "fragment"
    }
   },
   "source": [
    "- This pattern doesn't capture fractions or decimal numbers because characters like `/` and `.` are not digits, causing the match to terminate."
   ]
  },
  {
   "cell_type": "markdown",
   "id": "9409c908-cfa1-42ed-b7a0-72e06372e762",
   "metadata": {
    "slideshow": {
     "slide_type": "fragment"
    }
   },
   "source": [
    "- In order to capture special characters in RegEx like `.` and `/`, we need to use the escape character, `\\`. "
   ]
  },
  {
   "cell_type": "code",
   "execution_count": null,
   "id": "0fe4922f-f1fd-40ad-ac70-ef8875e10575",
   "metadata": {},
   "outputs": [],
   "source": [
    "print(re.findall('\\d+\\/\\d+', recipe_text))\n",
    "print(re.findall('\\d+\\.\\d+', recipe_text))"
   ]
  },
  {
   "cell_type": "markdown",
   "id": "d776e090-3e87-44a3-9bb5-fda73fc71f4c",
   "metadata": {
    "slideshow": {
     "slide_type": "fragment"
    }
   },
   "source": [
    "- To match all whole numbers, decimals, and fractions, we can use the OR operator `|`. "
   ]
  },
  {
   "cell_type": "code",
   "execution_count": null,
   "id": "d90a238d-3fa2-435c-a1a3-a54e67553e84",
   "metadata": {},
   "outputs": [],
   "source": [
    "# Order matters in RegEx!\n",
    "# Note that if we started with \\d+ as the first option, we would get ['3', '4', '1', '2', '8', '12', '5'].\n",
    "re.findall('(\\d+\\/\\d+|\\d+\\.\\d+|\\d+)', recipe_text)"
   ]
  },
  {
   "cell_type": "markdown",
   "id": "8c191745",
   "metadata": {
    "slideshow": {
     "slide_type": "slide"
    }
   },
   "source": [
    "### Making Capture Groups"
   ]
  },
  {
   "cell_type": "markdown",
   "id": "058de8ab-7ac1-4f16-9425-26298a301ca5",
   "metadata": {
    "slideshow": {
     "slide_type": "fragment"
    }
   },
   "source": [
    "- In regex, `[]` defines a character class, matching any single character inside. `?` makes the preceding character or group optional (0 or 1 occurrence)."
   ]
  },
  {
   "cell_type": "code",
   "execution_count": null,
   "id": "3179a8a5-88bc-4887-980e-4bc1d6817022",
   "metadata": {},
   "outputs": [],
   "source": [
    "re.findall('(cup[s]?|tablespoon[s]?|teaspoon[s]?)', recipe_text)"
   ]
  },
  {
   "cell_type": "markdown",
   "id": "e05400e6-b15f-43a9-af6d-2157fd09991d",
   "metadata": {
    "slideshow": {
     "slide_type": "fragment"
    }
   },
   "source": [
    "- We can extract each part of our expression separately by using **capture groups**, which we define by putting our expressions in parentheses. "
   ]
  },
  {
   "cell_type": "code",
   "execution_count": null,
   "id": "00c15631-d679-4ee2-8f5b-11bf8729201d",
   "metadata": {},
   "outputs": [],
   "source": [
    "pattern = r'(\\d+\\/\\d+|\\d+\\.\\d+|\\d+)\\s(cup[s]?|tablespoon[s]?|teaspoon[s]?)\\s(.+)'"
   ]
  },
  {
   "cell_type": "code",
   "execution_count": null,
   "id": "2a68685f-a83c-45b9-a7e3-f18f16f94890",
   "metadata": {
    "slideshow": {
     "slide_type": "fragment"
    }
   },
   "outputs": [],
   "source": [
    "matches = re.findall(pattern, recipe_text)\n",
    "pd.DataFrame(matches, columns=['Quantity', 'Unit', 'Ingredient'])"
   ]
  },
  {
   "cell_type": "markdown",
   "id": "29a29385-b6bb-463a-87b7-f2de6d583c48",
   "metadata": {
    "slideshow": {
     "slide_type": "slide"
    }
   },
   "source": [
    "## TF-IDF 📖\n",
    "-----"
   ]
  },
  {
   "cell_type": "markdown",
   "id": "f8bb3582-2877-420d-a4f3-2aa3ac7c0321",
   "metadata": {
    "slideshow": {
     "slide_type": "slide"
    }
   },
   "source": [
    "### What Makes a Word Important?"
   ]
  },
  {
   "cell_type": "markdown",
   "id": "575819c1-dd2a-4ec7-86b0-eefd1917c6c7",
   "metadata": {
    "slideshow": {
     "slide_type": "fragment"
    }
   },
   "source": [
    "Consider the recipe description $d$:\n",
    "\n",
    "<strong><center>\"This spicy sauce blends garlic, chili, and basil for a bold, spicy flavor and smooth texture.\"</center></strong>"
   ]
  },
  {
   "cell_type": "markdown",
   "id": "65019aed-4b8f-441b-b809-2f3f25ca334d",
   "metadata": {
    "slideshow": {
     "slide_type": "fragment"
    }
   },
   "source": [
    "- **Issue**: Simply counting word occurrences in a recipe doesn't reveal which terms are truly informative: \"spicy\" and \"and\" both appear twice, but \"spicy\" is more significant to the meaning of the sentence. "
   ]
  },
  {
   "cell_type": "markdown",
   "id": "1573644a-1b9a-462d-8bec-95e14480b812",
   "metadata": {},
   "source": [
    "- **Key Idea**: An important word is one that appears frequently in one piece of text, but rarely in other pieces of text."
   ]
  },
  {
   "cell_type": "markdown",
   "id": "76d3fe06-b489-4c71-b856-b89a00c8f540",
   "metadata": {
    "slideshow": {
     "slide_type": "slide"
    }
   },
   "source": [
    "### **Term Frequency (TF)**  \n"
   ]
  },
  {
   "cell_type": "markdown",
   "id": "f93f8530-ba7c-4cbc-9f75-22e2280e7e42",
   "metadata": {
    "slideshow": {
     "slide_type": "fragment"
    }
   },
   "source": [
    "- **Definition:** The term frequency (TF) measures how often a term $t$ appears in a recipe $d$.  \n"
   ]
  },
  {
   "cell_type": "markdown",
   "id": "deff4e14-c923-4d59-9edb-f120d4acd777",
   "metadata": {
    "slideshow": {
     "slide_type": "fragment"
    }
   },
   "source": [
    "- **Intuition:** A high $\\text{tf}(t, d)$ means the term is very common in that particular recipe.  \n"
   ]
  },
  {
   "cell_type": "markdown",
   "id": "714064f8-a623-4a82-a882-f85200f53afb",
   "metadata": {
    "slideshow": {
     "slide_type": "fragment"
    }
   },
   "source": [
    "  $$\n",
    "  \\text{tf}(\\text{\"spicy\"}, d) = \\frac{\\text{number of occurrences of \"spicy\" in } d}{\\text{total number of terms in } d}\n",
    "  $$  "
   ]
  },
  {
   "cell_type": "markdown",
   "id": "b6042177",
   "metadata": {
    "slideshow": {
     "slide_type": "-"
    }
   },
   "source": [
    "  $$\n",
    "  \\text{tf}(\\text{\"spicy\"}, d) = \\frac{2}{16} = 0.125\n",
    "  $$"
   ]
  },
  {
   "cell_type": "markdown",
   "id": "9b04e628-2608-4a23-a15c-4b6e84ea11f2",
   "metadata": {
    "slideshow": {
     "slide_type": "slide"
    }
   },
   "source": [
    "### **Inverse Document Frequency (IDF)**  \n"
   ]
  },
  {
   "cell_type": "markdown",
   "id": "3fcd041e-edff-4c2f-9d0c-86f9e4e36e04",
   "metadata": {
    "slideshow": {
     "slide_type": "fragment"
    }
   },
   "source": [
    "- **Definition:** The inverse document frequency (IDF) gauges how rare a term is across a collection of recipes.  \n"
   ]
  },
  {
   "cell_type": "markdown",
   "id": "9c500e85-73e9-43a8-acec-db3601336efc",
   "metadata": {
    "slideshow": {
     "slide_type": "fragment"
    }
   },
   "source": [
    "- **Intuition:** A high $\\text{idf}(t)$ indicates that $t$ is rare across our collections of text, meaning that it's more significant that the term is in the text.\n"
   ]
  },
  {
   "cell_type": "markdown",
   "id": "4d97ee93-8912-4017-a130-74c84ead483f",
   "metadata": {
    "slideshow": {
     "slide_type": "fragment"
    }
   },
   "source": [
    "- Imagine we have **1000 recipe descriptions** in our dataset, and \"spicy\" appears in **100 of these**.  \n",
    "\n",
    "  $$\n",
    "  \\text{idf}(\\text{\"spicy\"}) = \\log \\left( \\frac{\\text{total number of recipes}}{\\text{number of recipes in which \"spicy\" appears}} \\right)\n",
    "  $$  \n",
    " <center><small>In this example, we're using $\\log_{10}$, but we can also use other bases as long as we keep it consistent! On exams, we'll tell you which base to use.</small></center>\n"
   ]
  },
  {
   "cell_type": "markdown",
   "id": "701f69db",
   "metadata": {},
   "source": [
    "  $$\n",
    "  \\text{idf}(\\text{\"spicy\"}) = \\log \\left( \\frac{1000}{100} \\right) = \\log (10) = 1\n",
    "  $$  "
   ]
  },
  {
   "cell_type": "markdown",
   "id": "ad1475d3-7221-446c-a6ff-6bded5275bd8",
   "metadata": {
    "slideshow": {
     "slide_type": "slide"
    }
   },
   "source": [
    "### **Term Frequency-Inverse Document Frequency (TF-IDF)**  \n"
   ]
  },
  {
   "cell_type": "markdown",
   "id": "4978b7be-fbf0-4513-bf6a-6ecad37bed2b",
   "metadata": {
    "slideshow": {
     "slide_type": "fragment"
    }
   },
   "source": [
    "- **Definition:** TF-IDF combines term frequency and inverse document frequency to score the importance of a term in a recipe.  \n"
   ]
  },
  {
   "cell_type": "markdown",
   "id": "d7cdab8a",
   "metadata": {},
   "source": [
    "- **Words with higher TF-IDF are more important to a document’s meaning.**\n",
    "- In essence, we're finding how common a term is in a document, and then multiplying that by how common the term is throughout all of our documents (where being less common yields a higher value)."
   ]
  },
  {
   "cell_type": "markdown",
   "id": "31de4696-d550-4f0f-8a2c-96e5ed72abff",
   "metadata": {
    "slideshow": {
     "slide_type": "fragment"
    }
   },
   "source": [
    "  $$\n",
    "  \\text{tfidf}(\\text{\"spicy\"}, d) = \\text{tf}(\\text{\"spicy\"}, d) \\times \\text{idf}(\\text{\"spicy\"})\n",
    "  $$  "
   ]
  },
  {
   "cell_type": "markdown",
   "id": "f07c0c35",
   "metadata": {},
   "source": [
    "  $$\n",
    "  \\text{tfidf}(\\text{\"spicy\"}, d) = 0.125 \\times 1 = 0.125\n",
    "  $$  "
   ]
  },
  {
   "cell_type": "markdown",
   "id": "fdfac177-ab80-4435-a3e0-8917436d3011",
   "metadata": {
    "slideshow": {
     "slide_type": "slide"
    }
   },
   "source": [
    "## Attendance 🙋"
   ]
  },
  {
   "cell_type": "markdown",
   "id": "796c70bc-6a17-4802-a511-fc32e99fb43a",
   "metadata": {},
   "source": [
    "<center><img src='imgs/disc06.png' width=\"500\"></img></center>"
   ]
  },
  {
   "cell_type": "markdown",
   "id": "4e09ae71",
   "metadata": {
    "slideshow": {
     "slide_type": "slide"
    }
   },
   "source": [
    "## Worksheet 📝\n",
    "\n",
    "---"
   ]
  }
 ],
 "metadata": {
  "celltoolbar": "Slideshow",
  "kernelspec": {
   "display_name": "Python 3 (ipykernel)",
   "language": "python",
   "name": "python3"
  },
  "language_info": {
   "codemirror_mode": {
    "name": "ipython",
    "version": 3
   },
   "file_extension": ".py",
   "mimetype": "text/x-python",
   "name": "python",
   "nbconvert_exporter": "python",
   "pygments_lexer": "ipython3",
   "version": "3.10.16"
  },
  "livereveal": {
   "scroll": true
  },
  "rise": {
   "transition": "none"
  }
 },
 "nbformat": 4,
 "nbformat_minor": 5
}
