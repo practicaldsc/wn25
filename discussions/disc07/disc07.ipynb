{
 "cells": [
  {
   "cell_type": "code",
   "execution_count": null,
   "id": "fec69f86",
   "metadata": {
    "slideshow": {
     "slide_type": "skip"
    }
   },
   "outputs": [],
   "source": [
    "from lec_utils import *"
   ]
  },
  {
   "cell_type": "markdown",
   "id": "3143de48",
   "metadata": {
    "slideshow": {
     "slide_type": "slide"
    },
    "tags": []
   },
   "source": [
    "<div class=\"alert alert-info\" markdown=\"1\">\n",
    "\n",
    "#### Discussion 7\n",
    "\n",
    "# Loss Functions and Simple Linear Regression\n",
    "\n",
    "### EECS 398: Practical Data Science, Winter 2025\n",
    "\n",
    "<small><a style=\"text-decoration: none\" href=\"https://practicaldsc.org\">practicaldsc.org</a> • <a style=\"text-decoration: none\" href=\"https://github.com/practicaldsc/wn25\">github.com/practicaldsc/wn25</a> • 📣 See latest announcements [**here on Ed**](https://edstem.org/us/courses/69737/discussion/5943734) </small>\n",
    "    \n",
    "</div>"
   ]
  },
  {
   "cell_type": "markdown",
   "id": "504aee40",
   "metadata": {
    "slideshow": {
     "slide_type": "slide"
    }
   },
   "source": [
    "### Agenda 📆\n",
    "- The modeling recipe 👨‍🍳.\n",
    "- Loss vs. empirical risk.\n",
    "- Worksheet 📝."
   ]
  },
  {
   "cell_type": "markdown",
   "id": "f698cd04-c9e2-4946-8089-a8633456609c",
   "metadata": {
    "slideshow": {
     "slide_type": "slide"
    }
   },
   "source": [
    "### What are models?"
   ]
  },
  {
   "cell_type": "markdown",
   "id": "b6a4127b-c7b6-435b-8c1d-392947492c80",
   "metadata": {
    "slideshow": {
     "slide_type": "fragment"
    }
   },
   "source": [
    "- A model is a set of assumptions about how data was generated. "
   ]
  },
  {
   "cell_type": "markdown",
   "id": "679f20dd-f916-4f5a-9917-7576200f34ee",
   "metadata": {
    "slideshow": {
     "slide_type": "fragment"
    }
   },
   "source": [
    "- When a model fits the data well, it can provide a useful approximation to the world or simply a helpful description of the data. "
   ]
  },
  {
   "cell_type": "markdown",
   "id": "dc1d0d46-40fa-4911-a4ce-69f58a50431c",
   "metadata": {
    "slideshow": {
     "slide_type": "fragment"
    }
   },
   "source": [
    "<center><img src='imgs/constant.png' width='700'></img>\n",
    "</br>\n",
    "<small>For example, this is the constant model, which picks a constant output regardless of the input.</small>\n",
    "</center>\n",
    "\n"
   ]
  },
  {
   "cell_type": "markdown",
   "id": "115ac8ec",
   "metadata": {
    "slideshow": {
     "slide_type": "fragment"
    }
   },
   "source": [
    "- **Million dollar question**: Suppose we choose to build a constant model. Of all possible constant predictions for a particular dataset, which constant prediction do we choose?"
   ]
  },
  {
   "cell_type": "markdown",
   "id": "e0e8bd4f",
   "metadata": {
    "slideshow": {
     "slide_type": "slide"
    }
   },
   "source": [
    "### What is loss? "
   ]
  },
  {
   "cell_type": "markdown",
   "id": "c829ed49",
   "metadata": {
    "slideshow": {
     "slide_type": "fragment"
    }
   },
   "source": [
    "- A loss function measures how \"off\" our model's predictions are for **a single prediction**. If our prediction is totally off, the loss function will output a higher number, whereas if it's good, it will output a lower number.\n"
   ]
  },
  {
   "cell_type": "markdown",
   "id": "4bb35d5b",
   "metadata": {
    "slideshow": {
     "slide_type": "fragment"
    }
   },
   "source": [
    "- One common loss function is the **squared loss function**, which measures the squared error between the true value $y_i$ and our predicted value $H(x_i)$.\n",
    "\n",
    "$$\n",
    "L_\\text{sq}(y_i, H(x_i)) = (y_i - H(x_i))^2\n",
    "$$"
   ]
  },
  {
   "cell_type": "markdown",
   "id": "08e33abe",
   "metadata": {
    "slideshow": {
     "slide_type": "fragment"
    }
   },
   "source": [
    "- For example, if our model estimated a y-value of $10$ on an input of $x = 5$, but the true y-value in our data was $15$ when $x = 5$, then our squared loss function would output $(15-10)^2 = 25$."
   ]
  },
  {
   "cell_type": "markdown",
   "id": "649869d3",
   "metadata": {
    "slideshow": {
     "slide_type": "slide"
    }
   },
   "source": [
    "### Empirical risk"
   ]
  },
  {
   "cell_type": "markdown",
   "id": "1598227b",
   "metadata": {
    "slideshow": {
     "slide_type": "fragment"
    }
   },
   "source": [
    "- Let's consider again the constant model, where our predictions are a fixed value, $h$, that does not depend on the input ($x_i$). That is, we define our model as:\n",
    "\n",
    "$$\n",
    "H(x_i) = h\n",
    "$$"
   ]
  },
  {
   "cell_type": "markdown",
   "id": "0b6d324b",
   "metadata": {
    "slideshow": {
     "slide_type": "fragment"
    }
   },
   "source": [
    "- For a dataset with $n$ data points ${(x_1, y_1), (x_2, y_2), \\dots, (x_n, y_n)}$, the squared **loss** for each point is:\n",
    "\n",
    "$$\n",
    "L_\\text{sq}(y_i, H(x_i)) = (y_i - h)^2\n",
    "$$"
   ]
  },
  {
   "cell_type": "markdown",
   "id": "1a3e9bb0",
   "metadata": {
    "slideshow": {
     "slide_type": "fragment"
    }
   },
   "source": [
    "- The empirical risk function, $R$, averages the loss function to across the **entire dataset**, providing a measure of how accurately our prediction model performs across all data points."
   ]
  },
  {
   "cell_type": "markdown",
   "id": "60c58f45",
   "metadata": {
    "slideshow": {
     "slide_type": "fragment"
    }
   },
   "source": [
    "- In the case of the constant model with squared loss, the empirical risk looks like:\n",
    "\n",
    "$$\n",
    "R_{\\text{sq}}(h) = \\frac{1}{n} \\sum_{i=1}^{n} (y_i - h)^2 = (y_1 - h)^2 + (y_2 - h)^2 + ... + (y_n - h)^2\n",
    "$$\n",
    "\n",
    "<center><small>There are lots of names for $R_\\text{sq}$: average squared loss, mean squared error, empirical risk</small></center>"
   ]
  },
  {
   "cell_type": "markdown",
   "id": "3387271e",
   "metadata": {
    "slideshow": {
     "slide_type": "fragment"
    }
   },
   "source": [
    "- The **optimal model parameters** are the ones that **minimize empirical risk**!"
   ]
  },
  {
   "cell_type": "markdown",
   "id": "20774499",
   "metadata": {
    "slideshow": {
     "slide_type": "fragment"
    }
   },
   "source": [
    "- In lecture, we showed that $h^* = \\text{Mean}(y_1, y_2, ..., y_n)$ minimizes $R_\\text{sq}(h)$.<br>That means the best constant prediction when using squared loss is the mean of the data."
   ]
  },
  {
   "cell_type": "markdown",
   "id": "4bd177e5",
   "metadata": {
    "slideshow": {
     "slide_type": "slide"
    }
   },
   "source": [
    "### Loss vs. empirical risk"
   ]
  },
  {
   "cell_type": "markdown",
   "id": "1357dbc9",
   "metadata": {
    "slideshow": {
     "slide_type": "fragment"
    }
   },
   "source": [
    "- **L**oss measures the quality of a single prediction made by a model.\n",
    "\n",
    "$$L_\\text{sq}(y_i, h) = (y_i - h)^2$$"
   ]
  },
  {
   "cell_type": "markdown",
   "id": "2fba653a",
   "metadata": {
    "slideshow": {
     "slide_type": "fragment"
    }
   },
   "source": [
    "- Empirical **r**isk measures the average quality of all predictions made by a model.\n",
    "\n",
    "$$R_\\text{sq}(h) = \\frac{1}{n} \\sum_{i=1}^n (y_i - h)^2$$"
   ]
  },
  {
   "cell_type": "markdown",
   "id": "27cec0fb",
   "metadata": {
    "slideshow": {
     "slide_type": "fragment"
    }
   },
   "source": [
    "- To find optimal model parameters, we minimize **empirical risk**!"
   ]
  },
  {
   "cell_type": "markdown",
   "id": "25422cca",
   "metadata": {
    "slideshow": {
     "slide_type": "slide"
    }
   },
   "source": [
    "### The modeling recipe"
   ]
  },
  {
   "cell_type": "markdown",
   "id": "21e8219c",
   "metadata": {
    "slideshow": {
     "slide_type": "fragment"
    }
   },
   "source": [
    "1. **Choose a model**.\n",
    "    - Example: Constant model, $H(x_i) = h$.\n",
    "    - Example: Simple linear regression model, $H(x_i) = w_0 + w_1 x_i$."
   ]
  },
  {
   "cell_type": "markdown",
   "id": "d7b61add",
   "metadata": {
    "slideshow": {
     "slide_type": "fragment"
    }
   },
   "source": [
    "2. **Choose a loss function**.\n",
    "    - Example: Squared loss, $L_\\text{sq}(y_i, H(x_i)) = (y_i - H(x_i))^2$.\n",
    "    - Example: Absolute loss, $L_\\text{abs}(y_i, H(x_i)) = | y_i - H(x_i) |$."
   ]
  },
  {
   "cell_type": "markdown",
   "id": "f2054ea6",
   "metadata": {
    "slideshow": {
     "slide_type": "fragment"
    }
   },
   "source": [
    "3. **Minimize average loss to find optimal model parameters**.\n",
    "    - Constant model + squared loss: $h^* = \\text{Mean}(y_1, y_2, ..., y_n)$.\n",
    "    - Constant model + absolute loss: $h^* = \\text{Median}(y_1, y_2, ..., y_n)$.\n",
    "    - Simple linear regression model + squared loss: $w_1^* = r \\frac{\\sigma_y}{\\sigma_x}, w_0^* = \\bar{y} - w_1^* \\bar{x}$."
   ]
  },
  {
   "cell_type": "markdown",
   "id": "fdfac177-ab80-4435-a3e0-8917436d3011",
   "metadata": {
    "slideshow": {
     "slide_type": "slide"
    }
   },
   "source": [
    "## Attendance 🙋"
   ]
  },
  {
   "cell_type": "markdown",
   "id": "796c70bc-6a17-4802-a511-fc32e99fb43a",
   "metadata": {},
   "source": [
    "<center><img src='imgs/disc07.png' width=\"500\"></img></center>"
   ]
  },
  {
   "cell_type": "markdown",
   "id": "4e09ae71",
   "metadata": {
    "slideshow": {
     "slide_type": "slide"
    }
   },
   "source": [
    "## <a href='https://study.practicaldsc.org/disc07/index.html'>Worksheet</a> 📝\n",
    "\n",
    "---"
   ]
  }
 ],
 "metadata": {
  "celltoolbar": "Slideshow",
  "kernelspec": {
   "display_name": "Python 3 (ipykernel)",
   "language": "python",
   "name": "python3"
  },
  "language_info": {
   "codemirror_mode": {
    "name": "ipython",
    "version": 3
   },
   "file_extension": ".py",
   "mimetype": "text/x-python",
   "name": "python",
   "nbconvert_exporter": "python",
   "pygments_lexer": "ipython3",
   "version": "3.10.16"
  },
  "livereveal": {
   "scroll": true
  },
  "rise": {
   "transition": "none"
  }
 },
 "nbformat": 4,
 "nbformat_minor": 5
}
