{
 "cells": [
  {
   "cell_type": "code",
   "execution_count": 1,
   "id": "fec69f86",
   "metadata": {
    "slideshow": {
     "slide_type": "skip"
    }
   },
   "outputs": [],
   "source": [
    "from lec_utils import *"
   ]
  },
  {
   "cell_type": "markdown",
   "id": "3143de48",
   "metadata": {
    "slideshow": {
     "slide_type": "slide"
    },
    "tags": []
   },
   "source": [
    "<div class=\"alert alert-info\" markdown=\"1\">\n",
    "\n",
    "#### Discussion 3\n",
    "\n",
    "# DataFrames and Querying\n",
    "\n",
    "\n",
    "### EECS 398: Practical Data Science, Winter 2025\n",
    "\n",
    "<small><a style=\"text-decoration: none\" href=\"https://practicaldsc.org\">practicaldsc.org</a> • <a style=\"text-decoration: none\" href=\"https://github.com/practicaldsc/wn25\">github.com/practicaldsc/wn25</a> • 📣 See latest announcements [**here on Ed**](https://edstem.org/us/courses/69737/discussion/5943734) </small>\n",
    "    \n",
    "</div>"
   ]
  },
  {
   "cell_type": "markdown",
   "id": "504aee40",
   "metadata": {
    "slideshow": {
     "slide_type": "slide"
    }
   },
   "source": [
    "### Agenda 📆\n",
    "\n",
    "- `value_counts`.\n",
    "- `loc` vs. `iloc`.\n",
    "- Querying 🔍.\n",
    "- Worksheet 📝."
   ]
  },
  {
   "cell_type": "markdown",
   "id": "05e13dd0",
   "metadata": {
    "slideshow": {
     "slide_type": "slide"
    }
   },
   "source": [
    "### Today's Dataset 📲"
   ]
  },
  {
   "cell_type": "markdown",
   "id": "7bde2d85",
   "metadata": {
    "slideshow": {
     "slide_type": "fragment"
    }
   },
   "source": [
    "- Today, we're going to be working with a dataset on Social Media and Entertainment Usage in the USA (maybe rip TikTok?)."
   ]
  },
  {
   "cell_type": "markdown",
   "id": "a6966b70",
   "metadata": {
    "slideshow": {
     "slide_type": "fragment"
    }
   },
   "source": [
    "- A reminder that we can read in a CSV using `pd.read_csv(path)`, where `path` is the dataset's location relative to where your notebook is stored."
   ]
  },
  {
   "cell_type": "markdown",
   "id": "017eaeff",
   "metadata": {
    "slideshow": {
     "slide_type": "fragment"
    }
   },
   "source": [
    "- Let's store our dataset in the `df` variable. "
   ]
  },
  {
   "cell_type": "code",
   "execution_count": null,
   "id": "ccfcea17",
   "metadata": {
    "slideshow": {
     "slide_type": "fragment"
    }
   },
   "outputs": [],
   "source": [
    "df = pd.read_csv('data/social_media_entertainment.csv')\n",
    "df"
   ]
  },
  {
   "cell_type": "markdown",
   "id": "aa11dd04",
   "metadata": {
    "slideshow": {
     "slide_type": "slide"
    }
   },
   "source": [
    "### Choosing an index"
   ]
  },
  {
   "cell_type": "markdown",
   "id": "4bcae2af",
   "metadata": {
    "slideshow": {
     "slide_type": "fragment"
    }
   },
   "source": [
    "- The index of our DataFrame needs to be a **unique** identifier per row."
   ]
  },
  {
   "cell_type": "markdown",
   "id": "37357751",
   "metadata": {
    "slideshow": {
     "slide_type": "fragment"
    }
   },
   "source": [
    "- Here, it makes sense to choose User ID as our index since it takes on a different value per row."
   ]
  },
  {
   "cell_type": "code",
   "execution_count": null,
   "id": "367fa685",
   "metadata": {
    "slideshow": {
     "slide_type": "fragment"
    }
   },
   "outputs": [],
   "source": [
    "print('Original shape: ', df.shape)\n",
    "df = df.set_index('User ID')\n",
    "print('New shape: ', df.shape)"
   ]
  },
  {
   "cell_type": "markdown",
   "id": "63acdb7c",
   "metadata": {
    "slideshow": {
     "slide_type": "fragment"
    }
   },
   "source": [
    "- Observe how now we only have 39 columns instead of 40!"
   ]
  },
  {
   "cell_type": "markdown",
   "id": "7a6213ea",
   "metadata": {
    "slideshow": {
     "slide_type": "slide"
    }
   },
   "source": [
    "### `value_counts` "
   ]
  },
  {
   "cell_type": "markdown",
   "id": "ee286a62",
   "metadata": {
    "slideshow": {
     "slide_type": "fragment"
    }
   },
   "source": [
    "- Each row/column of our DataFrame is a **Series**, a 1D, array-like object."
   ]
  },
  {
   "cell_type": "markdown",
   "id": "8675bae5",
   "metadata": {
    "slideshow": {
     "slide_type": "fragment"
    }
   },
   "source": [
    "- `value_counts` is a **Series method** that returns another Series containing the count of unique values in a specific column or Series."
   ]
  },
  {
   "cell_type": "markdown",
   "id": "7d683d5e",
   "metadata": {
    "slideshow": {
     "slide_type": "fragment"
    }
   },
   "source": [
    "- In other words, it describes the **distribution** of the unique values within a certain column."
   ]
  },
  {
   "cell_type": "code",
   "execution_count": null,
   "id": "bf7330d4",
   "metadata": {
    "slideshow": {
     "slide_type": "fragment"
    }
   },
   "outputs": [],
   "source": [
    "s = df['Preferred Entertainment Platform']\n",
    "s"
   ]
  },
  {
   "cell_type": "code",
   "execution_count": null,
   "id": "6ab45300",
   "metadata": {
    "slideshow": {
     "slide_type": "fragment"
    }
   },
   "outputs": [],
   "source": [
    "# What is the distribution of Preferred Entertainment Platforms?\n",
    "df['Preferred Entertainment Platform'].value_counts(normalize=True)"
   ]
  },
  {
   "cell_type": "code",
   "execution_count": null,
   "id": "ca5e3077",
   "metadata": {
    "slideshow": {
     "slide_type": "fragment"
    }
   },
   "outputs": [],
   "source": [
    "# Which entertainment platform is used the most?\n",
    "df['Preferred Entertainment Platform'].value_counts().idxmax()"
   ]
  },
  {
   "cell_type": "code",
   "execution_count": null,
   "id": "26652072",
   "metadata": {
    "slideshow": {
     "slide_type": "fragment"
    }
   },
   "outputs": [],
   "source": [
    "# How many users prefer the leading entertainment platform? \n",
    "df['Preferred Entertainment Platform'].value_counts().max()"
   ]
  },
  {
   "cell_type": "code",
   "execution_count": null,
   "id": "4ee41c27",
   "metadata": {
    "slideshow": {
     "slide_type": "fragment"
    }
   },
   "outputs": [],
   "source": [
    "# How many prefer the least popular entertainment platform?\n",
    "df['Preferred Entertainment Platform'].value_counts().min()"
   ]
  },
  {
   "cell_type": "markdown",
   "id": "41e025d1",
   "metadata": {
    "slideshow": {
     "slide_type": "slide"
    }
   },
   "source": [
    "### `loc` vs. `iloc` "
   ]
  },
  {
   "cell_type": "markdown",
   "id": "4363f343",
   "metadata": {
    "slideshow": {
     "slide_type": "fragment"
    }
   },
   "source": [
    "- `iloc` stands for \"integer-location\"."
   ]
  },
  {
   "cell_type": "markdown",
   "id": "caeaa899",
   "metadata": {
    "slideshow": {
     "slide_type": "fragment"
    }
   },
   "source": [
    "- You use it to select data by ***integer*** position (i.e., row and column numbers)."
   ]
  },
  {
   "cell_type": "markdown",
   "id": "4cf17856",
   "metadata": {
    "slideshow": {
     "slide_type": "fragment"
    }
   },
   "source": [
    "- `iloc` uses zero-based indexing, just like 2D arrays!"
   ]
  },
  {
   "cell_type": "code",
   "execution_count": null,
   "id": "c3ad659e",
   "metadata": {
    "slideshow": {
     "slide_type": "fragment"
    }
   },
   "outputs": [],
   "source": [
    "# Select rows 1-6 in our DataFrame along with columns 3-8\n",
    "df.iloc[1:7, 3:9]"
   ]
  },
  {
   "cell_type": "markdown",
   "id": "ac498af3",
   "metadata": {
    "slideshow": {
     "slide_type": "fragment"
    }
   },
   "source": [
    "- `loc` stands for \"location\" and allows for **label-based** indexing."
   ]
  },
  {
   "cell_type": "markdown",
   "id": "13c2c9f5",
   "metadata": {
    "slideshow": {
     "slide_type": "fragment"
    }
   },
   "source": [
    "- The `loc` indexer works similarly to slicing 2D arrays, but it uses **row and column labels** instead, not positions.<br><small>Remember, the \"index\" refers to the row labels.</small>"
   ]
  },
  {
   "cell_type": "code",
   "execution_count": null,
   "id": "daa1c917",
   "metadata": {
    "slideshow": {
     "slide_type": "fragment"
    }
   },
   "outputs": [],
   "source": [
    "# Show the Sleep Quality for user with id 3\n",
    "df.loc[3, 'Sleep Quality (scale 1-10)']"
   ]
  },
  {
   "cell_type": "markdown",
   "id": "d2e157df",
   "metadata": {
    "slideshow": {
     "slide_type": "slide"
    }
   },
   "source": [
    "### Example: Daily Social Media Usage 📱"
   ]
  },
  {
   "cell_type": "markdown",
   "id": "8723f124",
   "metadata": {
    "slideshow": {
     "slide_type": "fragment"
    }
   },
   "source": [
    "- Let's take a closer look at how `loc` and `iloc` work by examining the `'Daily Social Media Time (hrs)'` column."
   ]
  },
  {
   "cell_type": "code",
   "execution_count": null,
   "id": "f66dbdb7",
   "metadata": {
    "slideshow": {
     "slide_type": "fragment"
    }
   },
   "outputs": [],
   "source": [
    "s = df['Daily Social Media Time (hrs)']\n",
    "s"
   ]
  },
  {
   "cell_type": "markdown",
   "id": "058ebc49",
   "metadata": {
    "slideshow": {
     "slide_type": "fragment"
    }
   },
   "source": [
    "- Note that `s` is a Series object!"
   ]
  },
  {
   "cell_type": "code",
   "execution_count": null,
   "id": "7a227937",
   "metadata": {
    "slideshow": {
     "slide_type": "fragment"
    }
   },
   "outputs": [],
   "source": [
    "type(s)"
   ]
  },
  {
   "cell_type": "code",
   "execution_count": null,
   "id": "4ca2cb53",
   "metadata": {
    "slideshow": {
     "slide_type": "fragment"
    }
   },
   "outputs": [],
   "source": [
    "# What is the daily social media time (in hours) of user with ID 3?\n",
    "s.loc[3]"
   ]
  },
  {
   "cell_type": "code",
   "execution_count": null,
   "id": "af6fa44e",
   "metadata": {
    "slideshow": {
     "slide_type": "fragment"
    }
   },
   "outputs": [],
   "source": [
    "# What is the daily social media time (in hours) of the user in row 3 (zero-indexed)?\n",
    "s.iloc[3]"
   ]
  },
  {
   "cell_type": "markdown",
   "id": "0bc86a0d",
   "metadata": {
    "slideshow": {
     "slide_type": "fragment"
    }
   },
   "source": [
    "- Indeed, we can verify that this is the case!"
   ]
  },
  {
   "cell_type": "code",
   "execution_count": null,
   "id": "f172a417",
   "metadata": {
    "slideshow": {
     "slide_type": "fragment"
    }
   },
   "outputs": [],
   "source": [
    "s.head(4)"
   ]
  },
  {
   "cell_type": "markdown",
   "id": "a45ec6fa",
   "metadata": {
    "slideshow": {
     "slide_type": "fragment"
    }
   },
   "source": [
    "- Notice that `loc` allows us to directly extract information about a user if we know their user ID, which is our DataFrame's index."
   ]
  },
  {
   "cell_type": "markdown",
   "id": "a32416ff",
   "metadata": {
    "slideshow": {
     "slide_type": "fragment"
    }
   },
   "source": [
    "- If we don't know their user ID, we can instead sort the values in our series and use `iloc`!"
   ]
  },
  {
   "cell_type": "markdown",
   "id": "c8715f64",
   "metadata": {
    "slideshow": {
     "slide_type": "fragment"
    }
   },
   "source": [
    "- In general, because `iloc` relies on hard-coded integers to access values, it is most useful to us when we know *exactly* where certain values lie in our data. "
   ]
  },
  {
   "cell_type": "markdown",
   "id": "da9f5a5a",
   "metadata": {
    "slideshow": {
     "slide_type": "fragment"
    }
   },
   "source": [
    "- So... always use it after sorting!"
   ]
  },
  {
   "cell_type": "code",
   "execution_count": null,
   "id": "0295db8c",
   "metadata": {
    "slideshow": {
     "slide_type": "fragment"
    }
   },
   "outputs": [],
   "source": [
    "# What is the highest social media usage time?\n",
    "s.sort_values(ascending=False).iloc[0]"
   ]
  },
  {
   "cell_type": "markdown",
   "id": "6c60d033",
   "metadata": {
    "slideshow": {
     "slide_type": "fragment"
    }
   },
   "source": [
    "- We use `iloc` instead of `loc` here because we don't know the User ID of the user with the highest social media time."
   ]
  },
  {
   "cell_type": "markdown",
   "id": "fe686622",
   "metadata": {
    "slideshow": {
     "slide_type": "slide"
    }
   },
   "source": [
    "### Using `loc` and `iloc` on a DataFrame"
   ]
  },
  {
   "cell_type": "markdown",
   "id": "7b3cdad3",
   "metadata": {
    "slideshow": {
     "slide_type": "fragment"
    }
   },
   "source": [
    "- Recall that you can provide a sequence (list, array, Series) as either argument to `loc`:"
   ]
  },
  {
   "cell_type": "code",
   "execution_count": null,
   "id": "fce3b524",
   "metadata": {
    "slideshow": {
     "slide_type": "fragment"
    }
   },
   "outputs": [],
   "source": [
    "# The first argument is the row label, i.e. the index value.\n",
    "#        ↓\n",
    "df.loc[3, 'Daily Social Media Time (hrs)']\n",
    "#                  ↑\n",
    "# The second argument is the column label."
   ]
  },
  {
   "cell_type": "code",
   "execution_count": null,
   "id": "df601ee4",
   "metadata": {
    "slideshow": {
     "slide_type": "fragment"
    }
   },
   "outputs": [],
   "source": [
    "df.loc[[3, 8, 24, 25], ['Primary Platform', 'Daily Social Media Time (hrs)']]"
   ]
  },
  {
   "cell_type": "markdown",
   "id": "209d2b76",
   "metadata": {
    "slideshow": {
     "slide_type": "subslide"
    }
   },
   "source": [
    "- With `iloc`, you can provide a range of values for both the row and column."
   ]
  },
  {
   "cell_type": "code",
   "execution_count": null,
   "id": "3f8209ff",
   "metadata": {
    "slideshow": {
     "slide_type": "fragment"
    }
   },
   "outputs": [],
   "source": [
    "df.iloc[:6, :8]"
   ]
  },
  {
   "cell_type": "code",
   "execution_count": null,
   "id": "6c24e744",
   "metadata": {
    "slideshow": {
     "slide_type": "fragment"
    }
   },
   "outputs": [],
   "source": [
    "# Find the age of user with highest daily messaging time.\n",
    "# Our DataFrame has a column called 'Daily Messaging Time (hrs)' and 'Age'.\n",
    "df.sort_values('Daily Messaging Time (hrs)', ascending=False)['Age'].iloc[0]"
   ]
  },
  {
   "cell_type": "markdown",
   "id": "73a63264",
   "metadata": {
    "slideshow": {
     "slide_type": "slide"
    }
   },
   "source": [
    "### Querying 🔍"
   ]
  },
  {
   "cell_type": "markdown",
   "id": "3871e9f6",
   "metadata": {
    "slideshow": {
     "slide_type": "fragment"
    }
   },
   "source": [
    "- We use querying to extract rows in our DataFrame that satisfies certain ***conditions***."
   ]
  },
  {
   "cell_type": "markdown",
   "id": "211ff700",
   "metadata": {
    "slideshow": {
     "slide_type": "fragment"
    }
   },
   "source": [
    "- Boolean statements are particularly useful!"
   ]
  },
  {
   "cell_type": "code",
   "execution_count": null,
   "id": "778bc916",
   "metadata": {
    "slideshow": {
     "slide_type": "fragment"
    }
   },
   "outputs": [],
   "source": [
    "df['Primary Platform'] == 'TikTok'"
   ]
  },
  {
   "cell_type": "markdown",
   "id": "e8657dcf",
   "metadata": {
    "slideshow": {
     "slide_type": "fragment"
    }
   },
   "source": [
    "- Combining these with `loc` allows us to select the rows we're looking for."
   ]
  },
  {
   "cell_type": "code",
   "execution_count": null,
   "id": "e2ead374",
   "metadata": {
    "slideshow": {
     "slide_type": "fragment"
    }
   },
   "outputs": [],
   "source": [
    "df.loc[df['Primary Platform'] == 'TikTok']"
   ]
  },
  {
   "cell_type": "markdown",
   "id": "c58bd54e",
   "metadata": {
    "slideshow": {
     "slide_type": "fragment"
    }
   },
   "source": [
    "- You can also include multiple conditions to query for! Use Boolean operators `&` or `|` to separate them."
   ]
  },
  {
   "cell_type": "code",
   "execution_count": null,
   "id": "90f89668",
   "metadata": {},
   "outputs": [],
   "source": [
    "df.loc[(df['Primary Platform'] == 'TikTok') & (df['Daily Social Media Time (hrs)'] > 3.0)]"
   ]
  },
  {
   "cell_type": "code",
   "execution_count": null,
   "id": "d023354c",
   "metadata": {
    "slideshow": {
     "slide_type": "fragment"
    }
   },
   "outputs": [],
   "source": [
    "# How many users use TikTok as their primary platform?\n",
    "df.loc[(df['Primary Platform'] == 'TikTok')].shape[0]"
   ]
  },
  {
   "cell_type": "code",
   "execution_count": null,
   "id": "c3d444d7",
   "metadata": {
    "slideshow": {
     "slide_type": "fragment"
    }
   },
   "outputs": [],
   "source": [
    "# Among users who use TikTok as their primary platform, what is the highest Daily Social Media Time?\n",
    "df.loc[df['Primary Platform'] == 'TikTok', 'Daily Social Media Time (hrs)'].sort_values(ascending=False).iloc[0]"
   ]
  },
  {
   "cell_type": "code",
   "execution_count": null,
   "id": "3d900f18",
   "metadata": {
    "slideshow": {
     "slide_type": "fragment"
    }
   },
   "outputs": [],
   "source": [
    "# Which gender prefers to use Spotify the most?\n",
    "# Our DataFrame has a column called 'Preferred Entertainment Platform'.\n",
    "df.loc[df['Preferred Entertainment Platform'] == 'Spotify', 'Gender'].value_counts().idxmax()"
   ]
  }
 ],
 "metadata": {
  "celltoolbar": "Slideshow",
  "kernelspec": {
   "display_name": "pds",
   "language": "python",
   "name": "python3"
  },
  "language_info": {
   "codemirror_mode": {
    "name": "ipython",
    "version": 3
   },
   "file_extension": ".py",
   "mimetype": "text/x-python",
   "name": "python",
   "nbconvert_exporter": "python",
   "pygments_lexer": "ipython3",
   "version": "3.10.16"
  },
  "livereveal": {
   "scroll": true
  },
  "rise": {
   "transition": "none"
  }
 },
 "nbformat": 4,
 "nbformat_minor": 5
}
