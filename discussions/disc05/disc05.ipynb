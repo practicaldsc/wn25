{
 "cells": [
  {
   "cell_type": "code",
   "execution_count": null,
   "id": "fec69f86",
   "metadata": {
    "slideshow": {
     "slide_type": "skip"
    }
   },
   "outputs": [],
   "source": [
    "from lec_utils import *"
   ]
  },
  {
   "cell_type": "markdown",
   "id": "3143de48",
   "metadata": {
    "slideshow": {
     "slide_type": "slide"
    },
    "tags": []
   },
   "source": [
    "<div class=\"alert alert-info\" markdown=\"1\">\n",
    "\n",
    "#### Discussion 5\n",
    "\n",
    "# Visualization, Imputation, and Web Scraping\n",
    "\n",
    "\n",
    "### EECS 398: Practical Data Science, Winter 2025\n",
    "\n",
    "<small><a style=\"text-decoration: none\" href=\"https://practicaldsc.org\">practicaldsc.org</a> • <a style=\"text-decoration: none\" href=\"https://github.com/practicaldsc/wn25\">github.com/practicaldsc/wn25</a> • 📣 See latest announcements [**here on Ed**](https://edstem.org/us/courses/69737/discussion/5943734) </small>\n",
    "    \n",
    "</div>"
   ]
  },
  {
   "cell_type": "markdown",
   "id": "504aee40",
   "metadata": {
    "jp-MarkdownHeadingCollapsed": true,
    "slideshow": {
     "slide_type": "slide"
    }
   },
   "source": [
    "### Agenda 📆\n",
    "\n",
    "- Web Scraping using `BeautifulSoup`.\n",
    "- Worksheet 📝.\n",
    "    - Visualizing Data\n",
    "    - Imputing Missing Values"
   ]
  },
  {
   "cell_type": "markdown",
   "id": "5d670621-f77c-44be-a581-119a8e852c6d",
   "metadata": {
    "slideshow": {
     "slide_type": "slide"
    }
   },
   "source": [
    "## Example: Scraping the Happening @ Michigan page\n",
    "\n",
    "---"
   ]
  },
  {
   "cell_type": "markdown",
   "id": "19bac1a2-a43f-420a-9ba8-59bae3af971c",
   "metadata": {
    "slideshow": {
     "slide_type": "slide"
    }
   },
   "source": [
    "### Example: Scraping the Happening @ Michigan page"
   ]
  },
  {
   "cell_type": "markdown",
   "id": "afc3582d-c627-4fba-bc66-6ff8188cc532",
   "metadata": {
    "slideshow": {
     "slide_type": "fragment"
    }
   },
   "source": [
    "- Our goal in today's discussion lecture is to create a DataFrame with the information about each event at [events.umich.edu](https://events.umich.edu)."
   ]
  },
  {
   "cell_type": "code",
   "execution_count": null,
   "id": "e9b0dc6c-6b15-4349-a501-97eceb73166a",
   "metadata": {},
   "outputs": [],
   "source": [
    "res = requests.get('https://events.umich.edu')\n",
    "res"
   ]
  },
  {
   "cell_type": "code",
   "execution_count": null,
   "id": "4174d21f-c796-43ae-a136-c7bf108c7366",
   "metadata": {},
   "outputs": [],
   "source": [
    "soup = BeautifulSoup(res.text)"
   ]
  },
  {
   "cell_type": "markdown",
   "id": "ffaef7ab-a6e9-47ef-918b-47029560aed0",
   "metadata": {
    "slideshow": {
     "slide_type": "fragment"
    }
   },
   "source": [
    "- Let's start by opening the page in Chrome, right clicking on the page, and clicking \"Inspect\".<br><small>As we can see, the HTML is relatively complicated – this is usually the case for real websites!</small>"
   ]
  },
  {
   "cell_type": "markdown",
   "id": "29a29385-b6bb-463a-87b7-f2de6d583c48",
   "metadata": {
    "slideshow": {
     "slide_type": "slide"
    }
   },
   "source": [
    "### Identifying `<div>`s"
   ]
  },
  {
   "cell_type": "markdown",
   "id": "c0e4291e-a520-42e6-8321-40f5c0c65445",
   "metadata": {
    "slideshow": {
     "slide_type": "fragment"
    }
   },
   "source": [
    "- It's not easy identifying which `<div>`s we want. The Inspect tool makes this easier, but it's good to verify that `find_all` is finding the right number of elements."
   ]
  },
  {
   "cell_type": "code",
   "execution_count": null,
   "id": "0cff9d4c-511d-4a66-9045-d5ac480a1653",
   "metadata": {
    "slideshow": {
     "slide_type": "-"
    }
   },
   "outputs": [],
   "source": [
    "divs = soup.find_all(class_='col-xs-12')"
   ]
  },
  {
   "cell_type": "code",
   "execution_count": null,
   "id": "d4be0f22-2ac4-42c4-a180-abe2bc3fc879",
   "metadata": {},
   "outputs": [],
   "source": [
    "len(divs)"
   ]
  },
  {
   "cell_type": "markdown",
   "id": "04786e85-0df0-4b84-868f-b056a91ac2a6",
   "metadata": {
    "slideshow": {
     "slide_type": "fragment"
    }
   },
   "source": [
    "- Again, let's deal with one `<div>` at a time. First, we should extract the title of the event."
   ]
  },
  {
   "cell_type": "code",
   "execution_count": null,
   "id": "97f999be-ccc3-42c6-9b81-72f4b07559dd",
   "metadata": {},
   "outputs": [],
   "source": [
    "divs[0]"
   ]
  },
  {
   "cell_type": "code",
   "execution_count": null,
   "id": "184f714e-0e0d-45be-af97-92b82c76a356",
   "metadata": {},
   "outputs": [],
   "source": [
    "divs[0].find('div', class_='event-title').find('a').get('title')"
   ]
  },
  {
   "cell_type": "markdown",
   "id": "9a351239-a8fe-4260-99d8-9bed76662473",
   "metadata": {
    "slideshow": {
     "slide_type": "fragment"
    }
   },
   "source": [
    "- The time and location, too."
   ]
  },
  {
   "cell_type": "code",
   "execution_count": null,
   "id": "52b29c04-fc5e-41f1-b0f1-5cf0e8558f3f",
   "metadata": {},
   "outputs": [],
   "source": [
    "divs[0].find('time').get('datetime')"
   ]
  },
  {
   "cell_type": "code",
   "execution_count": null,
   "id": "82ebbf88-74d8-45a6-a601-5c1260f9d62e",
   "metadata": {},
   "outputs": [],
   "source": [
    "divs[0].find('ul').find('a').get('title')"
   ]
  },
  {
   "cell_type": "markdown",
   "id": "0c2c23a7-35bc-4140-a1b6-d8618afb37a4",
   "metadata": {
    "slideshow": {
     "slide_type": "slide"
    }
   },
   "source": [
    "### Parsing a single event, and then every event"
   ]
  },
  {
   "cell_type": "markdown",
   "id": "cf4020df-a87f-4d6d-9eb2-21ac99bf9c1a",
   "metadata": {
    "slideshow": {
     "slide_type": "fragment"
    }
   },
   "source": [
    "- As before, we'll implement a function that takes in a BeautifulSoup object corresponding to a single `<div>` and returns a dictionary with the relevant information about that event."
   ]
  },
  {
   "cell_type": "code",
   "execution_count": null,
   "id": "89c9d533-bc34-48f9-ba18-221eb19e5827",
   "metadata": {},
   "outputs": [],
   "source": [
    "def process_event(div):\n",
    "    title = div.find('div', class_='event-title').find('a').get('title')\n",
    "    location = div.find('ul').find('a').get('title')\n",
    "    time = pd.to_datetime(div.find('time').get('datetime')) # Good idea!\n",
    "    return {'title': title, 'time': time, 'location': location}"
   ]
  },
  {
   "cell_type": "code",
   "execution_count": null,
   "id": "0c00fb9d-aeb2-4cac-a31f-1e80aa31470e",
   "metadata": {},
   "outputs": [],
   "source": [
    "process_event(divs[12])"
   ]
  },
  {
   "cell_type": "markdown",
   "id": "c63759ec-4e22-4e81-bdae-071053e5a104",
   "metadata": {
    "slideshow": {
     "slide_type": "fragment"
    }
   },
   "source": [
    "- Now, we can call it on every `<div>` in `divs`.<br><small>Remember, we already ran `divs = soup.find_all(class_='col-xs-12')`.</small>"
   ]
  },
  {
   "cell_type": "code",
   "execution_count": null,
   "id": "f776980f-6837-4880-a28b-0a5ceea5ee97",
   "metadata": {},
   "outputs": [],
   "source": [
    "row_list = []\n",
    "for div in divs:\n",
    "    try:\n",
    "        row_list.append(process_event(div))\n",
    "    except Exception as e:\n",
    "        print(e)"
   ]
  },
  {
   "cell_type": "code",
   "execution_count": null,
   "id": "975a9196-db83-44bb-a1f2-b00a8c1f65e5",
   "metadata": {},
   "outputs": [],
   "source": [
    "events = pd.DataFrame(row_list)\n",
    "events.head()"
   ]
  },
  {
   "cell_type": "markdown",
   "id": "4cd9e119-6431-44bc-9a45-1fcee2c1873c",
   "metadata": {
    "slideshow": {
     "slide_type": "fragment"
    }
   },
   "source": [
    "- Now, `events` is a DataFrame, like any other!"
   ]
  },
  {
   "cell_type": "code",
   "execution_count": null,
   "id": "b647356a-9df7-4071-8003-6e4bd0af737b",
   "metadata": {},
   "outputs": [],
   "source": [
    "# Which events are in-person today?\n",
    "events[~events['location'].isin(['Virtual', ''])]"
   ]
  },
  {
   "cell_type": "markdown",
   "id": "4e09ae71",
   "metadata": {
    "slideshow": {
     "slide_type": "slide"
    }
   },
   "source": [
    "<h2><a href=\"https://study.practicaldsc.org/disc05/\">Worksheet</a> 📝</h2>\n",
    "\n",
    "---"
   ]
  },
  {
   "cell_type": "code",
   "execution_count": null,
   "id": "b1bfa93f",
   "metadata": {},
   "outputs": [],
   "source": []
  }
 ],
 "metadata": {
  "celltoolbar": "Slideshow",
  "kernelspec": {
   "display_name": "Python 3 (ipykernel)",
   "language": "python",
   "name": "python3"
  },
  "language_info": {
   "codemirror_mode": {
    "name": "ipython",
    "version": 3
   },
   "file_extension": ".py",
   "mimetype": "text/x-python",
   "name": "python",
   "nbconvert_exporter": "python",
   "pygments_lexer": "ipython3",
   "version": "3.10.16"
  },
  "livereveal": {
   "scroll": true
  },
  "rise": {
   "transition": "none"
  }
 },
 "nbformat": 4,
 "nbformat_minor": 5
}
