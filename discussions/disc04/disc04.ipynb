{
 "cells": [
  {
   "cell_type": "code",
   "execution_count": null,
   "id": "fec69f86",
   "metadata": {
    "slideshow": {
     "slide_type": "skip"
    }
   },
   "outputs": [],
   "source": [
    "from lec_utils import *"
   ]
  },
  {
   "cell_type": "markdown",
   "id": "3143de48",
   "metadata": {
    "slideshow": {
     "slide_type": "slide"
    },
    "tags": []
   },
   "source": [
    "<div class=\"alert alert-info\" markdown=\"1\">\n",
    "\n",
    "#### Discussion 4\n",
    "\n",
    "# Grouping, Pivoting, and Merging\n",
    "\n",
    "\n",
    "### EECS 398: Practical Data Science, Winter 2025\n",
    "\n",
    "<small><a style=\"text-decoration: none\" href=\"https://practicaldsc.org\">practicaldsc.org</a> • <a style=\"text-decoration: none\" href=\"https://github.com/practicaldsc/wn25\">github.com/practicaldsc/wn25</a> • 📣 See latest announcements [**here on Ed**](https://edstem.org/us/courses/69737/discussion/5943734) </small>\n",
    "    \n",
    "</div>"
   ]
  },
  {
   "cell_type": "markdown",
   "id": "504aee40",
   "metadata": {
    "slideshow": {
     "slide_type": "slide"
    }
   },
   "source": [
    "### Agenda 📆\n",
    "\n",
    "- The `groupby` method.\n",
    "- Pivot tables.\n",
    "- `merge` and types of merges.\n",
    "- Worksheet 📝."
   ]
  },
  {
   "cell_type": "markdown",
   "id": "05e13dd0",
   "metadata": {
    "slideshow": {
     "slide_type": "slide"
    }
   },
   "source": [
    "### Today's Dataset 🏈〽️"
   ]
  },
  {
   "cell_type": "markdown",
   "id": "7bde2d85",
   "metadata": {
    "slideshow": {
     "slide_type": "fragment"
    }
   },
   "source": [
    "- Today, we're going to be working with a dataset on the past 100 years of Michigan Football.<br><small>**Source**: www.mgoblue.com.</small>"
   ]
  },
  {
   "cell_type": "markdown",
   "id": "017eaeff",
   "metadata": {
    "slideshow": {
     "slide_type": "fragment"
    }
   },
   "source": [
    "- Like last week, let's store our dataset in the `df` variable. "
   ]
  },
  {
   "cell_type": "code",
   "execution_count": null,
   "id": "ccfcea17",
   "metadata": {
    "slideshow": {
     "slide_type": "fragment"
    }
   },
   "outputs": [],
   "source": [
    "df = pd.read_csv('data/michigan_football.csv')\n",
    "df"
   ]
  },
  {
   "cell_type": "code",
   "execution_count": null,
   "id": "c3ddcd0e-4e05-4622-ab26-fb4c279e4080",
   "metadata": {},
   "outputs": [],
   "source": [
    "df.columns"
   ]
  },
  {
   "cell_type": "markdown",
   "id": "aa11dd04",
   "metadata": {
    "slideshow": {
     "slide_type": "slide"
    }
   },
   "source": [
    "### Read the DataFrame internals guide!"
   ]
  },
  {
   "cell_type": "markdown",
   "id": "db182b33",
   "metadata": {
    "slideshow": {
     "slide_type": "fragment"
    }
   },
   "source": [
    "- We've posted a guide, [**DataFrame Internals**](https://practicaldsc.org/guides/data-wrangling/df-internals/), that you should read."
   ]
  },
  {
   "cell_type": "markdown",
   "id": "b218d555",
   "metadata": {
    "slideshow": {
     "slide_type": "fragment"
    }
   },
   "source": [
    "- It covers various topics, like:\n",
    "    - How to add columns to DataFrames without side effects.\n",
    "    - How to write functions that manipulate DataFrames without side effects.\n",
    "    - How to use Series methods, like `mean` and `describe`, on DataFrames.\n",
    "    \n",
    "    <br>\n",
    "    \n",
    "    and more!"
   ]
  },
  {
   "cell_type": "markdown",
   "id": "7a6213ea",
   "metadata": {
    "slideshow": {
     "slide_type": "slide"
    }
   },
   "source": [
    "### The `groupby` method"
   ]
  },
  {
   "cell_type": "markdown",
   "id": "6d2e085d",
   "metadata": {
    "slideshow": {
     "slide_type": "fragment"
    }
   },
   "source": [
    "- **Key idea**: If the information we want involves performing some operation separately **for each group**, we use `groupby`."
   ]
  },
  {
   "cell_type": "markdown",
   "id": "ee286a62",
   "metadata": {
    "slideshow": {
     "slide_type": "fragment"
    }
   },
   "source": [
    "- For instance, if we want to find the average number of points Michigan scored **each year**, we use `groupby('year')`."
   ]
  },
  {
   "cell_type": "code",
   "execution_count": null,
   "id": "737d682e-85f0-4a1f-a56e-303d26a81e05",
   "metadata": {},
   "outputs": [],
   "source": [
    "df.groupby('year')['UM_score'].mean()"
   ]
  },
  {
   "cell_type": "markdown",
   "id": "f414bf10-a13d-41a1-b10d-03bda9424313",
   "metadata": {
    "slideshow": {
     "slide_type": "fragment"
    }
   },
   "source": [
    "- <code style=\"background: none\"><strong><span style=\"color: #0066cc\">df.groupby('year')</span></strong><span style=\"color: #999\">['UM_score'].mean()</span></code><br><small>First, we need to tell `pandas` which column we want to group by. Since we're grouping by `'year'`, the remainder of the calculations will be done separately for each `'year'`.</small>"
   ]
  },
  {
   "cell_type": "markdown",
   "id": "a31daf17-962f-451e-a765-61ac536f600c",
   "metadata": {
    "slideshow": {
     "slide_type": "fragment"
    }
   },
   "source": [
    "- <code style=\"background: none\"><span style=\"color: #999\">df.groupby('year')</span><strong><span style=\"color: #0066cc\">['UM_score']</span></strong><span style=\"color: #999\">.mean()</span></code><br><small>Then, select the other column(s) that you want to aggregate. Here, we want to calculate the mean `'UM Score'`, so that's what we select.</span></small>"
   ]
  },
  {
   "cell_type": "markdown",
   "id": "a0f0f465-bb46-4d36-a941-d322d2ce8dea",
   "metadata": {
    "slideshow": {
     "slide_type": "fragment"
    }
   },
   "source": [
    "- <code style=\"background: none\"><span style=\"color: #999\">df.groupby('year')['UM_score']</span><strong><span style=\"color: #0066cc\">.mean()</span></strong></code><br><small>Finally, we use an aggregation method. This is saying, for each `'year'`, compute the mean `'UM Score'`.</small>"
   ]
  },
  {
   "cell_type": "markdown",
   "id": "b5119e0d-0146-4305-8bc4-c687af10e33a",
   "metadata": {
    "slideshow": {
     "slide_type": "skip"
    }
   },
   "source": [
    "<div class=\"alert alert-danger\">\n",
    "    \n",
    "#### Reference Slide\n",
    "\n",
    "### The split, apply, combine process\n",
    "</div>"
   ]
  },
  {
   "cell_type": "markdown",
   "id": "c65b8417-9b79-4dd1-ac98-823988aadad7",
   "metadata": {
    "slideshow": {
     "slide_type": "skip"
    }
   },
   "source": [
    "- Under the hood, `groupby` follows 3 steps: **split**, **apply**, and **combine**."
   ]
  },
  {
   "cell_type": "markdown",
   "id": "d5262436-3290-4368-a102-dde095e2a462",
   "metadata": {
    "slideshow": {
     "slide_type": "skip"
    }
   },
   "source": [
    "- We start by **splitting** rows into distinct groups.<br>When we use `df.groupby('year')`, the groups are created by separating rows based on `'year'` values."
   ]
  },
  {
   "cell_type": "code",
   "execution_count": null,
   "id": "4973553a-0141-4fcf-afbd-d223878d7325",
   "metadata": {
    "slideshow": {
     "slide_type": "skip"
    }
   },
   "outputs": [],
   "source": [
    "# The 2024 group and 2023 group.\n",
    "# df.groupby('year') will create separate groups for each 'year.'\n",
    "group_2024 = df.loc[df['year'] == 2024]\n",
    "group_2023 = df.loc[df['year'] == 2023]\n",
    "dfs_side_by_side(group_2024.head(), group_2023.head())"
   ]
  },
  {
   "cell_type": "markdown",
   "id": "45ad5ef3-9859-4d77-a4b4-022c84d800e6",
   "metadata": {
    "slideshow": {
     "slide_type": "skip"
    }
   },
   "source": [
    "- Then, we **apply** the operation to each group, individually."
   ]
  },
  {
   "cell_type": "code",
   "execution_count": null,
   "id": "93452e34-a3df-46df-bd97-e72f670a018e",
   "metadata": {
    "slideshow": {
     "slide_type": "skip"
    }
   },
   "outputs": [],
   "source": [
    "print(\"2024 result:\", group_2024['UM_score'].mean())\n",
    "print(\"2023 result:\", group_2023['UM_score'].mean())\n",
    "print(\"and so on...\")"
   ]
  },
  {
   "cell_type": "markdown",
   "id": "e1f2bac1-239c-4810-a466-cf6bfdadeb3f",
   "metadata": {
    "slideshow": {
     "slide_type": "skip"
    }
   },
   "source": [
    "- Finally, we **combine** the results of the operation on each group into a single Series or DataFrame (depending on the operation)."
   ]
  },
  {
   "cell_type": "code",
   "execution_count": null,
   "id": "045a10f6-52c4-4004-86f7-b7bb764f9f54",
   "metadata": {
    "slideshow": {
     "slide_type": "skip"
    }
   },
   "outputs": [],
   "source": [
    "df.groupby('year')['UM_score'].mean().sort_index(ascending=False)"
   ]
  },
  {
   "cell_type": "markdown",
   "id": "fefefe0a",
   "metadata": {
    "slideshow": {
     "slide_type": "skip"
    }
   },
   "source": [
    "- In the expression below, `mean` is an **aggregation method**.<br>It takes many `'UM_score'` values for a particular `'year'` and combines them into a single value."
   ]
  },
  {
   "cell_type": "markdown",
   "id": "d2e157df",
   "metadata": {
    "slideshow": {
     "slide_type": "skip"
    }
   },
   "source": [
    "<div class=\"alert alert-danger\">\n",
    "    \n",
    "#### Reference Slide\n",
    "\n",
    "### Aggregating\n",
    "</div>"
   ]
  },
  {
   "cell_type": "code",
   "execution_count": null,
   "id": "ee52fbde",
   "metadata": {
    "slideshow": {
     "slide_type": "skip"
    }
   },
   "outputs": [],
   "source": [
    "df.groupby('year')['UM_score'].mean()"
   ]
  },
  {
   "cell_type": "markdown",
   "id": "bef71797",
   "metadata": {
    "slideshow": {
     "slide_type": "skip"
    }
   },
   "source": [
    "- Sometimes, we want to perform:\n",
    "    - An aggregation that doesn't have a built-in implementation.\n",
    "    - Different aggregation methods on different columns."
   ]
  },
  {
   "cell_type": "markdown",
   "id": "8723f124",
   "metadata": {
    "slideshow": {
     "slide_type": "skip"
    }
   },
   "source": [
    "- The `aggregate` method, or `agg` for short, is the general-purpose tool for performing aggregations."
   ]
  },
  {
   "cell_type": "code",
   "execution_count": null,
   "id": "f66dbdb7",
   "metadata": {
    "slideshow": {
     "slide_type": "skip"
    }
   },
   "outputs": [],
   "source": [
    "# Finds the average score, and the win percentage, for home vs. away games.\n",
    "(\n",
    "    df\n",
    "    .groupby('venue')\n",
    "    .agg({\n",
    "        'UM_score': 'mean', # equivalent to df.groupby('venue')['UM_score'].mean()\n",
    "        # the parameter `s` here is a Series of the 'result' values for each group.\n",
    "        'result': lambda s: (s == 'W').sum() / len(s) \n",
    "    })\n",
    ")"
   ]
  },
  {
   "cell_type": "markdown",
   "id": "02d38c86",
   "metadata": {
    "slideshow": {
     "slide_type": "skip"
    }
   },
   "source": [
    "- 📢 Michigan performs significantly better at home, both in terms of points scored and win percentage!"
   ]
  },
  {
   "cell_type": "markdown",
   "id": "ed5a7d93",
   "metadata": {
    "slideshow": {
     "slide_type": "slide"
    }
   },
   "source": [
    "### Filtering"
   ]
  },
  {
   "cell_type": "markdown",
   "id": "13425210",
   "metadata": {
    "slideshow": {
     "slide_type": "fragment"
    }
   },
   "source": [
    "- So far, the only operations we've applied to each group is some sort of aggregation (i.e. aggregating the `mean` score across `years`)."
   ]
  },
  {
   "cell_type": "markdown",
   "id": "6c60d033",
   "metadata": {
    "slideshow": {
     "slide_type": "fragment"
    }
   },
   "source": [
    "- Instead of aggregating, perhaps we want to only keep groups that satisfy a certain condition.<br>To do so, we use the `filter` method instead of any aggregation method."
   ]
  },
  {
   "cell_type": "markdown",
   "id": "f4224131",
   "metadata": {
    "slideshow": {
     "slide_type": "fragment"
    }
   },
   "source": [
    "- For instance, if we want to keep only the `'year'`s in which Michigan won at least 12 games:"
   ]
  },
  {
   "cell_type": "code",
   "execution_count": null,
   "id": "2e9ef3c9-a7c9-43f0-b86a-e21e61e10363",
   "metadata": {},
   "outputs": [],
   "source": [
    "def has_at_least_twelve_wins(group):\n",
    "    # has_at_least_twelve_wins is called separately for each 'year'.\n",
    "    # Each time it's called, the `group` argument is a DataFrame.\n",
    "    return (group['result'] == 'W').sum() >= 12\n",
    "\n",
    "twelveplus_wins = df.groupby('year').filter(has_at_least_twelve_wins)\n",
    "twelveplus_wins"
   ]
  },
  {
   "cell_type": "code",
   "execution_count": null,
   "id": "7194ee80",
   "metadata": {
    "slideshow": {
     "slide_type": "fragment"
    }
   },
   "outputs": [],
   "source": [
    "twelveplus_wins['year'].unique()"
   ]
  },
  {
   "cell_type": "markdown",
   "id": "73a63264",
   "metadata": {
    "slideshow": {
     "slide_type": "slide"
    }
   },
   "source": [
    "### Pivot tables"
   ]
  },
  {
   "cell_type": "markdown",
   "id": "555c63dd-9140-4f3d-8253-fadbdd1014b3",
   "metadata": {
    "slideshow": {
     "slide_type": "fragment"
    }
   },
   "source": [
    "- It's possible to use `groupby` on two columns at once, e.g. `df.groupby(['year', 'venue'])`.<br>The resulting operations are performed separately for every **unique combination** of values in the specified columns.<br><small>See Lecture 5 for examples. We can also group on three or more columns too!</small>"
   ]
  },
  {
   "cell_type": "code",
   "execution_count": null,
   "id": "06b33ca3",
   "metadata": {},
   "outputs": [],
   "source": [
    "# The index here is a MultiIndex.\n",
    "df.groupby(['year', 'venue'])['UM_score'].mean()"
   ]
  },
  {
   "cell_type": "markdown",
   "id": "4b7998fa",
   "metadata": {
    "slideshow": {
     "slide_type": "fragment"
    }
   },
   "source": [
    "- Rather than grouping on two columns at once, we can create a pivot table, which also shows the result of aggregating by two columns at once but in a more human-readable way."
   ]
  },
  {
   "cell_type": "code",
   "execution_count": null,
   "id": "6aceaf49",
   "metadata": {},
   "outputs": [],
   "source": [
    "df.pivot_table(index='year', columns='venue', values='UM_score', aggfunc='mean')"
   ]
  },
  {
   "cell_type": "markdown",
   "id": "7636f009",
   "metadata": {
    "slideshow": {
     "slide_type": "fragment"
    }
   },
   "source": [
    "- The DataFrame above has:\n",
    "    - One row for every unique value in `index`.\n",
    "    - One column for every unique value in `columns`.\n",
    "    - Values determined by applying `aggfunc` on values in `values`."
   ]
  },
  {
   "cell_type": "markdown",
   "id": "94a563f4-e6c7-4e3e-8abb-9730aaf88229",
   "metadata": {
    "slideshow": {
     "slide_type": "fragment"
    }
   },
   "source": [
    "- Notice how the value **`12.50`** at **`(1924, 'Away')`** in our MultiIndex `groupby` result matches the corresponding value in our pivot table! Michigan scored 12.5 points away on average in 1924."
   ]
  },
  {
   "cell_type": "markdown",
   "id": "2b43a60e-99af-4b1c-8f42-3f70e14bd21f",
   "metadata": {
    "slideshow": {
     "slide_type": "slide"
    }
   },
   "source": [
    "### Merging"
   ]
  },
  {
   "cell_type": "markdown",
   "id": "8c9a7d6b-ca36-4009-b84f-6f13e7083ff7",
   "metadata": {
    "slideshow": {
     "slide_type": "fragment"
    }
   },
   "source": [
    "- We merge DataFrames when we have two sources of information **about the same individuals** that is **linked by a common column(s)**. <br>The common column(s) are called the **join key**.<br><small>In SQL, we call this operation a `JOIN`.</small>"
   ]
  },
  {
   "cell_type": "markdown",
   "id": "18a2dcf3-21b3-4af8-b4a0-25779ab20c8f",
   "metadata": {
    "slideshow": {
     "slide_type": "fragment"
    }
   },
   "source": [
    "- When we merge DataFrames, we have to specify _how_ to merge the DataFrames, in the (likely) event that there are rows in the two DataFrames that don't match."
   ]
  },
  {
   "cell_type": "markdown",
   "id": "13509b2f-06a4-4efc-bbda-1c0bac9615b4",
   "metadata": {
    "slideshow": {
     "slide_type": "fragment"
    }
   },
   "source": [
    "<center><img src=\"imgs/all-joins.png\" width=400></img></center>"
   ]
  },
  {
   "cell_type": "markdown",
   "id": "5266307e",
   "metadata": {
    "slideshow": {
     "slide_type": "fragment"
    }
   },
   "source": [
    "- To help us visualize these operations, we'll redefine `df` to be a smaller subset of our original DataFrame."
   ]
  },
  {
   "cell_type": "code",
   "execution_count": null,
   "id": "b727e843",
   "metadata": {},
   "outputs": [],
   "source": [
    "# Smaller game DataFrame\n",
    "df = pd.DataFrame({\n",
    "    \"year\": [2024, 2024, 2023, 2023, 2022],\n",
    "    \"opponent\": [\"Washington\", \"Alabama\", \"Washington\", \"Michigan State\", \"Oregon\"],\n",
    "    \"venue\": [\"Home\", \"Away\", \"Away\", \"Home\", \"Home\"],\n",
    "    \"result\": [\"L\", \"W\", \"L\", \"W\", \"L\"]\n",
    "})\n",
    "\n",
    "# Big Ten Teams DataFrame (5 rows)\n",
    "big_10 = pd.DataFrame({\n",
    "    \"team\": [\"Minnesota\", \"Michigan State\", \"Washington\", \"Ohio State\", \"Oregon\"],\n",
    "    \"coach\": [\"P.J. Fleck\", \"Mel Tucker\", \"Kalen DeBoer\", \"Ryan Day\", \"Dan Lanning\"],\n",
    "    \"location\": [\"Minneapolis, MN\", \"East Lansing, MI\", \"Seattle, WA\", \"Columbus, OH\", \"Eugene, OR\"]\n",
    "})\n",
    "\n",
    "dfs_side_by_side(df, big_10)\n"
   ]
  },
  {
   "cell_type": "markdown",
   "id": "a81a5dcc",
   "metadata": {
    "slideshow": {
     "slide_type": "fragment"
    }
   },
   "source": [
    "- An inner merge keeps only the rows where the keys match in both DataFrames. In this case, it keeps the games where Michigan played teams from the Big 10 (based on the `opponent` column in `df` and the `team` column in `big_10`). Notice how the resulting DataFrame includes all columns from both DataFrames, but only for rows where there’s a match.\"\n"
   ]
  },
  {
   "cell_type": "code",
   "execution_count": null,
   "id": "c66eef04",
   "metadata": {},
   "outputs": [],
   "source": [
    "df.merge(big_10, left_on=\"opponent\", right_on=\"team\", how=\"inner\")"
   ]
  },
  {
   "cell_type": "markdown",
   "id": "f7b98395",
   "metadata": {
    "slideshow": {
     "slide_type": "slide"
    }
   },
   "source": [
    "### Merging Activity"
   ]
  },
  {
   "cell_type": "markdown",
   "id": "4999da87-1f0e-4176-9f7b-fadc5a7c59ce",
   "metadata": {},
   "source": [
    "<div class=\"alert alert-success\">\n",
    "    <h3>Activity</h3>\n",
    "\n",
    " Consider the following DataFrame, `evs`, which has 32 rows total.\n",
    " <center><div><img src=\"imgs/evs.png\" width=\"800\"></img></div></center>\n",
    "\n",
    " And consider the pivot table that contains the distribution of “BodyStyle” for all “Brands” in evs, other than Nissan. \n",
    " \n",
    " `evs.pivot_table(index='Brand', columns='BodyStyle', values='BodyStyle', aggfunc='count')`. \n",
    " <center><div><img src=\"imgs/evs-pivot.png\" width=\"600\"></img></div></center>\n",
    "Suppose we ran the following lines of code: \n",
    "\n",
    "`tesla = evs[evs.get(\"Brand\") == \"Tesla\"]`\n",
    "\n",
    "`bmw = evs[evs.get(\"Brand\") == \"BMW\"]`\n",
    "\n",
    "`audi = evs[evs.get(\"Brand\") == \"Audi\"]`\n",
    "</br></br>\n",
    "\n",
    "**Question**: How many rows does the DataFrame `combo` have?\n",
    "\n",
    "`combo = tesla.merge(bmw, on=\"BodyStyle\").merge(audi, on=\"BodyStyle\")`\n",
    "</br></br>\n",
    "\n",
    "**Hint**: When we leave the `how` parameter empty, `.merge` defaults to an inner join. \n",
    "</div>"
   ]
  },
  {
   "cell_type": "markdown",
   "id": "0c5af788-73eb-4b14-9178-064f6568adf0",
   "metadata": {},
   "source": [
    "<details>\n",
    "    \n",
    "<summary>Click <b>here</b> to see the answer to the previous activity.</summary>\n",
    "\n",
    "### **Answer**: 35\n",
    "\n",
    "First, we need to determine the number of rows in `tesla.merge(bmw, on=\"BodyStyle\")`, and then determine the number of rows in combo. For the purposes of the solution, **let’s use `temp` to refer to the first merged DataFrame, `tesla.merge(bmw, on=\"BodyStyle\")`**.\n",
    "\n",
    "### Step 1: Merging Tesla and BMW (`temp`)\n",
    "\n",
    "When merging two DataFrames, the resulting DataFrame (`temp`) contains a row for every match between the two columns being merged, while rows without matches are excluded. In this case, the column of interest is `BodyStyle`.\n",
    "\n",
    "#### Matches Between Tesla and BMW:\n",
    "- **SUV**: Tesla has $4$ rows for \"SUV\", and BMW has $1$ row for \"SUV\".  \n",
    "  $$ 4 \\times 1 = 4 \\text{ SUV rows in } temp $$\n",
    "- **Sedan**: Tesla has $3$ rows for \"Sedan\", and BMW has $1$ row for \"Sedan\".  \n",
    "  $$ 3 \\times 1 = 3 \\text{ Sedan rows in } temp $$\n",
    "\n",
    "Thus, the total number of rows in `temp` is:\n",
    "$$ 4 + 3 = 7 \\text{ rows} $$\n",
    "\n",
    "### Step 2: Merging `temp` with Audi (`combo`)\n",
    "\n",
    "Now, we merge `temp` with the Audi DataFrame, again on `BodyStyle`. Each row in `temp` matches with rows in Audi based on the same \"BodyStyle\".\n",
    "\n",
    "#### Matches Between `temp` and Audi:\n",
    "- **SUV**: `temp` has $4$ rows for \"SUV\", and Audi has $8$ rows for \"SUV\".  \n",
    "  $$ 4 \\times 8 = 32 \\text{ SUV rows in } combo $$\n",
    "- **Sedan**: `temp` has $3$ rows for \"Sedan\", and Audi has $1$ row for \"Sedan\".  \n",
    "  $$ 3 \\times 1 = 3 \\text{ Sedan rows in } combo $$\n",
    "\n",
    "Thus, the total number of rows in `combo` is:\n",
    "$$ 32 + 3 = 35 $$\n",
    "\n",
    "**Note**: You may notice that 35 is the result of multiplying the \"SUV\" and \"Sedan\" columns in the DataFrame provided, and adding up the results.\n",
    "\n",
    "</details>"
   ]
  },
  {
   "cell_type": "markdown",
   "id": "c6eeb157-35e1-4065-a130-7493f4dec6eb",
   "metadata": {
    "slideshow": {
     "slide_type": "slide"
    }
   },
   "source": [
    "## Worksheet 📝\n",
    "\n",
    "---"
   ]
  }
 ],
 "metadata": {
  "celltoolbar": "Slideshow",
  "kernelspec": {
   "display_name": "Python 3 (ipykernel)",
   "language": "python",
   "name": "python3"
  },
  "language_info": {
   "codemirror_mode": {
    "name": "ipython",
    "version": 3
   },
   "file_extension": ".py",
   "mimetype": "text/x-python",
   "name": "python",
   "nbconvert_exporter": "python",
   "pygments_lexer": "ipython3",
   "version": "3.10.16"
  },
  "livereveal": {
   "scroll": true
  },
  "rise": {
   "transition": "none"
  }
 },
 "nbformat": 4,
 "nbformat_minor": 5
}
