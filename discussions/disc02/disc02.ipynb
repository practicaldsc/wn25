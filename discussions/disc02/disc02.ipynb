{
 "cells": [
  {
   "cell_type": "code",
   "execution_count": 1,
   "id": "fec69f86",
   "metadata": {
    "slideshow": {
     "slide_type": "skip"
    }
   },
   "outputs": [],
   "source": [
    "from lec_utils import *"
   ]
  },
  {
   "cell_type": "markdown",
   "id": "3143de48",
   "metadata": {
    "slideshow": {
     "slide_type": "slide"
    },
    "tags": []
   },
   "source": [
    "<div class=\"alert alert-info\" markdown=\"1\">\n",
    "\n",
    "#### Discussion 2\n",
    "\n",
    "# Arrays and Probability\n",
    "\n",
    "\n",
    "### EECS 398: Practical Data Science, Winter 2025\n",
    "\n",
    "<small><a style=\"text-decoration: none\" href=\"https://practicaldsc.org\">practicaldsc.org</a> • <a style=\"text-decoration: none\" href=\"https://github.com/practicaldsc/wn25\">github.com/practicaldsc/wn25</a> • 📣 See latest announcements [**here on Ed**](https://edstem.org/us/courses/69737/discussion/5943734) </small>\n",
    "    \n",
    "</div>"
   ]
  },
  {
   "cell_type": "markdown",
   "id": "504aee40",
   "metadata": {
    "slideshow": {
     "slide_type": "slide"
    }
   },
   "source": [
    "### Agenda 📆\n",
    "\n",
    "- Lecture recap 🗒️.\n",
    "- Probability review 🎲.\n",
    "- Worksheet 📝."
   ]
  },
  {
   "cell_type": "markdown",
   "id": "05e13dd0",
   "metadata": {
    "slideshow": {
     "slide_type": "slide"
    }
   },
   "source": [
    "### Lecture recap 🗒️"
   ]
  },
  {
   "cell_type": "markdown",
   "id": "ee286a62",
   "metadata": {
    "slideshow": {
     "slide_type": "fragment"
    }
   },
   "source": [
    "- Python basics: lists, strings, mutability vs. immutability, functions, dictionaries, and `for`-loops."
   ]
  },
  {
   "cell_type": "markdown",
   "id": "8675bae5",
   "metadata": {
    "slideshow": {
     "slide_type": "fragment"
    }
   },
   "source": [
    "- `numpy` arrays and methods, with applications to image processing and matrix multiplication."
   ]
  },
  {
   "cell_type": "markdown",
   "id": "7d683d5e",
   "metadata": {
    "slideshow": {
     "slide_type": "fragment"
    }
   },
   "source": [
    "- `np.random.choice`, `np.random.multinomial`, and `np.random.permutation`."
   ]
  },
  {
   "cell_type": "markdown",
   "id": "d0653600",
   "metadata": {
    "slideshow": {
     "slide_type": "fragment"
    }
   },
   "source": [
    "- What questions do we have about these ideas?"
   ]
  },
  {
   "cell_type": "markdown",
   "id": "f0ab86cf",
   "metadata": {
    "slideshow": {
     "slide_type": "slide"
    }
   },
   "source": [
    "## Probability review 🎲\n",
    "\n",
    "---\n",
    "\n",
    "Probability is covered in EECS 203, and will be needed to answer questions on Homework 2. It may have been a while since you've taken EECS 203, so let's review!"
   ]
  },
  {
   "cell_type": "markdown",
   "id": "3d70ae2e",
   "metadata": {
    "slideshow": {
     "slide_type": "slide"
    }
   },
   "source": [
    "### Example: Sampling candy"
   ]
  },
  {
   "cell_type": "markdown",
   "id": "d32848dc",
   "metadata": {
    "slideshow": {
     "slide_type": "fragment"
    }
   },
   "source": [
    "- Say you have a bag of candy with <span style=\"color:blue\"><b>3 Jolly Ranchers</b></span>, <span style=\"color:orange\"><b>4 Starbursts</b></span>, and <span style=\"color:purple\"><b>5 Reeses Pieces</b></span>. \n",
    "\n",
    "    <center>🔵🔵🔵🟠🟠🟠🟠🟣🟣🟣🟣🟣</center>"
   ]
  },
  {
   "cell_type": "markdown",
   "id": "f64bd7b7",
   "metadata": {
    "slideshow": {
     "slide_type": "fragment"
    }
   },
   "source": [
    "- Suppose you pick a piece of candy 3 times, and put it back each time you pick one. <br>What is the probability you draw Jolly Ranchers all 3 times? "
   ]
  },
  {
   "cell_type": "markdown",
   "id": "4a6302a7",
   "metadata": {
    "slideshow": {
     "slide_type": "fragment"
    }
   },
   "source": [
    "- Since we're sampling **with replacement**, the distribution of the bag does not change from pick to pick!"
   ]
  },
  {
   "cell_type": "markdown",
   "id": "17eb7169",
   "metadata": {
    "slideshow": {
     "slide_type": "fragment"
    }
   },
   "source": [
    "$$\\begin{align*}\n",
    "P(\\text{all $3$ JR}) &= P(\\text{first is JR}) \\cdot P(\\text{second is JR, given that first is JR}) \\cdot P(\\text{third is JR, given that first two are JR}) \\\\\n",
    " &= {\\frac{\\text{total number of JR}}{\\text{total pieces of candy}}} \\cdot {\\frac{\\text{total number of JR}}{\\text{total pieces of candy}}} \\cdot {\\frac{\\text{total number of JR}}{\\text{total pieces of candy}}}\\\\\n",
    "&= \\left(\\frac{3}{3 + 4 + 5} \\right)^3\\\\\n",
    "&= \\left(\\frac{1}{4} \\right) ^3\\\\\n",
    "&= \\frac{1}{64}\n",
    "\\end{align*}$$"
   ]
  },
  {
   "cell_type": "markdown",
   "id": "78bd6a57",
   "metadata": {
    "slideshow": {
     "slide_type": "slide"
    }
   },
   "source": [
    "### Example continued "
   ]
  },
  {
   "cell_type": "markdown",
   "id": "80f02b30",
   "metadata": {
    "slideshow": {
     "slide_type": "fragment"
    }
   },
   "source": [
    "- Say you (still) have a bag of candy with <span style=\"color:blue\"><b>3 Jolly Ranchers</b></span>, <span style=\"color:orange\"><b>4 Starbursts</b></span>, and <span style=\"color:purple\"><b>5 Reeses Pieces</b></span>. \n",
    "\n",
    "    <center>🔵🔵🔵🟠🟠🟠🟠🟣🟣🟣🟣🟣</center>"
   ]
  },
  {
   "cell_type": "markdown",
   "id": "4e972eed",
   "metadata": {
    "slideshow": {
     "slide_type": "fragment"
    }
   },
   "source": [
    "- Suppose you pick a piece of candy 3 times, and **don't** put it back each time you pick one. <br>Now, what is the probability you draw Jolly Ranchers all 3 times? "
   ]
  },
  {
   "cell_type": "markdown",
   "id": "33b73e2b",
   "metadata": {
    "slideshow": {
     "slide_type": "fragment"
    }
   },
   "source": [
    "- Since we're sampling **without replacement**, the distribution in the bag _does_ change from pick to pick, so the three probabilities we multiply are not identical."
   ]
  },
  {
   "cell_type": "markdown",
   "id": "fff0bdff",
   "metadata": {
    "slideshow": {
     "slide_type": "fragment"
    }
   },
   "source": [
    "$$\\begin{align*}\n",
    "P(\\text{all $3$ JR}) &= P(\\text{first is JR}) \\cdot P(\\text{second is JR, given that first is JR}) \\cdot P(\\text{third is JR, given that first two are JR}) \\\\\n",
    "&= \\frac{3}{3 + 4 + 5} \\cdot \\frac{2}{2 + 4 + 5} \\cdot \\frac{1}{1 + 4 + 5} \\\\\n",
    "&= \\frac{1}{4} \\cdot \\frac{2}{11} \\cdot \\frac{1}{10} \\\\\n",
    "&= \\frac{1}{220}\n",
    "\\end{align*}$$"
   ]
  },
  {
   "cell_type": "markdown",
   "id": "9a39f791",
   "metadata": {
    "slideshow": {
     "slide_type": "fragment"
    }
   },
   "source": [
    "- Note that this probability is much lower than in the sampling with replacement case! Why?"
   ]
  },
  {
   "cell_type": "markdown",
   "id": "35a5ed54",
   "metadata": {
    "slideshow": {
     "slide_type": "slide"
    }
   },
   "source": [
    "### `np.random.choice`"
   ]
  },
  {
   "cell_type": "markdown",
   "id": "da700497",
   "metadata": {
    "slideshow": {
     "slide_type": "fragment"
    }
   },
   "source": [
    "- `np.random.choice` can **simulate** samples drawn with and without replacement."
   ]
  },
  {
   "cell_type": "markdown",
   "id": "9dc3ba2b",
   "metadata": {
    "slideshow": {
     "slide_type": "fragment"
    }
   },
   "source": [
    "- For instance, the following cell simulates the act of drawing:\n",
    "    - 3 elements,\n",
    "    - **without replacement**,\n",
    "    - from `options`."
   ]
  },
  {
   "cell_type": "code",
   "execution_count": 2,
   "id": "503d0c66",
   "metadata": {
    "scrolled": true
   },
   "outputs": [
    {
     "data": {
      "text/plain": [
       "array(['JR', 'Reese', 'Reese'], dtype='<U5')"
      ]
     },
     "execution_count": 2,
     "metadata": {},
     "output_type": "execute_result"
    }
   ],
   "source": [
    "# Each time you run this cell, the result (likely) changes!\n",
    "options = ['JR'] * 3 + ['Star'] * 4 + ['Reese'] * 5\n",
    "np.random.choice(options, 3, replace=False)"
   ]
  },
  {
   "cell_type": "markdown",
   "id": "d13909b1",
   "metadata": {
    "slideshow": {
     "slide_type": "fragment"
    }
   },
   "source": [
    "- The default is to sample with replacement.<br><small>There are other optional arguments, too, like a `p` argument, that allows you to specify the probability of each outcome (the default is all are equally likely).</small>"
   ]
  },
  {
   "cell_type": "markdown",
   "id": "35cd73f1",
   "metadata": {
    "slideshow": {
     "slide_type": "slide"
    }
   },
   "source": [
    "### Estimating probabilities via simulation"
   ]
  },
  {
   "cell_type": "markdown",
   "id": "bfd1b07c",
   "metadata": {
    "slideshow": {
     "slide_type": "fragment"
    }
   },
   "source": [
    "- Previously, we found – by hand – that the probability of picking 3 Jolly Ranchers from our bag when sampling without replacement is $\\frac{1}{220}$."
   ]
  },
  {
   "cell_type": "markdown",
   "id": "0772523a",
   "metadata": {
    "slideshow": {
     "slide_type": "fragment"
    }
   },
   "source": [
    "- One way to **estimate** this probability is to run the following cell a large number (e.g. 100,000) of times and compute the proportion of runs in which all 3 candies are Jolly Ranchers!"
   ]
  },
  {
   "cell_type": "code",
   "execution_count": 9,
   "id": "aa9411a9",
   "metadata": {},
   "outputs": [
    {
     "data": {
      "text/plain": [
       "array(['Reese', 'JR', 'Star'], dtype='<U5')"
      ]
     },
     "execution_count": 9,
     "metadata": {},
     "output_type": "execute_result"
    }
   ],
   "source": [
    "np.random.choice(options, 3, replace=False)"
   ]
  },
  {
   "cell_type": "markdown",
   "id": "dddec74a",
   "metadata": {
    "slideshow": {
     "slide_type": "fragment"
    }
   },
   "source": [
    "- To do so, we can initialize a counter, `all_three`, that we add to if we see a sample that consists of 3 Jolly Ranchers."
   ]
  },
  {
   "cell_type": "code",
   "execution_count": 8,
   "id": "bc22fa8a",
   "metadata": {},
   "outputs": [
    {
     "data": {
      "text/plain": [
       "0.00432"
      ]
     },
     "execution_count": 8,
     "metadata": {},
     "output_type": "execute_result"
    }
   ],
   "source": [
    "all_three = 0\n",
    "\n",
    "for i in range(100_000):\n",
    "    sample = np.random.choice(options, 3, replace=False)\n",
    "    if (sample == 'JR').sum() == 3:\n",
    "        all_three += 1\n",
    "        \n",
    "all_three / 100_000"
   ]
  },
  {
   "cell_type": "markdown",
   "id": "fda51c03",
   "metadata": {
    "slideshow": {
     "slide_type": "fragment"
    }
   },
   "source": [
    "- `all_three / 100_000` is the proportion of simulations in which we saw 3 Jolly Ranchers. It's very close to the true, theoretical answer!<br><small>We use simulations in practice when the theoretical answer is too difficult to calculate.</small>"
   ]
  },
  {
   "cell_type": "code",
   "execution_count": 5,
   "id": "d9400d90",
   "metadata": {},
   "outputs": [
    {
     "data": {
      "text/plain": [
       "0.004545454545454545"
      ]
     },
     "execution_count": 5,
     "metadata": {},
     "output_type": "execute_result"
    }
   ],
   "source": [
    "1 / 220"
   ]
  },
  {
   "cell_type": "markdown",
   "id": "0893054a",
   "metadata": {
    "slideshow": {
     "slide_type": "slide"
    }
   },
   "source": [
    "### Example: Coin flipping"
   ]
  },
  {
   "cell_type": "markdown",
   "id": "4c9a1728",
   "metadata": {
    "slideshow": {
     "slide_type": "fragment"
    }
   },
   "source": [
    "- Let's consider experiments made up of several **trials**, each of which is **independent of all others** and only has two possible outcomes, e.g. flipping a coin repeatedly."
   ]
  },
  {
   "cell_type": "markdown",
   "id": "a4db16ed",
   "metadata": {
    "slideshow": {
     "slide_type": "fragment"
    }
   },
   "source": [
    "- Suppose I flip a biased coin 5 times. Each time we flip it, independently of other flips, the chances of seeing heads is $\\frac{3}{4}$. What is the probability of seeing 3 heads and 2 tails?"
   ]
  },
  {
   "cell_type": "markdown",
   "id": "e4fc3409",
   "metadata": {
    "slideshow": {
     "slide_type": "fragment"
    }
   },
   "source": [
    "1. The probability the coin lands on heads once is $\\frac{3}{4}$, so the probability of it landing on heads 3 times is $\\left(\\frac{3}{4}\\right)^3$."
   ]
  },
  {
   "cell_type": "markdown",
   "id": "4554b636",
   "metadata": {
    "slideshow": {
     "slide_type": "fragment"
    }
   },
   "source": [
    "2. Following similar logic as above, the probability of the coin landing on tails 2 times is $\\left(1 - \\frac{3}{4}\\right)^2 = \\left(\\frac{1}{4}\\right)^2$."
   ]
  },
  {
   "cell_type": "markdown",
   "id": "2403c18c",
   "metadata": {
    "slideshow": {
     "slide_type": "fragment"
    }
   },
   "source": [
    "3. Finally, we need to account for the number of possible sequences of 3 heads and 2 tails:\n",
    "\n",
    "    <center>HTHHT, TTHHH, ...</center>\n",
    "    There are ${5 \\choose 3}$ such sequences."
   ]
  },
  {
   "cell_type": "markdown",
   "id": "66df3e74",
   "metadata": {
    "slideshow": {
     "slide_type": "fragment"
    }
   },
   "source": [
    "4. All together then, the probability of seeing 3 heads and 2 tails is:\n",
    "$$ \n",
    "P(H = 3) = \\binom{5}{3} \\left( \\frac{3}{4} \\right)^3 \\left( \\frac{1}{4} \\right)^2\n",
    "$$"
   ]
  },
  {
   "cell_type": "markdown",
   "id": "b6f09386",
   "metadata": {
    "slideshow": {
     "slide_type": "slide"
    }
   },
   "source": [
    "### The binomial distribution"
   ]
  },
  {
   "cell_type": "markdown",
   "id": "10b7fb8a",
   "metadata": {
    "slideshow": {
     "slide_type": "fragment"
    }
   },
   "source": [
    "- In the previous slide, we used the binomial distribution. The binomial distribution models experiments made up of several repetitions of a **binary trial**."
   ]
  },
  {
   "cell_type": "markdown",
   "id": "d42df8cd",
   "metadata": {
    "slideshow": {
     "slide_type": "fragment"
    }
   },
   "source": [
    "- In general, if our experiment consists of $n$ repeated trials, each of which has a probability $p$ of success, then the probability of $k$ successes is:\n",
    "\n",
    "$$P(X = k) = \\binom{n}{k} p^k (1 - p)^{n - k}$$\n",
    "\n",
    "<center><small>You'll need to understand this formula for Homework 2!</small></center>"
   ]
  },
  {
   "cell_type": "markdown",
   "id": "2200262b",
   "metadata": {
    "slideshow": {
     "slide_type": "fragment"
    }
   },
   "source": [
    "- Think of each binomial trial as a sample drawn **with** replacement, since each trial is independent."
   ]
  },
  {
   "cell_type": "markdown",
   "id": "88665628",
   "metadata": {
    "slideshow": {
     "slide_type": "fragment"
    }
   },
   "source": [
    "- Remember that the binomial distribution only holds in cases where the process we are repeating (e.g. a coin flip) only has two possible outcomes."
   ]
  },
  {
   "cell_type": "markdown",
   "id": "9bffe6dd",
   "metadata": {
    "slideshow": {
     "slide_type": "slide"
    }
   },
   "source": [
    "### The multinomial distribution"
   ]
  },
  {
   "cell_type": "markdown",
   "id": "11070cc3",
   "metadata": {
    "slideshow": {
     "slide_type": "fragment"
    }
   },
   "source": [
    "- What if we're repeating some process in which each trial is independent, but there are more than two possible outcomes?"
   ]
  },
  {
   "cell_type": "markdown",
   "id": "7b03e67a",
   "metadata": {
    "slideshow": {
     "slide_type": "fragment"
    }
   },
   "source": [
    "- For example, say we roll a die 10 times. What is the probability we see two 3s, four 5s, and four 6s?"
   ]
  },
  {
   "cell_type": "markdown",
   "id": "4beacaed",
   "metadata": {
    "slideshow": {
     "slide_type": "fragment"
    }
   },
   "source": [
    "$$P(X_1 = 0, X_2 = 0, \\boxed{X_3 = 2}, X_4 = 0, \\boxed{X_5 = 4}, \\boxed{X_6 = 4}) = \\frac{10!}{2!4!4!} \\left( \\frac{1}{6} \\right)^2 \\left( \\frac{1}{6} \\right)^4 \\left( \\frac{1}{6} \\right)^4$$"
   ]
  },
  {
   "cell_type": "markdown",
   "id": "35a7f56a",
   "metadata": {
    "slideshow": {
     "slide_type": "fragment"
    }
   },
   "source": [
    "- In general, the answer comes from the **multinomial distribution**:\n",
    "\n",
    "    $$P(X_1 = x_1, X_2 = x_2, \\dots, X_k = x_k) = \\frac{n!}{x_1! x_2! \\cdots x_k!} \\cdot p_1^{x_1} p_2^{x_2} \\cdots p_k^{x_k}$$\n",
    "\n",
    "    where:\n",
    "    - $n$ represents the total number of trials.\n",
    "    - $k$ represents the total number of categories.\n",
    "    - $p_1, p_2, ... p_k$ represent the probabilities of the different possible outcomes for each category.\n",
    "    - $x_1, x_2, ... x_k$ represent the count of each outcome."
   ]
  },
  {
   "cell_type": "markdown",
   "id": "d2cca2a5",
   "metadata": {
    "slideshow": {
     "slide_type": "fragment"
    }
   },
   "source": [
    "- This is a generalization of the binomial distribution to allow for trials with more than 2 outcomes.<br>But remember, each trial – here, each die roll – is independent."
   ]
  },
  {
   "cell_type": "markdown",
   "id": "7c4e9580",
   "metadata": {
    "slideshow": {
     "slide_type": "slide"
    }
   },
   "source": [
    "### `np.random.multinomial`"
   ]
  },
  {
   "cell_type": "markdown",
   "id": "2d407250",
   "metadata": {
    "slideshow": {
     "slide_type": "fragment"
    }
   },
   "source": [
    "- `np.random.multinomial`, shown in lecture, allows us to draw simulated samples from a multinomial distribution!"
   ]
  },
  {
   "cell_type": "markdown",
   "id": "ef9fc6c3",
   "metadata": {
    "slideshow": {
     "slide_type": "fragment"
    }
   },
   "source": [
    "- It takes in (at least) two arguments:\n",
    "    - `n`: number of experiments.\n",
    "    - `pvals`: probability of each outcome; this should be a list/array that sums to 1.\n",
    "\n",
    "    The output an array with the same length as `pvals`, containing the number of times each outcome occurred."
   ]
  },
  {
   "cell_type": "markdown",
   "id": "fd3a311f",
   "metadata": {
    "slideshow": {
     "slide_type": "fragment"
    }
   },
   "source": [
    "- For instance, to simulate drawing 3 candies **with replacement** from a bag with <span style=\"color:blue\"><b>3 Jolly Ranchers</b></span>, <span style=\"color:orange\"><b>4 Starbursts</b></span>, and <span style=\"color:purple\"><b>5 Reeses Pieces</b></span>:"
   ]
  },
  {
   "cell_type": "code",
   "execution_count": 6,
   "id": "1277f4ff",
   "metadata": {},
   "outputs": [
    {
     "data": {
      "text/plain": [
       "array([1, 1, 1])"
      ]
     },
     "execution_count": 6,
     "metadata": {},
     "output_type": "execute_result"
    }
   ],
   "source": [
    "np.random.multinomial(3, [3 / 10, 4 / 10, 5 / 10])"
   ]
  },
  {
   "cell_type": "markdown",
   "id": "fd0b2166",
   "metadata": {
    "slideshow": {
     "slide_type": "fragment"
    }
   },
   "source": [
    "- While `np.random.choice` can be used for sampling with and without replacement, `np.random.multinomial` can only be used to sample with replacement. Why?"
   ]
  },
  {
   "cell_type": "markdown",
   "id": "97aa653c",
   "metadata": {
    "slideshow": {
     "slide_type": "slide"
    }
   },
   "source": [
    "### `np.random.permutation`"
   ]
  },
  {
   "cell_type": "markdown",
   "id": "e75f3958",
   "metadata": {
    "slideshow": {
     "slide_type": "fragment"
    }
   },
   "source": [
    "- Finally, `np.random.permutation` **shuffles** the elements of the input sequence."
   ]
  },
  {
   "cell_type": "code",
   "execution_count": 7,
   "id": "0b09b8b4",
   "metadata": {},
   "outputs": [
    {
     "data": {
      "text/plain": [
       "array(['there', 'you', 'hey', 'how', 'are'], dtype='<U5')"
      ]
     },
     "execution_count": 7,
     "metadata": {},
     "output_type": "execute_result"
    }
   ],
   "source": [
    "np.random.permutation(['hey', 'there', 'how', 'are', 'you'])"
   ]
  },
  {
   "cell_type": "markdown",
   "id": "2a38b6dc",
   "metadata": {
    "slideshow": {
     "slide_type": "fragment"
    }
   },
   "source": [
    "- The result always has the same length as the input."
   ]
  },
  {
   "cell_type": "markdown",
   "id": "886aaafb",
   "metadata": {
    "slideshow": {
     "slide_type": "slide"
    }
   },
   "source": [
    "## Worksheet 📝\n",
    "\n",
    "---\n",
    "\n",
    "Navigate to [study.practicaldsc.org](https://study.practicaldsc.org) and click the \"Arrays and Probability\" link."
   ]
  }
 ],
 "metadata": {
  "celltoolbar": "Slideshow",
  "kernelspec": {
   "display_name": "pds",
   "language": "python",
   "name": "python3"
  },
  "language_info": {
   "codemirror_mode": {
    "name": "ipython",
    "version": 3
   },
   "file_extension": ".py",
   "mimetype": "text/x-python",
   "name": "python",
   "nbconvert_exporter": "python",
   "pygments_lexer": "ipython3",
   "version": "3.10.16"
  },
  "livereveal": {
   "scroll": true
  },
  "rise": {
   "transition": "none"
  }
 },
 "nbformat": 4,
 "nbformat_minor": 5
}
