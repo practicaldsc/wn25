{
 "cells": [
  {
   "cell_type": "code",
   "execution_count": null,
   "id": "c1cdb678",
   "metadata": {
    "deletable": true,
    "editable": true,
    "slideshow": {
     "slide_type": "skip"
    },
    "tags": []
   },
   "outputs": [],
   "source": [
    "from lec_utils import *\n",
    "def show_chaining_slides():\n",
    "    src = 'https://docs.google.com/presentation/d/e/2PACX-1vRYAERthJoyVnD1JymDK6JAtufCJmA5AYb5H2NwlegJHm04WhBfxnA0zQO3vKbEYQbqOJ8XJPZtfoxF/embed?start=false&loop=false&rm=minimal'\n",
    "    width = 1000\n",
    "    height = 590\n",
    "    display(IFrame(src, width, height))"
   ]
  },
  {
   "cell_type": "markdown",
   "id": "0f0e1cf7",
   "metadata": {
    "deletable": true,
    "editable": true,
    "slideshow": {
     "slide_type": "slide"
    },
    "tags": []
   },
   "source": [
    "<div class=\"alert alert-info\" markdown=\"1\">\n",
    "\n",
    "#### Lecture 4\n",
    "\n",
    "# DataFrame Fundamentals\n",
    "\n",
    "### EECS 398: Practical Data Science, Winter 2025\n",
    "\n",
    "<small><a style=\"text-decoration: none\" href=\"https://practicaldsc.org\">practicaldsc.org</a> • <a style=\"text-decoration: none\" href=\"https://github.com/practicaldsc/wn25\">github.com/practicaldsc/wn25</a> • 📣 See latest announcements [**here on Ed**](https://edstem.org/us/courses/69737/discussion/5943734) </small>\n",
    "    \n",
    "</div>"
   ]
  },
  {
   "cell_type": "markdown",
   "id": "2f090eb2",
   "metadata": {
    "deletable": true,
    "editable": true,
    "slideshow": {
     "slide_type": "slide"
    }
   },
   "source": [
    "### Agenda 📆\n",
    "\n",
    "- Introduction to `pandas` DataFrames.\n",
    "- Selecting columns.\n",
    "- Selecting slices 🍰.\n",
    "- Querying 🔎.\n",
    "\n",
    "Remember to follow along in lecture by accessing the \"blank\" lecture notebook in our [public GitHub repository](https://github.com/practicaldsc/wn25)."
   ]
  },
  {
   "cell_type": "markdown",
   "id": "d8f8fc97",
   "metadata": {
    "deletable": true,
    "editable": true,
    "slideshow": {
     "slide_type": "slide"
    }
   },
   "source": [
    "<div class=\"alert alert-warning\">\n",
    "<h3>Question 🤔 (Answer at <a style=\"text-decoration: none; color: #0066cc\" href=\"https://docs.google.com/forms/d/e/1FAIpQLSd4oliiZYeNh76jWy-arfEtoAkCrVSsobZxPwxifWggo3EO0Q/viewform\">practicaldsc.org/q</a>)</h3>\n",
    "<small>Remember that you can always ask questions anonymously at the link above!</small>\n",
    "        \n",
    "Have you started Homework 2?"
   ]
  },
  {
   "cell_type": "markdown",
   "id": "30d82da1",
   "metadata": {
    "deletable": true,
    "editable": true,
    "slideshow": {
     "slide_type": "slide"
    }
   },
   "source": [
    "## Introduction to `pandas` DataFrames\n",
    "\n",
    "---\n",
    "\n",
    "Let's finally start working with real datasets! 🎉\n",
    "\n",
    "Note that we're going to cover a lot of code quickly. The point of lecture is to expose you to what's possible; you can look at the notebook later for the details.\n"
   ]
  },
  {
   "cell_type": "markdown",
   "id": "1d48305f",
   "metadata": {
    "deletable": true,
    "editable": true,
    "slideshow": {
     "slide_type": "slide"
    },
    "tags": []
   },
   "source": [
    "### `pandas`\n",
    "\n",
    "<center><img src='imgs/pandas.png' width=300></center>"
   ]
  },
  {
   "cell_type": "markdown",
   "id": "19b24bbe",
   "metadata": {
    "deletable": true,
    "editable": true,
    "slideshow": {
     "slide_type": "fragment"
    }
   },
   "source": [
    "- `pandas` is **the** Python library for tabular data manipulation.<br><small>It, roughly, stands for \"Python data analysis\".</small>"
   ]
  },
  {
   "cell_type": "markdown",
   "id": "3b737c57",
   "metadata": {
    "deletable": true,
    "editable": true,
    "slideshow": {
     "slide_type": "fragment"
    }
   },
   "source": [
    "- Before `pandas` was developed, the standard data science workflow involved using multiple languages (Python, R, Java) in a single project."
   ]
  },
  {
   "cell_type": "markdown",
   "id": "372f1922",
   "metadata": {
    "deletable": true,
    "editable": true,
    "slideshow": {
     "slide_type": "fragment"
    }
   },
   "source": [
    "- Wes McKinney, the original developer of `pandas`, wanted a library which would allow everything to be done in Python.<br><small>Python is faster to develop in than Java or C++, and is more general-purpose than R.</small>"
   ]
  },
  {
   "cell_type": "markdown",
   "id": "21aad4bd",
   "metadata": {
    "deletable": true,
    "editable": true,
    "slideshow": {
     "slide_type": "fragment"
    }
   },
   "source": [
    "- `pandas` is almost always imported in conjunction with `numpy`."
   ]
  },
  {
   "cell_type": "code",
   "execution_count": null,
   "id": "0a5f8b09",
   "metadata": {
    "deletable": true,
    "editable": true
   },
   "outputs": [],
   "source": [
    "import pandas as pd\n",
    "import numpy as np"
   ]
  },
  {
   "cell_type": "markdown",
   "id": "6efe8491",
   "metadata": {
    "deletable": true,
    "editable": true,
    "slideshow": {
     "slide_type": "slide"
    },
    "tags": []
   },
   "source": [
    "### `pandas` data structures"
   ]
  },
  {
   "cell_type": "markdown",
   "id": "7769fe27",
   "metadata": {
    "deletable": true,
    "editable": true,
    "slideshow": {
     "slide_type": "fragment"
    }
   },
   "source": [
    "- There are **three** key data structures at the core of `pandas`.\n",
    "\n",
    "<center>\n",
    "    <img src='imgs/df-anatomy.png' width=1000>\n",
    "    <small>An example DataFrame.</small>\n",
    "</center>"
   ]
  },
  {
   "cell_type": "markdown",
   "id": "1d2c8710",
   "metadata": {
    "deletable": true,
    "editable": true,
    "slideshow": {
     "slide_type": "fragment"
    }
   },
   "source": [
    "- **DataFrame**: 2 dimensional tables. These have rows and columns."
   ]
  },
  {
   "cell_type": "markdown",
   "id": "eccd16dd",
   "metadata": {
    "deletable": true,
    "editable": true,
    "slideshow": {
     "slide_type": "fragment"
    }
   },
   "source": [
    "- **Series**: 1 dimensional array-like object, representing a row or column.<br><small>Like arrays, Series contain data of the same type. The plural of Series is also Series.</small>"
   ]
  },
  {
   "cell_type": "markdown",
   "id": "3948a240",
   "metadata": {
    "deletable": true,
    "editable": true,
    "slideshow": {
     "slide_type": "fragment"
    }
   },
   "source": [
    "- **Index**: Sequence of row or column labels. When we say \"the index\", we're referring to the sequence of **row labels**.<br><small>The index – `'lebronja'`, `'obammich'`, `'carpents'`, and `'timapplec'` in the example above – **is not** a column!<br>Column names – `'name'`, `'program'`, and `'year'` in the example above – are stored as strings, and the sequence of column names is also an index.<br></small>"
   ]
  },
  {
   "cell_type": "markdown",
   "id": "1c01bf7f",
   "metadata": {
    "deletable": true,
    "editable": true,
    "slideshow": {
     "slide_type": "slide"
    }
   },
   "source": [
    "### Example: Dog breeds 🐶"
   ]
  },
  {
   "cell_type": "markdown",
   "id": "c8109183",
   "metadata": {
    "deletable": true,
    "editable": true,
    "slideshow": {
     "slide_type": "fragment"
    }
   },
   "source": [
    "- The dataset we'll work comes from the American Kennel Club. Here's a [cool plot](https://informationisbeautiful.net/visualizations/best-in-show-whats-the-top-data-dog/) made using our dataset.\n",
    "\n",
    "<center>\n",
    "    <img src=\"https://infobeautiful4.s3.amazonaws.com/2014/11/IIB_Best-In-Show_1276x2.png\" width=650>\n",
    "        \n",
    "</center>"
   ]
  },
  {
   "cell_type": "markdown",
   "id": "b612f225",
   "metadata": {
    "deletable": true,
    "editable": true,
    "slideshow": {
     "slide_type": "fragment"
    }
   },
   "source": [
    "- We'll usually work with data stored in the CSV format. CSV stands for \"comma-separated values.\""
   ]
  },
  {
   "cell_type": "markdown",
   "id": "55334075",
   "metadata": {
    "deletable": true,
    "editable": true,
    "slideshow": {
     "slide_type": "fragment"
    }
   },
   "source": [
    "- We can read in a CSV using `pd.read_csv(path)`. The path should be relative to your notebook; if the file is in the same folder as your notebook, this is just the name of the file (as a string)."
   ]
  },
  {
   "cell_type": "markdown",
   "id": "ca855cc4",
   "metadata": {
    "deletable": true,
    "editable": true,
    "slideshow": {
     "slide_type": "fragment"
    }
   },
   "source": [
    "- Today's dataset is stored `'data/dogs42.csv'` – open it up and see what it looks like!"
   ]
  },
  {
   "cell_type": "code",
   "execution_count": null,
   "id": "03c105e7",
   "metadata": {
    "deletable": true,
    "editable": true,
    "slideshow": {
     "slide_type": "slide"
    }
   },
   "outputs": [],
   "source": [
    "# The \"cat\" shell command shows you the contents of a file.\n",
    "..."
   ]
  },
  {
   "cell_type": "code",
   "execution_count": null,
   "id": "72f6a308",
   "metadata": {
    "deletable": true,
    "editable": true,
    "scrolled": true,
    "slideshow": {
     "slide_type": "slide"
    }
   },
   "outputs": [],
   "source": [
    "dogs = ...\n",
    "dogs"
   ]
  },
  {
   "cell_type": "markdown",
   "id": "89eca298",
   "metadata": {
    "deletable": true,
    "editable": true,
    "slideshow": {
     "slide_type": "slide"
    }
   },
   "source": [
    "### Exploring our first DataFrame"
   ]
  },
  {
   "cell_type": "markdown",
   "id": "104c56dc",
   "metadata": {
    "deletable": true,
    "editable": true,
    "slideshow": {
     "slide_type": "fragment"
    },
    "tags": []
   },
   "source": [
    "- The `shape` attribute returns the DataFrame's number of rows and columns.<br><small>Sure, we can _see 👀_ that it says 42 rows x 7 columns below, but the `shape` attribute allows us to write code involving the number of rows/columns.</small>"
   ]
  },
  {
   "cell_type": "code",
   "execution_count": null,
   "id": "18b605d4",
   "metadata": {
    "deletable": true,
    "editable": true
   },
   "outputs": [],
   "source": [
    "dogs"
   ]
  },
  {
   "cell_type": "code",
   "execution_count": null,
   "id": "176f7f4e",
   "metadata": {
    "deletable": true,
    "editable": true
   },
   "outputs": [],
   "source": [
    "# Note that the index – 0, 1, 2, ... – does **not** count as a column!\n",
    "..."
   ]
  },
  {
   "cell_type": "markdown",
   "id": "e6631d90",
   "metadata": {
    "deletable": true,
    "editable": true,
    "slideshow": {
     "slide_type": "fragment"
    }
   },
   "source": [
    "- To extract the first or last few rows of a DataFrame, use the `head` or `tail` methods.<br><small>Like most DataFrame methods, `head` and `tail` **don't** modify the original DataFrame!</small>"
   ]
  },
  {
   "cell_type": "code",
   "execution_count": null,
   "id": "b878bb74",
   "metadata": {
    "deletable": true,
    "editable": true
   },
   "outputs": [],
   "source": [
    "..."
   ]
  },
  {
   "cell_type": "code",
   "execution_count": null,
   "id": "88aae5e0",
   "metadata": {
    "deletable": true,
    "editable": true
   },
   "outputs": [],
   "source": [
    "..."
   ]
  },
  {
   "cell_type": "markdown",
   "id": "a4bf0557",
   "metadata": {
    "deletable": true,
    "editable": true,
    "slideshow": {
     "slide_type": "fragment"
    },
    "tags": []
   },
   "source": [
    "- To sort by a column, use the `sort_values` method.<br><small>`ascending=False` is a **keyword argument**, meaning you need to specify the name of the argument to use it.<br>You've seen some examples of this in the `plotly` part of Homework 1.</small> "
   ]
  },
  {
   "cell_type": "code",
   "execution_count": null,
   "id": "012fb6f7",
   "metadata": {
    "deletable": true,
    "editable": true,
    "slideshow": {
     "slide_type": ""
    },
    "tags": []
   },
   "outputs": [],
   "source": [
    "# Note that the index is no longer 0, 1, 2, ...!\n",
    "..."
   ]
  },
  {
   "cell_type": "markdown",
   "id": "6360c2d8",
   "metadata": {
    "deletable": true,
    "editable": true,
    "slideshow": {
     "slide_type": "slide"
    },
    "tags": []
   },
   "source": [
    "### Setting the index"
   ]
  },
  {
   "cell_type": "markdown",
   "id": "88e3b09a",
   "metadata": {
    "deletable": true,
    "editable": true,
    "slideshow": {
     "slide_type": "fragment"
    }
   },
   "source": [
    "- Think of each row's index as its **unique identifier** or **name**.<br>The default index when we create a DataFrame using `pd.read_csv` is 0, 1, 2, 3, ...\n",
    "<br><small>Think of the index of a DataFrame like a \"key\" in a dictionary (Python) or map (C++).</small>"
   ]
  },
  {
   "cell_type": "code",
   "execution_count": null,
   "id": "643c913f",
   "metadata": {
    "deletable": true,
    "editable": true
   },
   "outputs": [],
   "source": [
    "dogs"
   ]
  },
  {
   "cell_type": "code",
   "execution_count": null,
   "id": "d3b8230b",
   "metadata": {
    "deletable": true,
    "editable": true
   },
   "outputs": [],
   "source": [
    "dogs.index"
   ]
  },
  {
   "cell_type": "markdown",
   "id": "a16dd8cc",
   "metadata": {
    "deletable": true,
    "editable": true,
    "slideshow": {
     "slide_type": "fragment"
    }
   },
   "source": [
    "- Often, we like to set the index of a DataFrame to a unique identifier if we have one available. <br>We can do so with the `set_index` method.<br><small>We'll see the real benefit of this shortly.</small>"
   ]
  },
  {
   "cell_type": "code",
   "execution_count": null,
   "id": "468b81b3",
   "metadata": {
    "deletable": true,
    "editable": true
   },
   "outputs": [],
   "source": [
    "..."
   ]
  },
  {
   "cell_type": "code",
   "execution_count": null,
   "id": "d2f4baab",
   "metadata": {
    "deletable": true,
    "editable": true
   },
   "outputs": [],
   "source": [
    "# The above cell didn't involve an assignment statement, so dogs was unchanged.\n",
    "dogs"
   ]
  },
  {
   "cell_type": "code",
   "execution_count": null,
   "id": "eef45409",
   "metadata": {
    "deletable": true,
    "editable": true
   },
   "outputs": [],
   "source": [
    "# By reassigning dogs, our changes will persist.\n",
    "# Note that we can't run this cell twice! Try it and see what happens.\n",
    "dogs = dogs.set_index('breed')\n",
    "dogs"
   ]
  },
  {
   "cell_type": "code",
   "execution_count": null,
   "id": "484a023c",
   "metadata": {
    "deletable": true,
    "editable": true,
    "slideshow": {
     "slide_type": ""
    },
    "tags": []
   },
   "outputs": [],
   "source": [
    "# There used to be 7 columns, but now there are only 6!\n",
    "# The index is **not** a column!\n",
    "dogs.shape"
   ]
  },
  {
   "cell_type": "code",
   "execution_count": null,
   "id": "478930f3",
   "metadata": {
    "deletable": true,
    "editable": true
   },
   "outputs": [],
   "source": [
    "dogs.index"
   ]
  },
  {
   "cell_type": "markdown",
   "id": "80a315bd",
   "metadata": {
    "deletable": true,
    "editable": true,
    "slideshow": {
     "slide_type": "slide"
    }
   },
   "source": [
    "<div class=\"alert alert-success\">\n",
    "<h3>Activity</h3>\n",
    "    \n",
    "Assign `tallest_breed` to the name, as a **string**, of the tallest breed in the dataset. Answer using `pandas` code, i.e. **don't** look at the dataset and hard-code the answer."
   ]
  },
  {
   "cell_type": "code",
   "execution_count": null,
   "id": "37172f97",
   "metadata": {
    "deletable": true,
    "editable": true
   },
   "outputs": [],
   "source": [
    "tallest_breed = ...\n",
    "tallest_breed"
   ]
  },
  {
   "cell_type": "code",
   "execution_count": null,
   "id": "7e76cc35",
   "metadata": {
    "deletable": true,
    "editable": true
   },
   "outputs": [],
   "source": []
  },
  {
   "cell_type": "markdown",
   "id": "13d56b1b",
   "metadata": {
    "deletable": true,
    "editable": true,
    "slideshow": {
     "slide_type": "skip"
    }
   },
   "source": [
    "<div class=\"alert alert-danger\">\n",
    "    \n",
    "#### Reference Slide\n",
    "\n",
    "### Displaying more rows/columns\n",
    "    \n",
    "</div>"
   ]
  },
  {
   "cell_type": "markdown",
   "id": "a51647e1",
   "metadata": {
    "deletable": true,
    "editable": true,
    "slideshow": {
     "slide_type": "skip"
    }
   },
   "source": [
    "- Sometimes, you just want `pandas` to display a lot of rows and columns. You can use this helper function to do that."
   ]
  },
  {
   "cell_type": "code",
   "execution_count": null,
   "id": "c71743e9",
   "metadata": {
    "deletable": true,
    "editable": true,
    "slideshow": {
     "slide_type": "skip"
    }
   },
   "outputs": [],
   "source": [
    "def display_df(df, rows=pd.options.display.max_rows, cols=pd.options.display.max_columns):\n",
    "    \"\"\"Displays n rows and cols from df.\"\"\"\n",
    "    with pd.option_context(\"display.max_rows\", rows,\n",
    "                           \"display.max_columns\", cols):\n",
    "        display(df)"
   ]
  },
  {
   "cell_type": "code",
   "execution_count": null,
   "id": "ae745dd9",
   "metadata": {
    "deletable": true,
    "editable": true,
    "slideshow": {
     "slide_type": "skip"
    }
   },
   "outputs": [],
   "source": [
    "display_df(dogs.sort_values('weight', ascending=False), rows=42)"
   ]
  },
  {
   "cell_type": "markdown",
   "id": "17017f8d",
   "metadata": {
    "deletable": true,
    "editable": true,
    "slideshow": {
     "slide_type": "slide"
    },
    "tags": []
   },
   "source": [
    "## Selecting columns\n",
    "\n",
    "---\n",
    "\n",
    "In order to answer questions like:\n",
    "\n",
    "> What is the average `'longevity'` of all breeds in the dataset?\n",
    "\n",
    "we'll need to be able to access individual columns in the DataFrame.\n"
   ]
  },
  {
   "cell_type": "markdown",
   "id": "4b70dc0d",
   "metadata": {
    "deletable": true,
    "editable": true,
    "slideshow": {
     "slide_type": "slide"
    },
    "tags": []
   },
   "source": [
    "### Selecting columns with `[]`"
   ]
  },
  {
   "cell_type": "markdown",
   "id": "1e7cb7af",
   "metadata": {
    "deletable": true,
    "editable": true,
    "slideshow": {
     "slide_type": "fragment"
    }
   },
   "source": [
    "- The most common way to select a subset of the columns in a DataFrame is by using the `[]` operator.\n",
    "<br><small>This is just like when we accessed values in a dictionary based on their key.</small>"
   ]
  },
  {
   "cell_type": "code",
   "execution_count": null,
   "id": "104a2624",
   "metadata": {
    "deletable": true,
    "editable": true,
    "slideshow": {
     "slide_type": ""
    },
    "tags": []
   },
   "outputs": [],
   "source": [
    "dogs"
   ]
  },
  {
   "cell_type": "code",
   "execution_count": null,
   "id": "125b82b4",
   "metadata": {
    "deletable": true,
    "editable": true,
    "slideshow": {
     "slide_type": ""
    },
    "tags": []
   },
   "outputs": [],
   "source": [
    "# Returns a Series. Note the index appears again on the left!\n",
    "..."
   ]
  },
  {
   "cell_type": "code",
   "execution_count": null,
   "id": "6daa4445",
   "metadata": {
    "deletable": true,
    "editable": true,
    "slideshow": {
     "slide_type": ""
    },
    "tags": []
   },
   "outputs": [],
   "source": [
    "# Returns a DataFrame.\n",
    "..."
   ]
  },
  {
   "cell_type": "markdown",
   "id": "fd9b0f64",
   "metadata": {
    "deletable": true,
    "editable": true,
    "slideshow": {
     "slide_type": "fragment"
    }
   },
   "source": [
    "- As we've seen above, specifying a single column name returns the column as a Series; specifying a list of column names returns a DataFrame."
   ]
  },
  {
   "cell_type": "code",
   "execution_count": null,
   "id": "c2582521",
   "metadata": {
    "deletable": true,
    "editable": true,
    "slideshow": {
     "slide_type": ""
    },
    "tags": []
   },
   "outputs": [],
   "source": [
    "# 🤔\n",
    "..."
   ]
  },
  {
   "cell_type": "markdown",
   "id": "5e2f7bac",
   "metadata": {
    "deletable": true,
    "editable": true,
    "slideshow": {
     "slide_type": "fragment"
    }
   },
   "source": [
    "- As an aside: when you get an error message in Python, **the most informative part is usually at the bottom!**<br><small>So, if you're posting about your error on Ed, or debugging with us in office hours, show us the bottom first.</small>"
   ]
  },
  {
   "cell_type": "code",
   "execution_count": null,
   "id": "566dad75",
   "metadata": {
    "deletable": true,
    "editable": true,
    "slideshow": {
     "slide_type": ""
    },
    "tags": [
     "raises-exception"
    ]
   },
   "outputs": [],
   "source": [
    "# Breeds are stored in the index, which is not a column!\n",
    "..."
   ]
  },
  {
   "cell_type": "code",
   "execution_count": null,
   "id": "088129ec",
   "metadata": {
    "deletable": true,
    "editable": true,
    "slideshow": {
     "slide_type": ""
    },
    "tags": []
   },
   "outputs": [],
   "source": [
    "..."
   ]
  },
  {
   "cell_type": "markdown",
   "id": "3e2c29eb",
   "metadata": {
    "deletable": true,
    "editable": true,
    "slideshow": {
     "slide_type": "slide"
    },
    "tags": []
   },
   "source": [
    "### Useful Series methods"
   ]
  },
  {
   "cell_type": "markdown",
   "id": "2df5a308",
   "metadata": {
    "deletable": true,
    "editable": true,
    "slideshow": {
     "slide_type": "fragment"
    }
   },
   "source": [
    "- A Series is like a 1D array, **but with an index**."
   ]
  },
  {
   "cell_type": "markdown",
   "id": "e6d2d873",
   "metadata": {
    "deletable": true,
    "editable": true,
    "slideshow": {
     "slide_type": "fragment"
    }
   },
   "source": [
    "- There are a variety of useful methods that work on Series; you can see the entire list [here](https://pandas.pydata.org/docs/reference/api/pandas.Series.html).<br>Many methods that work on a Series will also work on entire DataFrames, as we'll soon see."
   ]
  },
  {
   "cell_type": "code",
   "execution_count": null,
   "id": "b65a0fc2",
   "metadata": {
    "deletable": true,
    "editable": true,
    "slideshow": {
     "slide_type": ""
    },
    "tags": []
   },
   "outputs": [],
   "source": [
    "dogs"
   ]
  },
  {
   "cell_type": "code",
   "execution_count": null,
   "id": "642b0495",
   "metadata": {
    "deletable": true,
    "editable": true,
    "slideshow": {
     "slide_type": ""
    },
    "tags": []
   },
   "outputs": [],
   "source": [
    "# What are the unique kinds of dogs?\n",
    "..."
   ]
  },
  {
   "cell_type": "code",
   "execution_count": null,
   "id": "091fe560",
   "metadata": {
    "deletable": true,
    "editable": true
   },
   "outputs": [],
   "source": [
    "# How many unique kinds of dogs are there?\n",
    "..."
   ]
  },
  {
   "cell_type": "code",
   "execution_count": null,
   "id": "6af78cdd",
   "metadata": {
    "deletable": true,
    "editable": true,
    "slideshow": {
     "slide_type": ""
    },
    "tags": []
   },
   "outputs": [],
   "source": [
    "# What's the distribution of kinds?\n",
    "# value_counts is super useful – and I love asking exam questions about it!\n",
    "..."
   ]
  },
  {
   "cell_type": "code",
   "execution_count": null,
   "id": "40b5ba2a",
   "metadata": {
    "deletable": true,
    "editable": true,
    "slideshow": {
     "slide_type": ""
    },
    "tags": []
   },
   "outputs": [],
   "source": [
    "# What's the mean of the 'longevity' column?\n",
    "..."
   ]
  },
  {
   "cell_type": "code",
   "execution_count": null,
   "id": "d6d10fd8",
   "metadata": {
    "deletable": true,
    "editable": true,
    "slideshow": {
     "slide_type": ""
    },
    "tags": []
   },
   "outputs": [],
   "source": [
    "# Tell me more about the 'weight' column.\n",
    "..."
   ]
  },
  {
   "cell_type": "code",
   "execution_count": null,
   "id": "b108b14f",
   "metadata": {
    "deletable": true,
    "editable": true,
    "slideshow": {
     "slide_type": ""
    },
    "tags": []
   },
   "outputs": [],
   "source": [
    "# Sort the 'lifetime_cost' column. Note that here we're using sort_values on a Series, not a DataFrame!\n",
    "..."
   ]
  },
  {
   "cell_type": "code",
   "execution_count": null,
   "id": "681bddf7",
   "metadata": {
    "deletable": true,
    "editable": true
   },
   "outputs": [],
   "source": [
    "# Gives us the index of the largest value, not the largest value itself.\n",
    "# Note that this makes our Activity from a few slides ago way easier!\n",
    "..."
   ]
  },
  {
   "cell_type": "markdown",
   "id": "62d15e70",
   "metadata": {
    "deletable": true,
    "editable": true,
    "slideshow": {
     "slide_type": "slide"
    }
   },
   "source": [
    "### Method chaining 🔗"
   ]
  },
  {
   "cell_type": "markdown",
   "id": "9cdffc24",
   "metadata": {
    "deletable": true,
    "editable": true,
    "slideshow": {
     "slide_type": "fragment"
    }
   },
   "source": [
    "- When using `pandas`, it's common to use several method calls, one after another.<br>We call this **method chaining**."
   ]
  },
  {
   "cell_type": "markdown",
   "id": "686f4536",
   "metadata": {
    "deletable": true,
    "editable": true,
    "slideshow": {
     "slide_type": "fragment"
    }
   },
   "source": [
    "- For instance, the line of code below finds the most common `'size'` among the 10 heaviest breeds."
   ]
  },
  {
   "cell_type": "code",
   "execution_count": null,
   "id": "b07e2978",
   "metadata": {
    "deletable": true,
    "editable": true
   },
   "outputs": [],
   "source": [
    "dogs.sort_values('weight', ascending=False).head(10)['size'].value_counts().idxmax()"
   ]
  },
  {
   "cell_type": "markdown",
   "id": "e5851144",
   "metadata": {
    "deletable": true,
    "editable": true,
    "slideshow": {
     "slide_type": "fragment"
    }
   },
   "source": [
    "- When writing code like this, it's important to:\n",
    "    1. Write **one method call** at a time.\n",
    "    1. Understand the data structures involved!"
   ]
  },
  {
   "cell_type": "code",
   "execution_count": null,
   "id": "c1341554",
   "metadata": {
    "deletable": true,
    "editable": true
   },
   "outputs": [],
   "source": [
    "show_chaining_slides()"
   ]
  },
  {
   "cell_type": "markdown",
   "id": "6647a708",
   "metadata": {
    "deletable": true,
    "editable": true,
    "slideshow": {
     "slide_type": "slide"
    }
   },
   "source": [
    "- One tip: if a line of `pandas` code gets too long, spread it out over multiple lines by wrapping it in `(`parentheses`)`."
   ]
  },
  {
   "cell_type": "code",
   "execution_count": null,
   "id": "8b6f79a6",
   "metadata": {
    "deletable": true,
    "editable": true
   },
   "outputs": [],
   "source": [
    "..."
   ]
  },
  {
   "cell_type": "markdown",
   "id": "d7abcec6",
   "metadata": {
    "deletable": true,
    "editable": true,
    "slideshow": {
     "slide_type": "slide"
    }
   },
   "source": [
    "### Series support vectorized operations"
   ]
  },
  {
   "cell_type": "markdown",
   "id": "30748d7a",
   "metadata": {
    "deletable": true,
    "editable": true,
    "slideshow": {
     "slide_type": "fragment"
    }
   },
   "source": [
    "- Series operations are vectorized, just like with arrays."
   ]
  },
  {
   "cell_type": "markdown",
   "id": "ffe71924",
   "metadata": {
    "deletable": true,
    "editable": true,
    "slideshow": {
     "slide_type": "fragment"
    }
   },
   "source": [
    "- When performing elementwise-operations involving multiple Series, `pandas` aligns the Series by their **index**."
   ]
  },
  {
   "cell_type": "code",
   "execution_count": null,
   "id": "7adbd204",
   "metadata": {
    "deletable": true,
    "editable": true
   },
   "outputs": [],
   "source": [
    "x = pd.Series({'a': 1, 'b': 2})\n",
    "x"
   ]
  },
  {
   "cell_type": "code",
   "execution_count": null,
   "id": "f4e4a6c2",
   "metadata": {
    "deletable": true,
    "editable": true
   },
   "outputs": [],
   "source": [
    "x * 5"
   ]
  },
  {
   "cell_type": "code",
   "execution_count": null,
   "id": "bdc325d0",
   "metadata": {
    "deletable": true,
    "editable": true
   },
   "outputs": [],
   "source": [
    "y = pd.Series({'b': 5, 'c': -1, 'a': 10})\n",
    "y"
   ]
  },
  {
   "cell_type": "code",
   "execution_count": null,
   "id": "347fef43",
   "metadata": {
    "deletable": true,
    "editable": true
   },
   "outputs": [],
   "source": [
    "# If x and y were regular numpy arrays, this would error because of the size mismatch.\n",
    "x + y"
   ]
  },
  {
   "cell_type": "markdown",
   "id": "3b35e463",
   "metadata": {
    "deletable": true,
    "editable": true,
    "slideshow": {
     "slide_type": "slide"
    }
   },
   "source": [
    "- Example: If I adopt a puppy today, when should I expect them to live until?"
   ]
  },
  {
   "cell_type": "code",
   "execution_count": null,
   "id": "e246b6ac",
   "metadata": {
    "deletable": true,
    "editable": true
   },
   "outputs": [],
   "source": [
    "dogs"
   ]
  },
  {
   "cell_type": "code",
   "execution_count": null,
   "id": "b07560e1",
   "metadata": {
    "deletable": true,
    "editable": true
   },
   "outputs": [],
   "source": [
    "..."
   ]
  },
  {
   "cell_type": "markdown",
   "id": "c418059c",
   "metadata": {
    "deletable": true,
    "editable": true,
    "slideshow": {
     "slide_type": "slide"
    }
   },
   "source": [
    "- Example: What is the Body Mass Index (BMI) of each breed?<br><small>Remember, 1 kg = 2.2 pounds and 1 inch = 2.54 cm = 0.0254 m.</small>"
   ]
  },
  {
   "cell_type": "code",
   "execution_count": null,
   "id": "bb75137f",
   "metadata": {
    "deletable": true,
    "editable": true
   },
   "outputs": [],
   "source": [
    "dogs"
   ]
  },
  {
   "cell_type": "code",
   "execution_count": null,
   "id": "12844f56",
   "metadata": {
    "deletable": true,
    "editable": true
   },
   "outputs": [],
   "source": [
    "..."
   ]
  },
  {
   "cell_type": "markdown",
   "id": "732ff24f",
   "metadata": {
    "deletable": true,
    "editable": true,
    "slideshow": {
     "slide_type": "slide"
    }
   },
   "source": [
    "### Aside: Visualization 📊"
   ]
  },
  {
   "cell_type": "markdown",
   "id": "9e6e2960",
   "metadata": {
    "deletable": true,
    "editable": true,
    "slideshow": {
     "slide_type": "fragment"
    }
   },
   "source": [
    "- We'll spend more time talking about when to create which types of visualizations in a few lectures."
   ]
  },
  {
   "cell_type": "markdown",
   "id": "22f32c15",
   "metadata": {
    "deletable": true,
    "editable": true,
    "slideshow": {
     "slide_type": "fragment"
    }
   },
   "source": [
    "- But for now, you can start exploring how the DataFrame `plot` method works!"
   ]
  },
  {
   "cell_type": "code",
   "execution_count": null,
   "id": "e2df1f8b",
   "metadata": {
    "deletable": true,
    "editable": true
   },
   "outputs": [],
   "source": [
    "dogs.plot(kind='scatter', x='weight', y='longevity')"
   ]
  },
  {
   "cell_type": "code",
   "execution_count": null,
   "id": "fe7630e4",
   "metadata": {
    "deletable": true,
    "editable": true
   },
   "outputs": [],
   "source": [
    "# Hover over a point and see what happens!\n",
    "(\n",
    "    dogs\n",
    "    .reset_index()\n",
    "    .plot(kind='scatter', x='weight', y='longevity', color='size', hover_name='breed',\n",
    "          title='Longevity vs. Weight for 42 Dog Breeds')\n",
    ")"
   ]
  },
  {
   "cell_type": "code",
   "execution_count": null,
   "id": "75b462a7",
   "metadata": {
    "deletable": true,
    "editable": true
   },
   "outputs": [],
   "source": [
    "(\n",
    "    dogs['kind']\n",
    "    .value_counts()\n",
    "    .sort_values()\n",
    "    .plot(kind='barh', title='Distribution of Dog Kinds')\n",
    ")"
   ]
  },
  {
   "cell_type": "markdown",
   "id": "3c600656",
   "metadata": {
    "deletable": true,
    "editable": true,
    "slideshow": {
     "slide_type": "slide"
    },
    "tags": []
   },
   "source": [
    "## Selecting slices 🍰\n",
    "\n",
    "---\n",
    "\n",
    "Now that we know how to access specific columns in a dataset, how do we access specific rows? Or even individual values?\n"
   ]
  },
  {
   "cell_type": "markdown",
   "id": "3e662008",
   "metadata": {
    "deletable": true,
    "editable": true,
    "slideshow": {
     "slide_type": "slide"
    }
   },
   "source": [
    "<center><img src=\"imgs/slice.png\" width=900></center>"
   ]
  },
  {
   "cell_type": "markdown",
   "id": "6acdafb4",
   "metadata": {
    "deletable": true,
    "editable": true,
    "slideshow": {
     "slide_type": "slide"
    },
    "tags": []
   },
   "source": [
    "### Use `loc` to slice rows and columns using labels"
   ]
  },
  {
   "cell_type": "markdown",
   "id": "a6f6b05c",
   "metadata": {
    "deletable": true,
    "editable": true,
    "slideshow": {
     "slide_type": "fragment"
    }
   },
   "source": [
    "- `loc` stands for \"location\".<br><small>I pronounce it \"loke\", like \"broke\", not \"lock\".</small>"
   ]
  },
  {
   "cell_type": "markdown",
   "id": "7d426f88",
   "metadata": {
    "deletable": true,
    "editable": true,
    "slideshow": {
     "slide_type": "fragment"
    }
   },
   "source": [
    "- The `loc` indexer works similarly to slicing 2D arrays, but it uses row **labels** and column **labels**, not positions.<br><small>Remember, the \"index\" refers to the row labels.</small>"
   ]
  },
  {
   "cell_type": "code",
   "execution_count": null,
   "id": "2c94c696",
   "metadata": {
    "deletable": true,
    "editable": true
   },
   "outputs": [],
   "source": [
    "dogs"
   ]
  },
  {
   "cell_type": "code",
   "execution_count": null,
   "id": "c0c7aea8",
   "metadata": {
    "deletable": true,
    "editable": true,
    "slideshow": {
     "slide_type": ""
    },
    "tags": []
   },
   "outputs": [],
   "source": [
    "# The first argument is the row label, i.e. the index value.\n",
    "#        ↓\n",
    "dogs.loc['Pug', 'longevity']\n",
    "#                  ↑\n",
    "# The second argument is the column label."
   ]
  },
  {
   "cell_type": "markdown",
   "id": "72531dcc",
   "metadata": {
    "deletable": true,
    "editable": true,
    "slideshow": {
     "slide_type": "fragment"
    }
   },
   "source": [
    "- `loc` is **not** a method – it's an indexer."
   ]
  },
  {
   "cell_type": "code",
   "execution_count": null,
   "id": "5cb17f06",
   "metadata": {
    "deletable": true,
    "editable": true
   },
   "outputs": [],
   "source": [
    "type(dogs.loc)"
   ]
  },
  {
   "cell_type": "code",
   "execution_count": null,
   "id": "21f755f7",
   "metadata": {
    "deletable": true,
    "editable": true
   },
   "outputs": [],
   "source": [
    "type(dogs.sort_values)"
   ]
  },
  {
   "cell_type": "markdown",
   "id": "68d03a20",
   "metadata": {
    "deletable": true,
    "editable": true,
    "slideshow": {
     "slide_type": "slide"
    },
    "tags": []
   },
   "source": [
    "### `loc` is flexible 🧘"
   ]
  },
  {
   "cell_type": "markdown",
   "id": "325ce5f1",
   "metadata": {
    "deletable": true,
    "editable": true,
    "slideshow": {
     "slide_type": "fragment"
    }
   },
   "source": [
    "- You can provide a sequence (list, array, Series) as either argument to `loc`."
   ]
  },
  {
   "cell_type": "code",
   "execution_count": null,
   "id": "b17b1d7f",
   "metadata": {
    "deletable": true,
    "editable": true
   },
   "outputs": [],
   "source": [
    "dogs"
   ]
  },
  {
   "cell_type": "code",
   "execution_count": null,
   "id": "2895b1af",
   "metadata": {
    "deletable": true,
    "editable": true
   },
   "outputs": [],
   "source": [
    "dogs.loc[['Cocker Spaniel', 'Labrador Retriever'], 'size']"
   ]
  },
  {
   "cell_type": "code",
   "execution_count": null,
   "id": "3b817798",
   "metadata": {
    "deletable": true,
    "editable": true,
    "slideshow": {
     "slide_type": ""
    },
    "tags": []
   },
   "outputs": [],
   "source": [
    "dogs.loc[['Cocker Spaniel', 'Labrador Retriever'], ['kind', 'size', 'height']]"
   ]
  },
  {
   "cell_type": "code",
   "execution_count": null,
   "id": "0f428367",
   "metadata": {
    "deletable": true,
    "editable": true
   },
   "outputs": [],
   "source": [
    "# Note that the 'weight' column is included!\n",
    "# loc, per the pandas documentation, is inclusive of both slicer endpoints.\n",
    "dogs.loc[['Cocker Spaniel', 'Labrador Retriever'], 'lifetime_cost': 'weight']"
   ]
  },
  {
   "cell_type": "code",
   "execution_count": null,
   "id": "d44ffce6",
   "metadata": {
    "deletable": true,
    "editable": true,
    "slideshow": {
     "slide_type": ""
    },
    "tags": []
   },
   "outputs": [],
   "source": [
    "dogs.loc[['Cocker Spaniel', 'Labrador Retriever']]"
   ]
  },
  {
   "cell_type": "markdown",
   "id": "a0d930f5",
   "metadata": {
    "deletable": true,
    "editable": true,
    "slideshow": {
     "slide_type": "slide"
    },
    "tags": []
   },
   "source": [
    "### Use `iloc` to slice rows and columns using positions"
   ]
  },
  {
   "cell_type": "markdown",
   "id": "fb595907",
   "metadata": {
    "deletable": true,
    "editable": true,
    "slideshow": {
     "slide_type": "fragment"
    }
   },
   "source": [
    "- `iloc` stands for \"integer location.\""
   ]
  },
  {
   "cell_type": "markdown",
   "id": "2f97a514",
   "metadata": {
    "deletable": true,
    "editable": true,
    "slideshow": {
     "slide_type": "fragment"
    }
   },
   "source": [
    "- `iloc` is like `loc`, but it selects rows and columns based off of integer positions only, just like with 2D arrays."
   ]
  },
  {
   "cell_type": "code",
   "execution_count": null,
   "id": "3ce61a83",
   "metadata": {
    "deletable": true,
    "editable": true,
    "slideshow": {
     "slide_type": ""
    },
    "tags": []
   },
   "outputs": [],
   "source": [
    "dogs"
   ]
  },
  {
   "cell_type": "code",
   "execution_count": null,
   "id": "2f90f398",
   "metadata": {
    "deletable": true,
    "editable": true,
    "slideshow": {
     "slide_type": ""
    },
    "tags": []
   },
   "outputs": [],
   "source": [
    "# Try removing the iloc and see what happens!\n",
    "..."
   ]
  },
  {
   "cell_type": "markdown",
   "id": "010ca159",
   "metadata": {
    "deletable": true,
    "editable": true,
    "slideshow": {
     "slide_type": "fragment"
    },
    "tags": []
   },
   "source": [
    "- `iloc` is often most useful when we sort first. For instance, to find the weight of the longest-living breed in the dataset:"
   ]
  },
  {
   "cell_type": "code",
   "execution_count": null,
   "id": "928caeca",
   "metadata": {
    "deletable": true,
    "editable": true,
    "slideshow": {
     "slide_type": ""
    },
    "tags": []
   },
   "outputs": [],
   "source": [
    "..."
   ]
  },
  {
   "cell_type": "code",
   "execution_count": null,
   "id": "a145d1ce",
   "metadata": {
    "deletable": true,
    "editable": true,
    "slideshow": {
     "slide_type": "fragment"
    },
    "tags": []
   },
   "outputs": [],
   "source": [
    "# Finding the breed itself involves sorting, but not iloc, since breeds are stored in the index.\n",
    "..."
   ]
  },
  {
   "cell_type": "markdown",
   "id": "3bf3bc45",
   "metadata": {
    "deletable": true,
    "editable": true,
    "slideshow": {
     "slide_type": "slide"
    }
   },
   "source": [
    "<div class=\"alert alert-success\">\n",
    "<h3>Activity</h3>\n",
    "    \n",
    "Among just the following four breeds, what is the height of the second tallest breed?\n",
    "    \n",
    "- Cocker Spaniel.\n",
    "- Labrador Retriever.\n",
    "- Irish Setter.\n",
    "- Newfoundland.\n",
    "    \n",
    "Assign your answer to `second_tallest_height` below. Answer using `pandas` code, i.e. **don't** look at the dataset and hard-code the answer.\n",
    "    \n",
    "<small>If we don't have time to try this activity in lecture, the answer is posted in `lec04-filled.ipynb` and in the \"filled html\" link on the course website.</small>"
   ]
  },
  {
   "cell_type": "code",
   "execution_count": null,
   "id": "5c157848",
   "metadata": {
    "deletable": true,
    "editable": true
   },
   "outputs": [],
   "source": [
    "..."
   ]
  },
  {
   "cell_type": "code",
   "execution_count": null,
   "id": "1a5b1bfd",
   "metadata": {
    "deletable": true,
    "editable": true
   },
   "outputs": [],
   "source": []
  },
  {
   "cell_type": "markdown",
   "id": "894a3796",
   "metadata": {
    "deletable": true,
    "editable": true,
    "slideshow": {
     "slide_type": "slide"
    }
   },
   "source": [
    "## Querying 🔎\n",
    "\n",
    "---\n",
    "\n",
    "Okay, but what if we don't know anything about the position or index of a row we're looking for? How do we find rows that satisfy certain **conditions**?"
   ]
  },
  {
   "cell_type": "markdown",
   "id": "bfc41771",
   "metadata": {
    "deletable": true,
    "editable": true,
    "slideshow": {
     "slide_type": "slide"
    }
   },
   "source": [
    "### Reflection"
   ]
  },
  {
   "cell_type": "markdown",
   "id": "9b8a9dce",
   "metadata": {
    "deletable": true,
    "editable": true,
    "slideshow": {
     "slide_type": "fragment"
    }
   },
   "source": [
    "- So far, all of the questions we've been able to answer involved all of the rows in the dataset.\n",
    "<br><small>What's the weight of the longest-living breed? What's the average lifetime cost of all breeds? Which breed is third heaviest?</small>"
   ]
  },
  {
   "cell_type": "markdown",
   "id": "52f1124a",
   "metadata": {
    "deletable": true,
    "editable": true,
    "slideshow": {
     "slide_type": "fragment"
    }
   },
   "source": [
    "- We don't yet have a mechanism to answer questions about a specific subset of the dataset.\n",
    "<br><small>How many terriers are there? What's the average longevity of medium-sized breeds?</small>"
   ]
  },
  {
   "cell_type": "markdown",
   "id": "5c8da05e",
   "metadata": {
    "deletable": true,
    "editable": true,
    "slideshow": {
     "slide_type": "slide"
    },
    "tags": []
   },
   "source": [
    "### Querying"
   ]
  },
  {
   "cell_type": "markdown",
   "id": "897618b1",
   "metadata": {
    "deletable": true,
    "editable": true,
    "slideshow": {
     "slide_type": "fragment"
    }
   },
   "source": [
    "- Querying is the act selecting rows in a DataFrame that satisfy certain condition(s).<br><small>We sometimes call this \"filtering\", but filtering also has another meaning, which we'll see next week.</small>"
   ]
  },
  {
   "cell_type": "markdown",
   "id": "d15aa854",
   "metadata": {
    "deletable": true,
    "editable": true,
    "slideshow": {
     "slide_type": "fragment"
    }
   },
   "source": [
    "- As we saw in Lecture 3, comparisons with arrays result in Boolean arrays.<br>The same is true for Series – **make a comparison with a Series, and the result is a Boolean Series!**"
   ]
  },
  {
   "cell_type": "markdown",
   "id": "ee0ed7e8",
   "metadata": {
    "deletable": true,
    "editable": true,
    "slideshow": {
     "slide_type": "fragment"
    }
   },
   "source": [
    "- We can use comparisons along with the `loc` operator to select specific rows from a DataFrame."
   ]
  },
  {
   "cell_type": "code",
   "execution_count": null,
   "id": "721724a3",
   "metadata": {
    "deletable": true,
    "editable": true,
    "slideshow": {
     "slide_type": ""
    },
    "tags": []
   },
   "outputs": [],
   "source": [
    "dogs"
   ]
  },
  {
   "cell_type": "code",
   "execution_count": null,
   "id": "aa4e7ba7",
   "metadata": {
    "deletable": true,
    "editable": true
   },
   "outputs": [],
   "source": [
    "..."
   ]
  },
  {
   "cell_type": "code",
   "execution_count": null,
   "id": "ed6391b1",
   "metadata": {
    "deletable": true,
    "editable": true,
    "slideshow": {
     "slide_type": ""
    },
    "tags": []
   },
   "outputs": [],
   "source": [
    "..."
   ]
  },
  {
   "cell_type": "markdown",
   "id": "87f30b74",
   "metadata": {
    "deletable": true,
    "editable": true,
    "slideshow": {
     "slide_type": "slide"
    }
   },
   "source": [
    "- Example: How many breeds live to be at least 10 years old?"
   ]
  },
  {
   "cell_type": "code",
   "execution_count": null,
   "id": "3169e7c1",
   "metadata": {
    "deletable": true,
    "editable": true
   },
   "outputs": [],
   "source": [
    "..."
   ]
  },
  {
   "cell_type": "markdown",
   "id": "4da7297a",
   "metadata": {
    "deletable": true,
    "editable": true,
    "slideshow": {
     "slide_type": "fragment"
    }
   },
   "source": [
    "- Since querying is so common, there's a shortcut – `loc` isn't necessary."
   ]
  },
  {
   "cell_type": "code",
   "execution_count": null,
   "id": "7116a9b6",
   "metadata": {
    "deletable": true,
    "editable": true
   },
   "outputs": [],
   "source": [
    "..."
   ]
  },
  {
   "cell_type": "markdown",
   "id": "22d5ed19",
   "metadata": {
    "deletable": true,
    "editable": true,
    "slideshow": {
     "slide_type": "slide"
    }
   },
   "source": [
    "- Example: Among all breeds with `'Retriever'` in the name, which is the second tallest?"
   ]
  },
  {
   "cell_type": "code",
   "execution_count": null,
   "id": "8938743f",
   "metadata": {
    "deletable": true,
    "editable": true
   },
   "outputs": [],
   "source": [
    "# Since we're selecting both rows AND columns, we do need loc here.\n",
    "..."
   ]
  },
  {
   "cell_type": "markdown",
   "id": "f417101b",
   "metadata": {
    "deletable": true,
    "editable": true,
    "slideshow": {
     "slide_type": "slide"
    }
   },
   "source": [
    "- Example: Are there any `'beaver'` kinds?"
   ]
  },
  {
   "cell_type": "code",
   "execution_count": null,
   "id": "81ebcd09",
   "metadata": {
    "deletable": true,
    "editable": true
   },
   "outputs": [],
   "source": [
    "# Empty DataFrame – not an error!\n",
    "..."
   ]
  },
  {
   "cell_type": "markdown",
   "id": "42e3c582",
   "metadata": {
    "deletable": true,
    "editable": true,
    "slideshow": {
     "slide_type": "slide"
    }
   },
   "source": [
    "- Example: Show me all rows for `'Golden Retriever'`s.<br><small>Note that because we set the index to `'breed'` earlier, we can select rows based on dog breeds without having to query. If `'breed'` was instead a column, then we'd need to query to access information about a particular breed.</small>"
   ]
  },
  {
   "cell_type": "code",
   "execution_count": null,
   "id": "19df4095",
   "metadata": {
    "deletable": true,
    "editable": true
   },
   "outputs": [],
   "source": [
    "..."
   ]
  },
  {
   "cell_type": "markdown",
   "id": "3f1f665d",
   "metadata": {
    "deletable": true,
    "editable": true,
    "slideshow": {
     "slide_type": "slide"
    }
   },
   "source": [
    "- Example: Show me all of the rows for `'sporting'` or `'working'` breeds.<br><small>If using multiple conditions, you need parentheses around each condition!<br>Also, you must use the bitwise operators `&` and `|` instead of the standard `and` and `or` keywords, as we saw in Lecture 3.</small>"
   ]
  },
  {
   "cell_type": "code",
   "execution_count": null,
   "id": "d5df4ec0",
   "metadata": {
    "deletable": true,
    "editable": true
   },
   "outputs": [],
   "source": [
    "..."
   ]
  },
  {
   "cell_type": "code",
   "execution_count": null,
   "id": "e301db81",
   "metadata": {
    "deletable": true,
    "editable": true
   },
   "outputs": [],
   "source": [
    "# Equivalent to the above!\n",
    "..."
   ]
  },
  {
   "cell_type": "markdown",
   "id": "f844708c",
   "metadata": {
    "deletable": true,
    "editable": true,
    "slideshow": {
     "slide_type": "skip"
    }
   },
   "source": [
    "<div class=\"alert alert-danger\" markdown=\"1\">\n",
    "\n",
    "#### Reference Slide\n",
    "\n",
    "### The `query` method"
   ]
  },
  {
   "cell_type": "markdown",
   "id": "0668c662",
   "metadata": {
    "deletable": true,
    "editable": true,
    "slideshow": {
     "slide_type": "skip"
    }
   },
   "source": [
    "The DataFrame `query` method is a convenient way to query, since you don't need parentheses and you can use the `and` and `or` keywords."
   ]
  },
  {
   "cell_type": "code",
   "execution_count": null,
   "id": "e4d9448c",
   "metadata": {
    "deletable": true,
    "editable": true,
    "slideshow": {
     "slide_type": "skip"
    }
   },
   "outputs": [],
   "source": [
    "dogs"
   ]
  },
  {
   "cell_type": "code",
   "execution_count": null,
   "id": "ed50f104",
   "metadata": {
    "deletable": true,
    "editable": true,
    "slideshow": {
     "slide_type": "skip"
    },
    "tags": []
   },
   "outputs": [],
   "source": [
    "dogs.query('weight < 20 and kind == \"terrier\"')"
   ]
  },
  {
   "cell_type": "code",
   "execution_count": null,
   "id": "616315b3",
   "metadata": {
    "deletable": true,
    "editable": true,
    "slideshow": {
     "slide_type": "skip"
    },
    "tags": []
   },
   "outputs": [],
   "source": [
    "dogs.query('kind in [\"sporting\", \"terrier\"] and lifetime_cost < 20000')"
   ]
  },
  {
   "cell_type": "markdown",
   "id": "f9b7e1c7",
   "metadata": {
    "deletable": true,
    "editable": true,
    "slideshow": {
     "slide_type": "skip"
    },
    "tags": []
   },
   "source": [
    "<div class=\"alert alert-danger\" markdown=\"1\">\n",
    "\n",
    "#### Reference Slide\n",
    "\n",
    "### More practice"
   ]
  },
  {
   "cell_type": "markdown",
   "id": "9fe6f0f4",
   "metadata": {
    "deletable": true,
    "editable": true,
    "slideshow": {
     "slide_type": "skip"
    }
   },
   "source": [
    "- For each of the following pieces of code, predict what the output will be. Then, uncomment the line of code and see for yourself. We **won't** cover these in class, but you should try them out yourself. [Here's a Pandas Tutor link](https://pandastutor.com/vis.html#code=import%20pandas%20as%20pd%0A%0Ajack%20%3D%20pd.DataFrame%28%7B1%3A%20%5B'fee',%20'fi'%5D,%20%0A%20%20%20%20%20%20%20%20%20%20%20%20%20%20%20%20%20%20%20%20%20'1'%3A%20%5B'fo',%20'fum'%5D%7D%29%0Ajack%5B1%5D&d=2023-10-05&lang=py&v=v1) to visualize these!"
   ]
  },
  {
   "cell_type": "code",
   "execution_count": null,
   "id": "4b347cd0",
   "metadata": {
    "deletable": true,
    "editable": true,
    "slideshow": {
     "slide_type": "skip"
    },
    "tags": []
   },
   "outputs": [],
   "source": [
    "jack = pd.DataFrame({1: ['fee', 'fi'], \n",
    "                     '1': ['fo', 'fum']})\n",
    "jack"
   ]
  },
  {
   "cell_type": "code",
   "execution_count": null,
   "id": "7508caf5",
   "metadata": {
    "deletable": true,
    "editable": true,
    "slideshow": {
     "slide_type": "skip"
    },
    "tags": []
   },
   "outputs": [],
   "source": [
    "jack[1]"
   ]
  },
  {
   "cell_type": "code",
   "execution_count": null,
   "id": "0597690f",
   "metadata": {
    "deletable": true,
    "editable": true,
    "slideshow": {
     "slide_type": "skip"
    },
    "tags": []
   },
   "outputs": [],
   "source": [
    "jack[[1]]"
   ]
  },
  {
   "cell_type": "code",
   "execution_count": null,
   "id": "67deb5e6",
   "metadata": {
    "deletable": true,
    "editable": true,
    "slideshow": {
     "slide_type": "skip"
    },
    "tags": []
   },
   "outputs": [],
   "source": [
    "jack['1']"
   ]
  },
  {
   "cell_type": "code",
   "execution_count": null,
   "id": "a95913b8",
   "metadata": {
    "deletable": true,
    "editable": true,
    "slideshow": {
     "slide_type": "skip"
    },
    "tags": []
   },
   "outputs": [],
   "source": [
    "jack[[1, 1]]"
   ]
  },
  {
   "cell_type": "code",
   "execution_count": null,
   "id": "53686c5a",
   "metadata": {
    "deletable": true,
    "editable": true,
    "slideshow": {
     "slide_type": "skip"
    },
    "tags": []
   },
   "outputs": [],
   "source": [
    "jack.loc[1]"
   ]
  },
  {
   "cell_type": "code",
   "execution_count": null,
   "id": "ffebb3e1",
   "metadata": {
    "deletable": true,
    "editable": true,
    "slideshow": {
     "slide_type": "skip"
    },
    "tags": []
   },
   "outputs": [],
   "source": [
    "jack.loc[jack[1] == 'fo']"
   ]
  },
  {
   "cell_type": "code",
   "execution_count": null,
   "id": "560b181f",
   "metadata": {
    "deletable": true,
    "editable": true,
    "slideshow": {
     "slide_type": "skip"
    },
    "tags": []
   },
   "outputs": [],
   "source": [
    "jack[1, ['1', 1]]"
   ]
  },
  {
   "cell_type": "code",
   "execution_count": null,
   "id": "539bb5a7",
   "metadata": {
    "deletable": true,
    "editable": true,
    "slideshow": {
     "slide_type": "skip"
    },
    "tags": []
   },
   "outputs": [],
   "source": [
    "jack.loc[1, 1]"
   ]
  },
  {
   "cell_type": "markdown",
   "id": "7c9ff18f",
   "metadata": {
    "deletable": true,
    "editable": true,
    "slideshow": {
     "slide_type": "slide"
    }
   },
   "source": [
    "### What's next?"
   ]
  },
  {
   "cell_type": "markdown",
   "id": "372d66a6",
   "metadata": {
    "deletable": true,
    "editable": true,
    "slideshow": {
     "slide_type": "fragment"
    }
   },
   "source": [
    "- Suppose we want to find the average `'longevity'` of each `'kind'`."
   ]
  },
  {
   "cell_type": "code",
   "execution_count": null,
   "id": "9e61cbf1",
   "metadata": {
    "deletable": true,
    "editable": true
   },
   "outputs": [],
   "source": [
    "dogs['kind'].unique()"
   ]
  },
  {
   "cell_type": "markdown",
   "id": "a8b8b4c6",
   "metadata": {
    "deletable": true,
    "editable": true,
    "slideshow": {
     "slide_type": "fragment"
    }
   },
   "source": [
    "- Using our current toolkit, we'd:\n",
    "    1. Find all unique values in the `'kind'` column.\n",
    "    1. For each one, query the rows for just that `'kind'`, extract the `'longevity'` column, and take the mean."
   ]
  },
  {
   "cell_type": "code",
   "execution_count": null,
   "id": "6bc0bf93",
   "metadata": {
    "deletable": true,
    "editable": true
   },
   "outputs": [],
   "source": [
    "dogs.loc[dogs['kind'] == 'sporting', 'longevity'].mean()"
   ]
  },
  {
   "cell_type": "code",
   "execution_count": null,
   "id": "eb363b12",
   "metadata": {
    "deletable": true,
    "editable": true
   },
   "outputs": [],
   "source": [
    "dogs.loc[dogs['kind'] == 'terrier', 'longevity'].mean()"
   ]
  },
  {
   "cell_type": "markdown",
   "id": "4bdce2d4",
   "metadata": {
    "deletable": true,
    "editable": true,
    "slideshow": {
     "slide_type": "fragment"
    }
   },
   "source": [
    "- This can get time-consuming! How can we compute all 7 of these means **with a single line of code**?"
   ]
  }
 ],
 "metadata": {
  "celltoolbar": "None",
  "kernelspec": {
   "display_name": "Python 3 (ipykernel)",
   "language": "python",
   "name": "python3"
  },
  "language_info": {
   "codemirror_mode": {
    "name": "ipython",
    "version": 3
   },
   "file_extension": ".py",
   "mimetype": "text/x-python",
   "name": "python",
   "nbconvert_exporter": "python",
   "pygments_lexer": "ipython3",
   "version": "3.10.16"
  },
  "livereveal": {
   "scroll": true
  },
  "rise": {
   "transition": "none"
  }
 },
 "nbformat": 4,
 "nbformat_minor": 5
}
