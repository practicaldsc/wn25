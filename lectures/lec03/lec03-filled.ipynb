{
 "cells": [
  {
   "cell_type": "code",
   "execution_count": null,
   "id": "5d9c7a0e",
   "metadata": {
    "deletable": true,
    "editable": true,
    "slideshow": {
     "slide_type": "skip"
    },
    "tags": []
   },
   "outputs": [],
   "source": [
    "from lec_utils import *\n",
    "import matplotlib.pyplot as plt\n",
    "from PIL import Image"
   ]
  },
  {
   "cell_type": "markdown",
   "id": "959176d5",
   "metadata": {
    "deletable": true,
    "editable": true,
    "slideshow": {
     "slide_type": "slide"
    },
    "tags": []
   },
   "source": [
    "<div class=\"alert alert-info\" markdown=\"1\">\n",
    "\n",
    "#### Lecture 3\n",
    "\n",
    "# NumPy and Random Simulations\n",
    "\n",
    "### EECS 398: Practical Data Science, Winter 2025\n",
    "\n",
    "<small><a style=\"text-decoration: none\" href=\"https://practicaldsc.org\">practicaldsc.org</a> • <a style=\"text-decoration: none\" href=\"https://github.com/practicaldsc/wn25\">github.com/practicaldsc/wn25</a> • 📣 See latest announcements [**here on Ed**](https://edstem.org/us/courses/69737/discussion/5943734) </small>\n",
    "    \n",
    "</div>"
   ]
  },
  {
   "cell_type": "markdown",
   "id": "42986929",
   "metadata": {
    "deletable": true,
    "editable": true,
    "slideshow": {
     "slide_type": "slide"
    }
   },
   "source": [
    "### Agenda\n",
    "\n",
    "- `numpy` arrays.\n",
    "- Multidimensional arrays and linear algebra.\n",
    "- Randomness and simulations.\n",
    "\n",
    "See the end of Lecture 2 for a walkthrough video of the final area codes example; we won't touch on it today."
   ]
  },
  {
   "cell_type": "markdown",
   "id": "e93b0f82",
   "metadata": {
    "deletable": true,
    "editable": true,
    "slideshow": {
     "slide_type": "slide"
    }
   },
   "source": [
    "## `numpy` arrays\n",
    "\n",
    "---"
   ]
  },
  {
   "cell_type": "markdown",
   "id": "a99fbb0c",
   "metadata": {
    "deletable": true,
    "editable": true,
    "slideshow": {
     "slide_type": "slide"
    }
   },
   "source": [
    "### Import statements"
   ]
  },
  {
   "cell_type": "markdown",
   "id": "e2f1583d",
   "metadata": {
    "deletable": true,
    "editable": true,
    "slideshow": {
     "slide_type": "fragment"
    }
   },
   "source": [
    "- We use `import` statements to add the objects (values, functions, classes) defined in other modules to our programs. There are a few different ways to `import`.\n",
    "<br><small>Other terms I'll use for \"module\" are \"library\" and \"package\".</small>"
   ]
  },
  {
   "cell_type": "markdown",
   "id": "08b4a3b8",
   "metadata": {
    "deletable": true,
    "editable": true,
    "slideshow": {
     "slide_type": "fragment"
    }
   },
   "source": [
    "- **Option 1**: `import module`.\n",
    "<br><small>Now, everytime we want to use a name in `module`, we must write `module.<name>`.</small>"
   ]
  },
  {
   "cell_type": "code",
   "execution_count": null,
   "id": "c23db255",
   "metadata": {
    "deletable": true,
    "editable": true
   },
   "outputs": [],
   "source": [
    "import math"
   ]
  },
  {
   "cell_type": "code",
   "execution_count": null,
   "id": "a6dbc435",
   "metadata": {
    "deletable": true,
    "editable": true
   },
   "outputs": [],
   "source": [
    "math.sqrt(15)"
   ]
  },
  {
   "cell_type": "code",
   "execution_count": null,
   "id": "194a50bf",
   "metadata": {
    "deletable": true,
    "editable": true
   },
   "outputs": [],
   "source": [
    "sqrt(15)"
   ]
  },
  {
   "cell_type": "markdown",
   "id": "3231556e",
   "metadata": {
    "deletable": true,
    "editable": true,
    "slideshow": {
     "slide_type": "fragment"
    }
   },
   "source": [
    "- **Option 2**: `import module as m`.\n",
    "<br>Now, everytime we want to use a name in `module`, we can write `m.<name>` instead of `module.<name>`."
   ]
  },
  {
   "cell_type": "code",
   "execution_count": null,
   "id": "bd0834bc",
   "metadata": {
    "deletable": true,
    "editable": true
   },
   "outputs": [],
   "source": [
    "# This is the standard way that we will import numpy.\n",
    "import numpy as np"
   ]
  },
  {
   "cell_type": "code",
   "execution_count": null,
   "id": "bf34fb16",
   "metadata": {
    "deletable": true,
    "editable": true
   },
   "outputs": [],
   "source": [
    "np.pi"
   ]
  },
  {
   "cell_type": "code",
   "execution_count": null,
   "id": "60535ed3",
   "metadata": {
    "deletable": true,
    "editable": true
   },
   "outputs": [],
   "source": [
    "np.linalg.inv([[2, 1], \n",
    "               [3, 4]])"
   ]
  },
  {
   "cell_type": "markdown",
   "id": "647eb175",
   "metadata": {
    "deletable": true,
    "editable": true,
    "slideshow": {
     "slide_type": "fragment"
    }
   },
   "source": [
    "- **Option 3**: `from module import ...`.\n",
    "<br><small>This way, we explicitly state the names we want to import from `module`.<br>To import everything, write `from module import *`.</br>"
   ]
  },
  {
   "cell_type": "code",
   "execution_count": null,
   "id": "4f3529ed",
   "metadata": {
    "deletable": true,
    "editable": true
   },
   "outputs": [],
   "source": [
    "# Importing a particular function from the requests module.\n",
    "from requests import get"
   ]
  },
  {
   "cell_type": "code",
   "execution_count": null,
   "id": "d9a52f30",
   "metadata": {
    "deletable": true,
    "editable": true
   },
   "outputs": [],
   "source": [
    "# This typically fills up the namespace with a lot of unnecessary names, so use sparingly.\n",
    "from math import *"
   ]
  },
  {
   "cell_type": "code",
   "execution_count": null,
   "id": "0283402a",
   "metadata": {
    "deletable": true,
    "editable": true
   },
   "outputs": [],
   "source": [
    "sqrt"
   ]
  },
  {
   "cell_type": "markdown",
   "id": "8e8cb5aa",
   "metadata": {
    "deletable": true,
    "editable": true,
    "slideshow": {
     "slide_type": "slide"
    }
   },
   "source": [
    "### NumPy\n",
    "\n",
    "<center>\n",
    "<img src='imgs/numpy.png' width=300>\n",
    "</center>"
   ]
  },
  {
   "cell_type": "markdown",
   "id": "43206687",
   "metadata": {
    "deletable": true,
    "editable": true,
    "slideshow": {
     "slide_type": "fragment"
    }
   },
   "source": [
    "- NumPy (pronounced \"num pie\") is a Python library (module) that provides support for **arrays** and operations on them."
   ]
  },
  {
   "cell_type": "markdown",
   "id": "528f26e3",
   "metadata": {
    "deletable": true,
    "editable": true,
    "slideshow": {
     "slide_type": "fragment"
    }
   },
   "source": [
    "- The `pandas` library, which we will use for tabular data manipulation, works in conjunction with `numpy`."
   ]
  },
  {
   "cell_type": "markdown",
   "id": "cbe4729b",
   "metadata": {
    "deletable": true,
    "editable": true,
    "slideshow": {
     "slide_type": "fragment"
    }
   },
   "source": [
    "- To use `numpy`, we need to import it. It's usually imported as `np` (but doesn't have to be!)<br><small>We also had to install it on your computer first, but you already did that when you set up your environment.</small>"
   ]
  },
  {
   "cell_type": "code",
   "execution_count": null,
   "id": "e20b7004",
   "metadata": {
    "deletable": true,
    "editable": true
   },
   "outputs": [],
   "source": [
    "import numpy as np"
   ]
  },
  {
   "cell_type": "markdown",
   "id": "dae963e0",
   "metadata": {
    "deletable": true,
    "editable": true,
    "slideshow": {
     "slide_type": "slide"
    }
   },
   "source": [
    "### Arrays"
   ]
  },
  {
   "cell_type": "markdown",
   "id": "15e9b13f",
   "metadata": {
    "deletable": true,
    "editable": true,
    "slideshow": {
     "slide_type": "fragment"
    }
   },
   "source": [
    "- The core data structure in `numpy` is the array. Moving forward, \"array\" will always refer to a `numpy` array."
   ]
  },
  {
   "cell_type": "markdown",
   "id": "6705e5c7",
   "metadata": {
    "deletable": true,
    "editable": true,
    "slideshow": {
     "slide_type": "fragment"
    }
   },
   "source": [
    "- One way to instantiate an array is to pass a list as an argument to the function `np.array`."
   ]
  },
  {
   "cell_type": "code",
   "execution_count": null,
   "id": "dce7887c",
   "metadata": {
    "deletable": true,
    "editable": true
   },
   "outputs": [],
   "source": [
    "np.array([4, 9, 1, 2])"
   ]
  },
  {
   "cell_type": "markdown",
   "id": "78d5cb2c",
   "metadata": {
    "deletable": true,
    "editable": true,
    "slideshow": {
     "slide_type": "fragment"
    }
   },
   "source": [
    "- Arrays, unlike lists, must be **homogenous** – all elements must be of the same type."
   ]
  },
  {
   "cell_type": "code",
   "execution_count": null,
   "id": "78ad0b09",
   "metadata": {
    "deletable": true,
    "editable": true
   },
   "outputs": [],
   "source": [
    "# All elements are converted to strings!\n",
    "np.array([1961, 'michigan'])"
   ]
  },
  {
   "cell_type": "markdown",
   "id": "265da37a",
   "metadata": {
    "deletable": true,
    "editable": true,
    "slideshow": {
     "slide_type": "slide"
    }
   },
   "source": [
    "### Array-number arithmetic"
   ]
  },
  {
   "cell_type": "markdown",
   "id": "d44fe412",
   "metadata": {
    "deletable": true,
    "editable": true,
    "slideshow": {
     "slide_type": "fragment"
    }
   },
   "source": [
    "- Arrays make it easy to perform the same operation to every element **without a `for`-loop**."
   ]
  },
  {
   "cell_type": "markdown",
   "id": "5a6fa906",
   "metadata": {
    "deletable": true,
    "editable": true,
    "slideshow": {
     "slide_type": "fragment"
    }
   },
   "source": [
    "- This behavior is formally known as \"broadcasting\", but we often say these operations are **vectorized**.\n",
    "\n",
    "<center><img src=\"imgs/broadcasting.jpg\" width=800></center>"
   ]
  },
  {
   "cell_type": "code",
   "execution_count": null,
   "id": "7e060383",
   "metadata": {
    "deletable": true,
    "editable": true
   },
   "outputs": [],
   "source": [
    "temps = [68, 72, 65, 64, 62, 61, 59, 64, 64, 63, 65, 62]\n",
    "temps"
   ]
  },
  {
   "cell_type": "code",
   "execution_count": null,
   "id": "b2ac0c19",
   "metadata": {
    "deletable": true,
    "editable": true
   },
   "outputs": [],
   "source": [
    "temp_array = np.array(temps)"
   ]
  },
  {
   "cell_type": "code",
   "execution_count": null,
   "id": "f06906e4",
   "metadata": {
    "deletable": true,
    "editable": true
   },
   "outputs": [],
   "source": [
    "# Increase all temperatures by 3 degrees.\n",
    "temp_array + 3"
   ]
  },
  {
   "cell_type": "code",
   "execution_count": null,
   "id": "82d24cfa",
   "metadata": {
    "deletable": true,
    "editable": true
   },
   "outputs": [],
   "source": [
    "# Halve all temperatures.\n",
    "temp_array / 2"
   ]
  },
  {
   "cell_type": "code",
   "execution_count": null,
   "id": "fb13f091",
   "metadata": {
    "deletable": true,
    "editable": true
   },
   "outputs": [],
   "source": [
    "# Convert all temperatures to Celsius.\n",
    "(5 / 9) * (temp_array - 32)"
   ]
  },
  {
   "cell_type": "markdown",
   "id": "99fca11c",
   "metadata": {
    "deletable": true,
    "editable": true,
    "slideshow": {
     "slide_type": "fragment"
    }
   },
   "source": [
    "- **Note**: In none of the above cells did we actually modify `temp_array`! Each of those expressions created a new array. To actually change `temp_array`, we need to reassign it to a new array."
   ]
  },
  {
   "cell_type": "code",
   "execution_count": null,
   "id": "9f7a5cb2",
   "metadata": {
    "deletable": true,
    "editable": true
   },
   "outputs": [],
   "source": [
    "temp_array"
   ]
  },
  {
   "cell_type": "code",
   "execution_count": null,
   "id": "0718acd5",
   "metadata": {
    "deletable": true,
    "editable": true
   },
   "outputs": [],
   "source": [
    "temp_array = (5 / 9) * (temp_array - 32) "
   ]
  },
  {
   "cell_type": "code",
   "execution_count": null,
   "id": "55e165d1",
   "metadata": {
    "deletable": true,
    "editable": true
   },
   "outputs": [],
   "source": [
    "# Now in Celsius!\n",
    "temp_array"
   ]
  },
  {
   "cell_type": "markdown",
   "id": "42e895a3",
   "metadata": {
    "deletable": true,
    "editable": true,
    "slideshow": {
     "slide_type": "slide"
    }
   },
   "source": [
    "### ⚠️ The dangers of unnecessary `for`-loops"
   ]
  },
  {
   "cell_type": "markdown",
   "id": "28f0dae1",
   "metadata": {
    "deletable": true,
    "editable": true,
    "slideshow": {
     "slide_type": "fragment"
    }
   },
   "source": [
    "- Under the hood, `numpy` is implemented in C and Fortran, which are compiled languages that are much faster than Python. As a result, these **vectorized** operations are much quicker than if we used a vanilla Python `for`-loop.<br><small>Also, the fact that arrays must be homogenous lend themselves to more efficient representations in memory.</small>"
   ]
  },
  {
   "cell_type": "markdown",
   "id": "756fca8f",
   "metadata": {
    "deletable": true,
    "editable": true,
    "slideshow": {
     "slide_type": "fragment"
    }
   },
   "source": [
    "- We can time code in a Jupyter Notebook. Let's try and square a long sequence of integers and see how long it takes with a Python loop:"
   ]
  },
  {
   "cell_type": "code",
   "execution_count": null,
   "id": "30fffb73",
   "metadata": {
    "deletable": true,
    "editable": true
   },
   "outputs": [],
   "source": [
    "%%timeit\n",
    "squares = []\n",
    "for i in range(1_000_000):\n",
    "    squares.append(i * i)"
   ]
  },
  {
   "cell_type": "markdown",
   "id": "a33df7cf",
   "metadata": {
    "deletable": true,
    "editable": true,
    "slideshow": {
     "slide_type": "fragment"
    }
   },
   "source": [
    "- In vanilla Python, this takes about 0.03 seconds per loop.<br>In `numpy`:"
   ]
  },
  {
   "cell_type": "code",
   "execution_count": null,
   "id": "7064d2fe",
   "metadata": {
    "deletable": true,
    "editable": true
   },
   "outputs": [],
   "source": [
    "%%timeit\n",
    "squares = np.arange(1_000_000) ** 2"
   ]
  },
  {
   "cell_type": "markdown",
   "id": "d232cea0",
   "metadata": {
    "deletable": true,
    "editable": true,
    "slideshow": {
     "slide_type": "fragment"
    }
   },
   "source": [
    "- Only takes about 0.0008 seconds per loop, approximately 40x faster!"
   ]
  },
  {
   "cell_type": "markdown",
   "id": "8e281c97",
   "metadata": {
    "deletable": true,
    "editable": true,
    "slideshow": {
     "slide_type": "slide"
    }
   },
   "source": [
    "### Element-wise arithmetic"
   ]
  },
  {
   "cell_type": "markdown",
   "id": "413a8a78",
   "metadata": {
    "deletable": true,
    "editable": true,
    "slideshow": {
     "slide_type": "fragment"
    }
   },
   "source": [
    "- We can apply arithmetic operations to multiple arrays, provided they have the same length."
   ]
  },
  {
   "cell_type": "markdown",
   "id": "61435915",
   "metadata": {
    "deletable": true,
    "editable": true,
    "slideshow": {
     "slide_type": "fragment"
    }
   },
   "source": [
    "- The result is computed **element-wise**, which means that the arithmetic operation is applied to one pair of elements from each array at a time.\n",
    "\n",
    "<center><img src=\"imgs/elementwise.jpg\" width=900></center>"
   ]
  },
  {
   "cell_type": "code",
   "execution_count": null,
   "id": "4909835f",
   "metadata": {
    "deletable": true,
    "editable": true
   },
   "outputs": [],
   "source": [
    "a = np.array([4, 5, -1])\n",
    "b = np.array([2, 3, 2])"
   ]
  },
  {
   "cell_type": "code",
   "execution_count": null,
   "id": "ee7bfa6e",
   "metadata": {
    "deletable": true,
    "editable": true
   },
   "outputs": [],
   "source": [
    "a + b"
   ]
  },
  {
   "cell_type": "code",
   "execution_count": null,
   "id": "52b7e0a6",
   "metadata": {
    "deletable": true,
    "editable": true
   },
   "outputs": [],
   "source": [
    "a / b"
   ]
  },
  {
   "cell_type": "code",
   "execution_count": null,
   "id": "a78c7826",
   "metadata": {
    "deletable": true,
    "editable": true
   },
   "outputs": [],
   "source": [
    "a ** 2 + b ** 2"
   ]
  },
  {
   "cell_type": "markdown",
   "id": "12615cbd",
   "metadata": {
    "deletable": true,
    "editable": true,
    "slideshow": {
     "slide_type": "slide"
    }
   },
   "source": [
    "### Array methods"
   ]
  },
  {
   "cell_type": "markdown",
   "id": "a74fcf5b",
   "metadata": {
    "deletable": true,
    "editable": true,
    "slideshow": {
     "slide_type": "fragment"
    }
   },
   "source": [
    "- Arrays come equipped with several handy methods; some examples are below, but you can read about them all [here](https://numpy.org/doc/stable/reference/generated/numpy.ndarray.html)."
   ]
  },
  {
   "cell_type": "code",
   "execution_count": null,
   "id": "499ae17a",
   "metadata": {
    "deletable": true,
    "editable": true
   },
   "outputs": [],
   "source": [
    "arr = np.array([3, 8, 4, -3.2])"
   ]
  },
  {
   "cell_type": "code",
   "execution_count": null,
   "id": "23889d16",
   "metadata": {
    "deletable": true,
    "editable": true
   },
   "outputs": [],
   "source": [
    "(2 ** arr).sum()"
   ]
  },
  {
   "cell_type": "code",
   "execution_count": null,
   "id": "87747f52",
   "metadata": {
    "deletable": true,
    "editable": true
   },
   "outputs": [],
   "source": [
    "(2 ** arr).mean()"
   ]
  },
  {
   "cell_type": "code",
   "execution_count": null,
   "id": "feb11d2b",
   "metadata": {
    "deletable": true,
    "editable": true
   },
   "outputs": [],
   "source": [
    "(2 ** arr).max()"
   ]
  },
  {
   "cell_type": "code",
   "execution_count": null,
   "id": "88de1b87",
   "metadata": {
    "deletable": true,
    "editable": true,
    "scrolled": true
   },
   "outputs": [],
   "source": [
    "(2 ** arr).argmax()"
   ]
  },
  {
   "cell_type": "code",
   "execution_count": null,
   "id": "49be0872",
   "metadata": {
    "deletable": true,
    "editable": true
   },
   "outputs": [],
   "source": [
    "# An attribute, not a method.\n",
    "arr.shape"
   ]
  },
  {
   "cell_type": "markdown",
   "id": "043fece3",
   "metadata": {
    "deletable": true,
    "editable": true,
    "slideshow": {
     "slide_type": "slide"
    }
   },
   "source": [
    "<div class=\"alert alert-warning\">\n",
    "    <h3>Question 🤔 (Answer at <a style=\"text-decoration: none; color: #0066cc\" href=\"https://docs.google.com/forms/d/e/1FAIpQLSd4oliiZYeNh76jWy-arfEtoAkCrVSsobZxPwxifWggo3EO0Q/viewform\">practicaldsc.org/q</a>)</h3>\n",
    "    \n",
    "What questions do we have about arrays so far?"
   ]
  },
  {
   "cell_type": "markdown",
   "id": "1f04cf1c",
   "metadata": {
    "deletable": true,
    "editable": true,
    "slideshow": {
     "slide_type": "slide"
    }
   },
   "source": [
    "<div class=\"alert alert-success\">\n",
    "<h3>Activity</h3>\n",
    "\n",
    "🎉 Congrats! 🎉 You won the lottery 💰. Here's how your payout works: on the first day of September, you are paid \\\\$0.01. Every day thereafter, your pay doubles, so on the second day you're paid \\\\$0.02, on the third day you're paid \\\\$0.04, on the fourth day you're paid \\\\$0.08, and so on.\n",
    "\n",
    "September has 30 days.\n",
    "\n",
    "Write a **one-line expression** that uses the numbers `2` and `30`, along with the function `np.arange` and at least one array method, that computes the total amount **in dollars** you will be paid in September. No `for`-loops or list comprehensions allowed!\n",
    "    \n",
    "<br>\n",
    "    \n",
    "We have a [🎥 walkthrough video](https://youtu.be/w_witptT6Ts?si=1g42U-wIITfuax_a) of this problem, but don't watch it until you've tried it yourself!"
   ]
  },
  {
   "cell_type": "code",
   "execution_count": null,
   "id": "ad1f5f39",
   "metadata": {
    "deletable": true,
    "editable": true
   },
   "outputs": [],
   "source": [
    "(2 ** np.arange(30) / 100).sum()"
   ]
  },
  {
   "cell_type": "markdown",
   "id": "e0157b84",
   "metadata": {
    "deletable": true,
    "editable": true,
    "slideshow": {
     "slide_type": "slide"
    }
   },
   "source": [
    "### Boolean filtering"
   ]
  },
  {
   "cell_type": "markdown",
   "id": "7775ad8a",
   "metadata": {
    "deletable": true,
    "editable": true,
    "slideshow": {
     "slide_type": "fragment"
    }
   },
   "source": [
    "- Comparisons with arrays yield **Boolean** arrays! These can be used to answer questions about the values in an array."
   ]
  },
  {
   "cell_type": "code",
   "execution_count": null,
   "id": "65079818",
   "metadata": {
    "deletable": true,
    "editable": true
   },
   "outputs": [],
   "source": [
    "temp_array"
   ]
  },
  {
   "cell_type": "code",
   "execution_count": null,
   "id": "fabdfa7c",
   "metadata": {
    "deletable": true,
    "editable": true
   },
   "outputs": [],
   "source": [
    "temp_array >= 18 "
   ]
  },
  {
   "cell_type": "markdown",
   "id": "52aa1dd5",
   "metadata": {
    "deletable": true,
    "editable": true,
    "slideshow": {
     "slide_type": "fragment"
    }
   },
   "source": [
    "- How many values are greater than or equal to 18?"
   ]
  },
  {
   "cell_type": "code",
   "execution_count": null,
   "id": "1dd34109",
   "metadata": {
    "deletable": true,
    "editable": true
   },
   "outputs": [],
   "source": [
    "(temp_array >= 18).sum() "
   ]
  },
  {
   "cell_type": "code",
   "execution_count": null,
   "id": "4b98f5fc",
   "metadata": {
    "deletable": true,
    "editable": true
   },
   "outputs": [],
   "source": [
    "np.count_nonzero(temp_array >= 18) "
   ]
  },
  {
   "cell_type": "markdown",
   "id": "581a5e69",
   "metadata": {
    "deletable": true,
    "editable": true,
    "slideshow": {
     "slide_type": "fragment"
    }
   },
   "source": [
    "- What fraction of values are greater than or equal to 18?"
   ]
  },
  {
   "cell_type": "code",
   "execution_count": null,
   "id": "61ea4fef",
   "metadata": {
    "deletable": true,
    "editable": true
   },
   "outputs": [],
   "source": [
    "(temp_array >= 18).mean() "
   ]
  },
  {
   "cell_type": "markdown",
   "id": "8925afbc",
   "metadata": {
    "deletable": true,
    "editable": true,
    "slideshow": {
     "slide_type": "fragment"
    }
   },
   "source": [
    "- Which values are greater than or equal to 18?"
   ]
  },
  {
   "cell_type": "code",
   "execution_count": null,
   "id": "e5f6bfac",
   "metadata": {
    "deletable": true,
    "editable": true
   },
   "outputs": [],
   "source": [
    "temp_array[temp_array >= 18] "
   ]
  },
  {
   "cell_type": "markdown",
   "id": "ab459108",
   "metadata": {
    "deletable": true,
    "editable": true,
    "slideshow": {
     "slide_type": "fragment"
    }
   },
   "source": [
    "- Which values are between 18 and 20?"
   ]
  },
  {
   "cell_type": "code",
   "execution_count": null,
   "id": "286f89aa",
   "metadata": {
    "deletable": true,
    "editable": true
   },
   "outputs": [],
   "source": [
    "# Note the parentheses!\n",
    "temp_array[(temp_array >= 18) & (temp_array <= 20)] "
   ]
  },
  {
   "cell_type": "code",
   "execution_count": null,
   "id": "dd806db7",
   "metadata": {
    "deletable": true,
    "editable": true
   },
   "outputs": [],
   "source": [
    "# WRONG!\n",
    "temp_array[(temp_array >= 18) and (temp_array <= 20)] "
   ]
  },
  {
   "cell_type": "markdown",
   "id": "d3ddc9ac",
   "metadata": {
    "deletable": true,
    "editable": true,
    "slideshow": {
     "slide_type": "slide"
    }
   },
   "source": [
    "### Note: & and | vs. and and or"
   ]
  },
  {
   "cell_type": "markdown",
   "id": "34856daf",
   "metadata": {
    "deletable": true,
    "editable": true,
    "slideshow": {
     "slide_type": "fragment"
    }
   },
   "source": [
    "- In Python, the standard symbols for \"and\" and \"or\" are, literally, `and` and `or`."
   ]
  },
  {
   "cell_type": "code",
   "execution_count": null,
   "id": "1e630f1b",
   "metadata": {
    "deletable": true,
    "editable": true
   },
   "outputs": [],
   "source": [
    "if (5 > 3 and 'h' + 'i' == 'hi') or (-2 > 0):\n",
    "    print('success')"
   ]
  },
  {
   "cell_type": "markdown",
   "id": "cd582454",
   "metadata": {
    "deletable": true,
    "editable": true,
    "slideshow": {
     "slide_type": "fragment"
    }
   },
   "source": [
    "- But, when taking the **element-wise** and/or of two arrays, the standard operators don't work.<br>Instead, use the **bitwise** operators: `&` for \"and\", `|` for \"or\"."
   ]
  },
  {
   "cell_type": "code",
   "execution_count": null,
   "id": "84d4caff",
   "metadata": {
    "deletable": true,
    "editable": true
   },
   "outputs": [],
   "source": [
    "temp_array"
   ]
  },
  {
   "cell_type": "code",
   "execution_count": null,
   "id": "9566a140",
   "metadata": {
    "deletable": true,
    "editable": true
   },
   "outputs": [],
   "source": [
    "# Don't forget parentheses when using multiple conditions!\n",
    "temp_array[(temp_array % 2 == 0) | (temp_array == temp_array.min())]"
   ]
  },
  {
   "cell_type": "markdown",
   "id": "3ab908d5",
   "metadata": {
    "deletable": true,
    "editable": true,
    "slideshow": {
     "slide_type": "fragment"
    }
   },
   "source": [
    "- Read more about these differences [here](https://notes.dsc10.com/02-data_sets/querying.html#multiple-conditions)."
   ]
  },
  {
   "cell_type": "markdown",
   "id": "5b6b919d",
   "metadata": {
    "deletable": true,
    "editable": true,
    "slideshow": {
     "slide_type": "slide"
    }
   },
   "source": [
    "## Multidimensional arrays and linear algebra\n",
    "\n",
    "---"
   ]
  },
  {
   "cell_type": "markdown",
   "id": "4a8e6c25",
   "metadata": {
    "deletable": true,
    "editable": true,
    "slideshow": {
     "slide_type": "slide"
    }
   },
   "source": [
    "### Multidimensional arrays"
   ]
  },
  {
   "cell_type": "markdown",
   "id": "0162f909",
   "metadata": {
    "deletable": true,
    "editable": true,
    "slideshow": {
     "slide_type": "fragment"
    }
   },
   "source": [
    "- A matrix can be represented in code using a two dimensional (2D) array."
   ]
  },
  {
   "cell_type": "markdown",
   "id": "171ee535",
   "metadata": {
    "deletable": true,
    "editable": true,
    "slideshow": {
     "slide_type": "fragment"
    }
   },
   "source": [
    "- 2D arrays also resemble tables, or DataFrames, so it's worthwhile to study how they work."
   ]
  },
  {
   "cell_type": "code",
   "execution_count": null,
   "id": "7201dbde",
   "metadata": {
    "deletable": true,
    "editable": true,
    "scrolled": true
   },
   "outputs": [],
   "source": [
    "nums = np.array([\n",
    "    [5, 1, 9, 7],\n",
    "    [9, 8, 2, 3],\n",
    "    [2, 5, 0, 4]\n",
    "])\n",
    "nums"
   ]
  },
  {
   "cell_type": "code",
   "execution_count": null,
   "id": "88e2fdfb",
   "metadata": {
    "deletable": true,
    "editable": true
   },
   "outputs": [],
   "source": [
    "# nums has 3 rows and 4 columns.\n",
    "nums.shape"
   ]
  },
  {
   "cell_type": "markdown",
   "id": "e672c5c6",
   "metadata": {
    "deletable": true,
    "editable": true,
    "slideshow": {
     "slide_type": "fragment"
    }
   },
   "source": [
    "- In addition to creating 2D arrays from scratch, we can also create 2D arrays by _reshaping_ other arrays."
   ]
  },
  {
   "cell_type": "code",
   "execution_count": null,
   "id": "a33edaea",
   "metadata": {
    "deletable": true,
    "editable": true
   },
   "outputs": [],
   "source": [
    "# Here, we're asking to reshape np.arange(1, 7)\n",
    "# so that it has 2 rows and 3 columns.\n",
    "a = np.arange(1, 7).reshape((2, 3)) \n",
    "a"
   ]
  },
  {
   "cell_type": "markdown",
   "id": "0b9b3dd3",
   "metadata": {
    "deletable": true,
    "editable": true,
    "slideshow": {
     "slide_type": "slide"
    }
   },
   "source": [
    "### Operations along axes"
   ]
  },
  {
   "cell_type": "markdown",
   "id": "a08aa696",
   "metadata": {
    "deletable": true,
    "editable": true,
    "slideshow": {
     "slide_type": "fragment"
    }
   },
   "source": [
    "- In 2D arrays (and DataFrames), axis 0 refers to the rows (up and down) and axis 1 refers to the columns (left and right).\n",
    "\n",
    "<center><img src='imgs/axis-sum.png' width=600></center>"
   ]
  },
  {
   "cell_type": "code",
   "execution_count": null,
   "id": "5af42213",
   "metadata": {
    "deletable": true,
    "editable": true
   },
   "outputs": [],
   "source": [
    "a"
   ]
  },
  {
   "cell_type": "markdown",
   "id": "dab1161c",
   "metadata": {
    "deletable": true,
    "editable": true,
    "slideshow": {
     "slide_type": "fragment"
    }
   },
   "source": [
    "- If we specify `axis=0`, `a.sum` will \"compress\" along axis 0."
   ]
  },
  {
   "cell_type": "code",
   "execution_count": null,
   "id": "1cd88e21",
   "metadata": {
    "deletable": true,
    "editable": true,
    "slideshow": {
     "slide_type": ""
    }
   },
   "outputs": [],
   "source": [
    "a.sum(axis=0)"
   ]
  },
  {
   "cell_type": "markdown",
   "id": "e6ee4616",
   "metadata": {
    "deletable": true,
    "editable": true,
    "slideshow": {
     "slide_type": "fragment"
    }
   },
   "source": [
    "- If we specify `axis=1`, `a.sum` will \"compress\" along axis 1."
   ]
  },
  {
   "cell_type": "code",
   "execution_count": null,
   "id": "810f5797",
   "metadata": {
    "deletable": true,
    "editable": true
   },
   "outputs": [],
   "source": [
    "a.sum(axis=1)"
   ]
  },
  {
   "cell_type": "markdown",
   "id": "d430c83b",
   "metadata": {
    "deletable": true,
    "editable": true,
    "slideshow": {
     "slide_type": "slide"
    }
   },
   "source": [
    "### Selecting rows and columns from 2D arrays"
   ]
  },
  {
   "cell_type": "markdown",
   "id": "6d30713b",
   "metadata": {
    "deletable": true,
    "editable": true,
    "slideshow": {
     "slide_type": "fragment"
    }
   },
   "source": [
    "- You can use `[`square brackets`]` to **slice** rows and columns out of an array, too."
   ]
  },
  {
   "cell_type": "markdown",
   "id": "43ab01fb",
   "metadata": {
    "deletable": true,
    "editable": true,
    "slideshow": {
     "slide_type": "fragment"
    }
   },
   "source": [
    "- The general convention is:\n",
    "\n",
    "```python\n",
    "        array[<row positions>, <column positions>]\n",
    "```"
   ]
  },
  {
   "cell_type": "code",
   "execution_count": null,
   "id": "2a6a401f",
   "metadata": {
    "deletable": true,
    "editable": true
   },
   "outputs": [],
   "source": [
    "a"
   ]
  },
  {
   "cell_type": "code",
   "execution_count": null,
   "id": "22ae4742",
   "metadata": {
    "deletable": true,
    "editable": true,
    "scrolled": true
   },
   "outputs": [],
   "source": [
    "# Accesses row 0 and all columns.\n",
    "a[0, :] "
   ]
  },
  {
   "cell_type": "code",
   "execution_count": null,
   "id": "77e9f687",
   "metadata": {
    "deletable": true,
    "editable": true
   },
   "outputs": [],
   "source": [
    "# Same as the above.\n",
    "a[0] "
   ]
  },
  {
   "cell_type": "code",
   "execution_count": null,
   "id": "fd4be3d8",
   "metadata": {
    "deletable": true,
    "editable": true
   },
   "outputs": [],
   "source": [
    "# Accesses all rows and column 1.\n",
    "a[:, 1] "
   ]
  },
  {
   "cell_type": "code",
   "execution_count": null,
   "id": "05571f7a",
   "metadata": {
    "deletable": true,
    "editable": true
   },
   "outputs": [],
   "source": [
    "# Access all rows and columns 0 and 2.\n",
    "a[:, [0, 2]] "
   ]
  },
  {
   "cell_type": "code",
   "execution_count": null,
   "id": "7e06c142",
   "metadata": {
    "deletable": true,
    "editable": true
   },
   "outputs": [],
   "source": [
    "# Accesses row 0 and columns 1 and onwards.\n",
    "a[0, 1:] "
   ]
  },
  {
   "cell_type": "markdown",
   "id": "99ab6d95",
   "metadata": {
    "deletable": true,
    "editable": true,
    "slideshow": {
     "slide_type": "slide"
    }
   },
   "source": [
    "<div class=\"alert alert-success\">\n",
    "    <h3>Activity</h3>\n",
    "    Suppose we run the cell below.\n",
    "\n",
    "```python\n",
    "s = (5, 3)\n",
    "grid = np.ones(s) * 2 * np.arange(1, 16).reshape(s)\n",
    "grid[-1, 1:].sum()    \n",
    "```\n",
    "What is the output of the cell? **Try and answer without writing any code.** See the annotated slides for the solution.\n",
    "\n",
    "</div>"
   ]
  },
  {
   "cell_type": "code",
   "execution_count": null,
   "id": "a13918d3",
   "metadata": {
    "deletable": true,
    "editable": true
   },
   "outputs": [],
   "source": []
  },
  {
   "cell_type": "code",
   "execution_count": null,
   "id": "de57ceea",
   "metadata": {
    "deletable": true,
    "editable": true
   },
   "outputs": [],
   "source": []
  },
  {
   "cell_type": "markdown",
   "id": "1cb83577",
   "metadata": {
    "deletable": true,
    "editable": true,
    "slideshow": {
     "slide_type": "slide"
    }
   },
   "source": [
    "### Example: Image processing"
   ]
  },
  {
   "cell_type": "markdown",
   "id": "146e48b8",
   "metadata": {
    "deletable": true,
    "editable": true,
    "slideshow": {
     "slide_type": "fragment"
    }
   },
   "source": [
    "- **Images** can be represented as 3D `numpy` arrays.\n",
    "\n",
    "<center><img src='imgs/three_d_array.png' width=250><small>(<a href=\"https://e2eml.school/convert_rgb_to_grayscale\">image source</a>)</small></center>"
   ]
  },
  {
   "cell_type": "markdown",
   "id": "65a224fe",
   "metadata": {
    "deletable": true,
    "editable": true,
    "slideshow": {
     "slide_type": "fragment"
    }
   },
   "source": [
    "- The color of each pixel can be described with three numbers under the RGB model – a red value, green value, and blue value. Each of these can vary from 0 (least intensity) to 255 (most intensity).<br><small>Experiment with RGB colors <a href=\"https://www.google.com/search?q=color+picker\">here</a>."
   ]
  },
  {
   "cell_type": "code",
   "execution_count": null,
   "id": "bf7572c5",
   "metadata": {
    "deletable": true,
    "editable": true
   },
   "outputs": [],
   "source": [
    "img = np.asarray(Image.open('imgs/junior.jpeg'))\n",
    "img"
   ]
  },
  {
   "cell_type": "code",
   "execution_count": null,
   "id": "ddc5f1cd",
   "metadata": {
    "deletable": true,
    "editable": true
   },
   "outputs": [],
   "source": [
    "img.shape"
   ]
  },
  {
   "cell_type": "code",
   "execution_count": null,
   "id": "a074c894",
   "metadata": {
    "deletable": true,
    "editable": true
   },
   "outputs": [],
   "source": [
    "plt.imshow(img)\n",
    "plt.axis('off');"
   ]
  },
  {
   "cell_type": "markdown",
   "id": "67f33f61",
   "metadata": {
    "deletable": true,
    "editable": true,
    "slideshow": {
     "slide_type": "slide"
    }
   },
   "source": [
    "### Applying a grayscale filter"
   ]
  },
  {
   "cell_type": "markdown",
   "id": "fb128477",
   "metadata": {
    "deletable": true,
    "editable": true,
    "slideshow": {
     "slide_type": "fragment"
    }
   },
   "source": [
    "- One way to convert an image to grayscale is to average its red, green, and blue values."
   ]
  },
  {
   "cell_type": "code",
   "execution_count": null,
   "id": "88abc95c",
   "metadata": {
    "deletable": true,
    "editable": true
   },
   "outputs": [],
   "source": [
    "mean_2d = img.mean(axis=2) \n",
    "mean_2d"
   ]
  },
  {
   "cell_type": "code",
   "execution_count": null,
   "id": "a062760e",
   "metadata": {
    "deletable": true,
    "editable": true
   },
   "outputs": [],
   "source": [
    "# This is just a single red channel!\n",
    "plt.imshow(mean_2d.astype(int))\n",
    "plt.axis('off');"
   ]
  },
  {
   "cell_type": "markdown",
   "id": "1e9af153",
   "metadata": {
    "deletable": true,
    "editable": true,
    "slideshow": {
     "slide_type": "fragment"
    }
   },
   "source": [
    "- We need to _repeat_ `mean_2d` three times along axis 2, to use the same values for the red, green, and blue channels. `np.repeat` will help us here."
   ]
  },
  {
   "cell_type": "code",
   "execution_count": null,
   "id": "8aa0072b",
   "metadata": {
    "deletable": true,
    "editable": true
   },
   "outputs": [],
   "source": [
    "# np.newaxis is an alias for None.\n",
    "# It helps us introduce an additional axis.\n",
    "np.arange(5)[:, np.newaxis]"
   ]
  },
  {
   "cell_type": "code",
   "execution_count": null,
   "id": "ac6b222d",
   "metadata": {
    "deletable": true,
    "editable": true
   },
   "outputs": [],
   "source": [
    "np.repeat(np.arange(5)[:, np.newaxis], 3, axis=1)"
   ]
  },
  {
   "cell_type": "code",
   "execution_count": null,
   "id": "d2a23ecc",
   "metadata": {
    "deletable": true,
    "editable": true
   },
   "outputs": [],
   "source": [
    "mean_3d = np.repeat(mean_2d[:, :, np.newaxis], 3, axis=2).astype(int) \n",
    "mean_3d"
   ]
  },
  {
   "cell_type": "code",
   "execution_count": null,
   "id": "2c19dfdf",
   "metadata": {
    "deletable": true,
    "editable": true
   },
   "outputs": [],
   "source": [
    "plt.imshow(mean_3d)\n",
    "plt.axis('off');"
   ]
  },
  {
   "cell_type": "markdown",
   "id": "517161fd",
   "metadata": {
    "deletable": true,
    "editable": true,
    "slideshow": {
     "slide_type": "skip"
    }
   },
   "source": [
    "<div class=\"alert alert-danger\">\n",
    "    \n",
    "#### Reference Slide\n",
    "\n",
    "### Applying a sepia filter\n",
    "\n",
    "_We won't walk through this example in lecture, but it's here for your reference._\n",
    "    \n",
    "</div>"
   ]
  },
  {
   "cell_type": "markdown",
   "id": "d3055b9b",
   "metadata": {
    "deletable": true,
    "editable": true,
    "slideshow": {
     "slide_type": "skip"
    }
   },
   "source": [
    "- Let's sepia-fy Junior!\n",
    "\n",
    "<center>\n",
    "<img src=\"imgs/apple-sepia.png\" width=50%>\n",
    "    <small>\n",
    "(<a href=\"https://support.apple.com/guide/motion/sepia-filter-motn169f8c87/mac\">Image credits</a>)</small>\n",
    "</center>"
   ]
  },
  {
   "cell_type": "markdown",
   "id": "6b554f8b",
   "metadata": {
    "deletable": true,
    "editable": true,
    "slideshow": {
     "slide_type": "skip"
    }
   },
   "source": [
    "- From [here](https://stackoverflow.com/questions/1061093/how-is-a-sepia-tone-created), we can apply this conversion to each pixel.\n",
    "\n",
    "$$\\begin{align*}\n",
    "R_{\\text{sepia}} &= 0.393R + 0.769G + 0.189B \\\\ G_{\\text{sepia}} &= 0.349R + 0.686G + 0.168B \\\\\n",
    "B_{\\text{sepia}} &= 0.272R + 0.534G + 0.131B\\end{align*}$$"
   ]
  },
  {
   "cell_type": "code",
   "execution_count": null,
   "id": "526706db",
   "metadata": {
    "deletable": true,
    "editable": true,
    "slideshow": {
     "slide_type": "skip"
    }
   },
   "outputs": [],
   "source": [
    "sepia_filter = np.array([\n",
    "    [0.393, 0.769, 0.189],\n",
    "    [0.349, 0.686, 0.168],\n",
    "    [0.272, 0.534, 0.131]\n",
    "])"
   ]
  },
  {
   "cell_type": "code",
   "execution_count": null,
   "id": "a9ee1434",
   "metadata": {
    "deletable": true,
    "editable": true,
    "slideshow": {
     "slide_type": "skip"
    }
   },
   "outputs": [],
   "source": [
    "# Multiplies each pixel by the sepia_filter matrix.\n",
    "# Then, clips each RGB value to be between 0 and 1.\n",
    "filtered = (img @ sepia_filter.T).clip(0, 1)\n",
    "filtered"
   ]
  },
  {
   "cell_type": "code",
   "execution_count": null,
   "id": "0c390eef",
   "metadata": {
    "deletable": true,
    "editable": true,
    "slideshow": {
     "slide_type": "skip"
    }
   },
   "outputs": [],
   "source": [
    "plt.imshow(filtered)\n",
    "plt.axis('off');"
   ]
  },
  {
   "cell_type": "markdown",
   "id": "491c6728",
   "metadata": {
    "deletable": true,
    "editable": true,
    "slideshow": {
     "slide_type": "slide"
    }
   },
   "source": [
    "### Matrix multiplication"
   ]
  },
  {
   "cell_type": "markdown",
   "id": "c2ca4ead",
   "metadata": {
    "deletable": true,
    "editable": true,
    "slideshow": {
     "slide_type": "fragment"
    }
   },
   "source": [
    "- In the coming weeks, we'll start to rely more and more on tools from linear algebra.<br><small>You'll need this in Homework 2!</small>"
   ]
  },
  {
   "cell_type": "markdown",
   "id": "f0c83d28",
   "metadata": {
    "deletable": true,
    "editable": true,
    "slideshow": {
     "slide_type": "fragment"
    }
   },
   "source": [
    "- Suppose the matrix $A$ and vectors $\\vec x$ and $\\vec y$ are defined as follows:\n",
    "\n",
    "$$A = \\begin{bmatrix} 2 & -5 & 1 \\\\ 0 & 3 & 2 \\end{bmatrix} \\qquad \\vec x = \\begin{bmatrix} 1 \\\\ -1 \\\\ 4 \\end{bmatrix} \\qquad \\vec y = \\begin{bmatrix} 3 \\\\ -2 \\end{bmatrix}$$"
   ]
  },
  {
   "cell_type": "code",
   "execution_count": null,
   "id": "09d4e22f",
   "metadata": {
    "deletable": true,
    "editable": true
   },
   "outputs": [],
   "source": [
    "A = np.array([[2, -5, 1],\n",
    "              [0,  3, 2]])\n",
    "x = np.array([[1],\n",
    "              [-1],\n",
    "              [4]])\n",
    "y = np.array([[3],\n",
    "              [-2]])"
   ]
  },
  {
   "cell_type": "markdown",
   "id": "15141ae0",
   "metadata": {
    "deletable": true,
    "editable": true,
    "slideshow": {
     "slide_type": "fragment"
    }
   },
   "source": [
    "- We can use `numpy` to compute various quantities involving $A$, $\\vec x$, and $\\vec y$.<br>For instance, what is the result of the product $A \\vec x$?<br><small>See the annotated slides for the math worked out.</small>"
   ]
  },
  {
   "cell_type": "code",
   "execution_count": null,
   "id": "aef5755c",
   "metadata": {
    "deletable": true,
    "editable": true
   },
   "outputs": [],
   "source": [
    "A @ x "
   ]
  },
  {
   "cell_type": "markdown",
   "id": "fa3133a3",
   "metadata": {
    "deletable": true,
    "editable": true,
    "slideshow": {
     "slide_type": "fragment"
    }
   },
   "source": [
    "- What is the result of the product $A^T \\vec y$?"
   ]
  },
  {
   "cell_type": "code",
   "execution_count": null,
   "id": "f3a37b1e",
   "metadata": {
    "deletable": true,
    "editable": true
   },
   "outputs": [],
   "source": [
    "A.T @ y "
   ]
  },
  {
   "cell_type": "markdown",
   "id": "9f232e14",
   "metadata": {
    "deletable": true,
    "editable": true,
    "slideshow": {
     "slide_type": "fragment"
    }
   },
   "source": [
    "- What is the result of the product $\\vec x^T A^T A \\vec x$?"
   ]
  },
  {
   "cell_type": "code",
   "execution_count": null,
   "id": "994b3ffe",
   "metadata": {
    "deletable": true,
    "editable": true
   },
   "outputs": [],
   "source": [
    "x.T @ A.T @ A @ x "
   ]
  },
  {
   "cell_type": "markdown",
   "id": "2313242d",
   "metadata": {
    "deletable": true,
    "editable": true,
    "slideshow": {
     "slide_type": "slide"
    }
   },
   "source": [
    "### Example: Fibonacci numbers"
   ]
  },
  {
   "cell_type": "markdown",
   "id": "48b3521a",
   "metadata": {
    "deletable": true,
    "editable": true,
    "slideshow": {
     "slide_type": "fragment"
    }
   },
   "source": [
    "- The sequence of Fibonacci numbers, \n",
    "\n",
    "    $$1, 1, 2, 3, 5, 8, 13, 21, 34, 55, 89, ...$$\n",
    "\n",
    "    can be computed using matrix multiplication!"
   ]
  },
  {
   "cell_type": "markdown",
   "id": "0bd0fb1d",
   "metadata": {
    "deletable": true,
    "editable": true,
    "slideshow": {
     "slide_type": "fragment"
    }
   },
   "source": [
    "- It can be shown (with induction!) that if $f_1 = 1$, $f_2 = 1$, and $f_{n} = f_{n - 1} + f_{n - 2}, n \\geq 2$, then:\n",
    "\n",
    "$$\\begin{bmatrix} f_{n + 1} & f_n \\\\ f_n & f_{n - 1} \\end{bmatrix} = \\begin{bmatrix} 1 & 1 \\\\ 1 & 0 \\end{bmatrix}^n$$"
   ]
  },
  {
   "cell_type": "code",
   "execution_count": null,
   "id": "7c445eb2",
   "metadata": {
    "deletable": true,
    "editable": true
   },
   "outputs": [],
   "source": [
    "fib = np.array([[1, 1],\n",
    "                [1, 0]])"
   ]
  },
  {
   "cell_type": "code",
   "execution_count": null,
   "id": "acbbe3af",
   "metadata": {
    "deletable": true,
    "editable": true
   },
   "outputs": [],
   "source": [
    "np.linalg.matrix_power(fib, 8) "
   ]
  },
  {
   "cell_type": "markdown",
   "id": "43a9f646",
   "metadata": {
    "deletable": true,
    "editable": true,
    "slideshow": {
     "slide_type": "slide"
    }
   },
   "source": [
    "### Key takeaway: avoid `for`-loops whenever possible!\n",
    "\n",
    "You can do a lot without `for`-loops, both in `numpy` and in `pandas`."
   ]
  },
  {
   "cell_type": "markdown",
   "id": "b09d2395",
   "metadata": {
    "deletable": true,
    "editable": true,
    "slideshow": {
     "slide_type": "slide"
    }
   },
   "source": [
    "## Randomness and simulations\n",
    "\n",
    "---"
   ]
  },
  {
   "cell_type": "markdown",
   "id": "66517919",
   "metadata": {
    "deletable": true,
    "editable": true,
    "slideshow": {
     "slide_type": "slide"
    }
   },
   "source": [
    "### `np.random`"
   ]
  },
  {
   "cell_type": "markdown",
   "id": "ca8f0268",
   "metadata": {
    "deletable": true,
    "editable": true,
    "slideshow": {
     "slide_type": "fragment"
    }
   },
   "source": [
    "- The submodule `np.random` contains various functions that produce **random** results.<br><small>These use [pseudo-random number generators](https://en.wikipedia.org/wiki/Pseudorandom_number_generator) to generate random-seeming sequences of results.</small>"
   ]
  },
  {
   "cell_type": "markdown",
   "id": "233ad11a",
   "metadata": {
    "deletable": true,
    "editable": true,
    "slideshow": {
     "slide_type": "fragment"
    }
   },
   "source": [
    "- `np.random.random` returns a real number drawn at random from the interval [0, 1]."
   ]
  },
  {
   "cell_type": "code",
   "execution_count": null,
   "id": "9491cbe3",
   "metadata": {
    "deletable": true,
    "editable": true
   },
   "outputs": [],
   "source": [
    "np.random.random() "
   ]
  },
  {
   "cell_type": "markdown",
   "id": "44b72e5c",
   "metadata": {
    "deletable": true,
    "editable": true,
    "slideshow": {
     "slide_type": "fragment"
    }
   },
   "source": [
    "- `np.random.randint` returns a random integer in the specified range.<br><small>In the example below, between 1 and <b>6</b>, inclusive.</small>"
   ]
  },
  {
   "cell_type": "code",
   "execution_count": null,
   "id": "b7050312",
   "metadata": {
    "deletable": true,
    "editable": true
   },
   "outputs": [],
   "source": [
    "# Run this cell multiple times!\n",
    "np.random.randint(1, 7) "
   ]
  },
  {
   "cell_type": "markdown",
   "id": "85fa519f",
   "metadata": {
    "deletable": true,
    "editable": true,
    "slideshow": {
     "slide_type": "slide"
    }
   },
   "source": [
    "### Random sampling"
   ]
  },
  {
   "cell_type": "markdown",
   "id": "4d788def",
   "metadata": {
    "deletable": true,
    "editable": true,
    "slideshow": {
     "slide_type": "fragment"
    }
   },
   "source": [
    "- `np.random.choice` and `np.random.multinomial` allow us to draw random **samples**."
   ]
  },
  {
   "cell_type": "markdown",
   "id": "802d609b",
   "metadata": {
    "deletable": true,
    "editable": true,
    "slideshow": {
     "slide_type": "fragment"
    }
   },
   "source": [
    "- `np.random.choice` returns randomly selected element(s) from the provided sequence.<br><small>By default, this is done **with** replacement, but it can be done without replacement, too.</small>"
   ]
  },
  {
   "cell_type": "code",
   "execution_count": null,
   "id": "9b8989c9",
   "metadata": {
    "deletable": true,
    "editable": true
   },
   "outputs": [],
   "source": [
    "unique_names = np.load('data/wn25-names.npy')\n",
    "unique_names"
   ]
  },
  {
   "cell_type": "code",
   "execution_count": null,
   "id": "d9aaa2af",
   "metadata": {
    "deletable": true,
    "editable": true
   },
   "outputs": [],
   "source": [
    "# Returns a randomly selected element from the provided array, 5 times, with replacement.\n",
    "# The resulting array COULD have duplicates.\n",
    "np.random.choice(unique_names, 5)"
   ]
  },
  {
   "cell_type": "code",
   "execution_count": null,
   "id": "292e72fe",
   "metadata": {
    "deletable": true,
    "editable": true
   },
   "outputs": [],
   "source": [
    "# Returns a randomly selected element from the provided array, 5 times, without replacement.\n",
    "# The resulting array CANNOT have duplicates.\n",
    "np.random.choice(unique_names, 5, replace=False)"
   ]
  },
  {
   "cell_type": "markdown",
   "id": "d3506a32",
   "metadata": {
    "deletable": true,
    "editable": true,
    "slideshow": {
     "slide_type": "fragment"
    }
   },
   "source": [
    "- `np.random.multinomial` returns the result of drawing a sample from a **multinomial** distribution.<br><small>For instance, the cell below simulates the number of marbles of each color drawn from a bag in which <span style=\"color:blue\"><b>30% are blue</b></span>, <span style=\"color:orange\"><b>50% are orange</b></span>, and <span style=\"color:purple\"><b>20% are purple</b></span>, and 15 marbles are drawn **with** replacement."
   ]
  },
  {
   "cell_type": "code",
   "execution_count": null,
   "id": "cbc9aeea",
   "metadata": {
    "deletable": true,
    "editable": true
   },
   "outputs": [],
   "source": [
    "np.random.multinomial(15, [0.3, 0.5, 0.2]) "
   ]
  },
  {
   "cell_type": "markdown",
   "id": "ed7b363c",
   "metadata": {
    "deletable": true,
    "editable": true,
    "slideshow": {
     "slide_type": "slide"
    }
   },
   "source": [
    "### Simulations"
   ]
  },
  {
   "cell_type": "markdown",
   "id": "84a48817",
   "metadata": {
    "deletable": true,
    "editable": true,
    "slideshow": {
     "slide_type": "fragment"
    }
   },
   "source": [
    "- Often, we'll want to estimate the probability of an event, but it may not be possible – or we may not know how – to calculate the probability exactly.<br><small>e.g., the probability that I see between 40 and 50 heads when I flip a fair coin 100 times.</small>"
   ]
  },
  {
   "cell_type": "markdown",
   "id": "2faab35d",
   "metadata": {
    "deletable": true,
    "editable": true,
    "slideshow": {
     "slide_type": "fragment"
    }
   },
   "source": [
    "- Or, we may have a theoretical answer, and want to validate it using another approach."
   ]
  },
  {
   "cell_type": "markdown",
   "id": "cf0e65b4",
   "metadata": {
    "deletable": true,
    "editable": true,
    "slideshow": {
     "slide_type": "fragment"
    }
   },
   "source": [
    "- In such cases, we can use the power of simulation.<br>We can repeat the experiment many, many times, compute the fraction of experiments in which our event occurs, and use this fraction as an estimate of the probability of our event.<br><small>This is the basis of <a href=\"https://en.wikipedia.org/wiki/Monte_Carlo_method\">Monte Carlo Methods</a>.</small>"
   ]
  },
  {
   "cell_type": "markdown",
   "id": "a1c2bb8e",
   "metadata": {
    "deletable": true,
    "editable": true,
    "slideshow": {
     "slide_type": "fragment"
    }
   },
   "source": [
    "- Theory tells us that **the more repetitions we perform of our experiment, the closer our fraction will be to the true probability of the event**!\n",
    "<br><small>Specifically, the [Law of Large Numbers](https://en.wikipedia.org/wiki/Law_of_large_numbers) tells us this.</small>"
   ]
  },
  {
   "cell_type": "markdown",
   "id": "25e87cc3",
   "metadata": {
    "deletable": true,
    "editable": true,
    "slideshow": {
     "slide_type": "slide"
    }
   },
   "source": [
    "### Example: Coin flipping"
   ]
  },
  {
   "cell_type": "markdown",
   "id": "4afa173f",
   "metadata": {
    "deletable": true,
    "editable": true,
    "slideshow": {
     "slide_type": "fragment"
    }
   },
   "source": [
    "- **Question**: What is the probability that I see between 40 and 50 heads, inclusive, when I flip a fair coin 100 times?"
   ]
  },
  {
   "cell_type": "markdown",
   "id": "65c5df4f",
   "metadata": {
    "deletable": true,
    "editable": true,
    "slideshow": {
     "slide_type": "fragment"
    }
   },
   "source": [
    "- To estimate this probability, we need to:\n",
    "    - Flip 100 fair coins and write down the number of heads,\n",
    "    - and repeat that process many, many times."
   ]
  },
  {
   "cell_type": "code",
   "execution_count": null,
   "id": "d40165a5",
   "metadata": {
    "deletable": true,
    "editable": true
   },
   "outputs": [],
   "source": [
    "np.random.multinomial(100, [0.5, 0.5]) "
   ]
  },
  {
   "cell_type": "code",
   "execution_count": null,
   "id": "0ca58f86",
   "metadata": {
    "deletable": true,
    "editable": true
   },
   "outputs": [],
   "source": [
    "np.random.multinomial(100, [0.5, 0.5], 100_000) "
   ]
  },
  {
   "cell_type": "code",
   "execution_count": null,
   "id": "bd430f6d",
   "metadata": {
    "deletable": true,
    "editable": true
   },
   "outputs": [],
   "source": [
    "# outcomes is an array with 100,000 elements,\n",
    "# each of which is the number of heads in 100 simulated flips of a fair coin.\n",
    "outcomes = np.random.multinomial(100, [0.5, 0.5], 100_000)[:, 0] \n",
    "outcomes"
   ]
  },
  {
   "cell_type": "markdown",
   "id": "84e69e38",
   "metadata": {
    "deletable": true,
    "editable": true,
    "slideshow": {
     "slide_type": "slide"
    }
   },
   "source": [
    "### Estimating a probability from empirical results"
   ]
  },
  {
   "cell_type": "code",
   "execution_count": null,
   "id": "82a321d2",
   "metadata": {
    "deletable": true,
    "editable": true
   },
   "outputs": [],
   "source": [
    "px.histogram(outcomes, title='Number of Heads in 100 Simulated Flips of a Fair Coin')"
   ]
  },
  {
   "cell_type": "markdown",
   "id": "49481feb",
   "metadata": {
    "deletable": true,
    "editable": true,
    "slideshow": {
     "slide_type": "fragment"
    }
   },
   "source": [
    "- Our estimated probability of seeing between 40 and 50 heads is the fraction (proportion) of experiments in which we saw between 40 and 50 heads:"
   ]
  },
  {
   "cell_type": "code",
   "execution_count": null,
   "id": "27135758",
   "metadata": {
    "deletable": true,
    "editable": true
   },
   "outputs": [],
   "source": [
    "((outcomes >= 40) & (outcomes <= 50)).mean() "
   ]
  },
  {
   "cell_type": "markdown",
   "id": "9d720945",
   "metadata": {
    "deletable": true,
    "editable": true,
    "slideshow": {
     "slide_type": "fragment"
    }
   },
   "source": [
    "- This is remarkably close to the true, theoretical answer, which can be computed using the binomial distribution.\n",
    "\n",
    "$$P(40 \\leq \\text{heads} \\leq 50) = \\sum_{k = 40}^{50} {100 \\choose k} \\frac{1}{2^{100}}$$"
   ]
  },
  {
   "cell_type": "code",
   "execution_count": null,
   "id": "c7da1bc3",
   "metadata": {
    "deletable": true,
    "editable": true
   },
   "outputs": [],
   "source": [
    "from scipy.special import comb\n",
    "sum([comb(100, k) for k in range(40, 51)]) / (2 ** 100)"
   ]
  },
  {
   "cell_type": "markdown",
   "id": "c2d55796",
   "metadata": {
    "deletable": true,
    "editable": true,
    "slideshow": {
     "slide_type": "slide"
    }
   },
   "source": [
    "<div class=\"alert alert-warning\">\n",
    "    <h3>Question 🤔 (Answer at <a style=\"text-decoration: none; color: #0066cc\" href=\"https://docs.google.com/forms/d/e/1FAIpQLSd4oliiZYeNh76jWy-arfEtoAkCrVSsobZxPwxifWggo3EO0Q/viewform\">practicaldsc.org/q</a>)</h3>\n",
    "    \n",
    "What questions do you have about our coin flipping simulation?"
   ]
  },
  {
   "cell_type": "markdown",
   "id": "55489ce9",
   "metadata": {
    "deletable": true,
    "editable": true,
    "slideshow": {
     "slide_type": "slide"
    }
   },
   "source": [
    "### Example: Airplane seats ✈️"
   ]
  },
  {
   "cell_type": "markdown",
   "id": "ceeb499b",
   "metadata": {
    "deletable": true,
    "editable": true,
    "slideshow": {
     "slide_type": "fragment"
    }
   },
   "source": [
    "- A **permutation** of a sequence is a reshuffling of its elements.<br>`np.random.permutation` returns a permutation of the specified sequence."
   ]
  },
  {
   "cell_type": "code",
   "execution_count": null,
   "id": "baa81bb0",
   "metadata": {
    "deletable": true,
    "editable": true
   },
   "outputs": [],
   "source": [
    "np.random.permutation(['A', 'B', 'C']) "
   ]
  },
  {
   "attachments": {},
   "cell_type": "markdown",
   "id": "a7ba1079",
   "metadata": {
    "deletable": true,
    "editable": true,
    "slideshow": {
     "slide_type": "fragment"
    }
   },
   "source": [
    "- Suppose a flight on Wolverine Airlines is scheduled for $n$ passengers, all of whom have an assigned seat."
   ]
  },
  {
   "cell_type": "markdown",
   "id": "e819597c",
   "metadata": {
    "deletable": true,
    "editable": true,
    "slideshow": {
     "slide_type": "fragment"
    }
   },
   "source": [
    "- The airline loses track of seat assignments and everyone sits in a random seat.<br>**What is the probability that _nobody_ is in their originally assigned seat?**"
   ]
  },
  {
   "cell_type": "markdown",
   "id": "9654bcda",
   "metadata": {
    "deletable": true,
    "editable": true,
    "slideshow": {
     "slide_type": "slide"
    }
   },
   "source": [
    "### Simulating airplane seats"
   ]
  },
  {
   "cell_type": "markdown",
   "id": "1a3c5b9a",
   "metadata": {
    "deletable": true,
    "editable": true,
    "slideshow": {
     "slide_type": "fragment"
    }
   },
   "source": [
    "- Let's first simulate one hypothetical \"plane\"."
   ]
  },
  {
   "cell_type": "code",
   "execution_count": null,
   "id": "e226602b",
   "metadata": {
    "deletable": true,
    "editable": true
   },
   "outputs": [],
   "source": [
    "def simulate_one_plane(n, display=False):\n",
    "    \"\"\"Simulates one plane of n people.\n",
    "       Returns True if nobody is in their originally assigned seat,\n",
    "       or False if at least one person is.\n",
    "    \"\"\"\n",
    "    poss = np.arange(1, n + 1)\n",
    "    shuffled = np.random.permutation(poss)\n",
    "    if display:\n",
    "        print('Real plane:     ', poss)\n",
    "        print('Simulated plane:', shuffled)\n",
    "    return (poss != shuffled).all()\n",
    "simulate_one_plane(10, display=True)"
   ]
  },
  {
   "cell_type": "markdown",
   "id": "47b317a1",
   "metadata": {
    "deletable": true,
    "editable": true,
    "slideshow": {
     "slide_type": "fragment"
    }
   },
   "source": [
    "- Now, let's call `simulate_one_plane` many, many times and compute the proportion of calls that return `True`.<br><small>We'll arbitrarily start with $n = 50$, but change it and see what happens to the answer!"
   ]
  },
  {
   "cell_type": "code",
   "execution_count": null,
   "id": "4af0f244",
   "metadata": {
    "deletable": true,
    "editable": true
   },
   "outputs": [],
   "source": [
    "n = 50\n",
    "prob = np.mean([simulate_one_plane(n) for _ in range(100_000)]) \n",
    "prob"
   ]
  },
  {
   "cell_type": "markdown",
   "id": "d6dd09ff",
   "metadata": {
    "deletable": true,
    "editable": true,
    "slideshow": {
     "slide_type": "slide"
    }
   },
   "source": [
    "### Airplane seats, solved"
   ]
  },
  {
   "cell_type": "markdown",
   "id": "9d6d4da7",
   "metadata": {
    "deletable": true,
    "editable": true,
    "slideshow": {
     "slide_type": "fragment"
    }
   },
   "source": [
    "- The probability that nobody is in their originally assigned seat is:\n",
    "\n",
    "$$P(\\text{nobody in assigned seat, $n$ passengers}) = 1 - \\frac{1}{1!} + \\frac{1}{2!} - \\frac{1}{3!} + \\frac{1}{4!} - ... \\frac{1}{n!}$$"
   ]
  },
  {
   "cell_type": "markdown",
   "id": "51ba63bc",
   "metadata": {
    "deletable": true,
    "editable": true,
    "slideshow": {
     "slide_type": "fragment"
    }
   },
   "source": [
    "- Fact: As $n \\rightarrow \\infty$, this approaches:\n",
    "\n",
    "$$P(\\text{nobody in assigned seat, $n$ passengers}) \\rightarrow \\frac{1}{e}$$"
   ]
  },
  {
   "cell_type": "code",
   "execution_count": null,
   "id": "352f3245",
   "metadata": {
    "deletable": true,
    "editable": true
   },
   "outputs": [],
   "source": [
    "1 / np.e "
   ]
  },
  {
   "cell_type": "markdown",
   "id": "8a1effd7",
   "metadata": {
    "deletable": true,
    "editable": true,
    "slideshow": {
     "slide_type": "slide"
    }
   },
   "source": [
    "### Curious to learn more?"
   ]
  },
  {
   "cell_type": "markdown",
   "id": "f9b0caeb",
   "metadata": {
    "deletable": true,
    "editable": true,
    "slideshow": {
     "slide_type": "fragment"
    }
   },
   "source": [
    "- Watch the following video by Numberphile, a popular YouTube channel for math-related content."
   ]
  },
  {
   "cell_type": "code",
   "execution_count": null,
   "id": "43a47c7c",
   "metadata": {
    "deletable": true,
    "editable": true
   },
   "outputs": [],
   "source": [
    "YouTubeVideo('pbXg5EI5t4c')"
   ]
  },
  {
   "cell_type": "markdown",
   "id": "bc0033d7",
   "metadata": {
    "deletable": true,
    "editable": true,
    "slideshow": {
     "slide_type": "fragment"
    }
   },
   "source": [
    "- Simulations are powerful!"
   ]
  },
  {
   "cell_type": "markdown",
   "id": "aab06304",
   "metadata": {
    "deletable": true,
    "editable": true,
    "slideshow": {
     "slide_type": "slide"
    }
   },
   "source": [
    "### What's next?"
   ]
  },
  {
   "cell_type": "markdown",
   "id": "6e4a8051",
   "metadata": {
    "deletable": true,
    "editable": true,
    "slideshow": {
     "slide_type": "fragment"
    }
   },
   "source": [
    "- There is no lecture on Monday, due to MLK Day."
   ]
  },
  {
   "cell_type": "markdown",
   "id": "4f0680b8",
   "metadata": {
    "deletable": true,
    "editable": true,
    "slideshow": {
     "slide_type": "fragment"
    }
   },
   "source": [
    "- In Lecture 4 next Wednesday, we'll do a deep dive into `pandas` DataFrames."
   ]
  },
  {
   "cell_type": "markdown",
   "id": "0aff4813",
   "metadata": {
    "deletable": true,
    "editable": true,
    "slideshow": {
     "slide_type": "fragment"
    }
   },
   "source": [
    "- Homework 2, which will be released by Saturday, will contain some content from today's lecture and some content from Lecture 4."
   ]
  }
 ],
 "metadata": {
  "celltoolbar": "None",
  "kernelspec": {
   "display_name": "Python 3 (ipykernel)",
   "language": "python",
   "name": "python3"
  },
  "language_info": {
   "codemirror_mode": {
    "name": "ipython",
    "version": 3
   },
   "file_extension": ".py",
   "mimetype": "text/x-python",
   "name": "python",
   "nbconvert_exporter": "python",
   "pygments_lexer": "ipython3",
   "version": "3.10.16"
  },
  "livereveal": {
   "scroll": true
  },
  "rise": {
   "transition": "none"
  }
 },
 "nbformat": 4,
 "nbformat_minor": 5
}
