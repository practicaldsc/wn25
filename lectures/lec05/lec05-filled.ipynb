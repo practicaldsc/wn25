{
 "cells": [
  {
   "cell_type": "code",
   "execution_count": null,
   "id": "6783dcc0",
   "metadata": {
    "deletable": true,
    "editable": true,
    "slideshow": {
     "slide_type": "skip"
    },
    "tags": []
   },
   "outputs": [],
   "source": [
    "from lec_utils import *\n",
    "def show_grouping_animation():\n",
    "    src = \"https://docs.google.com/presentation/d/1tBaFyHseIGsX5wmE3BdNLeVHnKksQtpzLhHge8Tzly0/embed?start=false&loop=false&delayms=60000&rm=minimal\"\n",
    "    width = 960\n",
    "    height = 509\n",
    "    display(IFrame(src, width, height))"
   ]
  },
  {
   "cell_type": "markdown",
   "id": "c191916b",
   "metadata": {
    "deletable": true,
    "editable": true,
    "slideshow": {
     "slide_type": "slide"
    },
    "tags": []
   },
   "source": [
    "<div class=\"alert alert-info\" markdown=\"1\">\n",
    "\n",
    "#### Lecture 5\n",
    "\n",
    "# Aggregation: Grouping and Pivoting\n",
    "\n",
    "### EECS 398: Practical Data Science, Winter 2025\n",
    "\n",
    "<small><a style=\"text-decoration: none\" href=\"https://practicaldsc.org\">practicaldsc.org</a> • <a style=\"text-decoration: none\" href=\"https://github.com/practicaldsc/wn25\">github.com/practicaldsc/wn25</a> • 📣 See latest announcements [**here on Ed**](https://edstem.org/us/courses/69737/discussion/5943734) </small>\n",
    "    \n",
    "</div>"
   ]
  },
  {
   "cell_type": "markdown",
   "id": "59021558",
   "metadata": {
    "deletable": true,
    "editable": true,
    "slideshow": {
     "slide_type": "slide"
    }
   },
   "source": [
    "### Agenda 📆\n",
    "\n",
    "- Introduction to the `groupby` method.\n",
    "- `groupby`'s inner workings.\n",
    "- Advanced `groupby` usage.\n",
    "- Pivot tables using `pivot_table`.\n",
    "\n",
    "Remember to follow along in lecture by accessing the \"blank\" lecture notebook in our [public GitHub repository](https://github.com/practicaldsc/wn25)."
   ]
  },
  {
   "cell_type": "markdown",
   "id": "30f0f73e",
   "metadata": {
    "deletable": true,
    "editable": true,
    "slideshow": {
     "slide_type": "slide"
    }
   },
   "source": [
    "<div class=\"alert alert-success\">\n",
    "    \n",
    "### Read the guide!\n",
    "    \n",
    "- We've posted a new guide about how DataFrames are stored in memory, linked [**here**](https://practicaldsc.org/guides/data-wrangling/df-internals/).\n",
    "- It covers:\n",
    "    - How to (correctly) add new columns to DataFrames, and otherwise deal with the fact that they are **mutable**.\n",
    "    - How DataFrames interface with `numpy`.\n",
    "- This content used to be part of lecture last semester, but we've moved it into a guide to spend lecture time on more conceptual material.\n",
    "- **But you're still responsible for knowing it!**\n",
    "    \n",
    "</div>"
   ]
  },
  {
   "cell_type": "markdown",
   "id": "fd324f7d",
   "metadata": {
    "deletable": true,
    "editable": true,
    "slideshow": {
     "slide_type": "slide"
    }
   },
   "source": [
    "<div class=\"alert alert-warning\">\n",
    "    <h3>Question 🤔 (Answer at <a style=\"text-decoration: none; color: #0066cc\" href=\"https://docs.google.com/forms/d/e/1FAIpQLSd4oliiZYeNh76jWy-arfEtoAkCrVSsobZxPwxifWggo3EO0Q/viewform\">practicaldsc.org/q</a>)</h3>\n",
    "    \n",
    "<small>Remember that you can always ask questions anonymously at the link above!</small>"
   ]
  },
  {
   "cell_type": "markdown",
   "id": "2e437c29",
   "metadata": {
    "deletable": true,
    "editable": true,
    "slideshow": {
     "slide_type": "slide"
    }
   },
   "source": [
    "## Introduction to the `groupby` method\n",
    "\n",
    "---\n",
    "\n",
    "What sorts of problems does `groupby` help us solve?"
   ]
  },
  {
   "cell_type": "markdown",
   "id": "d2ab54a1",
   "metadata": {
    "deletable": true,
    "editable": true,
    "slideshow": {
     "slide_type": "slide"
    }
   },
   "source": [
    "### Example: Palmer Penguins\n",
    "\n",
    "<center><img src=\"imgs/lter_penguins.png\" width=60%>\n",
    "<i><a href=\"https://github.com/allisonhorst/palmerpenguins/blob/main/README.md\">Artwork by @allison_horst</a></i>\n",
    "\n",
    "</center>\n",
    "\n",
    "The dataset we'll work with for the rest of the lecture involves various measurements taken of three species of penguins in Antarctica."
   ]
  },
  {
   "cell_type": "code",
   "execution_count": null,
   "id": "f1884b9b",
   "metadata": {
    "deletable": true,
    "editable": true,
    "slideshow": {
     "slide_type": "slide"
    }
   },
   "outputs": [],
   "source": [
    "IFrame('https://www.youtube-nocookie.com/embed/CCrNAHXUstU?si=-DntSyUNp5Kwitjm&amp;start=11',\n",
    "       width=560, height=315)"
   ]
  },
  {
   "cell_type": "markdown",
   "id": "73756b1d",
   "metadata": {
    "deletable": true,
    "editable": true,
    "slideshow": {
     "slide_type": "slide"
    }
   },
   "source": [
    "### Loading the data"
   ]
  },
  {
   "cell_type": "code",
   "execution_count": null,
   "id": "4a12654d",
   "metadata": {
    "deletable": true,
    "editable": true,
    "slideshow": {
     "slide_type": "-"
    }
   },
   "outputs": [],
   "source": [
    "penguins = pd.read_csv('data/penguins.csv')\n",
    "penguins"
   ]
  },
  {
   "cell_type": "markdown",
   "id": "66f63344",
   "metadata": {
    "deletable": true,
    "editable": true,
    "slideshow": {
     "slide_type": "fragment"
    }
   },
   "source": [
    "- Here, each row corresponds to a single penguin, and each column corresponds to a different attribute (or feature) we have for each penguin."
   ]
  },
  {
   "cell_type": "markdown",
   "id": "42799cfe",
   "metadata": {
    "deletable": true,
    "editable": true,
    "slideshow": {
     "slide_type": "fragment"
    }
   },
   "source": [
    "- Data formatted in this way is sometimes called [tidy data](https://r4ds.had.co.nz/tidy-data.html)."
   ]
  },
  {
   "cell_type": "markdown",
   "id": "1fa88bd4",
   "metadata": {
    "deletable": true,
    "editable": true,
    "slideshow": {
     "slide_type": "slide"
    }
   },
   "source": [
    "### Visualizing the data"
   ]
  },
  {
   "cell_type": "code",
   "execution_count": null,
   "id": "9de7faa0",
   "metadata": {
    "deletable": true,
    "editable": true
   },
   "outputs": [],
   "source": [
    "penguins.plot(kind='scatter', \n",
    "              x='bill_length_mm', \n",
    "              y='body_mass_g', \n",
    "              color='species', \n",
    "              title='Body Mass vs. Bill Length')"
   ]
  },
  {
   "cell_type": "markdown",
   "id": "fa2ba877",
   "metadata": {
    "deletable": true,
    "editable": true,
    "slideshow": {
     "slide_type": "slide"
    }
   },
   "source": [
    "### Aggregating"
   ]
  },
  {
   "cell_type": "markdown",
   "id": "e919e834",
   "metadata": {
    "deletable": true,
    "editable": true,
    "slideshow": {
     "slide_type": "fragment"
    }
   },
   "source": [
    "- **Aggregating** is the act of combining many values into a single value."
   ]
  },
  {
   "cell_type": "markdown",
   "id": "33e3729f",
   "metadata": {
    "deletable": true,
    "editable": true,
    "slideshow": {
     "slide_type": "fragment"
    }
   },
   "source": [
    "- Aggregations \"hide\" some of the detail in the data, and help understand bigger-picture trends."
   ]
  },
  {
   "cell_type": "markdown",
   "id": "c23a2a69",
   "metadata": {
    "deletable": true,
    "editable": true,
    "slideshow": {
     "slide_type": "fragment"
    }
   },
   "source": [
    "- Example: What is the mean `'body_mass_g'` for all penguins?"
   ]
  },
  {
   "cell_type": "code",
   "execution_count": null,
   "id": "c4b289cf",
   "metadata": {
    "deletable": true,
    "editable": true
   },
   "outputs": [],
   "source": [
    "penguins['body_mass_g'].mean() "
   ]
  },
  {
   "cell_type": "markdown",
   "id": "6f4fcae8",
   "metadata": {
    "deletable": true,
    "editable": true,
    "slideshow": {
     "slide_type": "fragment"
    }
   },
   "source": [
    "- Example: What is the mean `'body_mass_g'` **for each `'species'`**?"
   ]
  },
  {
   "cell_type": "markdown",
   "id": "46a93f4f",
   "metadata": {
    "deletable": true,
    "editable": true,
    "slideshow": {
     "slide_type": "slide"
    }
   },
   "source": [
    "### A naïve approach to finding the mean `'body_mass_g'` per `'species'`"
   ]
  },
  {
   "cell_type": "markdown",
   "id": "29333866",
   "metadata": {
    "deletable": true,
    "editable": true,
    "slideshow": {
     "slide_type": "fragment"
    }
   },
   "source": [
    "- First, we could identify all unique values in the `'species'` column."
   ]
  },
  {
   "cell_type": "code",
   "execution_count": null,
   "id": "c1caac4e",
   "metadata": {
    "deletable": true,
    "editable": true,
    "slideshow": {
     "slide_type": ""
    }
   },
   "outputs": [],
   "source": [
    "penguins['species'].unique() "
   ]
  },
  {
   "cell_type": "markdown",
   "id": "bb4909b8",
   "metadata": {
    "deletable": true,
    "editable": true,
    "slideshow": {
     "slide_type": "fragment"
    }
   },
   "source": [
    "- Then, for each `'species'`, we could:\n",
    "    1. **Query** for just that `'species'`.\n",
    "    1. Extract the `'body_mass_g'` column and use the `mean` method on it."
   ]
  },
  {
   "cell_type": "code",
   "execution_count": null,
   "id": "8bea9e23",
   "metadata": {
    "deletable": true,
    "editable": true
   },
   "outputs": [],
   "source": [
    "penguins.loc[penguins['species'] == 'Adelie', 'body_mass_g'].mean() "
   ]
  },
  {
   "cell_type": "code",
   "execution_count": null,
   "id": "cb01d699",
   "metadata": {
    "deletable": true,
    "editable": true
   },
   "outputs": [],
   "source": [
    "penguins.loc[penguins['species'] == 'Chinstrap', 'body_mass_g'].mean() "
   ]
  },
  {
   "cell_type": "code",
   "execution_count": null,
   "id": "3ae9c8e8",
   "metadata": {
    "deletable": true,
    "editable": true
   },
   "outputs": [],
   "source": [
    "penguins.loc[penguins['species'] == 'Gentoo', 'body_mass_g'].mean() "
   ]
  },
  {
   "cell_type": "markdown",
   "id": "04964e99",
   "metadata": {
    "deletable": true,
    "editable": true,
    "slideshow": {
     "slide_type": "fragment"
    }
   },
   "source": [
    "- We _could_ use a `for`-loop, but remember, we want to avoid Python `for`-loops."
   ]
  },
  {
   "cell_type": "markdown",
   "id": "e4c28112",
   "metadata": {
    "deletable": true,
    "editable": true,
    "slideshow": {
     "slide_type": "slide"
    }
   },
   "source": [
    "### The magic of `groupby` 🪄"
   ]
  },
  {
   "cell_type": "markdown",
   "id": "e901c9fd",
   "metadata": {
    "deletable": true,
    "editable": true,
    "slideshow": {
     "slide_type": "fragment"
    }
   },
   "source": [
    "- A better solution is to use the `groupby` method."
   ]
  },
  {
   "cell_type": "code",
   "execution_count": null,
   "id": "11d940f0",
   "metadata": {
    "deletable": true,
    "editable": true
   },
   "outputs": [],
   "source": [
    "# To find the overall mean 'body_mass_g':\n",
    "penguins['body_mass_g'].mean() "
   ]
  },
  {
   "cell_type": "code",
   "execution_count": null,
   "id": "b5c85e22",
   "metadata": {
    "deletable": true,
    "editable": true
   },
   "outputs": [],
   "source": [
    "# To find the mean 'body_mass_g' for each 'species':\n",
    "penguins.groupby('species')['body_mass_g'].mean() "
   ]
  },
  {
   "cell_type": "markdown",
   "id": "7b7167f1",
   "metadata": {
    "deletable": true,
    "editable": true,
    "slideshow": {
     "slide_type": "fragment"
    }
   },
   "source": [
    "- Somehow, the `groupby` method computes what we're looking for in just one line. How?"
   ]
  },
  {
   "cell_type": "markdown",
   "id": "ea314c8c",
   "metadata": {
    "deletable": true,
    "editable": true,
    "slideshow": {
     "slide_type": "fragment"
    }
   },
   "source": [
    "- We'll work through the internals, but remember this: **if you need to calculate something _for each group_, use `groupby`!**"
   ]
  },
  {
   "cell_type": "markdown",
   "id": "dc2825e8",
   "metadata": {
    "deletable": true,
    "editable": true,
    "slideshow": {
     "slide_type": "slide"
    }
   },
   "source": [
    "### An illustrative example: Pets 🐱 🐶🐹"
   ]
  },
  {
   "cell_type": "markdown",
   "id": "98891f5e",
   "metadata": {
    "deletable": true,
    "editable": true,
    "slideshow": {
     "slide_type": "fragment"
    }
   },
   "source": [
    "- Consider the DataFrame `pets`, shown below.\n",
    "\n",
    "<table border=\"1\" class=\"dataframe\">\n",
    "  <thead>\n",
    "    <tr style=\"text-align: right;\">\n",
    "      <th></th>\n",
    "      <th>Species</th>\n",
    "      <th>Color</th>\n",
    "      <th>Weight</th>\n",
    "      <th>Age</th>\n",
    "    </tr>\n",
    "  </thead>\n",
    "  <tbody>\n",
    "    <tr>\n",
    "      <th>0</th>\n",
    "      <td>dog</td>\n",
    "      <td>black</td>\n",
    "      <td>40</td>\n",
    "      <td>5.0</td>\n",
    "    </tr>\n",
    "    <tr>\n",
    "      <th>1</th>\n",
    "      <td>cat</td>\n",
    "      <td>golden</td>\n",
    "      <td>15</td>\n",
    "      <td>8.0</td>\n",
    "    </tr>\n",
    "    <tr>\n",
    "      <th>2</th>\n",
    "      <td>cat</td>\n",
    "      <td>black</td>\n",
    "      <td>20</td>\n",
    "      <td>9.0</td>\n",
    "    </tr>\n",
    "    <tr>\n",
    "      <th>3</th>\n",
    "      <td>dog</td>\n",
    "      <td>white</td>\n",
    "      <td>80</td>\n",
    "      <td>2.0</td>\n",
    "    </tr>\n",
    "    <tr>\n",
    "      <th>4</th>\n",
    "      <td>dog</td>\n",
    "      <td>golden</td>\n",
    "      <td>25</td>\n",
    "      <td>0.5</td>\n",
    "    </tr>\n",
    "    <tr>\n",
    "      <th>5</th>\n",
    "      <td>hamster</td>\n",
    "      <td>golden</td>\n",
    "      <td>1</td>\n",
    "      <td>3.0</td>\n",
    "    </tr>\n",
    "  </tbody>\n",
    "</table>"
   ]
  },
  {
   "cell_type": "markdown",
   "id": "15b73f18",
   "metadata": {
    "deletable": true,
    "editable": true,
    "slideshow": {
     "slide_type": "fragment"
    }
   },
   "source": [
    "- Let's see what happens under the hood when we use the `groupby` method on `pets`."
   ]
  },
  {
   "cell_type": "code",
   "execution_count": null,
   "id": "48eec9f9",
   "metadata": {
    "deletable": true,
    "editable": true,
    "slideshow": {
     "slide_type": "slide"
    }
   },
   "outputs": [],
   "source": [
    "show_grouping_animation()"
   ]
  },
  {
   "cell_type": "markdown",
   "id": "2c32b0c6",
   "metadata": {
    "deletable": true,
    "editable": true,
    "slideshow": {
     "slide_type": "slide"
    }
   },
   "source": [
    "### \"Split-apply-combine\" paradigm"
   ]
  },
  {
   "cell_type": "markdown",
   "id": "092c6317",
   "metadata": {
    "deletable": true,
    "editable": true,
    "slideshow": {
     "slide_type": "fragment"
    }
   },
   "source": [
    "- The `groupby` method involves three steps: **split**, **apply**, and **combine**.<br><small>This is the same terminology that the [`pandas` documentation](https://pandas.pydata.org/docs/user_guide/groupby.html) uses.</small>\n",
    "\n",
    "<center><img src=\"imgs/image_0.png\" width=700></center>"
   ]
  },
  {
   "cell_type": "markdown",
   "id": "690f2501",
   "metadata": {
    "deletable": true,
    "editable": true,
    "slideshow": {
     "slide_type": "fragment"
    }
   },
   "source": [
    "- **Split** breaks up and \"groups\" the rows of a DataFrame according to the specified **key**.<br><small>There is one \"group\" for every unique value of the key.</small>"
   ]
  },
  {
   "cell_type": "markdown",
   "id": "b275c455",
   "metadata": {
    "deletable": true,
    "editable": true,
    "slideshow": {
     "slide_type": "fragment"
    }
   },
   "source": [
    "- **Apply** uses a function (e.g. aggregation, transformation, filtration) within the individual groups."
   ]
  },
  {
   "cell_type": "markdown",
   "id": "4b71c135",
   "metadata": {
    "deletable": true,
    "editable": true,
    "slideshow": {
     "slide_type": "fragment"
    }
   },
   "source": [
    "- **Combine** stitches the results of these operations into an output DataFrame."
   ]
  },
  {
   "cell_type": "markdown",
   "id": "36e42c15",
   "metadata": {
    "deletable": true,
    "editable": true,
    "slideshow": {
     "slide_type": "fragment"
    }
   },
   "source": [
    "- The split-apply-combine pattern can be **parallelized** to work on multiple computers or threads, by sending computations for each group to different processors."
   ]
  },
  {
   "cell_type": "markdown",
   "id": "a0976afe",
   "metadata": {
    "deletable": true,
    "editable": true,
    "slideshow": {
     "slide_type": "slide"
    }
   },
   "source": [
    "<div class=\"alert alert-success\">\n",
    "<h3>Activity</h3>\n",
    "        \n",
    "Which penguin `'species'` has the highest median `'bill_length_mm'`?"
   ]
  },
  {
   "cell_type": "code",
   "execution_count": null,
   "id": "7a7c1dd5",
   "metadata": {
    "deletable": true,
    "editable": true
   },
   "outputs": [],
   "source": [
    "penguins"
   ]
  },
  {
   "cell_type": "code",
   "execution_count": null,
   "id": "84ecbd59",
   "metadata": {
    "deletable": true,
    "editable": true
   },
   "outputs": [],
   "source": [
    "(\n",
    "    penguins\n",
    "    .groupby('species')\n",
    "    ['bill_length_mm']\n",
    "    .median()\n",
    "    .idxmax()\n",
    ")"
   ]
  },
  {
   "cell_type": "code",
   "execution_count": null,
   "id": "6a4f3759",
   "metadata": {
    "deletable": true,
    "editable": true
   },
   "outputs": [],
   "source": [
    "(\n",
    "    penguins\n",
    "    .groupby('species')\n",
    "    ['bill_length_mm']\n",
    "    .median()\n",
    "    .plot(kind='barh', title='Median Bill Length of Each Species')\n",
    ")"
   ]
  },
  {
   "cell_type": "code",
   "execution_count": null,
   "id": "9220b4bb",
   "metadata": {
    "deletable": true,
    "editable": true
   },
   "outputs": [],
   "source": []
  },
  {
   "cell_type": "markdown",
   "id": "38b748bd",
   "metadata": {
    "deletable": true,
    "editable": true,
    "slideshow": {
     "slide_type": "slide"
    }
   },
   "source": [
    "## `groupby`'s inner workings\n",
    "\n",
    "---"
   ]
  },
  {
   "cell_type": "markdown",
   "id": "9b6001c3",
   "metadata": {
    "deletable": true,
    "editable": true,
    "slideshow": {
     "slide_type": "slide"
    }
   },
   "source": [
    "### How does `groupby` actually work?"
   ]
  },
  {
   "cell_type": "markdown",
   "id": "b70515a0",
   "metadata": {
    "deletable": true,
    "editable": true,
    "slideshow": {
     "slide_type": "fragment"
    }
   },
   "source": [
    "- We've just evaluated a few expressions of the following form."
   ]
  },
  {
   "cell_type": "code",
   "execution_count": null,
   "id": "5c1f9dd4",
   "metadata": {
    "deletable": true,
    "editable": true
   },
   "outputs": [],
   "source": [
    "penguins.groupby('species')['bill_length_mm'].mean()"
   ]
  },
  {
   "cell_type": "markdown",
   "id": "639d57c7",
   "metadata": {
    "deletable": true,
    "editable": true,
    "slideshow": {
     "slide_type": "fragment"
    }
   },
   "source": [
    "- There are three \"building blocks\"\n",
    "in the above expression:\n",
    "    1. `penguins.groupby('species')`.<br><small>First, we specify which column we want to group on.</small>\n",
    "    1. `['bill_length_mm']`.<br><small>Then, we select the other relevant columns for our calculations.</small>\n",
    "    1. `.mean()`.<br><small>Finally, we use an aggregation method.</small>"
   ]
  },
  {
   "cell_type": "markdown",
   "id": "3763ebe7",
   "metadata": {
    "deletable": true,
    "editable": true,
    "slideshow": {
     "slide_type": "fragment"
    }
   },
   "source": [
    "- Let's see what each block contributes to the output."
   ]
  },
  {
   "cell_type": "markdown",
   "id": "2176ef4f",
   "metadata": {
    "deletable": true,
    "editable": true,
    "slideshow": {
     "slide_type": "slide"
    }
   },
   "source": [
    "### `DataFrameGroupBy` objects"
   ]
  },
  {
   "cell_type": "markdown",
   "id": "d3c0bb17",
   "metadata": {
    "deletable": true,
    "editable": true,
    "slideshow": {
     "slide_type": "fragment"
    }
   },
   "source": [
    "<pre>\n",
    "\n",
    "<center><strong><span style=\"color: #0066cc\">penguins.groupby('species')</span></strong><span style=\"color: #999\">['bill_length_mm'].mean()</span></center>\n",
    "\n",
    "</pre>"
   ]
  },
  {
   "cell_type": "markdown",
   "id": "b8e82f20",
   "metadata": {
    "deletable": true,
    "editable": true,
    "slideshow": {
     "slide_type": "fragment"
    }
   },
   "source": [
    "- If `df` is a DataFrame, then `df.groupby(key)` returns a `DataFrameGroupBy` object.<br><small>This object represents the \"split\" in \"split-apply-combine\".</small>"
   ]
  },
  {
   "cell_type": "code",
   "execution_count": null,
   "id": "f922624b",
   "metadata": {
    "deletable": true,
    "editable": true
   },
   "outputs": [],
   "source": [
    "penguins.groupby('species')"
   ]
  },
  {
   "cell_type": "code",
   "execution_count": null,
   "id": "69c0c59e",
   "metadata": {
    "deletable": true,
    "editable": true
   },
   "outputs": [],
   "source": [
    "# Creates one group for each unique value in the species column.\n",
    "penguins.groupby('species').groups"
   ]
  },
  {
   "cell_type": "markdown",
   "id": "c4e8b2db",
   "metadata": {
    "deletable": true,
    "editable": true,
    "slideshow": {
     "slide_type": "fragment"
    }
   },
   "source": [
    "- `DataFrameGroupBy` objects have a `groups` attribute, which is a dictionary in which the keys are group names and the values are lists of row labels.<br><small>We won't actually use this, but it's helpful in understanding how `groupby` works under-the-hood.</small>"
   ]
  },
  {
   "cell_type": "markdown",
   "id": "5b5b27f0",
   "metadata": {
    "deletable": true,
    "editable": true,
    "slideshow": {
     "slide_type": "slide"
    }
   },
   "source": [
    "### Column extraction"
   ]
  },
  {
   "cell_type": "markdown",
   "id": "3c037e93",
   "metadata": {
    "deletable": true,
    "editable": true,
    "slideshow": {
     "slide_type": "fragment"
    }
   },
   "source": [
    "<pre>\n",
    "\n",
    "<center><span style=\"color: #999\">penguins.groupby('species')</span><strong><span style=\"color: #0066cc\">['bill_length_mm']</span></strong><span style=\"color: #999\">.mean()</span></center>\n",
    "\n",
    "</pre>"
   ]
  },
  {
   "cell_type": "markdown",
   "id": "a9a2afa0",
   "metadata": {
    "deletable": true,
    "editable": true,
    "slideshow": {
     "slide_type": "fragment"
    }
   },
   "source": [
    "- After creating a `DataFrameGroupBy` object, we typically select the relevant column(s) that we want to aggregate.<br><small>If we don't, we may run into errors if trying to use a numeric aggregation method on non-numeric columns, as we saw earlier.<br>Also, this is more efficient, since the aggregations are only performed on the columns you care about, rather than all columns.</small>"
   ]
  },
  {
   "cell_type": "markdown",
   "id": "e280f9ce",
   "metadata": {
    "deletable": true,
    "editable": true,
    "slideshow": {
     "slide_type": "fragment"
    }
   },
   "source": [
    "- The result is either a `SeriesGroupBy` or `DataFrameGroupBy` object, depending on what's passed in."
   ]
  },
  {
   "cell_type": "code",
   "execution_count": null,
   "id": "57768c68",
   "metadata": {
    "deletable": true,
    "editable": true
   },
   "outputs": [],
   "source": [
    "penguins.groupby('species')['bill_length_mm'] "
   ]
  },
  {
   "cell_type": "code",
   "execution_count": null,
   "id": "f8520450",
   "metadata": {
    "deletable": true,
    "editable": true
   },
   "outputs": [],
   "source": [
    "penguins.groupby('species')[['bill_length_mm', 'bill_depth_mm']] "
   ]
  },
  {
   "cell_type": "markdown",
   "id": "a27968d6",
   "metadata": {
    "deletable": true,
    "editable": true,
    "slideshow": {
     "slide_type": "slide"
    }
   },
   "source": [
    "### Aggregation"
   ]
  },
  {
   "cell_type": "markdown",
   "id": "f2a2eb46",
   "metadata": {
    "deletable": true,
    "editable": true,
    "slideshow": {
     "slide_type": "fragment"
    }
   },
   "source": [
    "<pre>\n",
    "\n",
    "<center><span style=\"color: #999\">penguins.groupby('species')['bill_length_mm']</span><strong><span style=\"color: #0066cc\">.mean()</span></strong></center>\n",
    "\n",
    "</pre>"
   ]
  },
  {
   "cell_type": "markdown",
   "id": "175e518b",
   "metadata": {
    "deletable": true,
    "editable": true,
    "slideshow": {
     "slide_type": "fragment"
    }
   },
   "source": [
    "- Once we create a `DataFrameGroupBy` or `SeriesGroupBy` object, we need to **apply** some function **separately** to each group, and **combine** the results."
   ]
  },
  {
   "cell_type": "markdown",
   "id": "ad5fd8e5",
   "metadata": {
    "deletable": true,
    "editable": true,
    "slideshow": {
     "slide_type": "fragment"
    }
   },
   "source": [
    "- The most common operation we apply to each group is an **aggregation**, but we'll see examples of **filtrations** and **transformations** soon.<br><small>Remember, aggregation is the act of combining many values into a single value.</small>"
   ]
  },
  {
   "cell_type": "markdown",
   "id": "28893a00",
   "metadata": {
    "deletable": true,
    "editable": true,
    "slideshow": {
     "slide_type": "fragment"
    }
   },
   "source": [
    "- To perform an aggregation, use an aggregation method on the `DataFrameGroupBy` or `SeriesGroupBy` object, e.g. `.mean()`, `.max()`, or `.median()`."
   ]
  },
  {
   "cell_type": "markdown",
   "id": "d31ee9de",
   "metadata": {
    "deletable": true,
    "editable": true,
    "slideshow": {
     "slide_type": "slide"
    }
   },
   "source": [
    "Let's look at some examples."
   ]
  },
  {
   "cell_type": "code",
   "execution_count": null,
   "id": "efe5b5fc",
   "metadata": {
    "deletable": true,
    "editable": true
   },
   "outputs": [],
   "source": [
    "# Note that this worked on the entire DataFrame!\n",
    "# But, if all we wanted are the sums of `'body_mass_g'\n",
    "# for each species, this is slower than\n",
    "# penguins.groupby('species')['body_mass_g'].sum().\n",
    "penguins.groupby('species').sum() "
   ]
  },
  {
   "cell_type": "code",
   "execution_count": null,
   "id": "fef5626c",
   "metadata": {
    "deletable": true,
    "editable": true
   },
   "outputs": [],
   "source": [
    "# Often used in conjunction with sort_values.\n",
    "# Remember this when you work on the activity in a few slides!\n",
    "penguins.groupby('species').last() "
   ]
  },
  {
   "cell_type": "code",
   "execution_count": null,
   "id": "39eb3337",
   "metadata": {
    "deletable": true,
    "editable": true
   },
   "outputs": [],
   "source": [
    "# Similar to value_counts, but not identical!\n",
    "penguins.groupby('species').size() "
   ]
  },
  {
   "cell_type": "code",
   "execution_count": null,
   "id": "51b93b8e",
   "metadata": {
    "deletable": true,
    "editable": true
   },
   "outputs": [],
   "source": [
    "penguins['species'].value_counts() "
   ]
  },
  {
   "cell_type": "markdown",
   "id": "5d5e27c7",
   "metadata": {
    "deletable": true,
    "editable": true,
    "slideshow": {
     "slide_type": "slide"
    }
   },
   "source": [
    "### Reminder: Column independence"
   ]
  },
  {
   "cell_type": "markdown",
   "id": "0b23cab7",
   "metadata": {
    "deletable": true,
    "editable": true,
    "slideshow": {
     "slide_type": "fragment"
    }
   },
   "source": [
    "- As we've seen, within each group, the aggregation method is applied to **each column independently**."
   ]
  },
  {
   "cell_type": "code",
   "execution_count": null,
   "id": "abb474f9",
   "metadata": {
    "deletable": true,
    "editable": true
   },
   "outputs": [],
   "source": [
    "penguins.groupby('species').max()"
   ]
  },
  {
   "cell_type": "markdown",
   "id": "daecef08",
   "metadata": {
    "deletable": true,
    "editable": true,
    "slideshow": {
     "slide_type": "fragment"
    }
   },
   "source": [
    "- The above result **is not** telling us that there is a `'Adelie'` penguin with a `'body_mass_g'` of `4775.0` that lived on `'Torgersen'` island."
   ]
  },
  {
   "cell_type": "code",
   "execution_count": null,
   "id": "4307c074",
   "metadata": {
    "deletable": true,
    "editable": true
   },
   "outputs": [],
   "source": [
    "# This penguin lived on Biscoe island!\n",
    "penguins.loc[(penguins['species'] == 'Adelie') & (penguins['body_mass_g'] == 4775.0)]"
   ]
  },
  {
   "cell_type": "markdown",
   "id": "a686c0fa",
   "metadata": {
    "deletable": true,
    "editable": true,
    "slideshow": {
     "slide_type": "slide"
    }
   },
   "source": [
    "<div class=\"alert alert-success\">\n",
    "<h3>Activity</h3>\n",
    "\n",
    "Find the <code>'species'</code>, <code>'island'</code>, and <code>'body_mass_g'</code> of the heaviest <code>'Male'</code> and <code>'Female'</code> penguins in <code>penguins</code>.\n",
    "</div>"
   ]
  },
  {
   "cell_type": "code",
   "execution_count": null,
   "id": "783943a3",
   "metadata": {
    "deletable": true,
    "editable": true
   },
   "outputs": [],
   "source": [
    "# General idea: Sort the penguibs by mass in decreasing order.\n",
    "# Then, the first male penguin that appears is the heaviest male penguin,\n",
    "# and the first female penguin that appears is the heaviest female penguin.\n",
    "# For each sex, take the first row.\n",
    "(\n",
    "    penguins\n",
    "    .sort_values('body_mass_g', ascending=False)\n",
    "    .groupby('sex')\n",
    "    .first()\n",
    ")"
   ]
  },
  {
   "cell_type": "code",
   "execution_count": null,
   "id": "166f5f6c",
   "metadata": {
    "deletable": true,
    "editable": true
   },
   "outputs": [],
   "source": []
  },
  {
   "cell_type": "markdown",
   "id": "c2a35509",
   "metadata": {
    "deletable": true,
    "editable": true,
    "slideshow": {
     "slide_type": "slide"
    }
   },
   "source": [
    "<div class=\"alert alert-success\">\n",
    "<h3>Activity</h3>\n",
    "                \n",
    "What proportion of penguins of each `'species'` live on `'Dream'` island?\n",
    "    \n",
    "***Hint***: If you've read the guide, this activity will be much easier!\n",
    "\n",
    "</div>"
   ]
  },
  {
   "cell_type": "code",
   "execution_count": null,
   "id": "54427fdc",
   "metadata": {
    "deletable": true,
    "editable": true
   },
   "outputs": [],
   "source": [
    "(\n",
    "    penguins\n",
    "    .assign(is_Dream=penguins['island'] == 'Dream')\n",
    "    .groupby('species')\n",
    "    ['is_Dream']\n",
    "    .mean()\n",
    ")"
   ]
  },
  {
   "cell_type": "code",
   "execution_count": null,
   "id": "0fbbe252",
   "metadata": {
    "deletable": true,
    "editable": true
   },
   "outputs": [],
   "source": []
  },
  {
   "cell_type": "markdown",
   "id": "9479b631",
   "metadata": {
    "deletable": true,
    "editable": true,
    "slideshow": {
     "slide_type": "slide"
    }
   },
   "source": [
    "## Advanced `groupby` usage\n",
    "\n",
    "---"
   ]
  },
  {
   "cell_type": "markdown",
   "id": "8a470337",
   "metadata": {
    "deletable": true,
    "editable": true,
    "slideshow": {
     "slide_type": "slide"
    }
   },
   "source": [
    "### Beyond default aggregation methods"
   ]
  },
  {
   "cell_type": "markdown",
   "id": "1b878c93",
   "metadata": {
    "deletable": true,
    "editable": true,
    "slideshow": {
     "slide_type": "fragment"
    }
   },
   "source": [
    "- There are many built-in aggregation methods, like `.mean()`, `.max()`, and `.last()`."
   ]
  },
  {
   "cell_type": "markdown",
   "id": "055bf302",
   "metadata": {
    "deletable": true,
    "editable": true,
    "slideshow": {
     "slide_type": "fragment"
    }
   },
   "source": [
    "- What if the aggregation method you want to use doesn't already exist in `pandas`, or what if you want to apply different aggregation methods to different columns?"
   ]
  },
  {
   "cell_type": "markdown",
   "id": "e380824c",
   "metadata": {
    "deletable": true,
    "editable": true,
    "slideshow": {
     "slide_type": "fragment"
    }
   },
   "source": [
    "- Or, what if you don't want to perform an aggregation, but want to perform **some other operation** separately on each group?"
   ]
  },
  {
   "cell_type": "markdown",
   "id": "641db579",
   "metadata": {
    "deletable": true,
    "editable": true,
    "slideshow": {
     "slide_type": "slide"
    }
   },
   "source": [
    "### Grouping method 1:  `agg`"
   ]
  },
  {
   "cell_type": "markdown",
   "id": "73c3b014",
   "metadata": {
    "deletable": true,
    "editable": true,
    "slideshow": {
     "slide_type": "fragment"
    }
   },
   "source": [
    "- After grouping, use the `agg` method if you want to aggregate with:\n",
    "    - A single function (either built-in or one that you define!).\n",
    "    - A list of functions.\n",
    "    - A dictionary mapping column names to functions.\n",
    "    \n",
    "    Refer to [the documentation](https://pandas.pydata.org/pandas-docs/stable/reference/api/pandas.core.groupby.DataFrameGroupBy.aggregate.html) for a comprehensive list.<br><small>Per [the documentation](https://pandas.pydata.org/pandas-docs/stable/reference/api/pandas.DataFrame.agg.html), `agg` is an alias for `aggregate`.</small>"
   ]
  },
  {
   "cell_type": "markdown",
   "id": "ea1d5f0e",
   "metadata": {
    "deletable": true,
    "editable": true,
    "slideshow": {
     "slide_type": "fragment"
    }
   },
   "source": [
    "- Example: How many penguins are there of each `'species'`, and what is the mean `'body_mass_g'` of each `'species'`?"
   ]
  },
  {
   "cell_type": "code",
   "execution_count": null,
   "id": "70931795",
   "metadata": {
    "deletable": true,
    "editable": true,
    "slideshow": {
     "slide_type": "-"
    }
   },
   "outputs": [],
   "source": [
    "(\n",
    "    penguins\n",
    "    .groupby('species')\n",
    "    ['body_mass_g']\n",
    "    .agg(['count', 'mean'])\n",
    ")"
   ]
  },
  {
   "cell_type": "markdown",
   "id": "f98c7f45",
   "metadata": {
    "deletable": true,
    "editable": true,
    "slideshow": {
     "slide_type": "fragment"
    }
   },
   "source": [
    "- Note that we call `agg` a \"grouping method\" because it comes after a call to `groupby`."
   ]
  },
  {
   "cell_type": "markdown",
   "id": "bf79d8d3",
   "metadata": {
    "deletable": true,
    "editable": true,
    "slideshow": {
     "slide_type": "slide"
    }
   },
   "source": [
    "### `agg` with different aggregation methods for different columns"
   ]
  },
  {
   "cell_type": "markdown",
   "id": "c60b79ea",
   "metadata": {
    "deletable": true,
    "editable": true,
    "slideshow": {
     "slide_type": "fragment"
    }
   },
   "source": [
    "- Example: What is the maximum `'bill_length_mm'` of each `'species'`, and which `'island'`s is each `'species'` found on?"
   ]
  },
  {
   "cell_type": "code",
   "execution_count": null,
   "id": "8d9920dc",
   "metadata": {
    "deletable": true,
    "editable": true,
    "slideshow": {
     "slide_type": "-"
    }
   },
   "outputs": [],
   "source": [
    "(\n",
    "    penguins\n",
    "    .groupby('species')\n",
    "    .aggregate({'bill_length_mm': 'max', 'island': 'unique'})\n",
    ")"
   ]
  },
  {
   "cell_type": "markdown",
   "id": "af63920a",
   "metadata": {
    "deletable": true,
    "editable": true,
    "slideshow": {
     "slide_type": "slide"
    }
   },
   "source": [
    "### `agg` with a custom aggregation method"
   ]
  },
  {
   "cell_type": "markdown",
   "id": "cd48900d",
   "metadata": {
    "deletable": true,
    "editable": true,
    "slideshow": {
     "slide_type": "fragment"
    }
   },
   "source": [
    "- **Example**: What is the **second largest** recorded `'body_mass_g'` for each `'species'`?"
   ]
  },
  {
   "cell_type": "code",
   "execution_count": null,
   "id": "2c550d31",
   "metadata": {
    "deletable": true,
    "editable": true
   },
   "outputs": [],
   "source": [
    "# Here, the argument to agg is a function,\n",
    "# which takes in a Series and returns a scalar.\n",
    "def second_largest(s):\n",
    "    return s.sort_values().iloc[-2]\n",
    "(\n",
    "    penguins\n",
    "    .groupby('species')\n",
    "    ['body_mass_g']\n",
    "    .agg(second_largest)\n",
    ")"
   ]
  },
  {
   "cell_type": "markdown",
   "id": "f3d5d23f",
   "metadata": {
    "deletable": true,
    "editable": true,
    "slideshow": {
     "slide_type": "fragment"
    }
   },
   "source": [
    "<div class=\"alert alert-info\">\n",
    "\n",
    "- **Key idea**: If you give `agg` a custom function, it should map $\\texttt{Series} \\rightarrow \\texttt{number}$.\n",
    "    \n",
    "</div>"
   ]
  },
  {
   "cell_type": "markdown",
   "id": "9d58cdb5",
   "metadata": {
    "deletable": true,
    "editable": true,
    "slideshow": {
     "slide_type": "slide"
    }
   },
   "source": [
    "### Grouping method 2: `filter`"
   ]
  },
  {
   "cell_type": "markdown",
   "id": "ce86c60b",
   "metadata": {
    "deletable": true,
    "editable": true,
    "slideshow": {
     "slide_type": "fragment"
    }
   },
   "source": [
    "- As we saw last class, a **query** keeps **rows** that satisfy conditions.<br>For instance, to see the individual penguins with a `'bill_length_mm'` over 47 mm:"
   ]
  },
  {
   "cell_type": "code",
   "execution_count": null,
   "id": "d0d85cfb",
   "metadata": {
    "deletable": true,
    "editable": true
   },
   "outputs": [],
   "source": [
    "# This is a query, NOT a filter for the purposes of this slide.\n",
    "penguins[penguins['bill_length_mm'] > 47]"
   ]
  },
  {
   "cell_type": "markdown",
   "id": "003de74c",
   "metadata": {
    "deletable": true,
    "editable": true,
    "slideshow": {
     "slide_type": "fragment"
    }
   },
   "source": [
    "- A **filter**, on the other hand, keeps **entire groups** that satisfy conditions."
   ]
  },
  {
   "cell_type": "markdown",
   "id": "64443560",
   "metadata": {
    "deletable": true,
    "editable": true,
    "slideshow": {
     "slide_type": "fragment"
    }
   },
   "source": [
    "- For instance, to see the **penguin `'species'`** with an _average_ `'bill_length_mm'` over 47 mm, use the `filter` method after `groupby`:"
   ]
  },
  {
   "cell_type": "code",
   "execution_count": null,
   "id": "40a56de0",
   "metadata": {
    "deletable": true,
    "editable": true
   },
   "outputs": [],
   "source": [
    "(\n",
    "    penguins\n",
    "    .groupby('species')\n",
    "    .filter(lambda df: df['bill_length_mm'].mean() > 47)\n",
    ")"
   ]
  },
  {
   "cell_type": "markdown",
   "id": "a33d8377",
   "metadata": {
    "deletable": true,
    "editable": true,
    "slideshow": {
     "slide_type": "fragment"
    }
   },
   "source": [
    "- Notice that the above DataFrame has 187 rows, fewer than the 333 in the full DataFrame. That's because there are **no `'Adelie'` penguins** above!"
   ]
  },
  {
   "cell_type": "code",
   "execution_count": null,
   "id": "0888ac93",
   "metadata": {
    "deletable": true,
    "editable": true
   },
   "outputs": [],
   "source": [
    "# Since 'Adelie's have a mean 'bill_length_mm' below 47, they aren't included in the output above.\n",
    "penguins.groupby('species')['bill_length_mm'].mean()"
   ]
  },
  {
   "cell_type": "markdown",
   "id": "5aef7127",
   "metadata": {
    "deletable": true,
    "editable": true,
    "slideshow": {
     "slide_type": "fragment"
    }
   },
   "source": [
    "<div class=\"alert alert-info\">\n",
    "\n",
    "- **Key idea**: If you give `filter` a custom function, it should map $\\texttt{DataFrame} \\rightarrow \\texttt{Boolean}$. The resulting DataFrame will only have the groups for which the custom function returned `True`.\n",
    "    \n",
    "</div>"
   ]
  },
  {
   "cell_type": "markdown",
   "id": "37d6cb5a",
   "metadata": {
    "deletable": true,
    "editable": true,
    "slideshow": {
     "slide_type": "slide"
    }
   },
   "source": [
    "<div class=\"alert alert-success\">\n",
    "<h3>Activity</h3>\n",
    "\n",
    "There is only one penguins `'species'` with:\n",
    "- At least 100 penguins.\n",
    "- At least 60 `'Female'` penguins.\n",
    "    \n",
    "Find the `'species'` using **a single expression** (i.e. no intermediate variables). Use `filter`."
   ]
  },
  {
   "cell_type": "code",
   "execution_count": null,
   "id": "14d33253",
   "metadata": {
    "deletable": true,
    "editable": true
   },
   "outputs": [],
   "source": [
    "(\n",
    "    penguins\n",
    "    .groupby('species')\n",
    "    .filter(lambda df: (df.shape[0] >= 100) and ((df['sex'] == 'Female').sum() >= 60))\n",
    "    ['species']\n",
    "    .unique()\n",
    "    [0]\n",
    ")"
   ]
  },
  {
   "cell_type": "code",
   "execution_count": null,
   "id": "967850ca",
   "metadata": {
    "deletable": true,
    "editable": true
   },
   "outputs": [],
   "source": []
  },
  {
   "cell_type": "code",
   "execution_count": null,
   "id": "858bbfc8",
   "metadata": {
    "deletable": true,
    "editable": true
   },
   "outputs": [],
   "source": []
  },
  {
   "cell_type": "code",
   "execution_count": null,
   "id": "181e144b",
   "metadata": {
    "deletable": true,
    "editable": true
   },
   "outputs": [],
   "source": [
    "# Note that to just find the 'species' with at least 100 penguins,\n",
    "# we didn't need to group:\n",
    "penguins['species'].value_counts()"
   ]
  },
  {
   "cell_type": "code",
   "execution_count": null,
   "id": "7f1decd3",
   "metadata": {
    "deletable": true,
    "editable": true
   },
   "outputs": [],
   "source": [
    "penguins.loc[penguins['sex'] == 'Female', 'species'].value_counts()"
   ]
  },
  {
   "cell_type": "markdown",
   "id": "8f0575f1",
   "metadata": {
    "deletable": true,
    "editable": true,
    "slideshow": {
     "slide_type": "slide"
    }
   },
   "source": [
    "<div class=\"alert alert-warning\">\n",
    "    <h3>Question 🤔 (Answer at <a style=\"text-decoration: none; color: #0066cc\" href=\"https://docs.google.com/forms/d/e/1FAIpQLSd4oliiZYeNh76jWy-arfEtoAkCrVSsobZxPwxifWggo3EO0Q/viewform\">practicaldsc.org/q</a>)</h3>\n",
    "    \n",
    "<small>Remember that you can always ask questions anonymously at the link above!</small>\n",
    "    \n",
    "What questions do you have?"
   ]
  },
  {
   "cell_type": "markdown",
   "id": "c35c9eaa",
   "metadata": {
    "deletable": true,
    "editable": true,
    "slideshow": {
     "slide_type": "slide"
    }
   },
   "source": [
    "### Grouping method 3: `transform`"
   ]
  },
  {
   "cell_type": "markdown",
   "id": "2c4527da",
   "metadata": {
    "deletable": true,
    "editable": true,
    "slideshow": {
     "slide_type": "fragment"
    }
   },
   "source": [
    "- Use the `transform` grouping method if you want to apply a function separately to each group."
   ]
  },
  {
   "cell_type": "markdown",
   "id": "46880cf8",
   "metadata": {
    "deletable": true,
    "editable": true,
    "slideshow": {
     "slide_type": "fragment"
    }
   },
   "source": [
    "- **Example**: How much heavier is each penguin than the average penguin **of their `'species'`**?"
   ]
  },
  {
   "cell_type": "code",
   "execution_count": null,
   "id": "0d795e0c",
   "metadata": {
    "deletable": true,
    "editable": true
   },
   "outputs": [],
   "source": [
    "penguins.groupby('species')['body_mass_g'].transform(lambda s: s - s.mean()) "
   ]
  },
  {
   "cell_type": "code",
   "execution_count": null,
   "id": "82d7dfdb",
   "metadata": {
    "deletable": true,
    "editable": true
   },
   "outputs": [],
   "source": [
    "penguins['body_mass_g'] "
   ]
  },
  {
   "cell_type": "markdown",
   "id": "d5f3033a",
   "metadata": {
    "deletable": true,
    "editable": true,
    "slideshow": {
     "slide_type": "fragment"
    }
   },
   "source": [
    "- Notice that penguin 332's transformed `'body_mass_g'` is negative, even though their actual `'body_mass_g'` is very large; this is because they have a below-average `'body_mass_g'` for their `'species'`."
   ]
  },
  {
   "cell_type": "markdown",
   "id": "a457fd69",
   "metadata": {
    "deletable": true,
    "editable": true,
    "slideshow": {
     "slide_type": "fragment"
    }
   },
   "source": [
    "<div class=\"alert alert-info\">\n",
    "\n",
    "- **Key idea**: If you give `transform` a custom function, it should map $\\texttt{Series} \\rightarrow \\texttt{Series}$.\n",
    "    \n",
    "</div>"
   ]
  },
  {
   "cell_type": "markdown",
   "id": "e8bf9774",
   "metadata": {
    "deletable": true,
    "editable": true,
    "slideshow": {
     "slide_type": "slide"
    }
   },
   "source": [
    "### Grouping method 4: `apply`"
   ]
  },
  {
   "cell_type": "markdown",
   "id": "26fc7e2c",
   "metadata": {
    "deletable": true,
    "editable": true,
    "slideshow": {
     "slide_type": "fragment"
    }
   },
   "source": [
    "- Sometimes, you want to apply an operation separately for each group, but the operation isn't possible using `agg`, `filter`, or `transform`."
   ]
  },
  {
   "cell_type": "markdown",
   "id": "9fd14c85",
   "metadata": {
    "deletable": true,
    "editable": true,
    "slideshow": {
     "slide_type": "fragment"
    }
   },
   "source": [
    "- The `apply` grouping method is like a swiss-army knife.<br>It can do anything `agg` or `transform` can do, and more.<br>**Only use it if necessary, because it's slower than `agg` and `transform`!**"
   ]
  },
  {
   "cell_type": "markdown",
   "id": "e859984a",
   "metadata": {
    "deletable": true,
    "editable": true,
    "slideshow": {
     "slide_type": "fragment"
    }
   },
   "source": [
    "- **Example**: Find the two heaviest penguins per `'species'`."
   ]
  },
  {
   "cell_type": "code",
   "execution_count": null,
   "id": "7d04429c",
   "metadata": {
    "deletable": true,
    "editable": true
   },
   "outputs": [],
   "source": [
    "penguins.groupby('species').apply(lambda df: df.sort_values('body_mass_g', ascending=False).head(2)) "
   ]
  },
  {
   "cell_type": "markdown",
   "id": "b67a81e6",
   "metadata": {
    "deletable": true,
    "editable": true,
    "slideshow": {
     "slide_type": "fragment"
    }
   },
   "source": [
    "- **Example**: Find the `'flipper_length_mm'` of the heaviest penguin of each `'species'`."
   ]
  },
  {
   "cell_type": "code",
   "execution_count": null,
   "id": "07c5ff26",
   "metadata": {
    "deletable": true,
    "editable": true
   },
   "outputs": [],
   "source": [
    "(\n",
    "    penguins\n",
    "    .groupby('species')\n",
    "    .apply(\n",
    "        lambda df: df.sort_values('body_mass_g', ascending=False)['flipper_length_mm'].iloc[0]\n",
    "    )\n",
    ")"
   ]
  },
  {
   "cell_type": "markdown",
   "id": "d7a0f80c",
   "metadata": {
    "deletable": true,
    "editable": true,
    "slideshow": {
     "slide_type": "fragment"
    }
   },
   "source": [
    "<div class=\"alert alert-info\">\n",
    "\n",
    "- **Key idea**: If you give `agg` a custom function, it should map $\\texttt{DataFrame} \\rightarrow \\texttt{anything}$. The outputs of the custom function will be stitched together intelligently by `pandas`.\n",
    "    \n",
    "</div>"
   ]
  },
  {
   "cell_type": "markdown",
   "id": "ffecac9b",
   "metadata": {
    "deletable": true,
    "editable": true,
    "slideshow": {
     "slide_type": "slide"
    }
   },
   "source": [
    "### ⭐️ The grouping method cheat sheet: `agg`, `filter`, `transform`, and `apply` ⭐️"
   ]
  },
  {
   "cell_type": "markdown",
   "id": "d0672bee",
   "metadata": {
    "deletable": true,
    "editable": true,
    "slideshow": {
     "slide_type": "fragment"
    }
   },
   "source": [
    "After grouping, use:"
   ]
  },
  {
   "cell_type": "markdown",
   "id": "12536334",
   "metadata": {
    "deletable": true,
    "editable": true,
    "slideshow": {
     "slide_type": "fragment"
    }
   },
   "source": [
    "- The `agg` method if you want to aggregate values, separately for each group.<br><small>If you give `agg` a custom function, it should map $\\texttt{Series} \\rightarrow \\texttt{number}$.</small>"
   ]
  },
  {
   "cell_type": "code",
   "execution_count": null,
   "id": "f4dc4c50",
   "metadata": {
    "deletable": true,
    "editable": true
   },
   "outputs": [],
   "source": [
    "penguins.groupby('species')['body_mass_g'].agg(lambda s: s.sort_values().iloc[-2])"
   ]
  },
  {
   "cell_type": "markdown",
   "id": "6866ed11",
   "metadata": {
    "deletable": true,
    "editable": true,
    "slideshow": {
     "slide_type": "fragment"
    }
   },
   "source": [
    "- The `filter` method if you want to keep groups that satisfy certain conditions.<br><small>If you give `filter` a custom function, it should map $\\texttt{DataFrame} \\rightarrow \\texttt{Boolean}$. The resulting DataFrame will only have the groups for which the custom function returned `True`.</small>"
   ]
  },
  {
   "cell_type": "code",
   "execution_count": null,
   "id": "541ae1e1",
   "metadata": {
    "deletable": true,
    "editable": true
   },
   "outputs": [],
   "source": [
    "(\n",
    "    penguins\n",
    "    .groupby('species')\n",
    "    .filter(lambda df: (df.shape[0] >= 100) and ((df['sex'] == 'Female').sum() >= 60))\n",
    ")"
   ]
  },
  {
   "cell_type": "markdown",
   "id": "ce57b5ef",
   "metadata": {
    "deletable": true,
    "editable": true,
    "slideshow": {
     "slide_type": "fragment"
    }
   },
   "source": [
    "- The `transform` method if you want to modify the values within each group separately.<br><small>If you give `transform` a custom function, it should map $\\texttt{Series} \\rightarrow \\texttt{Series}$."
   ]
  },
  {
   "cell_type": "code",
   "execution_count": null,
   "id": "17cb0b6e",
   "metadata": {
    "deletable": true,
    "editable": true
   },
   "outputs": [],
   "source": [
    "penguins.groupby('species')['body_mass_g'].transform(lambda s: s - s.mean())"
   ]
  },
  {
   "cell_type": "markdown",
   "id": "83a70ae3",
   "metadata": {
    "deletable": true,
    "editable": true,
    "slideshow": {
     "slide_type": "fragment"
    }
   },
   "source": [
    "- The `apply` method if you want to perform some general operation on each group separately.<br><small>If you give `apply` a custom function, it should map $\\texttt{DataFrame} \\rightarrow \\texttt{anything}$."
   ]
  },
  {
   "cell_type": "code",
   "execution_count": null,
   "id": "ef632f7c",
   "metadata": {
    "deletable": true,
    "editable": true
   },
   "outputs": [],
   "source": [
    "penguins.groupby('species').apply(lambda df: df.sort_values('body_mass_g', ascending=False).head(2))"
   ]
  },
  {
   "cell_type": "markdown",
   "id": "8cf00be9",
   "metadata": {
    "deletable": true,
    "editable": true,
    "slideshow": {
     "slide_type": "slide"
    }
   },
   "source": [
    "<div class=\"alert alert-warning\">\n",
    "    <h3>Question 🤔 (Answer at <a style=\"text-decoration: none; color: #0066cc\" href=\"https://docs.google.com/forms/d/e/1FAIpQLSd4oliiZYeNh76jWy-arfEtoAkCrVSsobZxPwxifWggo3EO0Q/viewform\">practicaldsc.org/q</a>)</h3>\n",
    "    \n",
    "<small>Remember that you can always ask questions anonymously at the link above!</small>\n",
    "    \n",
    "What questions do you have?"
   ]
  },
  {
   "cell_type": "markdown",
   "id": "e93f6603",
   "metadata": {
    "deletable": true,
    "editable": true,
    "slideshow": {
     "slide_type": "slide"
    }
   },
   "source": [
    "### Grouping with multiple columns"
   ]
  },
  {
   "cell_type": "markdown",
   "id": "c1f606b6",
   "metadata": {
    "deletable": true,
    "editable": true,
    "slideshow": {
     "slide_type": "fragment"
    }
   },
   "source": [
    "- When we group with multiple columns, one group is created for **every unique combination** of elements in the specified columns.<br><small>In the output below, why are there only 5 rows, rather than $3 \\times 3 = 9$ rows, when there are 3 unique `'species'` and 3 unique `'island'`s?</small>"
   ]
  },
  {
   "cell_type": "code",
   "execution_count": null,
   "id": "aa83bff7",
   "metadata": {
    "deletable": true,
    "editable": true
   },
   "outputs": [],
   "source": [
    "# Read this as:\n",
    "species_and_island = (\n",
    "    penguins.groupby(['species', 'island'])         # for every combination of 'species' and 'island' in the DataFrame,\n",
    "    [['bill_length_mm', 'bill_depth_mm']].mean()    # calculate the mean 'bill_length_mm' and the mean 'bill_depth_mm'.\n",
    ")\n",
    "species_and_island"
   ]
  },
  {
   "cell_type": "markdown",
   "id": "7cfbc625",
   "metadata": {
    "deletable": true,
    "editable": true,
    "slideshow": {
     "slide_type": "fragment"
    }
   },
   "source": [
    "- **Advice**: When grouping on multiple columns, the result usually has a `MultiIndex`;  use `reset_index` or set `as_index=False` in `groupby` to avoid this."
   ]
  },
  {
   "cell_type": "code",
   "execution_count": null,
   "id": "dddcf1dc",
   "metadata": {
    "deletable": true,
    "editable": true
   },
   "outputs": [],
   "source": [
    "# Now, this looks like a regular DataFrame!\n",
    "species_and_island.reset_index() "
   ]
  },
  {
   "cell_type": "markdown",
   "id": "93c18fd7",
   "metadata": {
    "deletable": true,
    "editable": true,
    "slideshow": {
     "slide_type": "slide"
    }
   },
   "source": [
    "## Pivot tables using `pivot_table`\n",
    "\n",
    "---"
   ]
  },
  {
   "cell_type": "markdown",
   "id": "2c6ddc6c",
   "metadata": {
    "deletable": true,
    "editable": true,
    "slideshow": {
     "slide_type": "slide"
    }
   },
   "source": [
    "### Pivot tables: An extension of grouping"
   ]
  },
  {
   "cell_type": "markdown",
   "id": "105c0ef4",
   "metadata": {
    "deletable": true,
    "editable": true,
    "slideshow": {
     "slide_type": "fragment"
    }
   },
   "source": [
    "- Pivot tables are a compact way to display tables for humans to read.\n",
    "\n",
    "<table border=\"1\" class=\"dataframe\">\n",
    "  <thead>\n",
    "    <tr style=\"text-align: right;\">\n",
    "      <th>sex</th>\n",
    "      <th>Female</th>\n",
    "      <th>Male</th>\n",
    "    </tr>\n",
    "    <tr>\n",
    "      <th>species</th>\n",
    "      <th></th>\n",
    "      <th></th>\n",
    "    </tr>\n",
    "  </thead>\n",
    "  <tbody>\n",
    "    <tr>\n",
    "      <th>Adelie</th>\n",
    "      <td>3368.84</td>\n",
    "      <td>4043.49</td>\n",
    "    </tr>\n",
    "    <tr>\n",
    "      <th>Chinstrap</th>\n",
    "      <td>3527.21</td>\n",
    "      <td>3938.97</td>\n",
    "    </tr>\n",
    "    <tr>\n",
    "      <th>Gentoo</th>\n",
    "      <td>4679.74</td>\n",
    "      <td>5484.84</td>\n",
    "    </tr>\n",
    "  </tbody>\n",
    "</table>\n"
   ]
  },
  {
   "cell_type": "markdown",
   "id": "7b7a768c",
   "metadata": {
    "deletable": true,
    "editable": true,
    "slideshow": {
     "slide_type": "fragment"
    }
   },
   "source": [
    "- Notice that each value in the table is the average of `'body_mass_g'` of penguins, for every combination of `'species'` and `'sex'`."
   ]
  },
  {
   "cell_type": "markdown",
   "id": "4f5c1ea1",
   "metadata": {
    "deletable": true,
    "editable": true,
    "slideshow": {
     "slide_type": "fragment"
    }
   },
   "source": [
    "- **You can think of pivot tables as grouping using two columns, then \"pivoting\" one of the group labels into columns.**"
   ]
  },
  {
   "cell_type": "markdown",
   "id": "851583a3",
   "metadata": {
    "deletable": true,
    "editable": true,
    "slideshow": {
     "slide_type": "slide"
    }
   },
   "source": [
    "### `pivot_table`"
   ]
  },
  {
   "cell_type": "markdown",
   "id": "e35ba22a",
   "metadata": {
    "deletable": true,
    "editable": true,
    "slideshow": {
     "slide_type": "fragment"
    }
   },
   "source": [
    "- The `pivot_table` DataFrame method aggregates a DataFrame using two columns. To use it:\n",
    "<br><br>\n",
    "```python\n",
    "        df.pivot_table(index=index_col,\n",
    "                       columns=columns_col,\n",
    "                       values=values_col,\n",
    "                       aggfunc=func)\n",
    "```"
   ]
  },
  {
   "cell_type": "markdown",
   "id": "7db751c9",
   "metadata": {
    "deletable": true,
    "editable": true,
    "slideshow": {
     "slide_type": "fragment"
    }
   },
   "source": [
    "- The resulting DataFrame will have:\n",
    "    - One row for every unique value in `index_col`.\n",
    "    - One column for every unique value in `columns_col`.\n",
    "    - Values determined by applying `func` on values in `values_col`."
   ]
  },
  {
   "cell_type": "markdown",
   "id": "a548086d",
   "metadata": {
    "deletable": true,
    "editable": true,
    "slideshow": {
     "slide_type": "fragment"
    }
   },
   "source": [
    "- **Example**: Find the average `'body_mass_g'` for every combination of `'species'` and `'sex'`."
   ]
  },
  {
   "cell_type": "code",
   "execution_count": null,
   "id": "7161aa16",
   "metadata": {
    "deletable": true,
    "editable": true,
    "scrolled": true,
    "slideshow": {
     "slide_type": ""
    }
   },
   "outputs": [],
   "source": [
    "penguins.pivot_table(\n",
    "    index='species',\n",
    "    columns='sex',\n",
    "    values='body_mass_g',\n",
    "    aggfunc='mean'\n",
    ")"
   ]
  },
  {
   "cell_type": "code",
   "execution_count": null,
   "id": "c8727f44",
   "metadata": {
    "deletable": true,
    "editable": true
   },
   "outputs": [],
   "source": [
    "# Same information as above, but harder to read!\n",
    "(\n",
    "    penguins\n",
    "    .groupby(['species', 'sex'])\n",
    "    [['body_mass_g']]\n",
    "    .mean()\n",
    ")"
   ]
  },
  {
   "cell_type": "markdown",
   "id": "96922657",
   "metadata": {
    "deletable": true,
    "editable": true,
    "slideshow": {
     "slide_type": "slide"
    }
   },
   "source": [
    "### Example: Finding the number of penguins per `'island'` and `'species'`"
   ]
  },
  {
   "cell_type": "code",
   "execution_count": null,
   "id": "1dafabce",
   "metadata": {
    "deletable": true,
    "editable": true
   },
   "outputs": [],
   "source": [
    "penguins"
   ]
  },
  {
   "cell_type": "markdown",
   "id": "a069679b",
   "metadata": {
    "deletable": true,
    "editable": true,
    "slideshow": {
     "slide_type": "fragment"
    }
   },
   "source": [
    "- Suppose we want to find the number of penguins in `penguins` per `'island'` and `'species'`. We can do so _without_ `pivot_table`:"
   ]
  },
  {
   "cell_type": "code",
   "execution_count": null,
   "id": "b7ea885d",
   "metadata": {
    "deletable": true,
    "editable": true
   },
   "outputs": [],
   "source": [
    "penguins.value_counts(['island', 'species']) "
   ]
  },
  {
   "cell_type": "code",
   "execution_count": null,
   "id": "74a70038",
   "metadata": {
    "deletable": true,
    "editable": true
   },
   "outputs": [],
   "source": [
    "penguins.groupby(['island', 'species']).size() "
   ]
  },
  {
   "cell_type": "markdown",
   "id": "b9cea61a",
   "metadata": {
    "deletable": true,
    "editable": true,
    "slideshow": {
     "slide_type": "fragment"
    }
   },
   "source": [
    "- But the data is arguably easier to interpret when we do use `pivot_table`:"
   ]
  },
  {
   "cell_type": "code",
   "execution_count": null,
   "id": "4a4128aa",
   "metadata": {
    "deletable": true,
    "editable": true
   },
   "outputs": [],
   "source": [
    "penguins.pivot_table(\n",
    "    index='species', \n",
    "    columns='island', \n",
    "    values='bill_length_mm', # Choice of column here doesn't actually matter! Why?\n",
    "    aggfunc='count',\n",
    ")"
   ]
  },
  {
   "cell_type": "markdown",
   "id": "ed98f545",
   "metadata": {
    "deletable": true,
    "editable": true,
    "slideshow": {
     "slide_type": "fragment"
    }
   },
   "source": [
    "- Note that there is a `NaN` at the intersection of `'Biscoe'` and `'Chinstrap'`, because there were no Chinstrap penguins on Biscoe Island.<br><small>`NaN` stands for \"not a number.\" It is `numpy` and `pandas`' version of a null value (the regular Python null value is `None`). We'll learn more about how to deal with these soon.</small>"
   ]
  },
  {
   "cell_type": "markdown",
   "id": "1c561982",
   "metadata": {
    "deletable": true,
    "editable": true,
    "slideshow": {
     "slide_type": "fragment"
    }
   },
   "source": [
    "- We can either use the `fillna` method afterwards or the `fill_value` argument to fill in `NaN`s."
   ]
  },
  {
   "cell_type": "code",
   "execution_count": null,
   "id": "53da5673",
   "metadata": {
    "deletable": true,
    "editable": true
   },
   "outputs": [],
   "source": [
    "penguins.pivot_table(\n",
    "    index='species', \n",
    "    columns='island', \n",
    "    values='bill_length_mm', \n",
    "    aggfunc='count',\n",
    "    fill_value=0,\n",
    ")"
   ]
  },
  {
   "cell_type": "markdown",
   "id": "c1b39fcd",
   "metadata": {
    "deletable": true,
    "editable": true,
    "slideshow": {
     "slide_type": "slide"
    }
   },
   "source": [
    "### Granularity"
   ]
  },
  {
   "cell_type": "markdown",
   "id": "949d0882",
   "metadata": {
    "deletable": true,
    "editable": true,
    "slideshow": {
     "slide_type": "fragment"
    }
   },
   "source": [
    "- Each row of the original `penguins` DataFrame represented a single penguin, and each column represented features of the penguins."
   ]
  },
  {
   "cell_type": "code",
   "execution_count": null,
   "id": "88e714ab",
   "metadata": {
    "deletable": true,
    "editable": true
   },
   "outputs": [],
   "source": [
    "penguins"
   ]
  },
  {
   "cell_type": "markdown",
   "id": "930e3ac7",
   "metadata": {
    "deletable": true,
    "editable": true,
    "slideshow": {
     "slide_type": "fragment"
    }
   },
   "source": [
    "- What is the **granularity** of the DataFrame below?<br><small>That is, what does each row represent?</small>"
   ]
  },
  {
   "cell_type": "code",
   "execution_count": null,
   "id": "e96da8a2",
   "metadata": {
    "deletable": true,
    "editable": true
   },
   "outputs": [],
   "source": [
    "penguins.pivot_table(\n",
    "    index='species', \n",
    "    columns='island', \n",
    "    values='bill_length_mm', \n",
    "    aggfunc='count',\n",
    "    fill_value=0,\n",
    ")"
   ]
  },
  {
   "cell_type": "markdown",
   "id": "dd88d61a",
   "metadata": {
    "deletable": true,
    "editable": true,
    "slideshow": {
     "slide_type": "slide"
    }
   },
   "source": [
    "### Reshaping"
   ]
  },
  {
   "cell_type": "markdown",
   "id": "ba4e000d",
   "metadata": {
    "deletable": true,
    "editable": true,
    "slideshow": {
     "slide_type": "fragment"
    }
   },
   "source": [
    "- `pivot_table` reshapes DataFrames from \"long\" to \"wide\"."
   ]
  },
  {
   "cell_type": "markdown",
   "id": "f2ad478a",
   "metadata": {
    "deletable": true,
    "editable": true,
    "slideshow": {
     "slide_type": "fragment"
    }
   },
   "source": [
    "- Other DataFrame reshaping methods:\n",
    "    - `melt`: Un-pivots a DataFrame. Very useful in data cleaning.\n",
    "    - `pivot`: Like `pivot_table`, but doesn't do aggregation.\n",
    "    - `stack`: Pivots multi-level columns to multi-indices.\n",
    "    - `unstack`: Pivots multi-indices to columns."
   ]
  },
  {
   "cell_type": "markdown",
   "id": "0c3424ad",
   "metadata": {
    "deletable": true,
    "editable": true,
    "slideshow": {
     "slide_type": "fragment"
    }
   },
   "source": [
    "- Google, the documentation, and ChatGPT are your friends!"
   ]
  },
  {
   "cell_type": "markdown",
   "id": "f2694f2d",
   "metadata": {
    "deletable": true,
    "editable": true,
    "slideshow": {
     "slide_type": "slide"
    }
   },
   "source": [
    "<div class=\"alert alert-warning\">\n",
    "    <h3>Question 🤔 (Answer at <a style=\"text-decoration: none; color: #0066cc\" href=\"https://docs.google.com/forms/d/e/1FAIpQLSd4oliiZYeNh76jWy-arfEtoAkCrVSsobZxPwxifWggo3EO0Q/viewform\">practicaldsc.org/q</a>)</h3>\n",
    "    \n",
    "<small>Remember that you can always ask questions anonymously at the link above!</small>\n",
    "    \n",
    "What questions do you have?"
   ]
  }
 ],
 "metadata": {
  "celltoolbar": "None",
  "kernelspec": {
   "display_name": "Python 3 (ipykernel)",
   "language": "python",
   "name": "python3"
  },
  "language_info": {
   "codemirror_mode": {
    "name": "ipython",
    "version": 3
   },
   "file_extension": ".py",
   "mimetype": "text/x-python",
   "name": "python",
   "nbconvert_exporter": "python",
   "pygments_lexer": "ipython3",
   "version": "3.10.16"
  },
  "livereveal": {
   "scroll": true
  },
  "rise": {
   "transition": "none"
  }
 },
 "nbformat": 4,
 "nbformat_minor": 5
}
