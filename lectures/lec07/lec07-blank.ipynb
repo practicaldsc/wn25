{
 "cells": [
  {
   "cell_type": "code",
   "execution_count": null,
   "id": "22b49d91",
   "metadata": {
    "deletable": true,
    "editable": true,
    "slideshow": {
     "slide_type": "skip"
    },
    "tags": []
   },
   "outputs": [],
   "source": [
    "from lec_utils import *"
   ]
  },
  {
   "cell_type": "markdown",
   "id": "920892a6",
   "metadata": {
    "deletable": true,
    "editable": true,
    "slideshow": {
     "slide_type": "slide"
    },
    "tags": []
   },
   "source": [
    "<div class=\"alert alert-info\" markdown=\"1\">\n",
    "\n",
    "#### Lecture 7\n",
    "\n",
    "# EDA, Visualization, and Missing Value Imputation\n",
    "\n",
    "### EECS 398: Practical Data Science, Winter 2025\n",
    "\n",
    "<small><a style=\"text-decoration: none\" href=\"https://practicaldsc.org\">practicaldsc.org</a> • <a style=\"text-decoration: none\" href=\"https://github.com/practicaldsc/wn25\">github.com/practicaldsc/wn25</a> • 📣 See latest announcements [**here on Ed**](https://edstem.org/us/courses/69737/discussion/5943734) </small>\n",
    "    \n",
    "</div>"
   ]
  },
  {
   "cell_type": "markdown",
   "id": "25aa011c",
   "metadata": {
    "deletable": true,
    "editable": true,
    "slideshow": {
     "slide_type": "slide"
    }
   },
   "source": [
    "### Agenda 📆\n",
    "\n",
    "- Exploratory data analysis 🔎.\n",
    "- Visualization 📊.\n",
    "- Missing value imputation 🕳️."
   ]
  },
  {
   "cell_type": "markdown",
   "id": "087ee663",
   "metadata": {
    "deletable": true,
    "editable": true,
    "slideshow": {
     "slide_type": "slide"
    }
   },
   "source": [
    "<div class=\"alert alert-warning\">\n",
    "    <h3>Question 🤔 (Answer at <a style=\"text-decoration: none; color: #0066cc\" href=\"https://docs.google.com/forms/d/e/1FAIpQLSd4oliiZYeNh76jWy-arfEtoAkCrVSsobZxPwxifWggo3EO0Q/viewform\">practicaldsc.org/q</a>)</h3>\n",
    "    \n",
    "<small>Remember that you can always ask questions anonymously at the link above!</small>\n",
    "\n",
    "<br>\n",
    "\n",
    "How long does Homework 3 feel compared to Homework 2?\n",
    "    \n",
    "- A. Way shorter.\n",
    "- B. Shorter.\n",
    "- C. About the same.\n",
    "- D. Longer.\n",
    "- E. Way longer."
   ]
  },
  {
   "cell_type": "markdown",
   "id": "1545afcd",
   "metadata": {
    "deletable": true,
    "editable": true,
    "slideshow": {
     "slide_type": "slide"
    }
   },
   "source": [
    "## Exploratory data analysis 🔎\n",
    "\n",
    "---"
   ]
  },
  {
   "cell_type": "markdown",
   "id": "69f6f06f",
   "metadata": {
    "deletable": true,
    "editable": true,
    "slideshow": {
     "slide_type": "slide"
    }
   },
   "source": [
    "### Loading the data 🏦"
   ]
  },
  {
   "cell_type": "markdown",
   "id": "55c5534f",
   "metadata": {
    "deletable": true,
    "editable": true,
    "slideshow": {
     "slide_type": "fragment"
    }
   },
   "source": [
    "- Recall from last class, [LendingClub](https://www.lendingclub.com/) is a platform that allows individuals to borrow money – that is, take on **loans**."
   ]
  },
  {
   "cell_type": "markdown",
   "id": "a34f2512",
   "metadata": {
    "deletable": true,
    "editable": true,
    "slideshow": {
     "slide_type": "fragment"
    }
   },
   "source": [
    "- Each row of our dataset contains information about a loan holder, i.e. someone who was already approved for a loan."
   ]
  },
  {
   "cell_type": "code",
   "execution_count": null,
   "id": "34c33f41",
   "metadata": {
    "deletable": true,
    "editable": true
   },
   "outputs": [],
   "source": [
    "# Run this cell to perform the data cleaning steps we implemented last lecture.\n",
    "def clean_term_column(df):\n",
    "    return df.assign(\n",
    "        term=df['term'].str.split().str[0].astype(int)\n",
    "    )\n",
    "def clean_date_column(df):\n",
    "    return (\n",
    "        df\n",
    "        .assign(date=pd.to_datetime(df['issue_d'], format='%b-%Y'))\n",
    "        .drop(columns=['issue_d'])\n",
    "    )\n",
    "loans = (\n",
    "    pd.read_csv('data/loans.csv')\n",
    "    .pipe(clean_term_column)\n",
    "    .pipe(clean_date_column)\n",
    ")\n",
    "loans"
   ]
  },
  {
   "cell_type": "markdown",
   "id": "fcb2ed9f",
   "metadata": {
    "deletable": true,
    "editable": true,
    "slideshow": {
     "slide_type": "slide"
    }
   },
   "source": [
    "### Lender decision-making"
   ]
  },
  {
   "cell_type": "markdown",
   "id": "f1819f84",
   "metadata": {
    "deletable": true,
    "editable": true,
    "slideshow": {
     "slide_type": "fragment"
    }
   },
   "source": [
    "- Larger interest rates make the loan more expensive for the borrower – as a borrower, you want a lower interest rate!"
   ]
  },
  {
   "cell_type": "markdown",
   "id": "22c7a6c3",
   "metadata": {
    "deletable": true,
    "editable": true,
    "slideshow": {
     "slide_type": "fragment"
    }
   },
   "source": [
    "- Even for the same loan amount, different borrowers were approved for different terms and interest rates:"
   ]
  },
  {
   "cell_type": "code",
   "execution_count": null,
   "id": "215da9b3",
   "metadata": {
    "deletable": true,
    "editable": true
   },
   "outputs": [],
   "source": [
    "display_df(loans.loc[loans['loan_amnt'] == 3600, ['loan_amnt', 'term', 'int_rate']], rows=17)"
   ]
  },
  {
   "cell_type": "markdown",
   "id": "c62e1b46",
   "metadata": {
    "deletable": true,
    "editable": true,
    "slideshow": {
     "slide_type": "fragment"
    }
   },
   "source": [
    "- **Why do different borrowers receive different terms and interest rates?**"
   ]
  },
  {
   "cell_type": "markdown",
   "id": "00300fad",
   "metadata": {
    "deletable": true,
    "editable": true,
    "slideshow": {
     "slide_type": "slide"
    }
   },
   "source": [
    "### Exploratory data analysis (EDA)"
   ]
  },
  {
   "cell_type": "markdown",
   "id": "8c227133",
   "metadata": {
    "deletable": true,
    "editable": true,
    "slideshow": {
     "slide_type": "fragment"
    }
   },
   "source": [
    "- Historically, data analysis was dominated by formal statistics, including tools like confidence intervals, hypothesis tests, and statistical modeling."
   ]
  },
  {
   "cell_type": "markdown",
   "id": "cb2bb26a",
   "metadata": {
    "deletable": true,
    "editable": true,
    "slideshow": {
     "slide_type": "fragment"
    }
   },
   "source": [
    "- In 1977, John Tukey [defined](https://search.worldcat.org/title/3058187) the term **exploratory data analysis**, which described a philosophy for proceeding about data analysis:\n",
    "\n",
    "    > Exploratory data analysis is actively incisive, rather than passively descriptive, with real emphasis on the discovery of the unexpected."
   ]
  },
  {
   "cell_type": "markdown",
   "id": "6ac67d41",
   "metadata": {
    "deletable": true,
    "editable": true,
    "slideshow": {
     "slide_type": "fragment"
    }
   },
   "source": [
    "- Practically, EDA involves, among other things, computing summary statistics and drawing plots to understand the nature of the data at hand.\n",
    "\n",
    "    > The greatest gains from data come from surprises… The unexpected is best brought to our attention by **pictures**."
   ]
  },
  {
   "cell_type": "markdown",
   "id": "f8889f0e",
   "metadata": {
    "deletable": true,
    "editable": true,
    "slideshow": {
     "slide_type": "fragment"
    }
   },
   "source": [
    "- Today, we'll learn how to ask questions, visualize, and deal with missing values."
   ]
  },
  {
   "cell_type": "markdown",
   "id": "ad7d477f",
   "metadata": {
    "deletable": true,
    "editable": true,
    "slideshow": {
     "slide_type": "slide"
    }
   },
   "source": [
    "### Individuals and features"
   ]
  },
  {
   "cell_type": "markdown",
   "id": "925663d9",
   "metadata": {
    "deletable": true,
    "editable": true,
    "slideshow": {
     "slide_type": "fragment"
    }
   },
   "source": [
    "<center><img src=\"imgs/indiv-feat.png\" width=1200></center>"
   ]
  },
  {
   "cell_type": "markdown",
   "id": "3a303ab4",
   "metadata": {
    "deletable": true,
    "editable": true,
    "slideshow": {
     "slide_type": "fragment"
    }
   },
   "source": [
    "- <span style=\"color:#6d9eeb\"><b>Individual (row)</b></span>: Person/place/thing for which data is recorded. Also called an **observation**."
   ]
  },
  {
   "cell_type": "markdown",
   "id": "5e7a523a",
   "metadata": {
    "deletable": true,
    "editable": true,
    "slideshow": {
     "slide_type": "fragment"
    }
   },
   "source": [
    "- <span style=\"color:#ff9900\"><b>Feature (column)</b></span>: Something that is recorded for each individual. Also called a **variable** or **attribute**.<br><small>Here, \"variable\" doesn't mean Python variable!</small>"
   ]
  },
  {
   "cell_type": "markdown",
   "id": "a933c48d",
   "metadata": {
    "deletable": true,
    "editable": true,
    "slideshow": {
     "slide_type": "fragment"
    }
   },
   "source": [
    "- There are two key types of features:\n",
    "    - **Numerical features**: It makes sense to do arithmetic with the values.\n",
    "    - **Categorical features**: Values fall into categories, that may or may not have some order to them."
   ]
  },
  {
   "cell_type": "markdown",
   "id": "8516cc1c",
   "metadata": {
    "deletable": true,
    "editable": true,
    "slideshow": {
     "slide_type": "fragment"
    }
   },
   "source": [
    "- Be careful: sometimes numerical features are stored as strings, and categorical features are stored as numbers.<br><small>The transformations we discussed last class can help fix these issues.</small>"
   ]
  },
  {
   "cell_type": "markdown",
   "id": "b201ece3",
   "metadata": {
    "deletable": true,
    "editable": true,
    "slideshow": {
     "slide_type": "slide"
    }
   },
   "source": [
    "### Feature types"
   ]
  },
  {
   "cell_type": "markdown",
   "id": "212ad4d3",
   "metadata": {
    "deletable": true,
    "editable": true
   },
   "source": [
    "<center><img src=\"imgs/features.png\" width=1200></center>"
   ]
  },
  {
   "cell_type": "markdown",
   "id": "a9835775",
   "metadata": {
    "deletable": true,
    "editable": true,
    "slideshow": {
     "slide_type": "slide"
    }
   },
   "source": [
    "### Asking questions 🙋"
   ]
  },
  {
   "cell_type": "markdown",
   "id": "eeb29ae6",
   "metadata": {
    "deletable": true,
    "editable": true,
    "slideshow": {
     "slide_type": "fragment"
    }
   },
   "source": [
    "- EDA involves asking questions about the data without any preconceived notions of what the answers may be."
   ]
  },
  {
   "cell_type": "markdown",
   "id": "32efeaaf",
   "metadata": {
    "deletable": true,
    "editable": true,
    "slideshow": {
     "slide_type": "fragment"
    }
   },
   "source": [
    "- With practice, you'll learn which questions to ask; we'll demonstrate some of that here."
   ]
  },
  {
   "cell_type": "markdown",
   "id": "22ac2235",
   "metadata": {
    "deletable": true,
    "editable": true,
    "slideshow": {
     "slide_type": "slide"
    }
   },
   "source": [
    "### Who do we have data for?"
   ]
  },
  {
   "cell_type": "markdown",
   "id": "01afd7f1",
   "metadata": {
    "deletable": true,
    "editable": true,
    "slideshow": {
     "slide_type": "fragment"
    }
   },
   "source": [
    "- We were told that we're only looking at approved loans. What's the distribution of `'loan_status'`es?"
   ]
  },
  {
   "cell_type": "code",
   "execution_count": null,
   "id": "a98e952d",
   "metadata": {
    "deletable": true,
    "editable": true
   },
   "outputs": [],
   "source": [
    "loans.columns "
   ]
  },
  {
   "cell_type": "code",
   "execution_count": null,
   "id": "1e37595e",
   "metadata": {
    "deletable": true,
    "editable": true
   },
   "outputs": [],
   "source": [
    "loans['loan_status'].value_counts() "
   ]
  },
  {
   "cell_type": "markdown",
   "id": "d43116ba",
   "metadata": {
    "deletable": true,
    "editable": true,
    "slideshow": {
     "slide_type": "fragment"
    }
   },
   "source": [
    "- Are the loans in our dataset specific to any particular state?"
   ]
  },
  {
   "cell_type": "code",
   "execution_count": null,
   "id": "cd6d301b",
   "metadata": {
    "deletable": true,
    "editable": true
   },
   "outputs": [],
   "source": [
    "loans['addr_state'].value_counts().head()"
   ]
  },
  {
   "cell_type": "markdown",
   "id": "23b21ce7",
   "metadata": {
    "deletable": true,
    "editable": true,
    "slideshow": {
     "slide_type": "slide"
    }
   },
   "source": [
    "### What is the distribution of loan amounts?"
   ]
  },
  {
   "cell_type": "code",
   "execution_count": null,
   "id": "723e38c5",
   "metadata": {
    "deletable": true,
    "editable": true
   },
   "outputs": [],
   "source": [
    "loans['loan_amnt'].describe()"
   ]
  },
  {
   "cell_type": "code",
   "execution_count": null,
   "id": "8e5fe3bd",
   "metadata": {
    "deletable": true,
    "editable": true
   },
   "outputs": [],
   "source": [
    "loans['loan_amnt'].plot(kind='hist', nbins=10)"
   ]
  },
  {
   "cell_type": "markdown",
   "id": "8184050c",
   "metadata": {
    "deletable": true,
    "editable": true,
    "slideshow": {
     "slide_type": "slide"
    }
   },
   "source": [
    "### Are related features in agreement?"
   ]
  },
  {
   "cell_type": "markdown",
   "id": "ba005c62",
   "metadata": {
    "deletable": true,
    "editable": true,
    "slideshow": {
     "slide_type": "fragment"
    }
   },
   "source": [
    "- Why are there two columns with credit scores, `'fico_range_low'` and `'fico_range_high'`? What do they both mean?"
   ]
  },
  {
   "cell_type": "code",
   "execution_count": null,
   "id": "c44b00a0",
   "metadata": {
    "deletable": true,
    "editable": true
   },
   "outputs": [],
   "source": [
    "loans[['fico_range_low', 'fico_range_high']] "
   ]
  },
  {
   "cell_type": "code",
   "execution_count": null,
   "id": "2835cda8",
   "metadata": {
    "deletable": true,
    "editable": true
   },
   "outputs": [],
   "source": [
    "(loans['fico_range_high'] - loans['fico_range_low']).value_counts() "
   ]
  },
  {
   "cell_type": "markdown",
   "id": "9cb8a30b",
   "metadata": {
    "deletable": true,
    "editable": true,
    "slideshow": {
     "slide_type": "fragment"
    }
   },
   "source": [
    "- Does every `'sub_grade'` align with its related `'grade'`?"
   ]
  },
  {
   "cell_type": "code",
   "execution_count": null,
   "id": "7c40d421",
   "metadata": {
    "deletable": true,
    "editable": true
   },
   "outputs": [],
   "source": [
    "loans[['grade', 'sub_grade']] "
   ]
  },
  {
   "cell_type": "code",
   "execution_count": null,
   "id": "8e344829",
   "metadata": {
    "deletable": true,
    "editable": true
   },
   "outputs": [],
   "source": [
    "# Turns out, the answer is yes!\n",
    "# The .str accessor allows us to use the [0] operation\n",
    "# on every string in loans['sub_grade'].\n",
    "(loans['sub_grade'].str[0] == loans['grade']).all() "
   ]
  },
  {
   "cell_type": "markdown",
   "id": "bdb4290f",
   "metadata": {
    "deletable": true,
    "editable": true,
    "slideshow": {
     "slide_type": "slide"
    }
   },
   "source": [
    "## Visualization 📊\n",
    "\n",
    "---"
   ]
  },
  {
   "cell_type": "markdown",
   "id": "51423e55",
   "metadata": {
    "deletable": true,
    "editable": true,
    "slideshow": {
     "slide_type": "slide"
    }
   },
   "source": [
    "### Visualizations complement statistics\n",
    "\n",
    "<center><img src=\"imgs/dino.png\" width=800></center>\n",
    "\n",
    "<center>These 13 scatter plots, take from <a href=\"https://www.research.autodesk.com/publications/same-stats-different-graphs/\">here</a>, all have the same means and <br>standard deviations of $x$ and $y$, and the same correlations. But they look very different!</center>"
   ]
  },
  {
   "cell_type": "markdown",
   "id": "a16f3c3d",
   "metadata": {
    "deletable": true,
    "editable": true,
    "slideshow": {
     "slide_type": "slide"
    }
   },
   "source": [
    "### Why visualize?"
   ]
  },
  {
   "cell_type": "markdown",
   "id": "ff14a1f2",
   "metadata": {
    "deletable": true,
    "editable": true,
    "slideshow": {
     "slide_type": "fragment"
    }
   },
   "source": [
    "- In this lecture, we will create several visualizations using just a single dataset.\n",
    "\n",
    "<center><img src=\"imgs/array.png\" width=1300</center>"
   ]
  },
  {
   "cell_type": "markdown",
   "id": "9af7482b",
   "metadata": {
    "deletable": true,
    "editable": true,
    "slideshow": {
     "slide_type": "fragment"
    }
   },
   "source": [
    "- The visualizations we want to create will often dictate the data cleaning steps we take.<br><small>For example, we can't plot the average interest rate over time without converting dates to timestamp objects!</small>"
   ]
  },
  {
   "cell_type": "markdown",
   "id": "eafbeb7c",
   "metadata": {
    "deletable": true,
    "editable": true,
    "slideshow": {
     "slide_type": "fragment"
    }
   },
   "source": [
    "- One reason to create visualizations is for **us** to better understand our data."
   ]
  },
  {
   "cell_type": "markdown",
   "id": "6a259123",
   "metadata": {
    "deletable": true,
    "editable": true,
    "slideshow": {
     "slide_type": "fragment"
    }
   },
   "source": [
    "- Another reason is to **_accurately communicate_ a message to other people**!"
   ]
  },
  {
   "cell_type": "markdown",
   "id": "233488d5",
   "metadata": {
    "deletable": true,
    "editable": true,
    "slideshow": {
     "slide_type": "slide"
    }
   },
   "source": [
    "<center><img src=\"imgs/bad-india.jpg\" width=600>\n",
    "\n",
    "</center>\n",
    "\n",
    "<br>\n",
    "\n",
    "<center>What's wrong with <a href=\"https://x.com/JeffDean/status/1291613522942504962\">this visualization</a>?</center>"
   ]
  },
  {
   "cell_type": "markdown",
   "id": "3ba33315",
   "metadata": {
    "deletable": true,
    "editable": true,
    "slideshow": {
     "slide_type": "slide"
    }
   },
   "source": [
    "### `plotly`"
   ]
  },
  {
   "cell_type": "markdown",
   "id": "e4dcf125",
   "metadata": {
    "deletable": true,
    "editable": true,
    "slideshow": {
     "slide_type": "fragment"
    }
   },
   "source": [
    "- We've used `plotly` in lecture briefly, and you've even used it in Homework 1 and Homework 3, but we've never formally discussed it."
   ]
  },
  {
   "cell_type": "markdown",
   "id": "edfb6feb",
   "metadata": {
    "deletable": true,
    "editable": true,
    "slideshow": {
     "slide_type": "fragment"
    }
   },
   "source": [
    "- It's a visualization library that enables **interactive** visualizations.\n",
    "\n",
    "<center><img src=\"imgs/plotly.png\" width=300></center>"
   ]
  },
  {
   "cell_type": "markdown",
   "id": "89121d2e",
   "metadata": {
    "deletable": true,
    "editable": true,
    "slideshow": {
     "slide_type": "fragment"
    }
   },
   "source": [
    "- We can use `plotly` using the `plotly.express` syntax.\n",
    "    - `plotly` is very flexible but it can be verbose; `plotly.express` allows us to make plots quickly.\n",
    "    - See the [**documentation here**](https://plotly.com/python/plotly-express) – it's very rich.<br><small>There are good examples for almost everything!</small>"
   ]
  },
  {
   "cell_type": "code",
   "execution_count": null,
   "id": "eb203f30",
   "metadata": {
    "deletable": true,
    "editable": true
   },
   "outputs": [],
   "source": [
    "import plotly.express as px"
   ]
  },
  {
   "cell_type": "markdown",
   "id": "d1227c63",
   "metadata": {
    "deletable": true,
    "editable": true,
    "slideshow": {
     "slide_type": "fragment"
    }
   },
   "source": [
    "- Alternatively, we can use `plotly` by setting `pandas` plotting backend to `'plotly'` and using the DataFrame/Series `plot` method.<br><small>By default, the plotting backend is `matplotlib`, which creates non-interactive visualizations.</small>"
   ]
  },
  {
   "cell_type": "code",
   "execution_count": null,
   "id": "8eee6c96",
   "metadata": {
    "deletable": true,
    "editable": true
   },
   "outputs": [],
   "source": [
    "pd.options.plotting.backend = 'plotly'"
   ]
  },
  {
   "cell_type": "markdown",
   "id": "c9db5f30",
   "metadata": {
    "deletable": true,
    "editable": true,
    "slideshow": {
     "slide_type": "slide"
    }
   },
   "source": [
    "### Choosing the correct type of visualization"
   ]
  },
  {
   "cell_type": "markdown",
   "id": "0a2dabe7",
   "metadata": {
    "deletable": true,
    "editable": true,
    "slideshow": {
     "slide_type": "fragment"
    }
   },
   "source": [
    "- The type of visualization we create depends on the types of features we're visualizing."
   ]
  },
  {
   "cell_type": "markdown",
   "id": "97061e14",
   "metadata": {
    "deletable": true,
    "editable": true,
    "slideshow": {
     "slide_type": "fragment"
    }
   },
   "source": [
    "- We'll directly learn how to produce the **bolded** visualizations below, but the others are also options.<br><small>See more examples of visualization types [**here**](https://learningds.org/ch/10/eda_feature_types.html#the-importance-of-feature-types).</small>"
   ]
  },
  {
   "cell_type": "markdown",
   "id": "e9fa7254",
   "metadata": {
    "deletable": true,
    "editable": true,
    "slideshow": {
     "slide_type": "fragment"
    }
   },
   "source": [
    "| Feature types | Options |\n",
    "| --- | --- |\n",
    "| Single categorical feature | **Bar charts**, pie charts, dot plots |\n",
    "| Single numerical feature | **Histograms**, **box plots**, density curves,<br>rug plots, **violin plots**  |\n",
    "| Two numerical features | **Scatter plots**, **line plots**, heat maps,<br> contour plots |\n",
    "| One categorical and one numerical feature<br><small>It really depends on the nature of the features themselves!</small> | **Side-by-side** histograms, **box plots**, or **bar charts**,<br> overlaid line plots or density curves|"
   ]
  },
  {
   "cell_type": "markdown",
   "id": "16fd66cd",
   "metadata": {
    "deletable": true,
    "editable": true,
    "slideshow": {
     "slide_type": "fragment"
    }
   },
   "source": [
    "- Note that we use the words \"plot\", \"chart\", and \"graph\" to mean the same thing."
   ]
  },
  {
   "cell_type": "markdown",
   "id": "39038350",
   "metadata": {
    "deletable": true,
    "editable": true,
    "slideshow": {
     "slide_type": "fragment"
    }
   },
   "source": [
    "- Now, we're going to look at several examples. Focus on _what_ is being visualized and _why_; read the notebook later for the _how_."
   ]
  },
  {
   "cell_type": "markdown",
   "id": "97a6ebb4",
   "metadata": {
    "deletable": true,
    "editable": true,
    "slideshow": {
     "slide_type": "slide"
    }
   },
   "source": [
    "### Bar charts"
   ]
  },
  {
   "cell_type": "markdown",
   "id": "e0b99fbd",
   "metadata": {
    "deletable": true,
    "editable": true,
    "slideshow": {
     "slide_type": "fragment"
    }
   },
   "source": [
    "- Bar charts are used to show:\n",
    "    - The distribution of a single categorical feature, or\n",
    "    - The relationship between one categorical feature and one numerical feature."
   ]
  },
  {
   "cell_type": "markdown",
   "id": "fe408643",
   "metadata": {
    "deletable": true,
    "editable": true,
    "slideshow": {
     "slide_type": "fragment"
    }
   },
   "source": [
    "- Usage: `px.bar` / `px.barh` or `df.plot(kind='bar')` / `df.plot(kind='barh')`.<br><small>`'h'` stands for \"horizontal.\"</small>"
   ]
  },
  {
   "cell_type": "markdown",
   "id": "77c1d158",
   "metadata": {
    "deletable": true,
    "editable": true,
    "slideshow": {
     "slide_type": "fragment"
    }
   },
   "source": [
    "- Example: What is the distribution of `'addr_state'`s in `loans`?"
   ]
  },
  {
   "cell_type": "code",
   "execution_count": null,
   "id": "5ee0eb3b",
   "metadata": {
    "deletable": true,
    "editable": true
   },
   "outputs": [],
   "source": [
    "# Here, we're using the .plot method on loans['addr_state'], which is a Series.\n",
    "# We prefer horizontal bar charts, since they're easier to read.\n",
    "(\n",
    "    loans['addr_state']\n",
    "    .value_counts()\n",
    "    .plot(kind='barh')\n",
    ")"
   ]
  },
  {
   "cell_type": "code",
   "execution_count": null,
   "id": "2b2414a7",
   "metadata": {
    "deletable": true,
    "editable": true
   },
   "outputs": [],
   "source": [
    "# A little formatting goes a long way!\n",
    "(\n",
    "    loans['addr_state']\n",
    "    .value_counts(normalize=True)\n",
    "    .head(10)\n",
    "    .sort_values()\n",
    "    .plot(kind='barh', title='States of Residence for Successful Loan Applicants')\n",
    ")"
   ]
  },
  {
   "cell_type": "markdown",
   "id": "1ae03149",
   "metadata": {
    "deletable": true,
    "editable": true,
    "slideshow": {
     "slide_type": "fragment"
    }
   },
   "source": [
    "- Example: What is the average `'int_rate'` for each `'home_ownership'` status?"
   ]
  },
  {
   "cell_type": "code",
   "execution_count": null,
   "id": "06461ea3",
   "metadata": {
    "deletable": true,
    "editable": true
   },
   "outputs": [],
   "source": [
    "(\n",
    "    loans\n",
    "    .groupby('home_ownership')\n",
    "    ['int_rate']\n",
    "    .mean()\n",
    "    .plot(kind='barh', title='Average Interest Rate by Home Ownership Status')\n",
    ")"
   ]
  },
  {
   "cell_type": "code",
   "execution_count": null,
   "id": "e6d58f9e",
   "metadata": {
    "deletable": true,
    "editable": true
   },
   "outputs": [],
   "source": [
    "# The \"ANY\" category seems to be an outlier.\n",
    "loans['home_ownership'].value_counts()"
   ]
  },
  {
   "cell_type": "markdown",
   "id": "243e762e",
   "metadata": {
    "deletable": true,
    "editable": true,
    "slideshow": {
     "slide_type": "slide"
    }
   },
   "source": [
    "### Side-by-side bar charts"
   ]
  },
  {
   "cell_type": "markdown",
   "id": "792328b0",
   "metadata": {
    "deletable": true,
    "editable": true,
    "slideshow": {
     "slide_type": "fragment"
    }
   },
   "source": [
    "- Instead of just looking at `'int_rate'`s for different, `'home_ownership'` statuses, we could also group by loan `'term'`s, too. As we'll see, `'term'` impacts `'int_rate'` far more than `'home_ownership'`."
   ]
  },
  {
   "cell_type": "code",
   "execution_count": null,
   "id": "aaa83422",
   "metadata": {
    "deletable": true,
    "editable": true
   },
   "outputs": [],
   "source": [
    "(\n",
    "    loans\n",
    "    .groupby('home_ownership')\n",
    "    .filter(lambda df: df.shape[0] > 1) # Gets rid of the \"ANY\" category.\n",
    "    .groupby(['home_ownership', 'term'])\n",
    "    [['int_rate']]\n",
    "    .mean()\n",
    ")"
   ]
  },
  {
   "cell_type": "markdown",
   "id": "c0cbc203",
   "metadata": {
    "deletable": true,
    "editable": true,
    "slideshow": {
     "slide_type": "fragment"
    }
   },
   "source": [
    "- A side-by-side bar chart, which we can create by setting the `color` and `barmode` arguments, makes the pattern clear:"
   ]
  },
  {
   "cell_type": "code",
   "execution_count": null,
   "id": "5278208e",
   "metadata": {
    "deletable": true,
    "editable": true
   },
   "outputs": [],
   "source": [
    "# Annoyingly, the side-by-side bar chart doesn't work properly\n",
    "# if the column that separates colors (here, 'term')\n",
    "# isn't made up of strings.\n",
    "(\n",
    "    loans\n",
    "    .assign(term=loans['term'].astype(str) + ' months')\n",
    "    .groupby('home_ownership')\n",
    "    .filter(lambda df: df.shape[0] > 1)\n",
    "    .groupby(['home_ownership', 'term'])\n",
    "    [['int_rate']]\n",
    "    .mean()\n",
    "    .reset_index()\n",
    "    .plot(kind='bar', \n",
    "          y='int_rate', \n",
    "          x='home_ownership', \n",
    "          color='term', \n",
    "          barmode='group',\n",
    "          title='Average Interest Rate by Home Ownership Status and Loan Term',\n",
    "          width=800)\n",
    ")"
   ]
  },
  {
   "cell_type": "markdown",
   "id": "3ab3843c",
   "metadata": {
    "deletable": true,
    "editable": true,
    "slideshow": {
     "slide_type": "fragment"
    }
   },
   "source": [
    "- **Why do longer loans have higher `'int_rate'`s on average?**"
   ]
  },
  {
   "cell_type": "markdown",
   "id": "241a7f0c",
   "metadata": {
    "deletable": true,
    "editable": true,
    "slideshow": {
     "slide_type": "slide"
    }
   },
   "source": [
    "### Histograms"
   ]
  },
  {
   "cell_type": "markdown",
   "id": "9ea4ab40",
   "metadata": {
    "deletable": true,
    "editable": true,
    "slideshow": {
     "slide_type": "fragment"
    }
   },
   "source": [
    "- The previous slide showed the **average** `'int_rate'` for different combinations of `'home_ownership'` status and `'term'`."
   ]
  },
  {
   "cell_type": "markdown",
   "id": "bae5acc1",
   "metadata": {
    "deletable": true,
    "editable": true,
    "slideshow": {
     "slide_type": "fragment"
    }
   },
   "source": [
    "- But, the average of a numerical feature is just a single number, and can be misleading!"
   ]
  },
  {
   "cell_type": "markdown",
   "id": "3f369865",
   "metadata": {
    "deletable": true,
    "editable": true,
    "slideshow": {
     "slide_type": "fragment"
    }
   },
   "source": [
    "- Histograms are used to show the distribution of a single numerical feature."
   ]
  },
  {
   "cell_type": "markdown",
   "id": "15b490db",
   "metadata": {
    "deletable": true,
    "editable": true,
    "slideshow": {
     "slide_type": "fragment"
    }
   },
   "source": [
    "- Usage: `px.histogram` or `df.plot(kind='hist')`."
   ]
  },
  {
   "cell_type": "markdown",
   "id": "e5411c50",
   "metadata": {
    "deletable": true,
    "editable": true,
    "slideshow": {
     "slide_type": "fragment"
    }
   },
   "source": [
    "- Example: What is the distribution of `'int_rate'`?"
   ]
  },
  {
   "cell_type": "code",
   "execution_count": null,
   "id": "776c5f50",
   "metadata": {
    "deletable": true,
    "editable": true
   },
   "outputs": [],
   "source": [
    "(\n",
    "    loans\n",
    "    .plot(kind='hist', x='int_rate', title='Distribution of Interest Rates')\n",
    ")"
   ]
  },
  {
   "cell_type": "markdown",
   "id": "9c05bee5",
   "metadata": {
    "deletable": true,
    "editable": true,
    "slideshow": {
     "slide_type": "fragment"
    }
   },
   "source": [
    "- With fewer bins, we see less detail (and less noise) in the shape of the distribution.<br><small>Play with the slider that appears when you run the cell below!</small>"
   ]
  },
  {
   "cell_type": "code",
   "execution_count": null,
   "id": "24b1040d",
   "metadata": {
    "deletable": true,
    "editable": true
   },
   "outputs": [],
   "source": [
    "def hist_bins(nbins):\n",
    "    (\n",
    "        loans\n",
    "        .plot(kind='hist', x='int_rate', nbins=nbins, title='Distribution of Interest Rates')\n",
    "        .show()\n",
    "    )\n",
    "interact(hist_bins, nbins=(1, 51));"
   ]
  },
  {
   "cell_type": "markdown",
   "id": "bf91aee1",
   "metadata": {
    "deletable": true,
    "editable": true,
    "slideshow": {
     "slide_type": "slide"
    }
   },
   "source": [
    "<div class=\"alert alert-warning\">\n",
    "    <h3>Question 🤔 (Answer at <a style=\"text-decoration: none; color: #0066cc\" href=\"https://docs.google.com/forms/d/e/1FAIpQLSd4oliiZYeNh76jWy-arfEtoAkCrVSsobZxPwxifWggo3EO0Q/viewform\">practicaldsc.org/q</a>)</h3>\n",
    "    \n",
    "<small>Remember that you can always ask questions anonymously at the link above!</small>\n",
    "    \n",
    "Based on the histogram below, what is the relationship between the mean and median interest rate?\n",
    "    \n",
    "- A. Mean > median.\n",
    "- B. Mean $\\approx$ median.\n",
    "- C. Mean < median."
   ]
  },
  {
   "cell_type": "code",
   "execution_count": null,
   "id": "b01af0c7",
   "metadata": {
    "deletable": true,
    "editable": true
   },
   "outputs": [],
   "source": [
    "(\n",
    "    loans\n",
    "    .plot(kind='hist', x='int_rate', title='Distribution of Interest Rates', nbins=20)\n",
    ")"
   ]
  },
  {
   "cell_type": "markdown",
   "id": "c1f9b1e0",
   "metadata": {
    "deletable": true,
    "editable": true,
    "slideshow": {
     "slide_type": "slide"
    }
   },
   "source": [
    "### Box plots and violin plots"
   ]
  },
  {
   "cell_type": "markdown",
   "id": "7555e39c",
   "metadata": {
    "deletable": true,
    "editable": true,
    "slideshow": {
     "slide_type": "fragment"
    }
   },
   "source": [
    "- Box plots and violin plots are alternatives to histograms, in that they also are used to show the distribution of a quantitative feature.<br><small>Learn more about box plots [**here**](https://datatab.net/tutorial/box-plot).</small>"
   ]
  },
  {
   "cell_type": "markdown",
   "id": "8f43b0d7",
   "metadata": {
    "deletable": true,
    "editable": true,
    "slideshow": {
     "slide_type": "fragment"
    }
   },
   "source": [
    "- The benefit to them is that they're easily stacked side-by-side to compare distributions."
   ]
  },
  {
   "cell_type": "markdown",
   "id": "4d6f3368",
   "metadata": {
    "deletable": true,
    "editable": true,
    "slideshow": {
     "slide_type": "fragment"
    }
   },
   "source": [
    "- Example: What is the distribution of `'int_rate'`?"
   ]
  },
  {
   "cell_type": "code",
   "execution_count": null,
   "id": "027370ff",
   "metadata": {
    "deletable": true,
    "editable": true
   },
   "outputs": [],
   "source": [
    "(\n",
    "    loans\n",
    "    .plot(kind='box', x='int_rate', title='Distribution of Interest Rates')\n",
    ")"
   ]
  },
  {
   "cell_type": "markdown",
   "id": "15b1256a",
   "metadata": {
    "deletable": true,
    "editable": true,
    "slideshow": {
     "slide_type": "fragment"
    }
   },
   "source": [
    "- Example: What is the distribution of `'int_rate'`, separately for each loan `'term'`?"
   ]
  },
  {
   "cell_type": "code",
   "execution_count": null,
   "id": "742670fd",
   "metadata": {
    "deletable": true,
    "editable": true
   },
   "outputs": [],
   "source": [
    "(\n",
    "    loans\n",
    "    .plot(kind='box', y='int_rate', color='term', orientation='v', \n",
    "          title='Distribution of Interest Rates by Loan Term')\n",
    ")"
   ]
  },
  {
   "cell_type": "code",
   "execution_count": null,
   "id": "65e9b196",
   "metadata": {
    "deletable": true,
    "editable": true
   },
   "outputs": [],
   "source": [
    "(\n",
    "    loans\n",
    "    .plot(kind='violin', y='int_rate', color='term', orientation='v', \n",
    "          title='Distribution of Interest Rates by Loan Term')\n",
    ")"
   ]
  },
  {
   "cell_type": "markdown",
   "id": "00e7a090",
   "metadata": {
    "deletable": true,
    "editable": true,
    "slideshow": {
     "slide_type": "fragment"
    }
   },
   "source": [
    "- Overlaid histograms can be used to show the distributions of multiple numerical features, too."
   ]
  },
  {
   "cell_type": "code",
   "execution_count": null,
   "id": "e11c2595",
   "metadata": {
    "deletable": true,
    "editable": true
   },
   "outputs": [],
   "source": [
    "(\n",
    "    loans\n",
    "    .plot(kind='hist', x='int_rate', color='term', marginal='box', nbins=20,\n",
    "          title='Distribution of Interest Rates by Loan Term')\n",
    ")"
   ]
  },
  {
   "cell_type": "markdown",
   "id": "ba95c95a",
   "metadata": {
    "deletable": true,
    "editable": true,
    "slideshow": {
     "slide_type": "slide"
    }
   },
   "source": [
    "### Scatter plots"
   ]
  },
  {
   "cell_type": "markdown",
   "id": "9557df22",
   "metadata": {
    "deletable": true,
    "editable": true,
    "slideshow": {
     "slide_type": "fragment"
    }
   },
   "source": [
    "- Scatter plots are used to show the relationship between two quantitative features."
   ]
  },
  {
   "cell_type": "markdown",
   "id": "4f22edf9",
   "metadata": {
    "deletable": true,
    "editable": true,
    "slideshow": {
     "slide_type": "fragment"
    }
   },
   "source": [
    "- Usage: `px.scatter` or `df.plot(kind='scatter')`."
   ]
  },
  {
   "cell_type": "markdown",
   "id": "8dd53c8d",
   "metadata": {
    "deletable": true,
    "editable": true,
    "slideshow": {
     "slide_type": "fragment"
    }
   },
   "source": [
    "- Example: What is the relationship between `'int_rate'` and debt-to-income ratio, `'dti'`?"
   ]
  },
  {
   "cell_type": "code",
   "execution_count": null,
   "id": "6b0c4101",
   "metadata": {
    "deletable": true,
    "editable": true
   },
   "outputs": [],
   "source": [
    "(\n",
    "    loans\n",
    "    .sample(200, random_state=23)\n",
    "    .plot(kind='scatter', x='dti', y='int_rate', title='Interest Rate vs. Debt-to-Income Ratio')\n",
    ")"
   ]
  },
  {
   "cell_type": "markdown",
   "id": "751e6c22",
   "metadata": {
    "deletable": true,
    "editable": true,
    "slideshow": {
     "slide_type": "fragment"
    }
   },
   "source": [
    "- There are a multitude of ways that scatter plots can be customized. We can color points based on groups, we can resize points based on another numeric column, we can give them hover labels, etc."
   ]
  },
  {
   "cell_type": "code",
   "execution_count": null,
   "id": "d0e6dee5",
   "metadata": {
    "deletable": true,
    "editable": true
   },
   "outputs": [],
   "source": [
    "(\n",
    "    loans\n",
    "    .assign(term=loans['term'].astype(str))\n",
    "    .sample(200, random_state=23)\n",
    "    .plot(kind='scatter', x='dti', y='int_rate', color='term',\n",
    "          hover_name='id', size='loan_amnt',\n",
    "          title='Interest Rate vs. Debt-to-Income Ratio')\n",
    ")"
   ]
  },
  {
   "cell_type": "markdown",
   "id": "b404c800",
   "metadata": {
    "deletable": true,
    "editable": true,
    "slideshow": {
     "slide_type": "slide"
    }
   },
   "source": [
    "### Line charts"
   ]
  },
  {
   "cell_type": "markdown",
   "id": "bb8e79b4",
   "metadata": {
    "deletable": true,
    "editable": true,
    "slideshow": {
     "slide_type": "fragment"
    }
   },
   "source": [
    "- Line charts are used to show how one quantitative feature changes over time."
   ]
  },
  {
   "cell_type": "markdown",
   "id": "9f170e7b",
   "metadata": {
    "deletable": true,
    "editable": true,
    "slideshow": {
     "slide_type": "fragment"
    }
   },
   "source": [
    "- Usage: `px.line` or `df.plot(kind='line')`."
   ]
  },
  {
   "cell_type": "markdown",
   "id": "3e94f38c",
   "metadata": {
    "deletable": true,
    "editable": true,
    "slideshow": {
     "slide_type": "fragment"
    }
   },
   "source": [
    "- Example: How many loans were given out each year in our dataset?<br><small>This is likely not true of the market in general, or even LendingClub in general, but just a consequence of where our dataset came from.</small>"
   ]
  },
  {
   "cell_type": "code",
   "execution_count": null,
   "id": "66d9ce4d",
   "metadata": {
    "deletable": true,
    "editable": true
   },
   "outputs": [],
   "source": [
    "(\n",
    "    loans\n",
    "    .assign(year=loans['date'].dt.year)\n",
    "    ['year']\n",
    "    .value_counts()\n",
    "    .sort_index()\n",
    "    .plot(kind='line', title='Number of Loans Given Per Year')\n",
    ")"
   ]
  },
  {
   "cell_type": "markdown",
   "id": "bf150b03",
   "metadata": {
    "deletable": true,
    "editable": true,
    "slideshow": {
     "slide_type": "fragment"
    }
   },
   "source": [
    "- Example: How has the average `'int_rate'` changed over time?"
   ]
  },
  {
   "cell_type": "code",
   "execution_count": null,
   "id": "5a0ae5c4",
   "metadata": {
    "deletable": true,
    "editable": true
   },
   "outputs": [],
   "source": [
    "(\n",
    "    loans\n",
    "    .resample('6M', on='date')\n",
    "    ['int_rate']\n",
    "    .mean()\n",
    "    .plot(kind='line', title='Average Interest Rate over Time')\n",
    ")"
   ]
  },
  {
   "cell_type": "markdown",
   "id": "29f1b0eb",
   "metadata": {
    "deletable": true,
    "editable": true,
    "slideshow": {
     "slide_type": "fragment"
    }
   },
   "source": [
    "- Example: How has the average `'int_rate'` changed over time, separately for 36 month and 60 month loans?"
   ]
  },
  {
   "cell_type": "code",
   "execution_count": null,
   "id": "c39438ec",
   "metadata": {
    "deletable": true,
    "editable": true
   },
   "outputs": [],
   "source": [
    "(\n",
    "    loans\n",
    "    .groupby('term')\n",
    "    .resample('6M', on='date')\n",
    "    ['int_rate']\n",
    "    .mean()\n",
    "    .reset_index()\n",
    "    .plot(kind='line', x='date', y='int_rate', color='term',\n",
    "          title='Average Interest Rate over Time')\n",
    ")"
   ]
  },
  {
   "cell_type": "markdown",
   "id": "e0e30a0c",
   "metadata": {
    "deletable": true,
    "editable": true,
    "slideshow": {
     "slide_type": "slide"
    }
   },
   "source": [
    "## Missing value imputation 🕳️\n",
    "\n",
    "---"
   ]
  },
  {
   "cell_type": "code",
   "execution_count": null,
   "id": "a24c5888",
   "metadata": {
    "deletable": true,
    "editable": true,
    "scrolled": false,
    "slideshow": {
     "slide_type": "slide"
    }
   },
   "outputs": [],
   "source": [
    "loans.info()"
   ]
  },
  {
   "cell_type": "markdown",
   "id": "fe6585e4",
   "metadata": {
    "deletable": true,
    "editable": true,
    "slideshow": {
     "slide_type": "fragment"
    }
   },
   "source": [
    "<center>Most borrowers did not provide a description (<code>'desc'</code>).</center>"
   ]
  },
  {
   "cell_type": "markdown",
   "id": "cb031940",
   "metadata": {
    "deletable": true,
    "editable": true,
    "slideshow": {
     "slide_type": "slide"
    }
   },
   "source": [
    "### Who provided loan descriptions?"
   ]
  },
  {
   "cell_type": "markdown",
   "id": "cb733999",
   "metadata": {
    "deletable": true,
    "editable": true,
    "slideshow": {
     "slide_type": "fragment"
    }
   },
   "source": [
    "- The Series `isna` method shows `True` for non-null values and `False` for null values; `notna` does the opposite."
   ]
  },
  {
   "cell_type": "code",
   "execution_count": null,
   "id": "594ad9e2",
   "metadata": {
    "deletable": true,
    "editable": true
   },
   "outputs": [],
   "source": [
    "..."
   ]
  },
  {
   "cell_type": "code",
   "execution_count": null,
   "id": "1869c303",
   "metadata": {
    "deletable": true,
    "editable": true
   },
   "outputs": [],
   "source": [
    "# Run this repeatedly to read a random sample of loan descriptions.\n",
    "for desc in loans.loc[loans['desc'].notna(), 'desc'].sample(3):\n",
    "    print(desc + '\\n')"
   ]
  },
  {
   "cell_type": "markdown",
   "id": "7ef9bc51",
   "metadata": {
    "deletable": true,
    "editable": true,
    "slideshow": {
     "slide_type": "fragment"
    }
   },
   "source": [
    "- It _appears_ that applicants who submitted descriptions with their loan applications were given higher interest rates on average than those who didn't submit descriptions.<br><small>But, this could've happened for a variety of reasons, not just because they submitted a description.</small>"
   ]
  },
  {
   "cell_type": "code",
   "execution_count": null,
   "id": "b8224408",
   "metadata": {
    "deletable": true,
    "editable": true
   },
   "outputs": [],
   "source": [
    "(\n",
    "    loans\n",
    "    .assign(submitted_description=loans['desc'].notna())\n",
    "    .groupby('submitted_description')\n",
    "    ['int_rate']\n",
    "    .agg(['mean', 'median'])\n",
    ")"
   ]
  },
  {
   "cell_type": "markdown",
   "id": "0a3ecb6e",
   "metadata": {
    "deletable": true,
    "editable": true,
    "slideshow": {
     "slide_type": "fragment"
    }
   },
   "source": [
    "- **Key idea**: The fact that some values are missing is, itself, information!"
   ]
  },
  {
   "cell_type": "markdown",
   "id": "54ad7fe0",
   "metadata": {
    "deletable": true,
    "editable": true,
    "slideshow": {
     "slide_type": "skip"
    }
   },
   "source": [
    "<div class=\"alert alert-danger\">\n",
    "    \n",
    "#### Reference Slide\n",
    "\n",
    "### Aside: Series operations with null values\n",
    "    \n",
    "</div>"
   ]
  },
  {
   "cell_type": "markdown",
   "id": "baed084c",
   "metadata": {
    "deletable": true,
    "editable": true,
    "slideshow": {
     "slide_type": "skip"
    }
   },
   "source": [
    "- The `numpy`/`pandas` null value, `np.nan`, is typically ignored when using `numpy`/`pandas` operations."
   ]
  },
  {
   "cell_type": "code",
   "execution_count": null,
   "id": "89976033",
   "metadata": {
    "deletable": true,
    "editable": true,
    "slideshow": {
     "slide_type": "skip"
    }
   },
   "outputs": [],
   "source": [
    "# Note the NaN at the very bottom.\n",
    "loans['mths_since_last_delinq']"
   ]
  },
  {
   "cell_type": "code",
   "execution_count": null,
   "id": "aebe3d9a",
   "metadata": {
    "deletable": true,
    "editable": true,
    "slideshow": {
     "slide_type": "skip"
    }
   },
   "outputs": [],
   "source": [
    "loans['mths_since_last_delinq'].sum() "
   ]
  },
  {
   "cell_type": "markdown",
   "id": "e0ac14b9",
   "metadata": {
    "deletable": true,
    "editable": true,
    "slideshow": {
     "slide_type": "skip"
    }
   },
   "source": [
    "- But, `np.nan`s typically aren't ignored when using regular Python operations."
   ]
  },
  {
   "cell_type": "code",
   "execution_count": null,
   "id": "3dbf4cc8",
   "metadata": {
    "deletable": true,
    "editable": true,
    "slideshow": {
     "slide_type": "skip"
    }
   },
   "outputs": [],
   "source": [
    "sum(loans['mths_since_last_delinq']) "
   ]
  },
  {
   "cell_type": "markdown",
   "id": "4deadd7a",
   "metadata": {
    "deletable": true,
    "editable": true,
    "slideshow": {
     "slide_type": "skip"
    }
   },
   "source": [
    "- As an aside, the regular Python null value is `None`."
   ]
  },
  {
   "cell_type": "code",
   "execution_count": null,
   "id": "15279291",
   "metadata": {
    "deletable": true,
    "editable": true,
    "slideshow": {
     "slide_type": "skip"
    }
   },
   "outputs": [],
   "source": [
    "None"
   ]
  },
  {
   "cell_type": "code",
   "execution_count": null,
   "id": "d5a7f669",
   "metadata": {
    "deletable": true,
    "editable": true,
    "slideshow": {
     "slide_type": "skip"
    }
   },
   "outputs": [],
   "source": [
    "np.nan"
   ]
  },
  {
   "cell_type": "markdown",
   "id": "7a89f450",
   "metadata": {
    "deletable": true,
    "editable": true,
    "slideshow": {
     "slide_type": "slide"
    }
   },
   "source": [
    "### Intentionally missing values and default replacements"
   ]
  },
  {
   "cell_type": "markdown",
   "id": "56003956",
   "metadata": {
    "deletable": true,
    "editable": true,
    "slideshow": {
     "slide_type": "fragment"
    }
   },
   "source": [
    "- Sometimes, values are missing **intentionally**, or by design. In these cases, we **can't** fill in the missing values.<br><small>For instance, if we survey students and ask \"if you're from Michigan, what high school did you go to?\", the students not from Michigan will have missing responses. But, there's **nothing to fill in**, since they're not from Michigan!</small>"
   ]
  },
  {
   "cell_type": "markdown",
   "id": "aad3ccb9",
   "metadata": {
    "deletable": true,
    "editable": true,
    "slideshow": {
     "slide_type": "fragment"
    }
   },
   "source": [
    "- Other times, missing values have a **default** replacement.<br><small>For instance, you automatically get a 0 for all assignments you don't submit in this class. So, when calculating your grades, I'll need to fill in all of your `NaN`s with 0. The DataFrame/Series `fillna` method helps with this.</small>"
   ]
  },
  {
   "cell_type": "markdown",
   "id": "c312aa43",
   "metadata": {
    "deletable": true,
    "editable": true,
    "slideshow": {
     "slide_type": "fragment"
    }
   },
   "source": [
    "- **Most situations are more complicated than this, though!**<br><small>**Don't** get in the habit of just automatically filling all null values with 0.</small>"
   ]
  },
  {
   "cell_type": "markdown",
   "id": "b5799357",
   "metadata": {
    "deletable": true,
    "editable": true,
    "slideshow": {
     "slide_type": "slide"
    }
   },
   "source": [
    "### Generally, what do we do with missing data?"
   ]
  },
  {
   "cell_type": "markdown",
   "id": "09ed96e6",
   "metadata": {
    "deletable": true,
    "editable": true,
    "slideshow": {
     "slide_type": "fragment"
    }
   },
   "source": [
    "- Consider a feature, $Y$.<br><small>Imagine $Y$ is a column in a DataFrame.</small>"
   ]
  },
  {
   "cell_type": "markdown",
   "id": "764fd45e",
   "metadata": {
    "deletable": true,
    "editable": true,
    "slideshow": {
     "slide_type": "fragment"
    }
   },
   "source": [
    "- Some of its values, $Y_\\text{present}$, are present, while others, $Y_\\text{missing}$, are missing."
   ]
  },
  {
   "cell_type": "markdown",
   "id": "a316091e",
   "metadata": {
    "deletable": true,
    "editable": true,
    "slideshow": {
     "slide_type": "fragment"
    }
   },
   "source": [
    "- **Issue**: $Y_\\text{present}$ may **look** different than the full dataset, $Y$.<br><small>Remember, we don't get to see $Y$.</small>"
   ]
  },
  {
   "cell_type": "markdown",
   "id": "d64ea534",
   "metadata": {
    "deletable": true,
    "editable": true,
    "slideshow": {
     "slide_type": "fragment"
    }
   },
   "source": [
    "- That is, the mean, median, and variance of $Y_\\text{present}$ may be different than that of $Y$."
   ]
  },
  {
   "cell_type": "markdown",
   "id": "6c46ce1a",
   "metadata": {
    "deletable": true,
    "editable": true,
    "slideshow": {
     "slide_type": "fragment"
    }
   },
   "source": [
    "- Furthermore, the correlations between $Y_\\text{present}$ and other features may be different than the correlations between $Y$ and other features."
   ]
  },
  {
   "cell_type": "markdown",
   "id": "83c36853",
   "metadata": {
    "deletable": true,
    "editable": true,
    "slideshow": {
     "slide_type": "slide"
    }
   },
   "source": [
    "### Example: Heights"
   ]
  },
  {
   "cell_type": "markdown",
   "id": "3dd9d68a",
   "metadata": {
    "deletable": true,
    "editable": true,
    "slideshow": {
     "slide_type": "fragment"
    }
   },
   "source": [
    "- Below, we load in a dataset containing the heights of parents and their children. Some of the `'child'`'s heights are missing."
   ]
  },
  {
   "cell_type": "markdown",
   "id": "7cd2be08",
   "metadata": {
    "deletable": true,
    "editable": true,
    "slideshow": {
     "slide_type": "fragment"
    }
   },
   "source": [
    "- **Aside**: The dataset was collected by [Sir Francis Galton](https://en.wikipedia.org/wiki/Francis_Galton), who developed many key ideas in statistics (including correlation and regression) for the purposes of eugenics, which he is also the originator of."
   ]
  },
  {
   "cell_type": "code",
   "execution_count": null,
   "id": "99e744ec",
   "metadata": {
    "deletable": true,
    "editable": true
   },
   "outputs": [],
   "source": [
    "heights = pd.read_csv('data/heights-missing.csv')\n",
    "heights.head()"
   ]
  },
  {
   "cell_type": "code",
   "execution_count": null,
   "id": "6b501f7c",
   "metadata": {
    "deletable": true,
    "editable": true
   },
   "outputs": [],
   "source": [
    "heights['child'].isna().sum()"
   ]
  },
  {
   "cell_type": "markdown",
   "id": "e2d3256c",
   "metadata": {
    "deletable": true,
    "editable": true,
    "slideshow": {
     "slide_type": "fragment"
    }
   },
   "source": [
    "- **Goal**: Try and fill the missing values in `heights['child']` using the information **we do have**."
   ]
  },
  {
   "cell_type": "markdown",
   "id": "6212003e",
   "metadata": {
    "deletable": true,
    "editable": true,
    "slideshow": {
     "slide_type": "fragment"
    }
   },
   "source": [
    "- **Plan**: Discuss several ideas on how to solve this problem.<br><small>In practice, the approach you use depends on the situation.</small>"
   ]
  },
  {
   "cell_type": "markdown",
   "id": "54ea4014",
   "metadata": {
    "deletable": true,
    "editable": true,
    "slideshow": {
     "slide_type": "slide"
    }
   },
   "source": [
    "### Aside: Kernel density estimates"
   ]
  },
  {
   "cell_type": "markdown",
   "id": "a8d12449",
   "metadata": {
    "deletable": true,
    "editable": true,
    "slideshow": {
     "slide_type": "fragment"
    }
   },
   "source": [
    "- In this section, we'll need to visualize the distributions of many numerical features."
   ]
  },
  {
   "cell_type": "markdown",
   "id": "6e7eeba9",
   "metadata": {
    "deletable": true,
    "editable": true,
    "slideshow": {
     "slide_type": "fragment"
    }
   },
   "source": [
    "- To do so, we'll use yet another visualization, a **kernel density estimate** (KDE).<br>Think of a KDE as a smoothed version of a histogram."
   ]
  },
  {
   "cell_type": "code",
   "execution_count": null,
   "id": "cf8eeddd",
   "metadata": {
    "deletable": true,
    "editable": true
   },
   "outputs": [],
   "source": [
    "heights['child'].plot(kind='hist', nbins=30)"
   ]
  },
  {
   "cell_type": "code",
   "execution_count": null,
   "id": "a41f6729",
   "metadata": {
    "deletable": true,
    "editable": true
   },
   "outputs": [],
   "source": [
    "def multiple_kdes(ser_map, title=\"\"):\n",
    "    values = [ser_map[key].dropna() for key in ser_map]\n",
    "    labels = list(ser_map.keys())\n",
    "    fig = ff.create_distplot(\n",
    "        hist_data=values,\n",
    "        group_labels=labels,\n",
    "        show_rug=False,\n",
    "        show_hist=False,\n",
    "        colors=px.colors.qualitative.Dark2[: len(ser_map)],\n",
    "    )\n",
    "    return fig.update_layout(title=title, width=1000).update_xaxes(title=\"child\")\n",
    "multiple_kdes({'Before Imputation': heights['child']})"
   ]
  },
  {
   "cell_type": "markdown",
   "id": "aaa7e413",
   "metadata": {
    "deletable": true,
    "editable": true,
    "slideshow": {
     "slide_type": "slide"
    }
   },
   "source": [
    "### Idea: Dropping missing values"
   ]
  },
  {
   "cell_type": "markdown",
   "id": "2b0edbc0",
   "metadata": {
    "deletable": true,
    "editable": true,
    "slideshow": {
     "slide_type": "fragment"
    }
   },
   "source": [
    "- One solution is to \"drop\" all rows with missing values, and do calculations with just the values that we have."
   ]
  },
  {
   "cell_type": "markdown",
   "id": "21835bd7",
   "metadata": {
    "deletable": true,
    "editable": true,
    "slideshow": {
     "slide_type": "fragment"
    }
   },
   "source": [
    "- This is called **listwise deletion**."
   ]
  },
  {
   "cell_type": "code",
   "execution_count": null,
   "id": "87d4dd76",
   "metadata": {
    "deletable": true,
    "editable": true,
    "slideshow": {
     "slide_type": "fragment"
    }
   },
   "outputs": [],
   "source": [
    "heights"
   ]
  },
  {
   "cell_type": "code",
   "execution_count": null,
   "id": "19fef109",
   "metadata": {
    "deletable": true,
    "editable": true
   },
   "outputs": [],
   "source": [
    "heights.dropna()"
   ]
  },
  {
   "cell_type": "markdown",
   "id": "491f607d",
   "metadata": {
    "deletable": true,
    "editable": true,
    "slideshow": {
     "slide_type": "fragment"
    }
   },
   "source": [
    "- **Issue**: We went from 934 to 765 rows, which means we lost 18% of rows for all columns, even columns in which no values were originally missing."
   ]
  },
  {
   "cell_type": "markdown",
   "id": "5843f6a5",
   "metadata": {
    "deletable": true,
    "editable": true,
    "slideshow": {
     "slide_type": "fragment"
    }
   },
   "source": [
    "- Most `numpy`/`pandas` methods already ignore missing values when performing calculations, so we don't _need_ to do anything explicit to ignore the missing values when calculating the mean and standard deviation."
   ]
  },
  {
   "cell_type": "code",
   "execution_count": null,
   "id": "b0803d35",
   "metadata": {
    "deletable": true,
    "editable": true
   },
   "outputs": [],
   "source": [
    "..."
   ]
  },
  {
   "cell_type": "code",
   "execution_count": null,
   "id": "93d19822",
   "metadata": {
    "deletable": true,
    "editable": true
   },
   "outputs": [],
   "source": [
    "..."
   ]
  },
  {
   "cell_type": "markdown",
   "id": "fc3dfe17",
   "metadata": {
    "deletable": true,
    "editable": true,
    "slideshow": {
     "slide_type": "slide"
    }
   },
   "source": [
    "### Idea: Mean imputation"
   ]
  },
  {
   "cell_type": "markdown",
   "id": "4c4b8daf",
   "metadata": {
    "deletable": true,
    "editable": true,
    "slideshow": {
     "slide_type": "fragment"
    }
   },
   "source": [
    "- Suppose we need all of the missing values to be filled in, or **imputed**, for our future analyses, meaning we can't just drop them."
   ]
  },
  {
   "cell_type": "markdown",
   "id": "3dbb9780",
   "metadata": {
    "deletable": true,
    "editable": true,
    "slideshow": {
     "slide_type": "fragment"
    }
   },
   "source": [
    "- A **terrible** idea would be to impute all of the missing values with 0. Why?"
   ]
  },
  {
   "cell_type": "code",
   "execution_count": null,
   "id": "40ab46e6",
   "metadata": {
    "deletable": true,
    "editable": true
   },
   "outputs": [],
   "source": [
    "heights['child']"
   ]
  },
  {
   "cell_type": "code",
   "execution_count": null,
   "id": "1dcadfea",
   "metadata": {
    "deletable": true,
    "editable": true
   },
   "outputs": [],
   "source": [
    "# DON'T do this!\n",
    "..."
   ]
  },
  {
   "cell_type": "markdown",
   "id": "7ed972f2",
   "metadata": {
    "deletable": true,
    "editable": true,
    "slideshow": {
     "slide_type": "fragment"
    }
   },
   "source": [
    "- A better idea is to impute missing values with the **mean** of the observed values."
   ]
  },
  {
   "cell_type": "code",
   "execution_count": null,
   "id": "d61f64f1",
   "metadata": {
    "deletable": true,
    "editable": true
   },
   "outputs": [],
   "source": [
    "heights['child']"
   ]
  },
  {
   "cell_type": "code",
   "execution_count": null,
   "id": "5d5424b9",
   "metadata": {
    "deletable": true,
    "editable": true
   },
   "outputs": [],
   "source": [
    "heights['child'].mean()"
   ]
  },
  {
   "cell_type": "code",
   "execution_count": null,
   "id": "2aab938f",
   "metadata": {
    "deletable": true,
    "editable": true
   },
   "outputs": [],
   "source": [
    "mean_imputed = ...\n",
    "mean_imputed"
   ]
  },
  {
   "cell_type": "markdown",
   "id": "546ac00c",
   "metadata": {
    "deletable": true,
    "editable": true,
    "slideshow": {
     "slide_type": "fragment"
    }
   },
   "source": [
    "- The mean of `mean_imputed` is the **same** as the mean of `'child'` **before** we imputed.<br><small>You proved this in Homework 1!</small>"
   ]
  },
  {
   "cell_type": "code",
   "execution_count": null,
   "id": "54b5a5e2",
   "metadata": {
    "deletable": true,
    "editable": true
   },
   "outputs": [],
   "source": [
    "# Mean before imputation:\n",
    "heights['child'].mean()"
   ]
  },
  {
   "cell_type": "code",
   "execution_count": null,
   "id": "d4868f45",
   "metadata": {
    "deletable": true,
    "editable": true
   },
   "outputs": [],
   "source": [
    "# Mean after imputation:\n",
    "mean_imputed.mean()"
   ]
  },
  {
   "cell_type": "markdown",
   "id": "b9a2c468",
   "metadata": {
    "deletable": true,
    "editable": true,
    "slideshow": {
     "slide_type": "fragment"
    }
   },
   "source": [
    "- What do you think a _histogram_ of `mean_imputed` would look like?"
   ]
  },
  {
   "cell_type": "code",
   "execution_count": null,
   "id": "1b539545",
   "metadata": {
    "deletable": true,
    "editable": true
   },
   "outputs": [],
   "source": [
    "mean_imputed.value_counts()"
   ]
  },
  {
   "cell_type": "markdown",
   "id": "3cd0b498",
   "metadata": {
    "deletable": true,
    "editable": true,
    "slideshow": {
     "slide_type": "slide"
    }
   },
   "source": [
    "### Mean imputation destroys spread!"
   ]
  },
  {
   "cell_type": "markdown",
   "id": "591e6fb8",
   "metadata": {
    "deletable": true,
    "editable": true,
    "slideshow": {
     "slide_type": "fragment"
    }
   },
   "source": [
    "- Let's look at the distribution of `heights['child']` <span style=\"color:#1c9e76\"><b>before</b></span> we filled in missing values along with the distribution of `mean_imputed`, <span style=\"color:#d95f01\"><b>after</b></span> we filled in missing values."
   ]
  },
  {
   "cell_type": "code",
   "execution_count": null,
   "id": "703dd390",
   "metadata": {
    "deletable": true,
    "editable": true
   },
   "outputs": [],
   "source": [
    "multiple_kdes({'Before Imputation': heights['child'], \n",
    "               'After Mean Imputation': mean_imputed})"
   ]
  },
  {
   "cell_type": "markdown",
   "id": "fab9fe20",
   "metadata": {
    "deletable": true,
    "editable": true,
    "slideshow": {
     "slide_type": "fragment"
    }
   },
   "source": [
    "- The standard deviation after imputing with the mean is much lower! The true distribution of `'child'` likely does not look like the distribution on the right.<br><small>In Homework 1, you found the relationship between the new standard deviation and the old one!</small>"
   ]
  },
  {
   "cell_type": "code",
   "execution_count": null,
   "id": "9d95a90c",
   "metadata": {
    "deletable": true,
    "editable": true
   },
   "outputs": [],
   "source": [
    "heights['child'].std()"
   ]
  },
  {
   "cell_type": "code",
   "execution_count": null,
   "id": "9bb0c7ba",
   "metadata": {
    "deletable": true,
    "editable": true
   },
   "outputs": [],
   "source": [
    "mean_imputed.std()"
   ]
  },
  {
   "cell_type": "markdown",
   "id": "79175ec0",
   "metadata": {
    "deletable": true,
    "editable": true,
    "slideshow": {
     "slide_type": "fragment"
    }
   },
   "source": [
    "- This makes it harder to use the imputed `'child'` column in analyses with other columns."
   ]
  },
  {
   "cell_type": "markdown",
   "id": "94a7725f",
   "metadata": {
    "deletable": true,
    "editable": true,
    "slideshow": {
     "slide_type": "slide"
    }
   },
   "source": [
    "### Mean imputation and listwise deletion introduce bias!"
   ]
  },
  {
   "cell_type": "markdown",
   "id": "e1d082ae",
   "metadata": {
    "deletable": true,
    "editable": true,
    "slideshow": {
     "slide_type": "fragment"
    }
   },
   "source": [
    "- **What if the values that are missing, $Y_\\text{missing}$, _are not_ a representative sample of the full dataset, $Y$**?<br><small>Equivalently, what if the values that are **present** are not a representative sample of the full dataset?</small>"
   ]
  },
  {
   "cell_type": "markdown",
   "id": "4761c6b5",
   "metadata": {
    "deletable": true,
    "editable": true,
    "slideshow": {
     "slide_type": "fragment"
    }
   },
   "source": [
    "- For example, _if_ shorter heights are more likely to be missing than larger heights, then:\n",
    "    - The mean of the present values will be **too big**.\n",
    "    \n",
    "    $$\\text{mean}(Y_\\text{present}) > \\text{mean}(Y)$$\n",
    "    \n",
    "    - So, by replacing missing values with the mean, our estimates will all be **too big**."
   ]
  },
  {
   "cell_type": "markdown",
   "id": "026ba876",
   "metadata": {
    "deletable": true,
    "editable": true,
    "slideshow": {
     "slide_type": "fragment"
    }
   },
   "source": [
    "- Instead of filling all missing values with the same one value, can we do something to prevent this added bias?"
   ]
  },
  {
   "cell_type": "markdown",
   "id": "b4b591d3",
   "metadata": {
    "deletable": true,
    "editable": true,
    "slideshow": {
     "slide_type": "slide"
    }
   },
   "source": [
    "### Idea: Conditional mean imputation"
   ]
  },
  {
   "cell_type": "markdown",
   "id": "699f6b8b",
   "metadata": {
    "deletable": true,
    "editable": true,
    "slideshow": {
     "slide_type": "fragment"
    }
   },
   "source": [
    "- If we have reason to believe the chance that a `'height'` is missing **depends** on another feature, we can use that other feature to inform how we fill the missing value!"
   ]
  },
  {
   "cell_type": "markdown",
   "id": "5848d9c2",
   "metadata": {
    "deletable": true,
    "editable": true,
    "slideshow": {
     "slide_type": "fragment"
    }
   },
   "source": [
    "- For example, if we have reason to believe that heights are more likely to be missing for `'female'` children than `'male'` children, we could fill in the missing `'female'` and `'male'` heights separately."
   ]
  },
  {
   "cell_type": "code",
   "execution_count": null,
   "id": "6580e979",
   "metadata": {
    "deletable": true,
    "editable": true
   },
   "outputs": [],
   "source": [
    "# Here, we're computing the proportion of 'child' heights that are missing per gender.\n",
    "(\n",
    "    heights\n",
    "    .groupby('gender')\n",
    "    ['child']\n",
    "    .agg(lambda s: s.isna().mean())\n",
    ")"
   ]
  },
  {
   "cell_type": "markdown",
   "id": "d484f50a",
   "metadata": {
    "deletable": true,
    "editable": true,
    "slideshow": {
     "slide_type": "fragment"
    }
   },
   "source": [
    "- That seems to be the case here, so let's try it. We can use the `groupby` `transform` method."
   ]
  },
  {
   "cell_type": "code",
   "execution_count": null,
   "id": "e2a95d5c",
   "metadata": {
    "deletable": true,
    "editable": true
   },
   "outputs": [],
   "source": [
    "# The mean 'female' observed 'child' height is 64.03, while\n",
    "# the mean 'male' observed 'child' height is 69.13.\n",
    "heights.groupby('gender')['child'].mean()"
   ]
  },
  {
   "cell_type": "code",
   "execution_count": null,
   "id": "b80ec2a5",
   "metadata": {
    "deletable": true,
    "editable": true
   },
   "outputs": [],
   "source": [
    "heights"
   ]
  },
  {
   "cell_type": "code",
   "execution_count": null,
   "id": "1848c715",
   "metadata": {
    "deletable": true,
    "editable": true
   },
   "outputs": [],
   "source": [
    "# Note the first missing 'child' height is filled in with\n",
    "# 69.13, the mean of the observed 'male' heights, since\n",
    "# they are a 'male' child!\n",
    "conditional_mean_imputed = ...\n",
    "...\n",
    "conditional_mean_imputed"
   ]
  },
  {
   "cell_type": "markdown",
   "id": "e6d535f8",
   "metadata": {
    "deletable": true,
    "editable": true,
    "slideshow": {
     "slide_type": "slide"
    }
   },
   "source": [
    "### Pros and cons of conditional mean imputation"
   ]
  },
  {
   "cell_type": "markdown",
   "id": "3c4f240a",
   "metadata": {
    "deletable": true,
    "editable": true,
    "slideshow": {
     "slide_type": "fragment"
    }
   },
   "source": [
    "- Instead of having a single \"spike\", the conditionally-imputed distribution has two smaller \"spikes\".<br><small>In this case, one at the observed `'female'` mean and one at the observed `'male'` mean.</small>"
   ]
  },
  {
   "cell_type": "code",
   "execution_count": null,
   "id": "11188284",
   "metadata": {
    "deletable": true,
    "editable": true
   },
   "outputs": [],
   "source": [
    "multiple_kdes({'Before Imputation': heights['child'], \n",
    "               'After Mean Imputation': mean_imputed,\n",
    "               'After Conditional Mean Imputation': conditional_mean_imputed})"
   ]
  },
  {
   "cell_type": "markdown",
   "id": "7a43cac0",
   "metadata": {
    "deletable": true,
    "editable": true,
    "slideshow": {
     "slide_type": "fragment"
    }
   },
   "source": [
    "- **Pro ✅**: The conditionally-imputed column's **mean** is likely to be closer to the **true** mean than if we just dropped all missing values, since we attempted to account for the imbalance in missingness."
   ]
  },
  {
   "cell_type": "code",
   "execution_count": null,
   "id": "a433450f",
   "metadata": {
    "deletable": true,
    "editable": true
   },
   "outputs": [],
   "source": [
    "# The mean of just our present values.\n",
    "heights['child'].mean()"
   ]
  },
  {
   "cell_type": "code",
   "execution_count": null,
   "id": "41291d08",
   "metadata": {
    "deletable": true,
    "editable": true
   },
   "outputs": [],
   "source": [
    "# Lower than above, reflecting the fact that we are missing\n",
    "# more 'female' heights and 'female' heights\n",
    "# tend to be lower.\n",
    "conditional_mean_imputed.mean()"
   ]
  },
  {
   "cell_type": "markdown",
   "id": "261de05c",
   "metadata": {
    "deletable": true,
    "editable": true,
    "slideshow": {
     "slide_type": "fragment"
    }
   },
   "source": [
    "- **Con ❌**: The conditionally-imputed column likely still has a lower standard deviation than the true `'height'` column.<br><small>The true `'height'` column likely doesn't look like the right-most histogram above.</small>"
   ]
  },
  {
   "cell_type": "markdown",
   "id": "83b50efd",
   "metadata": {
    "deletable": true,
    "editable": true,
    "slideshow": {
     "slide_type": "fragment"
    }
   },
   "source": [
    "- **Con ❌**: The chance that `'child'`'s heights are missing may depend on other columns, too, and we didn't account for those. There may still be bias."
   ]
  },
  {
   "cell_type": "markdown",
   "id": "fe1c9549",
   "metadata": {
    "deletable": true,
    "editable": true,
    "slideshow": {
     "slide_type": "slide"
    }
   },
   "source": [
    "### Idea: Regression imputation"
   ]
  },
  {
   "cell_type": "markdown",
   "id": "ad0314fe",
   "metadata": {
    "deletable": true,
    "editable": true,
    "slideshow": {
     "slide_type": "fragment"
    }
   },
   "source": [
    "- A common solution is to fill in missing values by using other features to **predict** what the missing value would have been."
   ]
  },
  {
   "cell_type": "code",
   "execution_count": null,
   "id": "e110a5ca",
   "metadata": {
    "deletable": true,
    "editable": true
   },
   "outputs": [],
   "source": [
    "# There's nothing special about the values passed into .iloc below;\n",
    "# they're just for illustration.\n",
    "heights.iloc[[0, 2, 919, 11, 4, 8, 9]]"
   ]
  },
  {
   "cell_type": "markdown",
   "id": "bcd8b1ba",
   "metadata": {
    "deletable": true,
    "editable": true,
    "slideshow": {
     "slide_type": "fragment"
    }
   },
   "source": [
    "- We'll learn how to make such predictions in the coming weeks."
   ]
  },
  {
   "cell_type": "markdown",
   "id": "088121c4",
   "metadata": {
    "deletable": true,
    "editable": true,
    "slideshow": {
     "slide_type": "slide"
    }
   },
   "source": [
    "### Idea: Probabilistic imputation"
   ]
  },
  {
   "cell_type": "markdown",
   "id": "3f527999",
   "metadata": {
    "deletable": true,
    "editable": true,
    "slideshow": {
     "slide_type": "fragment"
    }
   },
   "source": [
    "- Since **we don't know** what the missing values would have been, one could argue our technique for filling in missing values should incorporate this uncertainty."
   ]
  },
  {
   "cell_type": "markdown",
   "id": "fc110ae3",
   "metadata": {
    "deletable": true,
    "editable": true,
    "slideshow": {
     "slide_type": "fragment"
    }
   },
   "source": [
    "- We could fill in missing values using a **random sample** of observed values.<br><small>This avoids the key issue with mean imputation, where we fill all missing values with the same one value. It also limits the bias present if the missing values weren't a representative sample, since we're filling them in with a range of different values.</small>"
   ]
  },
  {
   "cell_type": "code",
   "execution_count": null,
   "id": "1e8ff885",
   "metadata": {
    "deletable": true,
    "editable": true
   },
   "outputs": [],
   "source": [
    "# impute_prob should take in a Series with missing values and return an imputed Series.\n",
    "def impute_prob(s):\n",
    "    s = s.copy()\n",
    "    # Find the number of missing values.\n",
    "    num_missing = s.isna().sum()\n",
    "    # Take a sample of size num_missing from the present values.\n",
    "    sample = np.random.choice(s.dropna(), num_missing)\n",
    "    # Fill in the missing values with our random sample.\n",
    "    s.loc[s.isna()] = sample\n",
    "    return s"
   ]
  },
  {
   "cell_type": "markdown",
   "id": "9eb66326",
   "metadata": {
    "deletable": true,
    "editable": true,
    "slideshow": {
     "slide_type": "fragment"
    }
   },
   "source": [
    "- Each time we run the cell below, the missing values in `heights['child']` are filled in with a different sample of present values in `heights['child']`!"
   ]
  },
  {
   "cell_type": "code",
   "execution_count": null,
   "id": "03f1a573",
   "metadata": {
    "deletable": true,
    "editable": true
   },
   "outputs": [],
   "source": [
    "# The number at the very top is constantly changing!\n",
    "prob_imputed = impute_prob(heights['child'])\n",
    "print('Mean:', prob_imputed.mean())\n",
    "prob_imputed"
   ]
  },
  {
   "cell_type": "markdown",
   "id": "e95300e9",
   "metadata": {
    "deletable": true,
    "editable": true,
    "slideshow": {
     "slide_type": "fragment"
    }
   },
   "source": [
    "- To account for the fact that each run is slightly different, a common strategy is **multiple imputation**.<br><small>This involves performing probabilistic imputation many (> 5) times, performing further analysis on each new dataset (e.g. building a regression model), and aggregating the results.</small>"
   ]
  },
  {
   "cell_type": "markdown",
   "id": "fdf58146",
   "metadata": {
    "deletable": true,
    "editable": true,
    "slideshow": {
     "slide_type": "fragment"
    }
   },
   "source": [
    "- Probabilistic imputation can even be done **conditionally**!<br><small>Now, missing `'male'` heights are filled in using a sample of observed `'male'` heights, and missing `'female'` heights are filled in using a sample of observed `'female'` heights!</small>"
   ]
  },
  {
   "cell_type": "code",
   "execution_count": null,
   "id": "00c414fd",
   "metadata": {
    "deletable": true,
    "editable": true
   },
   "outputs": [],
   "source": [
    "conditional_prob_imputed = ...\n",
    "...\n",
    "conditional_prob_imputed"
   ]
  },
  {
   "cell_type": "markdown",
   "id": "9348cbab",
   "metadata": {
    "deletable": true,
    "editable": true,
    "slideshow": {
     "slide_type": "slide"
    }
   },
   "source": [
    "### Visualizing imputation strategies"
   ]
  },
  {
   "cell_type": "code",
   "execution_count": null,
   "id": "dff54eab",
   "metadata": {
    "deletable": true,
    "editable": true
   },
   "outputs": [],
   "source": [
    "multiple_kdes({'Before Imputation': heights['child'], \n",
    "               'After Mean Imputation': mean_imputed,\n",
    "               'After Conditional Mean Imputation': conditional_mean_imputed,\n",
    "               'After Probabilistic Imputation': prob_imputed,\n",
    "               'After Conditional Probabilistic Imputation': conditional_prob_imputed})"
   ]
  },
  {
   "cell_type": "markdown",
   "id": "6efba8b6",
   "metadata": {
    "deletable": true,
    "editable": true,
    "slideshow": {
     "slide_type": "skip"
    }
   },
   "source": [
    "<div class=\"alert alert-danger\">\n",
    "    \n",
    "#### Reference Slide\n",
    "\n",
    "### Missingness mechanisms\n",
    "    \n",
    "</div>"
   ]
  },
  {
   "cell_type": "markdown",
   "id": "d9e91d04",
   "metadata": {
    "deletable": true,
    "editable": true,
    "slideshow": {
     "slide_type": "skip"
    }
   },
   "source": [
    "- There are three key **missingness mechanisms**, which describe _how_ data in a column can be missing."
   ]
  },
  {
   "cell_type": "markdown",
   "id": "e5940254",
   "metadata": {
    "deletable": true,
    "editable": true,
    "slideshow": {
     "slide_type": "skip"
    }
   },
   "source": [
    "- **Missing completely at random (MCAR)**: Data are MCAR if the chance that a value is missing is **completely independent** of other columns and the actual missing value.<br><small>Example: Suppose that after the Midterm Exam, I randomly choose 5 scores to delete on Gradescope, meaning that 5 students have missing grades. MCAR is **ideal, but rare!**</small>"
   ]
  },
  {
   "cell_type": "markdown",
   "id": "6ac9bcbc",
   "metadata": {
    "deletable": true,
    "editable": true,
    "slideshow": {
     "slide_type": "skip"
    }
   },
   "source": [
    "- **Missing at random (MAR)**: Data are MAR if the chance that a value is missing **depends on other columns**.<br><small>Example: Suppose that after the Midterm Exam, I randomly choose 5 scores to delete on Gradescope **among** sophomore students. Now, scores are missing at random **dependent on class standing**.</small>"
   ]
  },
  {
   "cell_type": "markdown",
   "id": "7ecc88a5",
   "metadata": {
    "deletable": true,
    "editable": true,
    "slideshow": {
     "slide_type": "skip"
    }
   },
   "source": [
    "- **Not missing at random (NMAR)**: Data are NMAR if the chance that a value is missing **depends on the actual missing value itself**.<br><small>Example: Suppose that after the Midterm Exam, I randomly delete 5 of the 10 lowest scores on Gradescope. Now, scores are **not** missing at random, since the chance a value is missing depends on how large it is.</small>"
   ]
  },
  {
   "cell_type": "markdown",
   "id": "6f810240",
   "metadata": {
    "deletable": true,
    "editable": true,
    "slideshow": {
     "slide_type": "skip"
    }
   },
   "source": [
    "- Statistical imputation packages usually assume data are MAR.<br><small>MCAR is usually unrealistic to assume. If data are NMAR, you can't impute missing values, since the other features in your data **can't explain** the missingness.</small>"
   ]
  },
  {
   "cell_type": "markdown",
   "id": "ce15a4b7",
   "metadata": {
    "deletable": true,
    "editable": true,
    "slideshow": {
     "slide_type": "skip"
    }
   },
   "source": [
    "<div class=\"alert alert-danger\">\n",
    "    \n",
    "#### Reference Slide\n",
    "\n",
    "### How do we know if data are MCAR?\n",
    "    \n",
    "</div>"
   ]
  },
  {
   "cell_type": "markdown",
   "id": "2d364568",
   "metadata": {
    "deletable": true,
    "editable": true,
    "slideshow": {
     "slide_type": "skip"
    }
   },
   "source": [
    "- It seems that if our data are MCAR, there is no risk to dropping missing values.<br><small>In the MCAR setting, just imagine we're being given a large, random sample of the true dataset.</small>"
   ]
  },
  {
   "cell_type": "markdown",
   "id": "2f053c99",
   "metadata": {
    "deletable": true,
    "editable": true,
    "slideshow": {
     "slide_type": "skip"
    }
   },
   "source": [
    "- If the data are not MCAR, though, then dropping the missing values will introduce bias.<br><small>For instance, suppose we asked people \"How much do you give to charity?\" People who give little are less likely to respond, so the average response is **biased high**.</small>"
   ]
  },
  {
   "cell_type": "markdown",
   "id": "37881b54",
   "metadata": {
    "deletable": true,
    "editable": true,
    "slideshow": {
     "slide_type": "skip"
    }
   },
   "source": [
    "- There is no perfect procedure for determining if our data are MCAR, MAR, or NMAR; we mostly have to use our understanding of how the data is generated."
   ]
  },
  {
   "cell_type": "markdown",
   "id": "f92ce917",
   "metadata": {
    "deletable": true,
    "editable": true,
    "slideshow": {
     "slide_type": "skip"
    }
   },
   "source": [
    "- But, we can _try_ to determine whether $Y_\\text{missing}$ is similar to $Y$, using the information we **do have** in other columns.<br><small>We did this earlier, when looking at the proportion of missing `'child'` heights for each `'gender'`.</small>"
   ]
  },
  {
   "cell_type": "markdown",
   "id": "53b1544b",
   "metadata": {
    "deletable": true,
    "editable": true,
    "slideshow": {
     "slide_type": "slide"
    }
   },
   "source": [
    "### Summary of imputation techniques"
   ]
  },
  {
   "cell_type": "markdown",
   "id": "44ed2bf2",
   "metadata": {
    "deletable": true,
    "editable": true,
    "slideshow": {
     "slide_type": "fragment"
    }
   },
   "source": [
    "- Consider whether values are missing intentionally, or whether there's a default replacement."
   ]
  },
  {
   "cell_type": "markdown",
   "id": "c012091e",
   "metadata": {
    "deletable": true,
    "editable": true,
    "slideshow": {
     "slide_type": "fragment"
    }
   },
   "source": [
    "- Listwise deletion.<br><small>Drop, or ignore, missing values.</small>"
   ]
  },
  {
   "cell_type": "markdown",
   "id": "8ea85fee",
   "metadata": {
    "deletable": true,
    "editable": true,
    "slideshow": {
     "slide_type": "fragment"
    }
   },
   "source": [
    "- (Conditional) mean imputation.<br><small>Fill in missing values with the mean of observed values. If there's a reason to believe the missingness depends on another categorical column, fill in missing values with the observed mean separately for each category.</small>"
   ]
  },
  {
   "cell_type": "markdown",
   "id": "492a0b27",
   "metadata": {
    "deletable": true,
    "editable": true,
    "slideshow": {
     "slide_type": "fragment"
    }
   },
   "source": [
    "- (Conditional) Probabilistic imputation.<br><small>Fill in missing values with a random sample of observed values. If there's a reason to believe the missingness depends on another categorical column, fill in missing values with a random sample drawn separately for each category.</small>"
   ]
  },
  {
   "cell_type": "markdown",
   "id": "15b98be2",
   "metadata": {
    "deletable": true,
    "editable": true,
    "slideshow": {
     "slide_type": "fragment"
    }
   },
   "source": [
    "- Regression imputation.<br><small>Predict missing values using other features.</small>"
   ]
  },
  {
   "cell_type": "markdown",
   "id": "752ff75f",
   "metadata": {
    "deletable": true,
    "editable": true,
    "slideshow": {
     "slide_type": "slide"
    }
   },
   "source": [
    "### What's next?"
   ]
  },
  {
   "cell_type": "markdown",
   "id": "b05ce5df",
   "metadata": {
    "deletable": true,
    "editable": true,
    "slideshow": {
     "slide_type": "fragment"
    }
   },
   "source": [
    "- So far, our data has just been given to us as a CSV.<br><small>Sometimes it's messy, and we need to clean it.</small>"
   ]
  },
  {
   "cell_type": "markdown",
   "id": "f5c17fcf",
   "metadata": {
    "deletable": true,
    "editable": true,
    "slideshow": {
     "slide_type": "fragment"
    }
   },
   "source": [
    "- But, what if the data we want is somewhere on the internet?"
   ]
  }
 ],
 "metadata": {
  "celltoolbar": "None",
  "kernelspec": {
   "display_name": "Python 3 (ipykernel)",
   "language": "python",
   "name": "python3"
  },
  "language_info": {
   "codemirror_mode": {
    "name": "ipython",
    "version": 3
   },
   "file_extension": ".py",
   "mimetype": "text/x-python",
   "name": "python",
   "nbconvert_exporter": "python",
   "pygments_lexer": "ipython3",
   "version": "3.10.16"
  },
  "livereveal": {
   "scroll": true
  },
  "rise": {
   "transition": "none"
  }
 },
 "nbformat": 4,
 "nbformat_minor": 5
}
