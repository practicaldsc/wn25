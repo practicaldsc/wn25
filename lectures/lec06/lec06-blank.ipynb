{
 "cells": [
  {
   "cell_type": "code",
   "execution_count": null,
   "id": "423eceb0",
   "metadata": {
    "deletable": true,
    "editable": true,
    "slideshow": {
     "slide_type": "skip"
    },
    "tags": []
   },
   "outputs": [],
   "source": [
    "from lec_utils import *\n",
    "def show_merging_animation():\n",
    "    src = \"https://docs.google.com/presentation/d/1HPJ7fiBLNEURsWYiY0qpqPR3qup68Mr0_B34GU99Y8Q/embed?start=false&loop=false&delayms=60000&rm=minimal\"\n",
    "    width = 865\n",
    "    height = 509\n",
    "    display(IFrame(src, width, height))"
   ]
  },
  {
   "cell_type": "markdown",
   "id": "3a314cad",
   "metadata": {
    "deletable": true,
    "editable": true,
    "slideshow": {
     "slide_type": "slide"
    },
    "tags": []
   },
   "source": [
    "<div class=\"alert alert-info\" markdown=\"1\">\n",
    "\n",
    "#### Lecture 6\n",
    "\n",
    "# Pivoting, Merging, and Transforming\n",
    "\n",
    "### EECS 398: Practical Data Science, Winter 2025\n",
    "\n",
    "<small><a style=\"text-decoration: none\" href=\"https://practicaldsc.org\">practicaldsc.org</a> • <a style=\"text-decoration: none\" href=\"https://github.com/practicaldsc/wn25\">github.com/practicaldsc/wn25</a> • 📣 See latest announcements [**here on Ed**](https://edstem.org/us/courses/69737/discussion/5943734) </small>\n",
    "    \n",
    "</div>"
   ]
  },
  {
   "cell_type": "markdown",
   "id": "4dcbb445",
   "metadata": {
    "deletable": true,
    "editable": true,
    "slideshow": {
     "slide_type": "slide"
    }
   },
   "source": [
    "### 3blue1bron 🏀"
   ]
  },
  {
   "cell_type": "markdown",
   "id": "8c0677a7",
   "metadata": {
    "deletable": true,
    "editable": true,
    "slideshow": {
     "slide_type": "fragment"
    }
   },
   "source": [
    "- [3blue1bron](https://www.3blue1bron.com) allows you to upload a PDF and it'll automatically generate a video of LeBron James summarizing the notes."
   ]
  },
  {
   "cell_type": "markdown",
   "id": "f4e44599",
   "metadata": {
    "deletable": true,
    "editable": true,
    "slideshow": {
     "slide_type": "fragment"
    }
   },
   "source": [
    "- Listen up! 🐐"
   ]
  },
  {
   "cell_type": "code",
   "execution_count": null,
   "id": "26a72bde",
   "metadata": {
    "deletable": true,
    "editable": true,
    "slideshow": {
     "slide_type": "-"
    }
   },
   "outputs": [],
   "source": [
    "IFrame(\n",
    "    src='https://www.3blue1bron.com/share/7c278b09-f703-454c-9e23-31564f38b040',\n",
    "    width=800,\n",
    "    height=700\n",
    ")"
   ]
  },
  {
   "cell_type": "markdown",
   "id": "161f05b0",
   "metadata": {
    "deletable": true,
    "editable": true,
    "slideshow": {
     "slide_type": "slide"
    }
   },
   "source": [
    "### Agenda 📆\n",
    "\n",
    "- Recap: `groupby`.\n",
    "- Pivot tables using `pivot_table`.\n",
    "- Merging 🚗.\n",
    "- Transforming 🤖."
   ]
  },
  {
   "cell_type": "markdown",
   "id": "ef37239c",
   "metadata": {
    "deletable": true,
    "editable": true,
    "slideshow": {
     "slide_type": "slide"
    }
   },
   "source": [
    "## Recap: `groupby`\n",
    "\n",
    "---"
   ]
  },
  {
   "cell_type": "markdown",
   "id": "f0e8f76f",
   "metadata": {
    "deletable": true,
    "editable": true,
    "slideshow": {
     "slide_type": "slide"
    }
   },
   "source": [
    "### Loading the data 🐧\n",
    "\n",
    "<center><img src=\"imgs/lter_penguins.png\" width=500></center>"
   ]
  },
  {
   "cell_type": "code",
   "execution_count": null,
   "id": "b8c47180",
   "metadata": {
    "deletable": true,
    "editable": true
   },
   "outputs": [],
   "source": [
    "penguins = pd.read_csv('data/penguins.csv')\n",
    "penguins"
   ]
  },
  {
   "cell_type": "markdown",
   "id": "384da785",
   "metadata": {
    "deletable": true,
    "editable": true,
    "slideshow": {
     "slide_type": "slide"
    }
   },
   "source": [
    "### The `groupby` method"
   ]
  },
  {
   "cell_type": "markdown",
   "id": "a8b23f54",
   "metadata": {
    "deletable": true,
    "editable": true,
    "slideshow": {
     "slide_type": "fragment"
    }
   },
   "source": [
    "- The `groupby` method helps us answer questions that involve performing some computation separately **for each group**."
   ]
  },
  {
   "cell_type": "markdown",
   "id": "745911c8",
   "metadata": {
    "deletable": true,
    "editable": true,
    "slideshow": {
     "slide_type": "fragment"
    }
   },
   "source": [
    "- Most commonly, we'll use `groupby`, select column(s) to operate on, and use a built-in aggregation method."
   ]
  },
  {
   "cell_type": "code",
   "execution_count": null,
   "id": "50e161d9",
   "metadata": {
    "deletable": true,
    "editable": true
   },
   "outputs": [],
   "source": [
    "# The median 'bill_length_mm' of each 'species'.\n",
    "..."
   ]
  },
  {
   "cell_type": "markdown",
   "id": "2415cb17",
   "metadata": {
    "deletable": true,
    "editable": true,
    "slideshow": {
     "slide_type": "fragment"
    }
   },
   "source": [
    "- There are four other special \"grouping methods\" we learned about last class that allow for advanced behavior, namely `agg`, `filter`, `transform`, and `apply`.<br><small>See **\"⭐️ The grouping method cheat sheet\"** from last lecture for examples.</small>"
   ]
  },
  {
   "cell_type": "code",
   "execution_count": null,
   "id": "11de7736",
   "metadata": {
    "deletable": true,
    "editable": true
   },
   "outputs": [],
   "source": [
    "# The most common 'island' per 'species'.\n",
    "..."
   ]
  },
  {
   "cell_type": "code",
   "execution_count": null,
   "id": "0b781944",
   "metadata": {
    "deletable": true,
    "editable": true
   },
   "outputs": [],
   "source": [
    "# Keeps the 'species' with at least 100 penguins.\n",
    "..."
   ]
  },
  {
   "cell_type": "markdown",
   "id": "9bce5e5e",
   "metadata": {
    "deletable": true,
    "editable": true,
    "slideshow": {
     "slide_type": "slide"
    }
   },
   "source": [
    "### Grouping with multiple columns"
   ]
  },
  {
   "cell_type": "markdown",
   "id": "246cb328",
   "metadata": {
    "deletable": true,
    "editable": true,
    "slideshow": {
     "slide_type": "fragment"
    }
   },
   "source": [
    "- When we group with multiple columns, one group is created for **every unique combination** of elements in the specified columns.<br><small>In the output below, why are there only 5 rows, rather than $3 \\times 3 = 9$ rows, when there are 3 unique `'species'` and 3 unique `'island'`s?</small>"
   ]
  },
  {
   "cell_type": "code",
   "execution_count": null,
   "id": "95578976",
   "metadata": {
    "deletable": true,
    "editable": true
   },
   "outputs": [],
   "source": [
    "# Read this as:\n",
    "species_and_island = (\n",
    "    penguins.groupby(['species', 'island'])         # for every combination of 'species' and 'island' in the DataFrame,\n",
    "    [['bill_length_mm', 'bill_depth_mm']].mean()    # calculate the mean 'bill_length_mm' and the mean 'bill_depth_mm'.\n",
    ")\n",
    "species_and_island"
   ]
  },
  {
   "cell_type": "markdown",
   "id": "e7b451de",
   "metadata": {
    "deletable": true,
    "editable": true,
    "slideshow": {
     "slide_type": "fragment"
    }
   },
   "source": [
    "- **Advice**: When grouping on multiple columns, the result usually has a `MultiIndex`;  use `reset_index` or set `as_index=False` in `groupby` to avoid this."
   ]
  },
  {
   "cell_type": "code",
   "execution_count": null,
   "id": "ccce5be8",
   "metadata": {
    "deletable": true,
    "editable": true
   },
   "outputs": [],
   "source": [
    "# Now, this looks like a regular DataFrame!\n",
    "..."
   ]
  },
  {
   "cell_type": "markdown",
   "id": "d224e22c",
   "metadata": {
    "deletable": true,
    "editable": true,
    "slideshow": {
     "slide_type": "slide"
    }
   },
   "source": [
    "## Pivot tables using `pivot_table`\n",
    "\n",
    "---"
   ]
  },
  {
   "cell_type": "markdown",
   "id": "2fb1de45",
   "metadata": {
    "deletable": true,
    "editable": true,
    "slideshow": {
     "slide_type": "slide"
    }
   },
   "source": [
    "### Pivot tables: An extension of grouping"
   ]
  },
  {
   "cell_type": "markdown",
   "id": "a246376f",
   "metadata": {
    "deletable": true,
    "editable": true,
    "slideshow": {
     "slide_type": "fragment"
    }
   },
   "source": [
    "- Pivot tables are a compact way to display tables for humans to read.\n",
    "\n",
    "<table border=\"1\" class=\"dataframe\">\n",
    "  <thead>\n",
    "    <tr style=\"text-align: right;\">\n",
    "      <th>sex</th>\n",
    "      <th>Female</th>\n",
    "      <th>Male</th>\n",
    "    </tr>\n",
    "    <tr>\n",
    "      <th>species</th>\n",
    "      <th></th>\n",
    "      <th></th>\n",
    "    </tr>\n",
    "  </thead>\n",
    "  <tbody>\n",
    "    <tr>\n",
    "      <th>Adelie</th>\n",
    "      <td>3368.84</td>\n",
    "      <td>4043.49</td>\n",
    "    </tr>\n",
    "    <tr>\n",
    "      <th>Chinstrap</th>\n",
    "      <td>3527.21</td>\n",
    "      <td>3938.97</td>\n",
    "    </tr>\n",
    "    <tr>\n",
    "      <th>Gentoo</th>\n",
    "      <td>4679.74</td>\n",
    "      <td>5484.84</td>\n",
    "    </tr>\n",
    "  </tbody>\n",
    "</table>\n"
   ]
  },
  {
   "cell_type": "markdown",
   "id": "4d285e0b",
   "metadata": {
    "deletable": true,
    "editable": true,
    "slideshow": {
     "slide_type": "fragment"
    }
   },
   "source": [
    "- Notice that each value in the table is the average of `'body_mass_g'` of penguins, for every combination of `'species'` and `'sex'`."
   ]
  },
  {
   "cell_type": "markdown",
   "id": "efb8ffdd",
   "metadata": {
    "deletable": true,
    "editable": true,
    "slideshow": {
     "slide_type": "fragment"
    }
   },
   "source": [
    "- **You can think of pivot tables as grouping using two columns, then \"pivoting\" one of the group labels into columns.**"
   ]
  },
  {
   "cell_type": "markdown",
   "id": "fbd221c1",
   "metadata": {
    "deletable": true,
    "editable": true,
    "slideshow": {
     "slide_type": "slide"
    }
   },
   "source": [
    "### `pivot_table`"
   ]
  },
  {
   "cell_type": "markdown",
   "id": "fe87a69f",
   "metadata": {
    "deletable": true,
    "editable": true,
    "slideshow": {
     "slide_type": "fragment"
    }
   },
   "source": [
    "- The `pivot_table` DataFrame method aggregates a DataFrame using two columns. To use it:\n",
    "<br><br>\n",
    "```python\n",
    "        df.pivot_table(index=index_col,\n",
    "                       columns=columns_col,\n",
    "                       values=values_col,\n",
    "                       aggfunc=func)\n",
    "```"
   ]
  },
  {
   "cell_type": "markdown",
   "id": "a7a36f67",
   "metadata": {
    "deletable": true,
    "editable": true,
    "slideshow": {
     "slide_type": "fragment"
    }
   },
   "source": [
    "- The resulting DataFrame will have:\n",
    "    - One row for every unique value in `index_col`.\n",
    "    - One column for every unique value in `columns_col`.\n",
    "    - Values determined by applying `func` on values in `values_col`."
   ]
  },
  {
   "cell_type": "markdown",
   "id": "fd26ebba",
   "metadata": {
    "deletable": true,
    "editable": true,
    "slideshow": {
     "slide_type": "fragment"
    }
   },
   "source": [
    "- **Example**: Find the average `'body_mass_g'` for every combination of `'species'` and `'sex'`."
   ]
  },
  {
   "cell_type": "code",
   "execution_count": null,
   "id": "f91b680f",
   "metadata": {
    "deletable": true,
    "editable": true,
    "scrolled": true,
    "slideshow": {
     "slide_type": ""
    }
   },
   "outputs": [],
   "source": [
    "..."
   ]
  },
  {
   "cell_type": "code",
   "execution_count": null,
   "id": "3ebec668",
   "metadata": {
    "deletable": true,
    "editable": true
   },
   "outputs": [],
   "source": [
    "..."
   ]
  },
  {
   "cell_type": "markdown",
   "id": "287269be",
   "metadata": {
    "deletable": true,
    "editable": true,
    "slideshow": {
     "slide_type": "slide"
    }
   },
   "source": [
    "### Example: Finding the number of penguins per `'island'` and `'species'`"
   ]
  },
  {
   "cell_type": "code",
   "execution_count": null,
   "id": "a84dce89",
   "metadata": {
    "deletable": true,
    "editable": true
   },
   "outputs": [],
   "source": [
    "penguins"
   ]
  },
  {
   "cell_type": "markdown",
   "id": "0254fe3f",
   "metadata": {
    "deletable": true,
    "editable": true,
    "slideshow": {
     "slide_type": "fragment"
    }
   },
   "source": [
    "- Suppose we want to find the number of penguins in `penguins` per `'island'` and `'species'`. We can do so _without_ `pivot_table`:"
   ]
  },
  {
   "cell_type": "code",
   "execution_count": null,
   "id": "927774d4",
   "metadata": {
    "deletable": true,
    "editable": true
   },
   "outputs": [],
   "source": [
    "..."
   ]
  },
  {
   "cell_type": "code",
   "execution_count": null,
   "id": "e3bf9dca",
   "metadata": {
    "deletable": true,
    "editable": true
   },
   "outputs": [],
   "source": [
    "..."
   ]
  },
  {
   "cell_type": "markdown",
   "id": "99633d38",
   "metadata": {
    "deletable": true,
    "editable": true,
    "slideshow": {
     "slide_type": "fragment"
    }
   },
   "source": [
    "- But the data is arguably easier to interpret when we do use `pivot_table`:"
   ]
  },
  {
   "cell_type": "code",
   "execution_count": null,
   "id": "5c85e3d2",
   "metadata": {
    "deletable": true,
    "editable": true
   },
   "outputs": [],
   "source": [
    "..."
   ]
  },
  {
   "cell_type": "markdown",
   "id": "793496c5",
   "metadata": {
    "deletable": true,
    "editable": true,
    "slideshow": {
     "slide_type": "fragment"
    }
   },
   "source": [
    "- Note that there is a `NaN` at the intersection of `'Biscoe'` and `'Chinstrap'`, because there were no Chinstrap penguins on Biscoe Island.<br><small>`NaN` stands for \"not a number.\" It is `numpy` and `pandas`' version of a null value (the regular Python null value is `None`). We'll learn more about how to deal with these soon.</small>"
   ]
  },
  {
   "cell_type": "markdown",
   "id": "8a120088",
   "metadata": {
    "deletable": true,
    "editable": true,
    "slideshow": {
     "slide_type": "fragment"
    }
   },
   "source": [
    "- We can either use the `fillna` method afterwards or the `fill_value` argument to fill in `NaN`s."
   ]
  },
  {
   "cell_type": "code",
   "execution_count": null,
   "id": "6bdbcf7e",
   "metadata": {
    "deletable": true,
    "editable": true
   },
   "outputs": [],
   "source": [
    "..."
   ]
  },
  {
   "cell_type": "markdown",
   "id": "deb19eaa",
   "metadata": {
    "deletable": true,
    "editable": true,
    "slideshow": {
     "slide_type": "slide"
    }
   },
   "source": [
    "### Granularity"
   ]
  },
  {
   "cell_type": "markdown",
   "id": "fe521f68",
   "metadata": {
    "deletable": true,
    "editable": true,
    "slideshow": {
     "slide_type": "fragment"
    }
   },
   "source": [
    "- Each row of the original `penguins` DataFrame represented a single penguin, and each column represented features of the penguins."
   ]
  },
  {
   "cell_type": "code",
   "execution_count": null,
   "id": "91c1ee74",
   "metadata": {
    "deletable": true,
    "editable": true
   },
   "outputs": [],
   "source": [
    "penguins"
   ]
  },
  {
   "cell_type": "markdown",
   "id": "affd5268",
   "metadata": {
    "deletable": true,
    "editable": true,
    "slideshow": {
     "slide_type": "fragment"
    }
   },
   "source": [
    "- What is the **granularity** of the DataFrame below?<br><small>That is, what does each row represent?</small>"
   ]
  },
  {
   "cell_type": "code",
   "execution_count": null,
   "id": "5bbbd8f5",
   "metadata": {
    "deletable": true,
    "editable": true
   },
   "outputs": [],
   "source": [
    "penguins.pivot_table(\n",
    "    index='species', \n",
    "    columns='island', \n",
    "    values='bill_length_mm', \n",
    "    aggfunc='count',\n",
    "    fill_value=0,\n",
    ")"
   ]
  },
  {
   "cell_type": "markdown",
   "id": "97552af3",
   "metadata": {
    "deletable": true,
    "editable": true,
    "slideshow": {
     "slide_type": "slide"
    }
   },
   "source": [
    "### Reshaping"
   ]
  },
  {
   "cell_type": "markdown",
   "id": "3b15916b",
   "metadata": {
    "deletable": true,
    "editable": true,
    "slideshow": {
     "slide_type": "fragment"
    }
   },
   "source": [
    "- `pivot_table` reshapes DataFrames from \"long\" to \"wide\"."
   ]
  },
  {
   "cell_type": "markdown",
   "id": "dcb82289",
   "metadata": {
    "deletable": true,
    "editable": true,
    "slideshow": {
     "slide_type": "fragment"
    }
   },
   "source": [
    "- Other DataFrame reshaping methods:\n",
    "    - `melt`: Un-pivots a DataFrame. Very useful in data cleaning. **See the reference slide!**\n",
    "    - `pivot`: Like `pivot_table`, but doesn't do aggregation.\n",
    "    - `stack`: Pivots multi-level columns to multi-indices.\n",
    "    - `unstack`: Pivots multi-indices to columns."
   ]
  },
  {
   "cell_type": "markdown",
   "id": "2e56a230",
   "metadata": {
    "deletable": true,
    "editable": true,
    "slideshow": {
     "slide_type": "fragment"
    }
   },
   "source": [
    "- Google, the documentation, and ChatGPT are your friends!"
   ]
  },
  {
   "cell_type": "markdown",
   "id": "ee4baa6b",
   "metadata": {
    "deletable": true,
    "editable": true,
    "slideshow": {
     "slide_type": "skip"
    }
   },
   "source": [
    "<div class=\"alert alert-danger\" markdown=\"1\">\n",
    "\n",
    "#### Reference Slide\n",
    "\n",
    "### The `melt` method"
   ]
  },
  {
   "cell_type": "markdown",
   "id": "8b26ca1c",
   "metadata": {
    "deletable": true,
    "editable": true,
    "slideshow": {
     "slide_type": "skip"
    }
   },
   "source": [
    "- The `melt` method is common enough that we'll give it a special mention."
   ]
  },
  {
   "cell_type": "markdown",
   "id": "240aee73",
   "metadata": {
    "deletable": true,
    "editable": true,
    "slideshow": {
     "slide_type": "skip"
    }
   },
   "source": [
    "- We'll often encounter pivot tables (esp. from government data), which we call *wide* data."
   ]
  },
  {
   "cell_type": "markdown",
   "id": "e57162e7",
   "metadata": {
    "deletable": true,
    "editable": true,
    "slideshow": {
     "slide_type": "skip"
    }
   },
   "source": [
    "- The methods we've introduced work better with *long-form* data, or *tidy* data."
   ]
  },
  {
   "cell_type": "markdown",
   "id": "40a2e514",
   "metadata": {
    "deletable": true,
    "editable": true,
    "slideshow": {
     "slide_type": "skip"
    }
   },
   "source": [
    "- To go from wide to long, `melt`.\n",
    "\n",
    "<center><img src='imgs/wide-vs-long.svg' width=400></center>"
   ]
  },
  {
   "cell_type": "code",
   "execution_count": null,
   "id": "42761819",
   "metadata": {
    "deletable": true,
    "editable": true,
    "slideshow": {
     "slide_type": "skip"
    }
   },
   "outputs": [],
   "source": [
    "wide_example = pd.DataFrame({\n",
    "    'Year': [2001, 2002],\n",
    "    'Jan': [10, 130],\n",
    "    'Feb': [20, 200],\n",
    "    'Mar': [30, 340]\n",
    "}).set_index('Year')\n",
    "wide_example"
   ]
  },
  {
   "cell_type": "code",
   "execution_count": null,
   "id": "55a54715",
   "metadata": {
    "deletable": true,
    "editable": true,
    "slideshow": {
     "slide_type": "skip"
    }
   },
   "outputs": [],
   "source": [
    "wide_example.melt(ignore_index=False)"
   ]
  },
  {
   "cell_type": "markdown",
   "id": "30ae34d1",
   "metadata": {
    "deletable": true,
    "editable": true,
    "slideshow": {
     "slide_type": "slide"
    }
   },
   "source": [
    "## Merging 🚗\n",
    "\n",
    "---"
   ]
  },
  {
   "cell_type": "code",
   "execution_count": null,
   "id": "78917cd1",
   "metadata": {
    "deletable": true,
    "editable": true,
    "slideshow": {
     "slide_type": "slide"
    }
   },
   "outputs": [],
   "source": [
    "phones = pd.DataFrame().assign(\n",
    "    Model=['iPhone 16', 'iPhone 16 Pro Max', 'Samsung Galaxy S24 Ultra', 'Pixel 9 Pro'],\n",
    "    Price=[799, 1199, 1299, 999],\n",
    "    Screen=[6.1, 6.9, 6.8, 6.3]\n",
    ")\n",
    "inventory = pd.DataFrame().assign(\n",
    "    Handset=['iPhone 16 Pro Max', 'iPhone 16', 'Pixel 9 Pro', 'Pixel 9 Pro', 'iPhone 16', 'iPhone 15'],\n",
    "    Units=[50, 40, 10, 15, 100, 5],\n",
    "    Store=['Briarwood', 'Somerset', 'Arbor Hills', '12 Oaks', 'Briarwood', 'Oakland Mall']\n",
    ")"
   ]
  },
  {
   "cell_type": "markdown",
   "id": "3f6376b3",
   "metadata": {
    "deletable": true,
    "editable": true,
    "slideshow": {
     "slide_type": "slide"
    }
   },
   "source": [
    "### Example: Phone sales 📱"
   ]
  },
  {
   "cell_type": "code",
   "execution_count": null,
   "id": "90ebba1b",
   "metadata": {
    "deletable": true,
    "editable": true,
    "slideshow": {
     "slide_type": "-"
    }
   },
   "outputs": [],
   "source": [
    "# The DataFrame on the left contains information about phones on the market.\n",
    "# The DataFrame on the right contains information about the stock I have in my stores.\n",
    "dfs_side_by_side(phones, inventory)"
   ]
  },
  {
   "cell_type": "markdown",
   "id": "1858b9dc",
   "metadata": {
    "deletable": true,
    "editable": true,
    "slideshow": {
     "slide_type": "fragment"
    }
   },
   "source": [
    "- **Question**: If I sell all of the phones in my inventory, how much will I make in revenue?"
   ]
  },
  {
   "cell_type": "markdown",
   "id": "94721c8b",
   "metadata": {
    "deletable": true,
    "editable": true,
    "slideshow": {
     "slide_type": "fragment"
    }
   },
   "source": [
    "- The information I need to answer the question is spread across multiple DataFrames."
   ]
  },
  {
   "cell_type": "markdown",
   "id": "0663d6ed",
   "metadata": {
    "deletable": true,
    "editable": true,
    "slideshow": {
     "slide_type": "fragment"
    }
   },
   "source": [
    "- The solution is to **merge** the two DataFrames together horizontally.<br><small>The SQL term for merge is **join**.</small>"
   ]
  },
  {
   "cell_type": "markdown",
   "id": "f917694e",
   "metadata": {
    "deletable": true,
    "editable": true,
    "slideshow": {
     "slide_type": "fragment"
    }
   },
   "source": [
    "- A merge is appropriate when we have two sources of information **about the same individuals** that is **linked by a common column(s)**.<br>The common column(s) are called the **join key**.<br>"
   ]
  },
  {
   "cell_type": "markdown",
   "id": "053d0968",
   "metadata": {
    "deletable": true,
    "editable": true,
    "slideshow": {
     "slide_type": "slide"
    }
   },
   "source": [
    "### If I sell all of the phones in my inventory, how much will I make in revenue?"
   ]
  },
  {
   "cell_type": "code",
   "execution_count": null,
   "id": "13128901",
   "metadata": {
    "deletable": true,
    "editable": true
   },
   "outputs": [],
   "source": [
    "combined = ...\n",
    "combined"
   ]
  },
  {
   "cell_type": "code",
   "execution_count": null,
   "id": "cac5e2aa",
   "metadata": {
    "deletable": true,
    "editable": true
   },
   "outputs": [],
   "source": [
    "..."
   ]
  },
  {
   "cell_type": "markdown",
   "id": "39cf6b0d",
   "metadata": {
    "deletable": true,
    "editable": true,
    "slideshow": {
     "slide_type": "slide"
    }
   },
   "source": [
    "### What just happened!? 🤯"
   ]
  },
  {
   "cell_type": "code",
   "execution_count": null,
   "id": "c2f4dd82",
   "metadata": {
    "deletable": true,
    "editable": true
   },
   "outputs": [],
   "source": [
    "# Click through the presentation that appears.\n",
    "show_merging_animation()"
   ]
  },
  {
   "cell_type": "markdown",
   "id": "606c8598",
   "metadata": {
    "deletable": true,
    "editable": true,
    "slideshow": {
     "slide_type": "slide"
    }
   },
   "source": [
    "### The `merge` method"
   ]
  },
  {
   "cell_type": "markdown",
   "id": "9f030b92",
   "metadata": {
    "deletable": true,
    "editable": true,
    "slideshow": {
     "slide_type": "fragment"
    }
   },
   "source": [
    "- The `merge` DataFrame method joins two DataFrames by columns or indexes.<br><small>As mentioned before, \"merge\" is just the `pandas` word for \"join.\"</small>"
   ]
  },
  {
   "cell_type": "markdown",
   "id": "bf863207",
   "metadata": {
    "deletable": true,
    "editable": true,
    "slideshow": {
     "slide_type": "fragment"
    }
   },
   "source": [
    "- When using the `merge` method, the DataFrame before `merge` is the \"left\" DataFrame, and the DataFrame passed into `merge` is the \"right\" DataFrame.<br><small>In `phones.merge(inventory)`, `phones` is considered the \"left\" DataFrame and `inventory` is the \"right\" DataFrame.<br>The columns from the left DataFrame appear to the left of the columns from right DataFrame.</small>"
   ]
  },
  {
   "cell_type": "markdown",
   "id": "3eef38f9",
   "metadata": {
    "deletable": true,
    "editable": true,
    "slideshow": {
     "slide_type": "fragment"
    }
   },
   "source": [
    "- By default:\n",
    "    - If join keys are not specified, all shared columns between the two DataFrames are used.\n",
    "    - The \"type\" of join performed is an inner join, which is just one of many types of joins."
   ]
  },
  {
   "cell_type": "markdown",
   "id": "227fcb07",
   "metadata": {
    "deletable": true,
    "editable": true,
    "slideshow": {
     "slide_type": "slide"
    }
   },
   "source": [
    "### Inner joins"
   ]
  },
  {
   "cell_type": "markdown",
   "id": "cef4a6e2",
   "metadata": {
    "deletable": true,
    "editable": true,
    "slideshow": {
     "slide_type": "fragment"
    }
   },
   "source": [
    "- The default type of join that `merge` performs is an **inner join**, which keeps the **intersection** of the join keys.\n",
    "\n",
    "<center><img src='imgs/inner-joins.png' width=300></center>"
   ]
  },
  {
   "cell_type": "code",
   "execution_count": null,
   "id": "1fb394be",
   "metadata": {
    "deletable": true,
    "editable": true
   },
   "outputs": [],
   "source": [
    "# The DataFrame on the far right is the merged DataFrame.\n",
    "dfs_side_by_side(phones, inventory, phones.merge(inventory, left_on='Model', right_on='Handset'))"
   ]
  },
  {
   "cell_type": "markdown",
   "id": "2b9177f2",
   "metadata": {
    "deletable": true,
    "editable": true,
    "slideshow": {
     "slide_type": "fragment"
    }
   },
   "source": [
    "- Note that `'Samsung Galaxy S24 Ultra'` and `'iPhone 15'` do not appear in the merged DataFrame."
   ]
  },
  {
   "cell_type": "markdown",
   "id": "d323d3e3",
   "metadata": {
    "deletable": true,
    "editable": true,
    "slideshow": {
     "slide_type": "fragment"
    }
   },
   "source": [
    "- That's because there is no `'Samsung Galaxy S24 Ultra'` in the right DataFrame (`inventory`), and no `'iPhone 15'` in the left DataFrame (`phones`)."
   ]
  },
  {
   "cell_type": "markdown",
   "id": "c66c54c3",
   "metadata": {
    "deletable": true,
    "editable": true,
    "slideshow": {
     "slide_type": "slide"
    }
   },
   "source": [
    "### Other join types\n",
    "\n",
    "- We can change the type of join performed by changing the `how` argument in `merge`."
   ]
  },
  {
   "cell_type": "code",
   "execution_count": null,
   "id": "4a0d9958",
   "metadata": {
    "deletable": true,
    "editable": true
   },
   "outputs": [],
   "source": [
    "phones.merge(inventory, left_on='Model', right_on='Handset', how='left')"
   ]
  },
  {
   "cell_type": "code",
   "execution_count": null,
   "id": "a55e62f9",
   "metadata": {
    "deletable": true,
    "editable": true
   },
   "outputs": [],
   "source": [
    "phones.merge(inventory, left_on='Model', right_on='Handset', how='right')"
   ]
  },
  {
   "cell_type": "code",
   "execution_count": null,
   "id": "e783dcf3",
   "metadata": {
    "deletable": true,
    "editable": true
   },
   "outputs": [],
   "source": [
    "phones.merge(inventory, left_on='Model', right_on='Handset', how='outer')"
   ]
  },
  {
   "cell_type": "markdown",
   "id": "b67cdaa2",
   "metadata": {
    "deletable": true,
    "editable": true,
    "slideshow": {
     "slide_type": "fragment"
    }
   },
   "source": [
    "- The website [pandastutor.com](https://pandastutor.com) can help visualize DataFrame operations like these.<br>[**Here's a direct link**](https://pandastutor.com/vis.html#code=%23%20The%20code%20below%20just%20initializes%20the%0A%23%20phones%20and%20inventory%20DataFrames%20as%20we've%20seen%20them%0A%23%20in%20lecture.%0A%23%20---%0Aimport%20pandas%20as%20pd%0Aimport%20io%0A%0Aphones%20%3D%20pd.read_csv%28io.StringIO%28'''%0AModel,Price,Screen%0AiPhone%2016,799,6.1%0AiPhone%2016%20Pro%20Max,1199,6.9%0ASamsung%20Galaxy%20S24%20Ultra,1299,6.8%0APixel%209%20Pro,999,6.3%0A'''%29%29%0A%0Ainventory%20%3D%20pd.read_csv%28io.StringIO%28'''%0AHandset,Units,Store%0AiPhone%2016%20Pro%20Max,50,Briarwood%0AiPhone%2016,40,Somerset%0APixel%209%20Pro,10,Arbor%20Hills%0APixel%209%20Pro,15,12%20Oaks%0AiPhone%2016,100,Briarwood%0AiPhone%2015,5,Oakland%20Mall%0A'''%29%29%0A%0A%23%20---%0A%0A%23%20Below,%20uncomment%20the%20line%20that%20you'd%20like%20to%20visualize!%0A%23%20phones.merge%28inventory,%20left_on%3D'Model',%20right_on%3D'Handset',%20how%3D'inner'%29%0A%0Aphones.merge%28inventory,%20left_on%3D'Model',%20right_on%3D'Handset',%20how%3D'left'%29%0A%0A%23%20phones.merge%28inventory,%20left_on%3D'Model',%20right_on%3D'Handset',%20how%3D'right'%29%0A%0A%23%20phones.merge%28inventory,%20left_on%3D'Model',%20right_on%3D'Handset',%20how%3D'outer'%29&d=2024-09-11&lang=py&v=v1) to this specific example.\n",
    "\n",
    "<center><img src=\"imgs/pt-screenshot.png\" width=600></center>"
   ]
  },
  {
   "cell_type": "markdown",
   "id": "ab84024f",
   "metadata": {
    "deletable": true,
    "editable": true,
    "slideshow": {
     "slide_type": "slide"
    }
   },
   "source": [
    "### Different join types handle mismatches differently\n",
    "\n",
    "<center><img src='imgs/all-joins.png' width=400></center>"
   ]
  },
  {
   "cell_type": "markdown",
   "id": "8fcce750",
   "metadata": {
    "deletable": true,
    "editable": true,
    "slideshow": {
     "slide_type": "fragment"
    }
   },
   "source": [
    "- **Inner join**: Keep **only** the matching keys (intersection)."
   ]
  },
  {
   "cell_type": "markdown",
   "id": "8ff3f03e",
   "metadata": {
    "deletable": true,
    "editable": true,
    "slideshow": {
     "slide_type": "fragment"
    }
   },
   "source": [
    "- **Outer join**: Keep **all** keys in both DataFrames (union)."
   ]
  },
  {
   "cell_type": "markdown",
   "id": "57df6280",
   "metadata": {
    "deletable": true,
    "editable": true,
    "slideshow": {
     "slide_type": "fragment"
    }
   },
   "source": [
    "- **Left join**: Keep all keys in the left DataFrame, whether or not they are in the right DataFrame."
   ]
  },
  {
   "cell_type": "markdown",
   "id": "b906ef49",
   "metadata": {
    "deletable": true,
    "editable": true,
    "slideshow": {
     "slide_type": "fragment"
    }
   },
   "source": [
    "- **Right join**: Keep all keys in the right DataFrame, whether or not they are in the left DataFrame.<br><small> Note that `a.merge(b, how='left')` contains the same information as `b.merge(a, how='right')`, just in a different order.</small>"
   ]
  },
  {
   "cell_type": "markdown",
   "id": "1a04865e",
   "metadata": {
    "deletable": true,
    "editable": true,
    "slideshow": {
     "slide_type": "slide"
    }
   },
   "source": [
    "### Tip: Set differences"
   ]
  },
  {
   "cell_type": "markdown",
   "id": "f05bfb11",
   "metadata": {
    "deletable": true,
    "editable": true,
    "slideshow": {
     "slide_type": "fragment"
    }
   },
   "source": [
    "- A set in Python is a data structure containing **unique**, **unordered** elements."
   ]
  },
  {
   "cell_type": "code",
   "execution_count": null,
   "id": "192d93a9",
   "metadata": {
    "deletable": true,
    "editable": true
   },
   "outputs": [],
   "source": [
    "phones['Model']"
   ]
  },
  {
   "cell_type": "code",
   "execution_count": null,
   "id": "8d2d5dbb",
   "metadata": {
    "deletable": true,
    "editable": true
   },
   "outputs": [],
   "source": [
    "left = set(phones['Model'])\n",
    "left"
   ]
  },
  {
   "cell_type": "code",
   "execution_count": null,
   "id": "25e32e7d",
   "metadata": {
    "deletable": true,
    "editable": true
   },
   "outputs": [],
   "source": [
    "inventory['Handset']"
   ]
  },
  {
   "cell_type": "code",
   "execution_count": null,
   "id": "ac2cd970",
   "metadata": {
    "deletable": true,
    "editable": true
   },
   "outputs": [],
   "source": [
    "right = set(inventory['Handset'])\n",
    "right"
   ]
  },
  {
   "cell_type": "markdown",
   "id": "6adbd994",
   "metadata": {
    "deletable": true,
    "editable": true,
    "slideshow": {
     "slide_type": "fragment"
    }
   },
   "source": [
    "- To quickly check _which_ join key values are in the left DataFrame but not the right, or vice versa, create sets out of the join keys and use the `difference` method."
   ]
  },
  {
   "cell_type": "code",
   "execution_count": null,
   "id": "8dadb5df",
   "metadata": {
    "deletable": true,
    "editable": true
   },
   "outputs": [],
   "source": [
    "..."
   ]
  },
  {
   "cell_type": "code",
   "execution_count": null,
   "id": "f5e5bef0",
   "metadata": {
    "deletable": true,
    "editable": true
   },
   "outputs": [],
   "source": [
    "..."
   ]
  },
  {
   "cell_type": "markdown",
   "id": "8c5adb04",
   "metadata": {
    "deletable": true,
    "editable": true,
    "slideshow": {
     "slide_type": "skip"
    }
   },
   "source": [
    "<div class=\"alert alert-danger\" markdown=\"1\">\n",
    "\n",
    "#### Reference Slide\n",
    "\n",
    "### Notes on the `merge` method"
   ]
  },
  {
   "cell_type": "markdown",
   "id": "a12b8261",
   "metadata": {
    "deletable": true,
    "editable": true,
    "slideshow": {
     "slide_type": "skip"
    }
   },
   "source": [
    "- `merge` is flexible – you can merge using a combination of columns, or the index of the DataFrame."
   ]
  },
  {
   "cell_type": "markdown",
   "id": "0ad87f7e",
   "metadata": {
    "deletable": true,
    "editable": true,
    "slideshow": {
     "slide_type": "skip"
    }
   },
   "source": [
    "-  If the two DataFrames have the same column names, `pandas` will add `_x` and `_y` to the duplicated column names to avoid having columns with the same name (change these the `suffixes` argument)."
   ]
  },
  {
   "cell_type": "markdown",
   "id": "bc1914dd",
   "metadata": {
    "deletable": true,
    "editable": true,
    "slideshow": {
     "slide_type": "skip"
    }
   },
   "source": [
    "- There is, in fact, a `join` method, but it's actually a wrapper around `merge` with fewer options."
   ]
  },
  {
   "cell_type": "markdown",
   "id": "4b42a27d",
   "metadata": {
    "deletable": true,
    "editable": true,
    "slideshow": {
     "slide_type": "skip"
    }
   },
   "source": [
    "- **As always, the [documentation](https://pandas.pydata.org/docs/reference/api/pandas.DataFrame.merge.html) is your friend!**"
   ]
  },
  {
   "cell_type": "markdown",
   "id": "df88ca50",
   "metadata": {
    "deletable": true,
    "editable": true,
    "slideshow": {
     "slide_type": "skip"
    }
   },
   "source": [
    "<div class=\"alert alert-danger\" markdown=\"1\">\n",
    "\n",
    "#### Reference Slide\n",
    "\n",
    "### Lots of `pandas` operations do an implicit outer join!"
   ]
  },
  {
   "cell_type": "markdown",
   "id": "338499d5",
   "metadata": {
    "deletable": true,
    "editable": true,
    "slideshow": {
     "slide_type": "skip"
    }
   },
   "source": [
    "- `pandas` will almost always try to match up index values using an outer join."
   ]
  },
  {
   "cell_type": "markdown",
   "id": "9bfc9cd4",
   "metadata": {
    "deletable": true,
    "editable": true,
    "slideshow": {
     "slide_type": "skip"
    }
   },
   "source": [
    "- It won't tell you that it's doing an outer join, it'll just throw `NaN`s in your result!"
   ]
  },
  {
   "cell_type": "code",
   "execution_count": null,
   "id": "2c26606e",
   "metadata": {
    "deletable": true,
    "editable": true,
    "slideshow": {
     "slide_type": "skip"
    }
   },
   "outputs": [],
   "source": [
    "df1 = pd.DataFrame({'a': [1, 2, 3]}, index=['hello', 'eecs398', 'students'])\n",
    "df2 = pd.DataFrame({'b': [10, 20, 30]}, index=['eecs398', 'is', 'awesome'])\n",
    "dfs_side_by_side(df1, df2)"
   ]
  },
  {
   "cell_type": "code",
   "execution_count": null,
   "id": "f012d46b",
   "metadata": {
    "deletable": true,
    "editable": true,
    "slideshow": {
     "slide_type": "skip"
    }
   },
   "outputs": [],
   "source": [
    "df1['a'] + df2['b']"
   ]
  },
  {
   "cell_type": "markdown",
   "id": "1177eef4",
   "metadata": {
    "deletable": true,
    "editable": true,
    "slideshow": {
     "slide_type": "slide"
    }
   },
   "source": [
    "### Activity setup"
   ]
  },
  {
   "cell_type": "code",
   "execution_count": null,
   "id": "c57206d1",
   "metadata": {
    "deletable": true,
    "editable": true
   },
   "outputs": [],
   "source": [
    "midwest_cities = pd.DataFrame().assign(\n",
    "    city=['Ann Arbor', 'Detroit', 'Chicago', 'East Lansing'],\n",
    "    state=['Michigan', 'Michigan', 'Illinois', 'Michigan'],\n",
    "    today_high_temp=['79', '83', '87', '87']\n",
    ")\n",
    "schools = pd.DataFrame().assign(\n",
    "    name=['University of Michigan', 'University of Chicago', 'Wayne State University', 'Johns Hopkins University', 'UC San Diego', 'Concordia U-Ann Arbor', 'Michigan State University'], \n",
    "    city=['Ann Arbor', 'Chicago', 'Detroit', 'Baltimore', 'La Jolla', 'Ann Arbor', 'East Lansing'],\n",
    "    state=['Michigan', 'Illinois', 'Michigan', 'Maryland', 'California', 'Michigan', 'Michigan'],\n",
    "    graduation_rate=[0.87, 0.94, 0.78, 0.92, 0.81, 0.83, 0.91]\n",
    ")"
   ]
  },
  {
   "cell_type": "markdown",
   "id": "d3e6f6cf",
   "metadata": {
    "deletable": true,
    "editable": true,
    "slideshow": {
     "slide_type": "slide"
    }
   },
   "source": [
    "<div class=\"alert alert-warning\">\n",
    "    <h3>Question 🤔 (Answer at <a style=\"text-decoration: none; color: #0066cc\" href=\"https://docs.google.com/forms/d/e/1FAIpQLSd4oliiZYeNh76jWy-arfEtoAkCrVSsobZxPwxifWggo3EO0Q/viewform\">practicaldsc.org/q</a>)</h3>\n",
    "    \n",
    "<small>Remember that you can always ask questions anonymously at the link above!</small>\n",
    "\n",
    "**Without writing code**, how many rows are in `midwest_cities.merge(schools, on='city')`?\n",
    "\n",
    "<br>\n",
    "    \n",
    "<center>\n",
    "A. <b>4</b> &nbsp;&nbsp;&nbsp;&nbsp;&nbsp;&nbsp;&nbsp;&nbsp;    B. <b>5</b> &nbsp;&nbsp;&nbsp;&nbsp;&nbsp;&nbsp;&nbsp;&nbsp;    C. <b>6</b> &nbsp;&nbsp;&nbsp;&nbsp;&nbsp;&nbsp;&nbsp;&nbsp;    D. <b>7</b> &nbsp;&nbsp;&nbsp;&nbsp;&nbsp;&nbsp;&nbsp;&nbsp;    E. <b>8</b></center>"
   ]
  },
  {
   "cell_type": "code",
   "execution_count": null,
   "id": "fb5186c6",
   "metadata": {
    "deletable": true,
    "editable": true
   },
   "outputs": [],
   "source": [
    "dfs_side_by_side(midwest_cities, schools)"
   ]
  },
  {
   "cell_type": "code",
   "execution_count": null,
   "id": "a3376b63",
   "metadata": {
    "deletable": true,
    "editable": true
   },
   "outputs": [],
   "source": [
    "..."
   ]
  },
  {
   "cell_type": "code",
   "execution_count": null,
   "id": "37250d72",
   "metadata": {
    "deletable": true,
    "editable": true
   },
   "outputs": [],
   "source": []
  },
  {
   "cell_type": "markdown",
   "id": "aad6ee4e",
   "metadata": {
    "deletable": true,
    "editable": true,
    "slideshow": {
     "slide_type": "slide"
    }
   },
   "source": [
    "### Followup activity\n",
    "\n",
    "**Without writing code**, how many rows are in `midwest_cities.merge(schools, on='state')`?"
   ]
  },
  {
   "cell_type": "code",
   "execution_count": null,
   "id": "fb4b6a67",
   "metadata": {
    "deletable": true,
    "editable": true
   },
   "outputs": [],
   "source": [
    "dfs_side_by_side(midwest_cities, schools)"
   ]
  },
  {
   "cell_type": "code",
   "execution_count": null,
   "id": "d40394f1",
   "metadata": {
    "deletable": true,
    "editable": true
   },
   "outputs": [],
   "source": [
    "..."
   ]
  },
  {
   "cell_type": "code",
   "execution_count": null,
   "id": "28cf8eba",
   "metadata": {
    "deletable": true,
    "editable": true
   },
   "outputs": [],
   "source": []
  },
  {
   "cell_type": "markdown",
   "id": "afcff236",
   "metadata": {
    "deletable": true,
    "editable": true,
    "slideshow": {
     "slide_type": "slide"
    }
   },
   "source": [
    "### The butterfly method 🦋"
   ]
  },
  {
   "cell_type": "markdown",
   "id": "33b94e0f",
   "metadata": {
    "deletable": true,
    "editable": true,
    "slideshow": {
     "slide_type": "fragment"
    }
   },
   "source": [
    "- A common exam-style question is to determine the number of rows that result from merging two DataFrames, <br>especially when **there are duplicate values in the join keys** (the columns being merged)."
   ]
  },
  {
   "cell_type": "markdown",
   "id": "2eb8131f",
   "metadata": {
    "deletable": true,
    "editable": true,
    "slideshow": {
     "slide_type": "fragment"
    }
   },
   "source": [
    "- In these questions, use the butterfly method, which says:\n",
    "\n",
    "> Suppose $x_1, x_2, ..., x_n$ are the **overlapping** values between the join keys of the left DataFrame, `L`, and the right DataFrame, `R`.\n",
    "> Then, the number of rows in an **inner merge** between `L` and `R` is:\n",
    "<br>\n",
    "> $$\\text{count}_{L}(x_1) \\cdot \\text{count}_{R}(x_1) + \\text{count}_{L}(x_2) \\cdot \\text{count}_{R}(x_2) + ... + \\text{count}_{L}(x_n) \\cdot \\text{count}_{R}(x_n) \\\\ = \\sum_{i=1}^n \\text{count}_L(x_i) \\cdot \\text{count}_R(x_i)$$"
   ]
  },
  {
   "cell_type": "markdown",
   "id": "c2b854ff",
   "metadata": {
    "deletable": true,
    "editable": true,
    "slideshow": {
     "slide_type": "fragment"
    }
   },
   "source": [
    "- We used this method to answer the question on the previous slide!<br>It's called the butterly method because when lines are drawn between the overlapping rows, the result resembles a butterfly (see the posted annotated slides)."
   ]
  },
  {
   "cell_type": "markdown",
   "id": "c6acf3da",
   "metadata": {
    "deletable": true,
    "editable": true,
    "slideshow": {
     "slide_type": "fragment"
    }
   },
   "source": [
    "- The formula above may seem complicated, but it's a direct consequence of the merging animation we saw earlier."
   ]
  },
  {
   "cell_type": "code",
   "execution_count": null,
   "id": "f6f5de45",
   "metadata": {
    "deletable": true,
    "editable": true
   },
   "outputs": [],
   "source": [
    "show_merging_animation()"
   ]
  },
  {
   "cell_type": "markdown",
   "id": "ee2e0fe1",
   "metadata": {
    "deletable": true,
    "editable": true,
    "slideshow": {
     "slide_type": "fragment"
    }
   },
   "source": [
    "- You'll get lots of practice with related problems in this week's discussion worksheet."
   ]
  },
  {
   "cell_type": "markdown",
   "id": "29de826c",
   "metadata": {
    "deletable": true,
    "editable": true,
    "slideshow": {
     "slide_type": "slide"
    }
   },
   "source": [
    "<div class=\"alert alert-warning\">\n",
    "    <h3>Question 🤔 (Answer at <a style=\"text-decoration: none; color: #0066cc\" href=\"https://docs.google.com/forms/d/e/1FAIpQLSd4oliiZYeNh76jWy-arfEtoAkCrVSsobZxPwxifWggo3EO0Q/viewform\">practicaldsc.org/q</a>)</h3>\n",
    "    \n",
    "<small>Remember that you can always ask questions anonymously at the link above!</small>\n",
    "\n",
    "What questions do you have?"
   ]
  },
  {
   "cell_type": "markdown",
   "id": "50377f38",
   "metadata": {
    "deletable": true,
    "editable": true,
    "slideshow": {
     "slide_type": "slide"
    }
   },
   "source": [
    "## Transforming 🤖\n",
    "\n",
    "---"
   ]
  },
  {
   "cell_type": "markdown",
   "id": "fdab72db",
   "metadata": {
    "deletable": true,
    "editable": true,
    "slideshow": {
     "slide_type": "slide"
    }
   },
   "source": [
    "### Loading the data 🏦"
   ]
  },
  {
   "cell_type": "markdown",
   "id": "aa62f17f",
   "metadata": {
    "deletable": true,
    "editable": true,
    "slideshow": {
     "slide_type": "fragment"
    }
   },
   "source": [
    "- [LendingClub](https://www.lendingclub.com/) is a platform that allows individuals to borrow money – that is, take on **loans**."
   ]
  },
  {
   "cell_type": "markdown",
   "id": "3299bcab",
   "metadata": {
    "deletable": true,
    "editable": true,
    "slideshow": {
     "slide_type": "fragment"
    }
   },
   "source": [
    "- For the next 1.5 lectures, we will work with data from their platform.<br>Each row of the dataset corresponds to a different loan that the LendingClub approved and paid out.<br><small>The full dataset is over 300 MB, so we've sampled a subset for this lecture.</small>"
   ]
  },
  {
   "cell_type": "code",
   "execution_count": null,
   "id": "4f692762",
   "metadata": {
    "deletable": true,
    "editable": true
   },
   "outputs": [],
   "source": [
    "loans = pd.read_csv('data/loans.csv')"
   ]
  },
  {
   "cell_type": "code",
   "execution_count": null,
   "id": "9d597831",
   "metadata": {
    "deletable": true,
    "editable": true
   },
   "outputs": [],
   "source": [
    "# Each time you run this cell, you'll see a different random subset of the DataFrame.\n",
    "loans.sample(5)"
   ]
  },
  {
   "cell_type": "code",
   "execution_count": null,
   "id": "63604c75",
   "metadata": {
    "deletable": true,
    "editable": true
   },
   "outputs": [],
   "source": [
    "# When a DataFrame has more columns than you can see in its preview,\n",
    "# it's a good idea to check the names of all columns.\n",
    "loans.columns"
   ]
  },
  {
   "cell_type": "markdown",
   "id": "28cd6507",
   "metadata": {
    "deletable": true,
    "editable": true,
    "slideshow": {
     "slide_type": "fragment"
    }
   },
   "source": [
    "- Not all of the columns are necessarily interesting, but here are some that might be:\n",
    "<br><small>FICO scores refer to credit scores.</small>"
   ]
  },
  {
   "cell_type": "code",
   "execution_count": null,
   "id": "64744fa7",
   "metadata": {
    "deletable": true,
    "editable": true
   },
   "outputs": [],
   "source": [
    "# Again, run this a few times to get a sense of the typical values.\n",
    "loans[['loan_amnt', 'issue_d', 'term', 'int_rate', 'emp_title', 'fico_range_low']].sample(5)"
   ]
  },
  {
   "cell_type": "markdown",
   "id": "f4c59184",
   "metadata": {
    "deletable": true,
    "editable": true,
    "slideshow": {
     "slide_type": "slide"
    }
   },
   "source": [
    "### Transformations"
   ]
  },
  {
   "cell_type": "markdown",
   "id": "49726136",
   "metadata": {
    "deletable": true,
    "editable": true,
    "slideshow": {
     "slide_type": "fragment"
    }
   },
   "source": [
    "- A **transformation** results from performing some operation on every element in a sequence, e.g. a Series.\n"
   ]
  },
  {
   "cell_type": "markdown",
   "id": "1f99cacf",
   "metadata": {
    "deletable": true,
    "editable": true,
    "slideshow": {
     "slide_type": "fragment"
    }
   },
   "source": [
    "- When **cleaning** data to prepare it for analysis, we often need to:\n",
    "    - Perform type conversions (e.g. changing the string `'$2.99'` to the float `2.99`).\n",
    "    - Perform unit conversions (e.g. feet to meters).\n",
    "    - Extract relevant information from strings."
   ]
  },
  {
   "cell_type": "markdown",
   "id": "b989141b",
   "metadata": {
    "deletable": true,
    "editable": true,
    "slideshow": {
     "slide_type": "fragment"
    }
   },
   "source": [
    "- For example, we can't currently use the `'term'` column to do any calculations, since its values are stored as strings (despite being numerical)."
   ]
  },
  {
   "cell_type": "code",
   "execution_count": null,
   "id": "552edb77",
   "metadata": {
    "deletable": true,
    "editable": true
   },
   "outputs": [],
   "source": [
    "loans['term']"
   ]
  },
  {
   "cell_type": "markdown",
   "id": "10055242",
   "metadata": {
    "deletable": true,
    "editable": true,
    "slideshow": {
     "slide_type": "fragment"
    }
   },
   "source": [
    "- Many of the values in `'emp_title'` are stored inconsistently, meaning they mean the same thing, but appear differently. Without further cleaning, this would make it harder to, for example, find the total number of nurses that were given loans."
   ]
  },
  {
   "cell_type": "code",
   "execution_count": null,
   "id": "5a1bbff5",
   "metadata": {
    "deletable": true,
    "editable": true
   },
   "outputs": [],
   "source": [
    "(loans['emp_title'] == 'registered nurse').sum() "
   ]
  },
  {
   "cell_type": "code",
   "execution_count": null,
   "id": "180a6486",
   "metadata": {
    "deletable": true,
    "editable": true
   },
   "outputs": [],
   "source": [
    "(loans['emp_title'] == 'nurse').sum() "
   ]
  },
  {
   "cell_type": "code",
   "execution_count": null,
   "id": "4cbf0f9f",
   "metadata": {
    "deletable": true,
    "editable": true
   },
   "outputs": [],
   "source": [
    "(loans['emp_title'] == 'rn').sum() "
   ]
  },
  {
   "cell_type": "markdown",
   "id": "93f1f06d",
   "metadata": {
    "deletable": true,
    "editable": true,
    "slideshow": {
     "slide_type": "slide"
    }
   },
   "source": [
    "### One solution: The `apply` method"
   ]
  },
  {
   "cell_type": "markdown",
   "id": "7334cbfa",
   "metadata": {
    "deletable": true,
    "editable": true,
    "slideshow": {
     "slide_type": "fragment"
    }
   },
   "source": [
    "- The Series `apply` method allows us to use a function on every element in a Series."
   ]
  },
  {
   "cell_type": "code",
   "execution_count": null,
   "id": "4b17dca9",
   "metadata": {
    "deletable": true,
    "editable": true
   },
   "outputs": [],
   "source": [
    "def clean_term(term_string):\n",
    "    ..."
   ]
  },
  {
   "cell_type": "code",
   "execution_count": null,
   "id": "38180336",
   "metadata": {
    "deletable": true,
    "editable": true
   },
   "outputs": [],
   "source": [
    "loans['term'].apply(clean_term) "
   ]
  },
  {
   "cell_type": "markdown",
   "id": "165856bc",
   "metadata": {
    "deletable": true,
    "editable": true,
    "slideshow": {
     "slide_type": "fragment"
    }
   },
   "source": [
    "- There is also an `apply` method for DataFrames, in which you can use a function on every row (if you set `axis=1`) or every column (if you set `axis=0`) of a DataFrame."
   ]
  },
  {
   "cell_type": "markdown",
   "id": "2b5266ea",
   "metadata": {
    "deletable": true,
    "editable": true,
    "slideshow": {
     "slide_type": "fragment"
    }
   },
   "source": [
    "- There is also an `apply` method for DataFrameGroupBy/SeriesGroupBy objects, as we discovered last class."
   ]
  },
  {
   "cell_type": "markdown",
   "id": "572458d8",
   "metadata": {
    "deletable": true,
    "editable": true,
    "slideshow": {
     "slide_type": "slide"
    }
   },
   "source": [
    "### The price of `apply`"
   ]
  },
  {
   "cell_type": "markdown",
   "id": "9a48fa68",
   "metadata": {
    "deletable": true,
    "editable": true,
    "slideshow": {
     "slide_type": "fragment"
    }
   },
   "source": [
    "- Unfortunately, `apply` runs really slowly – internally, it just runs a `for`-loop."
   ]
  },
  {
   "cell_type": "code",
   "execution_count": null,
   "id": "3675817d",
   "metadata": {
    "deletable": true,
    "editable": true
   },
   "outputs": [],
   "source": [
    "%%timeit\n",
    "loans['term'].apply(clean_term)"
   ]
  },
  {
   "cell_type": "code",
   "execution_count": null,
   "id": "afbaf676",
   "metadata": {
    "deletable": true,
    "editable": true
   },
   "outputs": [],
   "source": [
    "%%timeit\n",
    "res = []\n",
    "for term in loans['term']:\n",
    "    res.append(clean_term(term))"
   ]
  },
  {
   "cell_type": "markdown",
   "id": "130780e9",
   "metadata": {
    "deletable": true,
    "editable": true,
    "slideshow": {
     "slide_type": "fragment"
    }
   },
   "source": [
    "- So, when possible – say, **when applying arithmetic operations** – we should work on Series objects directly and avoid `apply`."
   ]
  },
  {
   "cell_type": "code",
   "execution_count": null,
   "id": "428a50ad",
   "metadata": {
    "deletable": true,
    "editable": true
   },
   "outputs": [],
   "source": [
    "%%timeit\n",
    "loans['int_rate'] // 10 * 10 # Rounds down to the nearest multiple of 10."
   ]
  },
  {
   "cell_type": "code",
   "execution_count": null,
   "id": "212d627b",
   "metadata": {
    "deletable": true,
    "editable": true
   },
   "outputs": [],
   "source": [
    "%%timeit\n",
    "loans['int_rate'].apply(lambda y: y // 10 * 10)"
   ]
  },
  {
   "cell_type": "markdown",
   "id": "7c4ca306",
   "metadata": {
    "deletable": true,
    "editable": true,
    "slideshow": {
     "slide_type": "fragment"
    }
   },
   "source": [
    "- Above, the solution involving `apply` is ~10x slower than the one that uses direct vectorized operations."
   ]
  },
  {
   "cell_type": "markdown",
   "id": "019f50f8",
   "metadata": {
    "deletable": true,
    "editable": true,
    "slideshow": {
     "slide_type": "slide"
    }
   },
   "source": [
    "### The `.str` accessor"
   ]
  },
  {
   "cell_type": "markdown",
   "id": "d42d2ded",
   "metadata": {
    "deletable": true,
    "editable": true,
    "slideshow": {
     "slide_type": "fragment"
    }
   },
   "source": [
    "- For string operations, `pandas` provides a convenient `.str` accessor.<br><small>You've seen examples of it in practice already, with `.str.contains`."
   ]
  },
  {
   "cell_type": "markdown",
   "id": "033113d8",
   "metadata": {
    "deletable": true,
    "editable": true,
    "slideshow": {
     "slide_type": "fragment"
    }
   },
   "source": [
    "- Mental model: the <span style=\"color:orange\">operation that comes after</span> `.str` is used on every element of <span style=\"color:blue\">the Series that comes before</span> `.str`.\n",
    "\n",
    "<br>\n",
    "<center><code><span style=\"color:blue\">s</span>.str.<span style=\"color:orange\">operation</span></code></center>"
   ]
  },
  {
   "cell_type": "code",
   "execution_count": null,
   "id": "309b1a1b",
   "metadata": {
    "deletable": true,
    "editable": true
   },
   "outputs": [],
   "source": [
    "# Here, we use .split() on every string in loans['term'].\n",
    "..."
   ]
  },
  {
   "cell_type": "code",
   "execution_count": null,
   "id": "ed961c87",
   "metadata": {
    "deletable": true,
    "editable": true
   },
   "outputs": [],
   "source": [
    "..."
   ]
  },
  {
   "cell_type": "markdown",
   "id": "e15f4555",
   "metadata": {
    "deletable": true,
    "editable": true,
    "slideshow": {
     "slide_type": "fragment"
    }
   },
   "source": [
    "- One might think that it's quicker than `apply`, but it's actually even slower.<br>But, we still use it in practice since it allows us to write concise code."
   ]
  },
  {
   "cell_type": "markdown",
   "id": "0304779d",
   "metadata": {
    "deletable": true,
    "editable": true,
    "slideshow": {
     "slide_type": "slide"
    }
   },
   "source": [
    "### Creating timestamps ⏱️"
   ]
  },
  {
   "cell_type": "markdown",
   "id": "863abf63",
   "metadata": {
    "deletable": true,
    "editable": true,
    "slideshow": {
     "slide_type": "fragment"
    }
   },
   "source": [
    "- When dealing with values containing dates and times, it's good practice to convert the values to \"timestamp\" objects."
   ]
  },
  {
   "cell_type": "code",
   "execution_count": null,
   "id": "60f811c6",
   "metadata": {
    "deletable": true,
    "editable": true
   },
   "outputs": [],
   "source": [
    "# Stored as strings.\n",
    "loans['issue_d']"
   ]
  },
  {
   "cell_type": "markdown",
   "id": "76888b06",
   "metadata": {
    "deletable": true,
    "editable": true,
    "slideshow": {
     "slide_type": "fragment"
    }
   },
   "source": [
    "- To do so, we use the `pd.to_datetime` function.<br><small>It takes in a date format string; you can see examples of how they work [**here**](https://docs.python.org/3/library/datetime.html#strftime-and-strptime-behavior).</small>"
   ]
  },
  {
   "cell_type": "code",
   "execution_count": null,
   "id": "5f852c21",
   "metadata": {
    "deletable": true,
    "editable": true,
    "scrolled": true
   },
   "outputs": [],
   "source": [
    "..."
   ]
  },
  {
   "cell_type": "markdown",
   "id": "9f299cdf",
   "metadata": {
    "deletable": true,
    "editable": true,
    "slideshow": {
     "slide_type": "slide"
    }
   },
   "source": [
    "### Aside: The `pipe` method🚰"
   ]
  },
  {
   "cell_type": "markdown",
   "id": "9f700a34",
   "metadata": {
    "deletable": true,
    "editable": true,
    "slideshow": {
     "slide_type": "fragment"
    }
   },
   "source": [
    "- There are a few steps we've performed to clean up our dataset.\n",
    "    - Convert loan `'term'`s to integers.\n",
    "    - Convert loan issue dates, `'issue_d'`s, to timestamps."
   ]
  },
  {
   "cell_type": "markdown",
   "id": "649d9eb2",
   "metadata": {
    "deletable": true,
    "editable": true,
    "slideshow": {
     "slide_type": "fragment"
    }
   },
   "source": [
    "- When we manipulate DataFrames, it's best to define individual functions for each step, then use the `pipe` **method** to chain them all together.<br><small>The `pipe` method takes in a function that maps $\\texttt{DataFrame} \\rightarrow \\texttt{anything}$, but typically $\\texttt{anything}$ is a $\\texttt{DataFrame}$.</small>"
   ]
  },
  {
   "cell_type": "code",
   "execution_count": null,
   "id": "5374b020",
   "metadata": {
    "deletable": true,
    "editable": true
   },
   "outputs": [],
   "source": [
    "def clean_term_column(df):\n",
    "    return df.assign(\n",
    "        term=df['term'].str.split().str[0].astype(int)\n",
    "    )\n",
    "def clean_date_column(df):\n",
    "    return (\n",
    "        df\n",
    "        .assign(date=pd.to_datetime(df['issue_d'], format='%b-%Y'))\n",
    "        .drop(columns=['issue_d'])\n",
    "    )"
   ]
  },
  {
   "cell_type": "code",
   "execution_count": null,
   "id": "3dbe9836",
   "metadata": {
    "deletable": true,
    "editable": true
   },
   "outputs": [],
   "source": [
    "..."
   ]
  },
  {
   "cell_type": "code",
   "execution_count": null,
   "id": "2e5d0c83",
   "metadata": {
    "deletable": true,
    "editable": true
   },
   "outputs": [],
   "source": [
    "# Same as above, just way harder to read and write.\n",
    "..."
   ]
  },
  {
   "cell_type": "markdown",
   "id": "1b52d00d",
   "metadata": {
    "deletable": true,
    "editable": true,
    "slideshow": {
     "slide_type": "slide"
    }
   },
   "source": [
    "### Working with timestamps"
   ]
  },
  {
   "cell_type": "markdown",
   "id": "c24743c4",
   "metadata": {
    "deletable": true,
    "editable": true,
    "slideshow": {
     "slide_type": "fragment"
    }
   },
   "source": [
    "- We often want to adjust the granularity of timestamps to see overall trends, or seasonality."
   ]
  },
  {
   "cell_type": "markdown",
   "id": "8308cb41",
   "metadata": {
    "deletable": true,
    "editable": true,
    "slideshow": {
     "slide_type": "fragment"
    }
   },
   "source": [
    "- To do so, use the `resample` DataFrame method ([documentation](https://pandas.pydata.org/pandas-docs/stable/user_guide/timeseries.html#dateoffset-objects)).<br><small>Think of it like a version of `groupby`, but for timestamps.</small>"
   ]
  },
  {
   "cell_type": "code",
   "execution_count": null,
   "id": "b3f002bf",
   "metadata": {
    "deletable": true,
    "editable": true
   },
   "outputs": [],
   "source": [
    "# This shows us the average interest rate given out to loans in every 6 month interval.\n",
    "..."
   ]
  },
  {
   "cell_type": "markdown",
   "id": "eb726c5f",
   "metadata": {
    "deletable": true,
    "editable": true,
    "slideshow": {
     "slide_type": "fragment"
    }
   },
   "source": [
    "- We can also do arithmetic with timestamps."
   ]
  },
  {
   "cell_type": "code",
   "execution_count": null,
   "id": "3e126194",
   "metadata": {
    "deletable": true,
    "editable": true
   },
   "outputs": [],
   "source": [
    "# Not meaningful in this example, but possible.\n",
    "loans['date'].diff() "
   ]
  },
  {
   "cell_type": "code",
   "execution_count": null,
   "id": "9500abd8",
   "metadata": {
    "deletable": true,
    "editable": true
   },
   "outputs": [],
   "source": [
    "# If each loan was for 60 months,\n",
    "# this is a Series of when they'd end.\n",
    "# Unfortunately, pd.DateOffset isn't vectorized, so\n",
    "# if you'd want to use a different month offset for each row\n",
    "# (like we'd need to, since some loans are 36 months\n",
    "# and some are 60 months), you'd need to use `.apply`.\n",
    "loans['date'] + pd.DateOffset(months=60) "
   ]
  },
  {
   "cell_type": "markdown",
   "id": "4c2e3b74",
   "metadata": {
    "deletable": true,
    "editable": true,
    "slideshow": {
     "slide_type": "slide"
    }
   },
   "source": [
    "### The `.dt` accessor"
   ]
  },
  {
   "cell_type": "markdown",
   "id": "56eb5fce",
   "metadata": {
    "deletable": true,
    "editable": true,
    "slideshow": {
     "slide_type": "fragment"
    }
   },
   "source": [
    "- Like with Series of strings, Series of timestamps have a `.dt` accessor for properties of timestamps ([documentation](https://pandas.pydata.org/docs/user_guide/basics.html#basics-dt-accessors))."
   ]
  },
  {
   "cell_type": "code",
   "execution_count": null,
   "id": "62b8ac47",
   "metadata": {
    "deletable": true,
    "editable": true
   },
   "outputs": [],
   "source": [
    "loans['date'].dt.year"
   ]
  },
  {
   "cell_type": "code",
   "execution_count": null,
   "id": "65819072",
   "metadata": {
    "deletable": true,
    "editable": true
   },
   "outputs": [],
   "source": [
    "loans['date'].dt.month"
   ]
  },
  {
   "cell_type": "markdown",
   "id": "768d5d75",
   "metadata": {
    "deletable": true,
    "editable": true,
    "slideshow": {
     "slide_type": "fragment"
    }
   },
   "source": [
    "- You'll use this in Homework 3!"
   ]
  },
  {
   "cell_type": "markdown",
   "id": "a8c477dc",
   "metadata": {
    "deletable": true,
    "editable": true,
    "slideshow": {
     "slide_type": "slide"
    }
   },
   "source": [
    "### What's next?"
   ]
  },
  {
   "cell_type": "markdown",
   "id": "a50ee573",
   "metadata": {
    "deletable": true,
    "editable": true,
    "slideshow": {
     "slide_type": "fragment"
    }
   },
   "source": [
    "- What is \"exploratory data analysis\" and how do we do it?"
   ]
  },
  {
   "cell_type": "markdown",
   "id": "86b4171d",
   "metadata": {
    "deletable": true,
    "editable": true,
    "slideshow": {
     "slide_type": "fragment"
    }
   },
   "source": [
    "- How do we deal with missing, or null, values?"
   ]
  },
  {
   "cell_type": "markdown",
   "id": "a5e9b9ed",
   "metadata": {
    "deletable": true,
    "editable": true,
    "slideshow": {
     "slide_type": "fragment"
    }
   },
   "source": [
    "- How do we create data visualizations in Python?"
   ]
  }
 ],
 "metadata": {
  "celltoolbar": "None",
  "kernelspec": {
   "display_name": "Python 3 (ipykernel)",
   "language": "python",
   "name": "python3"
  },
  "language_info": {
   "codemirror_mode": {
    "name": "ipython",
    "version": 3
   },
   "file_extension": ".py",
   "mimetype": "text/x-python",
   "name": "python",
   "nbconvert_exporter": "python",
   "pygments_lexer": "ipython3",
   "version": "3.10.16"
  },
  "livereveal": {
   "scroll": true
  },
  "rise": {
   "transition": "none"
  }
 },
 "nbformat": 4,
 "nbformat_minor": 5
}
