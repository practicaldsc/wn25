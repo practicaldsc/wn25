{
 "cells": [
  {
   "cell_type": "code",
   "execution_count": null,
   "id": "fe633688",
   "metadata": {
    "deletable": true,
    "editable": true,
    "slideshow": {
     "slide_type": "skip"
    },
    "tags": []
   },
   "outputs": [],
   "source": [
    "# There will always be an import cell at the start of each lecture notebook.\n",
    "# If you're coding alongside me in lecture, run it!\n",
    "from lec_utils import *\n",
    "def test_pt_example():\n",
    "    src = \"https://pythontutor.com/iframe-embed.html#code=test_list%20%3D%20%5B8,%200,%202,%204%5D%0Atest_string%20%3D%20'zebra'%0Atest_list%5B1%5D%20%3D%2099%0Atest_string%5B1%5D%20%3D%20'f'&codeDivHeight=400&codeDivWidth=350&cumulative=false&curInstr=-1&heapPrimitives=nevernest&origin=opt-frontend.js&py=311&rawInputLstJSON=%5B%5D&textReferences=false\"\n",
    "    width = 800\n",
    "    height = 500\n",
    "    display(IFrame(src, width, height))\n",
    "def swap_pt():\n",
    "    src = \"https://pythontutor.com/iframe-embed.html#code=x%20%3D%2042%0Ay%20%3D%20x%0Ax%20%3D%2012%0A%0Aa%20%3D%20%5B5,%2010%5D%0Ab%20%3D%20a%0Aa%5B0%5D%20%3D%20-1&codeDivHeight=400&codeDivWidth=350&cumulative=false&curInstr=-1&heapPrimitives=nevernest&origin=opt-frontend.js&py=311&rawInputLstJSON=%5B%5D&textReferences=false\"\n",
    "    width = 800\n",
    "    height = 500\n",
    "    display(IFrame(src, width, height))\n",
    "def mystery_pt():\n",
    "    src = \"https://pythontutor.com/iframe-embed.html#code=def%20mystery%28vals%29%3A%0A%20%20%20%20vals%5B-1%5D%20%3D%2015%0A%20%20%20%20return%20vals.append%28'BBB'%29%0A%20%20%20%20%0Acreature%20%3D%20%5B1,%202,%203%5D%0A%0Amystery%28creature%29%0Amystery%28creature%29%0Amystery%28creature%29&codeDivHeight=400&codeDivWidth=350&cumulative=false&curInstr=-1&heapPrimitives=nevernest&origin=opt-frontend.js&py=311&rawInputLstJSON=%5B%5D&textReferences=false\"\n",
    "    width = 800\n",
    "    height = 500\n",
    "    display(IFrame(src, width, height))"
   ]
  },
  {
   "cell_type": "markdown",
   "id": "c7379764",
   "metadata": {
    "deletable": true,
    "editable": true,
    "slideshow": {
     "slide_type": "slide"
    },
    "tags": []
   },
   "source": [
    "<div class=\"alert alert-info\" markdown=\"1\">\n",
    "\n",
    "#### Lecture 2\n",
    "\n",
    "# Python Basics\n",
    "\n",
    "### EECS 398: Practical Data Science, Winter 2025\n",
    "\n",
    "<small><a style=\"text-decoration: none\" href=\"https://practicaldsc.org\">practicaldsc.org</a> • <a style=\"text-decoration: none\" href=\"https://github.com/practicaldsc/wn25\">github.com/practicaldsc/wn25</a> • 📣 See latest announcements [**here on Ed**](https://edstem.org/us/courses/69737/discussion/5943734) </small>\n",
    "    \n",
    "</div>"
   ]
  },
  {
   "cell_type": "markdown",
   "id": "4857ae23",
   "metadata": {
    "deletable": true,
    "editable": true,
    "slideshow": {
     "slide_type": "slide"
    }
   },
   "source": [
    "<div class=\"alert alert-warning\">\n",
    "    <h3>Question 🤔 (Answer at <a style=\"text-decoration: none; color: #0066cc\" href=\"https://docs.google.com/forms/d/e/1FAIpQLSd4oliiZYeNh76jWy-arfEtoAkCrVSsobZxPwxifWggo3EO0Q/viewform\">practicaldsc.org/q</a>)</h3>\n",
    "    \n",
    "Remember that you can always ask questions anonymously at this site during lecture!\n",
    "</div>\n",
    "\n",
    "Have you started Homework 1?\n",
    "\n",
    "- A. Haven't even looked at it.\n",
    "- B. I cloned it or looked at it, but haven't worked on any questions yet.\n",
    "- C. I've worked through the first few questions.\n",
    "- D. I've worked through most of it.\n",
    "- E. I submitted it!"
   ]
  },
  {
   "cell_type": "markdown",
   "id": "a16db240",
   "metadata": {
    "deletable": true,
    "editable": true,
    "slideshow": {
     "slide_type": "slide"
    }
   },
   "source": [
    "### Agenda 📆\n",
    "\n",
    "- Notebooks, variables, lists, and strings.\n",
    "- Functions and loops.\n",
    "    \n",
    "We're going to cover a lot quickly. The [Readings](https://practicaldsc.org/resources/#readings) section of the Resources tab on the course website has links to lots of great online resources about this material if you'd like other perspectives."
   ]
  },
  {
   "cell_type": "markdown",
   "id": "f9ee75f6",
   "metadata": {
    "deletable": true,
    "editable": true,
    "slideshow": {
     "slide_type": "slide"
    }
   },
   "source": [
    "### Following along"
   ]
  },
  {
   "cell_type": "markdown",
   "id": "16d11708",
   "metadata": {
    "deletable": true,
    "editable": true,
    "slideshow": {
     "slide_type": "fragment"
    }
   },
   "source": [
    "- There are two versions of this lecture notebook posted in the course [GitHub repository](https://github.com/practicaldsc/wn25).<br> During lecture, have one of those two open in Jupyter Lab / VSCode so that you can **run code alongside me and try things out**!<br><small>You'll need to have already set up your environment to do this.</small>\n",
    "    - `lec02-filled.ipynb` is already \"filled in\" with all the code I will write. Use this if you think I type too fast.\n",
    "    - `lec02-blank.ipynb` is not filled in; use this if you want to type with me."
   ]
  },
  {
   "cell_type": "markdown",
   "id": "707c7d0b",
   "metadata": {
    "deletable": true,
    "editable": true,
    "slideshow": {
     "slide_type": "fragment"
    }
   },
   "source": [
    "- I'll also occasionally annotate the slides with my iPad; these annotations will be posted after lecture.\n",
    "<center><img src=\"imgs/annotations.png\" width=600></center>"
   ]
  },
  {
   "cell_type": "markdown",
   "id": "aafe66fd",
   "metadata": {
    "deletable": true,
    "editable": true,
    "slideshow": {
     "slide_type": "fragment"
    }
   },
   "source": [
    "- You can also access a \"static\" HTML version of the notebook directly from the course website, if you'd rather take notes on your own tablet."
   ]
  },
  {
   "cell_type": "markdown",
   "id": "bf8e89b2",
   "metadata": {
    "deletable": true,
    "editable": true,
    "slideshow": {
     "slide_type": "slide"
    }
   },
   "source": [
    "## Notebooks, variables, lists, and strings\n",
    "\n",
    "---\n",
    "\n",
    "Let's highlight some key features of Python, and contrast them to C++, a language you've likely used before in EECS 280/281.\n",
    "\n",
    "If you've received an override and never taken an EECS class, but you have programmed before in another language, you'll be able to follow along, too."
   ]
  },
  {
   "cell_type": "markdown",
   "id": "5d89b526",
   "metadata": {
    "deletable": true,
    "editable": true,
    "slideshow": {
     "slide_type": "slide"
    }
   },
   "source": [
    "### Variable types and code compilation"
   ]
  },
  {
   "cell_type": "markdown",
   "id": "dc02a598",
   "metadata": {
    "deletable": true,
    "editable": true,
    "slideshow": {
     "slide_type": "fragment"
    }
   },
   "source": [
    "- In C++, variable types need to be explicitly declared ahead of time, and are fixed (static) once declared. The compiler verifies that all types are consistent before the code is actually executed.\n",
    "\n",
    "<div>\n",
    "\n",
    "```cpp\n",
    "            // Compiler error!\n",
    "            int count = 7 + 9;\n",
    "            count = \"data science\";\n",
    "    \n",
    "```\n",
    "    \n",
    "<small>\n",
    "<div>\n",
    "\n",
    "```\n",
    "                    main.cpp:16:9: error: invalid conversion from ‘const char*’ to ‘int’ [-fpermissive]\n",
    "    \n",
    "```\n",
    "\n",
    "</div>\n",
    "</small>\n",
    "\n",
    "</div>\n",
    "   "
   ]
  },
  {
   "cell_type": "markdown",
   "id": "5093567d",
   "metadata": {
    "deletable": true,
    "editable": true,
    "slideshow": {
     "slide_type": "fragment"
    }
   },
   "source": [
    "- In Python, variable types don't need to be declared, and are free to change (dynamic).\n",
    "<br><small>Also, note that you don't need semicolons!</small>"
   ]
  },
  {
   "cell_type": "code",
   "execution_count": null,
   "id": "c6848a3a",
   "metadata": {
    "deletable": true,
    "editable": true
   },
   "outputs": [],
   "source": [
    "# Works just fine.\n",
    "count = 7 + 9\n",
    "count = \"data science\"\n",
    "count"
   ]
  },
  {
   "cell_type": "code",
   "execution_count": null,
   "id": "ae7e8e49",
   "metadata": {
    "deletable": true,
    "editable": true
   },
   "outputs": [],
   "source": [
    "type(count) # The type function returns the type of an object."
   ]
  },
  {
   "cell_type": "markdown",
   "id": "34907156",
   "metadata": {
    "deletable": true,
    "editable": true,
    "slideshow": {
     "slide_type": "fragment"
    }
   },
   "source": [
    "- Since Python is interpreted, not compiled, it doesn't have any compiler errors. All errors occur at runtime.<br><small>This means that you can \"run\" lots of buggy code, but you may only spot the issues later on – <b>be careful!</b></small>"
   ]
  },
  {
   "cell_type": "code",
   "execution_count": null,
   "id": "26e9f8b7",
   "metadata": {
    "deletable": true,
    "editable": true
   },
   "outputs": [],
   "source": [
    "# This function takes in a single argument and returns that argument + 1 / 0.\n",
    "# Python doesn't stop us from defining the function.\n",
    "def f(x):\n",
    "    return x + 1 / 0"
   ]
  },
  {
   "cell_type": "code",
   "execution_count": null,
   "id": "cf259f3d",
   "metadata": {
    "deletable": true,
    "editable": true
   },
   "outputs": [],
   "source": [
    "f(15)"
   ]
  },
  {
   "cell_type": "markdown",
   "id": "74df62a0",
   "metadata": {
    "deletable": true,
    "editable": true,
    "slideshow": {
     "slide_type": "slide"
    }
   },
   "source": [
    "### Variable types and compilers\n",
    "\n",
    "| | Python | C++ |\n",
    "| --- | --- | --- |\n",
    "| Do I need to define<br>the type of a variable<br>beforehand? | <span style=\"color:orange\"><b>No</b></span> <br>Python is dynamically typed. | <span style=\"color:blue\"><b>Yes</b></span><br>C++ is statically typed. |\n",
    "| Do I compile<br>my code before running it? | <span style=\"color:orange\"><b>No</b></span><br>Python is interpreted;<br>Python code is converted to<br>bytecode line-by-line<br> at runtime.<br><small><br>In fact, the standard implementation<br> of Python is written in C (called CPython).</small> | <span style=\"color:blue\"><b>Yes</b></span><br>The entirety of a<br> C++ program needs to be<br> compiled to bytecode<br> before it's run.<br><br><small>This is part of why C++ is <br>much <b>faster</b> than Python.</small> |"
   ]
  },
  {
   "cell_type": "markdown",
   "id": "53bad02d",
   "metadata": {
    "deletable": true,
    "editable": true,
    "slideshow": {
     "slide_type": "fragment"
    }
   },
   "source": [
    "- You _can_ use type \"hints\" in Python, but they **aren't** verified at runtime."
   ]
  },
  {
   "cell_type": "code",
   "execution_count": null,
   "id": "c0cbe483",
   "metadata": {
    "deletable": true,
    "editable": true
   },
   "outputs": [],
   "source": [
    "name: str = 'Junior'\n",
    "name = 3.14"
   ]
  },
  {
   "cell_type": "markdown",
   "id": "635c9bda",
   "metadata": {
    "deletable": true,
    "editable": true,
    "slideshow": {
     "slide_type": "slide"
    }
   },
   "source": [
    "<center><img src=\"imgs/humans-cpp.png\" width=500></center>"
   ]
  },
  {
   "cell_type": "markdown",
   "id": "770722a3",
   "metadata": {
    "deletable": true,
    "editable": true,
    "slideshow": {
     "slide_type": "slide"
    }
   },
   "source": [
    "### Jupyter memory model"
   ]
  },
  {
   "cell_type": "markdown",
   "id": "6622824e",
   "metadata": {
    "deletable": true,
    "editable": true,
    "slideshow": {
     "slide_type": "fragment"
    }
   },
   "source": [
    "- Python may be new to you, but in addition, code in a Jupyter Notebook behaves a little differently than code in a text editor + Terminal setup."
   ]
  },
  {
   "cell_type": "markdown",
   "id": "d3eea8e1",
   "metadata": {
    "deletable": true,
    "editable": true,
    "slideshow": {
     "slide_type": "fragment"
    }
   },
   "source": [
    "- Pretend your notebook has a brain 🧠."
   ]
  },
  {
   "cell_type": "markdown",
   "id": "dca8c058",
   "metadata": {
    "deletable": true,
    "editable": true,
    "slideshow": {
     "slide_type": "fragment"
    }
   },
   "source": [
    "- Everytime you run a cell with an assignment statement, it remembers that name-value binding."
   ]
  },
  {
   "cell_type": "markdown",
   "id": "cfa6ed9b",
   "metadata": {
    "deletable": true,
    "editable": true,
    "slideshow": {
     "slide_type": "fragment"
    }
   },
   "source": [
    "- It will remember all name-value bindings as long as the current session is open, no matter how many cells you create or delete."
   ]
  },
  {
   "cell_type": "code",
   "execution_count": null,
   "id": "5df14d6e",
   "metadata": {
    "deletable": true,
    "editable": true
   },
   "outputs": [],
   "source": [
    "# We defined this a while ago, but it still remembers.\n",
    "# This is a common pattern: writing the name of a variable in a cell of its own\n",
    "# to check its value.\n",
    "count"
   ]
  },
  {
   "cell_type": "markdown",
   "id": "2eec2661",
   "metadata": {
    "deletable": true,
    "editable": true,
    "slideshow": {
     "slide_type": "fragment"
    }
   },
   "source": [
    "- But, quitting your Terminal ends your Jupyter Notebook session, and your notebook will forget everything it knows – **you’ll need to re-run all of your cells** the next time you open it."
   ]
  },
  {
   "cell_type": "markdown",
   "id": "7be081f0",
   "metadata": {
    "deletable": true,
    "editable": true,
    "slideshow": {
     "slide_type": "fragment"
    }
   },
   "source": [
    "- With this in mind, you should aim to structure your code in a **reproducible** manner – so that others can trace your steps. Let's look at some practices you **should avoid ❌**.<br><small>And by others, we mostly mean you, when you come back to your homework the next day.</small>"
   ]
  },
  {
   "cell_type": "markdown",
   "id": "6427a537",
   "metadata": {
    "deletable": true,
    "editable": true,
    "slideshow": {
     "slide_type": "slide"
    }
   },
   "source": [
    "1. **Don't** delete cells that contain assignment statements."
   ]
  },
  {
   "cell_type": "code",
   "execution_count": null,
   "id": "a2363f91",
   "metadata": {
    "deletable": true,
    "editable": true
   },
   "outputs": [],
   "source": [
    "# To illustrate the issue, run this cell and then delete it.\n",
    "age = 23"
   ]
  },
  {
   "cell_type": "code",
   "execution_count": null,
   "id": "10f4cc76",
   "metadata": {
    "deletable": true,
    "editable": true
   },
   "outputs": [],
   "source": [
    "# If the above cell has been run, this cell will run just fine, even if you \n",
    "# delete the cell above. However, once your notebook \"forgets\" all of \n",
    "# the variables it knows about, this cell will error, \n",
    "# since `age` won't be defined anywhere!\n",
    "age + 15"
   ]
  },
  {
   "cell_type": "markdown",
   "id": "e82ec359",
   "metadata": {
    "deletable": true,
    "editable": true,
    "slideshow": {
     "slide_type": "slide"
    }
   },
   "source": [
    "2. **Don't** use a variable in a cell **above** where it is defined."
   ]
  },
  {
   "cell_type": "code",
   "execution_count": null,
   "id": "3be1d950",
   "metadata": {
    "deletable": true,
    "editable": true
   },
   "outputs": [],
   "source": [
    "# If you run the cell below first, then this cell will run just fine.\n",
    "# However, once your notebook \"forgets\" all of the variables\n",
    "# it knows about, and you run all of its cells in order,\n",
    "# this will cause an error, because you are trying to use\n",
    "# `weather` before its defined!\n",
    "weather - 4"
   ]
  },
  {
   "cell_type": "code",
   "execution_count": null,
   "id": "c46e29c8",
   "metadata": {
    "deletable": true,
    "editable": true
   },
   "outputs": [],
   "source": [
    "# To illustrate the issue, run this cell FIRST, then the cell above.\n",
    "weather = 72"
   ]
  },
  {
   "cell_type": "markdown",
   "id": "0c07af24",
   "metadata": {
    "deletable": true,
    "editable": true,
    "slideshow": {
     "slide_type": "slide"
    }
   },
   "source": [
    "3. **Don't** overwrite built-in names!"
   ]
  },
  {
   "cell_type": "code",
   "execution_count": null,
   "id": "08d0da22",
   "metadata": {
    "deletable": true,
    "editable": true
   },
   "outputs": [],
   "source": [
    "min(2, 3)"
   ]
  },
  {
   "cell_type": "code",
   "execution_count": null,
   "id": "31766791",
   "metadata": {
    "deletable": true,
    "editable": true
   },
   "outputs": [],
   "source": [
    "min = 17"
   ]
  },
  {
   "cell_type": "code",
   "execution_count": null,
   "id": "e15c0516",
   "metadata": {
    "deletable": true,
    "editable": true
   },
   "outputs": [],
   "source": [
    "min(2, 3)"
   ]
  },
  {
   "cell_type": "markdown",
   "id": "6a60fb12",
   "metadata": {
    "deletable": true,
    "editable": true,
    "slideshow": {
     "slide_type": "slide"
    }
   },
   "source": [
    "### Restarting the kernel"
   ]
  },
  {
   "cell_type": "markdown",
   "id": "17f379e2",
   "metadata": {
    "deletable": true,
    "editable": true,
    "slideshow": {
     "slide_type": "fragment"
    }
   },
   "source": [
    "- If something doesn't seem right, you can **force** your notebook to forget everything it currently is remembering and give it a \"fresh start\"."
   ]
  },
  {
   "cell_type": "markdown",
   "id": "07fb6ef3",
   "metadata": {
    "deletable": true,
    "editable": true,
    "slideshow": {
     "slide_type": "fragment"
    }
   },
   "source": [
    "- To do so, first, save your notebook (by clicking the floppy disk icon or CTRL/CMD + S)."
   ]
  },
  {
   "cell_type": "markdown",
   "id": "2f87a33d",
   "metadata": {
    "deletable": true,
    "editable": true,
    "slideshow": {
     "slide_type": "fragment"
    }
   },
   "source": [
    "- Then, **restart your kernel**.\n",
    "<br><small>The kernel is like the engine of a Jupyter Notebook. We're working with a Python kernel that has our `pds` conda environment installed.<br>There exist Jupyter kernels for many languages, including C++!</small>\n",
    "\n",
    "<center><img src='imgs/restart-kernel.png' width=400>This menu may look different depending on your choice of IDE.</center>"
   ]
  },
  {
   "cell_type": "markdown",
   "id": "66e5e34c",
   "metadata": {
    "deletable": true,
    "editable": true,
    "slideshow": {
     "slide_type": "slide"
    }
   },
   "source": [
    "### Aside: Terminal commands in Jupyter Notebooks"
   ]
  },
  {
   "cell_type": "markdown",
   "id": "1f55a89a",
   "metadata": {
    "deletable": true,
    "editable": true,
    "slideshow": {
     "slide_type": "fragment"
    }
   },
   "source": [
    "- You can run command-line operations in Jupyter Notebook cells by placing `!` before them."
   ]
  },
  {
   "cell_type": "code",
   "execution_count": null,
   "id": "f408a507",
   "metadata": {
    "deletable": true,
    "editable": true
   },
   "outputs": [],
   "source": [
    "!ls imgs"
   ]
  },
  {
   "cell_type": "markdown",
   "id": "358d0313",
   "metadata": {
    "deletable": true,
    "editable": true,
    "slideshow": {
     "slide_type": "fragment"
    }
   },
   "source": [
    "- This can be useful in figuring out the location of files that you need to load in, for instance."
   ]
  },
  {
   "cell_type": "markdown",
   "id": "266f8945",
   "metadata": {
    "deletable": true,
    "editable": true,
    "slideshow": {
     "slide_type": "slide"
    }
   },
   "source": [
    "### Data structures"
   ]
  },
  {
   "cell_type": "markdown",
   "id": "9991c044",
   "metadata": {
    "deletable": true,
    "editable": true,
    "slideshow": {
     "slide_type": "fragment"
    }
   },
   "source": [
    "- Python has a variety of built-in data structures, including lists, dictionaries, sets, and tuples."
   ]
  },
  {
   "cell_type": "markdown",
   "id": "27fa2008",
   "metadata": {
    "deletable": true,
    "editable": true,
    "slideshow": {
     "slide_type": "fragment"
    }
   },
   "source": [
    "- In this class, we'll most often use lists and dictionaries, along with more data science-specific data structures, like the `pandas` DataFrame (table) we heard about in Lecture 1 and the `numpy` array."
   ]
  },
  {
   "cell_type": "markdown",
   "id": "bbed6be5",
   "metadata": {
    "deletable": true,
    "editable": true,
    "slideshow": {
     "slide_type": "slide"
    }
   },
   "source": [
    "### Lists"
   ]
  },
  {
   "cell_type": "markdown",
   "id": "197205c5",
   "metadata": {
    "deletable": true,
    "editable": true,
    "slideshow": {
     "slide_type": "fragment"
    }
   },
   "source": [
    "- A list is an **ordered** collection of values. To create a new list from scratch, we use [square brackets]."
   ]
  },
  {
   "cell_type": "code",
   "execution_count": null,
   "id": "094656c6",
   "metadata": {
    "deletable": true,
    "editable": true
   },
   "outputs": [],
   "source": [
    "mixed_list = [-2, 2.5, 'michigan', [1, 3], max] # Different types!\n",
    "mixed_list"
   ]
  },
  {
   "cell_type": "markdown",
   "id": "bdf3e1dc",
   "metadata": {
    "deletable": true,
    "editable": true,
    "slideshow": {
     "slide_type": "fragment"
    }
   },
   "source": [
    "- As you saw in Discussion 1, there are a variety of built-in functions that work with lists."
   ]
  },
  {
   "cell_type": "code",
   "execution_count": null,
   "id": "9d14821d",
   "metadata": {
    "deletable": true,
    "editable": true
   },
   "outputs": [],
   "source": [
    "max(['hey', 'hi', 'hello'])"
   ]
  },
  {
   "cell_type": "markdown",
   "id": "ac21aa1a",
   "metadata": {
    "deletable": true,
    "editable": true,
    "slideshow": {
     "slide_type": "fragment"
    }
   },
   "source": [
    "- To add elements to the end of a list, we use the `append` **method**.<br><small>Note that the `append` method is **destructive**, because it does something other than return an output. We try to avoid destructive operations when possible.</small>"
   ]
  },
  {
   "cell_type": "code",
   "execution_count": null,
   "id": "099ecd04",
   "metadata": {
    "deletable": true,
    "editable": true
   },
   "outputs": [],
   "source": [
    "mixed_list.append(\"zebras\") # No output, but has a side effect! "
   ]
  },
  {
   "cell_type": "code",
   "execution_count": null,
   "id": "82a14d67",
   "metadata": {
    "deletable": true,
    "editable": true
   },
   "outputs": [],
   "source": [
    "mixed_list "
   ]
  },
  {
   "cell_type": "markdown",
   "id": "80f468e8",
   "metadata": {
    "deletable": true,
    "editable": true,
    "slideshow": {
     "slide_type": "slide"
    }
   },
   "source": [
    "### Strings and slicing"
   ]
  },
  {
   "cell_type": "markdown",
   "id": "23c639cd",
   "metadata": {
    "deletable": true,
    "editable": true,
    "slideshow": {
     "slide_type": "fragment"
    }
   },
   "source": [
    "- Strings are similar to lists: they have indexes as well. Each element of a string can be thought of as a \"character\", which is a string of length 1."
   ]
  },
  {
   "cell_type": "code",
   "execution_count": null,
   "id": "09c1d96b",
   "metadata": {
    "deletable": true,
    "editable": true
   },
   "outputs": [],
   "source": [
    "university = 'university of michigan'"
   ]
  },
  {
   "cell_type": "code",
   "execution_count": null,
   "id": "48f395ad",
   "metadata": {
    "deletable": true,
    "editable": true
   },
   "outputs": [],
   "source": [
    "university[1] "
   ]
  },
  {
   "cell_type": "code",
   "execution_count": null,
   "id": "d1a20ea2",
   "metadata": {
    "deletable": true,
    "editable": true
   },
   "outputs": [],
   "source": [
    "university[11:13] "
   ]
  },
  {
   "cell_type": "code",
   "execution_count": null,
   "id": "1b281831",
   "metadata": {
    "deletable": true,
    "editable": true
   },
   "outputs": [],
   "source": [
    "university[-8:] "
   ]
  },
  {
   "cell_type": "markdown",
   "id": "18bf066c",
   "metadata": {
    "deletable": true,
    "editable": true,
    "slideshow": {
     "slide_type": "fragment"
    }
   },
   "source": [
    "- Strings have various methods, but unlike `append`, they are not destructive – they return new strings."
   ]
  },
  {
   "cell_type": "code",
   "execution_count": null,
   "id": "c4df24b7",
   "metadata": {
    "deletable": true,
    "editable": true
   },
   "outputs": [],
   "source": [
    "university.title() "
   ]
  },
  {
   "cell_type": "code",
   "execution_count": null,
   "id": "ae218c6d",
   "metadata": {
    "deletable": true,
    "editable": true
   },
   "outputs": [],
   "source": [
    "university.replace('i', 'I').split() "
   ]
  },
  {
   "cell_type": "markdown",
   "id": "a26190de",
   "metadata": {
    "deletable": true,
    "editable": true,
    "slideshow": {
     "slide_type": "slide"
    }
   },
   "source": [
    "### Immutability"
   ]
  },
  {
   "cell_type": "markdown",
   "id": "d54e0993",
   "metadata": {
    "deletable": true,
    "editable": true,
    "slideshow": {
     "slide_type": "fragment"
    }
   },
   "source": [
    "- One key difference between lists and strings: you **can change** an element of a list, but **not** of a string."
   ]
  },
  {
   "cell_type": "markdown",
   "id": "44875868",
   "metadata": {
    "deletable": true,
    "editable": true,
    "slideshow": {
     "slide_type": "fragment"
    }
   },
   "source": [
    "- If you want to change any part of a string, you must make a new string. This is because lists are **mutable**, while strings are **immutable**.\n",
    "<br><small>Before and after running `test_list[1] = 99`, `test_list` still refers to the same object in memory under the hood.</small>"
   ]
  },
  {
   "cell_type": "code",
   "execution_count": null,
   "id": "0dfc89ed",
   "metadata": {
    "deletable": true,
    "editable": true
   },
   "outputs": [],
   "source": [
    "test_list = [8, 0, 2, 4]\n",
    "test_string = 'zebra'"
   ]
  },
  {
   "cell_type": "code",
   "execution_count": null,
   "id": "cb7a6b28",
   "metadata": {
    "deletable": true,
    "editable": true
   },
   "outputs": [],
   "source": [
    "id(test_list) # Memory address of test_list."
   ]
  },
  {
   "cell_type": "code",
   "execution_count": null,
   "id": "d46fe947",
   "metadata": {
    "deletable": true,
    "editable": true
   },
   "outputs": [],
   "source": [
    "id(test_string)"
   ]
  },
  {
   "cell_type": "code",
   "execution_count": null,
   "id": "1c677351",
   "metadata": {
    "deletable": true,
    "editable": true
   },
   "outputs": [],
   "source": [
    "test_list[1] = 99\n",
    "test_list"
   ]
  },
  {
   "cell_type": "code",
   "execution_count": null,
   "id": "b8ecbff6",
   "metadata": {
    "deletable": true,
    "editable": true
   },
   "outputs": [],
   "source": [
    "id(test_list) # Same memory address! "
   ]
  },
  {
   "cell_type": "code",
   "execution_count": null,
   "id": "b03c3d2a",
   "metadata": {
    "deletable": true,
    "editable": true
   },
   "outputs": [],
   "source": [
    "test_string[1] = 'f'"
   ]
  },
  {
   "cell_type": "code",
   "execution_count": null,
   "id": "df8d3b46",
   "metadata": {
    "deletable": true,
    "editable": true
   },
   "outputs": [],
   "source": [
    "# Since we can't \"change\" test_string, we need to make a \"new\" string \n",
    "# containing the parts of it that we wanted.\n",
    "# We can re-use the variable name test_string, though!\n",
    "test_string = test_string[:1] + 'f' + test_string[2:]\n",
    "test_string"
   ]
  },
  {
   "cell_type": "markdown",
   "id": "d7a81dfd",
   "metadata": {
    "deletable": true,
    "editable": true,
    "slideshow": {
     "slide_type": "fragment"
    }
   },
   "source": [
    "- _Most_ data structures – lists, dictionaries, `numpy` arrays, `pandas` DataFrames – are **mutable**, which means we need to be **extremely careful** when using them to modify them unexpectedly."
   ]
  },
  {
   "cell_type": "markdown",
   "id": "405b1e62",
   "metadata": {
    "deletable": true,
    "editable": true,
    "slideshow": {
     "slide_type": "slide"
    }
   },
   "source": [
    "### Aside: Python Tutor"
   ]
  },
  {
   "cell_type": "markdown",
   "id": "7ddd94e1",
   "metadata": {
    "deletable": true,
    "editable": true,
    "slideshow": {
     "slide_type": "fragment"
    }
   },
   "source": [
    "- Python Tutor, found at [pythontutor.com](https://pythontutor.com), allows you to visualize the execution of Python code."
   ]
  },
  {
   "cell_type": "markdown",
   "id": "114cab6b",
   "metadata": {
    "deletable": true,
    "editable": true,
    "slideshow": {
     "slide_type": "fragment"
    }
   },
   "source": [
    "- Click [this link](https://pythontutor.com/render.html#code=test_list%20%3D%20%5B8,%200,%202,%204%5D%0Atest_string%20%3D%20'zebra'%0Atest_list%5B1%5D%20%3D%2099%0Atest_string%5B1%5D%20%3D%20'f'&cumulative=false&curInstr=0&heapPrimitives=nevernest&mode=display&origin=opt-frontend.js&py=311&rawInputLstJSON=%5B%5D&textReferences=false) to visualize the previous slide's code, or run the cell below to see it embedded in this notebook."
   ]
  },
  {
   "cell_type": "code",
   "execution_count": null,
   "id": "50b2240e",
   "metadata": {
    "deletable": true,
    "editable": true
   },
   "outputs": [],
   "source": [
    "test_pt_example()"
   ]
  },
  {
   "cell_type": "markdown",
   "id": "a2f74c70",
   "metadata": {
    "deletable": true,
    "editable": true,
    "slideshow": {
     "slide_type": "slide"
    }
   },
   "source": [
    "### The swap"
   ]
  },
  {
   "cell_type": "markdown",
   "id": "c91c822c",
   "metadata": {
    "deletable": true,
    "editable": true,
    "slideshow": {
     "slide_type": "fragment"
    }
   },
   "source": [
    "- Assignment statements in Python never copy data.<br>All they do is create a new \"name\" for the expression on the right-hand side of `=`.<br><small>If that expression evaluates to an object that already exists, `var_name` will also refer to that object.</small>\n",
    "\n",
    "```py\n",
    "            var_name = <some expression>\n",
    "```"
   ]
  },
  {
   "cell_type": "markdown",
   "id": "07404bf5",
   "metadata": {
    "deletable": true,
    "editable": true,
    "slideshow": {
     "slide_type": "fragment"
    }
   },
   "source": [
    "- If an object is mutable, then any name referring to it will see those changes reflected. **Be careful!**"
   ]
  },
  {
   "cell_type": "markdown",
   "id": "82a194da",
   "metadata": {
    "deletable": true,
    "editable": true,
    "slideshow": {
     "slide_type": "fragment"
    }
   },
   "source": [
    "- **Example 1**: What is the value of `y` after running the following cell?"
   ]
  },
  {
   "cell_type": "code",
   "execution_count": null,
   "id": "8ff35786",
   "metadata": {
    "deletable": true,
    "editable": true
   },
   "outputs": [],
   "source": [
    "x = 42\n",
    "y = x\n",
    "x = 12\n",
    "y"
   ]
  },
  {
   "cell_type": "markdown",
   "id": "c10a5611",
   "metadata": {
    "deletable": true,
    "editable": true,
    "slideshow": {
     "slide_type": "fragment"
    }
   },
   "source": [
    "- **Example 2**: What is the value of `b` after running the following cell?"
   ]
  },
  {
   "cell_type": "code",
   "execution_count": null,
   "id": "22c032b3",
   "metadata": {
    "deletable": true,
    "editable": true
   },
   "outputs": [],
   "source": [
    "a = [5, 10]\n",
    "b = a\n",
    "a[0] = -1\n",
    "b"
   ]
  },
  {
   "cell_type": "markdown",
   "id": "485fce23",
   "metadata": {
    "deletable": true,
    "editable": true,
    "slideshow": {
     "slide_type": "fragment"
    }
   },
   "source": [
    "- Visualize both examples below."
   ]
  },
  {
   "cell_type": "code",
   "execution_count": null,
   "id": "27bffa70",
   "metadata": {
    "deletable": true,
    "editable": true
   },
   "outputs": [],
   "source": [
    "swap_pt()"
   ]
  },
  {
   "cell_type": "markdown",
   "id": "891ad4b3",
   "metadata": {
    "deletable": true,
    "editable": true,
    "slideshow": {
     "slide_type": "fragment"
    }
   },
   "source": [
    "- Python is notoriously opaque when it comes to variables and pointers. Here's a [good reference](https://nedbatchelder.com/text/names.html)."
   ]
  },
  {
   "cell_type": "markdown",
   "id": "fd30b5b7",
   "metadata": {
    "deletable": true,
    "editable": true,
    "slideshow": {
     "slide_type": "slide"
    }
   },
   "source": [
    "## Functions and loops\n",
    "\n",
    "---"
   ]
  },
  {
   "cell_type": "markdown",
   "id": "cac5fa74",
   "metadata": {
    "deletable": true,
    "editable": true,
    "slideshow": {
     "slide_type": "slide"
    }
   },
   "source": [
    "### Indentation and control flow"
   ]
  },
  {
   "cell_type": "markdown",
   "id": "f7e11d0d",
   "metadata": {
    "deletable": true,
    "editable": true,
    "slideshow": {
     "slide_type": "fragment"
    }
   },
   "source": [
    "- In C++, to define code blocks, you used `{`curly brackets`}`.\n",
    "\n",
    "```cpp\n",
    "            double future_value(double present_value, double APR, int months) {\n",
    "                double r = APR / 12.0 / 100.0;\n",
    "                return present_value * pow(1 + r, months);\n",
    "            }\n",
    "```"
   ]
  },
  {
   "cell_type": "markdown",
   "id": "3adfdcbc",
   "metadata": {
    "deletable": true,
    "editable": true,
    "slideshow": {
     "slide_type": "fragment"
    }
   },
   "source": [
    "- In Python, you use a colon`:` and then **indent** the following lines by either a **tab** or **four spaces**."
   ]
  },
  {
   "cell_type": "code",
   "execution_count": null,
   "id": "96c83e99",
   "metadata": {
    "deletable": true,
    "editable": true
   },
   "outputs": [],
   "source": [
    "def future_value(present_value, APR, months):\n",
    "    r = APR / 12 / 100\n",
    "    return present_value * (1 + r) ** months"
   ]
  },
  {
   "cell_type": "code",
   "execution_count": null,
   "id": "0032a6dc",
   "metadata": {
    "deletable": true,
    "editable": true
   },
   "outputs": [],
   "source": [
    "future_value(100, 7, 36)"
   ]
  },
  {
   "cell_type": "markdown",
   "id": "fd0f1907",
   "metadata": {
    "deletable": true,
    "editable": true,
    "slideshow": {
     "slide_type": "fragment"
    }
   },
   "source": [
    "- The `def` keyword defines a new function. `if`-statements, `for`-loops, and `while`-loops work similarly as in other languages."
   ]
  },
  {
   "cell_type": "markdown",
   "id": "76bb56f8",
   "metadata": {
    "deletable": true,
    "editable": true,
    "slideshow": {
     "slide_type": "fragment"
    }
   },
   "source": [
    "- Let's work through several examples."
   ]
  },
  {
   "cell_type": "markdown",
   "id": "0b775dd2",
   "metadata": {
    "deletable": true,
    "editable": true,
    "slideshow": {
     "slide_type": "slide"
    }
   },
   "source": [
    "<div class=\"alert alert-success\">\n",
    "<h3>Activity</h3>\n",
    "    \n",
    "Suppose we run the cell below.\n",
    "    \n",
    "```py\n",
    "total = 3\n",
    "def square_and_cube(a, b):\n",
    "    return a ** 2 + total ** b\n",
    "```\n",
    "    \n",
    "Then, suppose we run the cell below twice.\n",
    "```py\n",
    "total = square_and_cube(1, 2)\n",
    "```\n",
    "\n",
    "What is the value of `total`? **Try and answer without writing any code.**\n",
    "    \n",
    "</div>"
   ]
  },
  {
   "cell_type": "code",
   "execution_count": null,
   "id": "996b78d6",
   "metadata": {
    "deletable": true,
    "editable": true
   },
   "outputs": [],
   "source": []
  },
  {
   "cell_type": "code",
   "execution_count": null,
   "id": "79ddf37b",
   "metadata": {
    "deletable": true,
    "editable": true
   },
   "outputs": [],
   "source": []
  },
  {
   "cell_type": "markdown",
   "id": "201a0131",
   "metadata": {
    "deletable": true,
    "editable": true,
    "slideshow": {
     "slide_type": "slide"
    }
   },
   "source": [
    "<div class=\"alert alert-success\">\n",
    "<h3>Activity</h3>\n",
    "    \n",
    "Suppose we define the function `mystery` below.<br>\n",
    "    \n",
    "```py\n",
    "def mystery(vals):\n",
    "    vals[-1] = 15\n",
    "    return vals.append('BBB')\n",
    "```\n",
    "\n",
    "**Part 1**: After running the following cell 3 times, what is the value of `creature`? What is the output we see from this cell each time it is run?\n",
    "    \n",
    "```py\n",
    "creature = [1, 2, 3]\n",
    "mystery(creature)\n",
    "```\n",
    "    \n",
    "---\n",
    "    \n",
    "**Part 2**: Suppose we run Cell A once and Cell B 3 times. After doing so, what is the value of `creature`? What is the output we see from Cell B each time it is run?\n",
    "    \n",
    "```py\n",
    "# Cell A\n",
    "creature = [1, 2, 3]\n",
    "```\n",
    "    \n",
    "<br>\n",
    "    \n",
    "```py\n",
    "# Cell B\n",
    "mystery(creature)\n",
    "creature\n",
    "```\n",
    "\n",
    "**Try and answer without writing any code.**"
   ]
  },
  {
   "cell_type": "code",
   "execution_count": null,
   "id": "2ec27408",
   "metadata": {
    "deletable": true,
    "editable": true
   },
   "outputs": [],
   "source": []
  },
  {
   "cell_type": "code",
   "execution_count": null,
   "id": "e3532e26",
   "metadata": {
    "deletable": true,
    "editable": true
   },
   "outputs": [],
   "source": []
  },
  {
   "cell_type": "code",
   "execution_count": null,
   "id": "27d109b5",
   "metadata": {
    "deletable": true,
    "editable": true,
    "slideshow": {
     "slide_type": "slide"
    }
   },
   "outputs": [],
   "source": [
    "mystery_pt()"
   ]
  },
  {
   "cell_type": "markdown",
   "id": "70ad1cf7",
   "metadata": {
    "deletable": true,
    "editable": true,
    "slideshow": {
     "slide_type": "slide"
    }
   },
   "source": [
    "### Aside: Workflow"
   ]
  },
  {
   "cell_type": "markdown",
   "id": "6383679d",
   "metadata": {
    "deletable": true,
    "editable": true,
    "slideshow": {
     "slide_type": "fragment"
    }
   },
   "source": [
    "- For simplicity, we'll write all of our code in this class in a notebook."
   ]
  },
  {
   "cell_type": "markdown",
   "id": "4a372878",
   "metadata": {
    "deletable": true,
    "editable": true,
    "slideshow": {
     "slide_type": "fragment"
    }
   },
   "source": [
    "- But, in production workflows, it's common to define functions and classes in separate `.py` files that others can import in their notebooks. Notebooks are for experimentation; `.py` files are for reusable code."
   ]
  },
  {
   "cell_type": "markdown",
   "id": "c925c0c1",
   "metadata": {
    "deletable": true,
    "editable": true,
    "slideshow": {
     "slide_type": "slide"
    }
   },
   "source": [
    "### `for`-loops in Python"
   ]
  },
  {
   "cell_type": "markdown",
   "id": "009f9f09",
   "metadata": {
    "deletable": true,
    "editable": true,
    "slideshow": {
     "slide_type": "fragment"
    }
   },
   "source": [
    "- In Python, you can loop over any **iterable**. Strings, lists, and dictionaries are all examples of iterables."
   ]
  },
  {
   "cell_type": "markdown",
   "id": "e4bee9dc",
   "metadata": {
    "deletable": true,
    "editable": true,
    "slideshow": {
     "slide_type": "fragment"
    }
   },
   "source": [
    "- All of the following are valid ways to write a `for`-loop.<br>\n",
    "    \n",
    "```py\n",
    "            for value in \"this is a string\":\n",
    "\n",
    "            for element in lst:                  # Assume lst is a list.\n",
    "\n",
    "            for i in range(len(lst)):\n",
    "    \n",
    "```"
   ]
  },
  {
   "cell_type": "markdown",
   "id": "2515ec07",
   "metadata": {
    "deletable": true,
    "editable": true,
    "slideshow": {
     "slide_type": "fragment"
    }
   },
   "source": [
    "- One of the more common `for`-loop examples you may have seen in earlier classes involved performing some operation to every element of a sequence, e.g. doubling the numbers in a list.\n",
    "\n",
    "```py\n",
    "            def double(vals):\n",
    "                new_vals = []\n",
    "                for val in vals:\n",
    "                    new_vals.append(vals * 2)\n",
    "                return new_vals\n",
    "```"
   ]
  },
  {
   "cell_type": "markdown",
   "id": "b943778f",
   "metadata": {
    "deletable": true,
    "editable": true,
    "slideshow": {
     "slide_type": "fragment"
    }
   },
   "source": [
    "- We are going to **avoid ❌** these kinds of `for`-loops in this class, because there are **much faster** ways of achieving the same goal in `numpy` and `pandas`."
   ]
  },
  {
   "cell_type": "markdown",
   "id": "991e8544",
   "metadata": {
    "deletable": true,
    "editable": true,
    "slideshow": {
     "slide_type": "fragment"
    }
   },
   "source": [
    "- `while`-loops will come up sparingly in data science, though there's one in Homework 1 ☄️.<br><small>But conceptually, you should know how they work!</small>"
   ]
  },
  {
   "cell_type": "markdown",
   "id": "c5113d4f",
   "metadata": {
    "deletable": true,
    "editable": true,
    "slideshow": {
     "slide_type": "slide"
    }
   },
   "source": [
    "### List comprehension"
   ]
  },
  {
   "cell_type": "markdown",
   "id": "9f740989",
   "metadata": {
    "deletable": true,
    "editable": true,
    "slideshow": {
     "slide_type": "fragment"
    }
   },
   "source": [
    "- In the situations when we do want to perform some operation to every element in a list, a common pattern is the **list comprehension**."
   ]
  },
  {
   "cell_type": "code",
   "execution_count": null,
   "id": "87e12968",
   "metadata": {
    "deletable": true,
    "editable": true
   },
   "outputs": [],
   "source": [
    "vals = [2, -1, 9, 4, 3, 8] "
   ]
  },
  {
   "cell_type": "code",
   "execution_count": null,
   "id": "bc5fc899",
   "metadata": {
    "deletable": true,
    "editable": true
   },
   "outputs": [],
   "source": [
    "[val ** 2 for val in vals] "
   ]
  },
  {
   "cell_type": "code",
   "execution_count": null,
   "id": "8903a058",
   "metadata": {
    "deletable": true,
    "editable": true
   },
   "outputs": [],
   "source": [
    "[val ** 2 for val in vals if val % 2 == 0] "
   ]
  },
  {
   "cell_type": "code",
   "execution_count": null,
   "id": "431f8158",
   "metadata": {
    "deletable": true,
    "editable": true
   },
   "outputs": [],
   "source": [
    "[val ** 2 if val % 2 == 0 else val + 1 for val in vals] "
   ]
  },
  {
   "cell_type": "markdown",
   "id": "61a8cded",
   "metadata": {
    "deletable": true,
    "editable": true,
    "slideshow": {
     "slide_type": "fragment"
    }
   },
   "source": [
    "- All of the above _can_ be implemented using a `for`-loop.<br><small>And remember, you'll mostly use `numpy` techniques rather than writing `for`-loops or list comprehensions. Still, list comprehensions are a good tool to know.</small>"
   ]
  },
  {
   "cell_type": "code",
   "execution_count": null,
   "id": "cef3094b",
   "metadata": {
    "deletable": true,
    "editable": true
   },
   "outputs": [],
   "source": [
    "new_vals = []\n",
    "for val in vals:\n",
    "    if val % 2 == 0:\n",
    "        new_vals.append(val ** 2)\n",
    "    else:\n",
    "        new_vals.append(val + 1)\n",
    "new_vals"
   ]
  },
  {
   "cell_type": "markdown",
   "id": "507cf90e",
   "metadata": {
    "deletable": true,
    "editable": true,
    "slideshow": {
     "slide_type": "slide"
    }
   },
   "source": [
    "### Dictionaries"
   ]
  },
  {
   "cell_type": "markdown",
   "id": "7186034f",
   "metadata": {
    "deletable": true,
    "editable": true,
    "slideshow": {
     "slide_type": "fragment"
    }
   },
   "source": [
    "- A dictionary stores a collection of key-value pairs.\n",
    "<br><small>They are the equivalent of a map in C++.</small>"
   ]
  },
  {
   "cell_type": "markdown",
   "id": "c11887a2",
   "metadata": {
    "deletable": true,
    "editable": true,
    "slideshow": {
     "slide_type": "fragment"
    }
   },
   "source": [
    "-  `{`curly brackets`}` denote the start and end of a dictionary, a colon`:` is used to denote a single key value pair, and a comma`,` is used to separate key-value pairs."
   ]
  },
  {
   "cell_type": "code",
   "execution_count": null,
   "id": "28377d88",
   "metadata": {
    "deletable": true,
    "editable": true
   },
   "outputs": [],
   "source": [
    "dog = {'name': 'Junior', \n",
    "       'age': 15, \n",
    "       4: ['kibble', 'treat']}\n",
    "dog"
   ]
  },
  {
   "cell_type": "markdown",
   "id": "c12e3366",
   "metadata": {
    "deletable": true,
    "editable": true,
    "slideshow": {
     "slide_type": "fragment"
    }
   },
   "source": [
    "- We retrieve a value in a dictionary using its key."
   ]
  },
  {
   "cell_type": "code",
   "execution_count": null,
   "id": "de63c56f",
   "metadata": {
    "deletable": true,
    "editable": true
   },
   "outputs": [],
   "source": [
    "dog['name'] "
   ]
  },
  {
   "cell_type": "code",
   "execution_count": null,
   "id": "ec41b283",
   "metadata": {
    "deletable": true,
    "editable": true
   },
   "outputs": [],
   "source": [
    "dog['height'] "
   ]
  },
  {
   "cell_type": "markdown",
   "id": "bcad25f7",
   "metadata": {
    "deletable": true,
    "editable": true,
    "slideshow": {
     "slide_type": "fragment"
    }
   },
   "source": [
    "- After creation, we can add or change key-value pairs."
   ]
  },
  {
   "cell_type": "code",
   "execution_count": null,
   "id": "c134d4f8",
   "metadata": {
    "deletable": true,
    "editable": true
   },
   "outputs": [],
   "source": [
    "dog['color'] = 'beige'\n",
    "dog['tricks'] = {\n",
    "    'easy': ['roll over', 'paw'],\n",
    "    'medium': ['jump']\n",
    "}"
   ]
  },
  {
   "cell_type": "code",
   "execution_count": null,
   "id": "e27a710c",
   "metadata": {
    "deletable": true,
    "editable": true
   },
   "outputs": [],
   "source": [
    "dog"
   ]
  },
  {
   "cell_type": "markdown",
   "id": "04fc3b04",
   "metadata": {
    "deletable": true,
    "editable": true
   },
   "source": [
    "- A dictionary's keys must be immutable (numbers, strings, Booleans), while its values can be anything."
   ]
  },
  {
   "cell_type": "code",
   "execution_count": null,
   "id": "68adab8a",
   "metadata": {
    "deletable": true,
    "editable": true
   },
   "outputs": [],
   "source": [
    "# Here, we're trying to add a value with a key of [1, 2].\n",
    "# Since [1, 2] is mutable, it can't be used as a key.\n",
    "dog[[1, 2]] = 'does this work?'"
   ]
  },
  {
   "cell_type": "markdown",
   "id": "d204fa78",
   "metadata": {
    "deletable": true,
    "editable": true,
    "slideshow": {
     "slide_type": "slide"
    }
   },
   "source": [
    "### Pre-activity setup\n",
    "\n",
    "The cell below reads in a file containing the state corresponding to each area code and stores it as a dictionary."
   ]
  },
  {
   "cell_type": "code",
   "execution_count": null,
   "id": "3f1130ef",
   "metadata": {
    "deletable": true,
    "editable": true
   },
   "outputs": [],
   "source": [
    "codes_dict = {}\n",
    "f = open('data/areacodes.txt', 'r')\n",
    "s = f.read()\n",
    "for l in s.split('\\n')[:-1]:\n",
    "    code, state = l.split(' — ')\n",
    "    codes_dict[int(code)] = state"
   ]
  },
  {
   "cell_type": "markdown",
   "id": "7014bdb0",
   "metadata": {
    "deletable": true,
    "editable": true,
    "slideshow": {
     "slide_type": "slide"
    }
   },
   "source": [
    "<div class=\"alert alert-success\">\n",
    "<h3>Activity</h3>\n",
    "    \n",
    "`codes_dict` is a dictionary where each key is an area code and each value is the state corresponding to that code.\n",
    "\n",
    "```py\n",
    "codes_dict = {...\n",
    "208: 'Idaho',\n",
    "209: 'California',\n",
    "210: 'Texas',\n",
    "212: 'New York',\n",
    "213: 'California',\n",
    "...}\n",
    "```\n",
    "    \n",
    "Create a new dictionary, `states_dict`, where each key is a **state** and each value is a **list of area codes in that state**. For instance:\n",
    "    \n",
    "```py\n",
    "states_dict = {...\n",
    " 'Washington': [206, 253, ...],\n",
    " 'Michigan': [231, 248, ...],\n",
    " 'Idaho': [208],\n",
    " 'California': [209, 213, ...],\n",
    " 'Texas': [210, 214, ...],\n",
    " ...}\n",
    "    \n",
    "```\n",
    "    \n",
    "</div>"
   ]
  },
  {
   "cell_type": "code",
   "execution_count": null,
   "id": "b111b503",
   "metadata": {
    "deletable": true,
    "editable": true
   },
   "outputs": [],
   "source": [
    "states_dict = {}\n",
    "..."
   ]
  },
  {
   "cell_type": "code",
   "execution_count": null,
   "id": "33c0ee87",
   "metadata": {
    "deletable": true,
    "editable": true
   },
   "outputs": [],
   "source": []
  },
  {
   "cell_type": "markdown",
   "id": "09e6794f",
   "metadata": {
    "deletable": true,
    "editable": true,
    "slideshow": {
     "slide_type": "slide"
    }
   },
   "source": [
    "### Walkthrough video of area codes example"
   ]
  },
  {
   "cell_type": "markdown",
   "id": "beac598d",
   "metadata": {
    "deletable": true,
    "editable": true,
    "slideshow": {
     "slide_type": "fragment"
    }
   },
   "source": [
    "- If we don't finish the area codes example in class, there's a walkthrough video of it below."
   ]
  },
  {
   "cell_type": "code",
   "execution_count": null,
   "id": "733daa95",
   "metadata": {
    "deletable": true,
    "editable": true
   },
   "outputs": [],
   "source": [
    "YouTubeVideo('IaEuWJCcwjk')"
   ]
  },
  {
   "cell_type": "markdown",
   "id": "5e777bf9",
   "metadata": {
    "deletable": true,
    "editable": true,
    "slideshow": {
     "slide_type": "slide"
    }
   },
   "source": [
    "### What's next?"
   ]
  },
  {
   "cell_type": "markdown",
   "id": "fce41eab",
   "metadata": {
    "deletable": true,
    "editable": true,
    "slideshow": {
     "slide_type": "fragment"
    }
   },
   "source": [
    "- On Wednesday, we'll start by introducing the `numpy` array, which we'll rely on heavily throughout the semester. We'll see how `numpy` arrays make mathematical operations easy and efficient."
   ]
  },
  {
   "cell_type": "markdown",
   "id": "6cd85d81",
   "metadata": {
    "deletable": true,
    "editable": true,
    "slideshow": {
     "slide_type": "fragment"
    }
   },
   "source": [
    "- We'll also work with 2D `numpy` arrays, which have applications from image processing to ranking search results on Google."
   ]
  },
  {
   "cell_type": "markdown",
   "id": "5d22779a",
   "metadata": {
    "deletable": true,
    "editable": true,
    "slideshow": {
     "slide_type": "fragment"
    }
   },
   "source": [
    "- 2D `numpy` arrays work similarly to DataFrames (tables), which we'll start learning about next week."
   ]
  }
 ],
 "metadata": {
  "celltoolbar": "None",
  "kernelspec": {
   "display_name": "Python 3 (ipykernel)",
   "language": "python",
   "name": "python3"
  },
  "language_info": {
   "codemirror_mode": {
    "name": "ipython",
    "version": 3
   },
   "file_extension": ".py",
   "mimetype": "text/x-python",
   "name": "python",
   "nbconvert_exporter": "python",
   "pygments_lexer": "ipython3",
   "version": "3.10.16"
  },
  "livereveal": {
   "scroll": true
  },
  "rise": {
   "transition": "none"
  }
 },
 "nbformat": 4,
 "nbformat_minor": 5
}
