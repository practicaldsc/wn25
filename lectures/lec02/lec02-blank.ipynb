{
 "cells": [
  {
   "cell_type": "code",
   "execution_count": null,
   "id": "992a0753",
   "metadata": {
    "deletable": true,
    "editable": true,
    "slideshow": {
     "slide_type": "skip"
    },
    "tags": []
   },
   "outputs": [],
   "source": [
    "# There will always be an import cell at the start of each lecture notebook.\n",
    "# If you're coding alongside me in lecture, run it!\n",
    "from lec_utils import *\n",
    "def test_pt_example():\n",
    "    src = \"https://pythontutor.com/iframe-embed.html#code=test_list%20%3D%20%5B8,%200,%202,%204%5D%0Atest_string%20%3D%20'zebra'%0Atest_list%5B1%5D%20%3D%2099%0Atest_string%5B1%5D%20%3D%20'f'&codeDivHeight=400&codeDivWidth=350&cumulative=false&curInstr=-1&heapPrimitives=nevernest&origin=opt-frontend.js&py=311&rawInputLstJSON=%5B%5D&textReferences=false\"\n",
    "    width = 800\n",
    "    height = 500\n",
    "    display(IFrame(src, width, height))\n",
    "def swap_pt():\n",
    "    src = \"https://pythontutor.com/iframe-embed.html#code=x%20%3D%2042%0Ay%20%3D%20x%0Ax%20%3D%2012%0A%0Aa%20%3D%20%5B5,%2010%5D%0Ab%20%3D%20a%0Aa%5B0%5D%20%3D%20-1&codeDivHeight=400&codeDivWidth=350&cumulative=false&curInstr=-1&heapPrimitives=nevernest&origin=opt-frontend.js&py=311&rawInputLstJSON=%5B%5D&textReferences=false\"\n",
    "    width = 800\n",
    "    height = 500\n",
    "    display(IFrame(src, width, height))\n",
    "def mystery_pt():\n",
    "    src = \"https://pythontutor.com/iframe-embed.html#code=def%20mystery%28vals%29%3A%0A%20%20%20%20vals%5B-1%5D%20%3D%2015%0A%20%20%20%20return%20vals.append%28'BBB'%29%0A%20%20%20%20%0Acreature%20%3D%20%5B1,%202,%203%5D%0A%0Amystery%28creature%29%0Amystery%28creature%29%0Amystery%28creature%29&codeDivHeight=400&codeDivWidth=350&cumulative=false&curInstr=-1&heapPrimitives=nevernest&origin=opt-frontend.js&py=311&rawInputLstJSON=%5B%5D&textReferences=false\"\n",
    "    width = 800\n",
    "    height = 500\n",
    "    display(IFrame(src, width, height))"
   ]
  },
  {
   "cell_type": "markdown",
   "id": "cb6b833d",
   "metadata": {
    "deletable": true,
    "editable": true,
    "slideshow": {
     "slide_type": "slide"
    },
    "tags": []
   },
   "source": [
    "<div class=\"alert alert-info\" markdown=\"1\">\n",
    "\n",
    "#### Lecture 2\n",
    "\n",
    "# Python Basics\n",
    "\n",
    "### EECS 398: Practical Data Science, Winter 2025\n",
    "\n",
    "<small><a style=\"text-decoration: none\" href=\"https://practicaldsc.org\">practicaldsc.org</a> • <a style=\"text-decoration: none\" href=\"https://github.com/practicaldsc/wn25\">github.com/practicaldsc/wn25</a> • 📣 See latest announcements [**here on Ed**](https://edstem.org/us/courses/69737/discussion/5943734) </small>\n",
    "    \n",
    "</div>"
   ]
  },
  {
   "cell_type": "markdown",
   "id": "d65f30ef",
   "metadata": {
    "deletable": true,
    "editable": true,
    "slideshow": {
     "slide_type": "slide"
    }
   },
   "source": [
    "<div class=\"alert alert-warning\">\n",
    "    <h3>Question 🤔 (Answer at <a style=\"text-decoration: none; color: #0066cc\" href=\"https://docs.google.com/forms/d/e/1FAIpQLSd4oliiZYeNh76jWy-arfEtoAkCrVSsobZxPwxifWggo3EO0Q/viewform\">practicaldsc.org/q</a>)</h3>\n",
    "    \n",
    "Remember that you can always ask questions anonymously at this site during lecture!\n",
    "</div>\n",
    "\n",
    "Have you started Homework 1?\n",
    "\n",
    "- A. Haven't even looked at it.\n",
    "- B. I cloned it or looked at it, but haven't worked on any questions yet.\n",
    "- C. I've worked through the first few questions.\n",
    "- D. I've worked through most of it.\n",
    "- E. I submitted it!"
   ]
  },
  {
   "cell_type": "markdown",
   "id": "baa1af62",
   "metadata": {
    "deletable": true,
    "editable": true,
    "slideshow": {
     "slide_type": "slide"
    }
   },
   "source": [
    "### Agenda 📆\n",
    "\n",
    "- Notebooks, variables, lists, and strings.\n",
    "- Functions and loops.\n",
    "    \n",
    "We're going to cover a lot quickly. The [Readings](https://practicaldsc.org/resources/#readings) section of the Resources tab on the course website has links to lots of great online resources about this material if you'd like other perspectives."
   ]
  },
  {
   "cell_type": "markdown",
   "id": "0f6674a6",
   "metadata": {
    "deletable": true,
    "editable": true,
    "slideshow": {
     "slide_type": "slide"
    }
   },
   "source": [
    "### Following along"
   ]
  },
  {
   "cell_type": "markdown",
   "id": "14942e14",
   "metadata": {
    "deletable": true,
    "editable": true,
    "slideshow": {
     "slide_type": "fragment"
    }
   },
   "source": [
    "- There are two versions of this lecture notebook posted in the course [GitHub repository](https://github.com/practicaldsc/wn25).<br> During lecture, have one of those two open in Jupyter Lab / VSCode so that you can **run code alongside me and try things out**!<br><small>You'll need to have already set up your environment to do this.</small>\n",
    "    - `lec02-filled.ipynb` is already \"filled in\" with all the code I will write. Use this if you think I type too fast.\n",
    "    - `lec02-blank.ipynb` is not filled in; use this if you want to type with me."
   ]
  },
  {
   "cell_type": "markdown",
   "id": "b1fe72b9",
   "metadata": {
    "deletable": true,
    "editable": true,
    "slideshow": {
     "slide_type": "fragment"
    }
   },
   "source": [
    "- I'll also occasionally annotate the slides with my iPad; these annotations will be posted after lecture.\n",
    "<center><img src=\"imgs/annotations.png\" width=600></center>"
   ]
  },
  {
   "cell_type": "markdown",
   "id": "5e38acc2",
   "metadata": {
    "deletable": true,
    "editable": true,
    "slideshow": {
     "slide_type": "fragment"
    }
   },
   "source": [
    "- You can also access a \"static\" HTML version of the notebook directly from the course website, if you'd rather take notes on your own tablet."
   ]
  },
  {
   "cell_type": "markdown",
   "id": "7cc75354",
   "metadata": {
    "deletable": true,
    "editable": true,
    "slideshow": {
     "slide_type": "slide"
    }
   },
   "source": [
    "## Notebooks, variables, lists, and strings\n",
    "\n",
    "---\n",
    "\n",
    "Let's highlight some key features of Python, and contrast them to C++, a language you've likely used before in EECS 280/281.\n",
    "\n",
    "If you've received an override and never taken an EECS class, but you have programmed before in another language, you'll be able to follow along, too."
   ]
  },
  {
   "cell_type": "markdown",
   "id": "a69103c1",
   "metadata": {
    "deletable": true,
    "editable": true,
    "slideshow": {
     "slide_type": "slide"
    }
   },
   "source": [
    "### Variable types and code compilation"
   ]
  },
  {
   "cell_type": "markdown",
   "id": "d0e669d6",
   "metadata": {
    "deletable": true,
    "editable": true,
    "slideshow": {
     "slide_type": "fragment"
    }
   },
   "source": [
    "- In C++, variable types need to be explicitly declared ahead of time, and are fixed (static) once declared. The compiler verifies that all types are consistent before the code is actually executed.\n",
    "\n",
    "<div>\n",
    "\n",
    "```cpp\n",
    "            // Compiler error!\n",
    "            int count = 7 + 9;\n",
    "            count = \"data science\";\n",
    "    \n",
    "```\n",
    "    \n",
    "<small>\n",
    "<div>\n",
    "\n",
    "```\n",
    "                    main.cpp:16:9: error: invalid conversion from ‘const char*’ to ‘int’ [-fpermissive]\n",
    "    \n",
    "```\n",
    "\n",
    "</div>\n",
    "</small>\n",
    "\n",
    "</div>\n",
    "   "
   ]
  },
  {
   "cell_type": "markdown",
   "id": "c8b37213",
   "metadata": {
    "deletable": true,
    "editable": true,
    "slideshow": {
     "slide_type": "fragment"
    }
   },
   "source": [
    "- In Python, variable types don't need to be declared, and are free to change (dynamic).\n",
    "<br><small>Also, note that you don't need semicolons!</small>"
   ]
  },
  {
   "cell_type": "code",
   "execution_count": null,
   "id": "6b0ea33e",
   "metadata": {
    "deletable": true,
    "editable": true
   },
   "outputs": [],
   "source": [
    "# Works just fine.\n",
    "count = 7 + 9\n",
    "count = \"data science\"\n",
    "count"
   ]
  },
  {
   "cell_type": "code",
   "execution_count": null,
   "id": "e1fc22c9",
   "metadata": {
    "deletable": true,
    "editable": true
   },
   "outputs": [],
   "source": [
    "type(count) # The type function returns the type of an object."
   ]
  },
  {
   "cell_type": "markdown",
   "id": "44bbc018",
   "metadata": {
    "deletable": true,
    "editable": true,
    "slideshow": {
     "slide_type": "fragment"
    }
   },
   "source": [
    "- Since Python is interpreted, not compiled, it doesn't have any compiler errors. All errors occur at runtime.<br><small>This means that you can \"run\" lots of buggy code, but you may only spot the issues later on – <b>be careful!</b></small>"
   ]
  },
  {
   "cell_type": "code",
   "execution_count": null,
   "id": "f6ae1898",
   "metadata": {
    "deletable": true,
    "editable": true
   },
   "outputs": [],
   "source": [
    "# This function takes in a single argument and returns that argument + 1 / 0.\n",
    "# Python doesn't stop us from defining the function.\n",
    "def f(x):\n",
    "    return x + 1 / 0"
   ]
  },
  {
   "cell_type": "code",
   "execution_count": null,
   "id": "8fbc2668",
   "metadata": {
    "deletable": true,
    "editable": true
   },
   "outputs": [],
   "source": [
    "f(15)"
   ]
  },
  {
   "cell_type": "markdown",
   "id": "0ce18bd3",
   "metadata": {
    "deletable": true,
    "editable": true,
    "slideshow": {
     "slide_type": "slide"
    }
   },
   "source": [
    "### Variable types and compilers\n",
    "\n",
    "| | Python | C++ |\n",
    "| --- | --- | --- |\n",
    "| Do I need to define<br>the type of a variable<br>beforehand? | <span style=\"color:orange\"><b>No</b></span> <br>Python is dynamically typed. | <span style=\"color:blue\"><b>Yes</b></span><br>C++ is statically typed. |\n",
    "| Do I compile<br>my code before running it? | <span style=\"color:orange\"><b>No</b></span><br>Python is interpreted;<br>Python code is converted to<br>bytecode line-by-line<br> at runtime.<br><small><br>In fact, the standard implementation<br> of Python is written in C (called CPython).</small> | <span style=\"color:blue\"><b>Yes</b></span><br>The entirety of a<br> C++ program needs to be<br> compiled to bytecode<br> before it's run.<br><br><small>This is part of why C++ is <br>much <b>faster</b> than Python.</small> |"
   ]
  },
  {
   "cell_type": "markdown",
   "id": "3797098d",
   "metadata": {
    "deletable": true,
    "editable": true,
    "slideshow": {
     "slide_type": "fragment"
    }
   },
   "source": [
    "- You _can_ use type \"hints\" in Python, but they **aren't** verified at runtime."
   ]
  },
  {
   "cell_type": "code",
   "execution_count": null,
   "id": "ec5cbc9f",
   "metadata": {
    "deletable": true,
    "editable": true
   },
   "outputs": [],
   "source": [
    "name: str = 'Junior'\n",
    "name = 3.14"
   ]
  },
  {
   "cell_type": "markdown",
   "id": "ab286f5c",
   "metadata": {
    "deletable": true,
    "editable": true,
    "slideshow": {
     "slide_type": "slide"
    }
   },
   "source": [
    "<center><img src=\"imgs/humans-cpp.png\" width=500></center>"
   ]
  },
  {
   "cell_type": "markdown",
   "id": "d5344bfa",
   "metadata": {
    "deletable": true,
    "editable": true,
    "slideshow": {
     "slide_type": "slide"
    }
   },
   "source": [
    "### Jupyter memory model"
   ]
  },
  {
   "cell_type": "markdown",
   "id": "bf8cb376",
   "metadata": {
    "deletable": true,
    "editable": true,
    "slideshow": {
     "slide_type": "fragment"
    }
   },
   "source": [
    "- Python may be new to you, but in addition, code in a Jupyter Notebook behaves a little differently than code in a text editor + Terminal setup."
   ]
  },
  {
   "cell_type": "markdown",
   "id": "aa4d1ffa",
   "metadata": {
    "deletable": true,
    "editable": true,
    "slideshow": {
     "slide_type": "fragment"
    }
   },
   "source": [
    "- Pretend your notebook has a brain 🧠."
   ]
  },
  {
   "cell_type": "markdown",
   "id": "1ef1f7dd",
   "metadata": {
    "deletable": true,
    "editable": true,
    "slideshow": {
     "slide_type": "fragment"
    }
   },
   "source": [
    "- Everytime you run a cell with an assignment statement, it remembers that name-value binding."
   ]
  },
  {
   "cell_type": "markdown",
   "id": "851546d2",
   "metadata": {
    "deletable": true,
    "editable": true,
    "slideshow": {
     "slide_type": "fragment"
    }
   },
   "source": [
    "- It will remember all name-value bindings as long as the current session is open, no matter how many cells you create or delete."
   ]
  },
  {
   "cell_type": "code",
   "execution_count": null,
   "id": "99521444",
   "metadata": {
    "deletable": true,
    "editable": true
   },
   "outputs": [],
   "source": [
    "# We defined this a while ago, but it still remembers.\n",
    "# This is a common pattern: writing the name of a variable in a cell of its own\n",
    "# to check its value.\n",
    "count"
   ]
  },
  {
   "cell_type": "markdown",
   "id": "9932ee43",
   "metadata": {
    "deletable": true,
    "editable": true,
    "slideshow": {
     "slide_type": "fragment"
    }
   },
   "source": [
    "- But, quitting your Terminal ends your Jupyter Notebook session, and your notebook will forget everything it knows – **you’ll need to re-run all of your cells** the next time you open it."
   ]
  },
  {
   "cell_type": "markdown",
   "id": "f5d532ea",
   "metadata": {
    "deletable": true,
    "editable": true,
    "slideshow": {
     "slide_type": "fragment"
    }
   },
   "source": [
    "- With this in mind, you should aim to structure your code in a **reproducible** manner – so that others can trace your steps. Let's look at some practices you **should avoid ❌**.<br><small>And by others, we mostly mean you, when you come back to your homework the next day.</small>"
   ]
  },
  {
   "cell_type": "markdown",
   "id": "5c452593",
   "metadata": {
    "deletable": true,
    "editable": true,
    "slideshow": {
     "slide_type": "slide"
    }
   },
   "source": [
    "1. **Don't** delete cells that contain assignment statements."
   ]
  },
  {
   "cell_type": "code",
   "execution_count": null,
   "id": "de96e495",
   "metadata": {
    "deletable": true,
    "editable": true
   },
   "outputs": [],
   "source": [
    "# To illustrate the issue, run this cell and then delete it.\n",
    "age = 23"
   ]
  },
  {
   "cell_type": "code",
   "execution_count": null,
   "id": "dc2db4df",
   "metadata": {
    "deletable": true,
    "editable": true
   },
   "outputs": [],
   "source": [
    "# If the above cell has been run, this cell will run just fine, even if you \n",
    "# delete the cell above. However, once your notebook \"forgets\" all of \n",
    "# the variables it knows about, this cell will error, \n",
    "# since `age` won't be defined anywhere!\n",
    "age + 15"
   ]
  },
  {
   "cell_type": "markdown",
   "id": "d8cc8e4e",
   "metadata": {
    "deletable": true,
    "editable": true,
    "slideshow": {
     "slide_type": "slide"
    }
   },
   "source": [
    "2. **Don't** use a variable in a cell **above** where it is defined."
   ]
  },
  {
   "cell_type": "code",
   "execution_count": null,
   "id": "5d5a1c5c",
   "metadata": {
    "deletable": true,
    "editable": true
   },
   "outputs": [],
   "source": [
    "# If you run the cell below first, then this cell will run just fine.\n",
    "# However, once your notebook \"forgets\" all of the variables\n",
    "# it knows about, and you run all of its cells in order,\n",
    "# this will cause an error, because you are trying to use\n",
    "# `weather` before its defined!\n",
    "weather - 4"
   ]
  },
  {
   "cell_type": "code",
   "execution_count": null,
   "id": "db1f16c4",
   "metadata": {
    "deletable": true,
    "editable": true
   },
   "outputs": [],
   "source": [
    "# To illustrate the issue, run this cell FIRST, then the cell above.\n",
    "weather = 72"
   ]
  },
  {
   "cell_type": "markdown",
   "id": "2bb87189",
   "metadata": {
    "deletable": true,
    "editable": true,
    "slideshow": {
     "slide_type": "slide"
    }
   },
   "source": [
    "3. **Don't** overwrite built-in names!"
   ]
  },
  {
   "cell_type": "code",
   "execution_count": null,
   "id": "6fccfa22",
   "metadata": {
    "deletable": true,
    "editable": true
   },
   "outputs": [],
   "source": [
    "min(2, 3)"
   ]
  },
  {
   "cell_type": "code",
   "execution_count": null,
   "id": "b72e28db",
   "metadata": {
    "deletable": true,
    "editable": true
   },
   "outputs": [],
   "source": [
    "min = 17"
   ]
  },
  {
   "cell_type": "code",
   "execution_count": null,
   "id": "a2b009d0",
   "metadata": {
    "deletable": true,
    "editable": true
   },
   "outputs": [],
   "source": [
    "min(2, 3)"
   ]
  },
  {
   "cell_type": "markdown",
   "id": "9e83b80d",
   "metadata": {
    "deletable": true,
    "editable": true,
    "slideshow": {
     "slide_type": "slide"
    }
   },
   "source": [
    "### Restarting the kernel"
   ]
  },
  {
   "cell_type": "markdown",
   "id": "0426d0c9",
   "metadata": {
    "deletable": true,
    "editable": true,
    "slideshow": {
     "slide_type": "fragment"
    }
   },
   "source": [
    "- If something doesn't seem right, you can **force** your notebook to forget everything it currently is remembering and give it a \"fresh start\"."
   ]
  },
  {
   "cell_type": "markdown",
   "id": "a695572e",
   "metadata": {
    "deletable": true,
    "editable": true,
    "slideshow": {
     "slide_type": "fragment"
    }
   },
   "source": [
    "- To do so, first, save your notebook (by clicking the floppy disk icon or CTRL/CMD + S)."
   ]
  },
  {
   "cell_type": "markdown",
   "id": "c1be903c",
   "metadata": {
    "deletable": true,
    "editable": true,
    "slideshow": {
     "slide_type": "fragment"
    }
   },
   "source": [
    "- Then, **restart your kernel**.\n",
    "<br><small>The kernel is like the engine of a Jupyter Notebook. We're working with a Python kernel that has our `pds` conda environment installed.<br>There exist Jupyter kernels for many languages, including C++!</small>\n",
    "\n",
    "<center><img src='imgs/restart-kernel.png' width=400>This menu may look different depending on your choice of IDE.</center>"
   ]
  },
  {
   "cell_type": "markdown",
   "id": "70e8a9f9",
   "metadata": {
    "deletable": true,
    "editable": true,
    "slideshow": {
     "slide_type": "slide"
    }
   },
   "source": [
    "### Aside: Terminal commands in Jupyter Notebooks"
   ]
  },
  {
   "cell_type": "markdown",
   "id": "a906e539",
   "metadata": {
    "deletable": true,
    "editable": true,
    "slideshow": {
     "slide_type": "fragment"
    }
   },
   "source": [
    "- You can run command-line operations in Jupyter Notebook cells by placing `!` before them."
   ]
  },
  {
   "cell_type": "code",
   "execution_count": null,
   "id": "008450b6",
   "metadata": {
    "deletable": true,
    "editable": true
   },
   "outputs": [],
   "source": [
    "!ls imgs"
   ]
  },
  {
   "cell_type": "markdown",
   "id": "d694dd1d",
   "metadata": {
    "deletable": true,
    "editable": true,
    "slideshow": {
     "slide_type": "fragment"
    }
   },
   "source": [
    "- This can be useful in figuring out the location of files that you need to load in, for instance."
   ]
  },
  {
   "cell_type": "markdown",
   "id": "8c675dc2",
   "metadata": {
    "deletable": true,
    "editable": true,
    "slideshow": {
     "slide_type": "slide"
    }
   },
   "source": [
    "### Data structures"
   ]
  },
  {
   "cell_type": "markdown",
   "id": "0d8385a2",
   "metadata": {
    "deletable": true,
    "editable": true,
    "slideshow": {
     "slide_type": "fragment"
    }
   },
   "source": [
    "- Python has a variety of built-in data structures, including lists, dictionaries, sets, and tuples."
   ]
  },
  {
   "cell_type": "markdown",
   "id": "958487b0",
   "metadata": {
    "deletable": true,
    "editable": true,
    "slideshow": {
     "slide_type": "fragment"
    }
   },
   "source": [
    "- In this class, we'll most often use lists and dictionaries, along with more data science-specific data structures, like the `pandas` DataFrame (table) we heard about in Lecture 1 and the `numpy` array."
   ]
  },
  {
   "cell_type": "markdown",
   "id": "baf0aa6e",
   "metadata": {
    "deletable": true,
    "editable": true,
    "slideshow": {
     "slide_type": "slide"
    }
   },
   "source": [
    "### Lists"
   ]
  },
  {
   "cell_type": "markdown",
   "id": "979730ad",
   "metadata": {
    "deletable": true,
    "editable": true,
    "slideshow": {
     "slide_type": "fragment"
    }
   },
   "source": [
    "- A list is an **ordered** collection of values. To create a new list from scratch, we use [square brackets]."
   ]
  },
  {
   "cell_type": "code",
   "execution_count": null,
   "id": "adf3cac8",
   "metadata": {
    "deletable": true,
    "editable": true
   },
   "outputs": [],
   "source": [
    "mixed_list = [-2, 2.5, 'michigan', [1, 3], max] # Different types!\n",
    "mixed_list"
   ]
  },
  {
   "cell_type": "markdown",
   "id": "156ff3b9",
   "metadata": {
    "deletable": true,
    "editable": true,
    "slideshow": {
     "slide_type": "fragment"
    }
   },
   "source": [
    "- As you saw in Discussion 1, there are a variety of built-in functions that work with lists."
   ]
  },
  {
   "cell_type": "code",
   "execution_count": null,
   "id": "3503d468",
   "metadata": {
    "deletable": true,
    "editable": true
   },
   "outputs": [],
   "source": [
    "max(['hey', 'hi', 'hello'])"
   ]
  },
  {
   "cell_type": "markdown",
   "id": "f80c9f3d",
   "metadata": {
    "deletable": true,
    "editable": true,
    "slideshow": {
     "slide_type": "fragment"
    }
   },
   "source": [
    "- To add elements to the end of a list, we use the `append` **method**.<br><small>Note that the `append` method is **destructive**, because it does something other than return an output. We try to avoid destructive operations when possible.</small>"
   ]
  },
  {
   "cell_type": "code",
   "execution_count": null,
   "id": "30373b07",
   "metadata": {
    "deletable": true,
    "editable": true
   },
   "outputs": [],
   "source": [
    "mixed_list.append(\"zebras\") # No output, but has a side effect! "
   ]
  },
  {
   "cell_type": "code",
   "execution_count": null,
   "id": "028d6c15",
   "metadata": {
    "deletable": true,
    "editable": true
   },
   "outputs": [],
   "source": [
    "..."
   ]
  },
  {
   "cell_type": "markdown",
   "id": "fcd97302",
   "metadata": {
    "deletable": true,
    "editable": true,
    "slideshow": {
     "slide_type": "slide"
    }
   },
   "source": [
    "### Strings and slicing"
   ]
  },
  {
   "cell_type": "markdown",
   "id": "f4b4398e",
   "metadata": {
    "deletable": true,
    "editable": true,
    "slideshow": {
     "slide_type": "fragment"
    }
   },
   "source": [
    "- Strings are similar to lists: they have indexes as well. Each element of a string can be thought of as a \"character\", which is a string of length 1."
   ]
  },
  {
   "cell_type": "code",
   "execution_count": null,
   "id": "b7e0e2ed",
   "metadata": {
    "deletable": true,
    "editable": true
   },
   "outputs": [],
   "source": [
    "university = 'university of michigan'"
   ]
  },
  {
   "cell_type": "code",
   "execution_count": null,
   "id": "fbd30cfd",
   "metadata": {
    "deletable": true,
    "editable": true
   },
   "outputs": [],
   "source": [
    "..."
   ]
  },
  {
   "cell_type": "code",
   "execution_count": null,
   "id": "5f56f2a2",
   "metadata": {
    "deletable": true,
    "editable": true
   },
   "outputs": [],
   "source": [
    "..."
   ]
  },
  {
   "cell_type": "code",
   "execution_count": null,
   "id": "6b15bf17",
   "metadata": {
    "deletable": true,
    "editable": true
   },
   "outputs": [],
   "source": [
    "..."
   ]
  },
  {
   "cell_type": "markdown",
   "id": "7b1d7e42",
   "metadata": {
    "deletable": true,
    "editable": true,
    "slideshow": {
     "slide_type": "fragment"
    }
   },
   "source": [
    "- Strings have various methods, but unlike `append`, they are not destructive – they return new strings."
   ]
  },
  {
   "cell_type": "code",
   "execution_count": null,
   "id": "5a6130ff",
   "metadata": {
    "deletable": true,
    "editable": true
   },
   "outputs": [],
   "source": [
    "..."
   ]
  },
  {
   "cell_type": "code",
   "execution_count": null,
   "id": "2aeb8467",
   "metadata": {
    "deletable": true,
    "editable": true
   },
   "outputs": [],
   "source": [
    "..."
   ]
  },
  {
   "cell_type": "markdown",
   "id": "4abf1fb0",
   "metadata": {
    "deletable": true,
    "editable": true,
    "slideshow": {
     "slide_type": "slide"
    }
   },
   "source": [
    "### Immutability"
   ]
  },
  {
   "cell_type": "markdown",
   "id": "4c5fca74",
   "metadata": {
    "deletable": true,
    "editable": true,
    "slideshow": {
     "slide_type": "fragment"
    }
   },
   "source": [
    "- One key difference between lists and strings: you **can change** an element of a list, but **not** of a string."
   ]
  },
  {
   "cell_type": "markdown",
   "id": "0a3cb65f",
   "metadata": {
    "deletable": true,
    "editable": true,
    "slideshow": {
     "slide_type": "fragment"
    }
   },
   "source": [
    "- If you want to change any part of a string, you must make a new string. This is because lists are **mutable**, while strings are **immutable**.\n",
    "<br><small>Before and after running `test_list[1] = 99`, `test_list` still refers to the same object in memory under the hood.</small>"
   ]
  },
  {
   "cell_type": "code",
   "execution_count": null,
   "id": "3c110b26",
   "metadata": {
    "deletable": true,
    "editable": true
   },
   "outputs": [],
   "source": [
    "test_list = [8, 0, 2, 4]\n",
    "test_string = 'zebra'"
   ]
  },
  {
   "cell_type": "code",
   "execution_count": null,
   "id": "a7d81cec",
   "metadata": {
    "deletable": true,
    "editable": true
   },
   "outputs": [],
   "source": [
    "id(test_list) # Memory address of test_list."
   ]
  },
  {
   "cell_type": "code",
   "execution_count": null,
   "id": "3e30d98c",
   "metadata": {
    "deletable": true,
    "editable": true
   },
   "outputs": [],
   "source": [
    "id(test_string)"
   ]
  },
  {
   "cell_type": "code",
   "execution_count": null,
   "id": "3d1ff2ba",
   "metadata": {
    "deletable": true,
    "editable": true
   },
   "outputs": [],
   "source": [
    "..."
   ]
  },
  {
   "cell_type": "code",
   "execution_count": null,
   "id": "d0cae35d",
   "metadata": {
    "deletable": true,
    "editable": true
   },
   "outputs": [],
   "source": [
    "id(test_list) # Same memory address! "
   ]
  },
  {
   "cell_type": "code",
   "execution_count": null,
   "id": "7e97d069",
   "metadata": {
    "deletable": true,
    "editable": true
   },
   "outputs": [],
   "source": [
    "..."
   ]
  },
  {
   "cell_type": "code",
   "execution_count": null,
   "id": "f0ea4b5f",
   "metadata": {
    "deletable": true,
    "editable": true
   },
   "outputs": [],
   "source": [
    "# Since we can't \"change\" test_string, we need to make a \"new\" string \n",
    "# containing the parts of it that we wanted.\n",
    "# We can re-use the variable name test_string, though!\n",
    "..."
   ]
  },
  {
   "cell_type": "markdown",
   "id": "2923ef62",
   "metadata": {
    "deletable": true,
    "editable": true,
    "slideshow": {
     "slide_type": "fragment"
    }
   },
   "source": [
    "- _Most_ data structures – lists, dictionaries, `numpy` arrays, `pandas` DataFrames – are **mutable**, which means we need to be **extremely careful** when using them to modify them unexpectedly."
   ]
  },
  {
   "cell_type": "markdown",
   "id": "f4ce62da",
   "metadata": {
    "deletable": true,
    "editable": true,
    "slideshow": {
     "slide_type": "slide"
    }
   },
   "source": [
    "### Aside: Python Tutor"
   ]
  },
  {
   "cell_type": "markdown",
   "id": "edf4f8c4",
   "metadata": {
    "deletable": true,
    "editable": true,
    "slideshow": {
     "slide_type": "fragment"
    }
   },
   "source": [
    "- Python Tutor, found at [pythontutor.com](https://pythontutor.com), allows you to visualize the execution of Python code."
   ]
  },
  {
   "cell_type": "markdown",
   "id": "c4de3eb3",
   "metadata": {
    "deletable": true,
    "editable": true,
    "slideshow": {
     "slide_type": "fragment"
    }
   },
   "source": [
    "- Click [this link](https://pythontutor.com/render.html#code=test_list%20%3D%20%5B8,%200,%202,%204%5D%0Atest_string%20%3D%20'zebra'%0Atest_list%5B1%5D%20%3D%2099%0Atest_string%5B1%5D%20%3D%20'f'&cumulative=false&curInstr=0&heapPrimitives=nevernest&mode=display&origin=opt-frontend.js&py=311&rawInputLstJSON=%5B%5D&textReferences=false) to visualize the previous slide's code, or run the cell below to see it embedded in this notebook."
   ]
  },
  {
   "cell_type": "code",
   "execution_count": null,
   "id": "a151331c",
   "metadata": {
    "deletable": true,
    "editable": true
   },
   "outputs": [],
   "source": [
    "test_pt_example()"
   ]
  },
  {
   "cell_type": "markdown",
   "id": "be6e5793",
   "metadata": {
    "deletable": true,
    "editable": true,
    "slideshow": {
     "slide_type": "slide"
    }
   },
   "source": [
    "### The swap"
   ]
  },
  {
   "cell_type": "markdown",
   "id": "b093c397",
   "metadata": {
    "deletable": true,
    "editable": true,
    "slideshow": {
     "slide_type": "fragment"
    }
   },
   "source": [
    "- Assignment statements in Python never copy data.<br>All they do is create a new \"name\" for the expression on the right-hand side of `=`.<br><small>If that expression evaluates to an object that already exists, `var_name` will also refer to that object.</small>\n",
    "\n",
    "```py\n",
    "            var_name = <some expression>\n",
    "```"
   ]
  },
  {
   "cell_type": "markdown",
   "id": "9222b59b",
   "metadata": {
    "deletable": true,
    "editable": true,
    "slideshow": {
     "slide_type": "fragment"
    }
   },
   "source": [
    "- If an object is mutable, then any name referring to it will see those changes reflected. **Be careful!**"
   ]
  },
  {
   "cell_type": "markdown",
   "id": "7a752916",
   "metadata": {
    "deletable": true,
    "editable": true,
    "slideshow": {
     "slide_type": "fragment"
    }
   },
   "source": [
    "- **Example 1**: What is the value of `y` after running the following cell?"
   ]
  },
  {
   "cell_type": "code",
   "execution_count": null,
   "id": "8aa0ae5c",
   "metadata": {
    "deletable": true,
    "editable": true
   },
   "outputs": [],
   "source": [
    "..."
   ]
  },
  {
   "cell_type": "markdown",
   "id": "52114530",
   "metadata": {
    "deletable": true,
    "editable": true,
    "slideshow": {
     "slide_type": "fragment"
    }
   },
   "source": [
    "- **Example 2**: What is the value of `b` after running the following cell?"
   ]
  },
  {
   "cell_type": "code",
   "execution_count": null,
   "id": "348b98c9",
   "metadata": {
    "deletable": true,
    "editable": true
   },
   "outputs": [],
   "source": [
    "..."
   ]
  },
  {
   "cell_type": "markdown",
   "id": "f54dccde",
   "metadata": {
    "deletable": true,
    "editable": true,
    "slideshow": {
     "slide_type": "fragment"
    }
   },
   "source": [
    "- Visualize both examples below."
   ]
  },
  {
   "cell_type": "code",
   "execution_count": null,
   "id": "4618de7e",
   "metadata": {
    "deletable": true,
    "editable": true
   },
   "outputs": [],
   "source": [
    "swap_pt()"
   ]
  },
  {
   "cell_type": "markdown",
   "id": "1252149f",
   "metadata": {
    "deletable": true,
    "editable": true,
    "slideshow": {
     "slide_type": "fragment"
    }
   },
   "source": [
    "- Python is notoriously opaque when it comes to variables and pointers. Here's a [good reference](https://nedbatchelder.com/text/names.html)."
   ]
  },
  {
   "cell_type": "markdown",
   "id": "ffa37507",
   "metadata": {
    "deletable": true,
    "editable": true,
    "slideshow": {
     "slide_type": "slide"
    }
   },
   "source": [
    "## Functions and loops\n",
    "\n",
    "---"
   ]
  },
  {
   "cell_type": "markdown",
   "id": "477fc63a",
   "metadata": {
    "deletable": true,
    "editable": true,
    "slideshow": {
     "slide_type": "slide"
    }
   },
   "source": [
    "### Indentation and control flow"
   ]
  },
  {
   "cell_type": "markdown",
   "id": "a5214e84",
   "metadata": {
    "deletable": true,
    "editable": true,
    "slideshow": {
     "slide_type": "fragment"
    }
   },
   "source": [
    "- In C++, to define code blocks, you used `{`curly brackets`}`.\n",
    "\n",
    "```cpp\n",
    "            double future_value(double present_value, double APR, int months) {\n",
    "                double r = APR / 12.0 / 100.0;\n",
    "                return present_value * pow(1 + r, months);\n",
    "            }\n",
    "```"
   ]
  },
  {
   "cell_type": "markdown",
   "id": "362aa301",
   "metadata": {
    "deletable": true,
    "editable": true,
    "slideshow": {
     "slide_type": "fragment"
    }
   },
   "source": [
    "- In Python, you use a colon`:` and then **indent** the following lines by either a **tab** or **four spaces**."
   ]
  },
  {
   "cell_type": "code",
   "execution_count": null,
   "id": "5b014c53",
   "metadata": {
    "deletable": true,
    "editable": true
   },
   "outputs": [],
   "source": [
    "def future_value(present_value, APR, months):\n",
    "    r = APR / 12 / 100\n",
    "    return present_value * (1 + r) ** months"
   ]
  },
  {
   "cell_type": "code",
   "execution_count": null,
   "id": "2ea982c6",
   "metadata": {
    "deletable": true,
    "editable": true
   },
   "outputs": [],
   "source": [
    "future_value(100, 7, 36)"
   ]
  },
  {
   "cell_type": "markdown",
   "id": "fc5a176f",
   "metadata": {
    "deletable": true,
    "editable": true,
    "slideshow": {
     "slide_type": "fragment"
    }
   },
   "source": [
    "- The `def` keyword defines a new function. `if`-statements, `for`-loops, and `while`-loops work similarly as in other languages."
   ]
  },
  {
   "cell_type": "markdown",
   "id": "d408c21a",
   "metadata": {
    "deletable": true,
    "editable": true,
    "slideshow": {
     "slide_type": "fragment"
    }
   },
   "source": [
    "- Let's work through several examples."
   ]
  },
  {
   "cell_type": "markdown",
   "id": "2dc0e761",
   "metadata": {
    "deletable": true,
    "editable": true,
    "slideshow": {
     "slide_type": "slide"
    }
   },
   "source": [
    "<div class=\"alert alert-success\">\n",
    "<h3>Activity</h3>\n",
    "    \n",
    "Suppose we run the cell below.\n",
    "    \n",
    "```py\n",
    "total = 3\n",
    "def square_and_cube(a, b):\n",
    "    return a ** 2 + total ** b\n",
    "```\n",
    "    \n",
    "Then, suppose we run the cell below twice.\n",
    "```py\n",
    "total = square_and_cube(1, 2)\n",
    "```\n",
    "\n",
    "What is the value of `total`? **Try and answer without writing any code.**\n",
    "    \n",
    "</div>"
   ]
  },
  {
   "cell_type": "code",
   "execution_count": null,
   "id": "75cf0177",
   "metadata": {
    "deletable": true,
    "editable": true
   },
   "outputs": [],
   "source": []
  },
  {
   "cell_type": "code",
   "execution_count": null,
   "id": "83e0e6c2",
   "metadata": {
    "deletable": true,
    "editable": true
   },
   "outputs": [],
   "source": []
  },
  {
   "cell_type": "markdown",
   "id": "1acda41b",
   "metadata": {
    "deletable": true,
    "editable": true,
    "slideshow": {
     "slide_type": "slide"
    }
   },
   "source": [
    "<div class=\"alert alert-success\">\n",
    "<h3>Activity</h3>\n",
    "    \n",
    "Suppose we define the function `mystery` below.<br>\n",
    "    \n",
    "```py\n",
    "def mystery(vals):\n",
    "    vals[-1] = 15\n",
    "    return vals.append('BBB')\n",
    "```\n",
    "\n",
    "**Part 1**: After running the following cell 3 times, what is the value of `creature`? What is the output we see from this cell each time it is run?\n",
    "    \n",
    "```py\n",
    "creature = [1, 2, 3]\n",
    "mystery(creature)\n",
    "```\n",
    "    \n",
    "---\n",
    "    \n",
    "**Part 2**: Suppose we run Cell A once and Cell B 3 times. After doing so, what is the value of `creature`? What is the output we see from Cell B each time it is run?\n",
    "    \n",
    "```py\n",
    "# Cell A\n",
    "creature = [1, 2, 3]\n",
    "```\n",
    "    \n",
    "<br>\n",
    "    \n",
    "```py\n",
    "# Cell B\n",
    "mystery(creature)\n",
    "creature\n",
    "```\n",
    "\n",
    "**Try and answer without writing any code.**"
   ]
  },
  {
   "cell_type": "code",
   "execution_count": null,
   "id": "212e84bd",
   "metadata": {
    "deletable": true,
    "editable": true
   },
   "outputs": [],
   "source": []
  },
  {
   "cell_type": "code",
   "execution_count": null,
   "id": "18e6de3c",
   "metadata": {
    "deletable": true,
    "editable": true
   },
   "outputs": [],
   "source": []
  },
  {
   "cell_type": "code",
   "execution_count": null,
   "id": "1e15ddf7",
   "metadata": {
    "deletable": true,
    "editable": true,
    "slideshow": {
     "slide_type": "slide"
    }
   },
   "outputs": [],
   "source": [
    "mystery_pt()"
   ]
  },
  {
   "cell_type": "markdown",
   "id": "c7f2478a",
   "metadata": {
    "deletable": true,
    "editable": true,
    "slideshow": {
     "slide_type": "slide"
    }
   },
   "source": [
    "### Aside: Workflow"
   ]
  },
  {
   "cell_type": "markdown",
   "id": "4ce86644",
   "metadata": {
    "deletable": true,
    "editable": true,
    "slideshow": {
     "slide_type": "fragment"
    }
   },
   "source": [
    "- For simplicity, we'll write all of our code in this class in a notebook."
   ]
  },
  {
   "cell_type": "markdown",
   "id": "98b46368",
   "metadata": {
    "deletable": true,
    "editable": true,
    "slideshow": {
     "slide_type": "fragment"
    }
   },
   "source": [
    "- But, in production workflows, it's common to define functions and classes in separate `.py` files that others can import in their notebooks. Notebooks are for experimentation; `.py` files are for reusable code."
   ]
  },
  {
   "cell_type": "markdown",
   "id": "8e8575fe",
   "metadata": {
    "deletable": true,
    "editable": true,
    "slideshow": {
     "slide_type": "slide"
    }
   },
   "source": [
    "### `for`-loops in Python"
   ]
  },
  {
   "cell_type": "markdown",
   "id": "f9546056",
   "metadata": {
    "deletable": true,
    "editable": true,
    "slideshow": {
     "slide_type": "fragment"
    }
   },
   "source": [
    "- In Python, you can loop over any **iterable**. Strings, lists, and dictionaries are all examples of iterables."
   ]
  },
  {
   "cell_type": "markdown",
   "id": "d91d48a7",
   "metadata": {
    "deletable": true,
    "editable": true,
    "slideshow": {
     "slide_type": "fragment"
    }
   },
   "source": [
    "- All of the following are valid ways to write a `for`-loop.<br>\n",
    "    \n",
    "```py\n",
    "            for value in \"this is a string\":\n",
    "\n",
    "            for element in lst:                  # Assume lst is a list.\n",
    "\n",
    "            for i in range(len(lst)):\n",
    "    \n",
    "```"
   ]
  },
  {
   "cell_type": "markdown",
   "id": "3e69afbb",
   "metadata": {
    "deletable": true,
    "editable": true,
    "slideshow": {
     "slide_type": "fragment"
    }
   },
   "source": [
    "- One of the more common `for`-loop examples you may have seen in earlier classes involved performing some operation to every element of a sequence, e.g. doubling the numbers in a list.\n",
    "\n",
    "```py\n",
    "            def double(vals):\n",
    "                new_vals = []\n",
    "                for val in vals:\n",
    "                    new_vals.append(vals * 2)\n",
    "                return new_vals\n",
    "```"
   ]
  },
  {
   "cell_type": "markdown",
   "id": "d3c97729",
   "metadata": {
    "deletable": true,
    "editable": true,
    "slideshow": {
     "slide_type": "fragment"
    }
   },
   "source": [
    "- We are going to **avoid ❌** these kinds of `for`-loops in this class, because there are **much faster** ways of achieving the same goal in `numpy` and `pandas`."
   ]
  },
  {
   "cell_type": "markdown",
   "id": "d67c574d",
   "metadata": {
    "deletable": true,
    "editable": true,
    "slideshow": {
     "slide_type": "fragment"
    }
   },
   "source": [
    "- `while`-loops will come up sparingly in data science, though there's one in Homework 1 ☄️.<br><small>But conceptually, you should know how they work!</small>"
   ]
  },
  {
   "cell_type": "markdown",
   "id": "65cc4460",
   "metadata": {
    "deletable": true,
    "editable": true,
    "slideshow": {
     "slide_type": "slide"
    }
   },
   "source": [
    "### List comprehension"
   ]
  },
  {
   "cell_type": "markdown",
   "id": "315ebb6b",
   "metadata": {
    "deletable": true,
    "editable": true,
    "slideshow": {
     "slide_type": "fragment"
    }
   },
   "source": [
    "- In the situations when we do want to perform some operation to every element in a list, a common pattern is the **list comprehension**."
   ]
  },
  {
   "cell_type": "code",
   "execution_count": null,
   "id": "5c5c4cd5",
   "metadata": {
    "deletable": true,
    "editable": true
   },
   "outputs": [],
   "source": [
    "vals = ..."
   ]
  },
  {
   "cell_type": "code",
   "execution_count": null,
   "id": "75d4b23b",
   "metadata": {
    "deletable": true,
    "editable": true
   },
   "outputs": [],
   "source": [
    "..."
   ]
  },
  {
   "cell_type": "code",
   "execution_count": null,
   "id": "f3ee1360",
   "metadata": {
    "deletable": true,
    "editable": true
   },
   "outputs": [],
   "source": [
    "..."
   ]
  },
  {
   "cell_type": "code",
   "execution_count": null,
   "id": "3d9a74bb",
   "metadata": {
    "deletable": true,
    "editable": true
   },
   "outputs": [],
   "source": [
    "..."
   ]
  },
  {
   "cell_type": "markdown",
   "id": "be47008d",
   "metadata": {
    "deletable": true,
    "editable": true,
    "slideshow": {
     "slide_type": "fragment"
    }
   },
   "source": [
    "- All of the above _can_ be implemented using a `for`-loop.<br><small>And remember, you'll mostly use `numpy` techniques rather than writing `for`-loops or list comprehensions. Still, list comprehensions are a good tool to know.</small>"
   ]
  },
  {
   "cell_type": "code",
   "execution_count": null,
   "id": "41cab219",
   "metadata": {
    "deletable": true,
    "editable": true
   },
   "outputs": [],
   "source": [
    "..."
   ]
  },
  {
   "cell_type": "markdown",
   "id": "09899345",
   "metadata": {
    "deletable": true,
    "editable": true,
    "slideshow": {
     "slide_type": "slide"
    }
   },
   "source": [
    "### Dictionaries"
   ]
  },
  {
   "cell_type": "markdown",
   "id": "711f01c2",
   "metadata": {
    "deletable": true,
    "editable": true,
    "slideshow": {
     "slide_type": "fragment"
    }
   },
   "source": [
    "- A dictionary stores a collection of key-value pairs.\n",
    "<br><small>They are the equivalent of a map in C++.</small>"
   ]
  },
  {
   "cell_type": "markdown",
   "id": "c019844f",
   "metadata": {
    "deletable": true,
    "editable": true,
    "slideshow": {
     "slide_type": "fragment"
    }
   },
   "source": [
    "-  `{`curly brackets`}` denote the start and end of a dictionary, a colon`:` is used to denote a single key value pair, and a comma`,` is used to separate key-value pairs."
   ]
  },
  {
   "cell_type": "code",
   "execution_count": null,
   "id": "9a0dd11b",
   "metadata": {
    "deletable": true,
    "editable": true
   },
   "outputs": [],
   "source": [
    "dog = {'name': 'Junior', \n",
    "       'age': 15, \n",
    "       4: ['kibble', 'treat']}\n",
    "dog"
   ]
  },
  {
   "cell_type": "markdown",
   "id": "991f7f87",
   "metadata": {
    "deletable": true,
    "editable": true,
    "slideshow": {
     "slide_type": "fragment"
    }
   },
   "source": [
    "- We retrieve a value in a dictionary using its key."
   ]
  },
  {
   "cell_type": "code",
   "execution_count": null,
   "id": "6a11a5a0",
   "metadata": {
    "deletable": true,
    "editable": true
   },
   "outputs": [],
   "source": [
    "..."
   ]
  },
  {
   "cell_type": "code",
   "execution_count": null,
   "id": "ca8047a1",
   "metadata": {
    "deletable": true,
    "editable": true
   },
   "outputs": [],
   "source": [
    "..."
   ]
  },
  {
   "cell_type": "markdown",
   "id": "e1317462",
   "metadata": {
    "deletable": true,
    "editable": true,
    "slideshow": {
     "slide_type": "fragment"
    }
   },
   "source": [
    "- After creation, we can add or change key-value pairs."
   ]
  },
  {
   "cell_type": "code",
   "execution_count": null,
   "id": "0deccf7d",
   "metadata": {
    "deletable": true,
    "editable": true
   },
   "outputs": [],
   "source": [
    "..."
   ]
  },
  {
   "cell_type": "code",
   "execution_count": null,
   "id": "d0bf8df2",
   "metadata": {
    "deletable": true,
    "editable": true
   },
   "outputs": [],
   "source": [
    "dog"
   ]
  },
  {
   "cell_type": "markdown",
   "id": "ba0f16de",
   "metadata": {
    "deletable": true,
    "editable": true
   },
   "source": [
    "- A dictionary's keys must be immutable (numbers, strings, Booleans), while its values can be anything."
   ]
  },
  {
   "cell_type": "code",
   "execution_count": null,
   "id": "845292eb",
   "metadata": {
    "deletable": true,
    "editable": true
   },
   "outputs": [],
   "source": [
    "# Here, we're trying to add a value with a key of [1, 2].\n",
    "# Since [1, 2] is mutable, it can't be used as a key.\n",
    "dog[[1, 2]] = 'does this work?'"
   ]
  },
  {
   "cell_type": "markdown",
   "id": "e8435553",
   "metadata": {
    "deletable": true,
    "editable": true,
    "slideshow": {
     "slide_type": "slide"
    }
   },
   "source": [
    "### Pre-activity setup\n",
    "\n",
    "The cell below reads in a file containing the state corresponding to each area code and stores it as a dictionary."
   ]
  },
  {
   "cell_type": "code",
   "execution_count": null,
   "id": "2ae80b11",
   "metadata": {
    "deletable": true,
    "editable": true
   },
   "outputs": [],
   "source": [
    "codes_dict = {}\n",
    "f = open('data/areacodes.txt', 'r')\n",
    "s = f.read()\n",
    "for l in s.split('\\n')[:-1]:\n",
    "    code, state = l.split(' — ')\n",
    "    codes_dict[int(code)] = state"
   ]
  },
  {
   "cell_type": "markdown",
   "id": "9e15a85c",
   "metadata": {
    "deletable": true,
    "editable": true,
    "slideshow": {
     "slide_type": "slide"
    }
   },
   "source": [
    "<div class=\"alert alert-success\">\n",
    "<h3>Activity</h3>\n",
    "    \n",
    "`codes_dict` is a dictionary where each key is an area code and each value is the state corresponding to that code.\n",
    "\n",
    "```py\n",
    "codes_dict = {...\n",
    "208: 'Idaho',\n",
    "209: 'California',\n",
    "210: 'Texas',\n",
    "212: 'New York',\n",
    "213: 'California',\n",
    "...}\n",
    "```\n",
    "    \n",
    "Create a new dictionary, `states_dict`, where each key is a **state** and each value is a **list of area codes in that state**. For instance:\n",
    "    \n",
    "```py\n",
    "states_dict = {...\n",
    " 'Washington': [206, 253, ...],\n",
    " 'Michigan': [231, 248, ...],\n",
    " 'Idaho': [208],\n",
    " 'California': [209, 213, ...],\n",
    " 'Texas': [210, 214, ...],\n",
    " ...}\n",
    "    \n",
    "```\n",
    "    \n",
    "</div>"
   ]
  },
  {
   "cell_type": "code",
   "execution_count": null,
   "id": "011d89a0",
   "metadata": {
    "deletable": true,
    "editable": true
   },
   "outputs": [],
   "source": [
    "states_dict = {}\n",
    "..."
   ]
  },
  {
   "cell_type": "code",
   "execution_count": null,
   "id": "9e16b150",
   "metadata": {
    "deletable": true,
    "editable": true
   },
   "outputs": [],
   "source": []
  },
  {
   "cell_type": "markdown",
   "id": "82e7e559",
   "metadata": {
    "deletable": true,
    "editable": true,
    "slideshow": {
     "slide_type": "slide"
    }
   },
   "source": [
    "### Walkthrough video of area codes example"
   ]
  },
  {
   "cell_type": "markdown",
   "id": "13564463",
   "metadata": {
    "deletable": true,
    "editable": true,
    "slideshow": {
     "slide_type": "fragment"
    }
   },
   "source": [
    "- If we don't finish the area codes example in class, there's a walkthrough video of it below."
   ]
  },
  {
   "cell_type": "code",
   "execution_count": null,
   "id": "085c95e4",
   "metadata": {
    "deletable": true,
    "editable": true
   },
   "outputs": [],
   "source": [
    "YouTubeVideo('IaEuWJCcwjk')"
   ]
  },
  {
   "cell_type": "markdown",
   "id": "8b963bf6",
   "metadata": {
    "deletable": true,
    "editable": true,
    "slideshow": {
     "slide_type": "slide"
    }
   },
   "source": [
    "### What's next?"
   ]
  },
  {
   "cell_type": "markdown",
   "id": "7ae336e7",
   "metadata": {
    "deletable": true,
    "editable": true,
    "slideshow": {
     "slide_type": "fragment"
    }
   },
   "source": [
    "- On Wednesday, we'll start by introducing the `numpy` array, which we'll rely on heavily throughout the semester. We'll see how `numpy` arrays make mathematical operations easy and efficient."
   ]
  },
  {
   "cell_type": "markdown",
   "id": "2f32299a",
   "metadata": {
    "deletable": true,
    "editable": true,
    "slideshow": {
     "slide_type": "fragment"
    }
   },
   "source": [
    "- We'll also work with 2D `numpy` arrays, which have applications from image processing to ranking search results on Google."
   ]
  },
  {
   "cell_type": "markdown",
   "id": "2f8f7cc8",
   "metadata": {
    "deletable": true,
    "editable": true,
    "slideshow": {
     "slide_type": "fragment"
    }
   },
   "source": [
    "- 2D `numpy` arrays work similarly to DataFrames (tables), which we'll start learning about next week."
   ]
  }
 ],
 "metadata": {
  "celltoolbar": "None",
  "kernelspec": {
   "display_name": "Python 3 (ipykernel)",
   "language": "python",
   "name": "python3"
  },
  "language_info": {
   "codemirror_mode": {
    "name": "ipython",
    "version": 3
   },
   "file_extension": ".py",
   "mimetype": "text/x-python",
   "name": "python",
   "nbconvert_exporter": "python",
   "pygments_lexer": "ipython3",
   "version": "3.10.16"
  },
  "livereveal": {
   "scroll": true
  },
  "rise": {
   "transition": "none"
  }
 },
 "nbformat": 4,
 "nbformat_minor": 5
}
