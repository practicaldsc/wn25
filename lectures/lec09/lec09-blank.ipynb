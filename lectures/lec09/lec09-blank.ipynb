{
 "cells": [
  {
   "cell_type": "code",
   "execution_count": null,
   "id": "23d2ee63",
   "metadata": {
    "deletable": true,
    "editable": true,
    "slideshow": {
     "slide_type": "skip"
    }
   },
   "outputs": [],
   "source": [
    "from lec_utils import *"
   ]
  },
  {
   "cell_type": "markdown",
   "id": "72b9fbcd",
   "metadata": {
    "deletable": true,
    "editable": true,
    "slideshow": {
     "slide_type": "slide"
    },
    "tags": []
   },
   "source": [
    "<div class=\"alert alert-info\" markdown=\"1\">\n",
    "\n",
    "#### Lecture 9\n",
    "\n",
    "# Regular Expressions\n",
    "\n",
    "### EECS 398: Practical Data Science, Winter 2025\n",
    "\n",
    "<small><a style=\"text-decoration: none\" href=\"https://practicaldsc.org\">practicaldsc.org</a> • <a style=\"text-decoration: none\" href=\"https://github.com/practicaldsc/wn25\">github.com/practicaldsc/wn25</a> • 📣 See latest announcements [**here on Ed**](https://edstem.org/us/courses/69737/discussion/5943734) </small>\n",
    "    \n",
    "</div>"
   ]
  },
  {
   "cell_type": "markdown",
   "id": "4be7fa1f",
   "metadata": {
    "deletable": true,
    "editable": true,
    "slideshow": {
     "slide_type": "slide"
    }
   },
   "source": [
    "### Agenda 📆\n",
    "\n",
    "Today's lecture will mostly be about **regular expressions**. Good resources:\n",
    "- [regex101.com](https://regex101.com), a helpful site to have open while writing regular expressions.\n",
    "- Python [`re` library documentation](https://docs.python.org/3/library/re.html) and [how-to](https://docs.python.org/3/howto/regex.html).<br><small>The \"how-to\" is great, read it!</small>\n",
    "- [regex \"cheat sheet\"](https://practicaldsc.org/resources/other/berkeley-regex-reference.pdf).\n",
    "- These are all on the [**resources tab of the course website**](https://practicaldsc.org/resources) as well."
   ]
  },
  {
   "cell_type": "markdown",
   "id": "372ef2bc",
   "metadata": {
    "deletable": true,
    "editable": true,
    "slideshow": {
     "slide_type": "slide"
    }
   },
   "source": [
    "## Motivation\n",
    "\n",
    "---"
   ]
  },
  {
   "cell_type": "markdown",
   "id": "6da77270",
   "metadata": {
    "deletable": true,
    "editable": true,
    "slideshow": {
     "slide_type": "slide"
    }
   },
   "source": [
    "### Sending emails ✉️"
   ]
  },
  {
   "cell_type": "markdown",
   "id": "4b04225d",
   "metadata": {
    "deletable": true,
    "editable": true,
    "slideshow": {
     "slide_type": "fragment"
    }
   },
   "source": [
    "- Suppose you run a club and have a list of members' names and emails, like so:"
   ]
  },
  {
   "cell_type": "markdown",
   "id": "93b5ef6f",
   "metadata": {
    "deletable": true,
    "editable": true,
    "slideshow": {
     "slide_type": "-"
    }
   },
   "source": [
    "```\n",
    "Sarah Mitchell (lew.bras2@gmail.com) David Chen (chend5@umich.edu) Julia Patel (sung.pat4@icloud.com) Michael Torres (torrmik1@umich.edu) Rebecca Nash (nash.reb3@hotmail.com) Thomas Wright (wright.t5@icloud.com) Amira Hassan (hassa.mra@umich.edu) Kevin Zhang (zhang.k9@hotmail.com) Lauren Cooper (coop.l14@icloud.com) Daniel Park (parkde12@umich.edu) Maria Rodriguez (rod.mar18@hotmail.com) Andrew Lee (lee.and7@icloud.com) Sophia Kim (spk1999@umich.edu) Brandon Wu (wu.bran22@hotmail.com) Rachel Thompson (thom.r11@icloud.com)\n",
    "```"
   ]
  },
  {
   "cell_type": "markdown",
   "id": "6d9b7fc2",
   "metadata": {
    "deletable": true,
    "editable": true,
    "slideshow": {
     "slide_type": "fragment"
    }
   },
   "source": [
    "- How do you extract **just** their emails?"
   ]
  },
  {
   "cell_type": "markdown",
   "id": "733c4b8c",
   "metadata": {
    "deletable": true,
    "editable": true,
    "slideshow": {
     "slide_type": "slide"
    }
   },
   "source": [
    "<center><img src=\"imgs/motivation.png\" width=80%></center>"
   ]
  },
  {
   "cell_type": "markdown",
   "id": "e69dbce5",
   "metadata": {
    "deletable": true,
    "editable": true,
    "slideshow": {
     "slide_type": "fragment"
    }
   },
   "source": [
    "<center>What does <code>re.findall(r'\\(([\\w.]+@[\\w.]+)\\)', s)</code> do?</center>"
   ]
  },
  {
   "cell_type": "markdown",
   "id": "1e4757a3",
   "metadata": {
    "deletable": true,
    "editable": true,
    "slideshow": {
     "slide_type": "slide"
    }
   },
   "source": [
    "## Basic regular expressions\n",
    "\n",
    "---"
   ]
  },
  {
   "cell_type": "markdown",
   "id": "2e498cf5",
   "metadata": {
    "deletable": true,
    "editable": true,
    "slideshow": {
     "slide_type": "slide"
    }
   },
   "source": [
    "### Regular expressions"
   ]
  },
  {
   "cell_type": "markdown",
   "id": "2b4ab20c",
   "metadata": {
    "deletable": true,
    "editable": true,
    "slideshow": {
     "slide_type": "fragment"
    }
   },
   "source": [
    "- A regular expression, or **regex** for short, is a sequence of characters used to **match patterns in strings**."
   ]
  },
  {
   "cell_type": "markdown",
   "id": "f54f2290",
   "metadata": {
    "deletable": true,
    "editable": true,
    "slideshow": {
     "slide_type": "fragment"
    }
   },
   "source": [
    "- For example, `\\(\\d{3}\\) \\d{3}-\\d{4}` describes a **pattern** that matches US phone numbers of the form `'(XXX) XXX-XXXX'`."
   ]
  },
  {
   "cell_type": "markdown",
   "id": "2e263545",
   "metadata": {
    "deletable": true,
    "editable": true,
    "slideshow": {
     "slide_type": "fragment"
    }
   },
   "source": [
    "- Think of regex as a \"mini-language\".<br><small>Formally, they are a **grammar** for describing a language.</small>"
   ]
  },
  {
   "cell_type": "markdown",
   "id": "0e0f892a",
   "metadata": {
    "deletable": true,
    "editable": true,
    "slideshow": {
     "slide_type": "fragment"
    }
   },
   "source": [
    "- **Pros ✅**: They are very powerful and are widely used – virtually every programming language has a module for working with them."
   ]
  },
  {
   "cell_type": "markdown",
   "id": "60aaed40",
   "metadata": {
    "deletable": true,
    "editable": true,
    "slideshow": {
     "slide_type": "fragment"
    }
   },
   "source": [
    "- **Cons ❌**: They can be hard to read and have many different \"dialects.\""
   ]
  },
  {
   "cell_type": "markdown",
   "id": "1acf6f93",
   "metadata": {
    "deletable": true,
    "editable": true,
    "slideshow": {
     "slide_type": "slide"
    }
   },
   "source": [
    "### Writing regular expressions"
   ]
  },
  {
   "cell_type": "markdown",
   "id": "553127b3",
   "metadata": {
    "deletable": true,
    "editable": true,
    "slideshow": {
     "slide_type": "fragment"
    }
   },
   "source": [
    "- You will ultimately write most of your regular expressions in Python, using the `re` module. We will see how to do so shortly."
   ]
  },
  {
   "cell_type": "markdown",
   "id": "9b744f8c",
   "metadata": {
    "deletable": true,
    "editable": true,
    "slideshow": {
     "slide_type": "fragment"
    }
   },
   "source": [
    "- However, a useful tool for designing regular expressions is [**regex101.com**](https://regex101.com)."
   ]
  },
  {
   "cell_type": "markdown",
   "id": "1700f69b",
   "metadata": {
    "deletable": true,
    "editable": true,
    "slideshow": {
     "slide_type": "fragment"
    }
   },
   "source": [
    "- We will use it heavily during lecture; you should have it open as we work through examples. **If you're trying to revisit this lecture in the future, you'll likely want to watch the recording; just looking at the notebook won't give you enough context.**"
   ]
  },
  {
   "cell_type": "markdown",
   "id": "77ca90c0",
   "metadata": {
    "deletable": true,
    "editable": true,
    "slideshow": {
     "slide_type": "slide"
    }
   },
   "source": [
    "### Literals\n",
    "\n",
    "- A literal is a character that has no special meaning.\n",
    "\n",
    "- Letters, numbers, and some symbols are all literals.\n",
    "\n",
    "- Some symbols, like `.`, `*`, `(`, and `)`, are special characters.\n",
    "\n",
    "- ***Example***: The regex `hey` matches the string `'hey'`. The regex `he.` also matches the string `'hey'`."
   ]
  },
  {
   "cell_type": "markdown",
   "id": "2690e9c2",
   "metadata": {
    "deletable": true,
    "editable": true,
    "slideshow": {
     "slide_type": "slide"
    }
   },
   "source": [
    "### Regex building blocks 🧱\n",
    "\n",
    "The four main building blocks for all regexes are shown below.<br><small><a href=\"https://www.cs.princeton.edu/courses/archive/spring17/cos226/lectures/54RegularExpressions.pdf)\">table source</a>, <a href=\"https://docs.google.com/presentation/d/1xQsqa7e3xDZ9nBiekbSBOecwvQm8pSVGa-FBoV6aJ7E/edit#slide=id.g11197671c7e_0_919\">inspiration</a>.</small>\n",
    "\n",
    "| operation | order of op. | example | matches ✅ | does not match ❌ |\n",
    "|:--- |:---|:---|:---|:---|\n",
    "| <span style='color:purple'><b>concatenation</b></span> | 3 | `AABAAB` | `'AABAAB'` | every other string |\n",
    "| <span style='color:purple'><b>or</b></span> | 4 | `AA\\|BAAB` | `'AA'`, `'BAAB'` | every other string |\n",
    "| <span style='color:purple'><b>closure</b><br>(zero or more)</span> | 2 | `AB*A` | `'AA'`, `'ABBBBBBA'` | `'AB'`, `'ABABA'` |\n",
    "| <span style='color:purple'><b>parentheses</b></span> | 1 | `A(A\\|B)AAB` <hr style=\"height:1px\"> `(AB)*A` | `'AAAAB'`, `'ABAAB'`<hr style=\"height:1px\">`'A'`, `'ABABABABA'` | every other string<hr style=\"height:1px\">`'AA'`, `'ABBA'` |\n",
    "\n",
    "Note that `|`, `(`, `)`, and `*` are **special characters**, not literals. They manipulate the characters around them."
   ]
  },
  {
   "cell_type": "markdown",
   "id": "6bce69b5",
   "metadata": {
    "deletable": true,
    "editable": true,
    "slideshow": {
     "slide_type": "slide"
    }
   },
   "source": [
    "***Example (or, parentheses)***:\n",
    "- What does `EECS 280|398` match?\n",
    "- What does `EECS (280|398)` match?"
   ]
  },
  {
   "cell_type": "markdown",
   "id": "8b0ce824",
   "metadata": {
    "deletable": true,
    "editable": true,
    "slideshow": {
     "slide_type": "slide"
    }
   },
   "source": [
    "***Example (closure, parentheses)***:\n",
    "- What does `eecs*` match?\n",
    "- What does `(eecs)*` match?"
   ]
  },
  {
   "cell_type": "markdown",
   "id": "aa98b398",
   "metadata": {
    "deletable": true,
    "editable": true,
    "slideshow": {
     "slide_type": "slide"
    }
   },
   "source": [
    "<div class=\"alert alert-success\" markdown=\"1\">\n",
    "    <h3>Activity</h3>\n",
    "\n",
    "Write a regular expression that matches `'billy'`, `'billlly'`, `'billlllly'`, etc.\n",
    "- First, think about how to match strings with any even number of `'l'`s, including zero `'l'`s (i.e. `'biy'`).\n",
    "- Then, think about how to match only strings with a **positive even** number of `'l'`s.\n",
    "\n",
    "</div>\n",
    "\n",
    "<br>\n",
    "\n",
    "<details>\n",
    "<summary>\n",
    "    ✅ Click here to see the answer <b>after</b> you've tried it yourself at <a href='https://regex101.com'>regex101.com</a>.\n",
    "</summary>\n",
    "<code>bi(ll)*y</code> will match any even number of <code>'l'</code>s, including 0.\n",
    "    \n",
    "To match only a positive even number of <code>'l'</code>s, we'd need to first \"fix into place\" two <code>'l'</code>s, and then follow that up with zero or more pairs of <code>'l'</code>s. This specifies the regular expression <code>bill(ll)*y</code>.\n",
    "    </details>"
   ]
  },
  {
   "cell_type": "markdown",
   "id": "f91b91af",
   "metadata": {
    "deletable": true,
    "editable": true,
    "slideshow": {
     "slide_type": "slide"
    }
   },
   "source": [
    "<div class=\"alert alert-success\" markdown=\"1\">\n",
    "    <h3>Activity</h3>\n",
    "\n",
    "Write a regular expression that matches `'billy'`, `'billlly'`, `'biggy'`, `'biggggy'`, etc.\n",
    "\n",
    "<br>\n",
    "\n",
    "Specifically, it should match any string with a **positive even** number of `'l'`s in the middle, or a **positive even** number of `'g'`s in the middle.\n",
    "\n",
    "</div>\n",
    "\n",
    "<br>\n",
    "\n",
    "<details>\n",
    "<summary>\n",
    "    ✅ Click here to see the answer <b>after</b> you've tried it yourself at <a href='https://regex101.com'>regex101.com</a>.\n",
    "</summary>\n",
    "\n",
    "Possible answers: <code>bi(ll(ll)\\*|gg(gg)\\*)y</code> or <code>bill(ll)\\*y|bigg(gg)\\*y</code>.\n",
    " \n",
    "<br>\n",
    "\n",
    "Note, <code>bill(ll)\\*|gg(gg)\\*y</code> is <b>not</b> a valid answer! This is because \"concatenation\" comes before \"or\" in the order of operations. This regular expression would match strings that match <code>bill(ll)\\*</code>, like <code>'billll'</code>, OR strings that match <code>gg(gg)\\*y</code>, like <code>'ggy'</code>.\n",
    "\n",
    "    \n",
    "</details>"
   ]
  },
  {
   "cell_type": "markdown",
   "id": "1262d263",
   "metadata": {
    "deletable": true,
    "editable": true,
    "slideshow": {
     "slide_type": "slide"
    }
   },
   "source": [
    "## Intermediate regex\n",
    "\n",
    "---"
   ]
  },
  {
   "cell_type": "markdown",
   "id": "c6c907f4",
   "metadata": {
    "deletable": true,
    "editable": true,
    "slideshow": {
     "slide_type": "slide"
    }
   },
   "source": [
    "### More regex syntax\n",
    "\n",
    "| operation | example | matches ✅ | does not match ❌ |\n",
    "|:--- |:---|:---|:---|\n",
    "| <span style='color:purple'><b>wildcard</b></span> | `.U.U.U.` | `'CUMULUS'`<br>`'JUGULUM'` | `'SUCCUBUS'`<br>`'TUMULTUOUS'` |\n",
    "| <span style='color:purple'><b>character class</b></span>  | `[A-Za-z][a-z]*` | `'word'`<br>`'Capitalized'` | `'camelCase'`<br>`'4illegal'` |\n",
    "| <span style='color:purple'><b>at least one</b></span> | `bi(ll)+y` | `'billy'`<br>`'billlllly'` | `'biy'`<br>`'bily'` |\n",
    "| <span style='color:purple'><b>between $i$ and $j$ occurrences</b></span> | `m[aeiou]{1,2}m` | `'mem'`<br>`'maam'`<br>`'miem'` | `'mm'`<br>`'mooom'`<br>`'meme'` |\n",
    "\n",
    "`.`, `[`, `]`, `+`, `{`, and `}` are also special characters, in addition to `|`, `(`, `)`, and `*`."
   ]
  },
  {
   "cell_type": "markdown",
   "id": "127a2eb9",
   "metadata": {
    "deletable": true,
    "editable": true,
    "slideshow": {
     "slide_type": "slide"
    }
   },
   "source": [
    "***Example (character classes, at least one)***: `[A-E]+` is just shortform for `(A|B|C|D|E)(A|B|C|D|E)*`."
   ]
  },
  {
   "cell_type": "markdown",
   "id": "59f9cc24",
   "metadata": {
    "deletable": true,
    "editable": true,
    "slideshow": {
     "slide_type": "slide"
    }
   },
   "source": [
    "***Example (wildcard)***: \n",
    "- What does `.` match? \n",
    "- What does `he.` match? \n",
    "- What does `...` match?"
   ]
  },
  {
   "cell_type": "markdown",
   "id": "5ed92df1",
   "metadata": {
    "deletable": true,
    "editable": true,
    "slideshow": {
     "slide_type": "slide"
    }
   },
   "source": [
    "***Example (at least one, closure)***: \n",
    "- What does `123+` match?\n",
    "- What does `123*` match?"
   ]
  },
  {
   "cell_type": "markdown",
   "id": "73266a05",
   "metadata": {
    "deletable": true,
    "editable": true,
    "slideshow": {
     "slide_type": "slide"
    }
   },
   "source": [
    "***Example (number of occurrences)***: What does `tri{3, 5}` match? Does it match `'triiiii'`?"
   ]
  },
  {
   "cell_type": "markdown",
   "id": "8b84257a",
   "metadata": {
    "deletable": true,
    "editable": true,
    "slideshow": {
     "slide_type": "slide"
    }
   },
   "source": [
    "***Example (character classes, number of occurrences)***:\n",
    "What does `[1-6a-f]{3}-[7-9E-S]{2}` match?"
   ]
  },
  {
   "cell_type": "markdown",
   "id": "5f2baa38",
   "metadata": {
    "deletable": true,
    "editable": true,
    "slideshow": {
     "slide_type": "slide"
    }
   },
   "source": [
    "<div class=\"alert alert-success\" markdown=\"1\">\n",
    "    <h3>Activity</h3>\n",
    "\n",
    "Write a regular expression that matches any lowercase string has a repeated vowel, such as `'noon'`, `'peel'`, `'festoon'`, or `'zeebraa'`.\n",
    "\n",
    "</div>\n",
    "\n",
    "<br>\n",
    "\n",
    "<details>\n",
    "<summary>\n",
    "    ✅ Click here to see the answer <b>after</b> you've tried it yourself at <a href='https://regex101.com'>regex101.com</a>.\n",
    "</summary>\n",
    "\n",
    "One answer: <code>[a-z]\\*(aa|ee|ii|oo|uu)[a-z]\\*</code>\n",
    " \n",
    "<br>\n",
    "\n",
    "This regular expression matches strings of lowercase characters that have <code>'aa'</code>, <code>'ee'</code>, <code>'ii'</code>, <code>'oo'</code>, or <code>'uu'</code> in them anywhere. <code>[a-z]\\*</code> means \"zero or more of any lowercase characters\"; essentially we are saying it doesn't matter what letters come before or after the double vowels, as long as the double vowels exist somewhere.\n",
    "\n",
    "    \n",
    "</details>"
   ]
  },
  {
   "cell_type": "markdown",
   "id": "59cc177b",
   "metadata": {
    "deletable": true,
    "editable": true,
    "slideshow": {
     "slide_type": "slide"
    }
   },
   "source": [
    "<div class=\"alert alert-success\" markdown=\"1\">\n",
    "    <h3>Activity</h3>\n",
    "\n",
    "Write a regular expression that matches any string that contains **both** a lowercase letter and a number, in any order. Examples include `'billy398'`, `'398!!billy'`, and `'bil3ly98'`.\n",
    "\n",
    "</div>\n",
    "\n",
    "<br>\n",
    "\n",
    "<details>\n",
    "<summary>\n",
    "    ✅ Click here to see the answer <b>after</b> you've tried it yourself at <a href='https://regex101.com'>regex101.com</a>.\n",
    "</summary>\n",
    "\n",
    "One answer: <code>(.\\*[a-z].\\*[0-9].\\*)|(.\\*[0-9].\\*[a-z].\\*)</code>\n",
    " \n",
    "<br>\n",
    "\n",
    "We can break the above regex into two parts – everything before the `|`, and everything after the `|`.\n",
    "\n",
    "The first part, <code>.\\*[a-z].\\*[0-9].\\*</code>, matches strings in which there is at least one lowercase character and at least one digit, with the lowercase character coming first.\n",
    "\n",
    "The second part, <code>.\\*[0-9].\\*[a-z].\\*</code>, matches strings in which there is at least one lowercase character and at least one digit, with the digit coming first.\n",
    "    \n",
    "Note, the <code>.\\*</code> between the digit and letter classes is needed in the event the string has non-digit and non-letter characters.\n",
    "    \n",
    "<b>This is the kind of task that would be easier to accomplish with regular Python string methods.</b>\n",
    "\n",
    "    \n",
    "</details>"
   ]
  },
  {
   "cell_type": "markdown",
   "id": "f7f64643",
   "metadata": {
    "deletable": true,
    "editable": true,
    "slideshow": {
     "slide_type": "slide"
    }
   },
   "source": [
    "### Even more regex syntax\n",
    "\n",
    "| operation | example | matches ✅ | does not match ❌ |\n",
    "|:--- |:---|:---|:---|\n",
    "| <span style='color:purple'><b>escape character</b></span> | `umich\\.edu` | `'umich.edu'` | `'umich!edu'` |\n",
    "| <span style='color:purple'><b>beginning of line</b></span> | `^ark` | `'ark two'`<br>`'ark o ark'` | `'dark'` |\n",
    "| <span style='color:purple'><b>end of line</b></span>  | `ark$` | `'dark'`<br>`'ark o ark'` | `'ark two'` |\n",
    "| <span style='color:purple'><b>zero or one</b></span> | `cat?` | `'ca'`<br>`'cat'` | `'cart'` (matches `'ca'` only) |\n",
    "| <span style='color:purple'><b>built-in character classes*</b></span> | `\\w+` <br> `\\d+` | `'billy'`<br>`'231231'` | `'this person'`<br>`'858 people'` |\n",
    "| <span style='color:purple'><b>character class negation</b></span> | `[^a-z]+` | `'WOLVERINE551'`<br>`'1721$$'` | `'porch'`<br>`'billy.edu'` |"
   ]
  },
  {
   "cell_type": "markdown",
   "id": "476079a9",
   "metadata": {
    "deletable": true,
    "editable": true,
    "slideshow": {
     "slide_type": "fragment"
    }
   },
   "source": [
    "****Note***: in Python's implementation of regex,\n",
    "- `\\d` refers to digits.\n",
    "- `\\w` refers to alphanumeric characters (`[A-Z][a-z][0-9]_`). **Whenever we say \"alphanumeric\" in an assignment, we're referring to `\\w`!**\n",
    "- `\\s` refers to whitespace.\n",
    "- `\\b` is a word boundary."
   ]
  },
  {
   "cell_type": "markdown",
   "id": "73b26ab3",
   "metadata": {
    "deletable": true,
    "editable": true,
    "slideshow": {
     "slide_type": "slide"
    }
   },
   "source": [
    "***Example (escaping)***: \n",
    "- What does `he.` match? \n",
    "- What does `he\\.` match? \n",
    "- What does `(734)` match? \n",
    "- What does `\\(734\\)` match?"
   ]
  },
  {
   "cell_type": "markdown",
   "id": "3d493a5a",
   "metadata": {
    "deletable": true,
    "editable": true,
    "slideshow": {
     "slide_type": "slide"
    }
   },
   "source": [
    "***Example (anchors)***: \n",
    "- What does `734-764` match?\n",
    "- What does `^734-764` match?\n",
    "- What does `734-764$` match?"
   ]
  },
  {
   "cell_type": "markdown",
   "id": "6b9ee4a1",
   "metadata": {
    "deletable": true,
    "editable": true,
    "slideshow": {
     "slide_type": "slide"
    }
   },
   "source": [
    "***Example (built-in character classes)***:\n",
    "\n",
    "- What does `\\d{3} \\d{3}-\\d{4}` match?\n",
    "- What does `\\bcat\\b` match? Does it find a match in `'my cat is hungry'`? What about `'concatenate'`, `'kitty cat'`, or `'in-the-cat-hat'`?\n",
    "\n",
    "<br><br>\n",
    "\n",
    "Remember, in Python's implementation of regex,\n",
    "- `\\d` refers to digits.\n",
    "- `\\w` refers to alphanumeric characters (`[A-Z][a-z][0-9]_`). **Whenever we say \"alphanumeric\" in an assignment, we're referring to `\\w`!**\n",
    "- `\\s` refers to whitespace.\n",
    "- `\\b` is a word boundary."
   ]
  },
  {
   "cell_type": "markdown",
   "id": "54096850",
   "metadata": {
    "deletable": true,
    "editable": true,
    "slideshow": {
     "slide_type": "slide"
    }
   },
   "source": [
    "<div class=\"alert alert-success\" markdown=\"1\">\n",
    "    <h3>Activity</h3>\n",
    "\n",
    "Write a regular expression that matches any string that:\n",
    "- is between 5 and 10 characters long, and\n",
    "- is made up of only vowels (either uppercase or lowercase, including `'Y'` and `'y'`), periods, and spaces.\n",
    "\n",
    "Examples include `'yoo.ee.IOU'` and `'AI.I oey'`.\n",
    "\n",
    "</div>\n",
    "\n",
    "<br>\n",
    "\n",
    "<details>\n",
    "<summary>\n",
    "    ✅ Click here to see the answer <b>after</b> you've tried it yourself at <a href='https://regex101.com'>regex101.com</a>.\n",
    "</summary>\n",
    "\n",
    "One answer: <code>^[aeiouyAEIOUY. ]{5,10}$</code>\n",
    " \n",
    "<br>\n",
    "\n",
    "<b>Key idea</b>: Within a character class (i.e. <code>[...]</code>), special characters do not generally need to be escaped.\n",
    "\n",
    "\n",
    "    \n",
    "</details>"
   ]
  },
  {
   "cell_type": "markdown",
   "id": "f7db0597",
   "metadata": {
    "deletable": true,
    "editable": true,
    "slideshow": {
     "slide_type": "slide"
    }
   },
   "source": [
    "## Regex in Python\n",
    "\n",
    "---"
   ]
  },
  {
   "cell_type": "markdown",
   "id": "25c48a95",
   "metadata": {
    "deletable": true,
    "editable": true,
    "slideshow": {
     "slide_type": "slide"
    }
   },
   "source": [
    "### `re` in Python"
   ]
  },
  {
   "cell_type": "markdown",
   "id": "3befee34",
   "metadata": {
    "deletable": true,
    "editable": true,
    "slideshow": {
     "slide_type": "fragment"
    }
   },
   "source": [
    "- The `re` module is built into Python. It allows us to use regular expressions to find, extract, and replace strings."
   ]
  },
  {
   "cell_type": "code",
   "execution_count": null,
   "id": "66128e36",
   "metadata": {
    "deletable": true,
    "editable": true,
    "scrolled": false
   },
   "outputs": [],
   "source": [
    "import re"
   ]
  },
  {
   "cell_type": "markdown",
   "id": "c34ab381",
   "metadata": {
    "deletable": true,
    "editable": true,
    "slideshow": {
     "slide_type": "fragment"
    }
   },
   "source": [
    "- `re.findall` takes in a string `regex` and a string `text` and returns a list of all matches of `regex` in `text`. **You'll use this most often.**"
   ]
  },
  {
   "cell_type": "code",
   "execution_count": null,
   "id": "9af5b632",
   "metadata": {
    "deletable": true,
    "editable": true,
    "scrolled": false
   },
   "outputs": [],
   "source": [
    "re.findall('AB*A', \n",
    "           'here is a string for you: ABBBA. here is another: ABBBBBBBA')"
   ]
  },
  {
   "cell_type": "markdown",
   "id": "018c18f8",
   "metadata": {
    "deletable": true,
    "editable": true,
    "slideshow": {
     "slide_type": "fragment"
    }
   },
   "source": [
    "- `re.sub` takes in a string `regex`, a string `repl`, and a string `text`, and replaces all matches of `regex` in `text` with `repl`."
   ]
  },
  {
   "cell_type": "code",
   "execution_count": null,
   "id": "d07c2503",
   "metadata": {
    "deletable": true,
    "editable": true,
    "scrolled": false
   },
   "outputs": [],
   "source": [
    "re.sub('AB*A', \n",
    "       'billy', \n",
    "       'here is a string for you: ABBBA. here is another: ABBBBBBBA')"
   ]
  },
  {
   "cell_type": "markdown",
   "id": "5dbdf21b",
   "metadata": {
    "deletable": true,
    "editable": true,
    "slideshow": {
     "slide_type": "slide"
    }
   },
   "source": [
    "### Raw strings\n",
    "\n",
    "When using regular expressions in Python, it's a good idea to use **raw strings**, denoted by an `r` before the quotes, e.g. `r'exp'`."
   ]
  },
  {
   "cell_type": "code",
   "execution_count": null,
   "id": "4564ab99",
   "metadata": {
    "deletable": true,
    "editable": true,
    "slideshow": {
     "slide_type": "-"
    }
   },
   "outputs": [],
   "source": [
    "re.findall('\\bcat\\b', 'my cat is hungry')"
   ]
  },
  {
   "cell_type": "code",
   "execution_count": null,
   "id": "e5d87d68",
   "metadata": {
    "deletable": true,
    "editable": true
   },
   "outputs": [],
   "source": [
    "re.findall(r'\\bcat\\b', 'my cat is hungry')"
   ]
  },
  {
   "cell_type": "code",
   "execution_count": null,
   "id": "0ecc98e8",
   "metadata": {
    "deletable": true,
    "editable": true
   },
   "outputs": [],
   "source": [
    "# Huh?\n",
    "print('\\bcat\\b')"
   ]
  },
  {
   "cell_type": "markdown",
   "id": "81079560",
   "metadata": {
    "deletable": true,
    "editable": true,
    "slideshow": {
     "slide_type": "slide"
    }
   },
   "source": [
    "### Capturing and non-capturing groups"
   ]
  },
  {
   "cell_type": "markdown",
   "id": "f2d68572",
   "metadata": {
    "deletable": true,
    "editable": true,
    "slideshow": {
     "slide_type": "fragment"
    }
   },
   "source": [
    "- Surround a regex with `(` and `)` to define a **capture group** within a pattern. Capture groups are useful for extracting relevant parts of a string."
   ]
  },
  {
   "cell_type": "code",
   "execution_count": null,
   "id": "59eac2f7",
   "metadata": {
    "deletable": true,
    "editable": true,
    "scrolled": false
   },
   "outputs": [],
   "source": [
    "re.findall(r'\\w+@(\\w+)\\.edu', \n",
    "           'my old email was billy@notumich.edu, my new email is notbilly@umich.edu')"
   ]
  },
  {
   "cell_type": "markdown",
   "id": "c2eb258b",
   "metadata": {
    "deletable": true,
    "editable": true,
    "slideshow": {
     "slide_type": "fragment"
    }
   },
   "source": [
    "- Notice what happens if we remove the `(` and `)`!"
   ]
  },
  {
   "cell_type": "code",
   "execution_count": null,
   "id": "641da310",
   "metadata": {
    "deletable": true,
    "editable": true,
    "scrolled": true
   },
   "outputs": [],
   "source": [
    "re.findall(r'\\w+@\\w+\\.edu', \n",
    "           'my old email was billy@notumich.edu, my new email is notbilly@umich.edu')"
   ]
  },
  {
   "cell_type": "markdown",
   "id": "9faeb7e8",
   "metadata": {
    "deletable": true,
    "editable": true,
    "slideshow": {
     "slide_type": "fragment"
    }
   },
   "source": [
    "- Earlier, we also saw that parentheses can be used to group parts of a regex together. When using `re.findall`, all groups are treated as capturing groups."
   ]
  },
  {
   "cell_type": "code",
   "execution_count": null,
   "id": "ba23767b",
   "metadata": {
    "deletable": true,
    "editable": true,
    "scrolled": false
   },
   "outputs": [],
   "source": [
    "# A regex that matches strings with two of the same vowel followed by 3 digits.\n",
    "# We only want to capture the digits, but...\n",
    "re.findall(r'(aa|ee|ii|oo|uu)(\\d{3})', 'eeoo124')"
   ]
  },
  {
   "cell_type": "markdown",
   "id": "33114992",
   "metadata": {
    "deletable": true,
    "editable": true,
    "slideshow": {
     "slide_type": "fragment"
    }
   },
   "source": [
    "- To specify that we **don't** want to capture a particular group, use `?:` inside the parentheses at the start.<br><small>`?:` specifies a **non-capturing group**.</small>"
   ]
  },
  {
   "cell_type": "code",
   "execution_count": null,
   "id": "f3d5449d",
   "metadata": {
    "deletable": true,
    "editable": true
   },
   "outputs": [],
   "source": [
    "re.findall(r'(?:aa|ee|ii|oo|uu)(\\d{3})', 'eeoo124')"
   ]
  },
  {
   "cell_type": "markdown",
   "id": "9000921b",
   "metadata": {
    "deletable": true,
    "editable": true,
    "slideshow": {
     "slide_type": "slide"
    }
   },
   "source": [
    "### Example: Extracting hashtags"
   ]
  },
  {
   "cell_type": "markdown",
   "id": "bb7d1fad",
   "metadata": {
    "deletable": true,
    "editable": true,
    "slideshow": {
     "slide_type": "fragment"
    }
   },
   "source": [
    "- The dataset `'data/ira.csv'` contains tweets tagged by Twitter as likely being posted by the [Internet Research Agency](https://en.wikipedia.org/wiki/Internet_Research_Agency), the tweet factory facing allegations for attempting to influence US political elections.<br><small>For more context, read [this Wikipedia article](https://en.wikipedia.org/wiki/Russian_interference_in_the_2016_United_States_elections).</small>"
   ]
  },
  {
   "cell_type": "code",
   "execution_count": null,
   "id": "38d53be7",
   "metadata": {
    "deletable": true,
    "editable": true
   },
   "outputs": [],
   "source": [
    "tweets = pd.read_csv('data/ira.csv', names=['id', 'user', 'time', 'text'])\n",
    "tweets.head()"
   ]
  },
  {
   "cell_type": "code",
   "execution_count": null,
   "id": "351eea24",
   "metadata": {
    "deletable": true,
    "editable": true
   },
   "outputs": [],
   "source": [
    "tweets.shape"
   ]
  },
  {
   "cell_type": "markdown",
   "id": "37fe1be8",
   "metadata": {
    "deletable": true,
    "editable": true,
    "slideshow": {
     "slide_type": "fragment"
    }
   },
   "source": [
    "- **Question**: What are the most common hashtags among all 9000 tweets?<br><small>A hashtag is any **alphanumeric string** beginning with `'#'`, e.g. `'#GoBlue'`.</small>"
   ]
  },
  {
   "cell_type": "markdown",
   "id": "eae0bb54",
   "metadata": {
    "deletable": true,
    "editable": true,
    "slideshow": {
     "slide_type": "slide"
    }
   },
   "source": [
    "### Extracting hashtags"
   ]
  },
  {
   "cell_type": "markdown",
   "id": "d3141b99",
   "metadata": {
    "deletable": true,
    "editable": true,
    "slideshow": {
     "slide_type": "fragment"
    }
   },
   "source": [
    "- Most Series `.str` operations support regular expressions.<br>We can use `re.findall` to find all of the hashtags in a particular string."
   ]
  },
  {
   "cell_type": "code",
   "execution_count": null,
   "id": "122fac47",
   "metadata": {
    "deletable": true,
    "editable": true
   },
   "outputs": [],
   "source": [
    "example_tweet = tweets['text'].iloc[0]\n",
    "example_tweet"
   ]
  },
  {
   "cell_type": "code",
   "execution_count": null,
   "id": "51b8c8a8",
   "metadata": {
    "deletable": true,
    "editable": true
   },
   "outputs": [],
   "source": [
    "re.findall(r'#(\\w+)', example_tweet) "
   ]
  },
  {
   "cell_type": "code",
   "execution_count": null,
   "id": "eacd88dc",
   "metadata": {
    "deletable": true,
    "editable": true
   },
   "outputs": [],
   "source": [
    "re.findall(r'#(\\w+)', 'hey there, no hashtags here') "
   ]
  },
  {
   "cell_type": "markdown",
   "id": "dddd88c6",
   "metadata": {
    "deletable": true,
    "editable": true,
    "slideshow": {
     "slide_type": "fragment"
    }
   },
   "source": [
    "- We can use the Series `str.findall` method, with the regular expression above, to extract hashtags out of each tweet in `tweets['text']`."
   ]
  },
  {
   "cell_type": "code",
   "execution_count": null,
   "id": "3677d416",
   "metadata": {
    "deletable": true,
    "editable": true
   },
   "outputs": [],
   "source": [
    "tags = ...\n",
    "tags.head()"
   ]
  },
  {
   "cell_type": "markdown",
   "id": "e0b35498",
   "metadata": {
    "deletable": true,
    "editable": true,
    "slideshow": {
     "slide_type": "fragment"
    }
   },
   "source": [
    "- We can use the `explode` method on the above Series to separate each list into individual elements."
   ]
  },
  {
   "cell_type": "code",
   "execution_count": null,
   "id": "c98d4129",
   "metadata": {
    "deletable": true,
    "editable": true
   },
   "outputs": [],
   "source": [
    "..."
   ]
  },
  {
   "cell_type": "markdown",
   "id": "8550ba9c",
   "metadata": {
    "deletable": true,
    "editable": true,
    "slideshow": {
     "slide_type": "slide"
    }
   },
   "source": [
    "### Followup questions"
   ]
  },
  {
   "cell_type": "markdown",
   "id": "2333d023",
   "metadata": {
    "deletable": true,
    "editable": true,
    "slideshow": {
     "slide_type": "fragment"
    }
   },
   "source": [
    "- Which accounts were **tagged** most often?<br><small>For example, in the tweet `'I love being a @UMich student'`, user `'UMich'` is tagged.</small>"
   ]
  },
  {
   "cell_type": "markdown",
   "id": "e26533c5",
   "metadata": {
    "deletable": true,
    "editable": true,
    "slideshow": {
     "slide_type": "fragment"
    }
   },
   "source": [
    "- Which accounts tweeted most often?"
   ]
  },
  {
   "cell_type": "markdown",
   "id": "1348cd84",
   "metadata": {
    "deletable": true,
    "editable": true,
    "slideshow": {
     "slide_type": "fragment"
    }
   },
   "source": [
    "- Which websites were **linked** most often?"
   ]
  },
  {
   "cell_type": "markdown",
   "id": "f46c7725",
   "metadata": {
    "deletable": true,
    "editable": true,
    "slideshow": {
     "slide_type": "fragment"
    }
   },
   "source": [
    "- **Why** were these hashtags used by these accounts?<br><small>Again, read the linked Wikipedia article, and do a bit of your own research! These tweets **aren't** by a random sample of Twitter users.</small>"
   ]
  },
  {
   "cell_type": "markdown",
   "id": "7f6b7d51",
   "metadata": {
    "deletable": true,
    "editable": true,
    "slideshow": {
     "slide_type": "skip"
    }
   },
   "source": [
    "<div class=\"alert alert-danger\">\n",
    "    \n",
    "#### Reference Slide\n",
    "\n",
    "### Example: Log parsing"
   ]
  },
  {
   "cell_type": "markdown",
   "id": "2d54b959",
   "metadata": {
    "deletable": true,
    "editable": true,
    "slideshow": {
     "slide_type": "skip"
    }
   },
   "source": [
    "- Web servers typically record every request made of them in the \"logs\"."
   ]
  },
  {
   "cell_type": "code",
   "execution_count": null,
   "id": "16f7b642",
   "metadata": {
    "deletable": true,
    "editable": true,
    "scrolled": false,
    "slideshow": {
     "slide_type": "skip"
    }
   },
   "outputs": [],
   "source": [
    "s = '''132.249.20.188 - - [01/Oct/2024:2:36:15 -0400] \"GET /my/home/ HTTP/1.1\" 200 2585'''"
   ]
  },
  {
   "cell_type": "markdown",
   "id": "fef581d7",
   "metadata": {
    "deletable": true,
    "editable": true,
    "slideshow": {
     "slide_type": "skip"
    }
   },
   "source": [
    "- Let's use our new regex syntax (including capturing groups) to extract the day, month, year, and time from the log string `s`."
   ]
  },
  {
   "cell_type": "code",
   "execution_count": null,
   "id": "8bdc38c3",
   "metadata": {
    "deletable": true,
    "editable": true,
    "scrolled": false,
    "slideshow": {
     "slide_type": "skip"
    }
   },
   "outputs": [],
   "source": [
    "exp = '\\[(.+)\\/(.+)\\/(.+):(.+):(.+):(.+) .+\\]'\n",
    "re.findall(exp, s)"
   ]
  },
  {
   "cell_type": "markdown",
   "id": "bf83d4ac",
   "metadata": {
    "deletable": true,
    "editable": true,
    "slideshow": {
     "slide_type": "skip"
    }
   },
   "source": [
    "- While above regex works, it is not very **specific**. It _works_ on incorrectly formatted log strings."
   ]
  },
  {
   "cell_type": "code",
   "execution_count": null,
   "id": "9349d97a",
   "metadata": {
    "deletable": true,
    "editable": true,
    "scrolled": false,
    "slideshow": {
     "slide_type": "skip"
    }
   },
   "outputs": [],
   "source": [
    "other_s = '[adr/jduy/wffsdffs:r4s4:4wsgdfd:asdf 7]'\n",
    "re.findall(exp, other_s)"
   ]
  },
  {
   "cell_type": "markdown",
   "id": "b6717d91",
   "metadata": {
    "deletable": true,
    "editable": true,
    "slideshow": {
     "slide_type": "skip"
    }
   },
   "source": [
    "- Be as specific in your pattern matching as possible – you don't want to match and extract strings that don't fit the pattern you care about.<br><small>`.*` matches every possible string, but we don't use it very often.</small>"
   ]
  },
  {
   "cell_type": "markdown",
   "id": "e1cac45d",
   "metadata": {
    "deletable": true,
    "editable": true,
    "slideshow": {
     "slide_type": "skip"
    }
   },
   "source": [
    "- A better date extraction regex:\n",
    "    ```\n",
    "    \\[(\\d{2})\\/([A-Z]{1}[a-z]{2})\\/(\\d{4}):(\\d{2}):(\\d{2}):(\\d{2}) -\\d{4}\\]\n",
    "    ```\n",
    "    - `\\d{2}` matches any 2-digit number.\n",
    "    - `[A-Z]{1}` matches any single occurrence of any uppercase letter.\n",
    "    - `[a-z]{2}` matches any 2 consecutive occurrences of lowercase letters.\n",
    "    - Remember, special characters (`[`, `]`, `/`) need to be escaped with `\\`."
   ]
  },
  {
   "cell_type": "code",
   "execution_count": null,
   "id": "00cfeb6c",
   "metadata": {
    "deletable": true,
    "editable": true,
    "scrolled": false,
    "slideshow": {
     "slide_type": "skip"
    }
   },
   "outputs": [],
   "source": [
    "s"
   ]
  },
  {
   "cell_type": "code",
   "execution_count": null,
   "id": "e175becd",
   "metadata": {
    "deletable": true,
    "editable": true,
    "scrolled": false,
    "slideshow": {
     "slide_type": "skip"
    }
   },
   "outputs": [],
   "source": [
    "new_exp = '\\[(\\d{2})\\/([A-Z]{1}[a-z]{2})\\/(\\d{4}):(\\d{2}):(\\d{2}):(\\d{2}) -\\d{4}\\]'\n",
    "re.findall(new_exp, s)"
   ]
  },
  {
   "cell_type": "markdown",
   "id": "e5e1b2be",
   "metadata": {
    "deletable": true,
    "editable": true,
    "slideshow": {
     "slide_type": "skip"
    }
   },
   "source": [
    "- A benefit of `new_exp` over `exp` is that it doesn't capture anything when the string doesn't follow the format we specified."
   ]
  },
  {
   "cell_type": "code",
   "execution_count": null,
   "id": "e232f67b",
   "metadata": {
    "deletable": true,
    "editable": true,
    "scrolled": true,
    "slideshow": {
     "slide_type": "skip"
    }
   },
   "outputs": [],
   "source": [
    "other_s"
   ]
  },
  {
   "cell_type": "code",
   "execution_count": null,
   "id": "b4a1fe61",
   "metadata": {
    "deletable": true,
    "editable": true,
    "scrolled": false,
    "slideshow": {
     "slide_type": "skip"
    }
   },
   "outputs": [],
   "source": [
    "re.findall(new_exp, other_s)"
   ]
  }
 ],
 "metadata": {
  "celltoolbar": "None",
  "kernelspec": {
   "display_name": "Python 3 (ipykernel)",
   "language": "python",
   "name": "python3"
  },
  "language_info": {
   "codemirror_mode": {
    "name": "ipython",
    "version": 3
   },
   "file_extension": ".py",
   "mimetype": "text/x-python",
   "name": "python",
   "nbconvert_exporter": "python",
   "pygments_lexer": "ipython3",
   "version": "3.10.16"
  },
  "livereveal": {
   "scroll": true
  },
  "rise": {
   "transition": "none"
  }
 },
 "nbformat": 4,
 "nbformat_minor": 5
}
