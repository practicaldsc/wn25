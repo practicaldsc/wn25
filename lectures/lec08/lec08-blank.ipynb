{
 "cells": [
  {
   "cell_type": "code",
   "execution_count": null,
   "id": "ab00ef5a",
   "metadata": {
    "deletable": true,
    "editable": true,
    "slideshow": {
     "slide_type": "skip"
    },
    "tags": []
   },
   "outputs": [],
   "source": [
    "from lec_utils import *"
   ]
  },
  {
   "cell_type": "markdown",
   "id": "6179b0c0",
   "metadata": {
    "deletable": true,
    "editable": true,
    "slideshow": {
     "slide_type": "slide"
    },
    "tags": []
   },
   "source": [
    "<div class=\"alert alert-info\" markdown=\"1\">\n",
    "\n",
    "#### Lecture 8\n",
    "\n",
    "# Web Scraping and APIs\n",
    "\n",
    "### EECS 398: Practical Data Science, Winter 2025\n",
    "\n",
    "<small><a style=\"text-decoration: none\" href=\"https://practicaldsc.org\">practicaldsc.org</a> • <a style=\"text-decoration: none\" href=\"https://github.com/practicaldsc/wn25\">github.com/practicaldsc/wn25</a> • 📣 See latest announcements [**here on Ed**](https://edstem.org/us/courses/69737/discussion/5943734) </small>\n",
    "    \n",
    "</div>"
   ]
  },
  {
   "cell_type": "markdown",
   "id": "ca1e8915",
   "metadata": {
    "deletable": true,
    "editable": true,
    "slideshow": {
     "slide_type": "slide"
    }
   },
   "source": [
    "### Agenda 📆\n",
    "\n",
    "- Recap: Missing value imputation 🕳️.<br><small>For this, we'll go back to the Lecture 7 notebook.</small>\n",
    "- Introduction to HTTP.\n",
    "- The structure of HTML.\n",
    "- Parsing HTML.\n",
    "- Example: Scraping quotes 💬.\n",
    "- APIs and JSON."
   ]
  },
  {
   "cell_type": "markdown",
   "id": "edeb0837",
   "metadata": {
    "deletable": true,
    "editable": true,
    "slideshow": {
     "slide_type": "slide"
    }
   },
   "source": [
    "## Introduction to HTTP\n",
    "\n",
    "---"
   ]
  },
  {
   "cell_type": "markdown",
   "id": "01794496",
   "metadata": {
    "deletable": true,
    "editable": true,
    "slideshow": {
     "slide_type": "slide"
    }
   },
   "source": [
    "### Data sources"
   ]
  },
  {
   "cell_type": "markdown",
   "id": "c7076478",
   "metadata": {
    "deletable": true,
    "editable": true,
    "slideshow": {
     "slide_type": "fragment"
    }
   },
   "source": [
    "- Often, the data you need doesn't exist in \"clean\" `.csv` files."
   ]
  },
  {
   "cell_type": "markdown",
   "id": "7575cce3",
   "metadata": {
    "deletable": true,
    "editable": true,
    "slideshow": {
     "slide_type": "fragment"
    }
   },
   "source": [
    "- **Solution**: Collect your own data from the internet!<br><small>For most questions you can think of, the answer exists somewhere on the internet. If not, you can run our own survey – also on the internet!</small>"
   ]
  },
  {
   "cell_type": "markdown",
   "id": "a3192280",
   "metadata": {
    "deletable": true,
    "editable": true,
    "slideshow": {
     "slide_type": "skip"
    }
   },
   "source": [
    "<div class=\"alert alert-danger\">\n",
    "    \n",
    "#### Reference Slide\n",
    "\n",
    "### Manual copy-pasting\n",
    "    \n",
    "</div>"
   ]
  },
  {
   "cell_type": "markdown",
   "id": "c46ceda0",
   "metadata": {
    "deletable": true,
    "editable": true,
    "slideshow": {
     "slide_type": "skip"
    }
   },
   "source": [
    "- If data is already nicely formatted in a table online, sometimes we can easily copy it and paste it into a `.csv` or `.tsv` file.<br><small>`.tsv` stands for \"tab-separated values\", just like `.csv` stands for \"comma-separated values.\"</small> "
   ]
  },
  {
   "cell_type": "markdown",
   "id": "05a06833",
   "metadata": {
    "deletable": true,
    "editable": true,
    "slideshow": {
     "slide_type": "skip"
    }
   },
   "source": [
    "- For example, open the 2024 Michigan Football schedule [**here**](https://mgoblue.com/sports/football/schedule) and click \"Text Only\".\n",
    "\n",
    "\n",
    "<center><img src=\"imgs/mich-schedule.png\" width=700><br><small>This is what you should see.</small></center>"
   ]
  },
  {
   "cell_type": "markdown",
   "id": "c3c96890",
   "metadata": {
    "deletable": true,
    "editable": true,
    "slideshow": {
     "slide_type": "skip"
    }
   },
   "source": [
    "- Copy the text in the table at the bottom and save it in a file named `2024-schedule.tsv` in your `data` folder.<br><small>You may need to do some minor reformatting in the `.tsv` file before this works.<br>**As a challenge**, see if you can find a way to do this entirely within your Terminal, i.e. without opening a text editor!</small>"
   ]
  },
  {
   "cell_type": "code",
   "execution_count": null,
   "id": "1728d2ad",
   "metadata": {
    "deletable": true,
    "editable": true,
    "slideshow": {
     "slide_type": "skip"
    }
   },
   "outputs": [],
   "source": [
    "schedule = ...\n",
    "schedule.head()"
   ]
  },
  {
   "cell_type": "markdown",
   "id": "df57d8e1",
   "metadata": {
    "deletable": true,
    "editable": true,
    "slideshow": {
     "slide_type": "skip"
    }
   },
   "source": [
    "- For Wikipedia specifically, you can use [Wikitable2CSV](https://wikitable2csv.ggor.de/), which converts Wikipedia tables to `.csv` files for you."
   ]
  },
  {
   "cell_type": "markdown",
   "id": "a99183fc",
   "metadata": {
    "deletable": true,
    "editable": true,
    "slideshow": {
     "slide_type": "slide"
    }
   },
   "source": [
    "### Programatically accessing data"
   ]
  },
  {
   "cell_type": "markdown",
   "id": "4581fdcb",
   "metadata": {
    "deletable": true,
    "editable": true,
    "slideshow": {
     "slide_type": "fragment"
    }
   },
   "source": [
    "- We won't always be able to copy-paste tables from online, and even when we can, it's not easily **reproducible**.<br><small>What if [mgoblue.com](https://mgoblue.com/sports/football/schedule) didn't have a \"Text Only\" option? Or what if the schedule changes – how can I prevent myself from having to copy-and-paste again?</small>"
   ]
  },
  {
   "cell_type": "markdown",
   "id": "aa1da0c7",
   "metadata": {
    "deletable": true,
    "editable": true,
    "slideshow": {
     "slide_type": "fragment"
    }
   },
   "source": [
    "- To programmatically download data from the internet, we'll need to use the **HTTP protocol**.<br><small>By \"programmatically\", we mean by writing code.</small>"
   ]
  },
  {
   "cell_type": "markdown",
   "id": "a012331f",
   "metadata": {
    "deletable": true,
    "editable": true,
    "slideshow": {
     "slide_type": "fragment"
    }
   },
   "source": [
    "- We'll cover the essentials of how the internet works for the purposes of accessing data, but for more details, take [EECS 485](https://eecs485.org)."
   ]
  },
  {
   "cell_type": "markdown",
   "id": "195e9f13",
   "metadata": {
    "deletable": true,
    "editable": true,
    "slideshow": {
     "slide_type": "slide"
    }
   },
   "source": [
    "### The request-response model"
   ]
  },
  {
   "cell_type": "markdown",
   "id": "1e2c54c9",
   "metadata": {
    "deletable": true,
    "editable": true,
    "slideshow": {
     "slide_type": "fragment"
    }
   },
   "source": [
    "- HTTP stands for **Hypertext Transfer Protocol**.<br><small>It was developed in 1989 by Tim Berners-Lee (and friends). The \"S\" in HTTPS stands for \"secure\".</small>"
   ]
  },
  {
   "cell_type": "markdown",
   "id": "f3a3e52b",
   "metadata": {
    "deletable": true,
    "editable": true,
    "slideshow": {
     "slide_type": "fragment"
    }
   },
   "source": [
    "- HTTP follows the **request-response** model, in which a <b><span style=\"color:blue\">request</span></b> is made by the <b><span style=\"color:blue\">client</span></b> and a <b><span style=\"color:orange\">response</span></b> is returned by the <b><span style=\"color:orange\">server</span></b>.\n",
    "\n",
    "\n",
    "\n",
    "<center><img src='imgs/req-response.png' width=500></center>"
   ]
  },
  {
   "cell_type": "markdown",
   "id": "d729764f",
   "metadata": {
    "deletable": true,
    "editable": true,
    "slideshow": {
     "slide_type": "fragment"
    }
   },
   "source": [
    "- **Example**: YouTube search 🎥.\n",
    "    - Consider the following URL: https://www.youtube.com/results?search_query=luka+lakers+trade.\n",
    "    - Your web browser, a <b><span style=\"color:blue\">client</span></b>, makes an HTTP <b><span style=\"color:blue\">request</span></b> with a search query.\n",
    "    - The <b><span style=\"color:orange\">server</span></b>, YouTube, is a computer that is sitting somewhere else.\n",
    "    - The server returns a <b><span style=\"color:orange\">response</span></b> that contains the search results.\n",
    "    - **Note**: ?search_query=luka+lakers+trade is called a \"query string.\""
   ]
  },
  {
   "cell_type": "markdown",
   "id": "d9ba1504",
   "metadata": {
    "deletable": true,
    "editable": true,
    "slideshow": {
     "slide_type": "skip"
    }
   },
   "source": [
    "<div class=\"alert alert-danger\">\n",
    "    \n",
    "#### Reference Slide\n",
    "\n",
    "### Consequences of the request-response model\n",
    "    \n",
    "</div>"
   ]
  },
  {
   "cell_type": "markdown",
   "id": "cf6c66fe",
   "metadata": {
    "deletable": true,
    "editable": true,
    "slideshow": {
     "slide_type": "skip"
    }
   },
   "source": [
    "- When a request is sent to view content on a webpage, the server must:\n",
    "    - process your request (i.e. prepare data for the response).\n",
    "    - send content back to the client in its response."
   ]
  },
  {
   "cell_type": "markdown",
   "id": "02771a8a",
   "metadata": {
    "deletable": true,
    "editable": true,
    "slideshow": {
     "slide_type": "skip"
    }
   },
   "source": [
    "- Remember, servers are computers.  Someone has to pay to keep these computers running.<br><small>**Every time you access a website, someone has to pay.**</small>"
   ]
  },
  {
   "cell_type": "markdown",
   "id": "fe133cb4",
   "metadata": {
    "deletable": true,
    "editable": true,
    "slideshow": {
     "slide_type": "skip"
    }
   },
   "source": [
    "- If you make too many requests, the server may block your IP address, or **you may even take down the website**!<br><small>A journalist scraped and accidentally took down the Cook County Inmate Locater, and as a result, inmate's families weren't able to contact them while the site was down.</small>"
   ]
  },
  {
   "cell_type": "markdown",
   "id": "a2ff3116",
   "metadata": {
    "deletable": true,
    "editable": true,
    "slideshow": {
     "slide_type": "slide"
    }
   },
   "source": [
    "### HTTP request methods"
   ]
  },
  {
   "cell_type": "markdown",
   "id": "ff8b2e18",
   "metadata": {
    "deletable": true,
    "editable": true,
    "slideshow": {
     "slide_type": "fragment"
    }
   },
   "source": [
    "- There are several types of request methods; see [Mozilla's web docs](https://developer.mozilla.org/en-US/docs/Web/HTTP/Methods) for a detailed list."
   ]
  },
  {
   "cell_type": "markdown",
   "id": "f7041495",
   "metadata": {
    "deletable": true,
    "editable": true,
    "slideshow": {
     "slide_type": "fragment"
    }
   },
   "source": [
    "- `GET` is used to request data **from** a specified resource.<br><small>Almost all of the requests we'll make in this class are `GET` requests.<br>To load websites, your web browser uses a lot of `GET` requests!</small>"
   ]
  },
  {
   "cell_type": "markdown",
   "id": "0e5d8989",
   "metadata": {
    "deletable": true,
    "editable": true,
    "slideshow": {
     "slide_type": "fragment"
    }
   },
   "source": [
    "- `POST` is used to **send** data to the server. <br><small>For example, uploading a photo to Instagram or entering credit card information on Amazon.</small>"
   ]
  },
  {
   "cell_type": "markdown",
   "id": "27f69c01",
   "metadata": {
    "deletable": true,
    "editable": true,
    "slideshow": {
     "slide_type": "fragment"
    }
   },
   "source": [
    "- You can make requests directly in your Terminal using the `curl` method, which you'll learn more about in EECS 485. **Here, we'll make requests using the `requests` Python module.**<br><small>There are other packages that work similarly (e.g. `urllib`), but `requests` is arguably the easiest to use.</small>"
   ]
  },
  {
   "cell_type": "code",
   "execution_count": null,
   "id": "38ff3277",
   "metadata": {
    "deletable": true,
    "editable": true
   },
   "outputs": [],
   "source": [
    "import requests"
   ]
  },
  {
   "cell_type": "markdown",
   "id": "c9281ab2",
   "metadata": {
    "deletable": true,
    "editable": true,
    "slideshow": {
     "slide_type": "slide"
    }
   },
   "source": [
    "### Example: `GET` requests via `requests`"
   ]
  },
  {
   "cell_type": "markdown",
   "id": "e01828a1",
   "metadata": {
    "deletable": true,
    "editable": true,
    "slideshow": {
     "slide_type": "fragment"
    }
   },
   "source": [
    "- For example, let's try and learn more about the events listed on the Happening @ Michigan page, https://events.umich.edu."
   ]
  },
  {
   "cell_type": "code",
   "execution_count": null,
   "id": "7956f243",
   "metadata": {
    "deletable": true,
    "editable": true
   },
   "outputs": [],
   "source": [
    "res = ..."
   ]
  },
  {
   "cell_type": "markdown",
   "id": "a3354899",
   "metadata": {
    "deletable": true,
    "editable": true,
    "slideshow": {
     "slide_type": "fragment"
    }
   },
   "source": [
    "- `res` is now a `Response` object."
   ]
  },
  {
   "cell_type": "code",
   "execution_count": null,
   "id": "7d86f710",
   "metadata": {
    "deletable": true,
    "editable": true
   },
   "outputs": [],
   "source": [
    "res"
   ]
  },
  {
   "cell_type": "markdown",
   "id": "a10ab009",
   "metadata": {
    "deletable": true,
    "editable": true,
    "slideshow": {
     "slide_type": "fragment"
    }
   },
   "source": [
    "- The `text` attribute of `res` is a string that containing the entire response."
   ]
  },
  {
   "cell_type": "code",
   "execution_count": null,
   "id": "c408fc39",
   "metadata": {
    "deletable": true,
    "editable": true
   },
   "outputs": [],
   "source": [
    "type(res.text)"
   ]
  },
  {
   "cell_type": "code",
   "execution_count": null,
   "id": "a61faadd",
   "metadata": {
    "deletable": true,
    "editable": true
   },
   "outputs": [],
   "source": [
    "len(res.text)"
   ]
  },
  {
   "cell_type": "code",
   "execution_count": null,
   "id": "2015f26e",
   "metadata": {
    "deletable": true,
    "editable": true
   },
   "outputs": [],
   "source": [
    "print(res.text[:2000])"
   ]
  },
  {
   "cell_type": "markdown",
   "id": "9071b657",
   "metadata": {
    "deletable": true,
    "editable": true,
    "slideshow": {
     "slide_type": "fragment"
    }
   },
   "source": [
    "- The response is a string containing **HTML**, the markup language used to format information on the internet. The events data we're looking for is in `res.text` _somewhere_, but we have to search for it and extract it."
   ]
  },
  {
   "cell_type": "markdown",
   "id": "3cc681f9",
   "metadata": {
    "deletable": true,
    "editable": true,
    "slideshow": {
     "slide_type": "skip"
    }
   },
   "source": [
    "<div class=\"alert alert-danger\" markdown=\"1\">\n",
    "\n",
    "#### Reference Slide\n",
    "\n",
    "### Example: `POST` requests via `requests`"
   ]
  },
  {
   "cell_type": "markdown",
   "id": "a9f6c392",
   "metadata": {
    "deletable": true,
    "editable": true,
    "slideshow": {
     "slide_type": "skip"
    }
   },
   "source": [
    "- The following call to `requests.post` makes a `POST` request to https://httpbin.org/post, with a `'name'` parameter of `'Go Blue'`."
   ]
  },
  {
   "cell_type": "code",
   "execution_count": null,
   "id": "677b65a4",
   "metadata": {
    "deletable": true,
    "editable": true,
    "slideshow": {
     "slide_type": "skip"
    }
   },
   "outputs": [],
   "source": [
    "post_res = requests.post('https://httpbin.org/post',\n",
    "                         data={'name': 'Go Blue'})\n",
    "post_res"
   ]
  },
  {
   "cell_type": "code",
   "execution_count": null,
   "id": "c31b7030",
   "metadata": {
    "deletable": true,
    "editable": true,
    "scrolled": false,
    "slideshow": {
     "slide_type": "skip"
    }
   },
   "outputs": [],
   "source": [
    "post_res.text"
   ]
  },
  {
   "cell_type": "markdown",
   "id": "d3fb6124",
   "metadata": {
    "deletable": true,
    "editable": true,
    "slideshow": {
     "slide_type": "skip"
    }
   },
   "source": [
    "- Now, the response is a string describing a JSON object. We'll learn how to work with these later in the lecture, but for now, note that we can use the `.json()` method to convert it to a Python dictionary."
   ]
  },
  {
   "cell_type": "code",
   "execution_count": null,
   "id": "20f41144",
   "metadata": {
    "deletable": true,
    "editable": true,
    "slideshow": {
     "slide_type": "skip"
    }
   },
   "outputs": [],
   "source": [
    "post_res.json()"
   ]
  },
  {
   "cell_type": "markdown",
   "id": "c45644f0",
   "metadata": {
    "deletable": true,
    "editable": true,
    "slideshow": {
     "slide_type": "skip"
    }
   },
   "source": [
    "- What happens when we try and make a `POST` request somewhere where we're unable to?"
   ]
  },
  {
   "cell_type": "code",
   "execution_count": null,
   "id": "d89477fc",
   "metadata": {
    "deletable": true,
    "editable": true,
    "scrolled": true,
    "slideshow": {
     "slide_type": "skip"
    }
   },
   "outputs": [],
   "source": [
    "yt_res = requests.post('https://youtube.com',\n",
    "                       data={'name': 'Go Blue'})\n",
    "yt_res"
   ]
  },
  {
   "cell_type": "code",
   "execution_count": null,
   "id": "4fd86dbc",
   "metadata": {
    "deletable": true,
    "editable": true,
    "scrolled": false,
    "slideshow": {
     "slide_type": "skip"
    }
   },
   "outputs": [],
   "source": [
    "# This takes the text of yt_res and renders it as an HTML document within our notebook!\n",
    "HTML(yt_res.text)"
   ]
  },
  {
   "cell_type": "markdown",
   "id": "b551e438",
   "metadata": {
    "deletable": true,
    "editable": true,
    "slideshow": {
     "slide_type": "slide"
    }
   },
   "source": [
    "### HTTP status codes"
   ]
  },
  {
   "cell_type": "markdown",
   "id": "79302831",
   "metadata": {
    "deletable": true,
    "editable": true,
    "slideshow": {
     "slide_type": "fragment"
    }
   },
   "source": [
    "- When we **request** data from a website, the server includes an **HTTP status code** in the response.  "
   ]
  },
  {
   "cell_type": "markdown",
   "id": "feeffa09",
   "metadata": {
    "deletable": true,
    "editable": true,
    "slideshow": {
     "slide_type": "fragment"
    }
   },
   "source": [
    "* The most common status code is `200`, which means there were no issues.  "
   ]
  },
  {
   "cell_type": "code",
   "execution_count": null,
   "id": "0373fc91",
   "metadata": {
    "deletable": true,
    "editable": true
   },
   "outputs": [],
   "source": [
    "res"
   ]
  },
  {
   "cell_type": "markdown",
   "id": "f86a1f27",
   "metadata": {
    "deletable": true,
    "editable": true,
    "slideshow": {
     "slide_type": "fragment"
    }
   },
   "source": [
    "* Other times, you will see a different status code, describing some sort of event or error.\n",
    "    - Common examples: `403`: forbidden, `404`: page not found, `500`: internal server error.\n",
    "    - [The first digit of a status describes its general \"category.\"](https://developer.mozilla.org/en-US/docs/Web/HTTP/Status)"
   ]
  },
  {
   "cell_type": "markdown",
   "id": "3ac9f91e",
   "metadata": {
    "deletable": true,
    "editable": true,
    "slideshow": {
     "slide_type": "fragment"
    }
   },
   "source": [
    "- For example, the CSE faculty page doesn't let us scrape it.<br><small>Nothing is stopping us from opening Chrome, clicking \"View Page Source\", and manually downloading the HTML, though!</small>"
   ]
  },
  {
   "cell_type": "code",
   "execution_count": null,
   "id": "f858573a",
   "metadata": {
    "deletable": true,
    "editable": true
   },
   "outputs": [],
   "source": [
    "res = requests.get('https://cse.engin.umich.edu/people/faculty/')\n",
    "res.status_code"
   ]
  },
  {
   "cell_type": "markdown",
   "id": "5c3e625c",
   "metadata": {
    "deletable": true,
    "editable": true,
    "slideshow": {
     "slide_type": "fragment"
    }
   },
   "source": [
    "- As an aside, you can render HTML directly in a notebook using the `HTML` function.<br><small>We already imported this function by running `from IPython.display import HTML`.</small>"
   ]
  },
  {
   "cell_type": "code",
   "execution_count": null,
   "id": "95bc3c86",
   "metadata": {
    "deletable": true,
    "editable": true
   },
   "outputs": [],
   "source": [
    "HTML(res.text)"
   ]
  },
  {
   "cell_type": "markdown",
   "id": "dd7ba09a",
   "metadata": {
    "deletable": true,
    "editable": true,
    "slideshow": {
     "slide_type": "skip"
    }
   },
   "source": [
    "<div class=\"alert alert-danger\" markdown=\"1\">\n",
    "\n",
    "#### Reference Slide\n",
    "\n",
    "### Handling unsuccessful requests"
   ]
  },
  {
   "cell_type": "markdown",
   "id": "c1217e4a",
   "metadata": {
    "deletable": true,
    "editable": true,
    "slideshow": {
     "slide_type": "skip"
    }
   },
   "source": [
    "- Sometimes, websites either don't want you to scrape, or prohibit you from scraping.<br><small>It's best practice to check the website's `robots.txt` file, where they specify who is and isn't allowed to scrape.<br>As we saw on the previous slide, the CSE website blocks us from scraping it, as we got a 403: Forbidden status code.</small>"
   ]
  },
  {
   "cell_type": "markdown",
   "id": "d26a7a24",
   "metadata": {
    "deletable": true,
    "editable": true,
    "slideshow": {
     "slide_type": "skip"
    }
   },
   "source": [
    "- Some unsuccessful requests can be re-tried, depending on the issue.<br><small>A good first step is to wait a little, then try again.</small>"
   ]
  },
  {
   "cell_type": "markdown",
   "id": "6fec56ff",
   "metadata": {
    "deletable": true,
    "editable": true,
    "slideshow": {
     "slide_type": "skip"
    }
   },
   "source": [
    "- A common issue is that you're making too many requests to a particular server at a time. If this is the case, you are being **rate-limited**; one solution is to increase the time between each request.<br><small>You can even do this programatically, say, using `time.sleep`.</small>"
   ]
  },
  {
   "cell_type": "markdown",
   "id": "ac05caca",
   "metadata": {
    "deletable": true,
    "editable": true,
    "slideshow": {
     "slide_type": "skip"
    }
   },
   "source": [
    "- See [LDS 14](https://learningds.org/ch/14/web_http.html) for more examples."
   ]
  },
  {
   "cell_type": "markdown",
   "id": "4b98b216",
   "metadata": {
    "deletable": true,
    "editable": true,
    "slideshow": {
     "slide_type": "slide"
    }
   },
   "source": [
    "## The structure of HTML\n",
    "\n",
    "---"
   ]
  },
  {
   "cell_type": "markdown",
   "id": "753ac158",
   "metadata": {
    "deletable": true,
    "editable": true,
    "slideshow": {
     "slide_type": "slide"
    }
   },
   "source": [
    "### Scraping vs. APIs"
   ]
  },
  {
   "cell_type": "markdown",
   "id": "bc70e7bb",
   "metadata": {
    "deletable": true,
    "editable": true,
    "slideshow": {
     "slide_type": "fragment"
    }
   },
   "source": [
    "- There are two different ways of programmatically accessing data from the internet: either **by scraping**, or **through an API**."
   ]
  },
  {
   "cell_type": "markdown",
   "id": "15fc6a2d",
   "metadata": {
    "deletable": true,
    "editable": true,
    "slideshow": {
     "slide_type": "fragment"
    }
   },
   "source": [
    "- **Scraping** is the act of emulating a web browser to access its HTML source code.<small>When scraping, you get back data as HTML and have to **parse** that HTML to extract the information you want. Parse means to \"extract meaning from a sequence of symbols\".\n",
    "\n",
    "<center>\n",
    "    \n",
    "| ✅ Pros | ❌ Cons |\n",
    "| --- | --- |\n",
    "| If the website exists, you can usually scrape it.<br><small>This is what Google does!</small> | Scraping and parsing code gets **messy**, since <br>HTML documents contain lots of content unrelated to the<br>information you're trying to find (advertisements, formatting).<br><br>When the website's structure changes, your code will need to, too.<br><br>The site owner may not _want_ you to scrape it!</small>\n",
    "    \n",
    "    \n",
    "</center>"
   ]
  },
  {
   "cell_type": "markdown",
   "id": "d5b5c515",
   "metadata": {
    "deletable": true,
    "editable": true,
    "slideshow": {
     "slide_type": "fragment"
    }
   },
   "source": [
    "- An application programming interface, or **API**, is a service that makes data directly available to the user in a **convenient** fashion. Usually, APIs give us code back as JSON objects.<br><small>APIs are made by organizations that host data. For example, X (formally known as Twitter) has an [API](https://developer.twitter.com/en/docs/twitter-api), as does [OpenAI](https://platform.openai.com/docs/overview?lang=python), the creators of ChatGPT.</small>\n",
    "\n",
    "\n",
    "| ✅ Pros | ❌ Cons |\n",
    "| --- | --- |\n",
    "| If an API exists, the data are usually clean, up-to-date, and ready to use.<br><br>The presence of an API signals that the data provider<br> is okay with you using their data.<br><br>The data provider can plan and regulate data usage.<br><small>Sometimes, you may need to create an API \"key\",<br>which is like an account for using the API.<br>APIs can often give you access to data that isn't publicly available.</small> | APIs don't always exist for the data you want! |"
   ]
  },
  {
   "cell_type": "markdown",
   "id": "0b945f6a",
   "metadata": {
    "deletable": true,
    "editable": true,
    "slideshow": {
     "slide_type": "fragment"
    }
   },
   "source": [
    "- We'll start by learning how to scrape; we'll discuss APIs at the end of the lecture."
   ]
  },
  {
   "cell_type": "markdown",
   "id": "415c3a66",
   "metadata": {
    "deletable": true,
    "editable": true,
    "slideshow": {
     "slide_type": "slide"
    }
   },
   "source": [
    "### What is HTML?"
   ]
  },
  {
   "cell_type": "markdown",
   "id": "f79588f8",
   "metadata": {
    "deletable": true,
    "editable": true,
    "slideshow": {
     "slide_type": "fragment"
    }
   },
   "source": [
    "- HTML (Hypertext Markup Language) is **the** basic building block of the internet. "
   ]
  },
  {
   "cell_type": "markdown",
   "id": "74dd0e4c",
   "metadata": {
    "deletable": true,
    "editable": true,
    "slideshow": {
     "slide_type": "fragment"
    }
   },
   "source": [
    "- It is a **markup language**, not a programming language.<br><small>Markup languages specify what something should _look like_, while programming languages specify what something should _calculate_ or _do_.</small>"
   ]
  },
  {
   "cell_type": "markdown",
   "id": "b7431057",
   "metadata": {
    "deletable": true,
    "editable": true,
    "slideshow": {
     "slide_type": "fragment"
    }
   },
   "source": [
    "- Specifically, it defines the content and layout of a webpage, and as such, it is what you get back when you scrape a webpage."
   ]
  },
  {
   "cell_type": "markdown",
   "id": "4cc2719c",
   "metadata": {
    "deletable": true,
    "editable": true,
    "slideshow": {
     "slide_type": "fragment"
    }
   },
   "source": [
    "- We're only going to learn enough HTML to help us scrape information.<br><small>See [this tutorial](https://developer.mozilla.org/en-US/docs/Learn/Getting_started_with_the_web/HTML_basics) for more details on HTML.</small>"
   ]
  },
  {
   "cell_type": "markdown",
   "id": "b4bfbd78",
   "metadata": {
    "deletable": true,
    "editable": true,
    "slideshow": {
     "slide_type": "slide"
    }
   },
   "source": [
    "### An example webpage"
   ]
  },
  {
   "cell_type": "markdown",
   "id": "47703e2d",
   "metadata": {
    "deletable": true,
    "editable": true,
    "slideshow": {
     "slide_type": "fragment"
    }
   },
   "source": [
    "- For instance, here's the source code of a very basic webpage."
   ]
  },
  {
   "cell_type": "code",
   "execution_count": null,
   "id": "1f15f49f",
   "metadata": {
    "deletable": true,
    "editable": true
   },
   "outputs": [],
   "source": [
    "html_string = '''\n",
    "<html>\n",
    "    <body>\n",
    "      <div id=\"content\">\n",
    "        <h1>Heading here</h1>\n",
    "        <p>My First paragraph</p>\n",
    "        <p>My <em>second</em> paragraph</p>\n",
    "        <hr>\n",
    "      </div>\n",
    "      <div id=\"nav\">\n",
    "        <ul>\n",
    "          <li>item 1</li>\n",
    "          <li>item 2</li>\n",
    "          <li>item 3</li>\n",
    "        </ul>\n",
    "      </div>\n",
    "    </body>\n",
    "</html>'''"
   ]
  },
  {
   "cell_type": "markdown",
   "id": "2ba67b53",
   "metadata": {
    "deletable": true,
    "editable": true,
    "slideshow": {
     "slide_type": "fragment"
    }
   },
   "source": [
    "- Here's what that webpage actually looks like:"
   ]
  },
  {
   "cell_type": "code",
   "execution_count": null,
   "id": "630487ee",
   "metadata": {
    "deletable": true,
    "editable": true
   },
   "outputs": [],
   "source": [
    "HTML(html_string)"
   ]
  },
  {
   "cell_type": "markdown",
   "id": "6fd7b062",
   "metadata": {
    "deletable": true,
    "editable": true,
    "slideshow": {
     "slide_type": "slide"
    }
   },
   "source": [
    "### The anatomy of HTML documents"
   ]
  },
  {
   "cell_type": "markdown",
   "id": "8da8349f",
   "metadata": {
    "deletable": true,
    "editable": true,
    "slideshow": {
     "slide_type": "fragment"
    }
   },
   "source": [
    "- **HTML document**: The totality of markup that makes up a webpage.\n",
    "\n",
    "<center>\n",
    "\n",
    "<img src=\"imgs/webpage_anatomy.png\" width=500>\n",
    "\n",
    "</center>"
   ]
  },
  {
   "cell_type": "markdown",
   "id": "102220b0",
   "metadata": {
    "deletable": true,
    "editable": true,
    "slideshow": {
     "slide_type": "fragment"
    }
   },
   "source": [
    "- **Document Object Model (DOM)**: The internal representation of an HTML document as a hierarchical **tree** structure.\n",
    "\n",
    "<center><img src=\"imgs/dom_tree.png\" width=500></center>"
   ]
  },
  {
   "cell_type": "markdown",
   "id": "cbeb98d6",
   "metadata": {
    "deletable": true,
    "editable": true,
    "slideshow": {
     "slide_type": "fragment"
    }
   },
   "source": [
    "- **Why do we care about the DOM?** Extracting information out of an HTML document will involve **traversing** this tree."
   ]
  },
  {
   "cell_type": "markdown",
   "id": "0d059da8",
   "metadata": {
    "deletable": true,
    "editable": true,
    "slideshow": {
     "slide_type": "fragment"
    }
   },
   "source": [
    "- **HTML element**: An object in the DOM, such as a paragraph, header, or title."
   ]
  },
  {
   "cell_type": "markdown",
   "id": "407146eb",
   "metadata": {
    "deletable": true,
    "editable": true,
    "slideshow": {
     "slide_type": "fragment"
    }
   },
   "source": [
    "- **HTML tags**: Markers that denote the **start** and **end** of an element, such as `<p>` and `</p>`.<br><small>See the attached reference slides for examples of common tags.</small>"
   ]
  },
  {
   "cell_type": "markdown",
   "id": "ea2aa033",
   "metadata": {
    "deletable": true,
    "editable": true,
    "slideshow": {
     "slide_type": "fragment"
    }
   },
   "source": [
    "- **Attributes**: Some tags have **attributes**, which further specify how to display information.\n",
    "\n",
    "```html\n",
    "        <p style=\"color: red\">Look at my red text!</p>\n",
    "```"
   ]
  },
  {
   "cell_type": "markdown",
   "id": "2ddf7dcb",
   "metadata": {
    "deletable": true,
    "editable": true,
    "slideshow": {
     "slide_type": "skip"
    }
   },
   "source": [
    "<div class=\"alert alert-danger\" markdown=\"1\">\n",
    "\n",
    "#### Reference Slide\n",
    "\n",
    "### Useful tags to know"
   ]
  },
  {
   "cell_type": "markdown",
   "id": "bc4647a4",
   "metadata": {
    "deletable": true,
    "editable": true,
    "slideshow": {
     "slide_type": "skip"
    }
   },
   "source": [
    "- Often, the information we're looking for is nestled in one of these tags:\n",
    "\n",
    "|Element|Description|\n",
    "|:---|:---|\n",
    "|`<html>`|the document|\n",
    "|`<head>`|the header|\n",
    "|`<body>`|the body|\n",
    "|`<div>` |a logical division of the document|\n",
    "|`<span>`|an *inline* logical division|\n",
    "|`<p>`|a paragraph|\n",
    "| `<a>`| an anchor (hyperlink)|\n",
    "|`<h1>, <h2>, ...`| header(s) |\n",
    "|`<img>`| an image |"
   ]
  },
  {
   "cell_type": "markdown",
   "id": "d96773bf",
   "metadata": {
    "deletable": true,
    "editable": true,
    "slideshow": {
     "slide_type": "skip"
    }
   },
   "source": [
    "- There are many, many more. See [this article](https://en.wikipedia.org/wiki/HTML_element) for examples."
   ]
  },
  {
   "cell_type": "markdown",
   "id": "ba638760",
   "metadata": {
    "deletable": true,
    "editable": true,
    "slideshow": {
     "slide_type": "skip"
    }
   },
   "source": [
    "<div class=\"alert alert-danger\" markdown=\"1\">\n",
    "\n",
    "#### Reference Slide\n",
    "\n",
    "### Example tags and attributes"
   ]
  },
  {
   "cell_type": "markdown",
   "id": "b8a9a204",
   "metadata": {
    "deletable": true,
    "editable": true,
    "slideshow": {
     "slide_type": "skip"
    }
   },
   "source": [
    "- Tags can have **attributes**, which further specify how to display information on a webpage."
   ]
  },
  {
   "cell_type": "markdown",
   "id": "1cb7f609",
   "metadata": {
    "deletable": true,
    "editable": true,
    "slideshow": {
     "slide_type": "skip"
    }
   },
   "source": [
    "- For instance, `<img>` tags have `src` and `alt` attributes, among others:<br>\n",
    "\n",
    "```html\n",
    "        <img src=\"cool-visualization.png\" alt=\"My box plot that I'm super proud of.\" width=500>\n",
    "```"
   ]
  },
  {
   "cell_type": "markdown",
   "id": "fa2e9419",
   "metadata": {
    "deletable": true,
    "editable": true,
    "slideshow": {
     "slide_type": "skip"
    }
   },
   "source": [
    "- Hyperlinks have `href` attributes: \n",
    "\n",
    "```html\n",
    "        Click <a href=\"https://study.practicaldsc.org\">this link</a> to access past exams.\n",
    "```"
   ]
  },
  {
   "cell_type": "markdown",
   "id": "1fda01d9",
   "metadata": {
    "deletable": true,
    "editable": true,
    "slideshow": {
     "slide_type": "skip"
    }
   },
   "source": [
    "- The `<div>` tag is one of the more common tags. It defines a \"section\" of an HTML document, and is often used as a container for other HTML elements.<br><small>Think of `<div>`s like cells in Jupyter Notebooks.</small>\n",
    "    \n",
    "```html\n",
    "        <div class=\"background\">\n",
    "          <h3>This is a heading</h3>\n",
    "          <p>This is a paragraph.</p>\n",
    "        </div>\n",
    "```"
   ]
  },
  {
   "cell_type": "markdown",
   "id": "141dda97",
   "metadata": {
    "deletable": true,
    "editable": true,
    "slideshow": {
     "slide_type": "skip"
    }
   },
   "source": [
    "- Often, the information we're looking for is stored in an attribute!<br><small>You can imagine a situation where we want to get the URL behind a button, for example.</small>"
   ]
  },
  {
   "cell_type": "markdown",
   "id": "b6a89a0b",
   "metadata": {
    "deletable": true,
    "editable": true,
    "slideshow": {
     "slide_type": "slide"
    }
   },
   "source": [
    "<div class=\"alert alert-warning\">\n",
    "    <h3>Question 🤔 (Answer at <a style=\"text-decoration: none; color: #0066cc\" href=\"https://docs.google.com/forms/d/e/1FAIpQLSd4oliiZYeNh76jWy-arfEtoAkCrVSsobZxPwxifWggo3EO0Q/viewform\">practicaldsc.org/q</a>)</h3>\n",
    "    \n",
    "<small>Remember that you can always ask questions anonymously at the link above!</small>\n",
    "    \n",
    "What lingering questions do we have about the Document Object Model and the structure of HTML?"
   ]
  },
  {
   "cell_type": "markdown",
   "id": "96f73275",
   "metadata": {
    "deletable": true,
    "editable": true,
    "slideshow": {
     "slide_type": "slide"
    }
   },
   "source": [
    "## Parsing HTML\n",
    "\n",
    "---"
   ]
  },
  {
   "cell_type": "markdown",
   "id": "7fa61a5c",
   "metadata": {
    "deletable": true,
    "editable": true,
    "slideshow": {
     "slide_type": "slide"
    }
   },
   "source": [
    "### Beautiful Soup 🍜"
   ]
  },
  {
   "cell_type": "markdown",
   "id": "a2b3c10d",
   "metadata": {
    "deletable": true,
    "editable": true,
    "slideshow": {
     "slide_type": "fragment"
    }
   },
   "source": [
    "- [Beautiful Soup 4](https://www.crummy.com/software/BeautifulSoup/bs4/doc/) is a Python HTML parser.<br><small>Remember, **parse** means to \"extract meaning from a sequence of symbols\"."
   ]
  },
  {
   "cell_type": "markdown",
   "id": "f3addad3",
   "metadata": {
    "deletable": true,
    "editable": true,
    "slideshow": {
     "slide_type": "fragment"
    }
   },
   "source": [
    "- **Warning**: Beautiful Soup 4 and Beautiful Soup 3 work differently, so make sure you are using and looking at documentation for Beautiful Soup 4.<br><small>Rest assured, the `pds` conda environment already has Beautiful Soup 4 installed.</small>"
   ]
  },
  {
   "cell_type": "markdown",
   "id": "fea8b544",
   "metadata": {
    "deletable": true,
    "editable": true,
    "slideshow": {
     "slide_type": "slide"
    }
   },
   "source": [
    "### Example HTML document"
   ]
  },
  {
   "cell_type": "markdown",
   "id": "104d0c71",
   "metadata": {
    "deletable": true,
    "editable": true,
    "slideshow": {
     "slide_type": "fragment"
    }
   },
   "source": [
    "- To start, we'll work with the source code for an HTML page with the DOM tree shown below:\n",
    "\n",
    "<center><img src=\"imgs/dom_tree_1.png\" width=600></center>"
   ]
  },
  {
   "cell_type": "markdown",
   "id": "4fef5638",
   "metadata": {
    "deletable": true,
    "editable": true,
    "slideshow": {
     "slide_type": "fragment"
    }
   },
   "source": [
    "- This is the DOM tree of the HTML document `html_string` we created earlier."
   ]
  },
  {
   "cell_type": "code",
   "execution_count": null,
   "id": "25b20c30",
   "metadata": {
    "deletable": true,
    "editable": true,
    "slideshow": {
     "slide_type": "-"
    }
   },
   "outputs": [],
   "source": [
    "print(html_string)"
   ]
  },
  {
   "cell_type": "code",
   "execution_count": null,
   "id": "31817beb",
   "metadata": {
    "deletable": true,
    "editable": true,
    "scrolled": true
   },
   "outputs": [],
   "source": [
    "HTML(html_string)"
   ]
  },
  {
   "cell_type": "markdown",
   "id": "53e153aa",
   "metadata": {
    "deletable": true,
    "editable": true,
    "slideshow": {
     "slide_type": "slide"
    }
   },
   "source": [
    "### Instantiating `BeautifulSoup` objects"
   ]
  },
  {
   "cell_type": "markdown",
   "id": "f0d3e80e",
   "metadata": {
    "deletable": true,
    "editable": true,
    "slideshow": {
     "slide_type": "fragment"
    }
   },
   "source": [
    "- `bs4`'s `BeautifulSoup` function takes in a string or file-like object representing HTML and returns a **parsed** document."
   ]
  },
  {
   "cell_type": "code",
   "execution_count": null,
   "id": "a47d4d03",
   "metadata": {
    "deletable": true,
    "editable": true
   },
   "outputs": [],
   "source": [
    "# We also could have used:\n",
    "# import bs4\n",
    "# But, then we'd need to use bs4.BeautifulSoup every time.\n",
    "from bs4 import BeautifulSoup"
   ]
  },
  {
   "cell_type": "markdown",
   "id": "2b30e9a5",
   "metadata": {
    "deletable": true,
    "editable": true,
    "slideshow": {
     "slide_type": "fragment"
    }
   },
   "source": [
    "- Normally, we pass the result of a `GET` request to `BeautifulSoup`, but here we will pass our hand-crafted `html_string`."
   ]
  },
  {
   "cell_type": "code",
   "execution_count": null,
   "id": "25396853",
   "metadata": {
    "deletable": true,
    "editable": true
   },
   "outputs": [],
   "source": [
    "soup = ...\n",
    "soup"
   ]
  },
  {
   "cell_type": "code",
   "execution_count": null,
   "id": "6ae0e193",
   "metadata": {
    "deletable": true,
    "editable": true
   },
   "outputs": [],
   "source": [
    "type(soup)"
   ]
  },
  {
   "cell_type": "markdown",
   "id": "fe00c611",
   "metadata": {
    "deletable": true,
    "editable": true,
    "slideshow": {
     "slide_type": "fragment"
    }
   },
   "source": [
    "- `BeautifulSoup` objects have several useful attributes, e.g. `text`:"
   ]
  },
  {
   "cell_type": "code",
   "execution_count": null,
   "id": "447383a9",
   "metadata": {
    "deletable": true,
    "editable": true
   },
   "outputs": [],
   "source": [
    "..."
   ]
  },
  {
   "cell_type": "markdown",
   "id": "3bc22226",
   "metadata": {
    "deletable": true,
    "editable": true,
    "slideshow": {
     "slide_type": "slide"
    }
   },
   "source": [
    "### Finding elements in a BeautifulSoup object"
   ]
  },
  {
   "cell_type": "markdown",
   "id": "2cd5511c",
   "metadata": {
    "deletable": true,
    "editable": true,
    "slideshow": {
     "slide_type": "fragment"
    }
   },
   "source": [
    "- The two main methods you will use to extract information from a BeautifulSoup object are `find` and `find_all`."
   ]
  },
  {
   "cell_type": "markdown",
   "id": "05c9698e",
   "metadata": {
    "deletable": true,
    "editable": true,
    "slideshow": {
     "slide_type": "fragment"
    }
   },
   "source": [
    "- `soup.find(tag)` finds the **first** instance of a tag (the first one on the page, i.e. the first one that DFS sees), and returns just that tag.<br><small>It has several optional arguments, including some that involve defining `lambda` functions: **look at the documentation!**</small>"
   ]
  },
  {
   "cell_type": "markdown",
   "id": "e0b24261",
   "metadata": {
    "deletable": true,
    "editable": true,
    "slideshow": {
     "slide_type": "fragment"
    }
   },
   "source": [
    "- `soup.find_all(tag)` will find **all** instances of a tag, and returns a **list** of tags."
   ]
  },
  {
   "cell_type": "markdown",
   "id": "7460b82e",
   "metadata": {
    "deletable": true,
    "editable": true,
    "slideshow": {
     "slide_type": "fragment"
    }
   },
   "source": [
    "- Remember: **`find` finds tags!**"
   ]
  },
  {
   "cell_type": "markdown",
   "id": "b639d0a9",
   "metadata": {
    "deletable": true,
    "editable": true,
    "slideshow": {
     "slide_type": "slide"
    }
   },
   "source": [
    "### Using `find`"
   ]
  },
  {
   "cell_type": "markdown",
   "id": "a680c7a4",
   "metadata": {
    "deletable": true,
    "editable": true,
    "slideshow": {
     "slide_type": "fragment"
    }
   },
   "source": [
    "- Let's try and extract the first `<div>` subtree.\n",
    "\n",
    "<center><img src=\"imgs/dom_tree_1.png\" width=600> ⬇️ <center><img src=\"imgs/dom_subtree_1.png\" width=325></center>  </center> "
   ]
  },
  {
   "cell_type": "code",
   "execution_count": null,
   "id": "f95f4e8e",
   "metadata": {
    "deletable": true,
    "editable": true,
    "scrolled": true
   },
   "outputs": [],
   "source": [
    "..."
   ]
  },
  {
   "cell_type": "markdown",
   "id": "0ab90ae5",
   "metadata": {
    "deletable": true,
    "editable": true,
    "slideshow": {
     "slide_type": "fragment"
    }
   },
   "source": [
    "- Let's try and find the `<div>` element that has an `id` attribute equal to `'nav'`."
   ]
  },
  {
   "cell_type": "code",
   "execution_count": null,
   "id": "d0734540",
   "metadata": {
    "deletable": true,
    "editable": true
   },
   "outputs": [],
   "source": [
    "..."
   ]
  },
  {
   "cell_type": "markdown",
   "id": "2fac1f1a",
   "metadata": {
    "deletable": true,
    "editable": true,
    "slideshow": {
     "slide_type": "fragment"
    }
   },
   "source": [
    "- `find` will return the first occurrence of a tag, regardless of its depth in the tree."
   ]
  },
  {
   "cell_type": "code",
   "execution_count": null,
   "id": "03a08f9b",
   "metadata": {
    "deletable": true,
    "editable": true
   },
   "outputs": [],
   "source": [
    "# The ul child is not at the top of the tree, but we can still find it.\n",
    "..."
   ]
  },
  {
   "cell_type": "markdown",
   "id": "f535255c",
   "metadata": {
    "deletable": true,
    "editable": true,
    "slideshow": {
     "slide_type": "slide"
    }
   },
   "source": [
    "### Using `find_all`"
   ]
  },
  {
   "cell_type": "markdown",
   "id": "c735bcc4",
   "metadata": {
    "deletable": true,
    "editable": true,
    "slideshow": {
     "slide_type": "fragment"
    }
   },
   "source": [
    "- `find_all` returns a list of all matching tags."
   ]
  },
  {
   "cell_type": "code",
   "execution_count": null,
   "id": "c4473dc1",
   "metadata": {
    "deletable": true,
    "editable": true
   },
   "outputs": [],
   "source": [
    "soup"
   ]
  },
  {
   "cell_type": "code",
   "execution_count": null,
   "id": "4c2e3cce",
   "metadata": {
    "deletable": true,
    "editable": true
   },
   "outputs": [],
   "source": [
    "..."
   ]
  },
  {
   "cell_type": "code",
   "execution_count": null,
   "id": "314a25a5",
   "metadata": {
    "deletable": true,
    "editable": true
   },
   "outputs": [],
   "source": [
    "..."
   ]
  },
  {
   "cell_type": "markdown",
   "id": "a199b677",
   "metadata": {
    "deletable": true,
    "editable": true,
    "slideshow": {
     "slide_type": "fragment"
    }
   },
   "source": [
    "- We often use the `find_all` method in conjunction with a `for`-loop or list comprehension, to perform some operation on every matching tag."
   ]
  },
  {
   "cell_type": "code",
   "execution_count": null,
   "id": "0b88e2cd",
   "metadata": {
    "deletable": true,
    "editable": true
   },
   "outputs": [],
   "source": [
    "..."
   ]
  },
  {
   "cell_type": "markdown",
   "id": "3398daee",
   "metadata": {
    "deletable": true,
    "editable": true,
    "slideshow": {
     "slide_type": "slide"
    }
   },
   "source": [
    "### Node attributes"
   ]
  },
  {
   "cell_type": "markdown",
   "id": "afb28d45",
   "metadata": {
    "deletable": true,
    "editable": true,
    "slideshow": {
     "slide_type": "fragment"
    }
   },
   "source": [
    "- The `text` attribute of a tag element gets the text between the opening and closing tags."
   ]
  },
  {
   "cell_type": "code",
   "execution_count": null,
   "id": "89ce1eec",
   "metadata": {
    "deletable": true,
    "editable": true
   },
   "outputs": [],
   "source": [
    "soup.find('p')"
   ]
  },
  {
   "cell_type": "code",
   "execution_count": null,
   "id": "30e21bcd",
   "metadata": {
    "deletable": true,
    "editable": true
   },
   "outputs": [],
   "source": [
    "soup.find('p').text"
   ]
  },
  {
   "cell_type": "markdown",
   "id": "7677f66d",
   "metadata": {
    "deletable": true,
    "editable": true,
    "slideshow": {
     "slide_type": "fragment"
    }
   },
   "source": [
    "- The `attrs` attribute of a tag element lists all of its attributes."
   ]
  },
  {
   "cell_type": "code",
   "execution_count": null,
   "id": "6f351528",
   "metadata": {
    "deletable": true,
    "editable": true
   },
   "outputs": [],
   "source": [
    "soup.find('div')"
   ]
  },
  {
   "cell_type": "code",
   "execution_count": null,
   "id": "c640bdcb",
   "metadata": {
    "deletable": true,
    "editable": true
   },
   "outputs": [],
   "source": [
    "soup.find('div').text"
   ]
  },
  {
   "cell_type": "code",
   "execution_count": null,
   "id": "01946125",
   "metadata": {
    "deletable": true,
    "editable": true
   },
   "outputs": [],
   "source": [
    "soup.find('div').attrs"
   ]
  },
  {
   "cell_type": "markdown",
   "id": "07257f0c",
   "metadata": {
    "deletable": true,
    "editable": true,
    "slideshow": {
     "slide_type": "fragment"
    }
   },
   "source": [
    "- The `get` method of a tag element **gets the value of an attribute**.<br><small>`find` and `get` are easy to get confused, but you'll use them both a lot.</small>"
   ]
  },
  {
   "cell_type": "code",
   "execution_count": null,
   "id": "76dfef50",
   "metadata": {
    "deletable": true,
    "editable": true
   },
   "outputs": [],
   "source": [
    "soup.find('div').get('id')"
   ]
  },
  {
   "cell_type": "markdown",
   "id": "db7e373d",
   "metadata": {
    "deletable": true,
    "editable": true,
    "slideshow": {
     "slide_type": "fragment"
    }
   },
   "source": [
    "- The `get` method must be called directly on the node that contains the attribute you're looking for."
   ]
  },
  {
   "cell_type": "code",
   "execution_count": null,
   "id": "55ee3e0e",
   "metadata": {
    "deletable": true,
    "editable": true
   },
   "outputs": [],
   "source": [
    "soup"
   ]
  },
  {
   "cell_type": "code",
   "execution_count": null,
   "id": "9b904ca7",
   "metadata": {
    "deletable": true,
    "editable": true
   },
   "outputs": [],
   "source": [
    "# While there are multiple 'id' attributes, none of them are in the <html> tag at the top.\n",
    "soup.get('id')"
   ]
  },
  {
   "cell_type": "code",
   "execution_count": null,
   "id": "8e54041d",
   "metadata": {
    "deletable": true,
    "editable": true,
    "scrolled": true
   },
   "outputs": [],
   "source": [
    "soup.find('div').get('id')"
   ]
  },
  {
   "cell_type": "markdown",
   "id": "e7a9f267",
   "metadata": {
    "deletable": true,
    "editable": true,
    "slideshow": {
     "slide_type": "slide"
    }
   },
   "source": [
    "<div class=\"alert alert-success\" markdown=\"1\">\n",
    "    <h3>Activity</h3>\n",
    "    \n",
    "Consider the following HTML document, which represents a webpage containing the top few songs with the most streams on Spotify today in Canada.\n",
    "\n",
    "```html\n",
    "<head>\n",
    "    <title>3*Canada-2022-06-04</title>\n",
    "</head>\n",
    "<body>\n",
    "    <h1>Spotify Top 3 - Canada</h1>\n",
    "    <table>\n",
    "        <tr class='heading'>\n",
    "            <th>Rank</th>\n",
    "            <th>Artist(s)</th> \n",
    "            <th>Song</th>\n",
    "        </tr>\n",
    "        <tr class=1>\n",
    "            <td>1</td>\n",
    "            <td>Harry Styles</td> \n",
    "            <td>As It Was</td>\n",
    "        </tr>\n",
    "        <tr class=2>\n",
    "            <td>2</td>\n",
    "            <td>Jack Harlow</td> \n",
    "            <td>First Class</td>\n",
    "        </tr>\n",
    "        <tr class=3>\n",
    "            <td>3</td>\n",
    "            <td>Kendrick Lamar</td> \n",
    "            <td>N95</td>\n",
    "        </tr>\n",
    "    </table>\n",
    "</body>\n",
    "```"
   ]
  },
  {
   "cell_type": "markdown",
   "id": "b76ef33f",
   "metadata": {
    "deletable": true,
    "editable": true
   },
   "source": [
    "- **Part 1**: How many leaf nodes are there in the DOM tree of the previous document — that is, how many nodes have no children?"
   ]
  },
  {
   "cell_type": "markdown",
   "id": "232d0229",
   "metadata": {
    "deletable": true,
    "editable": true
   },
   "source": [
    "- **Part 2**: What does the following line of code evaluate to?\n",
    "\n",
    "```python\n",
    "        len(soup.find_all(\"td\"))\n",
    "```"
   ]
  },
  {
   "cell_type": "markdown",
   "id": "c2ffed99",
   "metadata": {
    "deletable": true,
    "editable": true
   },
   "source": [
    "- **Part 3**: What does the following line of code evaluate to?\n",
    "\n",
    "```python\n",
    "        soup.find(\"tr\").get(\"class\")\n",
    "```"
   ]
  },
  {
   "cell_type": "markdown",
   "id": "8d973cad",
   "metadata": {
    "deletable": true,
    "editable": true,
    "slideshow": {
     "slide_type": "slide"
    }
   },
   "source": [
    "## Example: Scraping quotes 💬\n",
    "\n",
    "---"
   ]
  },
  {
   "cell_type": "markdown",
   "id": "23a2a103",
   "metadata": {
    "deletable": true,
    "editable": true,
    "slideshow": {
     "slide_type": "slide"
    }
   },
   "source": [
    "### Example: Scraping quotes"
   ]
  },
  {
   "cell_type": "markdown",
   "id": "fd821497",
   "metadata": {
    "deletable": true,
    "editable": true,
    "slideshow": {
     "slide_type": "fragment"
    }
   },
   "source": [
    "- Navigate to [quotes.toscrape.com](https://quotes.toscrape.com).\n",
    "\n",
    "<center><img src=\"imgs/quotes2scrape.png\" width=60%></center>"
   ]
  },
  {
   "cell_type": "markdown",
   "id": "49f61867",
   "metadata": {
    "deletable": true,
    "editable": true,
    "slideshow": {
     "slide_type": "fragment"
    }
   },
   "source": [
    "- **Goal**: Extract quotes, and relevant metadata, into a DataFrame."
   ]
  },
  {
   "cell_type": "markdown",
   "id": "60d67ae7",
   "metadata": {
    "deletable": true,
    "editable": true,
    "slideshow": {
     "slide_type": "fragment"
    }
   },
   "source": [
    "- Specifically, let's try to make a DataFrame that looks like the one below:\n",
    "\n",
    "<table border=\"1\" class=\"dataframe\">\n",
    "  <thead>\n",
    "    <tr style=\"text-align: right;\">\n",
    "      <th></th>\n",
    "      <th>quote</th>\n",
    "      <th>author</th>\n",
    "      <th>author_url</th>\n",
    "      <th>tags</th>\n",
    "    </tr>\n",
    "  </thead>\n",
    "  <tbody>\n",
    "    <tr>\n",
    "      <th>0</th>\n",
    "      <td>“The world as we have created it is a process of our thinking. It cannot be changed without changing our thinking.”</td>\n",
    "      <td>Albert Einstein</td>\n",
    "      <td>https://quotes.toscrape.com/author/Albert-Einstein</td>\n",
    "      <td>change,deep-thoughts,thinking,world</td>\n",
    "    </tr>\n",
    "    <tr>\n",
    "      <th>1</th>\n",
    "      <td>“It is our choices, Harry, that show what we truly are, far more than our abilities.”</td>\n",
    "      <td>J.K. Rowling</td>\n",
    "      <td>https://quotes.toscrape.com/author/J-K-Rowling</td>\n",
    "      <td>abilities,choices</td>\n",
    "    </tr>\n",
    "    <tr>\n",
    "      <th>2</th>\n",
    "      <td>“There are only two ways to live your life. One is as though nothing is a miracle. The other is as though everything is a miracle.”</td>\n",
    "      <td>Albert Einstein</td>\n",
    "      <td>https://quotes.toscrape.com/author/Albert-Einstein</td>\n",
    "      <td>inspirational,life,live,miracle,miracles</td>\n",
    "    </tr>\n",
    "  </tbody>\n",
    "</table>"
   ]
  },
  {
   "cell_type": "markdown",
   "id": "9853fdab",
   "metadata": {
    "deletable": true,
    "editable": true,
    "slideshow": {
     "slide_type": "slide"
    }
   },
   "source": [
    "### Organizing our work"
   ]
  },
  {
   "cell_type": "markdown",
   "id": "62d70d24",
   "metadata": {
    "deletable": true,
    "editable": true,
    "slideshow": {
     "slide_type": "fragment"
    }
   },
   "source": [
    "- Eventually, we will implement a single function, `make_quote_df`, which takes in an integer `n` and returns a **DataFrame** with the quotes on the **first `n` pages** of [quotes.toscrape.com](https://quotes.toscrape.com)."
   ]
  },
  {
   "cell_type": "markdown",
   "id": "1390f9bb",
   "metadata": {
    "deletable": true,
    "editable": true,
    "slideshow": {
     "slide_type": "fragment"
    }
   },
   "source": [
    "- Along the way, we'll implement several helper functions, with the goal of separating our logic: **each function should either request information, OR parse, but not both!**"
   ]
  },
  {
   "cell_type": "markdown",
   "id": "9f7a5588",
   "metadata": {
    "deletable": true,
    "editable": true,
    "slideshow": {
     "slide_type": "fragment"
    }
   },
   "source": [
    "- This makes it easier to debug and catch errors."
   ]
  },
  {
   "cell_type": "markdown",
   "id": "a356271c",
   "metadata": {
    "deletable": true,
    "editable": true,
    "slideshow": {
     "slide_type": "fragment"
    }
   },
   "source": [
    "- It also avoids **unnecessary requests**."
   ]
  },
  {
   "cell_type": "markdown",
   "id": "35e26d36",
   "metadata": {
    "deletable": true,
    "editable": true,
    "slideshow": {
     "slide_type": "slide"
    }
   },
   "source": [
    "### Downloading a single page"
   ]
  },
  {
   "cell_type": "markdown",
   "id": "68be895c",
   "metadata": {
    "deletable": true,
    "editable": true,
    "slideshow": {
     "slide_type": "fragment"
    }
   },
   "source": [
    "- First, let's figure out how to download a single page from [quotes.toscrape.com](https://quotes.toscrape.com)."
   ]
  },
  {
   "cell_type": "markdown",
   "id": "34af141b",
   "metadata": {
    "deletable": true,
    "editable": true,
    "slideshow": {
     "slide_type": "fragment"
    }
   },
   "source": [
    "- The URLs seem to be formatted a very particular way:\n",
    "\n",
    "```html\n",
    "        https://quotes.toscrape.com/page/2\n",
    "```"
   ]
  },
  {
   "cell_type": "code",
   "execution_count": null,
   "id": "55b61afa",
   "metadata": {
    "deletable": true,
    "editable": true,
    "slideshow": {
     "slide_type": "-"
    }
   },
   "outputs": [],
   "source": [
    "def download_page(i):\n",
    "    ..."
   ]
  },
  {
   "cell_type": "markdown",
   "id": "e0aa2fc0",
   "metadata": {
    "deletable": true,
    "editable": true,
    "slideshow": {
     "slide_type": "fragment"
    }
   },
   "source": [
    "- Let's test our function on a single page, like Page 2.<br><small>There's nothing special about Page 2; we chose it arbitrarily.</small>"
   ]
  },
  {
   "cell_type": "code",
   "execution_count": null,
   "id": "227d72a2",
   "metadata": {
    "deletable": true,
    "editable": true
   },
   "outputs": [],
   "source": [
    "soup = ...\n",
    "soup"
   ]
  },
  {
   "cell_type": "markdown",
   "id": "7a52327b",
   "metadata": {
    "deletable": true,
    "editable": true,
    "slideshow": {
     "slide_type": "fragment"
    }
   },
   "source": [
    "- Now that this works, later on, we can call `download_page(1)`, `download_page(2)`, `download_page(3)`, ..., `download_page(n)`."
   ]
  },
  {
   "cell_type": "markdown",
   "id": "b92f1321",
   "metadata": {
    "deletable": true,
    "editable": true,
    "slideshow": {
     "slide_type": "slide"
    }
   },
   "source": [
    "### Parsing a single page"
   ]
  },
  {
   "cell_type": "markdown",
   "id": "43983e46",
   "metadata": {
    "deletable": true,
    "editable": true,
    "slideshow": {
     "slide_type": "fragment"
    }
   },
   "source": [
    "- Now, let's try and extract the relevant information out of the `soup` object for Page 2."
   ]
  },
  {
   "cell_type": "markdown",
   "id": "6b27907a",
   "metadata": {
    "deletable": true,
    "editable": true,
    "slideshow": {
     "slide_type": "fragment"
    }
   },
   "source": [
    "- **Open [quotes.toscrape.com/page/2](https://quotes.toscrape.com/page/2/) in Chrome, right click the page, and click \"Inspect\"!**<br><small>This will help us find where each quote is located in the HTML.</small>"
   ]
  },
  {
   "cell_type": "code",
   "execution_count": null,
   "id": "e55ec495",
   "metadata": {
    "deletable": true,
    "editable": true
   },
   "outputs": [],
   "source": [
    "divs = ...\n",
    "..."
   ]
  },
  {
   "cell_type": "code",
   "execution_count": null,
   "id": "689702ed",
   "metadata": {
    "deletable": true,
    "editable": true
   },
   "outputs": [],
   "source": [
    "divs[0]"
   ]
  },
  {
   "cell_type": "markdown",
   "id": "937ffb3a",
   "metadata": {
    "deletable": true,
    "editable": true,
    "slideshow": {
     "slide_type": "fragment"
    }
   },
   "source": [
    "- From this `<div>`, we can extract the quote, author name, author's URL, and tags.<br><small>Strategy: Figure out how to process one `<div>`, then put that logic in a function to use on other `<div>`s."
   ]
  },
  {
   "cell_type": "code",
   "execution_count": null,
   "id": "01a94002",
   "metadata": {
    "deletable": true,
    "editable": true
   },
   "outputs": [],
   "source": [
    "# The quote.\n",
    "..."
   ]
  },
  {
   "cell_type": "code",
   "execution_count": null,
   "id": "2f309101",
   "metadata": {
    "deletable": true,
    "editable": true
   },
   "outputs": [],
   "source": [
    "# The author.\n",
    "..."
   ]
  },
  {
   "cell_type": "code",
   "execution_count": null,
   "id": "02b37214",
   "metadata": {
    "deletable": true,
    "editable": true
   },
   "outputs": [],
   "source": [
    "# The URL for the author.\n",
    "..."
   ]
  },
  {
   "cell_type": "code",
   "execution_count": null,
   "id": "a2746bfe",
   "metadata": {
    "deletable": true,
    "editable": true
   },
   "outputs": [],
   "source": [
    "# The quote's tags.\n",
    "..."
   ]
  },
  {
   "cell_type": "markdown",
   "id": "40462b12",
   "metadata": {
    "deletable": true,
    "editable": true,
    "slideshow": {
     "slide_type": "slide"
    }
   },
   "source": [
    "### Parsing a single quote, and then a single page"
   ]
  },
  {
   "cell_type": "markdown",
   "id": "d809be4b",
   "metadata": {
    "deletable": true,
    "editable": true,
    "slideshow": {
     "slide_type": "fragment"
    }
   },
   "source": [
    "- Let's implement a function that takes in a `<div>` corresponding to a single quote and returns a dictionary containing the quote's information.<br><small>Why use a dictionary? Passing `pd.DataFrame` a list of dictionaries is an easy way to create a DataFrame.</small>"
   ]
  },
  {
   "cell_type": "code",
   "execution_count": null,
   "id": "613ac90e",
   "metadata": {
    "deletable": true,
    "editable": true
   },
   "outputs": [],
   "source": [
    "def process_quote(div):\n",
    "    quote = div.find('span', class_='text').text\n",
    "    author = div.find('small', class_='author').text\n",
    "    author_url = 'https://quotes.toscrape.com' + div.find('a').get('href')\n",
    "    tags = div.find('meta', class_='keywords').get('content')\n",
    "    return {'quote': quote, 'author': author, 'author_url': author_url, 'tags': tags}"
   ]
  },
  {
   "cell_type": "code",
   "execution_count": null,
   "id": "2945f8d2",
   "metadata": {
    "deletable": true,
    "editable": true
   },
   "outputs": [],
   "source": [
    "# Make sure everything here looks correct based on what's on the webpage!\n",
    "..."
   ]
  },
  {
   "cell_type": "markdown",
   "id": "e3489545",
   "metadata": {
    "deletable": true,
    "editable": true,
    "slideshow": {
     "slide_type": "fragment"
    }
   },
   "source": [
    "- Now, we can implement a function that takes in a **list** of `<div>`s, calls `process_quote` on each `<div>` in the list, and returns a **DataFrame**."
   ]
  },
  {
   "cell_type": "code",
   "execution_count": null,
   "id": "799af492",
   "metadata": {
    "deletable": true,
    "editable": true
   },
   "outputs": [],
   "source": [
    "def process_page(divs):\n",
    "    return pd.DataFrame([process_quote(div) for div in divs])"
   ]
  },
  {
   "cell_type": "code",
   "execution_count": null,
   "id": "9ae27c4f",
   "metadata": {
    "deletable": true,
    "editable": true,
    "scrolled": true
   },
   "outputs": [],
   "source": [
    "process_page(divs)"
   ]
  },
  {
   "cell_type": "markdown",
   "id": "0174c07c",
   "metadata": {
    "deletable": true,
    "editable": true,
    "slideshow": {
     "slide_type": "slide"
    }
   },
   "source": [
    "### Putting it all together"
   ]
  },
  {
   "cell_type": "markdown",
   "id": "a53056a7",
   "metadata": {
    "deletable": true,
    "editable": true,
    "slideshow": {
     "slide_type": "fragment"
    }
   },
   "source": [
    "- Now, we can implement `make_quote_df`."
   ]
  },
  {
   "cell_type": "code",
   "execution_count": null,
   "id": "94de8ae0",
   "metadata": {
    "deletable": true,
    "editable": true
   },
   "outputs": [],
   "source": [
    "def make_quote_df(n):\n",
    "    '''Returns a DataFrame containing the quotes on the first n pages of https://quotes.toscrape.com/.''' # This is called a docstring!\n",
    "    dfs = []\n",
    "    for i in range(1, n+1):\n",
    "        # Download page n and create a BeautifulSoup object.\n",
    "        soup = download_page(i)\n",
    "        # Create DataFrame using the information in that page.\n",
    "        divs = soup.find_all('div', class_='quote')\n",
    "        df = process_page(divs)\n",
    "        # Append DataFrame to dfs.\n",
    "        dfs.append(df)\n",
    "    # Stitch all DataFrames together.\n",
    "    return pd.concat(dfs).reset_index(drop=True)"
   ]
  },
  {
   "cell_type": "code",
   "execution_count": null,
   "id": "90c3c3b9",
   "metadata": {
    "deletable": true,
    "editable": true,
    "scrolled": true
   },
   "outputs": [],
   "source": [
    "quotes = make_quote_df(3)\n",
    "quotes.head()"
   ]
  },
  {
   "cell_type": "markdown",
   "id": "bb08c4a3",
   "metadata": {
    "deletable": true,
    "editable": true,
    "slideshow": {
     "slide_type": "fragment"
    }
   },
   "source": [
    "- Now, `quotes` is s DataFrame, like any other!"
   ]
  },
  {
   "cell_type": "code",
   "execution_count": null,
   "id": "f253c0c5",
   "metadata": {
    "deletable": true,
    "editable": true
   },
   "outputs": [],
   "source": [
    "quotes['author'].value_counts().iloc[:10].sort_values().plot(kind='barh')"
   ]
  },
  {
   "cell_type": "markdown",
   "id": "b6425c10",
   "metadata": {
    "deletable": true,
    "editable": true,
    "slideshow": {
     "slide_type": "skip"
    }
   },
   "source": [
    "<div class=\"alert alert-danger\" markdown=\"1\">\n",
    "\n",
    "#### Reference Slide\n",
    "\n",
    "### Summary of our steps"
   ]
  },
  {
   "cell_type": "markdown",
   "id": "eed8b3af",
   "metadata": {
    "deletable": true,
    "editable": true,
    "slideshow": {
     "slide_type": "skip"
    }
   },
   "source": [
    "1. Implement `download_page(i)`, which downloads a **single page** (page `i`) and returns a `BeautifulSoup` object of the response."
   ]
  },
  {
   "cell_type": "markdown",
   "id": "a66c9b1d",
   "metadata": {
    "deletable": true,
    "editable": true,
    "slideshow": {
     "slide_type": "skip"
    }
   },
   "source": [
    "2. Implement `process_quote(div)`, which takes in a `<div>` tree corresponding to a **single quote** and returns a dictionary containing all of the relevant information for that quote."
   ]
  },
  {
   "cell_type": "markdown",
   "id": "ce2d018e",
   "metadata": {
    "deletable": true,
    "editable": true,
    "slideshow": {
     "slide_type": "skip"
    }
   },
   "source": [
    "3. Implement `process_page(divs)`, which takes in a list of `<div>` trees corresponding to a **single page** and returns a DataFrame containing all of the relevant information for all quotes on that page."
   ]
  },
  {
   "cell_type": "markdown",
   "id": "4c5c0085",
   "metadata": {
    "deletable": true,
    "editable": true,
    "slideshow": {
     "slide_type": "skip"
    }
   },
   "source": [
    "4. Implement `make_quote_df(n)`."
   ]
  },
  {
   "cell_type": "markdown",
   "id": "d1528039",
   "metadata": {
    "deletable": true,
    "editable": true,
    "slideshow": {
     "slide_type": "slide"
    }
   },
   "source": [
    "## APIs and JSON\n",
    "\n",
    "---\n",
    "\n",
    "Recall, scraping was one of the ways to access data from the internet. APIs are the other way."
   ]
  },
  {
   "cell_type": "markdown",
   "id": "e5bf5c70",
   "metadata": {
    "deletable": true,
    "editable": true,
    "slideshow": {
     "slide_type": "slide"
    }
   },
   "source": [
    "### Application programing interface (API) terminology"
   ]
  },
  {
   "cell_type": "markdown",
   "id": "66835463",
   "metadata": {
    "deletable": true,
    "editable": true,
    "slideshow": {
     "slide_type": "fragment"
    }
   },
   "source": [
    "- A URL, or uniform resource locator, describes the location of a website or resource."
   ]
  },
  {
   "cell_type": "markdown",
   "id": "d1c2cfeb",
   "metadata": {
    "deletable": true,
    "editable": true,
    "slideshow": {
     "slide_type": "fragment"
    }
   },
   "source": [
    "- API requests are `GET`/`POST` requests to a specially maintained URLs."
   ]
  },
  {
   "cell_type": "markdown",
   "id": "8805e172",
   "metadata": {
    "deletable": true,
    "editable": true,
    "slideshow": {
     "slide_type": "fragment"
    }
   },
   "source": [
    "- As an example, we'll look at the [Pokémon API](https://pokeapi.co)."
   ]
  },
  {
   "cell_type": "markdown",
   "id": "1f885901",
   "metadata": {
    "deletable": true,
    "editable": true,
    "slideshow": {
     "slide_type": "fragment"
    }
   },
   "source": [
    "- All requests are made to:\n",
    "\n",
    "```\n",
    "        https://pokeapi.co/api/v2/{endpoint}/{name}\n",
    "```"
   ]
  },
  {
   "cell_type": "markdown",
   "id": "879104a6",
   "metadata": {
    "deletable": true,
    "editable": true,
    "slideshow": {
     "slide_type": "fragment"
    }
   },
   "source": [
    "- For example, to learn about Pikachu, we use the `pokemon` **endpoint** with name `pikachu`.\n",
    "\n",
    "        https://pokeapi.co/api/v2/pokemon/pikachu"
   ]
  },
  {
   "cell_type": "markdown",
   "id": "60279634",
   "metadata": {
    "deletable": true,
    "editable": true,
    "slideshow": {
     "slide_type": "fragment"
    }
   },
   "source": [
    "- Or, to learn about all water Pokemon, we use the `type` endpoint with name `water`.\n",
    "\n",
    "        https://pokeapi.co/api/v2/pokemon/pikachu"
   ]
  },
  {
   "cell_type": "markdown",
   "id": "254ce89a",
   "metadata": {
    "deletable": true,
    "editable": true,
    "slideshow": {
     "slide_type": "slide"
    }
   },
   "source": [
    "### Example: Pokémon API ⚡️"
   ]
  },
  {
   "cell_type": "markdown",
   "id": "5d5d2d87",
   "metadata": {
    "deletable": true,
    "editable": true,
    "slideshow": {
     "slide_type": "fragment"
    }
   },
   "source": [
    "- To illustrate, let's make a `GET` request to learn more about Pikachu."
   ]
  },
  {
   "cell_type": "code",
   "execution_count": null,
   "id": "8925608e",
   "metadata": {
    "deletable": true,
    "editable": true
   },
   "outputs": [],
   "source": [
    "def request_pokemon(name):\n",
    "    ...\n",
    "res = request_pokemon('pikachu')\n",
    "res"
   ]
  },
  {
   "cell_type": "markdown",
   "id": "61dd6ace",
   "metadata": {
    "deletable": true,
    "editable": true,
    "slideshow": {
     "slide_type": "fragment"
    }
   },
   "source": [
    "- Remember, the 200 status code is good! Let's take a look at the text, the same way we did before:"
   ]
  },
  {
   "cell_type": "code",
   "execution_count": null,
   "id": "b34173c7",
   "metadata": {
    "deletable": true,
    "editable": true
   },
   "outputs": [],
   "source": [
    "res.text[:1000]"
   ]
  },
  {
   "cell_type": "markdown",
   "id": "61ee6075",
   "metadata": {
    "deletable": true,
    "editable": true,
    "slideshow": {
     "slide_type": "fragment"
    }
   },
   "source": [
    "- Unlike when we were scraping earlier, the text in the response no longer resembles HTML!"
   ]
  },
  {
   "cell_type": "markdown",
   "id": "5b4a4501",
   "metadata": {
    "deletable": true,
    "editable": true,
    "slideshow": {
     "slide_type": "slide"
    }
   },
   "source": [
    "<center><img src='imgs/json.png' width=500></center>"
   ]
  },
  {
   "cell_type": "markdown",
   "id": "5ed797c9",
   "metadata": {
    "deletable": true,
    "editable": true,
    "slideshow": {
     "slide_type": "slide"
    }
   },
   "source": [
    "### JSON"
   ]
  },
  {
   "cell_type": "markdown",
   "id": "59479629",
   "metadata": {
    "deletable": true,
    "editable": true,
    "slideshow": {
     "slide_type": "fragment"
    }
   },
   "source": [
    "- JSON stands for **JavaScript Object Notation**. It is a lightweight format for storing and transferring data."
   ]
  },
  {
   "cell_type": "markdown",
   "id": "04200f29",
   "metadata": {
    "deletable": true,
    "editable": true,
    "slideshow": {
     "slide_type": "fragment"
    }
   },
   "source": [
    "- It is:\n",
    "    - very easy for computers to read and write.\n",
    "    - moderately easy for programmers to read and write by hand.\n",
    "    - meant to be generated and parsed."
   ]
  },
  {
   "cell_type": "markdown",
   "id": "6ac38549",
   "metadata": {
    "deletable": true,
    "editable": true,
    "slideshow": {
     "slide_type": "fragment"
    }
   },
   "source": [
    "- Most modern languages have an interface for working with JSON objects.<br><small>JSON objects **resemble** Python dictionaries, but are not the same!</small>"
   ]
  },
  {
   "cell_type": "markdown",
   "id": "713f8cc1",
   "metadata": {
    "deletable": true,
    "editable": true,
    "slideshow": {
     "slide_type": "slide"
    }
   },
   "source": [
    "### JSON data types\n",
    "\n",
    "| Type | Description |\n",
    "| --- | --- |\n",
    "| String | Anything inside double quotes. |\n",
    "| Number | Any number (no difference between ints and floats). |\n",
    "| Boolean | `true` and `false`. |\n",
    "| Null | JSON's empty value, denoted by `null`. |\n",
    "| Array | Like Python lists. |\n",
    "| Object | A collection of key-value pairs, like dictionaries. Keys must be strings, values can be anything (even other objects). |\n",
    "\n",
    "<br>\n",
    "\n",
    "<center><small>See <a href=\"https://json-schema.org/understanding-json-schema/reference/type.html\">json-schema.org</a> for more details.</small></center>"
   ]
  },
  {
   "cell_type": "markdown",
   "id": "ad13f3ed",
   "metadata": {
    "deletable": true,
    "editable": true,
    "slideshow": {
     "slide_type": "slide"
    }
   },
   "source": [
    "### Example JSON object\n",
    "\n",
    "<center><img src='imgs/hierarchy.png' width=500> <small>See <code>data/family.json</code>.</small></center>"
   ]
  },
  {
   "cell_type": "code",
   "execution_count": null,
   "id": "ba4670d8",
   "metadata": {
    "deletable": true,
    "editable": true
   },
   "outputs": [],
   "source": [
    "!cat data/family.json"
   ]
  },
  {
   "cell_type": "code",
   "execution_count": null,
   "id": "153881ee",
   "metadata": {
    "deletable": true,
    "editable": true
   },
   "outputs": [],
   "source": [
    "import json\n",
    "with open('data/family.json', 'r') as f:\n",
    "    family_str = f.read()\n",
    "    family_tree = json.loads(family_str) # loads stands for load string."
   ]
  },
  {
   "cell_type": "code",
   "execution_count": null,
   "id": "3c56284a",
   "metadata": {
    "deletable": true,
    "editable": true
   },
   "outputs": [],
   "source": [
    "family_tree"
   ]
  },
  {
   "cell_type": "code",
   "execution_count": null,
   "id": "b9c0d0ed",
   "metadata": {
    "deletable": true,
    "editable": true,
    "scrolled": true
   },
   "outputs": [],
   "source": [
    "..."
   ]
  },
  {
   "cell_type": "markdown",
   "id": "69769bc0",
   "metadata": {
    "deletable": true,
    "editable": true,
    "slideshow": {
     "slide_type": "skip"
    }
   },
   "source": [
    "<div class=\"alert alert-danger\" markdown=\"1\">\n",
    "\n",
    "#### Reference Slide\n",
    "\n",
    "### Using the `json` module"
   ]
  },
  {
   "cell_type": "markdown",
   "id": "9a81ec66",
   "metadata": {
    "deletable": true,
    "editable": true,
    "slideshow": {
     "slide_type": "skip"
    }
   },
   "source": [
    "- `json.load(f)` loads a JSON file from a file object."
   ]
  },
  {
   "cell_type": "markdown",
   "id": "c14bd27e",
   "metadata": {
    "deletable": true,
    "editable": true,
    "slideshow": {
     "slide_type": "skip"
    }
   },
   "source": [
    "- `json.loads(f)` loads a JSON file from a **s**tring."
   ]
  },
  {
   "cell_type": "code",
   "execution_count": null,
   "id": "058084bb",
   "metadata": {
    "deletable": true,
    "editable": true,
    "slideshow": {
     "slide_type": "skip"
    }
   },
   "outputs": [],
   "source": [
    "with open('data/family.json') as f:\n",
    "    family_tree = json.load(f)\n",
    "family_tree"
   ]
  },
  {
   "cell_type": "code",
   "execution_count": null,
   "id": "67a2c13e",
   "metadata": {
    "deletable": true,
    "editable": true,
    "slideshow": {
     "slide_type": "skip"
    }
   },
   "outputs": [],
   "source": [
    "with open('data/family.json') as f:\n",
    "    family_tree_string = f.read()\n",
    "    family_tree = json.loads(family_tree_string)\n",
    "family_tree"
   ]
  },
  {
   "cell_type": "markdown",
   "id": "c9c29ef0",
   "metadata": {
    "deletable": true,
    "editable": true,
    "slideshow": {
     "slide_type": "skip"
    }
   },
   "source": [
    "<div class=\"alert alert-danger\">\n",
    "    \n",
    "#### Reference Slide\n",
    "\n",
    "### Aside: `pd.read_json`\n",
    "    \n",
    "</div>"
   ]
  },
  {
   "cell_type": "markdown",
   "id": "3f3f2de0",
   "metadata": {
    "deletable": true,
    "editable": true,
    "slideshow": {
     "slide_type": "skip"
    }
   },
   "source": [
    "- `pandas` also has a built-in `read_json` function."
   ]
  },
  {
   "cell_type": "code",
   "execution_count": null,
   "id": "9e88b3af",
   "metadata": {
    "deletable": true,
    "editable": true,
    "slideshow": {
     "slide_type": "skip"
    }
   },
   "outputs": [],
   "source": [
    "with open('data/family.json', 'r') as f:\n",
    "    family_df = pd.read_json(f)\n",
    "family_df"
   ]
  },
  {
   "cell_type": "markdown",
   "id": "67b4abda",
   "metadata": {
    "deletable": true,
    "editable": true,
    "slideshow": {
     "slide_type": "skip"
    }
   },
   "source": [
    "- It only makes sense to use it, though, when you have a JSON file that has some sort of tabular structure. Our family tree example does not."
   ]
  },
  {
   "cell_type": "markdown",
   "id": "5274edc0",
   "metadata": {
    "deletable": true,
    "editable": true,
    "slideshow": {
     "slide_type": "slide"
    }
   },
   "source": [
    "### Example: Pokémon API ⚡️"
   ]
  },
  {
   "cell_type": "markdown",
   "id": "d29404e5",
   "metadata": {
    "deletable": true,
    "editable": true,
    "slideshow": {
     "slide_type": "fragment"
    }
   },
   "source": [
    "- The response we get back from the Pokémon API looks like JSON.<br>We can extract the JSON from this request with the `json` method of `res`.<br><small>We could also pass `res.text` to `json.loads`.</small>"
   ]
  },
  {
   "cell_type": "code",
   "execution_count": null,
   "id": "04429d59",
   "metadata": {
    "deletable": true,
    "editable": true
   },
   "outputs": [],
   "source": [
    "res = request_pokemon('pikachu')\n",
    "res.text[:1000]"
   ]
  },
  {
   "cell_type": "code",
   "execution_count": null,
   "id": "2cc9ab3c",
   "metadata": {
    "deletable": true,
    "editable": true
   },
   "outputs": [],
   "source": [
    "pikachu = res.json()\n",
    "pikachu"
   ]
  },
  {
   "cell_type": "code",
   "execution_count": null,
   "id": "effaa52b",
   "metadata": {
    "deletable": true,
    "editable": true
   },
   "outputs": [],
   "source": [
    "pikachu.keys()"
   ]
  },
  {
   "cell_type": "code",
   "execution_count": null,
   "id": "dfe803c3",
   "metadata": {
    "deletable": true,
    "editable": true
   },
   "outputs": [],
   "source": [
    "pikachu['weight']"
   ]
  },
  {
   "cell_type": "code",
   "execution_count": null,
   "id": "2b269c8f",
   "metadata": {
    "deletable": true,
    "editable": true
   },
   "outputs": [],
   "source": [
    "pikachu['abilities'][1]['ability']['name']"
   ]
  },
  {
   "cell_type": "markdown",
   "id": "9e134dec",
   "metadata": {
    "deletable": true,
    "editable": true,
    "slideshow": {
     "slide_type": "slide"
    }
   },
   "source": [
    "### Invalid `GET` requests"
   ]
  },
  {
   "cell_type": "markdown",
   "id": "de020e3b",
   "metadata": {
    "deletable": true,
    "editable": true,
    "slideshow": {
     "slide_type": "fragment"
    }
   },
   "source": [
    "- Let's try a `GET` request for `'wolverine'`."
   ]
  },
  {
   "cell_type": "code",
   "execution_count": null,
   "id": "e1703de2",
   "metadata": {
    "deletable": true,
    "editable": true
   },
   "outputs": [],
   "source": [
    "request_pokemon('wolverine')"
   ]
  },
  {
   "cell_type": "markdown",
   "id": "728e6778",
   "metadata": {
    "deletable": true,
    "editable": true,
    "slideshow": {
     "slide_type": "fragment"
    }
   },
   "source": [
    "- We receive a 404 error, since there is no Pokémon named `'wolverine'`!"
   ]
  },
  {
   "cell_type": "markdown",
   "id": "07335be7",
   "metadata": {
    "deletable": true,
    "editable": true,
    "slideshow": {
     "slide_type": "slide"
    }
   },
   "source": [
    "### More on APIs"
   ]
  },
  {
   "cell_type": "markdown",
   "id": "2092512a",
   "metadata": {
    "deletable": true,
    "editable": true,
    "slideshow": {
     "slide_type": "fragment"
    }
   },
   "source": [
    "- We accessed the Pokémon API by making requests. But, some APIs exist as Python _wrappers_, which allow you to make requests by calling Python functions.<br><small>`request_pokemon` is essentially a wrapper for (a small part of) the Pokémon API. If you're curious, try out the [DeepSeek API](https://api-docs.deepseek.com/)!</small>"
   ]
  },
  {
   "cell_type": "markdown",
   "id": "f6c12ffa",
   "metadata": {
    "deletable": true,
    "editable": true,
    "slideshow": {
     "slide_type": "fragment"
    }
   },
   "source": [
    "- Some APIs will require you to create an API key, and send that key as part of your request.<br><small>See Homework 5 for an example!</small>"
   ]
  },
  {
   "cell_type": "markdown",
   "id": "74f4e880",
   "metadata": {
    "deletable": true,
    "editable": true,
    "slideshow": {
     "slide_type": "fragment"
    }
   },
   "source": [
    "- Many of the APIs you'll use are \"REST\" APIs. Learn more about RESTful APIs [here](https://en.wikipedia.org/wiki/REST#Architectural_constraints).<br><small>REST stands for \"Representational State Transfer.\" One of the key properties of a RESTful API is that servers don't store any information about previous requests, or who is making them."
   ]
  },
  {
   "cell_type": "markdown",
   "id": "e154eb99",
   "metadata": {
    "deletable": true,
    "editable": true,
    "slideshow": {
     "slide_type": "slide"
    }
   },
   "source": [
    "### Summary, next time"
   ]
  },
  {
   "cell_type": "markdown",
   "id": "dc125aeb",
   "metadata": {
    "deletable": true,
    "editable": true,
    "slideshow": {
     "slide_type": "fragment"
    }
   },
   "source": [
    "- Beautiful Soup is an HTML parser that allows us to (somewhat) easily extract information from HTML documents.\n",
    "    - `soup.find` and `soup.find_all` are the methods you will use most often."
   ]
  },
  {
   "cell_type": "markdown",
   "id": "9dac076b",
   "metadata": {
    "deletable": true,
    "editable": true,
    "slideshow": {
     "slide_type": "fragment"
    }
   },
   "source": [
    "- When writing scraping code:\n",
    "    - Use \"inspect element\" to identify the names of tags and attributes that are relevant to the information you want to extract.\n",
    "    - Separate your logic for making requests and for parsing."
   ]
  }
 ],
 "metadata": {
  "celltoolbar": "None",
  "kernelspec": {
   "display_name": "Python 3 (ipykernel)",
   "language": "python",
   "name": "python3"
  },
  "language_info": {
   "codemirror_mode": {
    "name": "ipython",
    "version": 3
   },
   "file_extension": ".py",
   "mimetype": "text/x-python",
   "name": "python",
   "nbconvert_exporter": "python",
   "pygments_lexer": "ipython3",
   "version": "3.10.16"
  },
  "livereveal": {
   "scroll": true
  },
  "rise": {
   "transition": "none"
  }
 },
 "nbformat": 4,
 "nbformat_minor": 5
}
