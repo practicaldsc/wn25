{
 "cells": [
  {
   "cell_type": "code",
   "execution_count": null,
   "id": "37bcc341",
   "metadata": {
    "deletable": true,
    "editable": true
   },
   "outputs": [],
   "source": [
    "from lec_utils import *"
   ]
  },
  {
   "cell_type": "markdown",
   "id": "f8a16a50",
   "metadata": {
    "deletable": true,
    "editable": true
   },
   "source": [
    "<div class=\"alert alert-info\" markdown=\"1\">\n",
    "\n",
    "#### Lecture 14 Supplementary Notebook\n",
    "\n",
    "# Regression using Linear Algebra\n",
    "\n",
    "### EECS 398: Practical Data Science, Winter 2025\n",
    "\n",
    "<small><a style=\"text-decoration: none\" href=\"https://practicaldsc.org\">practicaldsc.org</a> • <a style=\"text-decoration: none\" href=\"https://github.com/practicaldsc/wn25\">github.com/practicaldsc/wn25</a> • 📣 See latest announcements [**here on Ed**](https://edstem.org/us/courses/69737/discussion/5943734) </small>\n",
    "    \n",
    "</div>\n",
    "\n",
    "<div class=\"alert alert-warning\">\n",
    "\n",
    "**Note**: This notebook is only a supplementary notebook to the main lecture slides, which are in PDF form.\n",
    "\n",
    "The main lecture slides can be found at [practicaldsc.org](https://practicaldsc.org) under Lecture 14. After the live lecture, an annotated version of the slides will be made available as well.\n",
    "    \n",
    "</div>"
   ]
  },
  {
   "cell_type": "markdown",
   "id": "78844c4b",
   "metadata": {
    "deletable": true,
    "editable": true
   },
   "source": [
    "## Understanding the Data\n",
    "\n",
    "---"
   ]
  },
  {
   "cell_type": "markdown",
   "id": "7580aeaa",
   "metadata": {
    "deletable": true,
    "editable": true
   },
   "source": [
    "Let's load in the commute times dataset as a DataFrame."
   ]
  },
  {
   "cell_type": "code",
   "execution_count": null,
   "id": "6e96ca61",
   "metadata": {
    "deletable": true,
    "editable": true
   },
   "outputs": [],
   "source": [
    "df = pd.read_csv('data/commute-times.csv')\n",
    "df.head()"
   ]
  },
  {
   "cell_type": "markdown",
   "id": "669c9bcd",
   "metadata": {
    "deletable": true,
    "editable": true
   },
   "source": [
    "There are many columns in here, but the only ones we're interested in for now are `'departure_hour'` and `'minutes'`."
   ]
  },
  {
   "cell_type": "code",
   "execution_count": null,
   "id": "25aa29fe",
   "metadata": {
    "deletable": true,
    "editable": true
   },
   "outputs": [],
   "source": [
    "df[['departure_hour', 'minutes']]"
   ]
  },
  {
   "cell_type": "code",
   "execution_count": null,
   "id": "a39740ce",
   "metadata": {
    "deletable": true,
    "editable": true
   },
   "outputs": [],
   "source": [
    "fig = px.scatter(df,\n",
    "           x='departure_hour',\n",
    "           y='minutes',\n",
    "           size=np.ones(len(df)) * 50,\n",
    "           size_max=8)\n",
    "fig.update_xaxes(title='Home Departure Time (AM)')\n",
    "fig.update_yaxes(title='Minutes')\n",
    "fig.update_layout(title='Commuting Time vs. Home Departure Time')\n",
    "fig.update_layout(width=700)"
   ]
  },
  {
   "cell_type": "markdown",
   "id": "8d4f0a94",
   "metadata": {
    "deletable": true,
    "editable": true
   },
   "source": [
    "## Implementing $w_0^*$ and $w_1^*$\n",
    "\n",
    "---"
   ]
  },
  {
   "cell_type": "markdown",
   "id": "2df8f1b0",
   "metadata": {
    "deletable": true,
    "editable": true
   },
   "source": [
    "Let's implement the formulas for the best slope, $w_1^*$, and intercept, $w_0^*$, we found in the lecture slides:\n",
    "\n",
    "\\begin{align*}\n",
    "w_1^* &=\n",
    "    \\frac{\n",
    "        \\displaystyle\n",
    "        \\sum_{i=1}^n (x_i - \\bar x)(y_i - \\bar y)\n",
    "    }{\n",
    "        \\displaystyle\n",
    "        \\sum_{i=1}^n (x_i - \\bar x)^2\n",
    "    }\n",
    "    \\qquad\n",
    "    \\qquad\n",
    "w_0^* =\n",
    "    \\bar y - w_1^* \\bar x\n",
    "\\end{align*}"
   ]
  },
  {
   "cell_type": "code",
   "execution_count": null,
   "id": "7b7e47ec",
   "metadata": {
    "deletable": true,
    "editable": true
   },
   "outputs": [],
   "source": [
    "def slope(x, y):\n",
    "    # Assume x and y are two Series.\n",
    "    numerator = ((x - np.mean(x)) * (y - np.mean(y))).sum()\n",
    "    denominator = ((x - np.mean(x)) ** 2).sum()\n",
    "    return numerator / denominator\n",
    "def intercept(x, y):\n",
    "    return y.mean() - slope(x, y) * x.mean()"
   ]
  },
  {
   "cell_type": "code",
   "execution_count": null,
   "id": "731258ad",
   "metadata": {
    "deletable": true,
    "editable": true
   },
   "outputs": [],
   "source": [
    "w1_star = slope(df['departure_hour'], df['minutes'])\n",
    "w1_star"
   ]
  },
  {
   "cell_type": "code",
   "execution_count": null,
   "id": "00c95291",
   "metadata": {
    "deletable": true,
    "editable": true
   },
   "outputs": [],
   "source": [
    "w0_star = intercept(df['departure_hour'], df['minutes'])\n",
    "w0_star"
   ]
  },
  {
   "cell_type": "markdown",
   "id": "8e66ef8c",
   "metadata": {
    "deletable": true,
    "editable": true
   },
   "source": [
    "The results above tell us that the linear hypothesis function with the lowest mean squared error on our dataset is:\n",
    "\n",
    "$$\\text{predicted commute time (minutes)} = 142.45 - 8.19 \\cdot \\text{departure hour}$$"
   ]
  },
  {
   "cell_type": "markdown",
   "id": "34e2624d",
   "metadata": {
    "deletable": true,
    "editable": true
   },
   "source": [
    "We can use it to make predictions:"
   ]
  },
  {
   "cell_type": "code",
   "execution_count": null,
   "id": "887fbd87",
   "metadata": {
    "deletable": true,
    "editable": true
   },
   "outputs": [],
   "source": [
    "def predict_commute(x_new):\n",
    "    return w0_star + w1_star * x_new"
   ]
  },
  {
   "cell_type": "markdown",
   "id": "c616ce55",
   "metadata": {
    "deletable": true,
    "editable": true
   },
   "source": [
    "What if I leave at 8AM? 10:45AM?"
   ]
  },
  {
   "cell_type": "code",
   "execution_count": null,
   "id": "3d29e2e3",
   "metadata": {
    "deletable": true,
    "editable": true
   },
   "outputs": [],
   "source": [
    "predict_commute(8)"
   ]
  },
  {
   "cell_type": "code",
   "execution_count": null,
   "id": "8bf5e3a5",
   "metadata": {
    "deletable": true,
    "editable": true
   },
   "outputs": [],
   "source": [
    "predict_commute(10 + 45 / 60)"
   ]
  },
  {
   "cell_type": "markdown",
   "id": "c7c6797f",
   "metadata": {
    "deletable": true,
    "editable": true
   },
   "source": [
    "What do all of our predictions look like?"
   ]
  },
  {
   "cell_type": "code",
   "execution_count": null,
   "id": "99d65fd7",
   "metadata": {
    "deletable": true,
    "editable": true
   },
   "outputs": [],
   "source": [
    "hline = px.line(x=[5.5, 11.5], y=[predict_commute(5.5), predict_commute(11.5)]).update_traces(line={'color': 'red', 'width': 4})\n",
    "fline1 = go.Figure(fig.data + hline.data)\n",
    "fline1.update_xaxes(title='Home Departure Time (AM)')\n",
    "fline1.update_yaxes(title='Minutes')\n",
    "fline1.update_layout(title='<span style=\"color:red\">Predicted Commute Time</span> = 142.25 - 8.19 * Departure Hour')\n",
    "fline1.update_layout(width=700, margin={'t': 60})"
   ]
  },
  {
   "cell_type": "markdown",
   "id": "3b8385ed",
   "metadata": {
    "deletable": true,
    "editable": true
   },
   "source": [
    "### Aside: What does $R_{\\text{sq}}(w_0, w_1)$ look like?\n",
    "\n",
    "Let's draw a plot of $R_{\\text{sq}}(w_0, w_1)$, the empirical risk that we're trying to minimize.\n",
    "- When we only had a single parameter, $h$, $R(h)$ was in 2D.\n",
    "    - One axis for $h$, one axis for $R(h)$.\n",
    "- Now that we have two parameters, $w_0$ and $w_1$, $R(w_0, w_1)$ will be in 3D!\n",
    "    - One axis for $w_0$, one axis for $w_1$, one axis for $R(w_0, w_1)$.\n",
    "    - The bottom plane consists of all possible combinations of slope and intercept.\n",
    "    - The height of the function above any pair of points on the bottom plane represents the MSE for that combination of slope and intercept."
   ]
  },
  {
   "cell_type": "code",
   "execution_count": null,
   "id": "b0f831f2",
   "metadata": {
    "deletable": true,
    "editable": true
   },
   "outputs": [],
   "source": [
    "def mse(y_actual, y_pred):\n",
    "    return np.mean((y_actual - y_pred)**2)\n",
    "def mse_for_departure_model(w):\n",
    "    w0, w1 = w\n",
    "    return mse(df['minutes'], w0 + w1 * df['departure_hour'])\n",
    "num_points = 50 # increase for better resolution, but it will run more slowly. \n",
    "# if (num_points <= 100):\n",
    "uvalues = np.linspace(90, 190, num_points)\n",
    "vvalues = np.linspace(-13, -3, num_points)\n",
    "(u,v) = np.meshgrid(uvalues, vvalues)\n",
    "thetas = np.vstack((u.flatten(),v.flatten()))\n",
    "MSE = np.array([mse_for_departure_model(t) for t in thetas.T])\n",
    "loss_surface = go.Surface(x=u, y=v, z=np.reshape(MSE, u.shape))\n",
    "minimizer = go.Scatter3d(x=[w0_star], y=[w1_star], z=[mse_for_departure_model([w0_star, w1_star])], \n",
    "                         mode='markers', name='optimal parameters',\n",
    "                         marker=dict(size=10, color='gold'))\n",
    "fig = go.Figure(data=[loss_surface, minimizer])\n",
    "# fig.add_trace(opt_point)\n",
    "fig.update_layout(title='Loss Surface', scene = dict(\n",
    "    xaxis_title = \"w0\",\n",
    "    yaxis_title = \"w1\",\n",
    "    zaxis_title = r\"R(w0, w1)\"))\n",
    "fig.show()\n",
    "# else:\n",
    "#     print(\"Picking num points > 100 can be really slow. If you really want to try, edit the code above so that this if statement doesn't trigger.\")"
   ]
  },
  {
   "cell_type": "markdown",
   "id": "e9306475",
   "metadata": {
    "deletable": true,
    "editable": true
   },
   "source": [
    "We used partial derivatives to minimize the graph above!\n",
    "\n",
    "Here's [**another demo website**](https://dsc40a.com/demos/1_linear_regression) that graphs $R_\\text{sq}(w_0, w_1)$; check it out."
   ]
  },
  {
   "cell_type": "markdown",
   "id": "1f3bd577",
   "metadata": {
    "deletable": true,
    "editable": true
   },
   "source": [
    "## Correlation\n",
    "\n",
    "---\n",
    "\n",
    "$$\\begin{align*} r &= \\text{the average of the product of $x$ and $y$, when both are standardized} \\\\ &= \\frac{1}{n} \\sum_{i = 1}^n \\left( \\frac{x_i - \\bar{x}}{\\sigma_x} \\right) \\left( \\frac{y_i - \\bar{y}}{\\sigma_y} \\right)  \\end{align*}$$"
   ]
  },
  {
   "cell_type": "code",
   "execution_count": null,
   "id": "a8355bfd",
   "metadata": {
    "deletable": true,
    "editable": true
   },
   "outputs": [],
   "source": [
    "def correlation(x, y): \n",
    "    x_su = (x - np.mean(x)) / np.std(x)\n",
    "    y_su = (y - np.mean(y)) / np.std(y)\n",
    "    return np.mean(x_su * y_su)"
   ]
  },
  {
   "cell_type": "code",
   "execution_count": null,
   "id": "2a6abc5a",
   "metadata": {
    "deletable": true,
    "editable": true
   },
   "outputs": [],
   "source": [
    "correlation(df['departure_hour'], df['minutes'])"
   ]
  },
  {
   "cell_type": "code",
   "execution_count": null,
   "id": "66ec0d91",
   "metadata": {
    "deletable": true,
    "editable": true
   },
   "outputs": [],
   "source": [
    "# Symmetric!\n",
    "correlation(df['minutes'], df['departure_hour'])"
   ]
  },
  {
   "cell_type": "code",
   "execution_count": null,
   "id": "cbdc7742",
   "metadata": {
    "deletable": true,
    "editable": true
   },
   "outputs": [],
   "source": [
    "# Doesn't change if we multiply x or y by constants!\n",
    "correlation(df['departure_hour'] * 1000, df['minutes'] * 545)"
   ]
  },
  {
   "cell_type": "code",
   "execution_count": null,
   "id": "1d6cb576",
   "metadata": {
    "deletable": true,
    "editable": true
   },
   "outputs": [],
   "source": [
    "# DataFrames have a built-in correlation method.\n",
    "df[['departure_hour', 'minutes']].corr()"
   ]
  },
  {
   "cell_type": "code",
   "execution_count": null,
   "id": "e17b8b30",
   "metadata": {
    "deletable": true,
    "editable": true
   },
   "outputs": [],
   "source": [
    "# numpy has a built-in corrcoef method.\n",
    "np.corrcoef(df['departure_hour'], df['minutes'])"
   ]
  },
  {
   "cell_type": "markdown",
   "id": "026d05da",
   "metadata": {
    "deletable": true,
    "editable": true
   },
   "source": [
    "## Implementing $w_0^*$ and $w_1^*$, Again\n",
    "\n",
    "---\n",
    "\n",
    "Recall, the formulas for the optimal intercept and slope are:\n",
    "\n",
    "$$w_1^* = r \\frac{\\sigma_y}{\\sigma_x}$$\n",
    "\n",
    "$$w_0^* = \\bar{y} - w_1^* \\bar{x}$$\n",
    "\n",
    "Let's define two new functions, `slope_again` and `intercept_again`, which use these slightly updated formulas. (Really, only the formula for $w_1^*$ has changed.)"
   ]
  },
  {
   "cell_type": "code",
   "execution_count": null,
   "id": "7f920482",
   "metadata": {
    "deletable": true,
    "editable": true
   },
   "outputs": [],
   "source": [
    "def slope_again(x, y):\n",
    "    return correlation(x, y) * np.std(y) / np.std(x)"
   ]
  },
  {
   "cell_type": "code",
   "execution_count": null,
   "id": "9d26fd26",
   "metadata": {
    "deletable": true,
    "editable": true
   },
   "outputs": [],
   "source": [
    "def intercept_again(x, y):\n",
    "    return y.mean() - slope_again(x, y) * x.mean()"
   ]
  },
  {
   "cell_type": "code",
   "execution_count": null,
   "id": "2db2db63",
   "metadata": {
    "deletable": true,
    "editable": true
   },
   "outputs": [],
   "source": [
    "w1_star_again = slope_again(df['departure_hour'], df['minutes'])\n",
    "w1_star_again"
   ]
  },
  {
   "cell_type": "code",
   "execution_count": null,
   "id": "d11c974a",
   "metadata": {
    "deletable": true,
    "editable": true
   },
   "outputs": [],
   "source": [
    "w0_star_again = intercept_again(df['departure_hour'], df['minutes'])\n",
    "w0_star_again"
   ]
  },
  {
   "cell_type": "markdown",
   "id": "0c278b7d",
   "metadata": {
    "deletable": true,
    "editable": true
   },
   "source": [
    "We get the same optimal intercept and slope as before!"
   ]
  },
  {
   "cell_type": "code",
   "execution_count": null,
   "id": "f9919b62",
   "metadata": {
    "deletable": true,
    "editable": true
   },
   "outputs": [],
   "source": [
    "# From before:\n",
    "(w1_star, w0_star)"
   ]
  },
  {
   "cell_type": "code",
   "execution_count": null,
   "id": "294e5feb",
   "metadata": {
    "deletable": true,
    "editable": true
   },
   "outputs": [],
   "source": [
    "# Now:\n",
    "(w1_star_again, w0_star_again)"
   ]
  },
  {
   "cell_type": "markdown",
   "id": "05728492",
   "metadata": {
    "deletable": true,
    "editable": true
   },
   "source": [
    "## Implementing $w_0^*$ and $w_1^*$ using `sklearn`\n",
    "\n",
    "---\n",
    "\n",
    "In practice, you wouldn't manually implement formulas for $w_0^*$ and $w_1^*$. Instead, you'd use a pre-built implementation.\n",
    "\n",
    "The Python package we'll use for machine learning is `sklearn`. We'll start seeing it more in lectures next week."
   ]
  },
  {
   "cell_type": "code",
   "execution_count": null,
   "id": "ae32c9f3",
   "metadata": {
    "deletable": true,
    "editable": true
   },
   "outputs": [],
   "source": [
    "from sklearn.linear_model import LinearRegression"
   ]
  },
  {
   "cell_type": "markdown",
   "id": "5d95afdb",
   "metadata": {
    "deletable": true,
    "editable": true
   },
   "source": [
    "To build a linear regression model that we can use for prediction, we first need to instantiate a `LinearRegression` object."
   ]
  },
  {
   "cell_type": "code",
   "execution_count": null,
   "id": "9730eccf",
   "metadata": {
    "deletable": true,
    "editable": true
   },
   "outputs": [],
   "source": [
    "model = LinearRegression()"
   ]
  },
  {
   "cell_type": "markdown",
   "id": "679e168f",
   "metadata": {
    "deletable": true,
    "editable": true
   },
   "source": [
    "Then, we need to `fit` the model by telling it what our $x$'s and $y$'s are."
   ]
  },
  {
   "cell_type": "code",
   "execution_count": null,
   "id": "7c4ddb7f",
   "metadata": {
    "deletable": true,
    "editable": true
   },
   "outputs": [],
   "source": [
    "model.fit(X=df[['departure_hour']], y=df['minutes'])"
   ]
  },
  {
   "cell_type": "markdown",
   "id": "fa9ed0b9",
   "metadata": {
    "deletable": true,
    "editable": true
   },
   "source": [
    "Once the model is fit, we can look at its `intercept_` and `coef_` attributes to see $w_0^*$ and $w_1^*$, respectively."
   ]
  },
  {
   "cell_type": "code",
   "execution_count": null,
   "id": "23e00783",
   "metadata": {
    "deletable": true,
    "editable": true
   },
   "outputs": [],
   "source": [
    "model.intercept_"
   ]
  },
  {
   "cell_type": "code",
   "execution_count": null,
   "id": "8aed679f",
   "metadata": {
    "deletable": true,
    "editable": true
   },
   "outputs": [],
   "source": [
    "model.coef_"
   ]
  },
  {
   "cell_type": "markdown",
   "id": "98bdfaa4",
   "metadata": {
    "deletable": true,
    "editable": true
   },
   "source": [
    "These are **exactly the same** as we found with our manual calculations! This means that `sklearn` is doing the same three step modeling process that we outlined in lecture.\n",
    "\n",
    "Now that `model` is fit, we can use it for making predictions:"
   ]
  },
  {
   "cell_type": "code",
   "execution_count": null,
   "id": "cf73261c",
   "metadata": {
    "deletable": true,
    "editable": true
   },
   "outputs": [],
   "source": [
    "# We'll discuss this warning more in coming lectures.\n",
    "model.predict([[8]])"
   ]
  },
  {
   "cell_type": "code",
   "execution_count": null,
   "id": "1f3f2796",
   "metadata": {
    "deletable": true,
    "editable": true
   },
   "outputs": [],
   "source": [
    "# Using our hand-build predict_commute function from earlier in the lecture:\n",
    "predict_commute(8)"
   ]
  },
  {
   "cell_type": "markdown",
   "id": "5a40efad",
   "metadata": {
    "deletable": true,
    "editable": true
   },
   "source": [
    "## Finding the Regression Line, Using the Normal Equations\n",
    "\n",
    "---\n",
    "\n",
    "Using our linear algebraic formulation, the optimal intercept and slope are given by the vector $\\vec{w}^*$, where:\n",
    "\n",
    "$$\\vec{w}^* = ({X^TX})^{-1} X^T\\vec{y}$$\n",
    "\n",
    "Here:\n",
    "- $X$ is a $n \\times 2$ matrix, called the **design matrix**, defined as:\n",
    "\n",
    "$${ X} = \\begin{bmatrix} { 1} & { x_1} \\\\ { 1} & { x_2} \\\\ \\vdots & \\vdots \\\\ { 1} & { x_n} \\end{bmatrix}$$\n",
    "\n",
    "- $\\vec{y}$ is a $n$-dimensional vector, called the **observation vector**, defined as:\n",
    "\n",
    "$$\\vec{y} = \\begin{bmatrix} y_1 \\\\ y_2 \\\\ \\vdots \\\\ y_n \\end{bmatrix}$$\n",
    "\n",
    "Let's construct $X$ and $y$ in code.\n",
    "\n",
    "First, the design matrix."
   ]
  },
  {
   "cell_type": "code",
   "execution_count": null,
   "id": "d29d784b",
   "metadata": {
    "deletable": true,
    "editable": true
   },
   "outputs": [],
   "source": [
    "# Create a new DataFrame by taking the 'departure_hour' column from df.\n",
    "X = df[['departure_hour']].copy()\n",
    "X"
   ]
  },
  {
   "cell_type": "code",
   "execution_count": null,
   "id": "f57cdac2",
   "metadata": {
    "deletable": true,
    "editable": true
   },
   "outputs": [],
   "source": [
    "# Add a column of all 1s to X.\n",
    "X['1'] = 1\n",
    "X"
   ]
  },
  {
   "cell_type": "code",
   "execution_count": null,
   "id": "d6b8fe18",
   "metadata": {
    "deletable": true,
    "editable": true
   },
   "outputs": [],
   "source": [
    "# Change the order of the columns and convert to an array.\n",
    "X = X[['1', 'departure_hour']].to_numpy()\n",
    "X"
   ]
  },
  {
   "cell_type": "markdown",
   "id": "79e0bb05",
   "metadata": {
    "deletable": true,
    "editable": true
   },
   "source": [
    "$\\vec{y}$ is already created for us: it's just the `'minutes'` column in `df`."
   ]
  },
  {
   "cell_type": "code",
   "execution_count": null,
   "id": "a6c97aad",
   "metadata": {
    "deletable": true,
    "editable": true
   },
   "outputs": [],
   "source": [
    "y = df['minutes'].to_numpy()\n",
    "y"
   ]
  },
  {
   "cell_type": "markdown",
   "id": "308f06cb",
   "metadata": {
    "deletable": true,
    "editable": true
   },
   "source": [
    "Now, let's implement:\n",
    "\n",
    "$$\\vec{w}^* = ({X^TX})^{-1} X^T\\vec{y}$$"
   ]
  },
  {
   "cell_type": "code",
   "execution_count": null,
   "id": "7048692d",
   "metadata": {
    "deletable": true,
    "editable": true
   },
   "outputs": [],
   "source": [
    "# The @ symbol performs matrix multiplication!\n",
    "w_star_linalg = np.linalg.inv(X.T @ X) @ X.T @ y \n",
    "w_star_linalg"
   ]
  },
  {
   "cell_type": "markdown",
   "id": "343954ba",
   "metadata": {
    "deletable": true,
    "editable": true
   },
   "source": [
    "These numbers look familiar!"
   ]
  },
  {
   "cell_type": "code",
   "execution_count": null,
   "id": "49227dbe",
   "metadata": {
    "deletable": true,
    "editable": true
   },
   "outputs": [],
   "source": [
    "# Old formulas.\n",
    "w0_star, w1_star"
   ]
  },
  {
   "cell_type": "markdown",
   "id": "d96ce1cd",
   "metadata": {
    "deletable": true,
    "editable": true
   },
   "source": [
    "Indeed, they're exactly the same as the `w0_star` and `w1_star` we found using our old formulas."
   ]
  },
  {
   "cell_type": "markdown",
   "id": "5799ecfc",
   "metadata": {
    "deletable": true,
    "editable": true
   },
   "source": [
    "## Making Predictions\n",
    "\n",
    "---\n",
    "\n",
    "We know how to make predictions with the old formulas:"
   ]
  },
  {
   "cell_type": "code",
   "execution_count": null,
   "id": "2f39f6f1",
   "metadata": {
    "deletable": true,
    "editable": true
   },
   "outputs": [],
   "source": [
    "# The predicted commute time if I leave at 8:30AM.\n",
    "w0_star + w1_star * 8.5 "
   ]
  },
  {
   "cell_type": "markdown",
   "id": "1b2a77cf",
   "metadata": {
    "deletable": true,
    "editable": true
   },
   "source": [
    "How do we make predictions with the new formulas?\n",
    "\n",
    "To find the predicted commute time for every departure hour in our dataset, we can multiply $X$ by the optimal parameter vector, $\\vec{w}^*$.\n",
    "\n",
    "$$\\vec{h}^* = X \\vec{w}^*$$\n",
    "\n",
    "$\\vec{h}^*$ above is the optimal **hypothesis vector**."
   ]
  },
  {
   "cell_type": "code",
   "execution_count": null,
   "id": "3db9dca0",
   "metadata": {
    "deletable": true,
    "editable": true
   },
   "outputs": [],
   "source": [
    "all_preds = X @ w_star_linalg \n",
    "all_preds"
   ]
  },
  {
   "cell_type": "markdown",
   "id": "819f78bf",
   "metadata": {
    "deletable": true,
    "editable": true
   },
   "source": [
    "To make a prediction for a single data point, we must take the **dot product** of the optimal parameter vector, $\\vec{w}^*$ (`w_star_linalg`) with a vector of the form $\\begin{bmatrix} 1 & x_\\text{new} \\end{bmatrix}^T$, since this is what the rows of $X$ look like."
   ]
  },
  {
   "cell_type": "code",
   "execution_count": null,
   "id": "b0347d5c",
   "metadata": {
    "deletable": true,
    "editable": true
   },
   "outputs": [],
   "source": [
    "# Also the predicted commute time if I leave at 8:30AM.\n",
    "np.dot(w_star_linalg, np.array([1, 8.5])) "
   ]
  },
  {
   "cell_type": "markdown",
   "id": "8e1777b3",
   "metadata": {
    "deletable": true,
    "editable": true
   },
   "source": [
    "This gives us the same prediction as before!"
   ]
  },
  {
   "cell_type": "markdown",
   "id": "237f2707",
   "metadata": {
    "deletable": true,
    "editable": true
   },
   "source": [
    "## Multiple Linear Regression\n",
    "\n",
    "---\n",
    "\n",
    "Previously, with simple linear regression, our goal was to **fit** a hypothesis function of the form:\n",
    "\n",
    "$$\\begin{align*}\\text{pred. commute} &= H(\\text{departure hour}) \\\\ &= w_0 + w_1 \\cdot \\text{departure hour} \\end{align*}$$\n",
    "\n",
    "Now, we'll try and fit a linear regression model of the form:\n",
    "\n",
    "$$\\begin{align*}\\text{pred. commute} &= H(\\text{departure hour, day of month}) \\\\ &= w_0 + w_1 \\cdot \\text{departure hour} + w_2 \\cdot \\text{day of month} \\end{align*}$$"
   ]
  },
  {
   "cell_type": "code",
   "execution_count": null,
   "id": "c897c533",
   "metadata": {
    "deletable": true,
    "editable": true
   },
   "outputs": [],
   "source": [
    "df['date']"
   ]
  },
  {
   "cell_type": "code",
   "execution_count": null,
   "id": "187a03da",
   "metadata": {
    "deletable": true,
    "editable": true
   },
   "outputs": [],
   "source": [
    "df['day_of_month'] = pd.to_datetime(df['date']).dt.day"
   ]
  },
  {
   "cell_type": "code",
   "execution_count": null,
   "id": "3162d208",
   "metadata": {
    "deletable": true,
    "editable": true
   },
   "outputs": [],
   "source": [
    "df[['departure_hour', 'day_of_month', 'minutes']]"
   ]
  },
  {
   "cell_type": "markdown",
   "id": "34fcb30e",
   "metadata": {
    "deletable": true,
    "editable": true
   },
   "source": [
    "Let's create our new design matrix, $X$:\n",
    "\n",
    "$$X = \\begin{bmatrix}\n",
    "\t\t1      & \\text{departure hour}_1 & \\text{day}_1   \\\\\n",
    "\t\t1      & \\text{departure hour}_2 & \\text{day}_2    \\\\\n",
    "\t\t... & ... & ... \\\\\n",
    "\t\t1      & \\text{departure hour}_n & \\text{day}_n\n",
    "\t\\end{bmatrix}$$"
   ]
  },
  {
   "cell_type": "code",
   "execution_count": null,
   "id": "e81e98b8",
   "metadata": {
    "deletable": true,
    "editable": true
   },
   "outputs": [],
   "source": [
    "X = df[['departure_hour', 'day_of_month']].copy()\n",
    "X['1'] = 1\n",
    "X = X[['1', 'departure_hour', 'day_of_month']].to_numpy()\n",
    "X"
   ]
  },
  {
   "cell_type": "code",
   "execution_count": null,
   "id": "16fd433b",
   "metadata": {
    "deletable": true,
    "editable": true
   },
   "outputs": [],
   "source": [
    "w_star_multiple = np.linalg.inv(X.T @ X) @ X.T @ y \n",
    "w_star_multiple"
   ]
  },
  {
   "cell_type": "markdown",
   "id": "d96bd839",
   "metadata": {
    "deletable": true,
    "editable": true
   },
   "source": [
    "What do our predictions look like, for each row of the dataset?"
   ]
  },
  {
   "cell_type": "code",
   "execution_count": null,
   "id": "2db96fea",
   "metadata": {
    "deletable": true,
    "editable": true
   },
   "outputs": [],
   "source": [
    "XX, YY = np.mgrid[5:14:1, 0:31:1]\n",
    "Z = w_star_multiple[0] + w_star_multiple[1] * XX + w_star_multiple[2] * YY\n",
    "plane = go.Surface(x=XX, y=YY, z=Z, colorscale='Reds')\n",
    "fig = go.Figure(data=[plane])\n",
    "fig.add_trace(go.Scatter3d(x=df['departure_hour'], \n",
    "                           y=df['day_of_month'], \n",
    "                           z=df['minutes'], mode='markers', marker = {'color': '#656DF1'}))\n",
    "fig.update_layout(scene=dict(xaxis_title='Departure Hour',\n",
    "                             yaxis_title='Day of Month',\n",
    "                             zaxis_title='Minutes'),\n",
    "                  title='Commute Time vs. Departure Hour and Day of Month',\n",
    "                  width=1000, height=500)"
   ]
  },
  {
   "cell_type": "markdown",
   "id": "ade0b837",
   "metadata": {
    "deletable": true,
    "editable": true
   },
   "source": [
    "How do we make predictions for new datapoints?"
   ]
  },
  {
   "cell_type": "code",
   "execution_count": null,
   "id": "e2e24fc5",
   "metadata": {
    "deletable": true,
    "editable": true
   },
   "outputs": [],
   "source": [
    "# The predicted commute time if I leave at 8:30AM on the 15th of the month.\n",
    "np.dot(w_star_multiple, np.array([1, 8.5, 15]))"
   ]
  },
  {
   "cell_type": "code",
   "execution_count": null,
   "id": "db344109",
   "metadata": {
    "deletable": true,
    "editable": true
   },
   "outputs": [],
   "source": [
    "# The predicted commute time if I leave at 8:30AM on the 30th of the month.\n",
    "np.dot(w_star_multiple, np.array([1, 8.5, 30]))"
   ]
  }
 ],
 "metadata": {
  "celltoolbar": "None",
  "kernelspec": {
   "display_name": "Python 3 (ipykernel)",
   "language": "python",
   "name": "python3"
  },
  "language_info": {
   "codemirror_mode": {
    "name": "ipython",
    "version": 3
   },
   "file_extension": ".py",
   "mimetype": "text/x-python",
   "name": "python",
   "nbconvert_exporter": "python",
   "pygments_lexer": "ipython3",
   "version": "3.10.16"
  }
 },
 "nbformat": 4,
 "nbformat_minor": 5
}
