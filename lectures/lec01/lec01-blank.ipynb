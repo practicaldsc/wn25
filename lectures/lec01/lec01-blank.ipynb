{
 "cells": [
  {
   "cell_type": "code",
   "execution_count": null,
   "id": "34989dbc",
   "metadata": {
    "deletable": true,
    "editable": true,
    "slideshow": {
     "slide_type": "skip"
    },
    "tags": []
   },
   "outputs": [],
   "source": [
    "from lec_utils import *"
   ]
  },
  {
   "cell_type": "markdown",
   "id": "47dddfa1",
   "metadata": {
    "deletable": true,
    "editable": true,
    "slideshow": {
     "slide_type": "slide"
    },
    "tags": []
   },
   "source": [
    "<div class=\"alert alert-info\" markdown=\"1\">\n",
    "\n",
    "#### Lecture 1\n",
    "\n",
    "# Introduction\n",
    "\n",
    "### EECS 398: Practical Data Science, Winter 2025\n",
    "    \n",
    "</div>"
   ]
  },
  {
   "cell_type": "markdown",
   "id": "bbce0f71",
   "metadata": {
    "deletable": true,
    "editable": true,
    "slideshow": {
     "slide_type": "slide"
    }
   },
   "source": [
    "<center><h2>Welcome to Practical Data Science! 🎉</h2></center>"
   ]
  },
  {
   "cell_type": "markdown",
   "id": "354e7b63",
   "metadata": {
    "deletable": true,
    "editable": true,
    "slideshow": {
     "slide_type": "slide"
    }
   },
   "source": [
    "### Instructor: Suraj Rampure"
   ]
  },
  {
   "cell_type": "markdown",
   "id": "506bf419",
   "metadata": {
    "deletable": true,
    "editable": true,
    "slideshow": {
     "slide_type": "fragment"
    }
   },
   "source": [
    "- Call me Suraj, pronounced \"sooh-rudge\".<br><small>Many students also call me \"Prof. Suraj\" or \"Prof. Rampure\" – all of these are fine!</small>"
   ]
  },
  {
   "cell_type": "markdown",
   "id": "a39aa756",
   "metadata": {
    "deletable": true,
    "editable": true,
    "slideshow": {
     "slide_type": "fragment"
    }
   },
   "source": [
    "- 30 second life story:\n",
    "    - Originally from Windsor, ON, Canada 🇨🇦.\n",
    "    - BS and MS in EECS from UC Berkeley 🐻.\n",
    "    - Taught data science at UC San Diego 🔱 from 2021-2024.\n",
    "    - Recently moved back to Metro Detroit; second semester as teaching faculty at the  <b><span style=\"background-color: #FFCB05; color: #00274C\">University of Michigan</span></b> 〽️."
   ]
  },
  {
   "cell_type": "markdown",
   "id": "cd0020fc",
   "metadata": {
    "deletable": true,
    "editable": true,
    "slideshow": {
     "slide_type": "fragment"
    }
   },
   "source": [
    "- Outside interests: traveling and credit card points, hiking, eating out, watching basketball, visiting my dog 🐶, etc."
   ]
  },
  {
   "cell_type": "markdown",
   "id": "501f0845",
   "metadata": {
    "deletable": true,
    "editable": true,
    "slideshow": {
     "slide_type": "slide"
    }
   },
   "source": [
    "<center><img src=\"imgs/me.png\" width=1100></center>"
   ]
  },
  {
   "cell_type": "markdown",
   "id": "af8345f1",
   "metadata": {
    "deletable": true,
    "editable": true,
    "slideshow": {
     "slide_type": "slide"
    }
   },
   "source": [
    "### Course staff"
   ]
  },
  {
   "cell_type": "markdown",
   "id": "d45f1bc7",
   "metadata": {
    "deletable": true,
    "editable": true,
    "slideshow": {
     "slide_type": "fragment"
    }
   },
   "source": [
    "- In addition to the instructor, we have several staff members who are here to help you in discussion, office hours, and on Ed.<br><small>All of them took the course or were on course staff last semester!</small>"
   ]
  },
  {
   "cell_type": "markdown",
   "id": "3bf07919",
   "metadata": {
    "deletable": true,
    "editable": true,
    "slideshow": {
     "slide_type": "fragment"
    }
   },
   "source": [
    "- **5 IAs**: Abhinav Attaluri, Hana Ahmed, Caleb Hyun, Pranavi Pratapa, and Akanksha Rai."
   ]
  },
  {
   "cell_type": "markdown",
   "id": "d81338c1",
   "metadata": {
    "deletable": true,
    "editable": true,
    "slideshow": {
     "slide_type": "fragment"
    }
   },
   "source": [
    "- **3 graders**: Angela Li, In Lorthongpanich, and Jingrui Zhuang."
   ]
  },
  {
   "cell_type": "markdown",
   "id": "fcb1391b",
   "metadata": {
    "deletable": true,
    "editable": true,
    "slideshow": {
     "slide_type": "fragment"
    }
   },
   "source": [
    "- Learn more about them at [practicaldsc.org/staff](https://practicaldsc.org/staff)."
   ]
  },
  {
   "cell_type": "markdown",
   "id": "64c8e075",
   "metadata": {
    "deletable": true,
    "editable": true,
    "slideshow": {
     "slide_type": "fragment"
    }
   },
   "source": [
    "- **After class today**, come say hi to me and some of the staff! We'll be in the BBB Atrium from 4:30-5:30PM (with donuts 🍩)."
   ]
  },
  {
   "cell_type": "markdown",
   "id": "004a0a18",
   "metadata": {
    "deletable": true,
    "editable": true,
    "slideshow": {
     "slide_type": "slide"
    }
   },
   "source": [
    "### Please ask questions in lecture!\n",
    "\n",
    "- You're always free to ask questions during lecture, and I'll try and stop for them frequently. But still, you may not feel like asking your question out loud.\n",
    "\n",
    "- You can **type your questions anonymously** at the following link and I'll try and answer them.\n",
    "\n",
    "<div class=\"alert alert-warning\" align=center>\n",
    "    <h3><a style=\"text-decoration: none; color: #0066cc\" href=\"https://docs.google.com/forms/d/e/1FAIpQLSd4oliiZYeNh76jWy-arfEtoAkCrVSsobZxPwxifWggo3EO0Q/viewform\">practicaldsc.org/q</a></h3>\n",
    "    <small>bookmark me!</small>\n",
    "</div>\n",
    "\n",
    "- You'll also use this form to answer questions that I ask you during lecture.\n",
    "\n",
    "- You can also click the **Lecture Questions** link in the top-right corner of [practicaldsc.org](https://practicaldsc.org).\n",
    "\n",
    "<center><img src=\"imgs/ask-q.png\" width=50%></center>"
   ]
  },
  {
   "cell_type": "markdown",
   "id": "cfffb67c",
   "metadata": {
    "deletable": true,
    "editable": true,
    "slideshow": {
     "slide_type": "slide"
    }
   },
   "source": [
    "<div class=\"alert alert-warning\">\n",
    "    <h3>Question 🤔 (Answer at <a style=\"text-decoration: none; color: #0066cc\" href=\"https://docs.google.com/forms/d/e/1FAIpQLSd4oliiZYeNh76jWy-arfEtoAkCrVSsobZxPwxifWggo3EO0Q/viewform\">practicaldsc.org/q</a>)</h3>\n",
    "\n",
    "Select the <b><span style=\"color:red\">FALSE</span></b> statement below.\n",
    "\n",
    "- A. I have size 16 feet.<br>\n",
    "- B. I skipped the first grade.<br>\n",
    "- C. I was rejected by Michigan when I applied for undergrad.<br>\n",
    "- D. Soulja Boy (the rapper) used to follow me on Twitter.<br>\n",
    "- E. I was an undergrad student during COVID.<br>\n",
    "    \n",
    "</div>"
   ]
  },
  {
   "cell_type": "markdown",
   "id": "981e16f0",
   "metadata": {
    "deletable": true,
    "editable": true,
    "slideshow": {
     "slide_type": "slide"
    }
   },
   "source": [
    "### Agenda 📆\n",
    "\n",
    "- What is data science?\n",
    "- Course logistics.\n",
    "- Jupyter Notebooks.\n",
    "- Example: Trends in baby names 👶."
   ]
  },
  {
   "cell_type": "markdown",
   "id": "ef9e829f",
   "metadata": {
    "deletable": true,
    "editable": true,
    "slideshow": {
     "slide_type": "slide"
    }
   },
   "source": [
    "## What is data science?\n",
    "\n",
    "---"
   ]
  },
  {
   "cell_type": "markdown",
   "id": "467d98e8",
   "metadata": {
    "deletable": true,
    "editable": true,
    "slideshow": {
     "slide_type": "slide"
    }
   },
   "source": [
    "### What is data science?"
   ]
  },
  {
   "cell_type": "markdown",
   "id": "62bb6a5b",
   "metadata": {
    "deletable": true,
    "editable": true,
    "slideshow": {
     "slide_type": "fragment"
    }
   },
   "source": [
    "- Whatever it is, it seems to be at the **intersection** of lots of different fields.\n",
    "\n",
    "<center><img src='imgs/what-is-data-science.png' width=60%></center>"
   ]
  },
  {
   "cell_type": "markdown",
   "id": "3a562258",
   "metadata": {
    "deletable": true,
    "editable": true,
    "slideshow": {
     "slide_type": "fragment"
    }
   },
   "source": [
    "- It sounds like a hot, new term, but many of the core ideas in data science are hundreds of years old!<br><small>Linear regression, for example, was developed in the early 1800s.</small>"
   ]
  },
  {
   "cell_type": "markdown",
   "id": "2e53ecaf",
   "metadata": {
    "deletable": true,
    "editable": true,
    "slideshow": {
     "slide_type": "slide"
    }
   },
   "source": [
    "### Historical origins"
   ]
  },
  {
   "cell_type": "markdown",
   "id": "f1f857ca",
   "metadata": {
    "deletable": true,
    "editable": true,
    "slideshow": {
     "slide_type": "fragment"
    }
   },
   "source": [
    "- 1974: Peter Naur says data science is \"The science of dealing with data, once they have been established, while the relation of the data to what they represent is delegated to other fields and sciences.\""
   ]
  },
  {
   "cell_type": "markdown",
   "id": "b938d1f0",
   "metadata": {
    "deletable": true,
    "editable": true,
    "slideshow": {
     "slide_type": "fragment"
    }
   },
   "source": [
    "- 1997: C.F. Jeff Wu, a **statistics and IOE professor at** <b><span style=\"background-color: #FFCB05; color: #00274C\">Michigan</span></b>, says statistics should be renamed data science and statisticians should be renamed data scientists."
   ]
  },
  {
   "cell_type": "markdown",
   "id": "1f66d5b1",
   "metadata": {
    "deletable": true,
    "editable": true,
    "slideshow": {
     "slide_type": "fragment"
    }
   },
   "source": [
    "- 2010: Drew Conway publishes his famous [Data Science Venn Diagram](http://drewconway.com/zia/2013/3/26/the-data-science-venn-diagram).\n",
    "\n",
    "<center><img src=\"imgs/image_0.png\" width=400><small>But there's no agreement on which \"Venn diagram\" is correct – see <a href=\"https://deeplearning.lipingyang.org/wp-content/uploads/2017/10/Battle-of-the-Data-Science-Venn-Diagrams.pdf\">here</a>!</small></center>"
   ]
  },
  {
   "cell_type": "markdown",
   "id": "ba9f465c",
   "metadata": {
    "deletable": true,
    "editable": true,
    "slideshow": {
     "slide_type": "fragment"
    }
   },
   "source": [
    "- 2015: The US appoints D.J. Patil as its first Chief Data Scientist."
   ]
  },
  {
   "cell_type": "markdown",
   "id": "c7a6ee9a",
   "metadata": {
    "deletable": true,
    "editable": true,
    "slideshow": {
     "slide_type": "slide"
    }
   },
   "source": [
    "### What is data science?"
   ]
  },
  {
   "cell_type": "markdown",
   "id": "08b61332",
   "metadata": {
    "deletable": true,
    "editable": true,
    "slideshow": {
     "slide_type": "fragment"
    }
   },
   "source": [
    "- Data science is such a new field that there's no one agreed upon definition of what it is.<br><small>Different universities take different stances, too – some universities have dedicated data science departments, some don't.</small>"
   ]
  },
  {
   "cell_type": "markdown",
   "id": "f24cc99f",
   "metadata": {
    "deletable": true,
    "editable": true,
    "slideshow": {
     "slide_type": "fragment"
    }
   },
   "source": [
    "- My definition: the job of a data scientist is to **ask and answer questions using data**."
   ]
  },
  {
   "cell_type": "markdown",
   "id": "26d3e5cc",
   "metadata": {
    "deletable": true,
    "editable": true,
    "slideshow": {
     "slide_type": "fragment"
    }
   },
   "source": [
    "- This may sound simple, but **asking the right questions** can be hard, and answers can often be **ambiguous**. This uncertainty is what makes data science challenging!"
   ]
  },
  {
   "cell_type": "markdown",
   "id": "a5e1dd41",
   "metadata": {
    "deletable": true,
    "editable": true,
    "slideshow": {
     "slide_type": "slide"
    }
   },
   "source": [
    "### Practice _and theory_"
   ]
  },
  {
   "cell_type": "markdown",
   "id": "b86976f1",
   "metadata": {
    "deletable": true,
    "editable": true,
    "slideshow": {
     "slide_type": "fragment"
    }
   },
   "source": [
    "- In this course, you'll get a taste of the tools that data scientists in industry use every day.<br><small>Python, `pandas`, `numpy`, `sklearn`, etc.</small>"
   ]
  },
  {
   "cell_type": "markdown",
   "id": "0706f67e",
   "metadata": {
    "deletable": true,
    "editable": true,
    "slideshow": {
     "slide_type": "fragment"
    }
   },
   "source": [
    "- But, expect the course to be math heavy after the first six weeks.\n",
    "\n",
    "<center><img src=\"imgs/math-ex.png\" width=700><small>Lecture slide from last semester.</small></center>"
   ]
  },
  {
   "cell_type": "markdown",
   "id": "d6a8a4cd",
   "metadata": {
    "deletable": true,
    "editable": true,
    "slideshow": {
     "slide_type": "slide"
    }
   },
   "source": [
    "In this course, you'll end up building models that predict house prices:\n",
    "```python\n",
    "            >>> pipe_cv.predict(pd.DataFrame([{\n",
    "                'Gr Liv Area': 2500,\n",
    "                'Total Bsmt SF': 1500,\n",
    "                'Neighborhood': 'CollgCr'\n",
    "            }]))\n",
    "            array([304362.63752408])\n",
    "```"
   ]
  },
  {
   "cell_type": "markdown",
   "id": "b9269510",
   "metadata": {
    "deletable": true,
    "editable": true,
    "slideshow": {
     "slide_type": "slide"
    }
   },
   "source": [
    "And whether patients have diabetes:\n",
    "\n",
    "<center><img src=\"imgs/decision-boundary.png\" width=1000></center>"
   ]
  },
  {
   "cell_type": "markdown",
   "id": "b68fa48a",
   "metadata": {
    "deletable": true,
    "editable": true,
    "slideshow": {
     "slide_type": "slide"
    }
   },
   "source": [
    "And whether a digit is a 0, 1, 2, 3, ..., or 9:\n",
    "\n",
    "<center><img src=\"imgs/mnist.png\" width=1200></center>"
   ]
  },
  {
   "cell_type": "markdown",
   "id": "7384e272",
   "metadata": {
    "deletable": true,
    "editable": true,
    "slideshow": {
     "slide_type": "slide"
    }
   },
   "source": [
    "<center><big>You need to understand <b>how</b> these models work,<br>so that you know how to choose the right model for the job<br>and understand how they may fail.<br><br></big></center>"
   ]
  },
  {
   "cell_type": "markdown",
   "id": "17f890a3",
   "metadata": {
    "deletable": true,
    "editable": true,
    "slideshow": {
     "slide_type": "fragment"
    }
   },
   "source": [
    "<center><big>It would be irresponsible of us to <i>not</i> show you the math under the hood!</big><br>Tools like ChatGPT are just tools. <b>They don’t do any of the important thinking – that's where you come in!</b></center>"
   ]
  },
  {
   "cell_type": "markdown",
   "id": "772d3efd",
   "metadata": {
    "deletable": true,
    "editable": true,
    "slideshow": {
     "slide_type": "slide"
    }
   },
   "source": [
    "### Data science involves _people_ 🧍"
   ]
  },
  {
   "cell_type": "markdown",
   "id": "0f79dad7",
   "metadata": {
    "deletable": true,
    "editable": true,
    "slideshow": {
     "slide_type": "fragment"
    }
   },
   "source": [
    "- The decisions that we make as data scientists have the potential to impact the livelihoods of other people."
   ]
  },
  {
   "cell_type": "markdown",
   "id": "6ff0aec6",
   "metadata": {
    "deletable": true,
    "editable": true,
    "slideshow": {
     "slide_type": "fragment"
    }
   },
   "source": [
    "- Example: Admissions and hiring."
   ]
  },
  {
   "cell_type": "markdown",
   "id": "de034f7d",
   "metadata": {
    "deletable": true,
    "editable": true,
    "slideshow": {
     "slide_type": "fragment"
    }
   },
   "source": [
    "- Example: Hyper-personalized ad recommendations."
   ]
  },
  {
   "cell_type": "markdown",
   "id": "471ee348",
   "metadata": {
    "deletable": true,
    "editable": true,
    "slideshow": {
     "slide_type": "fragment"
    }
   },
   "source": [
    "- Example: Flu case forecasting."
   ]
  },
  {
   "cell_type": "markdown",
   "id": "47470f28",
   "metadata": {
    "deletable": true,
    "editable": true,
    "slideshow": {
     "slide_type": "fragment"
    }
   },
   "source": [
    "- The decisions you make as a data scientist go beyond the scope of your own computer!"
   ]
  },
  {
   "cell_type": "markdown",
   "id": "36be507d",
   "metadata": {
    "deletable": true,
    "editable": true,
    "slideshow": {
     "slide_type": "slide"
    }
   },
   "source": [
    "### Goals"
   ]
  },
  {
   "cell_type": "markdown",
   "id": "bcfdb2f6",
   "metadata": {
    "deletable": true,
    "editable": true,
    "slideshow": {
     "slide_type": "fragment"
    }
   },
   "source": [
    "- **After this course, you'll be able to start with raw data and come up with accurate, meaningful insights that you can share with others.**"
   ]
  },
  {
   "cell_type": "markdown",
   "id": "15b037fa",
   "metadata": {
    "deletable": true,
    "editable": true,
    "slideshow": {
     "slide_type": "fragment"
    }
   },
   "source": [
    "- You'll learn how to use industry-standard data manipulation tools.\n",
    "<br><small>And you'll need to rely on documentation, like a real data scientist!</small>"
   ]
  },
  {
   "cell_type": "markdown",
   "id": "2bb44315",
   "metadata": {
    "deletable": true,
    "editable": true,
    "slideshow": {
     "slide_type": "fragment"
    }
   },
   "source": [
    "- You'll also understand the inner workings of complicated machine learning models."
   ]
  },
  {
   "cell_type": "markdown",
   "id": "5393a406",
   "metadata": {
    "deletable": true,
    "editable": true,
    "slideshow": {
     "slide_type": "fragment"
    }
   },
   "source": [
    "- At the end of it all, you'll:\n",
    "    - Be prepared for internships and data science \"take home\" interviews.\n",
    "    - Be ready to create your own portfolio of personal projects.\n",
    "    - Have the background and maturity to succeed in more advanced data science-adjacent (databases, machine learning, etc.) courses."
   ]
  },
  {
   "cell_type": "markdown",
   "id": "cdba574e",
   "metadata": {
    "deletable": true,
    "editable": true,
    "slideshow": {
     "slide_type": "slide"
    }
   },
   "source": [
    "### Prerequisites"
   ]
  },
  {
   "cell_type": "markdown",
   "id": "54c7e2bd",
   "metadata": {
    "deletable": true,
    "editable": true,
    "slideshow": {
     "slide_type": "fragment"
    }
   },
   "source": [
    "- The official prerequisites are programming (EECS 280), discrete math (EECS 203), calculus I and II, and linear algebra. An introductory statistics class is an advisory prerequisite."
   ]
  },
  {
   "cell_type": "markdown",
   "id": "c86e8f7a",
   "metadata": {
    "deletable": true,
    "editable": true,
    "slideshow": {
     "slide_type": "fragment"
    }
   },
   "source": [
    "- We will assume everyone has programmed before, seen some probability before, and is fluent with the basics of calculus."
   ]
  },
  {
   "cell_type": "markdown",
   "id": "3f5f00dc",
   "metadata": {
    "deletable": true,
    "editable": true,
    "slideshow": {
     "slide_type": "fragment"
    }
   },
   "source": [
    "- If you haven't seen linear algebra before, we'll provide you review resources to get up to speed, but expect to do some self-studying."
   ]
  },
  {
   "cell_type": "markdown",
   "id": "8a6c8a90",
   "metadata": {
    "deletable": true,
    "editable": true,
    "slideshow": {
     "slide_type": "fragment"
    }
   },
   "source": [
    "- **We're here to help!**"
   ]
  },
  {
   "cell_type": "markdown",
   "id": "6980fe16",
   "metadata": {
    "deletable": true,
    "editable": true,
    "slideshow": {
     "slide_type": "slide"
    }
   },
   "source": [
    "## Course logistics\n",
    "\n",
    "---"
   ]
  },
  {
   "cell_type": "markdown",
   "id": "a64db7db",
   "metadata": {
    "deletable": true,
    "editable": true,
    "slideshow": {
     "slide_type": "slide"
    },
    "tags": []
   },
   "source": [
    "### Course website"
   ]
  },
  {
   "cell_type": "markdown",
   "id": "24ad232a",
   "metadata": {
    "deletable": true,
    "editable": true,
    "slideshow": {
     "slide_type": "fragment"
    }
   },
   "source": [
    "- The course website is your one-stop-shop for all things related to the course.\n",
    "\n",
    "<br>\n",
    "\n",
    "<center><h3><a href=\"https://practicaldsc.org\">practicaldsc.org</a></h3></center>\n",
    "\n",
    "<br>"
   ]
  },
  {
   "cell_type": "markdown",
   "id": "ba03e662",
   "metadata": {
    "deletable": true,
    "editable": true,
    "slideshow": {
     "slide_type": "fragment"
    }
   },
   "source": [
    "- Make sure to **read the [syllabus](https://practicaldsc.org/syllabus)**!"
   ]
  },
  {
   "cell_type": "markdown",
   "id": "c4382da8",
   "metadata": {
    "deletable": true,
    "editable": true,
    "slideshow": {
     "slide_type": "slide"
    }
   },
   "source": [
    "### Getting set up\n",
    "\n",
    "- **Ed**: Q&A forum. Must be active here, since this is where all announcements will be made.\n",
    "- **Gradescope**: Where you will submit all assignments for autograding, and where all of your grades will live.\n",
    "- **Canvas**: No ❌.\n",
    "- In addition, you must fill out our [**Welcome Survey**](https://docs.google.com/forms/d/e/1FAIpQLSfwn5kPDKgrHlyypVlp0hl2WyTVifBnQ1OO_g9U56FlrFE6aQ/viewform) by **Wednesday, January 15th** to tell us more about yourself and whether you need an alternate exam."
   ]
  },
  {
   "cell_type": "markdown",
   "id": "a9080a86",
   "metadata": {
    "deletable": true,
    "editable": true,
    "slideshow": {
     "slide_type": "slide"
    }
   },
   "source": [
    "### Accessing course content on GitHub"
   ]
  },
  {
   "cell_type": "markdown",
   "id": "363716c9",
   "metadata": {
    "deletable": true,
    "editable": true,
    "slideshow": {
     "slide_type": "fragment"
    }
   },
   "source": [
    "- You will access all course content by pulling the course GitHub repository:\n",
    "\n",
    "<br>\n",
    "<center>\n",
    "<b><a href=\"https://github.com/practicaldsc/wn25\">github.com/practicaldsc/wn25</a></b>\n",
    "</center>\n",
    "<br>"
   ]
  },
  {
   "cell_type": "markdown",
   "id": "f89b7764",
   "metadata": {
    "deletable": true,
    "editable": true,
    "slideshow": {
     "slide_type": "fragment"
    }
   },
   "source": [
    "- We will post HTML versions of lecture notebooks on the course website, but otherwise you must `git pull` from this repository to access all course materials (including blank copies of assignments)."
   ]
  },
  {
   "cell_type": "markdown",
   "id": "499754ef",
   "metadata": {
    "deletable": true,
    "editable": true,
    "slideshow": {
     "slide_type": "slide"
    }
   },
   "source": [
    "### Environment setup\n",
    "\n",
    "- You're required to set up a Python environment on your own computer.\n",
    "- **To do so, follow the instructions on the [Environment Setup](https://practicaldsc.org/env-setup) page of the course website ASAP**.<br><small>It contains a walkthrough video, too.</small>\n",
    "- Once you set up your environment, you will `git pull` the course repo every time a new assignment comes out.\n",
    "- **Note**: You will submit your work to Gradescope directly, without using Git.\n",
    "- We'll help you with this in Discussion 1 tomorrow if you get stuck."
   ]
  },
  {
   "cell_type": "markdown",
   "id": "4b5350fa",
   "metadata": {
    "deletable": true,
    "editable": true,
    "slideshow": {
     "slide_type": "slide"
    }
   },
   "source": [
    "### Lectures"
   ]
  },
  {
   "cell_type": "markdown",
   "id": "eaad675e",
   "metadata": {
    "deletable": true,
    "editable": true,
    "slideshow": {
     "slide_type": "fragment"
    }
   },
   "source": [
    "- Lectures are held in-person on **Mondays and Wednesdays from 3-4:30PM in 1670 BBB**."
   ]
  },
  {
   "cell_type": "markdown",
   "id": "e224e5bb",
   "metadata": {
    "deletable": true,
    "editable": true,
    "slideshow": {
     "slide_type": "fragment"
    }
   },
   "source": [
    "- Attendance is not required, but is encouraged, regardless of your enrolled section. <br>Lectures are recorded."
   ]
  },
  {
   "cell_type": "markdown",
   "id": "95be3839",
   "metadata": {
    "deletable": true,
    "editable": true,
    "slideshow": {
     "slide_type": "fragment"
    }
   },
   "source": [
    "- Lecture notebooks will be posted on the course website ahead of time, both in the form of runnable code (in our GitHub repo) and as static HTML files, which you can annotate on your tablet if you'd like.<br>\n",
    "<small>What's a notebook? You'll find out soon!</small>"
   ]
  },
  {
   "cell_type": "markdown",
   "id": "d44b52e4",
   "metadata": {
    "deletable": true,
    "editable": true,
    "slideshow": {
     "slide_type": "fragment"
    }
   },
   "source": [
    "- If you want to get a preview of what's next, you can look at last semester's lectures at [practicaldsc.org/fa24](https://practicaldsc.org/fa24), but they'll all change at least a little bit (and some will change substantially)."
   ]
  },
  {
   "cell_type": "markdown",
   "id": "ebc2a59d",
   "metadata": {
    "deletable": true,
    "editable": true,
    "slideshow": {
     "slide_type": "slide"
    }
   },
   "source": [
    "### Lecture resources"
   ]
  },
  {
   "cell_type": "markdown",
   "id": "9f2b6682",
   "metadata": {
    "deletable": true,
    "editable": true,
    "slideshow": {
     "slide_type": "fragment"
    }
   },
   "source": [
    "- Your main resource will be lecture notebooks."
   ]
  },
  {
   "cell_type": "markdown",
   "id": "67764f34",
   "metadata": {
    "deletable": true,
    "editable": true,
    "slideshow": {
     "slide_type": "fragment"
    }
   },
   "source": [
    "- To accompany some lecture topics, we will post \"Guides\" on the course website that you're expected to read."
   ]
  },
  {
   "cell_type": "markdown",
   "id": "f3b5d1a2",
   "metadata": {
    "deletable": true,
    "editable": true,
    "slideshow": {
     "slide_type": "fragment"
    }
   },
   "source": [
    "- Many lectures will also have supplemental readings, taken from various sources online.<br><small>Most of these are already listed on the homepage of the course website. Check out the [Resources](https://practicaldsc.org/resources/) page for more.</small> "
   ]
  },
  {
   "cell_type": "markdown",
   "id": "11c943f9",
   "metadata": {
    "deletable": true,
    "editable": true,
    "slideshow": {
     "slide_type": "fragment"
    }
   },
   "source": [
    "- You'll never be tested on something that appears in a supplemental reading but not in lecture/guide/homework/discussion, but supplemental readings are still highly recommended!\n",
    "<br><small>Find an online resource that's useful? Send it to us and we'll link it on the website!</small>"
   ]
  },
  {
   "cell_type": "markdown",
   "id": "82694bfe",
   "metadata": {
    "deletable": true,
    "editable": true,
    "slideshow": {
     "slide_type": "slide"
    }
   },
   "source": [
    "### Discussions"
   ]
  },
  {
   "cell_type": "markdown",
   "id": "b143b5e1",
   "metadata": {
    "deletable": true,
    "editable": true,
    "slideshow": {
     "slide_type": "fragment"
    }
   },
   "source": [
    "- There are four discussion sections, all on Thursdays. Discussions will **not** be recorded."
   ]
  },
  {
   "cell_type": "markdown",
   "id": "98b5712a",
   "metadata": {
    "deletable": true,
    "editable": true,
    "slideshow": {
     "slide_type": "fragment"
    }
   },
   "source": [
    "- **Attendance will be taken, and can _optionally_ count towards your grade!** See the [Syllabus](https://practicaldsc.org/syllabus/#discussions) for details."
   ]
  },
  {
   "cell_type": "markdown",
   "id": "d6734e13",
   "metadata": {
    "deletable": true,
    "editable": true,
    "slideshow": {
     "slide_type": "fragment"
    }
   },
   "source": [
    "- You can attend any discussion section, but if space fills up, priority will be given to students officially enrolled in that section."
   ]
  },
  {
   "cell_type": "markdown",
   "id": "2bf09364",
   "metadata": {
    "deletable": true,
    "editable": true,
    "slideshow": {
     "slide_type": "fragment"
    }
   },
   "source": [
    "- In Discussion 1, we'll make sure your programming environment is set up correctly and familiarize you with Python and Jupyter Notebooks."
   ]
  },
  {
   "cell_type": "markdown",
   "id": "e4c53416",
   "metadata": {
    "deletable": true,
    "editable": true,
    "slideshow": {
     "slide_type": "fragment"
    }
   },
   "source": [
    "- In subsequent discussions, we'll provide a review of relevant lecture content and have you work on theoretical problems in groups. Worksheets will be posted at the **Study Site**, [study.practicaldsc.org](https://study.practicaldsc.org)."
   ]
  },
  {
   "cell_type": "markdown",
   "id": "41e50394",
   "metadata": {
    "deletable": true,
    "editable": true,
    "slideshow": {
     "slide_type": "slide"
    }
   },
   "source": [
    "### Homeworks"
   ]
  },
  {
   "cell_type": "markdown",
   "id": "f20a8d14",
   "metadata": {
    "deletable": true,
    "editable": true,
    "slideshow": {
     "slide_type": "fragment"
    }
   },
   "source": [
    "- There will be **11 homework assignments** due weekly throughout the semester, to be completed **individually**.\n",
    "<br><small>Each one is shorter than an EECS 280/281 project, but there are more of them – so expect a constant, moderate workload.</small>"
   ]
  },
  {
   "cell_type": "markdown",
   "id": "5abb7b13",
   "metadata": {
    "deletable": true,
    "editable": true,
    "slideshow": {
     "slide_type": "fragment"
    }
   },
   "source": [
    "- Homework assignments will involve a combination of writing Python code in Jupyter Notebooks and doing some pen-and-paper math.<br><small>The [Example Homework](https://github.com/practicaldsc/wn25/blob/main/homeworks/example-hw/example-hw.ipynb), already in the GitHub repository, shows the typical format of a homework assignment.</small>"
   ]
  },
  {
   "cell_type": "markdown",
   "id": "bb99bd50",
   "metadata": {
    "deletable": true,
    "editable": true,
    "slideshow": {
     "slide_type": "fragment"
    }
   },
   "source": [
    "- Homeworks will come with public test cases that you can run locally, but ultimately your code will be graded using **hidden test cases on Gradescope**."
   ]
  },
  {
   "cell_type": "markdown",
   "id": "23808cb9",
   "metadata": {
    "deletable": true,
    "editable": true,
    "slideshow": {
     "slide_type": "fragment"
    }
   },
   "source": [
    "- Homeworks are usually due on Tuesdays at 11:59PM. Your lowest 2 scores are dropped, and you have 8 slip days to use throughout the semester (max 2 per homework)."
   ]
  },
  {
   "cell_type": "markdown",
   "id": "0154ac14",
   "metadata": {
    "deletable": true,
    "editable": true,
    "slideshow": {
     "slide_type": "fragment"
    }
   },
   "source": [
    "- Homework 1 will be released tomorrow and is due on **Friday, January 17th at 11:59PM**."
   ]
  },
  {
   "cell_type": "markdown",
   "id": "1fdeac0c",
   "metadata": {
    "deletable": true,
    "editable": true,
    "slideshow": {
     "slide_type": "slide"
    }
   },
   "source": [
    "### Final Project"
   ]
  },
  {
   "cell_type": "markdown",
   "id": "44f823fc",
   "metadata": {
    "deletable": true,
    "editable": true,
    "slideshow": {
     "slide_type": "fragment"
    }
   },
   "source": [
    "- In the Final Project, you’ll work on an open-ended investigation of a dataset of your choosing from a fixed set of options, using the tools from throughout the semester."
   ]
  },
  {
   "cell_type": "markdown",
   "id": "55621a97",
   "metadata": {
    "deletable": true,
    "editable": true,
    "slideshow": {
     "slide_type": "fragment"
    }
   },
   "source": [
    "- Your work will culminate in a public-facing website that you can share with friends, family, and on your resume. "
   ]
  },
  {
   "cell_type": "markdown",
   "id": "71bc14af",
   "metadata": {
    "deletable": true,
    "editable": true,
    "slideshow": {
     "slide_type": "fragment"
    }
   },
   "source": [
    "- See last semester's submissions [here](https://practicaldsc.org/showcase)."
   ]
  },
  {
   "cell_type": "markdown",
   "id": "f9ce669c",
   "metadata": {
    "deletable": true,
    "editable": true,
    "slideshow": {
     "slide_type": "fragment"
    }
   },
   "source": [
    "- Unlike with homeworks, you can work with a partner and there is a checkpoint. More details to come."
   ]
  },
  {
   "cell_type": "markdown",
   "id": "b4beef77",
   "metadata": {
    "deletable": true,
    "editable": true,
    "slideshow": {
     "slide_type": "slide"
    }
   },
   "source": [
    "### Exams"
   ]
  },
  {
   "cell_type": "markdown",
   "id": "ab8ff55e",
   "metadata": {
    "deletable": true,
    "editable": true,
    "slideshow": {
     "slide_type": "fragment"
    }
   },
   "source": [
    "- There are two **in-person, on-paper** exams, designed to:\n",
    "    - assess your understanding of the more theoretical concepts in the class, and\n",
    "    - make sure that you can write code independently."
   ]
  },
  {
   "cell_type": "markdown",
   "id": "e738945c",
   "metadata": {
    "deletable": true,
    "editable": true,
    "slideshow": {
     "slide_type": "fragment"
    }
   },
   "source": [
    "- **Midterm Exam (25%)**: Tuesday, February 25th, 7-9PM."
   ]
  },
  {
   "cell_type": "markdown",
   "id": "b270f940",
   "metadata": {
    "deletable": true,
    "editable": true,
    "slideshow": {
     "slide_type": "fragment"
    }
   },
   "source": [
    "- **Final Exam (25%)**: Monday, April 28th, 10:30AM-12:30PM."
   ]
  },
  {
   "cell_type": "markdown",
   "id": "29b652a1",
   "metadata": {
    "deletable": true,
    "editable": true,
    "slideshow": {
     "slide_type": "fragment"
    }
   },
   "source": [
    "- Let us know on the [Welcome Survey](https://docs.google.com/forms/d/e/1FAIpQLSfwn5kPDKgrHlyypVlp0hl2WyTVifBnQ1OO_g9U56FlrFE6aQ/viewform) if you have a conflict."
   ]
  },
  {
   "cell_type": "markdown",
   "id": "291a8c69",
   "metadata": {
    "deletable": true,
    "editable": true,
    "slideshow": {
     "slide_type": "fragment"
    }
   },
   "source": [
    "- The Study Site, [study.practicaldsc.org](https://study.practicaldsc.org), contains last semester's exams, and will be updated each week to contain dozens of old exam questions (from UCSD) per topic."
   ]
  },
  {
   "cell_type": "markdown",
   "id": "67c5f6f1",
   "metadata": {
    "deletable": true,
    "editable": true,
    "slideshow": {
     "slide_type": "slide"
    }
   },
   "source": [
    "### A typical week\n",
    "\n",
    "| Monday | Tuesday | Wednesday | Thursday | Friday     |\n",
    "| ------ | ------- | --------- | -------- | ---------- |\n",
    "|  Lecture    |  |   Lecture        | Discussion  |   |\n",
    "| | <span style='color:red'><b>Homework N - 1<br>due 11:59PM</b></span> | <span style='color:red'><b>Homework N<br>released</b></span> | | |\n"
   ]
  },
  {
   "cell_type": "markdown",
   "id": "1dafca22",
   "metadata": {
    "deletable": true,
    "editable": true,
    "slideshow": {
     "slide_type": "slide"
    }
   },
   "source": [
    "### Support 🫂"
   ]
  },
  {
   "cell_type": "markdown",
   "id": "21d3b0ae",
   "metadata": {
    "deletable": true,
    "editable": true,
    "slideshow": {
     "slide_type": "fragment"
    }
   },
   "source": [
    "- We have several **office hours** in person each week. These are mostly in-person on North Campus, but some are on Central Campus and some are remote. See the [Calendar](https://practicaldsc.org/calendar/) on the course website for details.\n",
    "<br><small>Come say hi, and come to sit and work on homeworks, even if you don't have any questions!</small>"
   ]
  },
  {
   "cell_type": "markdown",
   "id": "c14bf63f",
   "metadata": {
    "deletable": true,
    "editable": true,
    "slideshow": {
     "slide_type": "fragment"
    }
   },
   "source": [
    "- **Ed** is your friend too. Make your conceptual questions public, and make your debugging questions private."
   ]
  },
  {
   "cell_type": "markdown",
   "id": "7262ffa6",
   "metadata": {
    "deletable": true,
    "editable": true,
    "slideshow": {
     "slide_type": "fragment"
    }
   },
   "source": [
    "- **We're here to help!**"
   ]
  },
  {
   "cell_type": "markdown",
   "id": "74a7ea63",
   "metadata": {
    "deletable": true,
    "editable": true,
    "slideshow": {
     "slide_type": "slide"
    }
   },
   "source": [
    "### Workload ⚠️"
   ]
  },
  {
   "cell_type": "markdown",
   "id": "e6d37df1",
   "metadata": {
    "deletable": true,
    "editable": true,
    "slideshow": {
     "slide_type": "fragment"
    }
   },
   "source": [
    "- According to students last semester, the course is a moderate amount of work.\n",
    "\n",
    "<center><img src=\"imgs/workload.png\" width=700></center>"
   ]
  },
  {
   "cell_type": "markdown",
   "id": "011d5b52",
   "metadata": {
    "deletable": true,
    "editable": true,
    "slideshow": {
     "slide_type": "fragment"
    }
   },
   "source": [
    "- To succeed, you'll need to learn to solve problems **independently**.<br>Documentation and the internet will be your friends.<br><small>I'm not going to tell you about every single Python feature in class!</small>"
   ]
  },
  {
   "cell_type": "markdown",
   "id": "b723e5c4",
   "metadata": {
    "deletable": true,
    "editable": true,
    "slideshow": {
     "slide_type": "slide"
    }
   },
   "source": [
    "### Advice from last semester's students"
   ]
  },
  {
   "cell_type": "markdown",
   "id": "e8aeb33c",
   "metadata": {
    "deletable": true,
    "editable": true,
    "slideshow": {
     "slide_type": "-"
    }
   },
   "source": [
    "> Practice really helps! I think most of the concepts are really easy to understand, but its the details that are hard to remember. As a data scientist, in practice you wouldn't want to look up every little thing, so practice will help in memorizing the \"language\" of this class and the concepts as well.\n",
    "\n",
    "> Stay consistent (boring, but still important). Buckle in because it covers a wide range of material. The second half is very different from the first half and transitions into a different kind of class.\n",
    "\n",
    "> Go to lecture and office hours. and even if you feel behind, go to discussion section\n",
    "\n",
    "> Spend the time on the homeworks. Early on, if I ever felt a little challenged or couldn't debug I would just ask GPT, which was a bad practice and something I felt directly contributed to my low midterm score. This new approach did mean I had to use late days on two occasions to finish the homework, but I overall felt a lot more accomplished and happy with my progress. In addition, just spending more time on the earlier concepts like pandas and DataFrames because those are crucial for industry as well as the second half of the class.\n"
   ]
  },
  {
   "cell_type": "markdown",
   "id": "9395edfc",
   "metadata": {
    "deletable": true,
    "editable": true,
    "slideshow": {
     "slide_type": "slide"
    }
   },
   "source": [
    "### Collaboration, Academic Integrity, and Generative AI"
   ]
  },
  {
   "cell_type": "markdown",
   "id": "834582f2",
   "metadata": {
    "deletable": true,
    "editable": true,
    "slideshow": {
     "slide_type": "fragment"
    }
   },
   "source": [
    "- **Make sure to read the [Syllabus section on Collaboration and Academic Integrity](https://practicaldsc.org/syllabus#collaboration-and-academic-integrity).**"
   ]
  },
  {
   "cell_type": "markdown",
   "id": "a8b42ebb",
   "metadata": {
    "deletable": true,
    "editable": true,
    "slideshow": {
     "slide_type": "fragment"
    }
   },
   "source": [
    "- All homeworks are individual. Please discuss ideas and concepts with others, but no sharing code or posting code anywhere – collaboration must not result in solutions that are identifiably similar to other solutions, past or present.<br><small>As mentioned before, you can work with a partner on the Final Project.</small>"
   ]
  },
  {
   "cell_type": "markdown",
   "id": "54ad39a4",
   "metadata": {
    "deletable": true,
    "editable": true,
    "slideshow": {
     "slide_type": "fragment"
    }
   },
   "source": [
    "- We trust that you're here to learn and do the work for yourself."
   ]
  },
  {
   "cell_type": "markdown",
   "id": "8b881cb8",
   "metadata": {
    "deletable": true,
    "editable": true,
    "slideshow": {
     "slide_type": "fragment"
    }
   },
   "source": [
    "- We know that tools, like ChatGPT and GitHub Copilot, can write code for you. Feel free to use such tools _wisely_."
   ]
  },
  {
   "cell_type": "markdown",
   "id": "d960c124",
   "metadata": {
    "deletable": true,
    "editable": true,
    "slideshow": {
     "slide_type": "fragment"
    }
   },
   "source": [
    "- You won't be able to use ChatGPT on the exams, which are in-person, on paper, and worth 50% of your grade, so make sure you **understand** how your code actually works."
   ]
  },
  {
   "cell_type": "markdown",
   "id": "96ae6e77",
   "metadata": {
    "deletable": true,
    "editable": true,
    "slideshow": {
     "slide_type": "slide"
    }
   },
   "source": [
    "### Data Science is the people's science"
   ]
  },
  {
   "cell_type": "markdown",
   "id": "0c561586",
   "metadata": {
    "deletable": true,
    "editable": true,
    "slideshow": {
     "slide_type": "fragment"
    }
   },
   "source": [
    "- We know students have enrolled in this course from a wide variety of backgrounds, and we're committed to helping everyone succeed."
   ]
  },
  {
   "cell_type": "code",
   "execution_count": null,
   "id": "5d196bbb",
   "metadata": {
    "deletable": true,
    "editable": true
   },
   "outputs": [],
   "source": [
    "YouTubeVideo('YMnqPTLoj7o')"
   ]
  },
  {
   "cell_type": "markdown",
   "id": "2173d75f",
   "metadata": {
    "deletable": true,
    "editable": true,
    "slideshow": {
     "slide_type": "fragment"
    }
   },
   "source": [
    "- If you're ever feeling unsure about your performance in this class or whether data science is \"right\" for you, email me and we'll chat!"
   ]
  },
  {
   "cell_type": "markdown",
   "id": "a4fc48e4",
   "metadata": {
    "deletable": true,
    "editable": true,
    "slideshow": {
     "slide_type": "slide"
    }
   },
   "source": [
    "<div class=\"alert alert-warning\">\n",
    "    <h3>Question 🤔 (Answer at <a style=\"text-decoration: none; color: #0066cc\" href=\"https://docs.google.com/forms/d/e/1FAIpQLSd4oliiZYeNh76jWy-arfEtoAkCrVSsobZxPwxifWggo3EO0Q/viewform\">practicaldsc.org/q</a>)</h3>\n",
    "    \n",
    "What questions do you have about the syllabus?"
   ]
  },
  {
   "cell_type": "markdown",
   "id": "64e562fe",
   "metadata": {
    "deletable": true,
    "editable": true,
    "slideshow": {
     "slide_type": "slide"
    }
   },
   "source": [
    "## The anatomy of Jupyter Notebooks\n",
    "\n",
    "---\n",
    "\n",
    "Let's start by familiarizing ourselves with our programming environment. You'll need to have followed the [Environment Setup](https://practicaldsc.org/env-setup) steps to follow along."
   ]
  },
  {
   "cell_type": "markdown",
   "id": "24a8be65",
   "metadata": {
    "deletable": true,
    "editable": true,
    "slideshow": {
     "slide_type": "slide"
    }
   },
   "source": [
    "### Jupyter Notebooks 📓"
   ]
  },
  {
   "cell_type": "markdown",
   "id": "cf392d3f",
   "metadata": {
    "deletable": true,
    "editable": true,
    "slideshow": {
     "slide_type": "fragment"
    }
   },
   "source": [
    "- Often, but not in this class, code is written in a text editor and then run in a command-line interface, or both steps are done in an IDE.\n",
    "\n",
    "<center>\n",
    "<img src='imgs/text-editor-terminal.png' width=800>\n",
    "</center>"
   ]
  },
  {
   "cell_type": "markdown",
   "id": "cbc2a370",
   "metadata": {
    "deletable": true,
    "editable": true,
    "slideshow": {
     "slide_type": "fragment"
    }
   },
   "source": [
    "- **Jupyter Notebooks** allow us to write and run code within a single document. They also allow us to embed text and images and look at visualizations.\n",
    "<br><small>Why Jupyter? It stands for **Ju**lia, **Py**thon, and **R**, the three original languages they were designed to support.</small>"
   ]
  },
  {
   "cell_type": "markdown",
   "id": "7a779cc4",
   "metadata": {
    "deletable": true,
    "editable": true,
    "slideshow": {
     "slide_type": "fragment"
    }
   },
   "source": [
    "- `.ipynb` is the extension for Jupyter Notebook files. `.ipynb` files can be opened and run in a few related applications, including JupyterLab, Jupyter Notebook, Jupyter Notebook Classic, and VSCode.\n",
    "<br><small>The [Environment Setup](https://practicaldsc.org/env-setup) page walks you through how to launch each one.<br>Note that these lecture slides are a Jupyter Notebook also, we're just using a package to make them look like a presentation.</small>"
   ]
  },
  {
   "cell_type": "markdown",
   "id": "ff4ee151",
   "metadata": {
    "deletable": true,
    "editable": true,
    "slideshow": {
     "slide_type": "slide"
    }
   },
   "source": [
    "### Cells"
   ]
  },
  {
   "cell_type": "markdown",
   "id": "d16de400",
   "metadata": {
    "deletable": true,
    "editable": true,
    "slideshow": {
     "slide_type": "fragment"
    }
   },
   "source": [
    "- The **cell** is the basic building block of a Jupyter Notebook. There are two main types of cells."
   ]
  },
  {
   "cell_type": "markdown",
   "id": "10abef33",
   "metadata": {
    "deletable": true,
    "editable": true,
    "slideshow": {
     "slide_type": "fragment"
    }
   },
   "source": [
    "- **Code cells** allow you to write and execute code.<br><small>When run, code cells display the value of the last evaluated expression.</small>"
   ]
  },
  {
   "cell_type": "markdown",
   "id": "51d48771",
   "metadata": {
    "deletable": true,
    "editable": true,
    "slideshow": {
     "slide_type": "fragment"
    }
   },
   "source": [
    "- **Markdown cells** allow you to write text and images that aren't Python code.\n",
    "    - Markdown cells are always \"run\", except when you're editing them. \n",
    "    - Double-click this cell and see what happens!\n",
    "    - Read more about Markdown [here](https://www.markdownguide.org/cheat-sheet/)."
   ]
  },
  {
   "cell_type": "markdown",
   "id": "27b0a484",
   "metadata": {
    "deletable": true,
    "editable": true,
    "slideshow": {
     "slide_type": "slide"
    }
   },
   "source": [
    "<center><img src='imgs/mdcell.png' width=90%>A code cell and Markdown cell, before and after being \"run\".</center>"
   ]
  },
  {
   "cell_type": "markdown",
   "id": "4bfee55b",
   "metadata": {
    "deletable": true,
    "editable": true,
    "slideshow": {
     "slide_type": "slide"
    }
   },
   "source": [
    "### Using Python as a calculator"
   ]
  },
  {
   "cell_type": "markdown",
   "id": "346f48bd",
   "metadata": {
    "deletable": true,
    "editable": true,
    "slideshow": {
     "slide_type": "fragment"
    }
   },
   "source": [
    "- To familarize ourselves with the notebook environment, let's run a few code cells involving arithmetic expressions. "
   ]
  },
  {
   "cell_type": "markdown",
   "id": "2a3cb15d",
   "metadata": {
    "deletable": true,
    "editable": true,
    "slideshow": {
     "slide_type": "fragment"
    }
   },
   "source": [
    "- To run a code cell, either:\n",
    "    - **Hit `shift` + `enter` (or `shift` + `return`) on your keyboard (strongly preferred)**, or\n",
    "    - Press the \"▶ Run\" button in the toolbar."
   ]
  },
  {
   "cell_type": "code",
   "execution_count": null,
   "id": "cca9d557",
   "metadata": {
    "deletable": true,
    "editable": true
   },
   "outputs": [],
   "source": [
    "# When you run this cell, the value of the expression appears, but isn't saved anywhere!\n",
    "# These are comments, by the way.\n",
    "..."
   ]
  },
  {
   "cell_type": "code",
   "execution_count": null,
   "id": "6becf3ad",
   "metadata": {
    "deletable": true,
    "editable": true
   },
   "outputs": [],
   "source": [
    "# Integer division.\n",
    "..."
   ]
  },
  {
   "cell_type": "code",
   "execution_count": null,
   "id": "39814f68",
   "metadata": {
    "deletable": true,
    "editable": true,
    "scrolled": true
   },
   "outputs": [],
   "source": [
    "..."
   ]
  },
  {
   "cell_type": "code",
   "execution_count": null,
   "id": "d41cf047",
   "metadata": {
    "deletable": true,
    "editable": true
   },
   "outputs": [],
   "source": [
    "# Why do we only see one line of output?\n",
    "...\n",
    "..."
   ]
  },
  {
   "cell_type": "code",
   "execution_count": null,
   "id": "779538c6",
   "metadata": {
    "deletable": true,
    "editable": true
   },
   "outputs": [],
   "source": [
    "# Strings can be created using single, double, or triple quotes.\n",
    "# There's no difference between a string and a char.\n",
    "..."
   ]
  },
  {
   "cell_type": "code",
   "execution_count": null,
   "id": "a75a8ce1",
   "metadata": {
    "deletable": true,
    "editable": true
   },
   "outputs": [],
   "source": [
    "..."
   ]
  },
  {
   "cell_type": "code",
   "execution_count": null,
   "id": "e91a3b69",
   "metadata": {
    "deletable": true,
    "editable": true
   },
   "outputs": [],
   "source": [
    "# Put ? after the name of a function to see its documentation inline.\n",
    "# All notebook interfaces support tab for autocompletion, too.\n",
    "round?"
   ]
  },
  {
   "cell_type": "markdown",
   "id": "290cd239",
   "metadata": {
    "deletable": true,
    "editable": true,
    "slideshow": {
     "slide_type": "slide"
    }
   },
   "source": [
    "### Edit mode vs. command mode"
   ]
  },
  {
   "cell_type": "markdown",
   "id": "87ca8ddc",
   "metadata": {
    "deletable": true,
    "editable": true,
    "slideshow": {
     "slide_type": "fragment"
    }
   },
   "source": [
    "- When working in Jupyter Notebooks, we use keyboard shortcuts often. But the keyboard shortcuts that apply depend on the **mode** that we're in."
   ]
  },
  {
   "cell_type": "markdown",
   "id": "d803e708",
   "metadata": {
    "deletable": true,
    "editable": true,
    "slideshow": {
     "slide_type": "fragment"
    }
   },
   "source": [
    "- <span style='color:#66bb6a'><b>Edit mode</b></span>: when you're actively typing in a cell.\n",
    "\n",
    "<center><img src='imgs/editmode.png' width=40%></center>"
   ]
  },
  {
   "cell_type": "markdown",
   "id": "8f0821d7",
   "metadata": {
    "deletable": true,
    "editable": true,
    "slideshow": {
     "slide_type": "fragment"
    }
   },
   "source": [
    "- <span style='color:#42a5f5'><b>Command mode</b></span>: when you're not actively typing in a cell.\n",
    "\n",
    "<center><img src='imgs/commandmode.png' width=45%></center>"
   ]
  },
  {
   "cell_type": "markdown",
   "id": "0a752396",
   "metadata": {
    "deletable": true,
    "editable": true,
    "slideshow": {
     "slide_type": "fragment"
    }
   },
   "source": [
    "- Hit the **escape** key to switch from edit to command, and the **enter** key to switch from command to edit."
   ]
  },
  {
   "cell_type": "markdown",
   "id": "63b5e83a",
   "metadata": {
    "deletable": true,
    "editable": true,
    "slideshow": {
     "slide_type": "slide"
    }
   },
   "source": [
    "### Keyboard shortcuts\n",
    "\n",
    "- A few important keyboard shortcuts are listed below for reference. **Don't feel the need to memorize them all!**\n",
    "- You can see them by hitting **H** while in command mode.\n",
    "- You can also just use the toolbar directly, rather than using a shortcut.\n",
    "\n",
    "| Action | Mode | Keyboard shortcut |\n",
    "| --- | --- | --- |\n",
    "| Run cell + jump to next cell | **Either (puts you in edit mode)** | SHIFT + ENTER |\n",
    "| Save the notebook | **Either** | CTRL/CMD + S |\n",
    "| Create new cell above/below | Command | A/B |\n",
    "| Convert cell to Markdown | Command | M |\n",
    "| Convert cell to code | Command | Y |"
   ]
  },
  {
   "cell_type": "markdown",
   "id": "315d8609",
   "metadata": {
    "deletable": true,
    "editable": true,
    "slideshow": {
     "slide_type": "slide"
    }
   },
   "source": [
    "## Example: Trends in baby names 👶\n",
    "\n",
    "---\n",
    "\n",
    "To wrap up, we'll show you a cool example of the sort of analysis you'll soon be able to do. Don't worry about any of the details."
   ]
  },
  {
   "cell_type": "markdown",
   "id": "b0dc6c6d",
   "metadata": {
    "deletable": true,
    "editable": true,
    "slideshow": {
     "slide_type": "slide"
    }
   },
   "source": [
    "### Social Security's Top 10 Baby Names of 2023"
   ]
  },
  {
   "cell_type": "markdown",
   "id": "967d783e",
   "metadata": {
    "deletable": true,
    "editable": true,
    "slideshow": {
     "slide_type": "fragment"
    }
   },
   "source": [
    "- The [US Social Security Administration](https://www.ssa.gov/oact/babynames/index.html) releases an article each year listing the most popular baby names.<br><small>The 2024 list isn't public yet.</small>"
   ]
  },
  {
   "cell_type": "code",
   "execution_count": null,
   "id": "fa9a42cb",
   "metadata": {
    "deletable": true,
    "editable": true,
    "slideshow": {
     "slide_type": "-"
    }
   },
   "outputs": [],
   "source": [
    "YouTubeVideo('1HUjlpHI5us')"
   ]
  },
  {
   "cell_type": "markdown",
   "id": "f7ef4e8d",
   "metadata": {
    "deletable": true,
    "editable": true,
    "slideshow": {
     "slide_type": "fragment"
    }
   },
   "source": [
    "- Let's see if we can verify these facts ourselves using raw data!"
   ]
  },
  {
   "cell_type": "markdown",
   "id": "7622b823",
   "metadata": {
    "deletable": true,
    "editable": true,
    "slideshow": {
     "slide_type": "slide"
    },
    "tags": []
   },
   "source": [
    "### The data"
   ]
  },
  {
   "cell_type": "markdown",
   "id": "78b41285",
   "metadata": {
    "deletable": true,
    "editable": true,
    "slideshow": {
     "slide_type": "fragment"
    }
   },
   "source": [
    "- What we're seeing below is a `pandas` DataFrame (fancy word for \"table\"). The DataFrame contains one row for every combination of `'Name'`, `'Sex'`, and `'Year'`."
   ]
  },
  {
   "cell_type": "code",
   "execution_count": null,
   "id": "b7206ad4",
   "metadata": {
    "deletable": true,
    "editable": true,
    "scrolled": true
   },
   "outputs": [],
   "source": [
    "baby = pd.read_csv('data/baby.csv')\n",
    "baby"
   ]
  },
  {
   "cell_type": "markdown",
   "id": "e157a635",
   "metadata": {
    "deletable": true,
    "editable": true,
    "slideshow": {
     "slide_type": "fragment"
    }
   },
   "source": [
    "- For instance, it's telling us that in 2022, there were 16573 female babies born with the name Olivia.<br><small>We don't have information for 2022 or 2023, sadly.</small>"
   ]
  },
  {
   "cell_type": "markdown",
   "id": "c52dd8c4",
   "metadata": {
    "deletable": true,
    "editable": true,
    "slideshow": {
     "slide_type": "slide"
    }
   },
   "source": [
    "### How many babies are in the dataset?"
   ]
  },
  {
   "cell_type": "code",
   "execution_count": null,
   "id": "a9f4d0c6",
   "metadata": {
    "deletable": true,
    "editable": true
   },
   "outputs": [],
   "source": [
    "..."
   ]
  },
  {
   "cell_type": "markdown",
   "id": "88e31a12",
   "metadata": {
    "deletable": true,
    "editable": true,
    "slideshow": {
     "slide_type": "slide"
    }
   },
   "source": [
    "### How many babies were recorded in the dataset each year?"
   ]
  },
  {
   "cell_type": "code",
   "execution_count": null,
   "id": "ccee6a79",
   "metadata": {
    "deletable": true,
    "editable": true,
    "scrolled": true
   },
   "outputs": [],
   "source": [
    "..."
   ]
  },
  {
   "cell_type": "code",
   "execution_count": null,
   "id": "1ddf7032",
   "metadata": {
    "deletable": true,
    "editable": true
   },
   "outputs": [],
   "source": [
    "..."
   ]
  },
  {
   "cell_type": "markdown",
   "id": "34dc566f",
   "metadata": {
    "deletable": true,
    "editable": true,
    "slideshow": {
     "slide_type": "slide"
    }
   },
   "source": [
    "### What were the most common names in 2022?"
   ]
  },
  {
   "cell_type": "code",
   "execution_count": null,
   "id": "09118e0f",
   "metadata": {
    "deletable": true,
    "editable": true
   },
   "outputs": [],
   "source": [
    "..."
   ]
  },
  {
   "cell_type": "code",
   "execution_count": null,
   "id": "648b5323",
   "metadata": {
    "deletable": true,
    "editable": true
   },
   "outputs": [],
   "source": [
    "..."
   ]
  },
  {
   "cell_type": "markdown",
   "id": "91c2dbef",
   "metadata": {
    "deletable": true,
    "editable": true,
    "slideshow": {
     "slide_type": "slide"
    },
    "tags": []
   },
   "source": [
    "### What about trends in individual names?"
   ]
  },
  {
   "cell_type": "code",
   "execution_count": null,
   "id": "eb6c0934",
   "metadata": {
    "deletable": true,
    "editable": true
   },
   "outputs": [],
   "source": [
    "..."
   ]
  },
  {
   "cell_type": "code",
   "execution_count": null,
   "id": "7d5b5bc5",
   "metadata": {
    "deletable": true,
    "editable": true
   },
   "outputs": [],
   "source": [
    "..."
   ]
  },
  {
   "cell_type": "code",
   "execution_count": null,
   "id": "d34ba4e3",
   "metadata": {
    "deletable": true,
    "editable": true,
    "slideshow": {
     "slide_type": "slide"
    }
   },
   "outputs": [],
   "source": [
    "def name_graph(name):\n",
    "    ..."
   ]
  },
  {
   "cell_type": "code",
   "execution_count": null,
   "id": "97dc81d0",
   "metadata": {
    "deletable": true,
    "editable": true
   },
   "outputs": [],
   "source": [
    "name_graph('Suraj')"
   ]
  },
  {
   "cell_type": "markdown",
   "id": "26c7211d",
   "metadata": {
    "deletable": true,
    "editable": true,
    "slideshow": {
     "slide_type": "slide"
    }
   },
   "source": [
    "### What about your names?"
   ]
  },
  {
   "cell_type": "code",
   "execution_count": null,
   "id": "0f83adfd",
   "metadata": {
    "deletable": true,
    "editable": true
   },
   "outputs": [],
   "source": [
    "# The first names of everyone in the class!\n",
    "class_first = np.load('data/wn25-names.npy', allow_pickle=True)\n",
    "class_first"
   ]
  },
  {
   "cell_type": "code",
   "execution_count": null,
   "id": "400cfb54",
   "metadata": {
    "deletable": true,
    "editable": true
   },
   "outputs": [],
   "source": [
    "dropdown_names = widgets.Dropdown(options=class_first, value='Suraj')\n",
    "def dropdown_names_handler(change):\n",
    "    if change['name'] == 'value' and (change['new'] != change['old']):\n",
    "        clear_output()\n",
    "        display(dropdown_names)\n",
    "        name_graph(change['new'])\n",
    "display(dropdown_names)\n",
    "name_graph('Suraj')\n",
    "dropdown_names.observe(dropdown_names_handler)"
   ]
  }
 ],
 "metadata": {
  "celltoolbar": "None",
  "kernelspec": {
   "display_name": "Python 3 (ipykernel)",
   "language": "python",
   "name": "python3"
  },
  "language_info": {
   "codemirror_mode": {
    "name": "ipython",
    "version": 3
   },
   "file_extension": ".py",
   "mimetype": "text/x-python",
   "name": "python",
   "nbconvert_exporter": "python",
   "pygments_lexer": "ipython3",
   "version": "3.10.16"
  },
  "livereveal": {
   "scroll": true
  },
  "rise": {
   "transition": "none"
  }
 },
 "nbformat": 4,
 "nbformat_minor": 5
}
