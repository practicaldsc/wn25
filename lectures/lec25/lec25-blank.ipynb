{
 "cells": [
  {
   "cell_type": "code",
   "execution_count": null,
   "id": "80d492b9",
   "metadata": {
    "deletable": true,
    "editable": true,
    "slideshow": {
     "slide_type": "skip"
    }
   },
   "outputs": [],
   "source": [
    "# Run this cell to get everything set up.\n",
    "from lec_utils import *\n",
    "import lec25_util as util"
   ]
  },
  {
   "cell_type": "markdown",
   "id": "63b81dfe",
   "metadata": {
    "deletable": true,
    "editable": true,
    "slideshow": {
     "slide_type": "slide"
    },
    "tags": []
   },
   "source": [
    "<div class=\"alert alert-info\" markdown=\"1\">\n",
    "\n",
    "#### Lecture 25\n",
    "\n",
    "# Computer Vision, Conclusion\n",
    "\n",
    "### EECS 398: Practical Data Science, Winter 2025\n",
    "\n",
    "<small><a style=\"text-decoration: none\" href=\"https://practicaldsc.org\">practicaldsc.org</a> • <a style=\"text-decoration: none\" href=\"https://github.com/practicaldsc/wn25\">github.com/practicaldsc/wn25</a> • 📣 See latest announcements [**here on Ed**](https://edstem.org/us/courses/69737/discussion/5943734) </small>\n",
    "    \n",
    "</div>\n",
    "\n",
    "<script type=\"text/x-mathjax-config\">\n",
    " MathJax.Hub.Config({\n",
    "   TeX: {\n",
    "     extensions: [\"color.js\"],\n",
    "     packages: {\"[+]\": [\"color\"]},\n",
    "   }\n",
    " });\n",
    " </script>\n",
    " <script src=\"https://cdnjs.cloudflare.com/ajax/libs/mathjax/2.7.5/MathJax.js?config=TeX-AMS_HTML\"></script>"
   ]
  },
  {
   "cell_type": "markdown",
   "id": "d6cbc5c9",
   "metadata": {
    "deletable": true,
    "editable": true,
    "slideshow": {
     "slide_type": "slide"
    }
   },
   "source": [
    "### Final exam details 🙇"
   ]
  },
  {
   "cell_type": "markdown",
   "id": "13779fff",
   "metadata": {
    "deletable": true,
    "editable": true,
    "slideshow": {
     "slide_type": "-"
    }
   },
   "source": [
    "- The Final Exam is on **Monday, April 28th from 10:30AM-12:30PM**.<br><small>You'll receive your assigned room via email by Thursday. If we've made alternate arrangements, I'll confirm them with you on Thursday as well.</small>"
   ]
  },
  {
   "cell_type": "markdown",
   "id": "39f61521",
   "metadata": {
    "deletable": true,
    "editable": true,
    "slideshow": {
     "slide_type": "-"
    }
   },
   "source": [
    "- Lectures 13-24, Homeworks 7-11, and Discussions 8-13 are all in scope. The exam is **not cumulative**, but post-midterm material builds upon pre-midterm material.<br><small>For instance, you'll need to know about loss functions and basic `pandas`, since we've used such ideas in the second half of the semester repeatedly.</small> "
   ]
  },
  {
   "cell_type": "markdown",
   "id": "33114c24",
   "metadata": {
    "deletable": true,
    "editable": true,
    "slideshow": {
     "slide_type": "-"
    }
   },
   "source": [
    "- You can bring **two** double-sided handwritten notes sheets.<br><small>Feel free to bring your midterm notes sheet as one of your two sheets!</small>"
   ]
  },
  {
   "cell_type": "markdown",
   "id": "9181c754",
   "metadata": {
    "deletable": true,
    "editable": true,
    "slideshow": {
     "slide_type": "-"
    }
   },
   "source": [
    "- We have two review sessions this week:\n",
    "    - Wednesday 4/23, 3-5PM, 1670 BBB.\n",
    "    - Saturday 4/26, 1-3PM, 1670 BBB.\n",
    "    There will be a different worksheet for each review session. We will post both worksheets **today**.\n",
    "    \n",
    "    Do them in advance **as if they were mock exams**, and we'll take them up together."
   ]
  },
  {
   "cell_type": "markdown",
   "id": "bc468ea4",
   "metadata": {
    "deletable": true,
    "editable": true,
    "slideshow": {
     "slide_type": "-"
    }
   },
   "source": [
    "- The [**study site**](https://study.practicaldsc.org) is the most important resource, followed by lecture slides, and then assignments.<br><small>When working through old discussion problems, work as if you're in a real exam – time yourself, don't use the internet, no music, sit somewhere public, etc.</small>"
   ]
  },
  {
   "cell_type": "markdown",
   "id": "f8a87592",
   "metadata": {
    "deletable": true,
    "editable": true,
    "slideshow": {
     "slide_type": "slide"
    }
   },
   "source": [
    "### Agenda 📆\n",
    "\n",
    "- Computer vision 👾.\n",
    "- Parting thoughts 💭."
   ]
  },
  {
   "cell_type": "markdown",
   "id": "69abee74",
   "metadata": {
    "deletable": true,
    "editable": true,
    "slideshow": {
     "slide_type": "slide"
    }
   },
   "source": [
    "<div class=\"alert alert-warning\">\n",
    "    <h3>Question 🤔 (Answer at <a style=\"text-decoration: none; color: #0066cc\" href=\"https://docs.google.com/forms/d/e/1FAIpQLSd4oliiZYeNh76jWy-arfEtoAkCrVSsobZxPwxifWggo3EO0Q/viewform\">practicaldsc.org/q</a>)</h3>\n",
    "    \n",
    "Remember that you can always ask questions anonymously at the link above!"
   ]
  },
  {
   "cell_type": "markdown",
   "id": "b93c432e",
   "metadata": {
    "deletable": true,
    "editable": true,
    "slideshow": {
     "slide_type": "slide"
    }
   },
   "source": [
    "## Computer vision 👾\n",
    "\n",
    "---\n",
    "\n",
    "We'll wrap up the semester by looking at a fun application area of the tools we've seen – computer vision.<br>None of the <b>new</b> material today is in scope for the exam, but a lot of it is implicitly review."
   ]
  },
  {
   "cell_type": "markdown",
   "id": "7041b5f0",
   "metadata": {
    "deletable": true,
    "editable": true,
    "slideshow": {
     "slide_type": "slide"
    }
   },
   "source": [
    "<center>\n",
    "    \n",
    "<img src=\"imgs/digits-intro.png\" width=1000>\n",
    "    \n",
    "</center>"
   ]
  },
  {
   "cell_type": "markdown",
   "id": "a0794674",
   "metadata": {
    "deletable": true,
    "editable": true,
    "slideshow": {
     "slide_type": "fragment"
    }
   },
   "source": [
    "<center><b>Goal</b>: Given an image of a digit, <b>classify</b> the digit as either 0, 1, 2, 3, 4, 5, 6, 7, 8, or, 9.</center>"
   ]
  },
  {
   "cell_type": "markdown",
   "id": "a7d79fae",
   "metadata": {
    "deletable": true,
    "editable": true,
    "slideshow": {
     "slide_type": "fragment"
    }
   },
   "source": [
    "<center>This is a multi-class <b>classification</b> problem with 10 classes.</center>"
   ]
  },
  {
   "cell_type": "markdown",
   "id": "b72b54ff",
   "metadata": {
    "deletable": true,
    "editable": true,
    "slideshow": {
     "slide_type": "fragment"
    }
   },
   "source": [
    "<center>This is also an example of <b>computer vision</b>, <br>a branch of machine learning that deals with learning patterns in images and videos.</center>"
   ]
  },
  {
   "cell_type": "markdown",
   "id": "41caff97",
   "metadata": {
    "deletable": true,
    "editable": true,
    "slideshow": {
     "slide_type": "slide"
    }
   },
   "source": [
    "### The MNIST dataset"
   ]
  },
  {
   "cell_type": "markdown",
   "id": "d257ab10",
   "metadata": {
    "deletable": true,
    "editable": true,
    "slideshow": {
     "slide_type": "fragment"
    }
   },
   "source": [
    "- The MNIST dataset contains 70,000 **labeled** images of digits, all of which are **28 pixels by 28 pixels** and grayscale (no color).<br><small>MNIST stands for \"Modified National Institute of Standards and Technology\". Yann LeCun et. al. are responsible for curating the dataset; read the original webpage for it [**here**](https://yann.lecun.com/exdb/mnist/). </small>\n",
    "\n",
    "<center><img src=\"imgs/mnist-many.jpg\" width=500></center>"
   ]
  },
  {
   "cell_type": "markdown",
   "id": "100c3e4f",
   "metadata": {
    "deletable": true,
    "editable": true,
    "slideshow": {
     "slide_type": "fragment"
    }
   },
   "source": [
    "- The dataset is pre-split into a training set of 60,000 images and test set of 10,000 images."
   ]
  },
  {
   "cell_type": "markdown",
   "id": "e0406f7c",
   "metadata": {
    "deletable": true,
    "editable": true,
    "slideshow": {
     "slide_type": "fragment"
    }
   },
   "source": [
    "- Test set performance on MNIST is a common benchmark for evaluating the quality of a classifier.<br><small>Convolutional neural networks, one of the most popular model architectures for computer vision, were developed specifically in the context of achieving high accuracy on MNIST.<br>There are other, similarly-purposed datasets too, like FashionMNIST.</small>"
   ]
  },
  {
   "cell_type": "markdown",
   "id": "dde4cbef",
   "metadata": {
    "deletable": true,
    "editable": true,
    "slideshow": {
     "slide_type": "fragment"
    }
   },
   "source": [
    "- State of the art **neural network**-based models have achieved test set accuracies of as high as 99.87\\%.<br><small>See the leaderboard [**here**](https://paperswithcode.com/sota/image-classification-on-mnist)!</small>"
   ]
  },
  {
   "cell_type": "markdown",
   "id": "d74d0296",
   "metadata": {
    "deletable": true,
    "editable": true,
    "slideshow": {
     "slide_type": "slide"
    }
   },
   "source": [
    "### Loading the data"
   ]
  },
  {
   "cell_type": "markdown",
   "id": "eefb843b",
   "metadata": {
    "deletable": true,
    "editable": true,
    "slideshow": {
     "slide_type": "fragment"
    }
   },
   "source": [
    "- `sklearn` has a built-in function for loading datasets from [OpenML](https://www.openml.org/search?type=data)."
   ]
  },
  {
   "cell_type": "code",
   "execution_count": null,
   "id": "d800d9c7",
   "metadata": {
    "deletable": true,
    "editable": true,
    "slideshow": {
     "slide_type": "fragment"
    }
   },
   "outputs": [],
   "source": [
    "from sklearn.datasets import fetch_openml\n",
    "X, y = fetch_openml(\"mnist_784\", version=1, return_X_y=True, as_frame=True)\n",
    "# The documentation here: https://www.openml.org/search?type=data&status=active&id=554\n",
    "# tells us that the first 60,000 rows constitute the training set.\n",
    "X_train, X_test = X.iloc[:60000], X.iloc[60000:]\n",
    "y_train, y_test = y.iloc[:60000].astype(int), y.iloc[60000:].astype(int)"
   ]
  },
  {
   "cell_type": "markdown",
   "id": "409aa1c5",
   "metadata": {
    "deletable": true,
    "editable": true,
    "slideshow": {
     "slide_type": "fragment"
    }
   },
   "source": [
    "- What do `X_train` and `y_train` actually look like?"
   ]
  },
  {
   "cell_type": "code",
   "execution_count": null,
   "id": "9b9d7a1d",
   "metadata": {
    "deletable": true,
    "editable": true
   },
   "outputs": [],
   "source": [
    "X_train"
   ]
  },
  {
   "cell_type": "code",
   "execution_count": null,
   "id": "65838598",
   "metadata": {
    "deletable": true,
    "editable": true
   },
   "outputs": [],
   "source": [
    "y_train"
   ]
  },
  {
   "cell_type": "markdown",
   "id": "acb39920",
   "metadata": {
    "deletable": true,
    "editable": true,
    "slideshow": {
     "slide_type": "slide"
    }
   },
   "source": [
    "### From vectors to images"
   ]
  },
  {
   "cell_type": "markdown",
   "id": "1640750e",
   "metadata": {
    "deletable": true,
    "editable": true,
    "slideshow": {
     "slide_type": "fragment"
    }
   },
   "source": [
    "- In `X_train`, each image is represented by a $28 \\cdot 28 = 784$-dimensional vector, representing a **flattened** version of the image."
   ]
  },
  {
   "cell_type": "code",
   "execution_count": null,
   "id": "b2e167a9",
   "metadata": {
    "deletable": true,
    "editable": true
   },
   "outputs": [],
   "source": [
    "X_train.iloc[98]"
   ]
  },
  {
   "cell_type": "markdown",
   "id": "f7207ddb",
   "metadata": {
    "deletable": true,
    "editable": true,
    "slideshow": {
     "slide_type": "fragment"
    }
   },
   "source": [
    "- The first 28 pixels are the first **row** of the image, the second 28 pixels are the second row of the image, and so on. To view the image, we can **reshape** the vector into a 2D grid."
   ]
  },
  {
   "cell_type": "code",
   "execution_count": null,
   "id": "0fca9bcd",
   "metadata": {
    "deletable": true,
    "editable": true
   },
   "outputs": [],
   "source": [
    "X_train.iloc[98].to_numpy().reshape((28, 28))"
   ]
  },
  {
   "cell_type": "markdown",
   "id": "b319b5ee",
   "metadata": {
    "deletable": true,
    "editable": true,
    "slideshow": {
     "slide_type": "fragment"
    }
   },
   "source": [
    "- Each pixel is represented with a value from 0 to 255, where **larger values are more intense** (darker in the plot below)."
   ]
  },
  {
   "cell_type": "code",
   "execution_count": null,
   "id": "ceb07e9a",
   "metadata": {
    "deletable": true,
    "editable": true
   },
   "outputs": [],
   "source": [
    "# We'll keep using image 98 as an example, so remember that it's a 3!\n",
    "util.show_image(X_train.iloc[98])"
   ]
  },
  {
   "cell_type": "markdown",
   "id": "97d8b206",
   "metadata": {
    "deletable": true,
    "editable": true,
    "slideshow": {
     "slide_type": "slide"
    }
   },
   "source": [
    "### The distribution of the training set"
   ]
  },
  {
   "cell_type": "markdown",
   "id": "27a88a17",
   "metadata": {
    "deletable": true,
    "editable": true,
    "slideshow": {
     "slide_type": "fragment"
    }
   },
   "source": [
    "- Before training any models, we should assess whether there's any class imbalance in the **training set**.<br><small>Remember, we shouldn't peek at the test set until we've actually trained a model.</small>"
   ]
  },
  {
   "cell_type": "code",
   "execution_count": null,
   "id": "f9f2283c",
   "metadata": {
    "deletable": true,
    "editable": true
   },
   "outputs": [],
   "source": [
    "y_train.value_counts(normalize=True).sort_index().plot(kind='bar', title='Distribution of Digits in the Training Set')"
   ]
  },
  {
   "cell_type": "markdown",
   "id": "9ecdfb0c",
   "metadata": {
    "deletable": true,
    "editable": true,
    "slideshow": {
     "slide_type": "fragment"
    }
   },
   "source": [
    "- The 10 possible digits seem to appear at roughly the same frequency."
   ]
  },
  {
   "cell_type": "markdown",
   "id": "6b622afe",
   "metadata": {
    "deletable": true,
    "editable": true,
    "slideshow": {
     "slide_type": "slide"
    }
   },
   "source": [
    "### Model #1: $k$-Nearest Neighbors 🏡🏠"
   ]
  },
  {
   "cell_type": "markdown",
   "id": "b25429c2",
   "metadata": {
    "deletable": true,
    "editable": true,
    "slideshow": {
     "slide_type": "fragment"
    }
   },
   "source": [
    "- We _can_ use $k$-nearest neighbors to predict the digit in a new image, $\\vec{x}_\\text{new} \\in \\mathbb{R}^{784}$.<br>Intuitively, this means finding the $k$ \"most similar\" images to $\\vec{x}_\\text{new}$.<br><small>Remember, $k$-nearest neighbors is a **classification** method for **supervised learning**.</small>"
   ]
  },
  {
   "cell_type": "markdown",
   "id": "0c46f06a",
   "metadata": {
    "deletable": true,
    "editable": true,
    "slideshow": {
     "slide_type": "fragment"
    }
   },
   "source": [
    "- Since we're treating each image in our training set as a \"flat\" vector in $\\mathbb{R}^{784}$, we're ignoring any **spatial** patterns in each image."
   ]
  },
  {
   "cell_type": "code",
   "execution_count": null,
   "id": "381ef8b4",
   "metadata": {
    "deletable": true,
    "editable": true
   },
   "outputs": [],
   "source": [
    "from sklearn.neighbors import KNeighborsClassifier"
   ]
  },
  {
   "cell_type": "code",
   "execution_count": null,
   "id": "5ebd5737",
   "metadata": {
    "deletable": true,
    "editable": true,
    "scrolled": true
   },
   "outputs": [],
   "source": [
    "model_knn = KNeighborsClassifier(n_neighbors=100) # Arbitrary choice; remember, there are 60,000 points in the training set.\n",
    "model_knn.fit(X_train, y_train)"
   ]
  },
  {
   "cell_type": "markdown",
   "id": "0a006573",
   "metadata": {
    "deletable": true,
    "editable": true,
    "slideshow": {
     "slide_type": "fragment"
    }
   },
   "source": [
    "- Note that \"training\" a $k$-NN classifier (i.e. calling `fit`) is instant, because nearest neighbor models do all of their calculation upon calling `predict`."
   ]
  },
  {
   "cell_type": "markdown",
   "id": "56fbcb81",
   "metadata": {
    "deletable": true,
    "editable": true,
    "slideshow": {
     "slide_type": "fragment"
    }
   },
   "source": [
    "- Calling `predict` is much slower than calling `fit` – for each input to `predict`, the model must find the distance between the input vector and all 60,000 vectors in the training set to see which $k=100$ are the closest."
   ]
  },
  {
   "cell_type": "code",
   "execution_count": null,
   "id": "733fd656",
   "metadata": {
    "deletable": true,
    "editable": true
   },
   "outputs": [],
   "source": [
    "model_knn.predict(X_train.iloc[[98]])"
   ]
  },
  {
   "cell_type": "code",
   "execution_count": null,
   "id": "e50a9354",
   "metadata": {
    "deletable": true,
    "editable": true
   },
   "outputs": [],
   "source": [
    "# Accuracy on test set. Takes ~10 seconds on my computer, but is fairly high.\n",
    "y_test_pred = model_knn.predict(X_test)\n",
    "(y_test == y_test_pred).mean()"
   ]
  },
  {
   "cell_type": "markdown",
   "id": "abc2bfb2",
   "metadata": {
    "deletable": true,
    "editable": true,
    "slideshow": {
     "slide_type": "slide"
    }
   },
   "source": [
    "### What kinds of errors does the model make?"
   ]
  },
  {
   "cell_type": "markdown",
   "id": "d3e5b0df",
   "metadata": {
    "deletable": true,
    "editable": true,
    "slideshow": {
     "slide_type": "fragment"
    }
   },
   "source": [
    "- A 100-nearest neighbor classifier achieves 94.4\\% test set accuracy."
   ]
  },
  {
   "cell_type": "markdown",
   "id": "64db4f2b",
   "metadata": {
    "deletable": true,
    "editable": true,
    "slideshow": {
     "slide_type": "fragment"
    }
   },
   "source": [
    "- To further understand the classifier's performance, we can draw its **confusion matrix**."
   ]
  },
  {
   "cell_type": "code",
   "execution_count": null,
   "id": "3570272c",
   "metadata": {
    "deletable": true,
    "editable": true
   },
   "outputs": [],
   "source": [
    "X_test_labeled = X_test.assign(\n",
    "    true=y_test,\n",
    "    pred=y_test_pred\n",
    ")\n",
    "util.show_confusion(y_test, y_test_pred, title='Confusion Matrix for 100-Nearest Neighbors Model')"
   ]
  },
  {
   "cell_type": "markdown",
   "id": "71eb2099",
   "metadata": {
    "deletable": true,
    "editable": true,
    "slideshow": {
     "slide_type": "fragment"
    }
   },
   "source": [
    "- Some of the most common errors seem to be:\n",
    "    - Predicting 1 when the true digit is 2 or 7.\n",
    "    - Predicting 7 when the true digit is 2.\n",
    "    - Predicting 9 when the true digit is 4 or 7."
   ]
  },
  {
   "cell_type": "markdown",
   "id": "a81ffba8",
   "metadata": {
    "deletable": true,
    "editable": true,
    "slideshow": {
     "slide_type": "fragment"
    }
   },
   "source": [
    "- Let's peek at some of those cases!"
   ]
  },
  {
   "cell_type": "markdown",
   "id": "47f1e306",
   "metadata": {
    "deletable": true,
    "editable": true,
    "slideshow": {
     "slide_type": "slide"
    }
   },
   "source": [
    "### Examining misclassified images"
   ]
  },
  {
   "cell_type": "markdown",
   "id": "14b94953",
   "metadata": {
    "deletable": true,
    "editable": true,
    "slideshow": {
     "slide_type": "fragment"
    }
   },
   "source": [
    "- Run the cell below repeatedly to see a randomly-chosen image from the test set that we classified incorrectly."
   ]
  },
  {
   "cell_type": "code",
   "execution_count": null,
   "id": "91f7b7cb",
   "metadata": {
    "deletable": true,
    "editable": true
   },
   "outputs": [],
   "source": [
    "util.show_image_and_label(X_test_labeled.query('pred != true').sample().iloc[0])"
   ]
  },
  {
   "cell_type": "markdown",
   "id": "09211c67",
   "metadata": {
    "deletable": true,
    "editable": true,
    "slideshow": {
     "slide_type": "fragment"
    }
   },
   "source": [
    "- Run the cell below repeatedly to see a randomly-chosen image from the test set that **we incorrectly classified as a 1**."
   ]
  },
  {
   "cell_type": "code",
   "execution_count": null,
   "id": "121b2a58",
   "metadata": {
    "deletable": true,
    "editable": true
   },
   "outputs": [],
   "source": [
    "util.show_image_and_label(X_test_labeled.query('pred != true and pred == 1').sample().iloc[0])"
   ]
  },
  {
   "cell_type": "markdown",
   "id": "65f36464",
   "metadata": {
    "deletable": true,
    "editable": true,
    "slideshow": {
     "slide_type": "slide"
    }
   },
   "source": [
    "<div class=\"alert alert-warning\">\n",
    "    <h3>Question 🤔 (Answer at <a style=\"text-decoration: none; color: #0066cc\" href=\"https://docs.google.com/forms/d/e/1FAIpQLSd4oliiZYeNh76jWy-arfEtoAkCrVSsobZxPwxifWggo3EO0Q/viewform\">practicaldsc.org/q</a>)</h3>\n",
    "    \n",
    "Remember that you can always ask questions anonymously at the link above!"
   ]
  },
  {
   "cell_type": "markdown",
   "id": "f196e048",
   "metadata": {
    "deletable": true,
    "editable": true,
    "slideshow": {
     "slide_type": "slide"
    }
   },
   "source": [
    "### Downsides of $k$-nearest neighbors"
   ]
  },
  {
   "cell_type": "markdown",
   "id": "fdfcc3d0",
   "metadata": {
    "deletable": true,
    "editable": true,
    "slideshow": {
     "slide_type": "fragment"
    }
   },
   "source": [
    "- In the example below, our 100-nearest neighbor classifier predicted 1, when the true label was 2."
   ]
  },
  {
   "cell_type": "code",
   "execution_count": null,
   "id": "481653de",
   "metadata": {
    "deletable": true,
    "editable": true
   },
   "outputs": [],
   "source": [
    "util.show_image_and_label(X_test_labeled.query('pred != true and pred == 1').iloc[1])"
   ]
  },
  {
   "cell_type": "markdown",
   "id": "50e82054",
   "metadata": {
    "deletable": true,
    "editable": true,
    "slideshow": {
     "slide_type": "fragment"
    }
   },
   "source": [
    "- One downside: $k$-nearest neighbors doesn't incorporate any **probability** in its decision-making process.<br>What if we could get a probability that the above image is of a 0, 1, 2, 3, ..., 9?"
   ]
  },
  {
   "cell_type": "markdown",
   "id": "f3551c89",
   "metadata": {
    "deletable": true,
    "editable": true,
    "slideshow": {
     "slide_type": "fragment"
    }
   },
   "source": [
    "- Another downside: Classifying a new image takes relatively long.<br>What if we could learn patterns from the training set in advance, so that predicting new images is relatively quick?"
   ]
  },
  {
   "cell_type": "markdown",
   "id": "ef1a9d4f",
   "metadata": {
    "deletable": true,
    "editable": true,
    "slideshow": {
     "slide_type": "slide"
    }
   },
   "source": [
    "### Model #2: Multinomial logistic regression 📈"
   ]
  },
  {
   "cell_type": "markdown",
   "id": "a8ed147a",
   "metadata": {
    "deletable": true,
    "editable": true,
    "slideshow": {
     "slide_type": "fragment"
    }
   },
   "source": [
    "- Multinomial logistic regression, or softmax regression, predicts the probability that an image $\\vec x_i \\in \\mathbb{R}^{784}$ belongs to each class."
   ]
  },
  {
   "cell_type": "markdown",
   "id": "c10f7939",
   "metadata": {
    "deletable": true,
    "editable": true,
    "slideshow": {
     "slide_type": "fragment"
    }
   },
   "source": [
    "$$P(\\text{image } \\vec x_i \\text{ is of digit }j) = P(y_i = j | \\vec{x}_i) = \\frac{e^{\\vec{w}_j \\cdot \\text{Aug}(\\vec{x}_i)}}{\\sum_{k=0}^9 e^{\\vec w_k \\cdot \\text{Aug}(\\vec x_i)}}$$\n",
    "\n",
    "<center><small>Here, $j$ could be 0, 1, 2, ..., 9.</small></center>"
   ]
  },
  {
   "cell_type": "markdown",
   "id": "c04f422c",
   "metadata": {
    "deletable": true,
    "editable": true,
    "slideshow": {
     "slide_type": "fragment"
    }
   },
   "source": [
    "- To train a multinomial logistic regression model for this task, we'll ultimately need to find 10 optimal parameter vectors, $\\vec w_0^*$, $\\vec w_1^*$, ..., $\\vec w_9^*$."
   ]
  },
  {
   "cell_type": "markdown",
   "id": "bc8d32fe",
   "metadata": {
    "deletable": true,
    "editable": true,
    "slideshow": {
     "slide_type": "slide"
    }
   },
   "source": [
    "### Multinomial logistic regression in `sklearn`"
   ]
  },
  {
   "cell_type": "markdown",
   "id": "e994891a",
   "metadata": {
    "deletable": true,
    "editable": true,
    "slideshow": {
     "slide_type": "fragment"
    }
   },
   "source": [
    "- As we've seen before, the `LogisticRegression` class supports multinomial logistic regression."
   ]
  },
  {
   "cell_type": "code",
   "execution_count": null,
   "id": "a8dcbe2d",
   "metadata": {
    "deletable": true,
    "editable": true
   },
   "outputs": [],
   "source": [
    "from sklearn.linear_model import LogisticRegression\n",
    "model_log = LogisticRegression(multi_class='multinomial', penalty='l1', solver='saga')\n",
    "model_log"
   ]
  },
  {
   "cell_type": "markdown",
   "id": "fce25c20",
   "metadata": {
    "deletable": true,
    "editable": true,
    "slideshow": {
     "slide_type": "fragment"
    }
   },
   "source": [
    "- Given that we have 60,000 training examples, each of which are 784-dimensional, training on the full training set takes quite a while – longer than we have time to run in lecture! Just to demonstrate, we'll fit on just the first 10,000 rows of the training set."
   ]
  },
  {
   "cell_type": "code",
   "execution_count": null,
   "id": "a9953def",
   "metadata": {
    "deletable": true,
    "editable": true
   },
   "outputs": [],
   "source": [
    "model_log.fit(X_train.head(10000), y_train.head(10000))"
   ]
  },
  {
   "cell_type": "markdown",
   "id": "030b41ef",
   "metadata": {
    "deletable": true,
    "editable": true,
    "slideshow": {
     "slide_type": "fragment"
    }
   },
   "source": [
    "- While calling `fit` takes a while, calling `predict` is fast."
   ]
  },
  {
   "cell_type": "code",
   "execution_count": null,
   "id": "e648106c",
   "metadata": {
    "deletable": true,
    "editable": true
   },
   "outputs": [],
   "source": [
    "util.show_image(X_train.iloc[[98]])"
   ]
  },
  {
   "cell_type": "code",
   "execution_count": null,
   "id": "4f589ccc",
   "metadata": {
    "deletable": true,
    "editable": true
   },
   "outputs": [],
   "source": [
    "model_log.predict(X_train.iloc[[98]])"
   ]
  },
  {
   "cell_type": "code",
   "execution_count": null,
   "id": "03587864",
   "metadata": {
    "deletable": true,
    "editable": true
   },
   "outputs": [],
   "source": [
    "# MUCH faster than with the k-nearest neighbors model.\n",
    "model_log.score(X_test, y_test)"
   ]
  },
  {
   "cell_type": "markdown",
   "id": "b78c8d7b",
   "metadata": {
    "deletable": true,
    "editable": true,
    "slideshow": {
     "slide_type": "slide"
    }
   },
   "source": [
    "### What kinds of errors does _this_ model make?"
   ]
  },
  {
   "cell_type": "markdown",
   "id": "34a9a89d",
   "metadata": {
    "deletable": true,
    "editable": true,
    "slideshow": {
     "slide_type": "fragment"
    }
   },
   "source": [
    "- The our multinomial logistic regression model, trained on just the first 10,000 rows of the training set, achieves 90.12\\% test set accuracy."
   ]
  },
  {
   "cell_type": "markdown",
   "id": "9f92d725",
   "metadata": {
    "deletable": true,
    "editable": true,
    "slideshow": {
     "slide_type": "fragment"
    }
   },
   "source": [
    "- Let's peek at the confusion matrix once again."
   ]
  },
  {
   "cell_type": "code",
   "execution_count": null,
   "id": "a57db507",
   "metadata": {
    "deletable": true,
    "editable": true
   },
   "outputs": [],
   "source": [
    "X_test_labeled = X_test.assign(\n",
    "    true=y_test,\n",
    "    pred=model_log.predict(X_test)\n",
    ")\n",
    "util.show_confusion(y_test, model_log.predict(X_test), title='Confusion Matrix for Multinomial Logistic Regression Model')"
   ]
  },
  {
   "cell_type": "markdown",
   "id": "a0742ab4",
   "metadata": {
    "deletable": true,
    "editable": true,
    "slideshow": {
     "slide_type": "fragment"
    }
   },
   "source": [
    "- The most common types of errors are now different! Common errors:\n",
    "    - Predicting 8 when the true digit is a 2 or 5.\n",
    "    - Predicting 3 when the true digit is a 5 (or vice versa)."
   ]
  },
  {
   "cell_type": "markdown",
   "id": "2578c31d",
   "metadata": {
    "deletable": true,
    "editable": true,
    "slideshow": {
     "slide_type": "slide"
    }
   },
   "source": [
    "### Modeling uncertainty"
   ]
  },
  {
   "cell_type": "markdown",
   "id": "b281428c",
   "metadata": {
    "deletable": true,
    "editable": true,
    "slideshow": {
     "slide_type": "fragment"
    }
   },
   "source": [
    "- Let's look at test set images that the multinomial logistic regression model misclassified."
   ]
  },
  {
   "cell_type": "code",
   "execution_count": null,
   "id": "a4c777e1",
   "metadata": {
    "deletable": true,
    "editable": true
   },
   "outputs": [],
   "source": [
    "util.show_image_and_label(X_test_labeled.query('pred != true and pred == 8').iloc[15])"
   ]
  },
  {
   "cell_type": "markdown",
   "id": "171fc3a9",
   "metadata": {
    "deletable": true,
    "editable": true,
    "slideshow": {
     "slide_type": "fragment"
    }
   },
   "source": [
    "- We can use `predict_proba` to see the distribution of predicted probabilities per class."
   ]
  },
  {
   "cell_type": "code",
   "execution_count": null,
   "id": "ee0b11ae",
   "metadata": {
    "deletable": true,
    "editable": true
   },
   "outputs": [],
   "source": [
    "model_log.predict_proba(X_test_labeled.query('pred != true and pred == 8').iloc[[15], :-2])"
   ]
  },
  {
   "cell_type": "code",
   "execution_count": null,
   "id": "8b19af60",
   "metadata": {
    "deletable": true,
    "editable": true
   },
   "outputs": [],
   "source": [
    "util.visualize_probs(model_log.predict_proba(X_test_labeled.query('pred != true and pred == 8').iloc[[15], :-2]))"
   ]
  },
  {
   "cell_type": "markdown",
   "id": "0b9b39ec",
   "metadata": {
    "deletable": true,
    "editable": true,
    "slideshow": {
     "slide_type": "slide"
    }
   },
   "source": [
    "### Other close calls"
   ]
  },
  {
   "cell_type": "markdown",
   "id": "0c04ae37",
   "metadata": {
    "deletable": true,
    "editable": true,
    "slideshow": {
     "slide_type": "fragment"
    }
   },
   "source": [
    "- Repeatedly run the cell below to look at the distribution of predicted probabilities for misclassified examples."
   ]
  },
  {
   "cell_type": "code",
   "execution_count": null,
   "id": "c07f84f7",
   "metadata": {
    "deletable": true,
    "editable": true
   },
   "outputs": [],
   "source": [
    "t = X_test_labeled.query('pred != true').reset_index(drop=True)\n",
    "t = t.assign(second_highest_prob = pd.DataFrame(model_log.predict_proba(t.iloc[:, :-2])).apply(lambda r: r.sort_values().iloc[-2], axis=1))\n",
    "p = t[t['second_highest_prob'] >= 0.3].sample().iloc[0]\n",
    "util.show_image_and_label(p.iloc[:-1].astype(int)).show()\n",
    "util.visualize_probs(model_log.predict_proba(p.iloc[:-3].to_frame().T))"
   ]
  },
  {
   "cell_type": "markdown",
   "id": "2ba79f43",
   "metadata": {
    "deletable": true,
    "editable": true,
    "slideshow": {
     "slide_type": "slide"
    }
   },
   "source": [
    "### Visualizing coefficients"
   ]
  },
  {
   "cell_type": "markdown",
   "id": "762e1e6c",
   "metadata": {
    "deletable": true,
    "editable": true,
    "slideshow": {
     "slide_type": "fragment"
    }
   },
   "source": [
    "- Since there are 10 classes, `model_log` has 10 parameter vectors (each in $\\mathbb{R}^{784}$) – one per class."
   ]
  },
  {
   "cell_type": "code",
   "execution_count": null,
   "id": "3faa05b7",
   "metadata": {
    "deletable": true,
    "editable": true
   },
   "outputs": [],
   "source": [
    "model_log.coef_"
   ]
  },
  {
   "cell_type": "code",
   "execution_count": null,
   "id": "f06e6a09",
   "metadata": {
    "deletable": true,
    "editable": true
   },
   "outputs": [],
   "source": [
    "model_log.coef_.shape"
   ]
  },
  {
   "cell_type": "markdown",
   "id": "a5ea6772",
   "metadata": {
    "deletable": true,
    "editable": true,
    "slideshow": {
     "slide_type": "fragment"
    }
   },
   "source": [
    "- We can visualize these coefficients, too!<br>Below, pixels in <b><span style=\"color:blue\">blue</span></b> had a positive coefficient, i.e. increase the probability of class 0. Pixels in <b><span style=\"color:red\">red</span></b> had a negative coefficient, i.e. decrease the probability of class 0.</small>"
   ]
  },
  {
   "cell_type": "code",
   "execution_count": null,
   "id": "d5c45da6",
   "metadata": {
    "deletable": true,
    "editable": true
   },
   "outputs": [],
   "source": [
    "px.imshow(model_log.coef_[0].reshape((28, 28)), color_continuous_scale='Rdbu', title='Class 0 Coefficients')"
   ]
  },
  {
   "cell_type": "code",
   "execution_count": null,
   "id": "58e8a3ee",
   "metadata": {
    "deletable": true,
    "editable": true,
    "slideshow": {
     "slide_type": "slide"
    }
   },
   "outputs": [],
   "source": [
    "util.plot_model_coefficients(model_log.coef_)"
   ]
  },
  {
   "cell_type": "markdown",
   "id": "fb353ed7",
   "metadata": {
    "deletable": true,
    "editable": true,
    "slideshow": {
     "slide_type": "slide"
    }
   },
   "source": [
    "<div class=\"alert alert-warning\">\n",
    "    <h3>Question 🤔 (Answer at <a style=\"text-decoration: none; color: #0066cc\" href=\"https://docs.google.com/forms/d/e/1FAIpQLSd4oliiZYeNh76jWy-arfEtoAkCrVSsobZxPwxifWggo3EO0Q/viewform\">practicaldsc.org/q</a>)</h3>\n",
    "    \n",
    "Remember that you can always ask questions anonymously at the link above!"
   ]
  },
  {
   "cell_type": "markdown",
   "id": "f95507db",
   "metadata": {
    "deletable": true,
    "editable": true,
    "slideshow": {
     "slide_type": "slide"
    }
   },
   "source": [
    "### Reflection"
   ]
  },
  {
   "cell_type": "markdown",
   "id": "0cb273d0",
   "metadata": {
    "deletable": true,
    "editable": true,
    "slideshow": {
     "slide_type": "fragment"
    }
   },
   "source": [
    "- We've fit two models to the MNIST training set so far:\n",
    "    - $k$-nearest neighbors.\n",
    "    - Multinomial logistic regression."
   ]
  },
  {
   "cell_type": "markdown",
   "id": "b4167b42",
   "metadata": {
    "deletable": true,
    "editable": true,
    "slideshow": {
     "slide_type": "fragment"
    }
   },
   "source": [
    "- Both models achieved a test set accuracy above 90\\%."
   ]
  },
  {
   "cell_type": "markdown",
   "id": "e71a6ee6",
   "metadata": {
    "deletable": true,
    "editable": true,
    "slideshow": {
     "slide_type": "fragment"
    }
   },
   "source": [
    "- Both models are _slow_ in some sense:\n",
    "    - $k$-nearest neighbors is slow at classifying new images.\n",
    "    - Multinomial logistic regression is slow to train."
   ]
  },
  {
   "cell_type": "markdown",
   "id": "ec934156",
   "metadata": {
    "deletable": true,
    "editable": true,
    "slideshow": {
     "slide_type": "fragment"
    }
   },
   "source": [
    "- These issues, in part, stem from the fact that our design matrix has $28 \\cdot 28 = 784$ columns, i.e. 784 features:"
   ]
  },
  {
   "cell_type": "code",
   "execution_count": null,
   "id": "fdab06c7",
   "metadata": {
    "deletable": true,
    "editable": true
   },
   "outputs": [],
   "source": [
    "X_train"
   ]
  },
  {
   "cell_type": "markdown",
   "id": "dfdb7847",
   "metadata": {
    "deletable": true,
    "editable": true,
    "slideshow": {
     "slide_type": "fragment"
    }
   },
   "source": [
    "- Is there a way we could **reduce** the number of features we use, i.e. reduce the number of columns in the design matrix, and still achieve decent test set performance?"
   ]
  },
  {
   "cell_type": "markdown",
   "id": "6f953fec",
   "metadata": {
    "deletable": true,
    "editable": true,
    "slideshow": {
     "slide_type": "slide"
    }
   },
   "source": [
    "### Principal component analysis (PCA)"
   ]
  },
  {
   "cell_type": "markdown",
   "id": "ccfde885",
   "metadata": {
    "deletable": true,
    "editable": true,
    "slideshow": {
     "slide_type": "fragment"
    }
   },
   "source": [
    "- Principal component analysis (PCA) is an **unsupervised learning** technique used for **dimensionality reduction**."
   ]
  },
  {
   "cell_type": "markdown",
   "id": "5d03d66a",
   "metadata": {
    "deletable": true,
    "editable": true,
    "slideshow": {
     "slide_type": "fragment"
    }
   },
   "source": [
    "- It'll allow us to take:\n",
    "    - `X_train`, which has 60,000 rows and 784 columns, and transform it into\n",
    "    - `X_train_approx`, which has 60,000 rows and $p$ columns, where $p$ is as small as we want (e.g. $p = 2$)."
   ]
  },
  {
   "cell_type": "markdown",
   "id": "e5a9c4d5",
   "metadata": {
    "deletable": true,
    "editable": true,
    "slideshow": {
     "slide_type": "fragment"
    }
   },
   "source": [
    "- It creates $p$ **new features**, each of which is a linear combination of all existing 784 features.\n",
    "\n",
    "\n",
    "    $$\\text{new feature 1} = 0.05 \\cdot \\text{pixel 1} + 0.93 \\cdot \\text{pixel 2} + ... - \\: 0.35 \\cdot \\text{pixel 784}$$\n",
    "\n",
    "    $$\\text{new feature 2} = - 0.06 \\cdot \\text{pixel 1} + 0.5 \\cdot \\text{pixel 2} + ... + \\: 0.04 \\cdot \\text{pixel 784}$$\n",
    "\n",
    "    $$...$$\n",
    "\n",
    "\n",
    "    These new features are chosen to capture as much variability (information) in the original data as possible."
   ]
  },
  {
   "cell_type": "markdown",
   "id": "bbcf920b",
   "metadata": {
    "deletable": true,
    "editable": true,
    "slideshow": {
     "slide_type": "fragment"
    }
   },
   "source": [
    "- How? The details are out of scope for us, but it leverages the **singular value decomposition** from linear algebra:\n",
    "\n",
    "$$X = U \\Sigma V^T$$"
   ]
  },
  {
   "cell_type": "markdown",
   "id": "ac3d8bd9",
   "metadata": {
    "deletable": true,
    "editable": true,
    "slideshow": {
     "slide_type": "slide"
    }
   },
   "source": [
    "### PCA in `sklearn`"
   ]
  },
  {
   "cell_type": "markdown",
   "id": "3818e5de",
   "metadata": {
    "deletable": true,
    "editable": true,
    "slideshow": {
     "slide_type": "fragment"
    }
   },
   "source": [
    "- `sklearn` has an implementation of PCA, which operates like a **transformer**.<br><small>Remember, PCA is an **unsupervised** technique! We don't use the actual digit labels for each image when computing this transformation.</small>"
   ]
  },
  {
   "cell_type": "code",
   "execution_count": null,
   "id": "b5ee3300",
   "metadata": {
    "deletable": true,
    "editable": true
   },
   "outputs": [],
   "source": [
    "from sklearn.decomposition import PCA"
   ]
  },
  {
   "cell_type": "code",
   "execution_count": null,
   "id": "fd46129b",
   "metadata": {
    "deletable": true,
    "editable": true
   },
   "outputs": [],
   "source": [
    "pca = PCA(n_components=2)\n",
    "pca.fit(X_train)"
   ]
  },
  {
   "cell_type": "markdown",
   "id": "a670721c",
   "metadata": {
    "deletable": true,
    "editable": true,
    "slideshow": {
     "slide_type": "fragment"
    }
   },
   "source": [
    "- Once `fit`, `pca` can transform `X_train` into a **2-column matrix** in a way that retains the bulk of the information:\n",
    "\n",
    "$$\\mathbb{R}^{60000 \\times 784} \\rightarrow \\mathbb{R}^{60000 \\times 2}$$"
   ]
  },
  {
   "cell_type": "code",
   "execution_count": null,
   "id": "2adac4a8",
   "metadata": {
    "deletable": true,
    "editable": true
   },
   "outputs": [],
   "source": [
    "X_train_approx = pca.transform(X_train)\n",
    "X_train_approx.shape"
   ]
  },
  {
   "cell_type": "code",
   "execution_count": null,
   "id": "4b9806bf",
   "metadata": {
    "deletable": true,
    "editable": true
   },
   "outputs": [],
   "source": [
    "X_train_approx"
   ]
  },
  {
   "cell_type": "markdown",
   "id": "db37b2bf",
   "metadata": {
    "deletable": true,
    "editable": true,
    "slideshow": {
     "slide_type": "fragment"
    }
   },
   "source": [
    "- When each data point was 784-dimensional, we couldn't visualize our training set.<br>But now, each data point is 2-dimensional, which we can easily visualize with a scatter plot!"
   ]
  },
  {
   "cell_type": "markdown",
   "id": "03c79ebd",
   "metadata": {
    "deletable": true,
    "editable": true,
    "slideshow": {
     "slide_type": "slide"
    }
   },
   "source": [
    "### Visualizing principal components"
   ]
  },
  {
   "cell_type": "markdown",
   "id": "a75cb7e6",
   "metadata": {
    "deletable": true,
    "editable": true,
    "slideshow": {
     "slide_type": "fragment"
    }
   },
   "source": [
    "- The new features that PCA creates are called **principal components (PCs)**.<br><small>Note that the principal component values no longer correspond to pixel intensities, which used to range between 0 and 255.</small>"
   ]
  },
  {
   "cell_type": "markdown",
   "id": "24a6f6a6",
   "metadata": {
    "deletable": true,
    "editable": true,
    "slideshow": {
     "slide_type": "fragment"
    }
   },
   "source": [
    "- Plotting PC 2 vs. PC 1 doesn't lead to a ton of insight:"
   ]
  },
  {
   "cell_type": "code",
   "execution_count": null,
   "id": "6273df44",
   "metadata": {
    "deletable": true,
    "editable": true
   },
   "outputs": [],
   "source": [
    "util.show_2_pcs(X_train_approx, y_train)"
   ]
  },
  {
   "cell_type": "markdown",
   "id": "5f0e39a3",
   "metadata": {
    "deletable": true,
    "editable": true,
    "slideshow": {
     "slide_type": "slide"
    }
   },
   "source": [
    "### Clusters in principal components"
   ]
  },
  {
   "cell_type": "markdown",
   "id": "28e4bd41",
   "metadata": {
    "deletable": true,
    "editable": true,
    "slideshow": {
     "slide_type": "fragment"
    }
   },
   "source": [
    "- But what if we color each point by its true class?"
   ]
  },
  {
   "cell_type": "code",
   "execution_count": null,
   "id": "8148d6ff",
   "metadata": {
    "deletable": true,
    "editable": true
   },
   "outputs": [],
   "source": [
    "util.show_2_pcs(X_train_approx, y_train, color=True)"
   ]
  },
  {
   "cell_type": "markdown",
   "id": "b0a1b0b7",
   "metadata": {
    "deletable": true,
    "editable": true,
    "slideshow": {
     "slide_type": "fragment"
    }
   },
   "source": [
    "- **Key idea**: Even when projected onto just two principal components, the 0s tend to look alike, the 1s tend to look alike, and so on!"
   ]
  },
  {
   "cell_type": "markdown",
   "id": "c950a518",
   "metadata": {
    "deletable": true,
    "editable": true,
    "slideshow": {
     "slide_type": "fragment"
    }
   },
   "source": [
    "- This doesn't always happen when using PCA; use it as part of your exploratory data analysis toolkit."
   ]
  },
  {
   "cell_type": "markdown",
   "id": "980b39c8",
   "metadata": {
    "deletable": true,
    "editable": true,
    "slideshow": {
     "slide_type": "slide"
    }
   },
   "source": [
    "### PCA as a preprocessing step"
   ]
  },
  {
   "cell_type": "markdown",
   "id": "3471e2a9",
   "metadata": {
    "deletable": true,
    "editable": true,
    "slideshow": {
     "slide_type": "fragment"
    }
   },
   "source": [
    "- We can use PCA as part of a larger modeling pipeline. We've chosen a number of principal components to use in advance, but in practice we should cross-validate.\n",
    "\n",
    "$$\\text{raw data in }\\mathbb{R}^{60000 \\times 784} \\rightarrow \\text{transformed data in }\\mathbb{R}^{60000 \\times 30} \\rightarrow \\text{predicted probabilities}$$"
   ]
  },
  {
   "cell_type": "code",
   "execution_count": null,
   "id": "3270654c",
   "metadata": {
    "deletable": true,
    "editable": true
   },
   "outputs": [],
   "source": [
    "from sklearn.pipeline import make_pipeline\n",
    "model_pca_log = make_pipeline(\n",
    "    PCA(n_components=30),\n",
    "    LogisticRegression(multi_class='multinomial', penalty='l1', solver='saga')\n",
    ")\n",
    "model_pca_log"
   ]
  },
  {
   "cell_type": "markdown",
   "id": "6e7f2870",
   "metadata": {
    "deletable": true,
    "editable": true,
    "slideshow": {
     "slide_type": "fragment"
    }
   },
   "source": [
    "- The transformed data is of a much lower dimension than the raw data. As a result, **we can train – and predict – on the full training set very quickly**!"
   ]
  },
  {
   "cell_type": "code",
   "execution_count": null,
   "id": "3d806a49",
   "metadata": {
    "deletable": true,
    "editable": true
   },
   "outputs": [],
   "source": [
    "model_pca_log.fit(X_train, y_train)"
   ]
  },
  {
   "cell_type": "markdown",
   "id": "7f335587",
   "metadata": {
    "deletable": true,
    "editable": true,
    "slideshow": {
     "slide_type": "fragment"
    }
   },
   "source": [
    "- And the test set accuracy is still good!"
   ]
  },
  {
   "cell_type": "code",
   "execution_count": null,
   "id": "09fa8e7a",
   "metadata": {
    "deletable": true,
    "editable": true
   },
   "outputs": [],
   "source": [
    "model_pca_log.score(X_test, y_test)"
   ]
  },
  {
   "cell_type": "markdown",
   "id": "bda16ca5",
   "metadata": {
    "deletable": true,
    "editable": true,
    "slideshow": {
     "slide_type": "slide"
    }
   },
   "source": [
    "## Parting thoughts 👋\n",
    "\n",
    "---"
   ]
  },
  {
   "cell_type": "markdown",
   "id": "f91b86aa",
   "metadata": {
    "deletable": true,
    "editable": true,
    "slideshow": {
     "slide_type": "slide"
    }
   },
   "source": [
    "### You've accomplished a lot!"
   ]
  },
  {
   "cell_type": "markdown",
   "id": "17f77ca5",
   "metadata": {
    "deletable": true,
    "editable": true,
    "slideshow": {
     "slide_type": "fragment"
    }
   },
   "source": [
    "- You learned **a lot** this semester – you're now among **the most qualified data scientists in the world**!"
   ]
  },
  {
   "cell_type": "markdown",
   "id": "c150e1a0",
   "metadata": {
    "deletable": true,
    "editable": true,
    "slideshow": {
     "slide_type": "fragment"
    }
   },
   "source": [
    "- You're now **able to start with raw data and come up with accurate, meaningful insights that you can share with others**."
   ]
  },
  {
   "cell_type": "markdown",
   "id": "f3b8cf2e",
   "metadata": {
    "deletable": true,
    "editable": true,
    "slideshow": {
     "slide_type": "fragment"
    }
   },
   "source": [
    "- You know how to use industry-standard data manipulation tools, and you understand the inner-workings of complicated machine learning models."
   ]
  },
  {
   "cell_type": "markdown",
   "id": "f81b7d67",
   "metadata": {
    "deletable": true,
    "editable": true,
    "slideshow": {
     "slide_type": "fragment"
    }
   },
   "source": [
    "- You're well-prepared for internships and data science interviews, ready to create your own portfolio of personal projects, and have the background and maturity to succeed in more advanced data science-adjacent courses."
   ]
  },
  {
   "cell_type": "markdown",
   "id": "7889a61c",
   "metadata": {
    "deletable": true,
    "editable": true,
    "slideshow": {
     "slide_type": "fragment"
    }
   },
   "source": [
    "- Data science is a relatively new, rapidly evolving field, **so you'll need to keep evolving with it**."
   ]
  },
  {
   "cell_type": "markdown",
   "id": "ade1e3d1",
   "metadata": {
    "deletable": true,
    "editable": true,
    "slideshow": {
     "slide_type": "fragment"
    }
   },
   "source": [
    "- The tools of the trade may change, but the core principles won't – fortunately, you now have a strong foundation on which you can develop new skills."
   ]
  },
  {
   "cell_type": "markdown",
   "id": "74799ec6",
   "metadata": {
    "deletable": true,
    "editable": true,
    "slideshow": {
     "slide_type": "slide"
    }
   },
   "source": [
    "### Future of Practical Data Science"
   ]
  },
  {
   "cell_type": "markdown",
   "id": "b186adbb",
   "metadata": {
    "deletable": true,
    "editable": true,
    "slideshow": {
     "slide_type": "-"
    }
   },
   "source": [
    "- I've had a blast teaching this class this past year (and will be teaching it again this spring, starting on May 6th)."
   ]
  },
  {
   "cell_type": "markdown",
   "id": "f3ca53e3",
   "metadata": {
    "deletable": true,
    "editable": true,
    "slideshow": {
     "slide_type": "-"
    }
   },
   "source": [
    "- Next year, I'll be focusing on my new EECS 298: Mathematics for Machine Learning course, and won't be teaching Practical Data Science."
   ]
  },
  {
   "cell_type": "markdown",
   "id": "714ac190",
   "metadata": {
    "deletable": true,
    "editable": true,
    "slideshow": {
     "slide_type": "-"
    }
   },
   "source": [
    "- I'm hoping to offer Practical Data Science under a permanent course number the following year."
   ]
  },
  {
   "cell_type": "markdown",
   "id": "77ed9ff7",
   "metadata": {
    "deletable": true,
    "editable": true,
    "slideshow": {
     "slide_type": "slide"
    }
   },
   "source": [
    "<center><img src=\"imgs/transcript.png\" width=1000><br>My freshman year transcript.</center>"
   ]
  },
  {
   "cell_type": "markdown",
   "id": "cec37af0",
   "metadata": {
    "deletable": true,
    "editable": true,
    "slideshow": {
     "slide_type": "slide"
    }
   },
   "source": [
    "### Thank you, and keep in touch!"
   ]
  },
  {
   "cell_type": "markdown",
   "id": "023e03b7",
   "metadata": {
    "deletable": true,
    "editable": true,
    "slideshow": {
     "slide_type": "-"
    }
   },
   "source": [
    "- **Thank you** for signing up for this brand-new class!"
   ]
  },
  {
   "cell_type": "markdown",
   "id": "a427e6bc",
   "metadata": {
    "deletable": true,
    "editable": true,
    "slideshow": {
     "slide_type": "-"
    }
   },
   "source": [
    "- The course would not have been possible without our IAs and readers: Abhinav Attaluri, Hana Ahmed, Caleb Hyun, Angela Li, Pranavi Pratapa, Akanksha Rai, Aditya Ashok, In Lorthongpanich, and Jingrui Zhuang."
   ]
  },
  {
   "cell_type": "markdown",
   "id": "07d5eae8",
   "metadata": {
    "deletable": true,
    "editable": true,
    "slideshow": {
     "slide_type": "-"
    }
   },
   "source": [
    "- Don't be a stranger – our contact information is at [**practicaldsc.org/staff**](https://practicaldsc.org/staff). We want to hear about what you do after this class.<br><small>This semester's course website will remain online permanently at [practicaldsc.org/wn25](https://practicaldsc.org/wn25), so you can refer back to the content.</small>"
   ]
  }
 ],
 "metadata": {
  "celltoolbar": "None",
  "kernelspec": {
   "display_name": "Python 3 (ipykernel)",
   "language": "python",
   "name": "python3"
  },
  "language_info": {
   "codemirror_mode": {
    "name": "ipython",
    "version": 3
   },
   "file_extension": ".py",
   "mimetype": "text/x-python",
   "name": "python",
   "nbconvert_exporter": "python",
   "pygments_lexer": "ipython3",
   "version": "3.10.16"
  },
  "livereveal": {
   "scroll": true
  },
  "rise": {
   "transition": "none"
  }
 },
 "nbformat": 4,
 "nbformat_minor": 5
}
