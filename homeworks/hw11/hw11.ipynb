{
 "cells": [
  {
   "cell_type": "markdown",
   "id": "b315ef1c",
   "metadata": {},
   "source": [
    "<div class=\"alert alert-success\" markdown=\"1\">\n",
    "\n",
    "#### Homework 11\n",
    "\n",
    "# Logistic Regression\n",
    "\n",
    "### EECS 398: Practical Data Science, Winter 2025\n",
    "\n",
    "#### Due Friday, April 18th at 11:59PM\n",
    "    \n",
    "</div>"
   ]
  },
  {
   "cell_type": "markdown",
   "id": "f5635a29",
   "metadata": {
    "tags": []
   },
   "source": [
    "## Instructions\n",
    "\n",
    "Welcome to Homework 11, the final \"regular\" homework assignment of the semester! In this homework, you'll continue to solidify your understanding of logistic regression. This homework touches on ideas from Lectures 21 through 23.\n",
    "\n",
    "You are given **eight** slip days throughout the semester to extend deadlines. See the [Syllabus](https://practicaldsc.org/syllabus) for more details. With the exception of using slip days, late work will not be accepted unless you have made special arrangements with your instructor.\n",
    "\n",
    "To access this notebook, you'll need to clone our [public GitHub repository](https://github.com/practicaldsc/wn25/). The [Environment Setup](https://practicaldsc.org/env-setup) page on the course website walks you through the necessary steps.\n",
    "<div class=\"alert alert-warning\" markdown=\"1\">\n",
    "\n",
    "<div class=\"alert alert-warning\">\n",
    "\n",
    "This homework has just one written question and no autograded questions. All you will submit for this homework is one PDF.\n",
    "\n",
    "</div>\n",
    "</div>\n",
    "\n",
    "This homework is worth a total of **15 points**, all of which come from the written question. The number of points each question is worth is listed at the start of each question. Tip: if you're using Jupyter Lab, you can see a Table of Contents for the notebook by going to View > Table of Contents."
   ]
  },
  {
   "cell_type": "markdown",
   "id": "bad80c2e",
   "metadata": {},
   "source": [
    "## Question 1: Wall Street Logistics 💰\n",
    "\n",
    "---\n",
    "\n",
    "In this question, you'll strengthen your theoretical understanding of logistic regression, to complement your practical understanding of how to use it that was developed in Homework 10.\n",
    "\n",
    "WolverineExpress, a credit card company, has tasked you with building a classification model to predict whether or not customers will fail to pay their next credit card payment. You've decided to use logistic regression to build the classifier.\n",
    "\n",
    "For context, the first few rows of the dataset are given below, though you don't need any specific numbers from this DataFrame preview in the problem.\n",
    "\n",
    "<table border=\"1\" class=\"dataframe\">\n",
    "  <thead>\n",
    "    <tr style=\"text-align: right;\">\n",
    "      <th>education</th>\n",
    "      <th>marriage</th>\n",
    "      <th>age</th>\n",
    "      <th>failed payment</th>\n",
    "    </tr>\n",
    "  </thead>\n",
    "  <tbody>\n",
    "    <tr>\n",
    "      <td>1</td>\n",
    "      <td>1</td>\n",
    "      <td>40</td>\n",
    "      <td>1</td>\n",
    "    </tr>\n",
    "    <tr>\n",
    "      <td>1</td>\n",
    "      <td>2</td>\n",
    "      <td>23</td>\n",
    "      <td>0</td>\n",
    "    </tr>\n",
    "    <tr>\n",
    "      <td>2</td>\n",
    "      <td>1</td>\n",
    "      <td>36</td>\n",
    "      <td>0</td>\n",
    "    </tr>\n",
    "    <tr>\n",
    "      <td>3</td>\n",
    "      <td>1</td>\n",
    "      <td>54</td>\n",
    "      <td>0</td>\n",
    "    </tr>\n",
    "    <tr>\n",
    "      <td>1</td>\n",
    "      <td>1</td>\n",
    "      <td>35</td>\n",
    "      <td>0</td>\n",
    "    </tr>\n",
    "  </tbody>\n",
    "</table>\n",
    "\n",
    "The columns of the dataset are as follows:\n",
    "- `'education'`: 1 - graduate school; 2 - university; 3 - high school; 4 - other.\n",
    "- `'marriage'`: 1 - married; 2 - single; 3 - other.\n",
    "- `'age'`: customer age in years.\n",
    "\n",
    "Our target variable, `'failed payment'`, can have values of 0 (makes their next payment) or 1 (fails to make their next payment).\n",
    "\n",
    "You use the logistic regression model:\n",
    "\n",
    "$$P(y_i = 1 | \\vec{x}_i) = \\sigma(\\vec w \\cdot \\text{Aug}( \\vec x ) ) = \\sigma(w_0 + w_1 \\cdot \\text{education}_{i} + w_2 \\cdot \\text{marriage}_{i} + w_3 \\cdot \\text{age}_{i})$$\n",
    "\n",
    "Assume that the following value of $ \\vec{w}^*$ minimizes mean cross-entropy loss (without regularization) for this dataset: \n",
    "$$\\vec{w}^* = \\begin{bmatrix}-\\frac{5}{4} \\\\ \\frac{1}{6} \\\\ -\\frac{1}{10} \\\\ \\frac{1}{500}\\end{bmatrix}$$ \n",
    "\n",
    "Here, $-\\frac{5}{4}$ is the intercept term, $\\frac{1}{6}$ corresponds to `'education'`, $-\\frac{1}{10}$ corresponds to `'marriage'` status, and $\\frac{1}{500}$ corresponds to `'age'`."
   ]
  },
  {
   "cell_type": "markdown",
   "id": "a7d0e71f",
   "metadata": {},
   "source": [
    "<!-- BEGIN QUESTION -->\n",
    "\n",
    "### Question 1.1 [Written ✏️] <div style=\"display:inline-block; vertical-align: middle; padding:7px 7px; font-size:10px; font-weight:light; color:white; background-color:#e84c4a; border-radius:7px; text-align:left;\">2 Points</div>\n",
    "Consider a customer who is 50 years old, married, and only has a high school education.  Compute the chance that they fail to pay their next credit card payment.  Give your answer as a probability in terms of $\\sigma$."
   ]
  },
  {
   "cell_type": "markdown",
   "id": "8b224b7d",
   "metadata": {},
   "source": [
    "<!-- END QUESTION -->\n",
    "\n",
    "<!-- BEGIN QUESTION -->\n",
    "\n",
    "### Question 1.2 [Written ✏️] <div style=\"display:inline-block; vertical-align: middle; padding:7px 7px; font-size:10px; font-weight:light; color:white; background-color:#e84c4a; border-radius:7px; text-align:left;\">2 Points</div>\n",
    "This specific customer fortunately made their next payment on time!  Compute the cross-entropy loss of the prediction in Question 1.1.  Leave your answers in terms of $\\sigma$ and $\\log$."
   ]
  },
  {
   "cell_type": "markdown",
   "id": "7aef1f13",
   "metadata": {},
   "source": [
    "<!-- END QUESTION -->\n",
    "\n",
    "<!-- BEGIN QUESTION -->\n",
    "\n",
    "### Question 1.3 [Written ✏️] <div style=\"display:inline-block; vertical-align: middle; padding:7px 7px; font-size:10px; font-weight:light; color:white; background-color:#e84c4a; border-radius:7px; text-align:left;\">1 Point</div>\n",
    "How does a one year increase in `'age'` impact the **log-odds** of making a failed payment? Give a precise, numerical answer, not just \"it increases\" or \"it decreases.\""
   ]
  },
  {
   "cell_type": "markdown",
   "id": "2156fd65",
   "metadata": {},
   "source": [
    "<!-- END QUESTION -->\n",
    "\n",
    "<!-- BEGIN QUESTION -->\n",
    "\n",
    "### Question 1.4 [Written ✏️] <div style=\"display:inline-block; vertical-align: middle; padding:7px 7px; font-size:10px; font-weight:light; color:white; background-color:#e84c4a; border-radius:7px; text-align:left;\">3 Points</div>\n",
    "Let's consider all customers who are married and whose highest level of education is high school. What is the **minimum age** of such a customer, such that they more likely to fail their next payment than make their next payment, under our logistic regression model?"
   ]
  },
  {
   "cell_type": "markdown",
   "id": "5b2c2edd",
   "metadata": {},
   "source": [
    "<!-- END QUESTION -->\n",
    "\n",
    "<!-- BEGIN QUESTION -->\n",
    "\n",
    "### Question 1.5  [Written ✏️] <div style=\"display:inline-block; vertical-align: middle; padding:7px 7px; font-size:10px; font-weight:light; color:white; background-color:#e84c4a; border-radius:7px; text-align:left;\">3 Points</div>\n",
    "\n",
    "Suppose you choose a threshold $T = 0.8$. The decision boundary of the resulting classifier is of the form\n",
    "\n",
    "$$A \\cdot \\text{education}_{i} + B \\cdot \\text{marriage}_{i} + C \\cdot \\text{age}_{i} + D = 0$$\n",
    "\n",
    "What are the values of $A$, $B$, $C$, and $D$? Your answers may contain a $\\log$, but should not contain $\\sigma$. (If your answers do contain a $\\log$, don't try and simplify them to numbers.)"
   ]
  },
  {
   "cell_type": "markdown",
   "id": "495f6c6a",
   "metadata": {
    "tags": []
   },
   "source": [
    "<!-- END QUESTION -->\n",
    "\n",
    "<!-- BEGIN QUESTION -->\n",
    "\n",
    "### Question 1.6  [Written ✏️] <div style=\"display:inline-block; vertical-align: middle; padding:7px 7px; font-size:10px; font-weight:light; color:white; background-color:#e84c4a; border-radius:7px; text-align:left;\">2 Points</div>\n",
    "\n",
    "Suppose with the above threshold you achieve a training accuracy of 100%. Can you conclude your training data was linearly separable in the feature space? Answer yes or no, and explain in one sentence."
   ]
  },
  {
   "cell_type": "markdown",
   "id": "25ac92fe",
   "metadata": {},
   "source": [
    "<!-- END QUESTION -->\n",
    "\n",
    "<!-- BEGIN QUESTION -->\n",
    "\n",
    "### Question 1.7  [Written ✏️] <div style=\"display:inline-block; vertical-align: middle; padding:7px 7px; font-size:10px; font-weight:light; color:white; background-color:#e84c4a; border-radius:7px; text-align:left;\">2 Points</div>\n",
    "For whatever reason, we decide to multiply the `'education'` feature by 4 and `'age'` feature by 0.5 in our data. What is the new optimal parameter vector, $\\vec{w}^*_\\text{new}$ that minimizes mean cross-entropy loss (again, without regularization)? \n",
    "\n",
    "If you don't believe it's possible to tell, say so. For your convenience, the value of $\\vec{w}^*$ that minimized un-regularized mean cross-entropy loss on the original data was $\\vec{w}^* = \\begin{bmatrix}-\\frac{5}{4} \\\\ \\frac{1}{6} \\\\ -\\frac{1}{10} \\\\ \\frac{1}{500}\\end{bmatrix}$; here, $-\\frac{5}{4}$ is the intercept term, $\\frac{1}{6}$ corresponds to `'education'`, $-\\frac{1}{10}$ corresponds to `'marriage'` status, and $\\frac{1}{500}$ corresponds to `'age'`.\n",
    "\n",
    "Note: This part is independent of the previous parts, i.e. do not assume that we achieved a training accuracy of 100\\%."
   ]
  },
  {
   "cell_type": "markdown",
   "id": "75cdaa4c",
   "metadata": {},
   "source": [
    "<!-- END QUESTION -->\n",
    "\n",
    "## Finish Line 🏁\n",
    "\n",
    "Congratulations! You're ready to submit Homework 11. Remember that you only need to submit Homework 11 once:\n",
    "\n",
    "1. Make sure your answers **are not** in this notebook, but rather in a separate PDF.\n",
    "2. Submit this separate PDF to the **Homework 11** assignment on Gradescope, and **make sure to correctly select the pages associated with Question 1's parts**!\n",
    "3. Check that you have a confirmation email from Gradescope and save it as proof of your submission."
   ]
  }
 ],
 "metadata": {
  "kernelspec": {
   "display_name": "Python 3 (ipykernel)",
   "language": "python",
   "name": "python3"
  },
  "language_info": {
   "codemirror_mode": {
    "name": "ipython",
    "version": 3
   },
   "file_extension": ".py",
   "mimetype": "text/x-python",
   "name": "python",
   "nbconvert_exporter": "python",
   "pygments_lexer": "ipython3",
   "version": "3.10.14"
  }
 },
 "nbformat": 4,
 "nbformat_minor": 5
}
