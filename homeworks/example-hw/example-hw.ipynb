{
 "cells": [
  {
   "cell_type": "markdown",
   "id": "de8ae5aa",
   "metadata": {},
   "source": [
    "<div class=\"alert alert-success\" markdown=\"1\">\n",
    "\n",
    "#### Homework -1\n",
    "\n",
    "# Example Homework\n",
    "\n",
    "### EECS 398: Practical Data Science, Winter 2025\n",
    "\n",
    "#### **No Due Date**\n",
    "    \n",
    "</div>"
   ]
  },
  {
   "cell_type": "markdown",
   "id": "ba346ec4",
   "metadata": {},
   "source": [
    "## Instructions\n",
    "\n",
    "Welcome!\n",
    "\n",
    "**This is not a real assignment**, and is not due. Instead, it exists just to make sure you're able to access and run Jupyter Notebooks locally, along with all of the packages necessary for this class. It also walks you through how your work is autograded, both locally in your notebook and on Gradescope, and shows you how we present manually graded questions.\n",
    "\n",
    "To access this notebook, you'll need to clone our [public GitHub repository](https://github.com/practicaldsc/wn25/). The [⚙️ Environment Setup](https://practicaldsc.org/env-setup) page on the course website walks you through the necessary steps."
   ]
  },
  {
   "cell_type": "markdown",
   "id": "abcbb7ac",
   "metadata": {},
   "source": [
    "## Imports and Getting Started\n",
    "\n",
    "**To start, run the cell below**, either by clicking it and hitting `SHIFT + ENTER` on your keyboard or the Play ▶️ button in the toolbar at the top of the page.\n",
    "\n",
    "If it runs without an error, that's a great sign. All it's doing is importing several Python libraries and configuring our notebook so that it's ready to go for data analysis. If you'd like, you can open the file `lec_utils.py` – all of the code there is run when we run the cell below. \n",
    "\n",
    "(If it says \"Matplotlib is building the font cache; this may take a moment.\" don't worry.)"
   ]
  },
  {
   "cell_type": "code",
   "execution_count": null,
   "id": "8ad397cc",
   "metadata": {},
   "outputs": [],
   "source": [
    "from lec_utils import *"
   ]
  },
  {
   "cell_type": "markdown",
   "id": "8ee84f37",
   "metadata": {},
   "source": [
    "If everything was successful, you should see a `[1]` to the left of the cell above. This is telling us that the cell above is the first cell we've run so far. If you run the cell above again, the `[1]` will change to a `[2]`. Try it!"
   ]
  },
  {
   "cell_type": "markdown",
   "id": "9d62a31d",
   "metadata": {},
   "source": [
    "Now that all of our packages are loaded, we can use them!\n",
    "\n",
    "Run the cell below to load in a dataset containing the latitude and longitude of every state's capital."
   ]
  },
  {
   "cell_type": "code",
   "execution_count": null,
   "id": "9255c4fc",
   "metadata": {},
   "outputs": [],
   "source": [
    "capitals = pd.read_csv('data/us-state-capitals.csv')\n",
    "capitals.head()"
   ]
  },
  {
   "cell_type": "markdown",
   "id": "d64c2d2b",
   "metadata": {},
   "source": [
    "If you see a table above with 5 rows and 4 columns, you're in good shape. The table above is called a DataFrame, which is `pandas`' name for tables. `pandas` is a popular Python library in the data science ecosystem for working with **tab**ular data (that is, data that looks like a **tab**le).\n",
    "\n",
    "Note that the bolded values at the far left – that is, **0**, **1**, **2**, ..., – are **not part of a column**! Instead, the bolded values at the far left form the **index** of the DataFrame. We'll hear more about these in lecture.\n",
    "\n",
    "Where's Michigan? Above, we ran `capitals.head()`, which is showing us just the head, or first 5 rows, of the DataFrame. We can find the row corresponding to Michigan by **querying** for it:"
   ]
  },
  {
   "cell_type": "code",
   "execution_count": null,
   "id": "aa729509",
   "metadata": {},
   "outputs": [],
   "source": [
    "capitals[capitals['name'] == 'Michigan']"
   ]
  },
  {
   "cell_type": "markdown",
   "id": "9d2a583a",
   "metadata": {},
   "source": [
    "We can also do things like find the state whose capital is the furthest north:"
   ]
  },
  {
   "cell_type": "code",
   "execution_count": null,
   "id": "7aa24622",
   "metadata": {},
   "outputs": [],
   "source": [
    "capitals.sort_values('latitude', ascending=False)['name'].iloc[0]"
   ]
  },
  {
   "cell_type": "markdown",
   "id": "c25214ac",
   "metadata": {},
   "source": [
    "Or furthest east:"
   ]
  },
  {
   "cell_type": "code",
   "execution_count": null,
   "id": "b185a08a",
   "metadata": {},
   "outputs": [],
   "source": [
    "capitals.sort_values('longitude')['name'].iloc[-1]"
   ]
  },
  {
   "cell_type": "markdown",
   "id": "ff4d1ba4",
   "metadata": {},
   "source": [
    "We can also create powerful visualizations, like a map of the 50 states with a circle at each capital:"
   ]
  },
  {
   "cell_type": "code",
   "execution_count": null,
   "id": "1363d634",
   "metadata": {},
   "outputs": [],
   "source": [
    "fig = px.scatter_geo(capitals, lat='latitude', lon='longitude', hover_name='description')\n",
    "fig.update_layout(geo_scope='usa', template='plotly', title='Locations of US State Capitals')"
   ]
  },
  {
   "cell_type": "markdown",
   "id": "f9c6090b",
   "metadata": {},
   "source": [
    "Cool! Note that the map is interactive, meaning you can hover over each dot to see the name of the capital."
   ]
  },
  {
   "cell_type": "markdown",
   "id": "a1ee1704",
   "metadata": {},
   "source": [
    "## The Autograder\n",
    "\n",
    "Like you may have seen in other programming classes, most of your in this class will be autograded – that is, automatically graded by the computer. Autograded questions will say **[Autograded 💻]** in the title. Theoretical questions that ask you to do math will be graded manually by our graders, and will say **[Written ✏]** in the title. **You will submit your answers to autograded and written questions to two _separate_ Gradescope assignments**, which means that you'll submit most homeworks twice.\n",
    "\n",
    "The Python module we'll be using for autograding is called [Otter Grader](https://otter-grader.readthedocs.io/en/latest/), and it was developed by Berkeley specifically for use in data science classes like ours. Run the cell below to import `otter` and initialize it for this notebook. In most homeworks, this cell will be the very first cell in your notebook."
   ]
  },
  {
   "cell_type": "code",
   "execution_count": null,
   "id": "93c590bc",
   "metadata": {},
   "outputs": [],
   "source": [
    "import otter\n",
    "grader = otter.Notebook(\"example-hw.ipynb\")"
   ]
  },
  {
   "cell_type": "markdown",
   "id": "053c7aae",
   "metadata": {},
   "source": [
    "Let's work through a few example questions to get a feel for how it works."
   ]
  },
  {
   "cell_type": "markdown",
   "id": "6b8c138f",
   "metadata": {},
   "source": [
    "### Question 1: Seconds in an Hour [Autograded 💻] <div style=\"display:inline-block; vertical-align: middle; padding:7px 7px; font-size:10px; font-weight:light; color:white; background-color:#e84c4a; border-radius:7px; text-align:left;\">2 Points</div>\n",
    "\n",
    "Below, you should see a question, a place to write your answer, and another cell containing `grader.check('q1')`. Running this last cell will check your answer to the question. If it's wrong, you'll see an error message. Try putting in a really small number, like 15, just to see what happens.\n",
    "\n",
    "Assign `seconds_in_an_hour` to the number of seconds in an hour."
   ]
  },
  {
   "cell_type": "code",
   "execution_count": null,
   "id": "0552f3cd",
   "metadata": {
    "tags": []
   },
   "outputs": [],
   "source": [
    "seconds_in_an_hour = ...\n",
    "seconds_in_an_hour"
   ]
  },
  {
   "cell_type": "code",
   "execution_count": null,
   "id": "0791ce87",
   "metadata": {
    "deletable": false,
    "editable": false
   },
   "outputs": [],
   "source": [
    "grader.check(\"q1\")"
   ]
  },
  {
   "cell_type": "markdown",
   "id": "f0db1af6",
   "metadata": {},
   "source": [
    "### Question 2: Furthest South Capital [Autograded 💻] <div style=\"display:inline-block; vertical-align: middle; padding:7px 7px; font-size:10px; font-weight:light; color:white; background-color:#e84c4a; border-radius:7px; text-align:left;\">2 Points</div>\n",
    "\n",
    "Unlike the question above, most questions we ask you will involve writing multiple lines of code. You're always free to define intermediate variables before the final answer, as long as your final answer is assigned to the correct variable name.\n",
    "\n",
    "Typically, the tests that you have access to in your notebook only verify that your answer is of the right data type and on the right track. These tests **will not** guarantee that your answer is correct. We will run hidden tests on your code once you submit to Gradescope. Here's an example of how that may work.\n",
    "\n",
    "Assign `state_capital_furthest_south` to the name of the state whose capital is furthest south. You **shouldn't** hard-code the answer – that is, don't type `'Texas'` if you think the answer is Texas – rather, you should use Python code to arrive at the answer. (Note that we already did something very similar right before we drew the map above – you can start with that code.) "
   ]
  },
  {
   "cell_type": "code",
   "execution_count": null,
   "id": "60cb1233",
   "metadata": {
    "tags": []
   },
   "outputs": [],
   "source": [
    "state_capital_furthest_south = ...\n",
    "state_capital_furthest_south"
   ]
  },
  {
   "cell_type": "code",
   "execution_count": null,
   "id": "eafd70d2",
   "metadata": {
    "deletable": false,
    "editable": false
   },
   "outputs": [],
   "source": [
    "grader.check(\"q2\")"
   ]
  },
  {
   "cell_type": "markdown",
   "id": "9bc9b777",
   "metadata": {},
   "source": [
    "Notice above that no matter what state you give as your answer, `grader.check('q2')` tells you your answer passes all of the test cases. (Try putting `'Michigan'` as your answer and see what happens.) That's because we're only verifying that your answer is indeed a state, but not necessarily the correct state. When you submit this notebook to Gradescope, it'll verify that your answer is actually correct."
   ]
  },
  {
   "cell_type": "markdown",
   "id": "1ed340c0",
   "metadata": {},
   "source": [
    "### Question 3: First Letter [Autograded 💻] <div style=\"display:inline-block; vertical-align: middle; padding:7px 7px; font-size:10px; font-weight:light; color:white; background-color:#e84c4a; border-radius:7px; text-align:left;\">3 Points</div>\n",
    "\n",
    "Often, you'll be asked to define a function rather than a standalone variable. In such questions, our test cases will assess the behavior of your function on various inputs, including edge cases. Here's one such question.\n",
    "\n",
    "Complete the implementation of the function `starts_with`, which takes in `letter`, a string of length one, and returns a list containing the names of all the states whose first letter is `letter`, in any order. If there are no states that begin with `letter`, return the string `'No such states'`. Example behavior is shown below.\n",
    "\n",
    "```python\n",
    ">>> starts_with('P')\n",
    "['Pennsylvania']\n",
    "\n",
    ">>> starts_with('A')\n",
    "['Alabama', 'Alaska', 'Arizona', 'Arkansas']\n",
    "\n",
    ">>> starts_with('X')\n",
    "'No such states'\n",
    "```\n",
    "\n",
    "Note that you're not supposed to already know how to do this! Try if you'd like, and if you get stuck, click the box below to see the answer. You're welcome to create additional cells above the one below to experiment with code on the way to writing your solution.\n",
    "\n",
    "<details>\n",
    "    <summary><b><span style=\"background-color: #FFCB05; color: #00274C\">Click me</span> to see the solution, which you can copy-paste into the function definition below.</summary>\n",
    "\n",
    "```python\n",
    "    names = capitals['name']\n",
    "    names_starting = list(names[names.str[0] == letter])\n",
    "    if len(names_starting) == 0:\n",
    "        print('No such states')\n",
    "    return names_starting\n",
    "```\n",
    "\n",
    "</details>"
   ]
  },
  {
   "cell_type": "code",
   "execution_count": null,
   "id": "fa6ec91c",
   "metadata": {
    "tags": []
   },
   "outputs": [],
   "source": [
    "def starts_with(letter):\n",
    "    ...\n",
    "\n",
    "# Feel free to change this input to make sure your function works correctly.\n",
    "starts_with('P')"
   ]
  },
  {
   "cell_type": "code",
   "execution_count": null,
   "id": "eddbb741",
   "metadata": {
    "deletable": false,
    "editable": false
   },
   "outputs": [],
   "source": [
    "grader.check(\"q3\")"
   ]
  },
  {
   "cell_type": "markdown",
   "id": "4750a295",
   "metadata": {},
   "source": [
    "When you fail a test case, it's a good idea to run parts of the test case yourself to see what your code's output was supposed to be. For example, if you're failing the test:\n",
    "\n",
    "```python\n",
    "set(starts_with('A')) == {'Alabama', 'Alaska', 'Arizona', 'Arkansas'}\n",
    "```\n",
    "\n",
    "above, then in your notebook, you should run:\n",
    "\n",
    "```python\n",
    "set(starts_with('A'))\n",
    "```"
   ]
  },
  {
   "cell_type": "markdown",
   "id": "6da1c9ce",
   "metadata": {},
   "source": [
    "## Written Questions\n",
    "\n",
    "We'll often ask you to answer theoretical questions to assess your understanding of the math underlying various data science techniques. Such questions will say **[Written ✏️]** in the title. \n",
    "\n",
    "You will **not** answer these questions in the homework Jupyter Notebook; instead, you'll answer them somewhere else and submit a PDF of your answers to written questions to a separate Gradescope assignment. You can create this PDF either digitally, using your tablet or using [Overleaf + LaTeX](https://overleaf.com) (or some other sort of digital document), or by writing your answers on a piece of paper and scanning them in.\n",
    "\n",
    "An example of such a question is given below.\n",
    "\n",
    "**Make sure to show your work for all written questions! Answers without work shown may not receive full credit.**"
   ]
  },
  {
   "cell_type": "markdown",
   "id": "c4b2f596",
   "metadata": {},
   "source": [
    "### Question 4 [Written ✏️] <div style=\"display:inline-block; vertical-align: middle; padding:7px 7px; font-size:10px; font-weight:light; color:white; background-color:#e84c4a; border-radius:7px; text-align:left;\">3 Points</div>\n",
    "\n",
    "Suppose $\\vec x = \\begin{bmatrix} 1 \\\\ 2 \\\\ -3 \\end{bmatrix}$ and $\\vec y = \\begin{bmatrix} 0 \\\\ 1 \\\\ 2 \\end{bmatrix}$. Find the angle between $\\vec x$ and $\\vec y$. Show your work."
   ]
  },
  {
   "cell_type": "markdown",
   "id": "d268d076",
   "metadata": {},
   "source": [
    "## Finish Line 🏁\n",
    "\n",
    "Congratulations! You're ready to submit the Example Homework. Again, this isn't required, but it's a good idea to walk through this before Homework 1 rolls around. (We've copied the submission instructions from a typical homework so that you're familiar with what they look like.)\n",
    "\n",
    "You need to submit the example homework twice:\n",
    "\n",
    "### To submit the manually graded problems (Question 4; marked [Written ✏️])\n",
    "\n",
    "- Make sure your answers **are not** in this notebook, but rather in a separate PDF.\n",
    "    - You can create this PDF either digitally, using your tablet or using [Overleaf + LaTeX](https://overleaf.com) (or some other sort of digital document), or by writing your answers on a piece of paper and scanning them in.\n",
    "- Submit this separate PDF to the **Example Homework (Question 4; written problems; not actually due)** assignment on Gradescope, and **make sure to correctly select the pages associated with each question**!\n",
    "\n",
    "### To submit the autograded problems (Questions 1-3; marked [Autograded 💻])\n",
    "\n",
    "1. Select `Kernel -> Restart & Run All` to ensure that you have executed all cells, including the test cells.\n",
    "2. Read through the notebook to make sure everything is fine and all tests passed.\n",
    "3. Run the cell below to run all tests, and make sure that they all pass.\n",
    "4. Download your notebook using `File -> Download as -> Notebook (.ipynb)`, then upload your notebook to Gradescope under \"Example Homework (Questions 1-3; autograded problems; not actually due)\".\n",
    "5. Stick around while the Gradescope autograder grades your work.\n",
    "6. Check that you have a confirmation email from Gradescope and save it as proof of your submission.\n",
    "\n",
    "Your Example Homework submission time will be the **later** of your two individual submissions."
   ]
  }
 ],
 "metadata": {
  "kernelspec": {
   "display_name": "Python 3 (ipykernel)",
   "language": "python",
   "name": "python3"
  },
  "language_info": {
   "codemirror_mode": {
    "name": "ipython",
    "version": 3
   },
   "file_extension": ".py",
   "mimetype": "text/x-python",
   "name": "python",
   "nbconvert_exporter": "python",
   "pygments_lexer": "ipython3",
   "version": "3.10.16"
  },
  "otter": {
   "tests": {
    "q1": {
     "name": "q1",
     "points": 2,
     "suites": [
      {
       "cases": [
        {
         "code": ">>> isinstance(seconds_in_an_hour, int)\nTrue",
         "hidden": false,
         "locked": false
        },
        {
         "code": ">>> seconds_in_an_hour > 3000\nTrue",
         "failure_message": "Your answer is too small!",
         "hidden": false,
         "locked": false
        },
        {
         "code": ">>> seconds_in_an_hour == 3600\nTrue",
         "hidden": false,
         "locked": false,
         "success_message": "Nice job!"
        }
       ],
       "scored": true,
       "setup": "",
       "teardown": "",
       "type": "doctest"
      }
     ]
    },
    "q2": {
     "name": "q2",
     "points": 2,
     "suites": [
      {
       "cases": [
        {
         "code": ">>> isinstance(state_capital_furthest_south, str)\nTrue",
         "hidden": false,
         "locked": false
        },
        {
         "code": ">>> state_capital_furthest_south in set(capitals['name'])\nTrue",
         "failure_message": "Answer is not a valid state.",
         "hidden": false,
         "locked": false
        }
       ],
       "scored": true,
       "setup": "",
       "teardown": "",
       "type": "doctest"
      }
     ]
    },
    "q3": {
     "name": "q3",
     "points": 3,
     "suites": [
      {
       "cases": [
        {
         "code": ">>> callable(starts_with)\nTrue",
         "hidden": false,
         "locked": false
        },
        {
         "code": ">>> isinstance(starts_with('A'), list)\nTrue",
         "failure_message": "starts_with('A') does not return a list.",
         "hidden": false,
         "locked": false
        },
        {
         "code": ">>> set(starts_with('A')) == {'Alabama', 'Alaska', 'Arizona', 'Arkansas'}\nTrue",
         "failure_message": "Incorrect output for input 'A'.",
         "hidden": false,
         "locked": false
        }
       ],
       "scored": true,
       "setup": "",
       "teardown": "",
       "type": "doctest"
      }
     ]
    }
   }
  }
 },
 "nbformat": 4,
 "nbformat_minor": 5
}
