{
 "cells": [
  {
   "cell_type": "code",
   "execution_count": null,
   "id": "98988c89",
   "metadata": {
    "deletable": false,
    "editable": false
   },
   "outputs": [],
   "source": [
    "# Initialize Otter\n",
    "import otter\n",
    "grader = otter.Notebook(\"hw01.ipynb\")"
   ]
  },
  {
   "cell_type": "markdown",
   "id": "91671f2b",
   "metadata": {},
   "source": [
    "<div class=\"alert alert-success\" markdown=\"1\">\n",
    "\n",
    "#### Homework 1\n",
    "\n",
    "# Python Fundamentals\n",
    "\n",
    "### EECS 398: Practical Data Science, Winter 2025\n",
    "\n",
    "#### Due Friday, January 17th at 11:59PM\n",
    "    \n",
    "</div>"
   ]
  },
  {
   "cell_type": "markdown",
   "id": "e3c74c87",
   "metadata": {},
   "source": [
    "## Instructions\n",
    "\n",
    "Welcome to Homework 1! In this homework, you will practice with core features of the Python language, including defining functions, writing conditional statements and loops, and working with lists and strings. You'll also gain experience in reading documentation to figure out how to work with unfamiliar libraries. Finally, you'll practice writing proofs that involve summations, which will be crucial in the coming weeks as we aim to understand the math behind machine learning.\n",
    "\n",
    "You are given 8 slip days throughout the semester to extend deadlines. See the [Syllabus](https://practicaldsc.org/syllabus) for more details. With the exception of using slip days, late work will not be accepted unless you have made special arrangements with your instructor.\n",
    "\n",
    "To access this notebook, you'll need to clone our [public GitHub repository](https://github.com/practicaldsc/wn25/). The [Environment Setup](https://practicaldsc.org/env-setup) page on the course website walks you through the necessary steps. Once you're done, you'll submit your completed notebook to Gradescope.\n",
    "\n",
    "<div class=\"alert alert-warning\">\n",
    "This homework features a mix of autograded programming questions and manually-graded questions.\n",
    "\n",
    "- Question 5 is **manually graded**, and its parts say **[Written ✏️]** in their titles. For this question, **do not write your answers in this notebook**! Instead, write **all** of your answers in a separate PDF. You can create this PDF either digitally, using your tablet or using [Overleaf + LaTeX](https://overleaf.com) (or some other sort of digital document), or by writing your answers on a piece of paper and scanning them in. Submit this separate PDF to the **Homework 1 (Question 5; written problems)** assignment on Gradescope, and **make sure to correctly select the pages associated with each question**! Make sure to show your work for all written questions, as answers without work shown may not receive full credit.\n",
    "    \n",
    "- Questions 1-4 are **fully autograded**, and say **[Autograded 💻]** in the title. For these questions, all you need to is write your code in this notebook, run the local `grader.check` tests, and submit to the **Homework 1 (Questions 1-4; autograder problems)** assignment on Gradescope to have your code graded by the hidden autograder. Remember that the public `grader.check` tests in your notebook are not comprehensive, and that your work will also be graded on hidden test cases on Gradescope after the submission deadline.\n",
    "    \n",
    "Your Homework 1 submission time will be the **later** of your two individual submissions. Please start early and submit often. You can submit as many times as you'd like to Gradescope, and we'll take your **most recent** submission. \n",
    "</div>\n",
    "</div>\n",
    "    \n",
    "This homework is worth a total of **48 points**, 9 of which are manually graded and 39 of which come from the autograder. The number of points each question is worth is listed at the start of each question. **All questions in the assignment are independent, so feel free to move around if you get stuck**, but keep in mind that you'll need to submit this homework twice – one submission for your written problems, and one submission for your autograded problems. Tip: if you're using Jupyter Lab, you can see a Table of Contents for the notebook by going to View > Table of Contents.\n",
    "\n",
    "\n",
    "To get started, run the import cell below."
   ]
  },
  {
   "cell_type": "code",
   "execution_count": null,
   "id": "07e1c6c4",
   "metadata": {},
   "outputs": [],
   "source": [
    "import numpy as np\n",
    "from IPython.display import HTML, YouTubeVideo, clear_output\n",
    "from ipywidgets import interact"
   ]
  },
  {
   "cell_type": "markdown",
   "id": "458e55cc",
   "metadata": {},
   "source": [
    "<div class=\"alert alert-info\">\n",
    "\n",
    "If you've never used Python before (and you're not expected to have), this homework may appear to be challenging! Don't worry – we're covering Python in detail in Discussion 1 and Lecture 2.\n",
    "\n",
    "</div>"
   ]
  },
  {
   "cell_type": "markdown",
   "id": "b6d106cc",
   "metadata": {},
   "source": [
    "## Question 1: Death and Taxes 💰💸\n",
    "\n",
    "---\n",
    "\n",
    "The United States, like many countries, uses a progressive tax bracket system. This means that as your earnings increase, the percentage of your earnings you owe in tax also increases. In addition, the US tax system uses marginal tax brackets – what this means is that US taxpayers pay different tax percentages on different \"chunks\" of their earnings.\n",
    "\n",
    "Taxes for 2024 will be due on April 15th, 2025. Let's suppose the tax brackets for the 2024 tax year for single filers are defined by the table below. These are close to the actual brackets, but for simplicity's sake we'll use 5 brackets instead of 7. \n",
    "\n",
    "| Tax Bracket | Taxable Income |\n",
    "| --- | --- |\n",
    "| 10% | [$0, \\\\$11,000] |\n",
    "| 12% | (\\\\$11,000, \\\\$44,725] |\n",
    "| 22% | (\\\\$44,725, \\\\$95,375] |\n",
    "| 24% | (\\\\$95,375, \\\\$182,100] |\n",
    "| 32% | Over \\\\$182,100 |\n",
    "\n",
    "**You will need to use these numbers throughout Question 1.**\n",
    "\n",
    "A few notes:\n",
    "- The notation $(a, b]$ means \"greater than $a$ and less than or equal to $b$\". For example, someone with a taxable income of \\\\$44,725 is in the 12% bracket, but someone with a taxable income of \\\\$44,725.01 is in the 22% bracket. For simplicity, we will only test your code on integer values of taxable income.\n",
    "- \"Taxable income\" refers to the part of one's income that is taxable; in the US there is what's known as a \"standard deduction\" which can be thought of as a discount on your taxes. Here, we won't worry about deductions.\n",
    "\n",
    "If someone has a taxable income of \\\\$75,000, we say they are in the 22% tax bracket. However, such an individual doesn't owe 22% of \\\\$75,000 in taxes. Instead, they owe:\n",
    "- 10% of \\\\$11,000, **plus**\n",
    "- 12% of \\\\$33,725 (which is \\\\$44,725 - \\\\$11,000), **plus**\n",
    "- 22% of \\\\$30,275 (which is \\\\$75,000 - \\\\$44,725).\n",
    "\n",
    "More concretely, their tax owed is:\n",
    "$$0.1 \\cdot \\$11{,}000 + 0.12 \\cdot \\$33{,}725 + 0.22 \\cdot \\$30{,}275 = \\$11{,}807.50.$$ \n",
    "\n",
    "This makes their **effective tax rate**:\n",
    "$$\\frac{\\$11{,}807.50}{\\$75{,}000} = 0.15743,$$\n",
    "or 15.743\\%, because they wound up having to pay 15.743\\% of their taxable income in taxes. We will give effective tax rates as percentages, rounded to three decimal places.\n",
    "\n",
    "If you want to read more about the US federal income tax system, click [here](https://www.taxpolicycenter.org/briefing-book/how-do-federal-income-tax-rates-work)."
   ]
  },
  {
   "cell_type": "markdown",
   "id": "4000dd52",
   "metadata": {},
   "source": [
    "### Question 1.1 [Autograded 💻] <div style=\"display:inline-block; vertical-align: middle; padding:7px 7px; font-size:10px; font-weight:light; color:white; background-color:#e84c4a; border-radius:7px; text-align:left;\">3 Points</div>\n",
    "\n",
    "Complete the implementation of the function `tax_bracket`, which takes in a taxable income, `income`, and returns the tax bracket it is in, as a **proportion**. Assume that `income` is a non-negative integer. Example behavior is given below.\n",
    "\n",
    "```python\n",
    ">>> tax_bracket(75000)\n",
    "0.22\n",
    "\n",
    ">>> tax_bracket(402150)\n",
    "0.32\n",
    "```\n",
    "\n",
    "For your convenience, the tax bracket table is shown again below.\n",
    "\n",
    "| Tax Bracket | Taxable Income |\n",
    "| --- | --- |\n",
    "| 10% | [$0, \\\\$11,000] |\n",
    "| 12% | (\\\\$11,000, \\\\$44,725] |\n",
    "| 22% | (\\\\$44,725, \\\\$95,375] |\n",
    "| 24% | (\\\\$95,375, \\\\$182,100] |\n",
    "| 32% | Over \\\\$182,100 |"
   ]
  },
  {
   "cell_type": "code",
   "execution_count": null,
   "id": "91ac44e2",
   "metadata": {
    "tags": []
   },
   "outputs": [],
   "source": [
    "def tax_bracket(income):\n",
    "    ...\n",
    "\n",
    "# Feel free to change this input to make sure your function works correctly.\n",
    "tax_bracket(75000)"
   ]
  },
  {
   "cell_type": "code",
   "execution_count": null,
   "id": "1ed66b74",
   "metadata": {
    "deletable": false,
    "editable": false
   },
   "outputs": [],
   "source": [
    "grader.check(\"q01_01\")"
   ]
  },
  {
   "cell_type": "markdown",
   "id": "1ce7c65f",
   "metadata": {},
   "source": [
    "<div class=\"alert alert-info\">\n",
    "\n",
    "***Tip***: If you're failing one of the test cases above, run the test case code yourself! For instance, if you're failing the test case `tax_bracket(999_999) == 0.32`, run `tax_bracket(999_999)` yourself and see what your output is.\n",
    "\n",
    "</div>"
   ]
  },
  {
   "cell_type": "markdown",
   "id": "83d78952",
   "metadata": {},
   "source": [
    "### Question 1.2 [Autograded 💻] <div style=\"display:inline-block; vertical-align: middle; padding:7px 7px; font-size:10px; font-weight:light; color:white; background-color:#e84c4a; border-radius:7px; text-align:left;\">5 Points</div>\n",
    "\n",
    "Complete the implementation of the function `tax_owed`, which takes in a taxable income, `income`, and returns the amount of tax owed by an individual with that taxable income. Assume that `income` is a non-negative integer. Example behavior is given below.\n",
    "\n",
    "```python\n",
    ">>> tax_owed(75000)\n",
    "11807.5\n",
    "```\n",
    "\n",
    "For your convenience, the tax bracket table is shown again below.\n",
    "\n",
    "| Tax Bracket | Taxable Income |\n",
    "| --- | --- |\n",
    "| 10% | [$0, \\\\$11,000] |\n",
    "| 12% | (\\\\$11,000, \\\\$44,725] |\n",
    "| 22% | (\\\\$44,725, \\\\$95,375] |\n",
    "| 24% | (\\\\$95,375, \\\\$182,100] |\n",
    "| 32% | Over \\\\$182,100 |\n",
    "\n",
    "Below are some suggested steps to break down this problem into manageable chunks.\n",
    "1. Make sure you understand the example calculating the tax owed on \\\\$75,000 of taxable income. \n",
    "2. Once you're sure you understand the given example calculation, then calculate the tax owed for a different taxable income, say \\\\$152,000, by hand. \n",
    "3. In a blank cell in your notebook, write Python code to compute the tax owed for \\\\$152,000 in taxable income and verify you get the same answer as when you did it by hand. \n",
    "4. Once you have that working, write the more general function and test it on a variety of inputs.\n",
    "\n",
    "Note that you should not round your final answer!"
   ]
  },
  {
   "cell_type": "code",
   "execution_count": null,
   "id": "f46c1d63",
   "metadata": {
    "tags": []
   },
   "outputs": [],
   "source": [
    "def tax_owed(income):\n",
    "    ...\n",
    "\n",
    "# Feel free to change this input to make sure your function works correctly.\n",
    "tax_owed(75000)"
   ]
  },
  {
   "cell_type": "code",
   "execution_count": null,
   "id": "be13d2e7",
   "metadata": {
    "deletable": false,
    "editable": false
   },
   "outputs": [],
   "source": [
    "grader.check(\"q01_02\")"
   ]
  },
  {
   "cell_type": "markdown",
   "id": "451f9657",
   "metadata": {},
   "source": [
    "### Question 1.3 [Autograded 💻] <div style=\"display:inline-block; vertical-align: middle; padding:7px 7px; font-size:10px; font-weight:light; color:white; background-color:#e84c4a; border-radius:7px; text-align:left;\">2 Points</div>\n",
    "\n",
    "Finally, complete the implementation of `effective_tax_rate`, which takes in a taxable income, `income`, and returns the effective tax rate for an individual with that taxable income, as a **percentage** rounded to three decimal places. Here, `income` is still an integer, but don't assume that `income` is non-negative; if it is less than or equal to 0, return `0`. Example behavior is given below.\n",
    "\n",
    "```python\n",
    ">>> effective_tax_rate(75000)\n",
    "15.743\n",
    "\n",
    "# If income is <= 0, return 0.\n",
    ">>> effective_tax_rate(-15)\n",
    "0\n",
    "```"
   ]
  },
  {
   "cell_type": "code",
   "execution_count": null,
   "id": "7c2c3b2f",
   "metadata": {
    "tags": []
   },
   "outputs": [],
   "source": [
    "def effective_tax_rate(income):\n",
    "    ..."
   ]
  },
  {
   "cell_type": "code",
   "execution_count": null,
   "id": "216c5e89",
   "metadata": {
    "deletable": false,
    "editable": false
   },
   "outputs": [],
   "source": [
    "grader.check(\"q01_03\")"
   ]
  },
  {
   "cell_type": "markdown",
   "id": "6d4508de",
   "metadata": {},
   "source": [
    "### Fun Demo 💰\n",
    "\n",
    "You just did all of the math necessary to build an income tax calculator, like the ones you see on many financial websites. Run the following cell once you've completed the rest of this question!"
   ]
  },
  {
   "cell_type": "code",
   "execution_count": null,
   "id": "5c76ae38",
   "metadata": {},
   "outputs": [],
   "source": [
    "# Don't worry about the code, just play with the slider that appears after running.\n",
    "def plot_income_calculator(income):\n",
    "    s = f'''\n",
    "    <h1>EECS 398 Tax Calculator 💰💸</h1>\n",
    "    <h3>{'${:,.2f}'.format(income)}</h3>\n",
    "    Taxable Income\n",
    "    \n",
    "    <h2>{'${:,.2f}'.format(tax_owed(income))}</h2>\n",
    "    Tax Owed\n",
    "    \n",
    "    <h3>{'{:,.1f}'.format((effective_tax_rate(income))) + '%'}</h3>\n",
    "    Effective Tax Rate\n",
    "    \n",
    "    '''\n",
    "    display(HTML(s))\n",
    "    \n",
    "interact(plot_income_calculator, income=(0, 200000, 1000));"
   ]
  },
  {
   "cell_type": "markdown",
   "id": "7a2442f3",
   "metadata": {
    "slideshow": {
     "slide_type": "slide"
    }
   },
   "source": [
    "## Question 2: String Theory 🧵\n",
    "\n",
    "---\n",
    "\n",
    "In this question, you'll practice working with strings in Python. It's a good idea to review the Strings section of [Discussion 1](https://github.com/practicaldsc/wn25/blob/main/discussions/disc01/disc01.ipynb) before proceeding. The three parts of this question are independent."
   ]
  },
  {
   "cell_type": "markdown",
   "id": "6d1a14f8",
   "metadata": {},
   "source": [
    "### Question 2.1 [Autograded 💻] <div style=\"display:inline-block; vertical-align: middle; padding:7px 7px; font-size:10px; font-weight:light; color:white; background-color:#e84c4a; border-radius:7px; text-align:left;\">2 Points</div>\n",
    "\n",
    "Complete the implementation of the function `is_ing`, which takes in a string `s` and returns `True` if `s` ends in \"ing\" and `False` otherwise. Example behavior is given below.\n",
    "\n",
    "```python\n",
    ">>> is_ing('running')\n",
    "True\n",
    "\n",
    "# Not case sensitive!\n",
    ">>> is_ing('eatInG')\n",
    "True\n",
    "\n",
    ">>> is_ing('science')\n",
    "False\n",
    "\n",
    ">>> is_ing('25')\n",
    "False\n",
    "```"
   ]
  },
  {
   "cell_type": "code",
   "execution_count": null,
   "id": "9ff23c1a",
   "metadata": {
    "tags": []
   },
   "outputs": [],
   "source": [
    "def is_ing(s):\n",
    "    ...\n",
    "\n",
    "# Feel free to change this input to make sure your function works correctly.\n",
    "is_ing('running')"
   ]
  },
  {
   "cell_type": "code",
   "execution_count": null,
   "id": "4c0f019c",
   "metadata": {
    "deletable": false,
    "editable": false
   },
   "outputs": [],
   "source": [
    "grader.check(\"q02_01\")"
   ]
  },
  {
   "cell_type": "markdown",
   "id": "5793c2f5",
   "metadata": {},
   "source": [
    "### Question 2.2 [Autograded 💻] <div style=\"display:inline-block; vertical-align: middle; padding:7px 7px; font-size:10px; font-weight:light; color:white; background-color:#e84c4a; border-radius:7px; text-align:left;\">3 Points</div>\n",
    "\n",
    "Complete the implementation of the function `pump`, which takes in a string `base` and integer `rep` and returns a string with the same first and last characters as `base`, and with everything except the first and last characters in `base` repeated `rep` times. Example behavior is given below.\n",
    "\n",
    "```python\n",
    ">>> pump('zebra', 4)\n",
    "'zebrebrebrebra'\n",
    "\n",
    "# If base is <= 2 characters long, return base.\n",
    ">>> pump('hi', 2)\n",
    "'hi'\n",
    "```"
   ]
  },
  {
   "cell_type": "code",
   "execution_count": null,
   "id": "0a79c314",
   "metadata": {
    "tags": []
   },
   "outputs": [],
   "source": [
    "def pump(base, rep):\n",
    "    ...\n",
    "\n",
    "# Feel free to change this input to make sure your function works correctly.\n",
    "pump('zebra', 4)"
   ]
  },
  {
   "cell_type": "code",
   "execution_count": null,
   "id": "841ac36f",
   "metadata": {
    "deletable": false,
    "editable": false
   },
   "outputs": [],
   "source": [
    "grader.check(\"q02_02\")"
   ]
  },
  {
   "cell_type": "markdown",
   "id": "32667b99",
   "metadata": {},
   "source": [
    "### Question 2.3 [Autograded 💻] <div style=\"display:inline-block; vertical-align: middle; padding:7px 7px; font-size:10px; font-weight:light; color:white; background-color:#e84c4a; border-radius:7px; text-align:left;\">4 Points</div>\n",
    "\n",
    "Complete the implementation of the function `n_prefixes`, which takes in a string `s` and a positive integer `n`, and returns a string containing the first `n` consecutive prefixes of `s` in reverse order. Example behavior is given below.\n",
    "\n",
    "```python\n",
    ">>> n_prefixes('Billy!', 4)\n",
    "'BillBilBiB'\n",
    "\n",
    ">>> n_prefixes('Michigan', 3)\n",
    "'MicMiM'\n",
    "```\n",
    "\n",
    "Let's take a closer look at the first example above. The consecutive prefixes of `'Billy!'` are:\n",
    "- `'B'`\n",
    "- `'Bi'`\n",
    "- `'Bil'`\n",
    "- `'Bill'`\n",
    "- `'Billy'`\n",
    "- `'Billy!'`\n",
    "\n",
    "The first 4 of these are `'B'`, `'Bi'`, `'Bil'`, and `'Bill'`. If we combine these 4 in reverse order, we get `'BillBilBiB'`, which is what `n_prefixes('Billy!', 4)` should return.\n",
    "\n",
    "You may assume that `n <= len(s)`."
   ]
  },
  {
   "cell_type": "code",
   "execution_count": null,
   "id": "0ae08e3a",
   "metadata": {
    "tags": [
     "to-py"
    ]
   },
   "outputs": [],
   "source": [
    "def n_prefixes(s, n):\n",
    "    ...\n",
    "\n",
    "# Feel free to change this input to make sure your function works correctly.\n",
    "n_prefixes('Billy!', 4)"
   ]
  },
  {
   "cell_type": "code",
   "execution_count": null,
   "id": "ffdb9291",
   "metadata": {
    "deletable": false,
    "editable": false
   },
   "outputs": [],
   "source": [
    "grader.check(\"q02_03\")"
   ]
  },
  {
   "cell_type": "markdown",
   "id": "17b06415",
   "metadata": {},
   "source": [
    "## Question 3: Fun with Loops 🔁\n",
    "\n",
    "---\n",
    "\n",
    "In this question, you'll work through a few separate questions that involve writing loops in Python, both `for`-loops and `while`-loops. The three parts of this question are independent. If you're a bit stuck on how to proceed, you may want to wait until Lecture 2."
   ]
  },
  {
   "cell_type": "markdown",
   "id": "6baf7df4",
   "metadata": {},
   "source": [
    "### Question 3.1 [Autograded 💻] <div style=\"display:inline-block; vertical-align: middle; padding:7px 7px; font-size:10px; font-weight:light; color:white; background-color:#e84c4a; border-radius:7px; text-align:left;\">5 Points</div>\n",
    "\n",
    "Before we get started, observe the behavior in the cell below:"
   ]
  },
  {
   "cell_type": "code",
   "execution_count": null,
   "id": "d06ccf6b",
   "metadata": {},
   "outputs": [],
   "source": [
    "def my_function(stuff):\n",
    "    print(stuff + 2)\n",
    "    print('hey' * stuff)\n",
    "    return (stuff + 0.1) ** 2\n",
    "\n",
    "my_function(6)"
   ]
  },
  {
   "cell_type": "markdown",
   "id": "ece89e8a",
   "metadata": {},
   "source": [
    "- The values `8` and `'heyheyheyheyheyhey'` are **printed**, because we used the `print` function to display them within the body of `my_function`. No numbers appear in square brackets to the left of these values.\n",
    "- The value `37.2099999999` is displayed, even though we didn't explicitly ask for it to be displayed. That's because it's the value of the last expression in the cell, i.e. it is what the function `my_function` returned when called on the input `6`. Note a value in square brackets to the left of it, e.g. `[55]`.\n",
    "\n",
    "Keep this in mind as you work through this question, as you'll have to `print` some values and `return` other values in the function you define."
   ]
  },
  {
   "cell_type": "markdown",
   "id": "89ddd461",
   "metadata": {},
   "source": [
    "Now, run the following cell and watch the video that pops up. It's short."
   ]
  },
  {
   "cell_type": "code",
   "execution_count": null,
   "id": "fdf6e94b",
   "metadata": {},
   "outputs": [],
   "source": [
    "YouTubeVideo('m4CjXk_b8zo', width=600, height=300)"
   ]
  },
  {
   "cell_type": "markdown",
   "id": "a0002a2f",
   "metadata": {},
   "source": [
    "The video above describes the [Collatz conjecture](https://en.wikipedia.org/wiki/Collatz_conjecture), which says the following:\n",
    "\n",
    "1. Pick a positive integer `n` as the start.\n",
    "2. If `n` is even, divide it by 2.\n",
    "3. If `n` is odd, multiply it by 3 and add 1.\n",
    "4. Continue this process until `n` is 1.\n",
    "\n",
    "The number `n` will travel up and down but eventually end at 1 (at least for all numbers that have ever been tried – nobody has ever proved that the sequence will terminate). Analogously, a hailstone travels up and down in the atmosphere before eventually landing on earth, which is why this sequence is sometimes called the **hailstone sequence**.\n",
    "\n",
    "For instance, if we start with $n = 10$:\n",
    "\n",
    "$$10 \\rightarrow 5 \\rightarrow 16 \\rightarrow 8 \\rightarrow 4 \\rightarrow 2 \\rightarrow 1$$\n",
    "\n",
    "So, **for $n = 10$, we'd say the hailstone sequence is of length 7.**\n",
    "\n",
    "Complete the implementation of the function `hailstone`, which takes in a positive integer `n`, **prints** out the hailstone sequence starting at `n` (including `n` and `1`), and **returns** the **length** of the sequence. Example behavior is given below.\n",
    "\n",
    "```python\n",
    "In  [5]: hailstone(10)\n",
    "         10\n",
    "         5\n",
    "         16\n",
    "         8\n",
    "         4\n",
    "         2\n",
    "         1\n",
    "Out [5]: 7\n",
    "```\n",
    "\n",
    "Note that the `[5]` above is arbitrary; what's meant to be highlighted is the fact that the numbers 10, 5, 16, ..., 1 are being printed, but the value of `hailstone(10)` is `7`.\n",
    "\n",
    "It's a good idea to write out the hailstone sequence for an arbitrary number by hand on paper to make sure you understand how it works."
   ]
  },
  {
   "cell_type": "code",
   "execution_count": null,
   "id": "2a8303b4",
   "metadata": {
    "tags": []
   },
   "outputs": [],
   "source": [
    "def hailstone(n):\n",
    "    # Tip: You can make cells above this one to experiment!\n",
    "    ...\n",
    "\n",
    "# Feel free to change this input to make sure your function works correctly.\n",
    "hailstone(10)"
   ]
  },
  {
   "cell_type": "code",
   "execution_count": null,
   "id": "89e80107",
   "metadata": {
    "deletable": false,
    "editable": false
   },
   "outputs": [],
   "source": [
    "grader.check(\"q03_01\")"
   ]
  },
  {
   "cell_type": "markdown",
   "id": "fbab7d19",
   "metadata": {},
   "source": [
    "### Question 3.2 [Autograded 💻] <div style=\"display:inline-block; vertical-align: middle; padding:7px 7px; font-size:10px; font-weight:light; color:white; background-color:#e84c4a; border-radius:7px; text-align:left;\">4 Points</div>\n",
    "\n",
    "In math, the word \"alternating\" is sometimes used to indicate that the signs of the elements of a sequence oscillate, or \"bounce\", back and forth between positive and negative.\n",
    "\n",
    "Complete the implementation of the function `alternating_sign_mean`, which takes in a list of positive numbers, `values`, and computes the mean of **_every_ element** in the original list with **alternating signs**, starting with a positive sign for the element at position 0, a negative sign for the element at position 1, and so on. Example behavior is shown below.\n",
    "\n",
    "```python\n",
    ">>> alternating_sign_mean([3, 2, 9.5])\n",
    "3.5 # Comes from (3 + (-2) + 9.5) / 3.\n",
    "\n",
    ">>> alternating_sign_mean([3, 2.5, 7, 6.5])\n",
    "0.25 # Comes from (3 + (-2.5) + 7 + (-6.5)) / 4.\n",
    "```\n",
    "\n",
    "Note that you **should not** use any additional packages (e.g. `math`, `numpy`) in your solution – everything should be done using base Python."
   ]
  },
  {
   "cell_type": "code",
   "execution_count": null,
   "id": "cb8504b5",
   "metadata": {
    "tags": []
   },
   "outputs": [],
   "source": [
    "def alternating_sign_mean(values):\n",
    "    ...\n",
    "    \n",
    "# Feel free to change this input to make sure your function works correctly.\n",
    "alternating_sign_mean([3, 2, 9.5])"
   ]
  },
  {
   "cell_type": "code",
   "execution_count": null,
   "id": "a948eaee",
   "metadata": {
    "deletable": false,
    "editable": false
   },
   "outputs": [],
   "source": [
    "grader.check(\"q03_02\")"
   ]
  },
  {
   "cell_type": "markdown",
   "id": "4e41c78e",
   "metadata": {},
   "source": [
    "### Question 3.3 [Autograded 💻] <div style=\"display:inline-block; vertical-align: middle; padding:7px 7px; font-size:10px; font-weight:light; color:white; background-color:#e84c4a; border-radius:7px; text-align:left;\">5 Points</div>\n",
    "\n",
    "Suppose we are waiters at a restaurant, and we keep track of the tips that we receive in a given night. Specifically, we store in a list the first names of our customers along with the tip that they gave, like so:\n",
    "\n",
    "```python\n",
    "[name_1, tip_1, name_2, tip_2, name_3, tip_3, ...]\n",
    "```\n",
    "\n",
    "Names are strings, while tips are non-negative numbers, either `int` or `float`.\n",
    "\n",
    "Complete the implementation of the function `big_tippers`, which takes in a list `tips` as described above and returns only the names of the customers who tipped **strictly more** than the average tip. Example behavior is given below.\n",
    "\n",
    "```python\n",
    ">>> tips = ['yutong', 15, 'kyle', 9, 'pranavi', 19]\n",
    ">>> big_tippers(tips)\n",
    "['yutong', 'pranavi']\n",
    "```\n",
    "\n",
    "In the example above, the average tip is $\\frac{15 + 9 + 19}{3} = 14.33$, and both `'yutong'` and `'pranavi'` tipped more than that, so your function should return `['yutong', 'pranavi']`.\n",
    "\n",
    "You may assume that `tips` is well-formed, i.e. has an even, positive number of entries, in the correct order. Also assume that customer names are unique, i.e. that there are no duplicate tippers.\n",
    "\n",
    "Note that you **should not** use any additional packages (e.g. `math`, `numpy`) in your solution – everything should be done using base Python."
   ]
  },
  {
   "cell_type": "code",
   "execution_count": null,
   "id": "1ead8914",
   "metadata": {
    "tags": []
   },
   "outputs": [],
   "source": [
    "def big_tippers(tips):\n",
    "    ...\n",
    "\n",
    "# Feel free to change this input to make sure your function works correctly.\n",
    "big_tippers(['yutong', 15, 'kyle', 9, 'pranavi', 19])"
   ]
  },
  {
   "cell_type": "code",
   "execution_count": null,
   "id": "35095d8c",
   "metadata": {
    "deletable": false,
    "editable": false
   },
   "outputs": [],
   "source": [
    "grader.check(\"q03_03\")"
   ]
  },
  {
   "cell_type": "markdown",
   "id": "cc5f0854",
   "metadata": {},
   "source": [
    "## Question 4: Plotly 📈 [Autograded 💻] <div style=\"display:inline-block; vertical-align: middle; padding:7px 7px; font-size:10px; font-weight:light; color:white; background-color:#e84c4a; border-radius:7px; text-align:left;\">6 Points</div>\n",
    "\n",
    "---\n",
    "\n",
    "As a data scientist, you're often going to have to work with unfamiliar libraries. In this final part of the homework, you're going to familiarize yourself with `plotly`, a library for making interactive visualizations in Python. `plotly` is the library we used to make the bar charts and line charts in [Lecture 1](https://practicaldsc.org/resources/lectures/lec01/lec01-filled.html#How-many-babies-were-recorded-in-the-dataset-each-year?). We'll gain more exposure to using `plotly` for data analysis specifically in lecture and future homeworks, but in this question, you'll learn how to use it for a different (but related) purpose: graphing functions. We'll use it as an opportunity to review key concepts from calculus, too.\n",
    "\n",
    "Run the cell below to load in the necessary `plotly` modules (there are a few)."
   ]
  },
  {
   "cell_type": "code",
   "execution_count": null,
   "id": "cdebc965",
   "metadata": {},
   "outputs": [],
   "source": [
    "import plotly.express as px\n",
    "import plotly.graph_objects as go"
   ]
  },
  {
   "cell_type": "markdown",
   "id": "5182da31",
   "metadata": {},
   "source": [
    "First, let's walk through an example. Consider the function $f(x)$:\n",
    "\n",
    "$$f(x) = x^2 - 12x + 3$$\n",
    "\n",
    "$f$ is a degree-2 polynomial, and has the shape of a parabola. To plot a graph of $f$, we could use the following code:"
   ]
  },
  {
   "cell_type": "code",
   "execution_count": null,
   "id": "8c3f763b",
   "metadata": {
    "scrolled": true
   },
   "outputs": [],
   "source": [
    "def f(x):\n",
    "    return x**2 - 12 * x + 3\n",
    "\n",
    "xs = np.linspace(-10, 30)\n",
    "ys = f(xs)\n",
    "\n",
    "fig = px.line(x=xs, y=ys, width=600, template='simple_white')\n",
    "fig.add_trace(go.Scatter(x=[20], y=[163], mode='markers', marker=dict(color='red'), name='Random Point'))"
   ]
  },
  {
   "cell_type": "markdown",
   "id": "3f154b8a",
   "metadata": {},
   "source": [
    "There are many ways you can customize a `plotly` graph. Some features are customized by setting various [keyword arguments](https://www.w3schools.com/python/gloss_python_function_keyword_arguments.asp) in the `px.<plot type>` function when you call it, and others are customized by using `fig.add_trace`, `fig.update_traces`, or `fig.update_layout` on the resulting `fig` object afterwards. Here, we used `fig.add_trace` to add a particular point to the plot.\n",
    "\n",
    "Remember that in a Jupyter Notebook, you can view the documentation (including the possible arguments) for a function inline. To see the documentation, run `function?`, where function is the name of the function."
   ]
  },
  {
   "cell_type": "code",
   "execution_count": null,
   "id": "f8e87d4f",
   "metadata": {},
   "outputs": [],
   "source": [
    "px.line?"
   ]
  },
  {
   "cell_type": "markdown",
   "id": "8eb59a5a",
   "metadata": {},
   "source": [
    "To see possible functions in a module, you can use tab to autocomplete. Check out what happens when you hit tab in the cell below."
   ]
  },
  {
   "cell_type": "code",
   "execution_count": null,
   "id": "78f67bcb",
   "metadata": {},
   "outputs": [],
   "source": [
    "px."
   ]
  },
  {
   "cell_type": "markdown",
   "id": "64ecf2d0",
   "metadata": {},
   "source": [
    "And once you've picked a function, and you're exploring the various keyword arguments it supports, you can use tab to get suggestions as well:\n",
    "\n",
    "<center><img src=\"imgs/tab.png\" width=200></center>\n",
    "\n",
    "With that said, it's time for your job."
   ]
  },
  {
   "cell_type": "markdown",
   "id": "b563e6dc",
   "metadata": {},
   "source": [
    "Below, assign `polyfig` to a `plotly` Figure object, corresponding to the graph of the following polynomial:\n",
    "\n",
    "$$g(x) = 2x^3 - 15x^2 + 36x - 5$$\n",
    "\n",
    "You can choose the colors, theme, etc. of your graph yourself. However, your graph must have:\n",
    "\n",
    "- A title of your choosing.\n",
    "- A plot of $g(x)$.\n",
    "- An $x$-axis range of 1 to 4.\n",
    "- A width of 800 and a height of 600.\n",
    "- On top of the plot of $g(x)$, two **points**: one at the local maximum of $g(x)$ and one at the local minimum of $g(x)$. **You'll need to do some math to figure out where these are!** These should appear in the legend as `'Local Maximum'` and `'Local Minimum'`, respectively, and should be colored with different colors.\n",
    "- A legend whose title says `'Legend'`.\n",
    "\n",
    "You can get pretty far by copying the code we gave a few cells above to create $f(x)$, but you'll need to do some research to figure out how to achieve the goals we set out.\n",
    "\n",
    "Yes, this question is also autograded! Unlike Questions 1-3, this question has no hidden tests, so you'll be able to verify if your graph meets our requirements before you submit."
   ]
  },
  {
   "cell_type": "code",
   "execution_count": null,
   "id": "46e06a30",
   "metadata": {
    "tags": []
   },
   "outputs": [],
   "source": [
    "polyfig = ..."
   ]
  },
  {
   "cell_type": "code",
   "execution_count": null,
   "id": "a60467b0",
   "metadata": {
    "deletable": false,
    "editable": false
   },
   "outputs": [],
   "source": [
    "grader.check(\"q04\")"
   ]
  },
  {
   "cell_type": "markdown",
   "id": "9b729968",
   "metadata": {},
   "source": [
    "## Question 5: Imputation 🕳️\n",
    "\n",
    "---\n",
    "\n",
    "When dealing with real, messy datasets, we often run into **missing values**, also known as null values. Values may be missing for any number of reasons, e.g. the data was corrupted, the data was never recorded, or the data never existed in the first place. As data scientists, we'll often need to fill in, or **impute**, these missing values ourselves, so that we can use the entire dataset for further analysis.\n",
    "\n",
    "A common imputation technique is **mean imputation**, where all missing values are filled in with the mean, or average, of observed values. We define the mean of a collection of numbers $y_1, y_2, ..., y_n$ as follows:\n",
    "\n",
    "$$\\text{Mean}(y_1, y_2, ..., y_n) = \\frac{y_1 + y_2 + ... + y_n}{n}$$\n",
    "\n",
    "To illustrate, consider the array `vals` defined below:"
   ]
  },
  {
   "cell_type": "code",
   "execution_count": null,
   "id": "023cbf1c",
   "metadata": {},
   "outputs": [],
   "source": [
    "vals = np.array([3, np.nan, 10, 15, 9, 0, np.nan, 11, 8])\n",
    "vals"
   ]
  },
  {
   "cell_type": "markdown",
   "id": "2331fb4b",
   "metadata": {},
   "source": [
    "`vals` has 9 values total, but 2 of them are missing (denoted by `np.nan`; \"nan\" stands for \"not a number\", and is how missing values are represented in `numpy`, a package we'll learn more about in Lecture 3). The mean of the 7 observed values is:\n",
    "\n",
    "$$\\frac{3+10+15+9+0+11+8}{7} = 8$$\n",
    "\n",
    "So, using mean imputation, we'd fill in the two missing values with 8."
   ]
  },
  {
   "cell_type": "code",
   "execution_count": null,
   "id": "cc50bdee",
   "metadata": {},
   "outputs": [],
   "source": [
    "vals_imputed = np.array([3, 8, 10, 15, 9, 0, 8, 11, 8])\n",
    "vals_imputed"
   ]
  },
  {
   "cell_type": "markdown",
   "id": "b25596db",
   "metadata": {},
   "source": [
    "The main premise of this question is, how does `vals` compare to `vals_imputed`? More generally, what happens to the **mean** and **standard deviation** of an array of numbers after you perform mean imputation? We define the standard deviation of a collection of numbers $y_1, y_2, ..., y_n$ as follows:\n",
    "\n",
    "$$\\text{SD}(y_1, y_2, ..., y_n) = \\sqrt{\\frac{1}{n} \\sum_{i = 1}^n \\big(y_i - \\text{Mean}(y_1, y_2, ..., y_n)\\big)^2}$$\n",
    "\n",
    "For some empirical evidence, let's compare the means and standard deviations of `vals` pre- and post-imputation. When computing the mean and standard deviation of `vals` pre-imputation, we'll ignore the missing values and compute everything just using the observed values."
   ]
  },
  {
   "cell_type": "code",
   "execution_count": null,
   "id": "3f4baa0e",
   "metadata": {},
   "outputs": [],
   "source": [
    "print('Statistics pre-imputation:')\n",
    "print(f'mean: {np.nanmean(vals)}, SD: {np.nanstd(vals)}') # nanmean/nanstd are needed since vals has null values."
   ]
  },
  {
   "cell_type": "code",
   "execution_count": null,
   "id": "ba79e4f2",
   "metadata": {},
   "outputs": [],
   "source": [
    "print('Statistics post-imputation:')\n",
    "print(f'mean: {np.mean(vals_imputed)}, SD: {np.std(vals_imputed)}')"
   ]
  },
  {
   "cell_type": "markdown",
   "id": "81e2e62c",
   "metadata": {},
   "source": [
    "It appears that the means pre-imputation and post-imputation are the same, but the standard deviation **decreased** after mean imputation. Is the mean always guaranteed to be the same after performing mean imputation? And what is the relationship between the standard deviation pre-imputation, $\\approx 4.65986$, and the standard deviation post-imputation, $\\approx 4.10961$?\n",
    "\n",
    "In this question, we will mathematically **prove** the relationships we're seeing above in more generality, to better understand the properties of mean imputation. This will also give us practice with manipulating equations involving summations and squares, which we'll need to do a lot to understand the machinery behind machine learning."
   ]
  },
  {
   "cell_type": "markdown",
   "id": "f1db742e",
   "metadata": {},
   "source": [
    "<!-- BEGIN QUESTION -->\n",
    "\n",
    "### Question 5.1 [Written ✏️] <div style=\"display:inline-block; vertical-align: middle; padding:7px 7px; font-size:10px; font-weight:light; color:white; background-color:#e84c4a; border-radius:7px; text-align:left;\">4 Points</div>\n",
    "\n",
    "Consider a collection of $n$ numbers, $y_1, y_2, ..., y_n$ with mean $M$ and standard deviation $S$, using the definitions from earlier in the question.\n",
    "\n",
    "Suppose we introduce $k$ new values to the dataset, $y_{n+1}, y_{n+2}, ... , y_{n+k}$, all of which are equal to $M$. (This is like mean imputation. Suppose the full dataset had $n + k$ values, with $n$ observed/not missing and $k$ missing, and we imputed the $k$ missing values with the mean of the observed, $M$.)\n",
    "\n",
    "Let the new mean and standard deviation of all $n+k$ values be $M'$ and $S'$, respectively.\n",
    "\n",
    "**Prove that $M' = M$.** \n",
    "\n",
    "It's not sufficient to provide a verbal argument. Instead, start with the definition of $\\displaystyle M' = \\frac{1}{n+k} \\sum_{i = 1}^{n + k} y_i$, separate the sum, and use properties of summations to show that it is equal to $M$."
   ]
  },
  {
   "cell_type": "markdown",
   "id": "8f3d493f",
   "metadata": {},
   "source": [
    "<!-- END QUESTION -->\n",
    "\n",
    "<!-- BEGIN QUESTION -->\n",
    "\n",
    "### Question 5.2 [Written ✏️] <div style=\"display:inline-block; vertical-align: middle; padding:7px 7px; font-size:10px; font-weight:light; color:white; background-color:#e84c4a; border-radius:7px; text-align:left;\">5 Points</div>\n",
    "\n",
    "Find an expression for $S'$ in terms of $M$, $n$, $k$, and $S$. Show your work.\n",
    "\n",
    "Some guidance: \n",
    "- You may not need to use all of these variables in your answer.\n",
    "- To verify your answer is correct, plug in $M = 8$, $n = 7$, $k = 2$, and $S = 4.65986$. The answer you get should be approximately $4.10961$, as we saw at the start of the question."
   ]
  },
  {
   "cell_type": "markdown",
   "id": "9a836fd0",
   "metadata": {},
   "source": [
    "<!-- END QUESTION -->\n",
    "\n",
    "## Finish Line 🏁\n",
    "\n",
    "Congratulations! You're ready to submit Homework 1.\n",
    "\n",
    "You need to submit Homework 1 twice:\n",
    "\n",
    "### To submit the manually graded problems (Question 5; marked [Written ✏️])\n",
    "\n",
    "- Make sure your answers **are not** in this notebook, but rather in a separate PDF.\n",
    "    - You can create this PDF either digitally, using your tablet or using [Overleaf + LaTeX](https://overleaf.com) (or some other sort of digital document), or by writing your answers on a piece of paper and scanning them in.\n",
    "- Submit this separate PDF to the **Homework 1 (Question 5; written problems)** assignment on Gradescope, and **make sure to correctly select the pages associated with each question**!\n",
    "\n",
    "### To submit the autograded problems (Questions 1-4; marked [Autograded 💻])\n",
    "\n",
    "1. Select `Kernel -> Restart & Run All` to ensure that you have executed all cells, including the test cells.\n",
    "2. Read through the notebook to make sure everything is fine and all tests passed.\n",
    "3. Run the cell below to run all tests, and make sure that they all pass.\n",
    "4. Download your notebook using `File -> Download as -> Notebook (.ipynb)`, then upload your notebook to Gradescope under **Homework 1 (Questions 1-4; autograded problems)**.\n",
    "5. Stick around while the Gradescope autograder grades your work.\n",
    "6. Check that you have a confirmation email from Gradescope and save it as proof of your submission.\n",
    "\n",
    "Your Homework 1 submission time will be the **later** of your two individual submissions."
   ]
  }
 ],
 "metadata": {
  "kernelspec": {
   "display_name": "Python 3 (ipykernel)",
   "language": "python",
   "name": "python3"
  },
  "language_info": {
   "codemirror_mode": {
    "name": "ipython",
    "version": 3
   },
   "file_extension": ".py",
   "mimetype": "text/x-python",
   "name": "python",
   "nbconvert_exporter": "python",
   "pygments_lexer": "ipython3",
   "version": "3.10.16"
  },
  "otter": {
   "tests": {
    "q01_01": {
     "name": "q01_01",
     "points": 3,
     "suites": [
      {
       "cases": [
        {
         "code": ">>> tax_bracket(11000) == 0.10\nTrue",
         "failure_message": "Incorrect tax bracket for income of $11,000.",
         "hidden": false,
         "locked": false
        },
        {
         "code": ">>> tax_bracket(100_000) == 0.24\nTrue",
         "failure_message": "Incorrect tax bracket for income of $100,000.",
         "hidden": false,
         "locked": false
        }
       ],
       "scored": true,
       "setup": "",
       "teardown": "",
       "type": "doctest"
      }
     ]
    },
    "q01_02": {
     "name": "q01_02",
     "points": 5,
     "suites": [
      {
       "cases": [
        {
         "code": ">>> np.isclose(tax_owed(75000), 11807.50)\nTrue",
         "failure_message": "Incorrect tax owed for income of $75,000.",
         "hidden": false,
         "locked": false
        },
        {
         "code": ">>> np.isclose(tax_owed(39), 3.9)\nTrue",
         "failure_message": "Incorrect tax owed for income of $39.",
         "hidden": false,
         "locked": false
        }
       ],
       "scored": true,
       "setup": "",
       "teardown": "",
       "type": "doctest"
      }
     ]
    },
    "q01_03": {
     "name": "q01_03",
     "points": 2,
     "suites": [
      {
       "cases": [
        {
         "code": ">>> np.isclose(effective_tax_rate(75000), 15.743)\nTrue",
         "hidden": false,
         "locked": false
        },
        {
         "code": ">>> effective_tax_rate(-1) == 0\nTrue",
         "failure_message": "Remember that the if the input is negative, effective_tax_rate should return 0!",
         "hidden": false,
         "locked": false
        }
       ],
       "scored": true,
       "setup": "",
       "teardown": "",
       "type": "doctest"
      }
     ]
    },
    "q02_01": {
     "name": "q02_01",
     "points": 2,
     "suites": [
      {
       "cases": [
        {
         "code": ">>> is_ing('running')\nTrue",
         "hidden": false,
         "locked": false
        },
        {
         "code": ">>> is_ing('eatInG')\nTrue",
         "hidden": false,
         "locked": false
        },
        {
         "code": ">>> not is_ing('science')\nTrue",
         "hidden": false,
         "locked": false
        },
        {
         "code": ">>> not is_ing('25')\nTrue",
         "hidden": false,
         "locked": false
        }
       ],
       "scored": true,
       "setup": "",
       "teardown": "",
       "type": "doctest"
      }
     ]
    },
    "q02_02": {
     "name": "q02_02",
     "points": 3,
     "suites": [
      {
       "cases": [
        {
         "code": ">>> pump('zebra', 4) == 'zebrebrebrebra'\nTrue",
         "hidden": false,
         "locked": false
        },
        {
         "code": ">>> pump('hi', 2) == 'hi'\nTrue",
         "hidden": false,
         "locked": false
        }
       ],
       "scored": true,
       "setup": "",
       "teardown": "",
       "type": "doctest"
      }
     ]
    },
    "q02_03": {
     "name": "q02_03",
     "points": 4,
     "suites": [
      {
       "cases": [
        {
         "code": ">>> n_prefixes('Billy', 4) == 'BillBilBiB'\nTrue",
         "hidden": false,
         "locked": false
        },
        {
         "code": ">>> n_prefixes('Michigan', 3) == 'MicMiM'\nTrue",
         "hidden": false,
         "locked": false
        },
        {
         "code": ">>> n_prefixes('aaron', 2) == 'aaa'\nTrue",
         "hidden": false,
         "locked": false
        }
       ],
       "scored": true,
       "setup": "",
       "teardown": "",
       "type": "doctest"
      }
     ]
    },
    "q03_01": {
     "name": "q03_01",
     "points": 5,
     "suites": [
      {
       "cases": [
        {
         "code": ">>> hailstone(4)\n4\n2\n1\n3",
         "hidden": false,
         "locked": false
        },
        {
         "code": ">>> hailstone(10)\n10\n5\n16\n8\n4\n2\n1\n7",
         "hidden": false,
         "locked": false
        }
       ],
       "scored": true,
       "setup": "",
       "teardown": "",
       "type": "doctest"
      }
     ]
    },
    "q03_02": {
     "name": "q03_02",
     "points": 4,
     "suites": [
      {
       "cases": [
        {
         "code": ">>> np.isclose(alternating_sign_mean([3, 1.5, 9.9]), 3.8)\nTrue",
         "hidden": false,
         "locked": false
        },
        {
         "code": ">>> np.isclose(alternating_sign_mean([2, 4.5, 3, 7]), -6.5 / 4)\nTrue",
         "hidden": false,
         "locked": false
        }
       ],
       "scored": true,
       "setup": "",
       "teardown": "",
       "type": "doctest"
      }
     ]
    },
    "q03_03": {
     "name": "q03_03",
     "points": 5,
     "suites": [
      {
       "cases": [
        {
         "code": ">>> big_tippers(['yutong', 15, 'kyle', 9, 'pranavi', 19]) == ['yutong', 'pranavi']\nTrue",
         "hidden": false,
         "locked": false
        }
       ],
       "scored": true,
       "setup": "",
       "teardown": "",
       "type": "doctest"
      }
     ]
    },
    "q04": {
     "name": "q04",
     "points": 6,
     "suites": [
      {
       "cases": [
        {
         "code": ">>> str(type(polyfig)) == \"<class 'plotly.graph_objs._figure.Figure'>\"\nTrue",
         "failure_message": "Make sure polyfig is a plotly Figure object.",
         "hidden": false,
         "locked": false
        },
        {
         "code": ">>> len(polyfig.data) == 3\nTrue",
         "failure_message": "Make sure there are three elements in your graph.",
         "hidden": false,
         "locked": false
        },
        {
         "code": ">>> isinstance(polyfig.layout['title']['text'], str)\nTrue",
         "failure_message": "Make sure to give your graph a title.",
         "hidden": false,
         "locked": false
        },
        {
         "code": ">>> points = [(t['x'][0], t['y'][0]) for t in polyfig.data[1:]]\n>>> (2, 23) in points\nTrue",
         "failure_message": "Make sure your local maximum is in the correct position.",
         "hidden": false,
         "locked": false
        },
        {
         "code": ">>> points = [(t['x'][0], t['y'][0]) for t in polyfig.data[1:]]\n>>> (3, 22) in points\nTrue",
         "failure_message": "Make sure your local minimum is in the correct position.",
         "hidden": false,
         "locked": false
        },
        {
         "code": ">>> names = [t['name'] for t in polyfig.data[1:]]\n>>> sorted(names) == ['Local Maximum', 'Local Minimum']\nTrue",
         "failure_message": "Make sure you've labeled your maxima and minima correctly.",
         "hidden": false,
         "locked": false
        },
        {
         "code": ">>> np.isclose(polyfig.data[0]['x'].min(), 1) and np.isclose(polyfig.data[0]['x'].max(), 4)\nTrue",
         "failure_message": "Make sure your x-axis range is correct.",
         "hidden": false,
         "locked": false
        },
        {
         "code": ">>> len(set([t['marker']['color'] for t in polyfig.data[1:]])) == 2\nTrue",
         "failure_message": "Make sure your maxima and minima are labeled different colors.",
         "hidden": false,
         "locked": false
        }
       ],
       "scored": true,
       "setup": "",
       "teardown": "",
       "type": "doctest"
      }
     ]
    }
   }
  }
 },
 "nbformat": 4,
 "nbformat_minor": 5
}
