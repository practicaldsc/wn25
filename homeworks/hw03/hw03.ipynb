{
 "cells": [
  {
   "cell_type": "code",
   "execution_count": null,
   "id": "aaafb6a0",
   "metadata": {
    "deletable": false,
    "editable": false
   },
   "outputs": [],
   "source": [
    "# Initialize Otter\n",
    "import otter\n",
    "grader = otter.Notebook(\"hw03.ipynb\")"
   ]
  },
  {
   "cell_type": "markdown",
   "id": "c3801774",
   "metadata": {},
   "source": [
    "<div class=\"alert alert-success\" markdown=\"1\">\n",
    "\n",
    "#### Homework 3\n",
    "\n",
    "# Grouping, Pivoting, and Merging\n",
    "\n",
    "### EECS 398: Practical Data Science, Winter 2025\n",
    "\n",
    "#### Due Tuesday, Feburary 4th at 11:59PM\n",
    "    \n",
    "</div>"
   ]
  },
  {
   "cell_type": "markdown",
   "id": "3ad32c9f",
   "metadata": {},
   "source": [
    "## Instructions\n",
    "\n",
    "Welcome to Homework 3! In this homework, you will practice core DataFrame methods introduced in Lectures 5 and 6 – grouping, pivoting, and merging, in particular.\n",
    "\n",
    "You are given 8 slip days throughout the semester to extend deadlines. See the [Syllabus](https://practicaldsc.org/syllabus) for more details. With the exception of using slip days, late work will not be accepted unless you have made special arrangements with your instructor.\n",
    "\n",
    "To access this notebook, you'll need to clone our [public GitHub repository](https://github.com/practicaldsc/wn25/). The [Environment Setup](https://practicaldsc.org/env-setup) page on the course website walks you through the necessary steps. Once you're done, you'll submit your completed notebook to Gradescope.\n",
    "\n",
    "Please start early and submit often. You can submit as many times as you'd like to Gradescope, and we'll grade your **most recent** submission. Remember that the public `grader.check` tests in your notebook are not comprehensive, and that your work will also be graded on hidden test cases on Gradescope after the submission deadline.\n",
    "\n",
    "This homework is worth a total of **58 points**, 49 of which come from the autograder, **and 9 of which are manually graded by us** (Questions 1.3, 6.1, and 6.2). The number of points each question is worth is listed at the start of each question. **Each question in the assignment is independent, so feel free to move around if you get stuck**. Tip: if you're using Jupyter Lab, you can see a Table of Contents for the notebook by going to View > Table of Contents.\n",
    "\n",
    "To get started, run the import cell below, plus the cell at the top of the notebook that imports and initializes `otter`.\n",
    "\n",
    "<a name='like-dataframe'>\n",
    "\n",
    "</a>\n",
    "\n",
    "<div class=\"alert alert-warning\" markdown=\"1\">\n",
    "    \n",
    "**Note**: Throughout this homework, you'll see statements like this frequently:\n",
    "\n",
    "<blockquote>Complete the implementation of the function ____, which takes in a DataFrame <code>df</code> like <code>other_df</code> and _____.</blockquote>\n",
    "\n",
    "What this means is that you should assume that `df` has the same number of columns as `other_df`, with the same column titles and data types, but potentially a different number of rows in a different order, with a potentially different index. You should always also assume that `df` has at least one row.\n",
    "\n",
    "We have you implement functions like this to prevent you from hard-coding your answers to one specific dataset.\n",
    "\n",
    "</div>\n",
    "\n",
    "<div class=\"alert alert-danger\" markdown=\"1\">\n",
    "\n",
    "You **cannot** use any `for`-loops on this homework, and may lose points in certain questions for doing so!\n",
    "\n",
    "</div>"
   ]
  },
  {
   "cell_type": "code",
   "execution_count": null,
   "id": "59605017",
   "metadata": {},
   "outputs": [],
   "source": [
    "import pandas as pd\n",
    "import numpy as np\n",
    "\n",
    "import plotly\n",
    "import plotly.graph_objects as go\n",
    "import plotly.express as px\n",
    "import plotly.io as pio\n",
    "\n",
    "# Preferred styles.\n",
    "pio.templates[\"pds\"] = go.layout.Template(\n",
    "    layout=dict(\n",
    "        margin=dict(l=30, r=30, t=30, b=30),\n",
    "        autosize=True,\n",
    "        width=600,\n",
    "        height=400,\n",
    "        xaxis=dict(showgrid=True),\n",
    "        yaxis=dict(showgrid=True),\n",
    "        title=dict(x=0.5, xanchor=\"center\"),\n",
    "    )\n",
    ")\n",
    "pio.templates.default = \"simple_white+pds\"\n",
    "\n",
    "# Use plotly as default plotting engine.\n",
    "pd.options.plotting.backend = \"plotly\""
   ]
  },
  {
   "cell_type": "markdown",
   "id": "8014467f",
   "metadata": {},
   "source": [
    "## Questions 1-3: Presidential Elections 🇺🇸\n",
    "\n",
    "---\n",
    "\n",
    "On November 5th, 2024, Donald Trump was elected president for a second time in what was quite a memorable elections season, to say the least.\n",
    "\n",
    "<br>\n",
    "\n",
    "<center><img src=\"imgs/debate.jpg\" width=400>\n",
    "\n",
    "</center>\n",
    "\n",
    "<center><small>Kamala Harris (left) and Donald Trump (right), the Democratic and Republican candidates<br>in the 2024 presidential election, respectively.</small>\n",
    "</center>\n",
    "\n",
    "<br>\n",
    "\n",
    "In this first part of the homework, we'll familiarize ourselves with two equally important facets of American society – how the DataFrame `groupby` method works and how presidential elections work. We'll gain this familiarity by working with voting data from the past 13 elections, starting from 1976 and going through 2024, when our current president was elected.\n",
    "\n",
    "If you're not super familiar with the American political system, don't worry: [this brief article (along with the supplementary poster)](https://kz.usembassy.gov/summary-of-the-u-s-presidential-election-process/) has all of the context you need."
   ]
  },
  {
   "cell_type": "markdown",
   "id": "24bbc7be",
   "metadata": {},
   "source": [
    "Run the cell below to load in a DataFrame, `votes`."
   ]
  },
  {
   "cell_type": "code",
   "execution_count": null,
   "id": "9b40eb15",
   "metadata": {
    "scrolled": false
   },
   "outputs": [],
   "source": [
    "votes = pd.read_csv('data/elections/historical_votes.csv')\n",
    "votes"
   ]
  },
  {
   "cell_type": "markdown",
   "id": "9f576fad",
   "metadata": {},
   "source": [
    "Each row of `votes` tells us the number of votes for a particular presidential `'party'` and `'candidate'` in a particular `'state'` and `'year'`. For instance:\n",
    "- The second row tells us that in 1976, 659170 voters in Alabama voted for Jimmy Carter, the Democrat `'candidate'`.\n",
    "- The second last row tells us that in 2024, 192633 voters in Wyoming voted for Donald J. Trump, the eventual winner.\n",
    "\n",
    "Note that each party only has one presidential candidate in a given year. That means, there is only one row in `votes` for any combination of `'year'`, `'state'`, and `'party'`. \n",
    "\n",
    "For 2024 data, any candidates who were not a Democrat or Republican are listed as 'ALL OTHER CANDIDATES' and their `'party'` is listed as 'OTHER'."
   ]
  },
  {
   "cell_type": "markdown",
   "id": "779f00ec",
   "metadata": {},
   "source": [
    "Let's get started!"
   ]
  },
  {
   "cell_type": "markdown",
   "id": "071cb1cb",
   "metadata": {},
   "source": [
    "### Question 1: Counting Votes 🗳️\n",
    "\n",
    "In Question 1, you'll answer some preliminary questions to familiarize yourself with the dataset. **Don't** hard-code your answers; use `pandas` code to find them programatically."
   ]
  },
  {
   "cell_type": "markdown",
   "id": "0dd18adb",
   "metadata": {},
   "source": [
    "#### Question 1.1 [Autograded 💻]  <div style=\"display:inline-block; vertical-align: middle; padding:7px 7px; font-size:10px; font-weight:light; color:white; background-color:#e84c4a; border-radius:7px; text-align:left;\">2 Points</div>\n",
    "\n",
    "Assign `michigan_total_2024` to the total number of votes cast in Michigan in the 2024 election. Your answer should be an integer."
   ]
  },
  {
   "cell_type": "code",
   "execution_count": null,
   "id": "f077a4cb",
   "metadata": {
    "tags": []
   },
   "outputs": [],
   "source": [
    "michigan_total_2024 = ...\n",
    "michigan_total_2024"
   ]
  },
  {
   "cell_type": "code",
   "execution_count": null,
   "id": "5efabae7",
   "metadata": {
    "deletable": false,
    "editable": false
   },
   "outputs": [],
   "source": [
    "grader.check(\"q01_01\")"
   ]
  },
  {
   "cell_type": "markdown",
   "id": "7f8f7920",
   "metadata": {},
   "source": [
    "#### Question 1.2 [Autograded 💻]  <div style=\"display:inline-block; vertical-align: middle; padding:7px 7px; font-size:10px; font-weight:light; color:white; background-color:#e84c4a; border-radius:7px; text-align:left;\">2 Points</div>\n",
    "\n",
    "Assign `votes_per_year` to a Series, indexed by `'year'`, containing the total number of votes cast each `'year'`. The Series should be sorted by the index (i.e. `'year'`) in ascending order.\n",
    "\n",
    "Example behavior is given below.\n",
    "\n",
    "```python\n",
    ">>> votes_per_year.loc[1996]\n",
    "95486860\n",
    "\n",
    ">>> votes_per_year.iloc[3]\n",
    "91496698\n",
    "```"
   ]
  },
  {
   "cell_type": "code",
   "execution_count": null,
   "id": "c9552f22",
   "metadata": {
    "tags": []
   },
   "outputs": [],
   "source": [
    "votes_per_year = ...\n",
    "votes_per_year"
   ]
  },
  {
   "cell_type": "code",
   "execution_count": null,
   "id": "abd74f35",
   "metadata": {
    "deletable": false,
    "editable": false
   },
   "outputs": [],
   "source": [
    "grader.check(\"q01_02\")"
   ]
  },
  {
   "cell_type": "markdown",
   "id": "c0960e13",
   "metadata": {},
   "source": [
    "If you answered Question 1.2 correctly, then below, you should see a line chart depicting the number of votes cast each `'year'`."
   ]
  },
  {
   "cell_type": "code",
   "execution_count": null,
   "id": "565443b1",
   "metadata": {},
   "outputs": [],
   "source": [
    "(\n",
    "    votes_per_year\n",
    "    .plot(kind='line', title='Votes Cast in the Presidential Election Each Year')\n",
    "    .update_layout(xaxis_title='Year', yaxis_title='Votes', showlegend=False)\n",
    ")"
   ]
  },
  {
   "cell_type": "markdown",
   "id": "9fa398e3",
   "metadata": {},
   "source": [
    "Without looking at the data, one might guess that the number of people who vote each election only increases, since the population of the US increases considerably from year-to-year. However, a variety of factors play a role in determining voter _turnout_."
   ]
  },
  {
   "cell_type": "markdown",
   "id": "920a0070",
   "metadata": {},
   "source": [
    "<!-- BEGIN QUESTION -->\n",
    "\n",
    "#### Question 1.3 **[Written ✏️]**  <div style=\"display:inline-block; vertical-align: middle; padding:7px 7px; font-size:10px; font-weight:light; color:white; background-color:#e84c4a; border-radius:7px; text-align:left;\">3 Points</div>\n",
    "\n",
    "Identify **two** interesting takeways from the graph above. Do a little bit of research on _why_ those historical events may have occurred, and write 1-2 sentences per takeaway about your findings (so 2-4 sentences total). You can use Google or ChatGPT to do your research, but you **must** write your answers in your own words. As a data scientist, you'll need to do this a lot – identify trends in data and try to make sense of them.\n",
    "\n",
    "For example, one interesting takeaway – **which you cannot use** – is that fewer people voted in 1996 than in 1992. Some [research](https://www.csmonitor.com/1996/1016/101696.us.us.1.html) shows that this was likely because the economy and nation more generally was relatively stable, meaning the public was generally happy with the job being done by the incumbent, leading to a lower sense of urgency to vote and change the status quo."
   ]
  },
  {
   "cell_type": "markdown",
   "id": "35b5a3af",
   "metadata": {},
   "source": [
    " "
   ]
  },
  {
   "cell_type": "markdown",
   "id": "36397a0e",
   "metadata": {},
   "source": [
    "<!-- END QUESTION -->\n",
    "\n",
    "#### Question 1.4 [Autograded 💻]  <div style=\"display:inline-block; vertical-align: middle; padding:7px 7px; font-size:10px; font-weight:light; color:white; background-color:#e84c4a; border-radius:7px; text-align:left;\">3 Points</div>\n",
    "\n",
    "Assign `rep_per_state` to a Series, indexed by `'state'`, containing the number of votes cast for the Republican `'party'` in each `'state'` in 2024. The Series should be sorted by number of votes in descending order, and **should only contain information for the 10 `'state'`s with the most votes for the Republican `'party'`**.\n",
    "\n",
    "Example behavior is given below.\n",
    "\n",
    "```python\n",
    ">>> rep_per_state.shape[0]\n",
    "10\n",
    "\n",
    ">>> rep_per_state.loc['MICHIGAN']\n",
    "2816636\n",
    "\n",
    ">>> rep_per_state.iloc[-1]\n",
    "2449079\n",
    "```"
   ]
  },
  {
   "cell_type": "code",
   "execution_count": null,
   "id": "13d99675",
   "metadata": {
    "tags": []
   },
   "outputs": [],
   "source": [
    "rep_per_state = ...\n",
    "rep_per_state"
   ]
  },
  {
   "cell_type": "code",
   "execution_count": null,
   "id": "5bf1dc09",
   "metadata": {
    "deletable": false,
    "editable": false
   },
   "outputs": [],
   "source": [
    "grader.check(\"q01_04\")"
   ]
  },
  {
   "cell_type": "markdown",
   "id": "343bdf28",
   "metadata": {},
   "source": [
    "### Question 2: Winners and Losers 🏆\n",
    "\n",
    "In Question 1, we explored the number of individuals that voted in different periods of time and in different regions. But we didn't really attempt to find _who won_ the most votes in any particular year. That's what we'll work towards now.\n",
    "\n",
    "In Question 2, your solutions will be more complex than they were in Question 1. You may find yourself using `groupby` on multiple columns, or even `groupby` multiple times, to solve a single subpart. Expect to have to create custom aggregation methods and use other grouping-related methods from [Lecture 5](https://practicaldsc.org/resources/lectures/lec05/lec05-filled.html). Think one step at a time, and don't just write a bunch of code and then run it – run your cells frequently to _understand_ what they're doing!"
   ]
  },
  {
   "cell_type": "markdown",
   "id": "7e42c1b1",
   "metadata": {},
   "source": [
    "#### Question 2.1 [Autograded 💻]  <div style=\"display:inline-block; vertical-align: middle; padding:7px 7px; font-size:10px; font-weight:light; color:white; background-color:#e84c4a; border-radius:7px; text-align:left;\">3 Points</div>\n",
    "\n",
    "Complete the implementation of the function `votes_per_year_party`, which takes in a DataFrame `df` like `votes`, and returns a DataFrame with three columns: `'year'`, `'party'`, and `'votes'`, the latter of which contains the total number of votes cast for every unique combination of `'year'` and `'party'` in `df`.\n",
    "\n",
    "As an example, a random subset of the rows in `votes_per_year_party(votes)` are given below, though note that `votes_per_year_party(votes)` should have many more rows than below. And, remember [from the top of the assignment](#like-dataframe) that `votes_per_year_party` needs to work on other DataFrames like `votes`, not just `votes` itself.\n",
    "\n",
    "<table border=\"1\" class=\"dataframe\">\n",
    "  <thead>\n",
    "    <tr style=\"text-align: right;\">\n",
    "      <th></th>\n",
    "      <th>year</th>\n",
    "      <th>party</th>\n",
    "      <th>votes</th>\n",
    "    </tr>\n",
    "  </thead>\n",
    "  <tbody>\n",
    "    <tr>\n",
    "      <th>56</th>\n",
    "      <td>1984</td>\n",
    "      <td>DEMOCRAT</td>\n",
    "      <td>37449813</td>\n",
    "    </tr>\n",
    "    <tr>\n",
    "      <th>230</th>\n",
    "      <td>2004</td>\n",
    "      <td>POPULIST</td>\n",
    "      <td>23094</td>\n",
    "    </tr>\n",
    "    <tr>\n",
    "      <th>238</th>\n",
    "      <td>2004</td>\n",
    "      <td>SOCIALIST WORKERS</td>\n",
    "      <td>7493</td>\n",
    "    </tr>\n",
    "    <tr>\n",
    "      <th>175</th>\n",
    "      <td>2000</td>\n",
    "      <td>DEMOCRAT</td>\n",
    "      <td>49662314</td>\n",
    "    </tr>\n",
    "    <tr>\n",
    "      <th>355</th>\n",
    "      <td>2016</td>\n",
    "      <td>WORKERS WORLD PARTY</td>\n",
    "      <td>3519</td>\n",
    "    </tr>\n",
    "  </tbody>\n",
    "</table>\n",
    "\n",
    "<center>A random sample of the rows in <code>votes_per_year_party(votes)</code>.</center>\n",
    "\n",
    "<br>\n",
    "The index and order of the resulting DataFrame do not matter."
   ]
  },
  {
   "cell_type": "code",
   "execution_count": null,
   "id": "1e34993b",
   "metadata": {
    "tags": []
   },
   "outputs": [],
   "source": [
    "def votes_per_year_party(df):\n",
    "    ...\n",
    "\n",
    "# Feel free to change this input to make sure your function works correctly.\n",
    "# A good strategy is to make sure it works when you call it on a random subset of votes,\n",
    "# e.g. votes_per_year_party(votes.sample(100)).\n",
    "votes_per_year_party(votes)"
   ]
  },
  {
   "cell_type": "code",
   "execution_count": null,
   "id": "b839cec6",
   "metadata": {
    "deletable": false,
    "editable": false
   },
   "outputs": [],
   "source": [
    "grader.check(\"q02_01\")"
   ]
  },
  {
   "cell_type": "markdown",
   "id": "052318fb",
   "metadata": {},
   "source": [
    "#### Question 2.2  [Autograded 💻] <div style=\"display:inline-block; vertical-align: middle; padding:7px 7px; font-size:10px; font-weight:light; color:white; background-color:#e84c4a; border-radius:7px; text-align:left;\">4 Points</div>\n",
    "\n",
    "In any particular year, we define the **winner's vote proportion** as:\n",
    "\n",
    "$$\\text{vote prop} = \\frac{\\text{total number of votes cast for the party with the most votes that year}}{\\text{total number of votes cast that year}}$$\n",
    "\n",
    "Complete the implementation of the function `above_threshold`, which takes in a DataFrame `df` like `votes` and a float `threshold` between 0 and 1, and returns a **list** containing the years in which the winning `'party'` (i.e. the `'party'` with the most total `'votes'` across all `'states'` that `'year'`) had a vote proportion of at least `threshold`. The returned list should be sorted in ascending order. Example behavior is given below.\n",
    "\n",
    "```python\n",
    "# This means that in 1984, the party with the most votes across the entire country\n",
    "# won at least 55% of the total votes cast.\n",
    ">>> above_threshold(votes, 0.55)\n",
    "[1984]\n",
    "\n",
    ">>> above_threshold(votes, 0.51)\n",
    "[1984, 1988, 2008, 2020]\n",
    "```"
   ]
  },
  {
   "cell_type": "code",
   "execution_count": null,
   "id": "793ea841",
   "metadata": {
    "tags": []
   },
   "outputs": [],
   "source": [
    "def above_threshold(df, threshold):\n",
    "    ...\n",
    "\n",
    "# Feel free to change this input to make sure your function works correctly.\n",
    "above_threshold(votes, 0.51)"
   ]
  },
  {
   "cell_type": "code",
   "execution_count": null,
   "id": "4751ab97",
   "metadata": {
    "deletable": false,
    "editable": false
   },
   "outputs": [],
   "source": [
    "grader.check(\"q02_02\")"
   ]
  },
  {
   "cell_type": "markdown",
   "id": "d24f1965",
   "metadata": {},
   "source": [
    "#### Question 2.3  [Autograded 💻] <div style=\"display:inline-block; vertical-align: middle; padding:7px 7px; font-size:10px; font-weight:light; color:white; background-color:#e84c4a; border-radius:7px; text-align:left;\">5 Points</div>\n",
    "\n",
    "Complete the implementation of the function `popular_vote_winners`, which takes in a DataFrame `df` like `votes`, and returns a DataFrame, indexed by `'year'`, with three columns:\n",
    "- `'party'`, which contains the name of the `'party'` who won the most votes across all `'state'`s that `'year'`.\n",
    "- `'votes'`, which contains the total number of votes won by the `'party'` who won the most votes across all `'state'`s that `'year'`.\n",
    "- `'vote_prop'`, which contains the proportion of votes won by the `'party'` who won the most votes across all `'state'`s that `'year'`, defined the same way as in the previous part.\n",
    "\n",
    "The resulting DataFrame should be sorted by the index (i.e. `'year'`) in ascending order. Example behavior is given below.\n",
    "\n",
    "```python\n",
    "# In other words, the last three rows of popular_vote_winners(votes) \n",
    "# should look like the example DataFrame below.\n",
    ">>> popular_vote_winners(votes).tail(3)\n",
    "```\n",
    "\n",
    "<table border=\"1\" class=\"dataframe\">\n",
    "  <thead>\n",
    "    <tr style=\"text-align: right;\">\n",
    "      <th></th>\n",
    "      <th>party</th>\n",
    "      <th>votes</th>\n",
    "      <th>vote_prop</th>\n",
    "    </tr>\n",
    "    <tr>\n",
    "      <th>year</th>\n",
    "      <th></th>\n",
    "      <th></th>\n",
    "      <th></th>\n",
    "    </tr>\n",
    "  </thead>\n",
    "  <tbody>\n",
    "    <tr>\n",
    "      <th>2016</th>\n",
    "      <td>DEMOCRAT</td>\n",
    "      <td>65677168</td>\n",
    "      <td>0.485258</td>\n",
    "    </tr>\n",
    "    <tr>\n",
    "      <th>2020</th>\n",
    "      <td>DEMOCRAT</td>\n",
    "      <td>81268908</td>\n",
    "      <td>0.513616</td>\n",
    "    </tr>\n",
    "    <tr>\n",
    "      <th>2024</th>\n",
    "      <td>REPUBLICAN</td>\n",
    "      <td>77303568</td>\n",
    "      <td>0.498086</td>\n",
    "    </tr>\n",
    "  </tbody>\n",
    "</table>\n",
    "\n",
    "\n",
    "Some guidance: We defined a helper function that takes in a DataFrame that only has rows for a particular `'year'`, and returns the `'party'`, number of `'votes'`, and `'vote_prop'` earned by the `'party'` with the most total votes in that DataFrame. One possible solution is to create such a helper function yourself, and then use the `apply` method on a `DataFrameGroupBy` object with that helper function as the input."
   ]
  },
  {
   "cell_type": "code",
   "execution_count": null,
   "id": "441c5af6",
   "metadata": {
    "tags": []
   },
   "outputs": [],
   "source": [
    "def popular_vote_winners(df):\n",
    "    ...\n",
    "\n",
    "# Feel free to change this input to make sure your function works correctly.\n",
    "popular_vote_winners(votes)"
   ]
  },
  {
   "cell_type": "code",
   "execution_count": null,
   "id": "1731a51c",
   "metadata": {
    "deletable": false,
    "editable": false
   },
   "outputs": [],
   "source": [
    "grader.check(\"q02_03\")"
   ]
  },
  {
   "cell_type": "markdown",
   "id": "e7b6c6de",
   "metadata": {},
   "source": [
    "### Question 3: The Electoral College 🗺️\n",
    "\n",
    "Let's take a look at the last two rows of `popular_vote_winners(votes)` once again:"
   ]
  },
  {
   "cell_type": "code",
   "execution_count": null,
   "id": "0131d040",
   "metadata": {},
   "outputs": [],
   "source": [
    "popular_vote_winners(votes).tail(3)"
   ]
  },
  {
   "cell_type": "markdown",
   "id": "bd32f2c4",
   "metadata": {},
   "source": [
    "If you answered Question 2.3 correctly, you'll see above that in 2016, the Democratic `'party'` won the most votes of any `'party'`, with 48.5\\% of the total vote. But, the Democratic `'party'` **did not** actually win the 2016 presidential election – the Republican `'party'` did.\n",
    "\n",
    "The reason for this is the Electoral College, which is explained in sufficient detail in the [article that was linked before](https://kz.usembassy.gov/summary-of-the-u-s-presidential-election-process/). In short, there are 538 Electoral College votes total, and each `'state'` (plus Washington D.C., which is treated like a `'state'` for the purposes of the Electoral College) is assigned some number of Electoral College votes.\n",
    "\n",
    "The `'candidate'` that wins the most votes in a particular `'state'` wins **all** of the Electoral College votes assigned to that `'state'`*. For example, in 2024, the Republican `'party'` only won 49.7% of the vote in Michigan, but because this was more than any other `'party'` won in Michigan, the Republican `'party'` took all 15 Electoral College votes assigned to Michigan.\n",
    "\n",
    "So, in the 2016 election, even though the Democratic `'party'` won more votes overall – i.e. they won the \"popular vote\" – they won fewer Electoral College votes, and so they lost the election to the Republicans. To win the election, a `'party'` needs to win at least 270 of the 538 Electoral College votes. (Why 270? $\\frac{538}{2} = 269$, so if both `'party'`s won 269 votes, there would be a tie.)\n",
    "\n",
    "_*Caveat: This is not exactly how the Electoral College works in Nebraska and New Hampshire, but for simplicity, we will assume that these two `'state'`s work the same way as all other `'state'`s, in that they give all of their Electoral College votes to the `'candidate'` that won the most votes in their `'state'`._\n",
    "\n",
    "Run the cell below to load in a DataFrame, `ec`, which contains the number of Electoral College votes assigned to each `'state'` in 2024. Note that the number of Electoral College votes assigned to each `'state'` changes every 10 years, when the US conducts the Census. The number of Electoral College votes per `'state'` is different in 2024 than it was in 2020; 2024 was the first election to use the updated Electoral College vote distribution as a result of the 2020 Census."
   ]
  },
  {
   "cell_type": "code",
   "execution_count": null,
   "id": "9552da36",
   "metadata": {},
   "outputs": [],
   "source": [
    "ec = pd.read_csv('data/elections/electoral_college.csv')\n",
    "ec"
   ]
  },
  {
   "cell_type": "markdown",
   "id": "c51b4b36",
   "metadata": {},
   "source": [
    "Right now, this DataFrame is separate from the `votes` DataFrame that we've been working with. We'll combine it for you here, but you'll get your own hands-on practice with the DataFrame `merge` method in the next part of the homework.\n",
    "\n",
    "Run the cell below to define a new DataFrame, `combined`, which results from merging the rows in `votes` specific just to 2024 with `ec`."
   ]
  },
  {
   "cell_type": "code",
   "execution_count": null,
   "id": "b4ceb84d",
   "metadata": {},
   "outputs": [],
   "source": [
    "combined = (\n",
    "    votes[votes['year'] == 2024]\n",
    "    .merge(ec, left_on='state_ab', right_on='Abb_State')\n",
    "    [['state', 'state_ab', 'candidate', 'party', 'votes', 'Electoral_College_Votes']]\n",
    ")\n",
    "combined"
   ]
  },
  {
   "cell_type": "markdown",
   "id": "2120dd5d",
   "metadata": {},
   "source": [
    "Now, `combined` contains enough information to determine the Electoral College winner in a particular election. **We'll focus just on 2024**, since that's the only year we've loaded in Electoral College winner information for."
   ]
  },
  {
   "cell_type": "markdown",
   "id": "03e54137",
   "metadata": {},
   "source": [
    "#### Question 3.1 [Autograded 💻] <div style=\"display:inline-block; vertical-align: middle; padding:7px 7px; font-size:10px; font-weight:light; color:white; background-color:#e84c4a; border-radius:7px; text-align:left;\">3 Points</div>\n",
    "\n",
    "Complete the implementation of the function `ec_results_per_state`, which takes in a DataFrame `df` like `combined` and returns a DataFrame with the same number of rows as `df` and 5 columns:\n",
    "- `'state'`, one row per `'state'` in `df`.\n",
    "- `'state_ab'`, the abbreviation of `'state'`.\n",
    "- `'party'`, the party that won the most votes in `'state'` in 2024.\n",
    "- `'votes'`, the number of (actual, human) votes won by `'party'` in `'state'` in 2024.\n",
    "- `'Electoral_College_Votes'`, the number of Electoral College votes assigned to `'state'` in 2024.\n",
    "\n",
    "The resulting DataFrame should be sorted by `'state'` in ascending order.\n",
    "\n",
    "Example behavior is given below.\n",
    "\n",
    "```python\n",
    ">>> ec_results_per_state(combined).tail(2)\n",
    "```\n",
    "\n",
    "<table border=\"1\" class=\"dataframe\">\n",
    "  <thead>\n",
    "    <tr style=\"text-align: right;\">\n",
    "      <th></th>\n",
    "      <th>state</th>\n",
    "      <th>state_ab</th>\n",
    "      <th>party</th>\n",
    "      <th>votes</th>\n",
    "      <th>Electoral_College_Votes</th>\n",
    "    </tr>\n",
    "  </thead>\n",
    "  <tbody>\n",
    "    <tr>\n",
    "      <th>49</th>\n",
    "      <td>WISCONSIN</td>\n",
    "      <td>WI</td>\n",
    "      <td>REPUBLICAN</td>\n",
    "      <td>1697626</td>\n",
    "      <td>10</td>\n",
    "    </tr>\n",
    "    <tr>\n",
    "      <th>50</th>\n",
    "      <td>WYOMING</td>\n",
    "      <td>WY</td>\n",
    "      <td>REPUBLICAN</td>\n",
    "      <td>192633</td>\n",
    "      <td>3</td>\n",
    "    </tr>\n",
    "  </tbody>\n",
    "</table>\n",
    "\n",
    "Remember, `ec_results_per_state` will be tested on other DataFrames like `combined`, not just `combined` itself!"
   ]
  },
  {
   "cell_type": "code",
   "execution_count": null,
   "id": "8a5fea3f",
   "metadata": {
    "scrolled": true,
    "tags": []
   },
   "outputs": [],
   "source": [
    "def ec_results_per_state(df):\n",
    "    ...\n",
    "\n",
    "# Feel free to change this input to make sure your function works correctly.\n",
    "ec_results_per_state(combined)"
   ]
  },
  {
   "cell_type": "code",
   "execution_count": null,
   "id": "b073ff56",
   "metadata": {
    "deletable": false,
    "editable": false
   },
   "outputs": [],
   "source": [
    "grader.check(\"q03_01\")"
   ]
  },
  {
   "cell_type": "markdown",
   "id": "abd224e2",
   "metadata": {},
   "source": [
    "#### Question 3.2 [Autograded 💻] <div style=\"display:inline-block; vertical-align: middle; padding:7px 7px; font-size:10px; font-weight:light; color:white; background-color:#e84c4a; border-radius:7px; text-align:left;\">1 Point</div>\n",
    "\n",
    "Complete the implementation of the function `ec_totals`, which takes in a DataFrame `df` like `combined` and returns a Series, indexed by `'party'`, containing the total number of Electoral College votes won by each `'party'`.\n",
    "\n",
    "If you do this correctly, `ec_totals(combined)` should match [these published results](https://www.cnn.com/election/2024/results/president?election-data-id=2024-PG&election-painting-mode=projection-with-lead&filter-key-races=false&filter-flipped=false&filter-remaining=false)."
   ]
  },
  {
   "cell_type": "code",
   "execution_count": null,
   "id": "39df2421",
   "metadata": {
    "tags": []
   },
   "outputs": [],
   "source": [
    "def ec_totals(df):\n",
    "    ...\n",
    "\n",
    "# Feel free to change this input to make sure your function works correctly.\n",
    "ec_totals(combined)"
   ]
  },
  {
   "cell_type": "code",
   "execution_count": null,
   "id": "35d96056",
   "metadata": {
    "deletable": false,
    "editable": false
   },
   "outputs": [],
   "source": [
    "grader.check(\"q03_02\")"
   ]
  },
  {
   "cell_type": "markdown",
   "id": "45f7eff9",
   "metadata": {},
   "source": [
    "#### Question 3.3 [Autograded 💻] <div style=\"display:inline-block; vertical-align: middle; padding:7px 7px; font-size:10px; font-weight:light; color:white; background-color:#e84c4a; border-radius:7px; text-align:left;\">5 Points</div>\n",
    "\n",
    "Now's the (arguably) fun part. To wrap up our foray into voting data, we will create a choropleth, a kind of map that colors different regions in different colors.\n",
    "\n",
    "Specifically, complete the implementation of the function `draw_choropleth`, which takes in the DataFrame `combined` (no other DataFrame) and returns a `plotly` figure object containing a [choropleth](https://en.wikipedia.org/wiki/Choropleth_map) of the United States in which each `'state'` is colored either blue or red, depending on whether the Democratic `'party'` or Republican `'party'` won the majority of votes in that `'state'` in 2024.\n",
    "\n",
    "An example of what the graph `draw_choropleth(combined)` should look like is below.\n",
    "\n",
    "<center>\n",
    "\n",
    "<img src=\"imgs/choro.png\" width=600>\n",
    "    \n",
    "</center>\n",
    "\n",
    "Some added guidance and requirements:\n",
    "- The [`plotly` choropleth documentation](https://plotly.com/python/choropleth-maps/) is excellent. It has many examples, which you can use to tweak several aspects of your plot.<br><br>\n",
    "- Your plot must have the abbreviation of each `'state'` plotted on top of the `'state'`, along with the number of Electoral College votes assigned to that `'state'` in 2024. Use the `figure` `.add_scattergeo` method to do this after you create the rest of your choropleth; you'll find examples online of how this works.\n",
    "    - You'll also need to figure out how to create a Series of strings, in which each string contains both the name of a `'state'` and its number of Electoral College vote counts.\n",
    "    - To prevent the map from getting too crowded, we hid the annotations for New Hampshire, Connecticut, Rhode Island, Washington D.C., Maryland, and Delaware; you don't have to do this, but it's a good idea.<br><br>\n",
    "- Your plot must use one color for the Democratic `'party'` and one color for the Republican `'party'`. The colors you choose do not matter, except for the fact that **you cannot use the default colors that `px.choropleth` uses**. (If you want to use the politically accurate colors, as we did above, the Republicans use red and the Democrats use blue.) You'll need to either read the documentation or do some Googling to figure out how to change colors for different categories, but as a hint, these can be set using an argument to `px.choropleth` (i.e. you don't need to use `fig.update_layout`).<br><br>\n",
    "- **Question 3.3 has no hidden tests, so as long as you pass the public tests here, you'll receive full credit for it.** Everything that isn't mentioned above but is in our example plot (e.g. a text color of white instead of black, or a different font) is optional – but make your plot as pretty as you can!\n",
    "\n",
    "<br>\n",
    "\n",
    "***Note***: You _may_ need to use a `for`-loop or list comprehension in your implementation of `draw_choropleth` to hide particular labels, and that's okay. (Not for any other question on this homework, though!)"
   ]
  },
  {
   "cell_type": "code",
   "execution_count": null,
   "id": "87ab5863",
   "metadata": {
    "tags": []
   },
   "outputs": [],
   "source": [
    "def draw_choropleth(combined):\n",
    "    ...\n",
    "\n",
    "\n",
    "draw_choropleth(combined)"
   ]
  },
  {
   "cell_type": "code",
   "execution_count": null,
   "id": "d92687bc",
   "metadata": {
    "deletable": false,
    "editable": false
   },
   "outputs": [],
   "source": [
    "grader.check(\"q03_03\")"
   ]
  },
  {
   "cell_type": "markdown",
   "id": "151431e1",
   "metadata": {},
   "source": [
    "Nice work! You're now well equipped to create your own political choropleths.\n",
    "\n",
    "If you want a challenge, once you're finished Homework 3, see if you can adjust the choropleth so that the intensity (darkness) of each `'state'`'s color depends on the proportion of its population that voted for the winning `'party'`. For example, since the Republican `'party'` won 71.5% of the vote in Wyoming but only 49.7% of the vote in Michigan, Wyoming should appear much darker red than Michigan."
   ]
  },
  {
   "cell_type": "markdown",
   "id": "3c567336",
   "metadata": {},
   "source": [
    "## Question 4: Paw Patrol 🐾\n",
    "\n",
    "---\n",
    "\n",
    "In this question, you'll practice combining multiple DataFrames together. You'll want to review our treatment of the `merge` method from Lecture 6.\n",
    "\n",
    "Specifically, you'll analyze data from a veterinarian clinic in Michigan. The datasets contain several types of information from the clinic, including its customers (pet owners), pets, available procedures, and procedure history. The column names are self-explanatory. These DataFrames are provided to you:\n",
    "-  `owners` stores the customer information, where every `'OwnerID'` is unique (verify this yourself).\n",
    "-  `pets` stores the pet information. Each pet belongs to a customer in `owners`.\n",
    "-  `procedure_detail` contains a catalog of procedures that are offered by the clinic.\n",
    "-  `procedure_history` has procedure records. Most procedures were given to a pet in `pets`.\n",
    "\n",
    "We define each DataFrame below and show the first two rows of each DataFrame. **Do not** modify any of these DataFrames directly!"
   ]
  },
  {
   "cell_type": "code",
   "execution_count": null,
   "id": "69aeec36",
   "metadata": {},
   "outputs": [],
   "source": [
    "owners = pd.read_csv('data/pets/owners.csv')\n",
    "owners.head()"
   ]
  },
  {
   "cell_type": "code",
   "execution_count": null,
   "id": "d556b816",
   "metadata": {
    "scrolled": true
   },
   "outputs": [],
   "source": [
    "pets = pd.read_csv('data/pets/pets.csv')\n",
    "pets.head()"
   ]
  },
  {
   "cell_type": "code",
   "execution_count": null,
   "id": "309375ce",
   "metadata": {},
   "outputs": [],
   "source": [
    "procedure_detail = pd.read_csv('data/pets/procedures_details.csv')\n",
    "procedure_detail.head()"
   ]
  },
  {
   "cell_type": "code",
   "execution_count": null,
   "id": "be275116",
   "metadata": {},
   "outputs": [],
   "source": [
    "procedure_history = pd.read_csv('data/pets/procedures_history.csv')\n",
    "procedure_history.head()"
   ]
  },
  {
   "cell_type": "markdown",
   "id": "21c8f78d",
   "metadata": {},
   "source": [
    "Each of the following three parts asks you to answer a particular prompt about the data by implementing a function.\n",
    "\n",
    "***Note***: Unlike in the other questions of this homework, in Question 4 when we say (for example) that a function takes in DataFrames `a` and `b`, you can assume that your function will only ever be called on `a` and `b` exactly, not other DataFrames \"like\" `a` and `b`."
   ]
  },
  {
   "cell_type": "markdown",
   "id": "9869ef75",
   "metadata": {},
   "source": [
    "#### Question 4.1 [Autograded 💻] <div style=\"display:inline-block; vertical-align: middle; padding:7px 7px; font-size:10px; font-weight:light; color:white; background-color:#e84c4a; border-radius:7px; text-align:left;\">2 Points</div>\n",
    "\n",
    "> What is the most popular `'ProcedureType'` amongst all pets in the `pets` DataFrame? \n",
    "\n",
    "Complete the implementation of the function `most_popular_procedure`, which takes in two DataFrames, `pets` and `procedure_history`, and returns the name of the most popular `'ProcedureType'` – among all pets in `pets` – as a string.\n",
    "\n",
    "Some guidance:\n",
    "- Note that some pets are registered but haven't had any procedures performed. Also, some pets that have had procedures done are not registered in `pets`.\n",
    "- Remember, you can assume that the DataFrames given to `most_popular_procedure` are `pets` and `procedure_history` exactly as they're defined in your notebook."
   ]
  },
  {
   "cell_type": "code",
   "execution_count": null,
   "id": "f7d4c828",
   "metadata": {
    "tags": []
   },
   "outputs": [],
   "source": [
    "def most_popular_procedure(pets, procedure_history):\n",
    "    ...\n",
    "\n",
    "most_popular_procedure(pets, procedure_history)"
   ]
  },
  {
   "cell_type": "code",
   "execution_count": null,
   "id": "bdc23606",
   "metadata": {
    "deletable": false,
    "editable": false
   },
   "outputs": [],
   "source": [
    "grader.check(\"q04_01\")"
   ]
  },
  {
   "cell_type": "markdown",
   "id": "ce70f3ca",
   "metadata": {},
   "source": [
    "#### Question 4.2 [Autograded 💻] <div style=\"display:inline-block; vertical-align: middle; padding:7px 7px; font-size:10px; font-weight:light; color:white; background-color:#e84c4a; border-radius:7px; text-align:left;\">4 Points</div>\n",
    "\n",
    "> What is the name of each customer's pet(s)?\n",
    "\n",
    "Complete the implementation of the function `pet_name_by_owner`, which takes in two DataFrames, `owners` and `pets`, and returns a Series whose index contains owner first names, and whose values are pet names as **strings**. \n",
    "- If an owner has multiple pets, the value corresponding to that owner should instead be a **list of pet names as strings**.\n",
    "- If an owner has no pets, the value corresponding to that owner should be the string `'No Pets'`.\n",
    "\n",
    "Some guidance:\n",
    "- Note that owner first names are not necessarily unique, and so the Series you return will not necessarily have a unique index.\n",
    "- To fill missing values, use the `fillna` method."
   ]
  },
  {
   "cell_type": "code",
   "execution_count": null,
   "id": "95bb4581",
   "metadata": {
    "tags": []
   },
   "outputs": [],
   "source": [
    "def pet_name_by_owner(owners, pets):\n",
    "    ...\n",
    "\n",
    "pet_name_by_owner(owners, pets)"
   ]
  },
  {
   "cell_type": "code",
   "execution_count": null,
   "id": "83a93205",
   "metadata": {
    "deletable": false,
    "editable": false
   },
   "outputs": [],
   "source": [
    "grader.check(\"q04_02\")"
   ]
  },
  {
   "cell_type": "markdown",
   "id": "117bf047",
   "metadata": {},
   "source": [
    "#### Question 4.3 [Autograded 💻] <div style=\"display:inline-block; vertical-align: middle; padding:7px 7px; font-size:10px; font-weight:light; color:white; background-color:#e84c4a; border-radius:7px; text-align:left;\">4 Points</div>\n",
    "\n",
    "Note that the `owners` DataFrame has a `'City'` column, describing the city in which each pet owner and their pets live.\n",
    "\n",
    "> How much did each city spend in total on procedures?\n",
    "\n",
    "Complete the implementation of the function `total_cost_per_city`, which takes in four DataFrames, `owners`, `pets`, `procedure_history`, and `procedure_detail`, and returns a Series indexed by `'City'` that describes the total amount that each city has spent on pets' procedures.\n",
    "\n",
    "Some guidance:\n",
    "- **All** of the cities in the `'City'` column of `owners` should appear in the output, including:\n",
    "    - Cities in which there are no pets.\n",
    "    - Cities in which none of the pets ever had any procedures done.<br>\n",
    "    If a city has had no procedures, it should still appear in the output, with a value of <code>0.0</code>.\n",
    "- Some of the procedures in `procedure_history` were performed on pets that aren't in `pets`.<br>Include the total amount spent on all of these procedures under the city `'Missing City'`.\n",
    "- Think carefully about `how` to perform each `merge`. At some point, you may even have to `merge` on multiple columns."
   ]
  },
  {
   "cell_type": "code",
   "execution_count": null,
   "id": "2f0a7672",
   "metadata": {
    "scrolled": false,
    "tags": [
     "to-py"
    ]
   },
   "outputs": [],
   "source": [
    "def total_cost_per_city(owners, pets, procedure_history, procedure_detail):\n",
    "    ...\n",
    "\n",
    "total_cost_per_city(owners, pets, procedure_history, procedure_detail)"
   ]
  },
  {
   "cell_type": "code",
   "execution_count": null,
   "id": "b951eadf",
   "metadata": {
    "deletable": false,
    "editable": false
   },
   "outputs": [],
   "source": [
    "grader.check(\"q04_03\")"
   ]
  },
  {
   "cell_type": "markdown",
   "id": "5df10975",
   "metadata": {},
   "source": [
    "## Question 5: Summarizing Sales 💰\n",
    "\n",
    "---\n",
    "\n",
    "In this final question, you'll get better at using the DataFrame `pivot_table` method. Recall from [Lectures 5](https://practicaldsc.org/resources/lectures/lec05/lec05-filled.html#Pivot-tables-using-pivot_table) and 6, a pivot table allows you to aggregate the entries in a DataFrame based on two categorical columns."
   ]
  },
  {
   "cell_type": "markdown",
   "id": "32b193f1",
   "metadata": {},
   "source": [
    "In this question, you'll analyze sales data for a (hypothetical) franchise with several locations in Metro Detroit. Each row tells us the amount (`'Total'`) that a customer (`'Name'`) spent at a particular location (`'Store'`) on a particular date (`'Date'`)."
   ]
  },
  {
   "cell_type": "code",
   "execution_count": null,
   "id": "35298c9d",
   "metadata": {},
   "outputs": [],
   "source": [
    "sales = pd.read_csv('data/sales.csv')\n",
    "sales.head()"
   ]
  },
  {
   "cell_type": "markdown",
   "id": "9539d498",
   "metadata": {},
   "source": [
    "Before starting the question, do some preliminary analyses of your own. Try and answer questions like:\n",
    "- How many rows are in `sales`?\n",
    "- How many unique customers are there?\n",
    "- What are the possible values of `'Store'`?\n",
    "- What is the earliest and latest `'Date'` of any row?\n",
    "\n",
    "<!-- **We have provided outlines for the DataFrames you need to create in this question, but yours may have a different number of rows and columns and different values.** -->"
   ]
  },
  {
   "cell_type": "code",
   "execution_count": null,
   "id": "2867932a",
   "metadata": {},
   "outputs": [],
   "source": [
    "# Explore here."
   ]
  },
  {
   "cell_type": "markdown",
   "id": "9a434ff0",
   "metadata": {},
   "source": [
    "#### Question 5.1 [Autograded 💻] <div style=\"display:inline-block; vertical-align: middle; padding:7px 7px; font-size:10px; font-weight:light; color:white; background-color:#e84c4a; border-radius:7px; text-align:left;\">2 Points</div>\n",
    "\n",
    "Complete the implementation of the function `average_per_customer`, which takes in a DataFrame `df` **like** `sales` and returns a DataFrame, indexed by `'Name'`, with a single column, `'Average Transaction'`, which contains the average transaction price for each customer in `df`. The resulting DataFrame should be sorted by the index (`'Name'`) in ascending order.\n",
    "\n",
    "Example behavior is given below.\n",
    "\n",
    "```python\n",
    ">>> average_per_customer(sales).head(3)\n",
    "```\n",
    "\n",
    "<table border=\"1\" class=\"dataframe\" style=\"text-align: left;\">\n",
    "  <thead>\n",
    "    <tr>\n",
    "      <th></th>\n",
    "      <th>Average Transaction</th>\n",
    "    </tr>\n",
    "    <tr>\n",
    "      <th>Name</th>\n",
    "      <th></th>\n",
    "    </tr>\n",
    "  </thead>\n",
    "  <tbody>\n",
    "    <tr>\n",
    "      <th>Gill</th>\n",
    "      <td>1534.616162</td>\n",
    "    </tr>\n",
    "    <tr>\n",
    "      <th>Hoffmeyer</th>\n",
    "      <td>1529.581395</td>\n",
    "    </tr>\n",
    "    <tr>\n",
    "      <th>Junior</th>\n",
    "      <td>1392.861111</td>\n",
    "    </tr>\n",
    "  </tbody>\n",
    "</table>\n",
    "\n",
    "\n",
    "***Note***: You may be able to implement `average_per_customer` without using `pivot_table`, and that's totally fine."
   ]
  },
  {
   "cell_type": "code",
   "execution_count": null,
   "id": "e5ea0520",
   "metadata": {
    "tags": []
   },
   "outputs": [],
   "source": [
    "def average_per_customer(df):\n",
    "    ...\n",
    "\n",
    "# Feel free to change this input to make sure your function works correctly.\n",
    "# Remember that we may test your function on inputs like sales,\n",
    "# e.g. sales.sample(100), so make sure it works there too!\n",
    "average_per_customer(sales)"
   ]
  },
  {
   "cell_type": "code",
   "execution_count": null,
   "id": "1c2e2c83",
   "metadata": {
    "deletable": false,
    "editable": false
   },
   "outputs": [],
   "source": [
    "grader.check(\"q05_01\")"
   ]
  },
  {
   "cell_type": "markdown",
   "id": "f50d71f5",
   "metadata": {},
   "source": [
    "#### Question 5.2 [Autograded 💻] <div style=\"display:inline-block; vertical-align: middle; padding:7px 7px; font-size:10px; font-weight:light; color:white; background-color:#e84c4a; border-radius:7px; text-align:left;\">2 Points</div>\n",
    "\n",
    "Complete the implementation of the function `store_and_customer`, which takes in a DataFrame `df` like `sales` and returns a DataFrame, indexed by `'Name'`, that has one column for each `'Store'`. The DataFrame should describe the total amount each customer spent at each `'Store'`. If a particular customer didn't spend any money at a particular store, you will have missing values; **don't** fill these in.\n",
    "\n",
    "Example behavior is given below. We've intentionally hidden the true values that this DataFrame should produce, but the structure of your DataFrame – when called on the full `sales` DataFrame – should be the same as below.\n",
    "\n",
    "```python\n",
    ">>> store_and_customer(sales)\n",
    "```\n",
    "\n",
    "<table border=\"1\" class=\"dataframe\" style=\"text-align: left\">\n",
    "  <thead>\n",
    "    <tr style=\"text-align: right;\">\n",
    "      <th>Store</th>\n",
    "      <th>12 Oaks</th>\n",
    "      <th>Birch Run</th>\n",
    "      <th>Briarwood</th>\n",
    "      <th>Great Lakes</th>\n",
    "      <th>Oakland</th>\n",
    "      <th>Somerset</th>\n",
    "      <th>Westland</th>\n",
    "    </tr>\n",
    "    <tr>\n",
    "      <th>Name</th>\n",
    "      <th></th>\n",
    "      <th></th>\n",
    "      <th></th>\n",
    "      <th></th>\n",
    "      <th></th>\n",
    "      <th></th>\n",
    "      <th></th>\n",
    "    </tr>\n",
    "  </thead>\n",
    "  <tbody>\n",
    "    <tr>\n",
    "      <th>Gill</th>\n",
    "      <td>-</td>\n",
    "      <td>-</td>\n",
    "      <td>-</td>\n",
    "      <td>-</td>\n",
    "      <td>-</td>\n",
    "      <td>-</td>\n",
    "      <td>-</td>\n",
    "    </tr>\n",
    "    <tr>\n",
    "      <th>Hoffmeyer</th>\n",
    "      <td>-</td>\n",
    "      <td>-</td>\n",
    "      <td>-</td>\n",
    "      <td>-</td>\n",
    "      <td>-</td>\n",
    "      <td>-</td>\n",
    "      <td>-</td>\n",
    "    </tr>\n",
    "    <tr>\n",
    "      <th>Junior</th>\n",
    "      <td>-</td>\n",
    "      <td>-</td>\n",
    "      <td>-</td>\n",
    "      <td>-</td>\n",
    "      <td>-</td>\n",
    "      <td>-</td>\n",
    "      <td>-</td>\n",
    "    </tr>\n",
    "    <tr>\n",
    "      <th>Kheterpal</th>\n",
    "      <td>-</td>\n",
    "      <td>-</td>\n",
    "      <td>-</td>\n",
    "      <td>-</td>\n",
    "      <td>-</td>\n",
    "      <td>-</td>\n",
    "      <td>-</td>\n",
    "    </tr>\n",
    "    <tr>\n",
    "      <th>Li</th>\n",
    "      <td>-</td>\n",
    "      <td>-</td>\n",
    "      <td>-</td>\n",
    "      <td>-</td>\n",
    "      <td>-</td>\n",
    "      <td>-</td>\n",
    "      <td>-</td>\n",
    "    </tr>\n",
    "    <tr>\n",
    "      <th>Pratapa</th>\n",
    "      <td>-</td>\n",
    "      <td>-</td>\n",
    "      <td>-</td>\n",
    "      <td>-</td>\n",
    "      <td>-</td>\n",
    "      <td>-</td>\n",
    "      <td>-</td>\n",
    "    </tr>\n",
    "    <tr>\n",
    "      <th>Rampure</th>\n",
    "      <td>-</td>\n",
    "      <td>-</td>\n",
    "      <td>-</td>\n",
    "      <td>-</td>\n",
    "      <td>-</td>\n",
    "      <td>-</td>\n",
    "      <td>-</td>\n",
    "    </tr>\n",
    "    <tr>\n",
    "      <th>Rex</th>\n",
    "      <td>-</td>\n",
    "      <td>-</td>\n",
    "      <td>-</td>\n",
    "      <td>-</td>\n",
    "      <td>-</td>\n",
    "      <td>-</td>\n",
    "      <td>-</td>\n",
    "    </tr>\n",
    "    <tr>\n",
    "      <th>Uppalapati</th>\n",
    "      <td>-</td>\n",
    "      <td>-</td>\n",
    "      <td>-</td>\n",
    "      <td>-</td>\n",
    "      <td>-</td>\n",
    "      <td>-</td>\n",
    "      <td>-</td>\n",
    "    </tr>\n",
    "    <tr>\n",
    "      <th>Zhuang</th>\n",
    "      <td>-</td>\n",
    "      <td>-</td>\n",
    "      <td>-</td>\n",
    "      <td>-</td>\n",
    "      <td>-</td>\n",
    "      <td>-</td>\n",
    "      <td>-</td>\n",
    "    </tr>\n",
    "  </tbody>\n",
    "</table>"
   ]
  },
  {
   "cell_type": "code",
   "execution_count": null,
   "id": "161e6e0a",
   "metadata": {
    "tags": []
   },
   "outputs": [],
   "source": [
    "def store_and_customer(df):\n",
    "    ...\n",
    "\n",
    "# Feel free to change this input to make sure your function works correctly.\n",
    "store_and_customer(sales)"
   ]
  },
  {
   "cell_type": "code",
   "execution_count": null,
   "id": "cf8e5a1a",
   "metadata": {
    "deletable": false,
    "editable": false
   },
   "outputs": [],
   "source": [
    "grader.check(\"q05_02\")"
   ]
  },
  {
   "cell_type": "markdown",
   "id": "fb695b66",
   "metadata": {},
   "source": [
    "#### Question 5.3 [Autograded 💻] <div style=\"display:inline-block; vertical-align: middle; padding:7px 7px; font-size:10px; font-weight:light; color:white; background-color:#e84c4a; border-radius:7px; text-align:left;\">3 Points</div>\n",
    "\n",
    "Complete the implementation of the function `transactions_per_store`, which takes in a DataFrame `df` like `sales` returns a DataFrame, indexed by **both** `'Store'` and `'Name'`, that contains the number of transactions made per `'Date'` at each location by each customer. Replace `NaN`s with 0s, and don't reset the index after pivoting. The order of the rows and columns don't matter.\n",
    "\n",
    "Example behavior is given below.\n",
    "\n",
    "```python\n",
    "# For instance, this is saying that\n",
    "# Rampure made two transactions at Somerset on\n",
    "# August 13, 2024.\n",
    ">>> transactions_per_store(sales.head(8))\n",
    "```\n",
    "\n",
    "<table border=\"1\" class=\"dataframe\">\n",
    "  <thead>\n",
    "    <tr style=\"text-align: right;\">\n",
    "      <th></th>\n",
    "      <th>Date</th>\n",
    "      <th>01.14.2024</th>\n",
    "      <th>01.15.2023</th>\n",
    "      <th>04.09.2024</th>\n",
    "      <th>08.05.2023</th>\n",
    "      <th>08.13.2024</th>\n",
    "      <th>09.25.2023</th>\n",
    "      <th>10.24.2023</th>\n",
    "    </tr>\n",
    "    <tr>\n",
    "      <th>Store</th>\n",
    "      <th>Name</th>\n",
    "      <th></th>\n",
    "      <th></th>\n",
    "      <th></th>\n",
    "      <th></th>\n",
    "      <th></th>\n",
    "      <th></th>\n",
    "      <th></th>\n",
    "    </tr>\n",
    "  </thead>\n",
    "  <tbody>\n",
    "    <tr>\n",
    "      <th rowspan=\"3\" valign=\"top\">12 Oaks</th>\n",
    "      <th>Pratapa</th>\n",
    "      <td>1</td>\n",
    "      <td>0</td>\n",
    "      <td>0</td>\n",
    "      <td>0</td>\n",
    "      <td>0</td>\n",
    "      <td>0</td>\n",
    "      <td>0</td>\n",
    "    </tr>\n",
    "    <tr>\n",
    "      <th>Rex</th>\n",
    "      <td>0</td>\n",
    "      <td>0</td>\n",
    "      <td>0</td>\n",
    "      <td>0</td>\n",
    "      <td>0</td>\n",
    "      <td>0</td>\n",
    "      <td>1</td>\n",
    "    </tr>\n",
    "    <tr>\n",
    "      <th>Zhuang</th>\n",
    "      <td>0</td>\n",
    "      <td>0</td>\n",
    "      <td>0</td>\n",
    "      <td>0</td>\n",
    "      <td>0</td>\n",
    "      <td>1</td>\n",
    "      <td>0</td>\n",
    "    </tr>\n",
    "    <tr>\n",
    "      <th>Briarwood</th>\n",
    "      <th>Kheterpal</th>\n",
    "      <td>0</td>\n",
    "      <td>0</td>\n",
    "      <td>1</td>\n",
    "      <td>0</td>\n",
    "      <td>0</td>\n",
    "      <td>0</td>\n",
    "      <td>0</td>\n",
    "    </tr>\n",
    "    <tr>\n",
    "      <th rowspan=\"2\" valign=\"top\">Somerset</th>\n",
    "      <th>Kheterpal</th>\n",
    "      <td>0</td>\n",
    "      <td>0</td>\n",
    "      <td>0</td>\n",
    "      <td>1</td>\n",
    "      <td>0</td>\n",
    "      <td>0</td>\n",
    "      <td>0</td>\n",
    "    </tr>\n",
    "    <tr>\n",
    "      <th>Rampure</th>\n",
    "      <td>0</td>\n",
    "      <td>0</td>\n",
    "      <td>0</td>\n",
    "      <td>0</td>\n",
    "      <td>2</td>\n",
    "      <td>0</td>\n",
    "      <td>0</td>\n",
    "    </tr>\n",
    "    <tr>\n",
    "      <th>Westland</th>\n",
    "      <th>Pratapa</th>\n",
    "      <td>0</td>\n",
    "      <td>1</td>\n",
    "      <td>0</td>\n",
    "      <td>0</td>\n",
    "      <td>0</td>\n",
    "      <td>0</td>\n",
    "      <td>0</td>\n",
    "    </tr>\n",
    "  </tbody>\n",
    "</table>"
   ]
  },
  {
   "cell_type": "code",
   "execution_count": null,
   "id": "659177f7",
   "metadata": {
    "tags": []
   },
   "outputs": [],
   "source": [
    "def transactions_per_store(df):\n",
    "    ...\n",
    "\n",
    "# Feel free to change this input to make sure your function works correctly.\n",
    "transactions_per_store(sales.head(8))"
   ]
  },
  {
   "cell_type": "code",
   "execution_count": null,
   "id": "4fce414a",
   "metadata": {
    "deletable": false,
    "editable": false
   },
   "outputs": [],
   "source": [
    "grader.check(\"q05_03\")"
   ]
  },
  {
   "cell_type": "markdown",
   "id": "51fbe52a",
   "metadata": {},
   "source": [
    "#### Question 5.4 [Autograded 💻] <div style=\"display:inline-block; vertical-align: middle; padding:7px 7px; font-size:10px; font-weight:light; color:white; background-color:#e84c4a; border-radius:7px; text-align:left;\">4 Points</div>\n",
    "\n",
    "Complete the implementation of the function `total_per_month`, which takes in a DataFrame `df` like `sales` and returns a DataFrame, indexed by **both** `'Store'` and `'Name'`, that contains the total **amount** spent per **month** at each location by each customer. Replace `NaN`s with 0s, and don't reset the index after pivoting. The order of the rows and columns don't matter. \n",
    "\n",
    "Example behavior is given below.\n",
    "\n",
    "```python\n",
    ">>> total_per_month(sales.head(8))\n",
    "```\n",
    "\n",
    "<table border=\"1\" class=\"dataframe\">\n",
    "  <thead>\n",
    "    <tr style=\"text-align: right;\">\n",
    "      <th></th>\n",
    "      <th>Month</th>\n",
    "      <th>April</th>\n",
    "      <th>August</th>\n",
    "      <th>January</th>\n",
    "      <th>October</th>\n",
    "      <th>September</th>\n",
    "    </tr>\n",
    "    <tr>\n",
    "      <th>Store</th>\n",
    "      <th>Name</th>\n",
    "      <th></th>\n",
    "      <th></th>\n",
    "      <th></th>\n",
    "      <th></th>\n",
    "      <th></th>\n",
    "    </tr>\n",
    "  </thead>\n",
    "  <tbody>\n",
    "    <tr>\n",
    "      <th rowspan=\"3\" valign=\"top\">12 Oaks</th>\n",
    "      <th>Pratapa</th>\n",
    "      <td>0</td>\n",
    "      <td>0</td>\n",
    "      <td>1845</td>\n",
    "      <td>0</td>\n",
    "      <td>0</td>\n",
    "    </tr>\n",
    "    <tr>\n",
    "      <th>Rex</th>\n",
    "      <td>0</td>\n",
    "      <td>0</td>\n",
    "      <td>0</td>\n",
    "      <td>2503</td>\n",
    "      <td>0</td>\n",
    "    </tr>\n",
    "    <tr>\n",
    "      <th>Zhuang</th>\n",
    "      <td>0</td>\n",
    "      <td>0</td>\n",
    "      <td>0</td>\n",
    "      <td>0</td>\n",
    "      <td>346</td>\n",
    "    </tr>\n",
    "    <tr>\n",
    "      <th>Briarwood</th>\n",
    "      <th>Kheterpal</th>\n",
    "      <td>392</td>\n",
    "      <td>0</td>\n",
    "      <td>0</td>\n",
    "      <td>0</td>\n",
    "      <td>0</td>\n",
    "    </tr>\n",
    "    <tr>\n",
    "      <th rowspan=\"2\" valign=\"top\">Somerset</th>\n",
    "      <th>Kheterpal</th>\n",
    "      <td>0</td>\n",
    "      <td>2781</td>\n",
    "      <td>0</td>\n",
    "      <td>0</td>\n",
    "      <td>0</td>\n",
    "    </tr>\n",
    "    <tr>\n",
    "      <th>Rampure</th>\n",
    "      <td>0</td>\n",
    "      <td>2529</td>\n",
    "      <td>0</td>\n",
    "      <td>0</td>\n",
    "      <td>0</td>\n",
    "    </tr>\n",
    "    <tr>\n",
    "      <th>Westland</th>\n",
    "      <th>Pratapa</th>\n",
    "      <td>0</td>\n",
    "      <td>0</td>\n",
    "      <td>199</td>\n",
    "      <td>0</td>\n",
    "      <td>0</td>\n",
    "    </tr>\n",
    "  </tbody>\n",
    "</table>\n",
    "\n",
    "Some guidance:\n",
    "- At no point should you need to manually parse `'Date'`s and manually map from 1 to January, 2 to February, and so on. Look into the [`pd.to_datetime`](https://pandas.pydata.org/docs/reference/api/pandas.to_datetime.html) function. Once you use it, a single StackOverflow post has the one-line solution to extracting months."
   ]
  },
  {
   "cell_type": "code",
   "execution_count": null,
   "id": "6c73d3f5",
   "metadata": {
    "tags": [
     "to-py"
    ]
   },
   "outputs": [],
   "source": [
    "def total_per_month(df):\n",
    "    df = df.copy() # Leave this here – you'll probably need to make destructive modifications to the input.\n",
    "    ...\n",
    "\n",
    "# Feel free to change this input to make sure your function works correctly.\n",
    "total_per_month(sales.head(8))"
   ]
  },
  {
   "cell_type": "code",
   "execution_count": null,
   "id": "bdb3c9ef",
   "metadata": {
    "deletable": false,
    "editable": false
   },
   "outputs": [],
   "source": [
    "grader.check(\"q05_04\")"
   ]
  },
  {
   "cell_type": "markdown",
   "id": "e170525a",
   "metadata": {},
   "source": [
    "## Question 6: Save the Pets 🐶\n",
    "\n",
    "---\n",
    "\n",
    "In this class, we're not just teaching you how to wrangle DataFrames, but also how to think critically with data. In this final part of the homework, you'll explore a statistical phenomenon that appears when working with aggregated data – Simpson's paradox. **You won't write any code in this part – instead, you'll type out some math.**\n",
    "\n",
    "First, let's walk through an illustrative example. Consider two students, Lisa and Bart, who just finished their first three semesters at Michigan. They both took a different number of classes in Winter 2023, Fall 2023, and Winter 2024. **Each semester, Lisa had a higher GPA than Bart, but overall, Bart has a higher GPA. How is this possible? 🤔**\n",
    "\n",
    "Run this cell to create example DataFrames that contain each students' grades."
   ]
  },
  {
   "cell_type": "code",
   "execution_count": null,
   "id": "b95bca4b",
   "metadata": {},
   "outputs": [],
   "source": [
    "lisa = pd.DataFrame([[20, 46], [18, 54], [5, 20]],\n",
    "    columns=['Credits', 'Grade Points Earned'], \n",
    "    index=['WI23', 'FA23', 'WI24'],\n",
    ")\n",
    "lisa.columns.name = 'Lisa' # This allows us to see the name \"Lisa\" in the top left of the DataFrame.\n",
    "\n",
    "bart = pd.DataFrame([[5, 10], [5, 13.5], [22, 81.4]],\n",
    "    columns=['Credits', 'Grade Points Earned'], \n",
    "    index=['WI23', 'FA23', 'WI24'],\n",
    ")\n",
    "bart.columns.name = 'Bart'"
   ]
  },
  {
   "cell_type": "code",
   "execution_count": null,
   "id": "eb9105e1",
   "metadata": {},
   "outputs": [],
   "source": [
    "lisa"
   ]
  },
  {
   "cell_type": "code",
   "execution_count": null,
   "id": "5aa29476",
   "metadata": {},
   "outputs": [],
   "source": [
    "bart"
   ]
  },
  {
   "cell_type": "markdown",
   "id": "7cedae25",
   "metadata": {
    "slideshow": {
     "slide_type": "slide"
    }
   },
   "source": [
    "The number of \"grade points\" earned for a course is:\n",
    "\n",
    "$$\\text{number of credits} \\cdot \\text{grade (out of 4)}$$\n",
    "\n",
    "For instance, an A- in a 4 credit course earns $3.7 \\cdot 4 = 14.8$ grade points. Your GPA, then, is the **weighted** average of your grade grade points, where the weight of each course grade is the number of credits the course is worth.\n",
    "\n",
    "In our example data, Lisa has a higher GPA in all three semesters:"
   ]
  },
  {
   "cell_type": "code",
   "execution_count": null,
   "id": "7cbebb21",
   "metadata": {},
   "outputs": [],
   "source": [
    "semesterly_gpas = pd.DataFrame({\n",
    "    \"Lisa's Semester GPA\": lisa['Grade Points Earned'] / lisa['Credits'],\n",
    "    \"Bart's Semester GPA\": bart['Grade Points Earned'] / bart['Credits'],\n",
    "})\n",
    "\n",
    "semesterly_gpas"
   ]
  },
  {
   "cell_type": "markdown",
   "id": "e7e68e33",
   "metadata": {},
   "source": [
    "But, overall, Bart has a higher GPA:"
   ]
  },
  {
   "cell_type": "code",
   "execution_count": null,
   "id": "fc2fe638",
   "metadata": {},
   "outputs": [],
   "source": [
    "lisa['Grade Points Earned'].sum() / lisa['Credits'].sum()"
   ]
  },
  {
   "cell_type": "code",
   "execution_count": null,
   "id": "1ad457ad",
   "metadata": {},
   "outputs": [],
   "source": [
    "# Higher than above!\n",
    "bart['Grade Points Earned'].sum() / bart['Credits'].sum()"
   ]
  },
  {
   "cell_type": "markdown",
   "id": "7c6692db",
   "metadata": {
    "slideshow": {
     "slide_type": "slide"
    }
   },
   "source": [
    "How did this happen? Let's take a look at all of our information together:"
   ]
  },
  {
   "cell_type": "code",
   "execution_count": null,
   "id": "100e7f2c",
   "metadata": {},
   "outputs": [],
   "source": [
    "(\n",
    "    semesterly_gpas\n",
    "    .assign(Lisa_Units=lisa['Credits'], Bart_Units=bart['Credits']) \n",
    "    .iloc[:, [0, 2, 1, 3]]\n",
    ")"
   ]
  },
  {
   "cell_type": "markdown",
   "id": "7fbc6720",
   "metadata": {
    "slideshow": {
     "slide_type": "fragment"
    }
   },
   "source": [
    "When both students performed poorly, Lisa took more credits than Bart, **which brought 📉 Lisa's overall average**. On the other hand, when both students performed well, Bart took more credits than Lisa, **which brought up 📈 Bart's overall average**.\n",
    "\n",
    "This phenomenon is known as Simpson's paradox. Specifically, Simpson's paradox is when **grouped and ungrouped data show opposing trends**. It's named after Edward H. Simpson, a statistician, not Lisa or Bart Simpson. It typically occurs when there is a hidden fact (i.e. a confounder) within the data that influences results.\n",
    "\n",
    "If you'd like to read more about Simpson's paradox, [here's a great article](https://statisticsbyjim.com/basics/simpsons-paradox/).\n",
    "\n",
    "But now, it's time for your task."
   ]
  },
  {
   "cell_type": "markdown",
   "id": "9232679e",
   "metadata": {},
   "source": [
    "Kyle is a veterinarian. Below, you'll find information about some of the dogs in his care, separated by district and breed.\n",
    "\n",
    "<table style=\"border-collapse: collapse; width: 500; text-align: left;\">\n",
    "  <thead>\n",
    "    <tr>\n",
    "      <th colspan=\"2\"></th>\n",
    "      <th colspan=\"2\" style=\"text-align: center; font-weight: bold; padding: 10px;\">Golden Retriever</th>\n",
    "      <th colspan=\"2\" style=\"text-align: center; font-weight: bold; padding: 10px;\">German Shepherd</th>\n",
    "    </tr>\n",
    "    <tr>\n",
    "      <th></th>\n",
    "      <th></th>\n",
    "      <th style=\"text-align: center; font-weight: bold; padding: 10px;\">Mean Weight</th>\n",
    "      <th style=\"text-align: center; font-weight: bold; padding: 10px;\">Count</th>\n",
    "      <th style=\"text-align: center; font-weight: bold; padding: 10px;\">Mean Weight</th>\n",
    "      <th style=\"text-align: center; font-weight: bold; padding: 10px;\">Count</th>\n",
    "    </tr>\n",
    "  </thead>\n",
    "  <tbody>\n",
    "    <tr>\n",
    "      <td style=\"font-weight: bold; padding: 10px;\">District 1</td>\n",
    "      <td></td>\n",
    "      <td style=\"text-align: center; padding: 10px;\">30</td>\n",
    "      <td style=\"text-align: center; padding: 10px;\">4</td>\n",
    "      <td style=\"text-align: center; padding: 10px;\">20</td>\n",
    "      <td style=\"text-align: center; padding: 10px;\">3</td>\n",
    "    </tr>\n",
    "    <tr>\n",
    "      <td style=\"font-weight: bold; padding: 10px;\">District 2</td>\n",
    "      <td></td>\n",
    "      <td style=\"text-align: center; padding: 10px;\">45</td>\n",
    "      <td style=\"text-align: center; padding: 10px;\">1</td>\n",
    "      <td style=\"text-align: center; padding: 10px;\">$a$</td>\n",
    "      <td style=\"text-align: center; padding: 10px;\">$b$</td>\n",
    "    </tr>\n",
    "  </tbody>\n",
    "</table>\n"
   ]
  },
  {
   "cell_type": "markdown",
   "id": "08f6d477",
   "metadata": {},
   "source": [
    "<!-- BEGIN QUESTION -->\n",
    "\n",
    "#### Question 6.1 [Written ✏️] <div style=\"display:inline-block; vertical-align: middle; padding:7px 7px; font-size:10px; font-weight:light; color:white; background-color:#e84c4a; border-radius:7px; text-align:left;\">2 Points</div>\n",
    "\n",
    "What is the mean weight of all Golden Retrievers in Kyle's care? Show your work."
   ]
  },
  {
   "cell_type": "markdown",
   "id": "220e194e",
   "metadata": {},
   "source": [
    " "
   ]
  },
  {
   "cell_type": "markdown",
   "id": "01105db6",
   "metadata": {},
   "source": [
    "<!-- END QUESTION -->\n",
    "\n",
    "#### Question 6.2 [Written ✏️]  <div style=\"display:inline-block; vertical-align: middle; padding:7px 7px; font-size:10px; font-weight:light; color:white; background-color:#e84c4a; border-radius:7px; text-align:left;\">4 Points</div>\n",
    "\n",
    "Find **integers** $a$ and $b$ such that Simpson's paradox occurs in this specific way:\n",
    "- The mean weight of Golden Retrievers in District 1 is **greater than** the mean weight of German Shepherds in District 1, and\n",
    "- The mean weight of Golden Retrievers in District 2 is **greater than** the mean weight of German Shepherds in District 2, but\n",
    "- The mean weight of Golden Retrievers overall is **less than** the mean weight of German Shepherds overall.\n",
    "\n",
    "There are infinitely many solutions; give a solution with the **smallest possible value of $a$**. If you still find that there are many possible values of $b$, then give the smallest possible value of $b$. Again, **show your work**.\n",
    "\n",
    "Remember, $a$ and $b$ must be **integers**. Show your work."
   ]
  },
  {
   "cell_type": "markdown",
   "id": "1c8e8fe1",
   "metadata": {},
   "source": [
    " "
   ]
  },
  {
   "cell_type": "markdown",
   "id": "d4320ca8",
   "metadata": {},
   "source": [
    "## Finish Line 🏁\n",
    "\n",
    "Congratulations! You're ready to submit Homework 3."
   ]
  },
  {
   "cell_type": "markdown",
   "id": "37a5969c",
   "metadata": {},
   "source": [
    "You need to submit Homework 3 twice:\n",
    "\n",
    "### To submit the manually graded problems (Questions 1.3, 6; marked [Written ✏️])\n",
    "\n",
    "- Make sure your answers **are not** in this notebook, but rather in a separate PDF.\n",
    "    - You can create this PDF either digitally, using your tablet or using [Overleaf + LaTeX](https://overleaf.com) (or some other sort of digital document), or by writing your answers on a piece of paper and scanning them in.\n",
    "- Submit this separate PDF to the **Homework 3 (Questions 1.3, 6; written problems)** assignment on Gradescope, and **make sure to correctly select the pages associated with each question**!\n",
    "\n",
    "### To submit the autograded problems (Questions 1.1-1.2, 1.4, 2-5; marked [Autograded 💻])\n",
    "\n",
    "1. Select `Kernel -> Restart & Run All` to ensure that you have executed all cells, including the test cells.\n",
    "2. Read through the notebook to make sure everything is fine and all tests passed.\n",
    "3. Run the cell below to run all tests, and make sure that they all pass.\n",
    "4. Download your notebook using `File -> Download as -> Notebook (.ipynb)`, then upload your notebook to Gradescope under **Homework 3 (Questions 1.1-1.2, 1.4, 2-5; autograded problems)**.\n",
    "5. Stick around while the Gradescope autograder grades your work.\n",
    "6. Check that you have a confirmation email from Gradescope and save it as proof of your submission.\n",
    "\n",
    "Your Homework 3 submission time will be the **later** of your two individual submissions."
   ]
  }
 ],
 "metadata": {
  "kernelspec": {
   "display_name": "Python 3 (ipykernel)",
   "language": "python",
   "name": "python3"
  },
  "language_info": {
   "codemirror_mode": {
    "name": "ipython",
    "version": 3
   },
   "file_extension": ".py",
   "mimetype": "text/x-python",
   "name": "python",
   "nbconvert_exporter": "python",
   "pygments_lexer": "ipython3",
   "version": "3.10.14"
  },
  "otter": {
   "tests": {
    "q01_01": {
     "name": "q01_01",
     "points": 2,
     "suites": [
      {
       "cases": [
        {
         "code": ">>> isinstance(michigan_total_2024, int) or isinstance(michigan_total_2024, np.int64)\nTrue",
         "failure_message": "If you fail this test, your answer is not an integer.",
         "hidden": false,
         "locked": false
        },
        {
         "code": ">>> 1_000_000 < michigan_total_2024 < 10_000_000\nTrue",
         "failure_message": "If you fail this test, your answer is either too big or too small.",
         "hidden": false,
         "locked": false
        }
       ],
       "scored": true,
       "setup": "",
       "teardown": "",
       "type": "doctest"
      }
     ]
    },
    "q01_02": {
     "name": "q01_02",
     "points": 2,
     "suites": [
      {
       "cases": [
        {
         "code": ">>> isinstance(votes_per_year, pd.Series) and votes_per_year.shape[0] == 13\nTrue",
         "failure_message": "Make sure your Series includes all 13 years.",
         "hidden": false,
         "locked": false
        },
        {
         "code": ">>> votes_per_year.loc[1996] == 95486860 and votes_per_year.iloc[3] == 91496698\nTrue",
         "failure_message": "Make sure your Series has the correct total votes for the years in the example.",
         "hidden": false,
         "locked": false
        }
       ],
       "scored": true,
       "setup": "",
       "teardown": "",
       "type": "doctest"
      }
     ]
    },
    "q01_04": {
     "name": "q01_04",
     "points": 3,
     "suites": [
      {
       "cases": [
        {
         "code": ">>> isinstance(rep_per_state, pd.Series) and rep_per_state.shape[0] == 10\nTrue",
         "failure_message": "Make sure your Series has exactly 10 elements.",
         "hidden": false,
         "locked": false
        },
        {
         "code": ">>> rep_per_state.loc['MICHIGAN'] == 2816636 and rep_per_state.iloc[-1] == 2449079\nTrue",
         "failure_message": "Make sure your Series has the correct values for the inputs in the example.",
         "hidden": false,
         "locked": false
        }
       ],
       "scored": true,
       "setup": "",
       "teardown": "",
       "type": "doctest"
      }
     ]
    },
    "q02_01": {
     "name": "q02_01",
     "points": 3,
     "suites": [
      {
       "cases": [
        {
         "code": ">>> callable(votes_per_year_party) and votes_per_year_party(votes).shape == (403, 3) and list(votes_per_year_party(votes).columns) == ['year', 'party', 'votes']\nTrue",
         "failure_message": "Make sure your DataFrame has EVERY unique combination of 'year' and party!, and that you are returning the total 'votes' for each of these combinations.",
         "hidden": false,
         "locked": false
        },
        {
         "code": ">>> out = votes_per_year_party(votes)\n>>> out.query('year == 2000 and party == \"DEMOCRAT\"')['votes'].iloc[0] == 49662314\nTrue",
         "failure_message": "Testing that your function returns the correct vote total for a specific combination of 'year' and 'party'.",
         "hidden": false,
         "locked": false
        }
       ],
       "scored": true,
       "setup": "",
       "teardown": "",
       "type": "doctest"
      }
     ]
    },
    "q02_02": {
     "name": "q02_02",
     "points": 4,
     "suites": [
      {
       "cases": [
        {
         "code": ">>> above_threshold(votes, 0.55) == [1984] and above_threshold(votes, 0.51) == [1984, 1988, 2008, 2020]\nTrue",
         "failure_message": "Testing that your function returns the correct list of years for the inputs in the example.",
         "hidden": false,
         "locked": false
        }
       ],
       "scored": true,
       "setup": "",
       "teardown": "",
       "type": "doctest"
      }
     ]
    },
    "q02_03": {
     "name": "q02_03",
     "points": 5,
     "suites": [
      {
       "cases": [
        {
         "code": ">>> callable(popular_vote_winners) and popular_vote_winners(votes).shape == (13, 3) and list(popular_vote_winners(votes).columns) == ['party', 'votes', 'vote_prop']\nTrue",
         "failure_message": "Testing that your function returns the data for all 13 years, and that the DataFrame has the correct columns.",
         "hidden": false,
         "locked": false
        },
        {
         "code": ">>> out = popular_vote_winners(votes).tail(3)\n>>> np.all(out['party'] == ['DEMOCRAT'] * 2 + ['REPUBLICAN'] * 1) and np.all(out['votes'] == [65677168, 81268908, 77303568]) and np.allclose(out['vote_prop'], [0.48525787580967783, 0.5136164053976494, 0.498086])\nTrue",
         "failure_message": "Testing the last three rows of popular_vote_winners(votes), as shown in the question prompt.",
         "hidden": false,
         "locked": false
        }
       ],
       "scored": true,
       "setup": "",
       "teardown": "",
       "type": "doctest"
      }
     ]
    },
    "q03_01": {
     "name": "q03_01",
     "points": 3,
     "suites": [
      {
       "cases": [
        {
         "code": ">>> callable(ec_results_per_state) and ec_results_per_state(combined).shape == (51, 5) and list(ec_results_per_state(combined).columns) == ['state', 'state_ab', 'party', 'votes', 'Electoral_College_Votes']\nTrue",
         "failure_message": "Testing that your function returns a dataframe with every state, and that the dataframe has the correct columns.",
         "hidden": false,
         "locked": false
        },
        {
         "code": ">>> out = ec_results_per_state(combined).tail(2)\n>>> np.all(out['state'] == ['WISCONSIN', 'WYOMING']) and np.all(out['state_ab'] == ['WI', 'WY']) and np.all(out['party'] == ['REPUBLICAN', 'REPUBLICAN']) and np.all(out['votes'] == [1697626, 192633]) and np.all(out['Electoral_College_Votes'] == [10, 3])\nTrue",
         "failure_message": "Testing the last two rows of ec_results_per_state(combined), as shown in the question prompt.",
         "hidden": false,
         "locked": false
        }
       ],
       "scored": true,
       "setup": "",
       "teardown": "",
       "type": "doctest"
      }
     ]
    },
    "q03_02": {
     "name": "q03_02",
     "points": 1,
     "suites": [
      {
       "cases": [
        {
         "code": ">>> callable(ec_totals) and ec_totals(combined).shape == (2,) and set(ec_totals(combined).index) == {'DEMOCRAT', 'REPUBLICAN'}\nTrue",
         "failure_message": "The returned Series should have two elements, indexed 'DEMOCRAT' and 'REPUBLICAN'.",
         "hidden": false,
         "locked": false
        }
       ],
       "scored": true,
       "setup": "",
       "teardown": "",
       "type": "doctest"
      }
     ]
    },
    "q03_03": {
     "name": "q03_03",
     "points": 5,
     "suites": [
      {
       "cases": [
        {
         "code": ">>> out = draw_choropleth(combined)\n>>> str(type(out)) == \"<class 'plotly.graph_objs._figure.Figure'>\"\nTrue",
         "failure_message": "draw_choropleth should return a plotly Figure. If this fails, make sure you return your fig!",
         "hidden": false,
         "locked": false
        },
        {
         "code": ">>> out = draw_choropleth(combined)\n>>> len(out.data) == 3\nTrue",
         "failure_message": "Make sure your plot just has a Republican slice, a Democratic slice, and the annotations!",
         "hidden": false,
         "locked": false
        },
        {
         "code": ">>> out = draw_choropleth(combined)\n>>> party1, party2 = out.data[0:2]\n>>> colors_used = set(np.array([l['colorscale'] for l in (party1, party2)]).reshape(4, 2)[:, -1])\n>>> colors_used = set([c.upper() for c in colors_used] + [c.lower() for c in colors_used])\n>>> default_colors = {'#1F77B4', '#1f77b4', '#FF7F0E', '#ff7f0e'}\n>>> len(colors_used.intersection(default_colors)) == 0\nTrue",
         "failure_message": "Make sure you're not using any of the default colors!",
         "hidden": false,
         "locked": false
        },
        {
         "code": ">>> out = draw_choropleth(combined)\n>>> party1, party2 = out.data[0:2]\n>>> loc1, loc2 = party1['locations'], party2['locations']\n>>> ('AK' in loc1 and 'CA' in loc2) or ('NY' in loc1 or 'SC' in loc2)\nTrue",
         "failure_message": "Make sure your states are assigned to parties correctly!",
         "hidden": false,
         "locked": false
        },
        {
         "code": ">>> out = draw_choropleth(combined)\n>>> annots = out.data[2]\n>>> any(['MI' in text and '15' in text for text in annots['text']]) and any(['CA' in text and '54' in text for text in annots['text']])\nTrue",
         "failure_message": "Make sure your labels are set up correctly!",
         "hidden": false,
         "locked": false
        }
       ],
       "scored": true,
       "setup": "",
       "teardown": "",
       "type": "doctest"
      }
     ]
    },
    "q04_01": {
     "name": "q04_01",
     "points": 2,
     "suites": [
      {
       "cases": [
        {
         "code": ">>> isinstance(most_popular_procedure(pets, procedure_history), str) and most_popular_procedure(pets, procedure_history) in set(procedure_history['ProcedureType'])\nTrue",
         "failure_message": "most_popular_procedure should return a string that is in the 'ProcedureType' column of procedure_history.",
         "hidden": false,
         "locked": false
        }
       ],
       "scored": true,
       "setup": "",
       "teardown": "",
       "type": "doctest"
      }
     ]
    },
    "q04_02": {
     "name": "q04_02",
     "points": 4,
     "suites": [
      {
       "cases": [
        {
         "code": ">>> out = pet_name_by_owner(owners, pets)\n>>> out.shape[0] == owners.shape[0]\nTrue",
         "failure_message": "The length of the returned Series should be the same as the length of owners.",
         "hidden": false,
         "locked": false
        },
        {
         "code": ">>> out = pet_name_by_owner(owners, pets)\n>>> 'Sarah' in out.index\nTrue",
         "failure_message": "Sarah should be one of the owners.",
         "hidden": false,
         "locked": false
        },
        {
         "code": ">>> out = pet_name_by_owner(owners, pets)\n>>> 'Cookie' in out.values\nTrue",
         "failure_message": "Cookie should be one of the pet names.",
         "hidden": false,
         "locked": false
        },
        {
         "code": ">>> out = pet_name_by_owner(owners, pets)\n>>> (out == 'No Pets').sum() == 6\nTrue",
         "failure_message": "The returned Series should have 6 owners whose values are 'No Pets'.",
         "hidden": false,
         "locked": false
        },
        {
         "code": ">>> out = pet_name_by_owner(owners, pets)\n>>> isinstance(out.loc['Gary'], list)\nTrue",
         "failure_message": "The value for the owner Gary should be a list.",
         "hidden": false,
         "locked": false
        }
       ],
       "scored": true,
       "setup": "",
       "teardown": "",
       "type": "doctest"
      }
     ]
    },
    "q04_03": {
     "name": "q04_03",
     "points": 4,
     "suites": [
      {
       "cases": [
        {
         "code": ">>> out = total_cost_per_city(owners, pets, procedure_history, procedure_detail)\n>>> out.shape[0] == 42\nTrue",
         "failure_message": "There are 41 unique cities in the owners DataFrame, which all need to be here, plus \"Missing City\".",
         "hidden": false,
         "locked": false
        },
        {
         "code": ">>> out = total_cost_per_city(owners, pets, procedure_history, procedure_detail)\n>>> set(out.index) == set(list(owners['City']) + ['Missing City'])\nTrue",
         "failure_message": "There are 41 unique cities in the owners DataFrame, which all need to be here, plus \"Missing City\".",
         "hidden": false,
         "locked": false
        },
        {
         "code": ">>> out = total_cost_per_city(owners, pets, procedure_history, procedure_detail)\n>>> (out == 0).sum() == 22\nTrue",
         "failure_message": "The number of cities with 0 spend is incorrect. Review HOW you have merged!",
         "hidden": false,
         "locked": false
        }
       ],
       "scored": true,
       "setup": "",
       "teardown": "",
       "type": "doctest"
      }
     ]
    },
    "q05_01": {
     "name": "q05_01",
     "points": 2,
     "suites": [
      {
       "cases": [
        {
         "code": ">>> callable(average_per_customer) and isinstance(average_per_customer(sales), pd.DataFrame)\nTrue",
         "failure_message": "Testing that your function returns a DataFrame.",
         "hidden": false,
         "locked": false
        },
        {
         "code": ">>> out = average_per_customer(sales).head(3)\n>>> list(out.index) == ['Gill', 'Hoffmeyer', 'Junior'] and np.isclose(out.to_numpy().reshape(-1,), np.array([1534.61616162, 1529.58139535, 1392.86111111])).all()\nTrue",
         "failure_message": "Testing the first three rows of average_per_customer(sales), as shown in the question prompt - make sure your implementation works for any subset of the data!",
         "hidden": false,
         "locked": false
        }
       ],
       "scored": true,
       "setup": "",
       "teardown": "",
       "type": "doctest"
      }
     ]
    },
    "q05_02": {
     "name": "q05_02",
     "points": 2,
     "suites": [
      {
       "cases": [
        {
         "code": ">>> callable(store_and_customer) and isinstance(store_and_customer(sales), pd.DataFrame) and store_and_customer(sales).shape == (10, 7)\nTrue",
         "failure_message": "Testing that your function returns a pivot table and that it includes every customer's purchases at each store.",
         "hidden": false,
         "locked": false
        },
        {
         "code": ">>> (store_and_customer(sales).index == ['Gill', 'Hoffmeyer', 'Junior', 'Kheterpal', 'Li', 'Pratapa', 'Rampure', 'Rex', 'Uppalapati', 'Zhuang']).all() and (store_and_customer(sales).columns == ['12 Oaks', 'Birch Run', 'Briarwood', 'Great Lakes', 'Oakland', 'Somerset', 'Westland']).all()\nTrue",
         "failure_message": "Testing the first three rows of average_per_customer(sales), as shown in the question prompt - make sure your implementation works for any subset of the data!",
         "hidden": false,
         "locked": false
        },
        {
         "code": ">>> store_and_customer(sales).isna().sum().sum() > 0\nTrue",
         "failure_message": "Make sure to NOT fill in any missing values!",
         "hidden": false,
         "locked": false
        }
       ],
       "scored": true,
       "setup": "",
       "teardown": "",
       "type": "doctest"
      }
     ]
    },
    "q05_03": {
     "name": "q05_03",
     "points": 3,
     "suites": [
      {
       "cases": [
        {
         "code": ">>> callable(transactions_per_store) and isinstance(transactions_per_store(sales), pd.DataFrame) and transactions_per_store(sales.head(8)).shape == (7, 7)\nTrue",
         "failure_message": "Testing that your function returns a pivot table and has every unique combination of the customer and 'Store' for each 'Date'.",
         "hidden": false,
         "locked": false
        },
        {
         "code": ">>> np.allclose(np.sort(transactions_per_store(sales.head(8)).mean()), np.array([0.14285714, 0.14285714, 0.14285714, 0.14285714, 0.14285714, 0.14285714, 0.28571429]))\nTrue",
         "failure_message": "Testing transactions_per_store(sales.head(8)), as in the question prompt.",
         "hidden": false,
         "locked": false
        },
        {
         "code": ">>> transactions_per_store(sales.head(8)).loc[('12 Oaks', 'Zhuang'), '09.25.2023'] == 1\nTrue",
         "failure_message": "Testing transactions_per_store(sales.head(8)), as in the question prompt.",
         "hidden": false,
         "locked": false
        }
       ],
       "scored": true,
       "setup": "",
       "teardown": "",
       "type": "doctest"
      }
     ]
    },
    "q05_04": {
     "name": "q05_04",
     "points": 4,
     "suites": [
      {
       "cases": [
        {
         "code": ">>> callable(total_per_month) and isinstance(total_per_month(sales), pd.DataFrame) and total_per_month(sales.head(8)).shape == (7, 5)\nTrue",
         "failure_message": "Testing that your function returns a pivot table and has every unique combination of a customer and the 'Store' for each 'Month'.",
         "hidden": false,
         "locked": false
        },
        {
         "code": ">>> total_per_month(sales.head(8)).loc[('12 Oaks', 'Pratapa'), 'January'] == 1845\nTrue",
         "failure_message": "Testing total_per_month(sales.head(8)), as in the question prompt.",
         "hidden": false,
         "locked": false
        },
        {
         "code": ">>> np.allclose(np.sort(total_per_month(sales.head(8)).mean()), np.array([ 49.42857143,  56.        , 292.        , 357.57142857, 758.57142857]))\nTrue",
         "failure_message": "Testing total_per_month(sales.head(8)), as in the question prompt.",
         "hidden": false,
         "locked": false
        }
       ],
       "scored": true,
       "setup": "",
       "teardown": "",
       "type": "doctest"
      }
     ]
    }
   }
  }
 },
 "nbformat": 4,
 "nbformat_minor": 5
}
