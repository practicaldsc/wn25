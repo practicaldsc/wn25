{
 "cells": [
  {
   "cell_type": "code",
   "execution_count": null,
   "id": "3db884fb",
   "metadata": {
    "deletable": false,
    "editable": false
   },
   "outputs": [],
   "source": [
    "# Initialize Otter\n",
    "import otter\n",
    "grader = otter.Notebook(\"hw05.ipynb\")"
   ]
  },
  {
   "cell_type": "markdown",
   "id": "55f45e3b",
   "metadata": {},
   "source": [
    "<div class=\"alert alert-success\" markdown=\"1\">\n",
    "\n",
    "#### Homework 5\n",
    "\n",
    "# APIs and Regular Expressions\n",
    "\n",
    "### EECS 398: Practical Data Science, Winter 2025\n",
    "\n",
    "#### Due Tuesday, February 18th at 11:59PM\n",
    "    \n",
    "</div>"
   ]
  },
  {
   "cell_type": "markdown",
   "id": "7874e357",
   "metadata": {},
   "source": [
    "## Instructions\n",
    "\n",
    "Welcome to Homework 5! In this homework, you will wrangle real-world data from APIs and work with regular expressions. We'll be making requests to APIs to build structured DataFrames from JSON, and write regular expressions to extract key information from messy data.\n",
    "\n",
    "You are given 8 slip days throughout the semester to extend deadlines. See the [Syllabus](https://practicaldsc.org/syllabus) for more details. With the exception of using slip days, late work will not be accepted unless you have made special arrangements with your instructor.\n",
    "\n",
    "To access this notebook, you'll need to clone our [public GitHub repository](https://github.com/practicaldsc/wn25/). The [Environment Setup](https://practicaldsc.org/env-setup) page on the course website walks you through the necessary steps. Once you're done, you'll submit your completed notebook to Gradescope.\n",
    "\n",
    "Please start early and submit often. You can submit as many times as you'd like to Gradescope, and we'll grade your **most recent** submission. Remember that the public `grader.check` tests in your notebook are not comprehensive, and that your work will also be graded on hidden test cases on Gradescope after the submission deadline.\n",
    "\n",
    "This homework is worth a total of **49 points**, 44 of which come from the autograder and 5 of which are for completing our Pre-Midterm Survey (Question 0). The number of points each question is worth is listed at the start of each question. **The four questions in the assignment are independent, so feel free to move around if you get stuck**. Tip: if you're using Jupyter Lab, you can see a Table of Contents for the notebook by going to View > Table of Contents.\n",
    "\n",
    "There are no manually-graded questions in this homework, i.e. all of the questions are **[Autograded 💻]**. All you need to submit is this notebook.\n",
    "\n",
    "<div class=\"alert alert-danger\" markdown=\"1\">\n",
    "<tt>for</tt>-loops are <strong>allowed</strong> throughout this entire homework.\n",
    "\n",
    "</div>"
   ]
  },
  {
   "cell_type": "markdown",
   "id": "75e78f78",
   "metadata": {},
   "source": [
    "To get started, run the import cell above, plus the cell at the top of the notebook that imports and initializes `otter`."
   ]
  },
  {
   "cell_type": "code",
   "execution_count": null,
   "id": "b3944289",
   "metadata": {},
   "outputs": [],
   "source": [
    "import os\n",
    "import pandas as pd\n",
    "import numpy as np\n",
    "import requests\n",
    "import re\n",
    "from bs4 import BeautifulSoup"
   ]
  },
  {
   "cell_type": "markdown",
   "id": "c39945a5",
   "metadata": {},
   "source": [
    "## Question 0: Pre-Midterm Survey 📬 <div style=\"display:inline-block; vertical-align: middle; padding:7px 7px; font-size:10px; font-weight:light; color:white; background-color:#e84c4a; border-radius:7px; text-align:left;\">5 Points</div>\n",
    "\n",
    "---\n",
    "\n",
    "We'd like to get your feedback on how the class is going so far, now that we're just over a month in. We've put together a survey that asks you to provide feedback on all aspects of the course. You can provide as much or as little detail as you'd like. We expect it will take 15 minutes to complete.\n",
    "\n",
    "This survey is **NOT anonymous**, since it's for class credit – it counts towards your score for Homework 5. The responses to the survey will be visible to course staff.\n",
    "\n",
    "<center><h3>Access the survey <a href=\"https://docs.google.com/forms/d/e/1FAIpQLSdYwKD7Uyvlz2Mr8ExdAxRIpjdW46NsZ03sFMTh4_r0JPARkQ/viewform?usp=preview\"><b>here</b></a>.</center>\n",
    "\n",
    "We will manually add 5 points to your Homework 5 score after the deadline, once we verify that you submitted this survey. Make sure to sign in with your @umich.edu email.\n",
    "\n",
    "We really appreciate your feedback, thanks! 😊"
   ]
  },
  {
   "cell_type": "markdown",
   "id": "ae5bd2a0",
   "metadata": {},
   "source": [
    "## Question 1: Stock Stats 🤑\n",
    "\n",
    "---\n",
    "\n",
    "You're aspiring for a finance job in Chicago, and decide to put your new data wrangling skills to the test by pulling stock data from an API and calculating various statistics. The API we will work in this question is hosted by Financial Modeling Prep, and can be found at https://site.financialmodelingprep.com/developer/docs#daily-chart-charts. Specifically, we will use the \"**Daily Chart EOD**\" endpoint – search for it at the linked page.\n",
    "\n",
    "Some relevant definitions:\n",
    "- Ticker: A short code that refers to a stock. For example, Apple's ticker is AAPL and Ford's ticker is F. \n",
    "- Open: The price of a stock at the beginning of a trading day.\n",
    "- Close: The price of a stock at the end of a trading day.\n",
    "- Volume: The total number of shares traded in a day.\n",
    "- Percent change: The difference in price with respect to the original price, as a percentage.\n",
    "\n",
    "To make requests to the aforementioned API, you will need an API key. **In order to get one, you will need to make an account at the website.** Once you've signed up, you can use the API key that comes with the free plan. It has a limit of 250 requests per day, which should be more than enough. You will have to encode your API key in the URL that you make requests to; see a complete example of such a request at the [**documentation**](https://site.financialmodelingprep.com/developer/docs#Stock-Historical-Price)."
   ]
  },
  {
   "cell_type": "markdown",
   "id": "20cfbde1",
   "metadata": {},
   "source": [
    "### Question 1.1 <div style=\"display:inline-block; vertical-align: middle; padding:7px 7px; font-size:10px; font-weight:light; color:white; background-color:#e84c4a; border-radius:7px; text-align:left;\">4 Points</div>\n",
    "\n",
    "Complete the implementation of the function `stock_history`, which takes in a string `ticker` and two integers, `year` and `month`, and returns a DataFrame containing the price history for that stock in that month. Keep all of the attributes that are returned by the API.\n",
    "\n",
    "Example behavior is given below.\n",
    "\n",
    "```python\n",
    ">>> out = stock_history('F', 2024, 8)\n",
    ">>> out.shape\n",
    "(22, 13)\n",
    "\n",
    "# August 31st was a Saturday, which is why it doesn't appear – US markets are closed on weekends!\n",
    ">>> out.head()\n",
    "```\n",
    "\n",
    "<table border=\"1\" class=\"dataframe\">\n",
    "  <thead>\n",
    "    <tr style=\"text-align: right;\">\n",
    "      <th></th>\n",
    "      <th>date</th>\n",
    "      <th>open</th>\n",
    "      <th>high</th>\n",
    "      <th>low</th>\n",
    "      <th>close</th>\n",
    "      <th>adjClose</th>\n",
    "      <th>volume</th>\n",
    "      <th>unadjustedVolume</th>\n",
    "      <th>change</th>\n",
    "      <th>changePercent</th>\n",
    "      <th>vwap</th>\n",
    "      <th>label</th>\n",
    "      <th>changeOverTime</th>\n",
    "    </tr>\n",
    "  </thead>\n",
    "  <tbody>\n",
    "    <tr>\n",
    "      <th>0</th>\n",
    "      <td>2024-08-30</td>\n",
    "      <td>11.15</td>\n",
    "      <td>11.23</td>\n",
    "      <td>11.06</td>\n",
    "      <td>11.19</td>\n",
    "      <td>11.19</td>\n",
    "      <td>44977100</td>\n",
    "      <td>44977100</td>\n",
    "      <td>0.04</td>\n",
    "      <td>0.35874</td>\n",
    "      <td>11.1575</td>\n",
    "      <td>August 30, 24</td>\n",
    "      <td>0.003587</td>\n",
    "    </tr>\n",
    "    <tr>\n",
    "      <th>1</th>\n",
    "      <td>2024-08-29</td>\n",
    "      <td>11.02</td>\n",
    "      <td>11.20</td>\n",
    "      <td>10.99</td>\n",
    "      <td>11.11</td>\n",
    "      <td>11.11</td>\n",
    "      <td>44989200</td>\n",
    "      <td>44989200</td>\n",
    "      <td>0.09</td>\n",
    "      <td>0.81670</td>\n",
    "      <td>11.0800</td>\n",
    "      <td>August 29, 24</td>\n",
    "      <td>0.008167</td>\n",
    "    </tr>\n",
    "    <tr>\n",
    "      <th>2</th>\n",
    "      <td>2024-08-28</td>\n",
    "      <td>11.10</td>\n",
    "      <td>11.19</td>\n",
    "      <td>10.98</td>\n",
    "      <td>11.04</td>\n",
    "      <td>11.04</td>\n",
    "      <td>35442200</td>\n",
    "      <td>35442200</td>\n",
    "      <td>-0.06</td>\n",
    "      <td>-0.54054</td>\n",
    "      <td>11.0775</td>\n",
    "      <td>August 28, 24</td>\n",
    "      <td>-0.005405</td>\n",
    "    </tr>\n",
    "    <tr>\n",
    "      <th>3</th>\n",
    "      <td>2024-08-27</td>\n",
    "      <td>11.12</td>\n",
    "      <td>11.22</td>\n",
    "      <td>10.99</td>\n",
    "      <td>11.14</td>\n",
    "      <td>11.14</td>\n",
    "      <td>44841000</td>\n",
    "      <td>44841000</td>\n",
    "      <td>0.02</td>\n",
    "      <td>0.17986</td>\n",
    "      <td>11.1175</td>\n",
    "      <td>August 27, 24</td>\n",
    "      <td>0.001799</td>\n",
    "    </tr>\n",
    "    <tr>\n",
    "      <th>4</th>\n",
    "      <td>2024-08-26</td>\n",
    "      <td>11.32</td>\n",
    "      <td>11.37</td>\n",
    "      <td>11.07</td>\n",
    "      <td>11.11</td>\n",
    "      <td>11.11</td>\n",
    "      <td>53070331</td>\n",
    "      <td>53070331</td>\n",
    "      <td>-0.21</td>\n",
    "      <td>-1.86000</td>\n",
    "      <td>11.2175</td>\n",
    "      <td>August 26, 24</td>\n",
    "      <td>-0.018600</td>\n",
    "    </tr>\n",
    "  </tbody>\n",
    "</table>\n",
    "\n",
    "\n",
    "\n",
    "\n",
    "Some guidance:\n",
    "- Read the API [**documentation**](https://site.financialmodelingprep.com/developer/docs#Stock-Historical-Price) if you get stuck! In particular, [this page](https://site.financialmodelingprep.com/playground?url=daily-chart-charts) will help you craft the URL you need to make a request to, though you'll need to make your account first.\n",
    "- To format the starting and ending dates you'll need to pass to the API, [`pd.date_range`](https://pandas.pydata.org/pandas-docs/stable/reference/api/pandas.date_range.html) might be helpful, along with `pd.to_datetime`.\n",
    "- The [`requests.get`](https://docs.python-requests.org/en/master/user/quickstart/) function returns a Response object, not the data itself. Use the `json` method on the Response object to extract the relevant JSON, as we did in [Lecture 8](https://practicaldsc.org/resources/lectures/lec08/lec08-filled.html#APIs-and-JSON) (you don't need to `import json` to do this).\n",
    "- You can instantiate a DataFrame using a sequence of dictionaries as input to `pd.DataFrame`. Once you've gotten your response object back, you're done 99% of the work involved with this question."
   ]
  },
  {
   "cell_type": "code",
   "execution_count": null,
   "id": "cd7c3e41",
   "metadata": {
    "tags": []
   },
   "outputs": [],
   "source": [
    "def stock_history(ticker, year, month):\n",
    "    ...\n",
    "    \n",
    "# Feel free to change this input to make sure your function works correctly.\n",
    "stock_history('F', 2024, 8).head()"
   ]
  },
  {
   "cell_type": "code",
   "execution_count": null,
   "id": "f533b27a",
   "metadata": {
    "deletable": false,
    "editable": false
   },
   "outputs": [],
   "source": [
    "grader.check(\"q01_01\")"
   ]
  },
  {
   "cell_type": "markdown",
   "id": "720a9fe5",
   "metadata": {
    "tags": []
   },
   "source": [
    "### Question 1.2 <div style=\"display:inline-block; vertical-align: middle; padding:7px 7px; font-size:10px; font-weight:light; color:white; background-color:#e84c4a; border-radius:7px; text-align:left;\">3 Points</div>\n",
    "\n",
    "Create a function `stock_stats` that takes in a DataFrame outputted by `stock_history` and returns a **tuple** of two numbers:\n",
    "1. The percent change of the stock throughout the month as a **percentage**.\n",
    "2. An estimate of the total transaction volume **in billion of dollars** for that month.\n",
    "\n",
    "Example behavior is given below.\n",
    "\n",
    "```python\n",
    ">>> stock_stats(stock_history('F', 2024, 8))\n",
    "('+3.04%', '13.16B')\n",
    "```\n",
    "\n",
    "Both values in the tuple should be **strings** that contain numbers rounded to two decimal places. Add a plus or minus sign in front of the percent change, and make sure that the total transaction volume string ends in a `'B'`. Both strings should **always** have two decimal places, e.g. if a percentage change is 3% exactly, render it as `'+3.00%'`. Python [string formatting](https://docs.python.org/3/tutorial/inputoutput.html) will be helpful.\n",
    "\n",
    "Let's illustrate both calculations. For example, suppose there are only three days in March – March 1st, March 2nd, and March 3rd. If BYND (Beyond Meat) opens at \\\\$4 on March 1st and closes at \\\\$5 on March 3rd, its **percent change** for the month of March is: $$\\frac{\\$5-\\$4}{\\$4} = +25.00\\%$$\n",
    "\n",
    "That is, when computing the percent change, use the opening price on the first day of the month as the starting price and the closing price on the last day of the month as the ending price.\n",
    "\n",
    "<br>\n",
    "\n",
    "**To compute the total transaction volume**, assume that on any given day, the average price of a share is the midpoint of the high and low price for that day, i.e. $\\frac{\\text{high} + \\text{low}}{2}$.\n",
    "\n",
    "$$ \\text{Estimated Total Transaction Volume (in dollars)} = \\text{Volume (number of shares traded)} \\cdot \\text{Average Price} $$\n",
    "\n",
    "\n",
    "\n",
    "\n",
    "Suppose the high and low prices and volumes of BYND on each day are given below.\n",
    "- March 1st: high \\\\$5, low \\\\$3, volume 500 million (0.5 billion).\n",
    "- March 2nd: high \\\\$5.5, low \\\\$2.5, volume 1 billion.\n",
    "- March 3rd: high \\\\$5.25, low \\\\$4, volume 500 million (0.5 billion).\n",
    "\n",
    "Then, the estimated total transaction volume is:\n",
    "$$\\left( \\frac{\\$5 + \\$3}{2} \\cdot 0.5 B \\right) + \\left( \\frac{\\$5.5 + \\$2.5}{2} \\cdot 1 B \\right) + \\left( \\frac{\\$5.25 + \\$4}{2} \\cdot 0.5 B \\right) = 8.3125B$$"
   ]
  },
  {
   "cell_type": "code",
   "execution_count": null,
   "id": "dd55a5f7",
   "metadata": {
    "tags": [
     "to-py"
    ]
   },
   "outputs": [],
   "source": [
    "def stock_stats(history):\n",
    "    ...\n",
    "    \n",
    "# Feel free to change this input to make sure your function works correctly.\n",
    "stock_stats(stock_history('F', 2024, 8))"
   ]
  },
  {
   "cell_type": "code",
   "execution_count": null,
   "id": "368584b6",
   "metadata": {
    "deletable": false,
    "editable": false
   },
   "outputs": [],
   "source": [
    "grader.check(\"q01_02\")"
   ]
  },
  {
   "cell_type": "markdown",
   "id": "04fdb327",
   "metadata": {},
   "source": [
    "## Question 2: Comment Threads 🧵 <div style=\"display:inline-block; vertical-align: middle; padding:7px 7px; font-size:10px; font-weight:light; color:white; background-color:#e84c4a; border-radius:7px; text-align:left;\">6 Points</div>\n",
    "\n",
    "---\n",
    "\n",
    "You regularly browse [Hacker News](https://news.ycombinator.com/) to keep up with the latest news in tech. An example link to a Hacker News article is https://news.ycombinator.com/item?id=18344932. Note that this article has 18 comments and has a `storyid` of 18344932. \n",
    "\n",
    "The problem now is that you don't have internet access on your phone during your morning commute to school, so you want to save the interesting stories' comment threads beforehand locally. You find their [API documentation](https://github.com/HackerNews/API) and get to work.\n",
    "\n",
    "Complete the implementation of the function `get_comments`, which takes in a `storyid` and returns a DataFrame of all the comments below the news story.\n",
    "\n",
    "Example behavior is given below.\n",
    "\n",
    "```python\n",
    ">>> get_comments(18344932).head()\n",
    "```\n",
    "\n",
    "<table border=\"1\" class=\"dataframe\">\n",
    "  <thead>\n",
    "    <tr style=\"text-align: right;\">\n",
    "      <th></th>\n",
    "      <th>id</th>\n",
    "      <th>by</th>\n",
    "      <th>parent</th>\n",
    "      <th>text</th>\n",
    "      <th>time</th>\n",
    "    </tr>\n",
    "  </thead>\n",
    "  <tbody>\n",
    "    <tr>\n",
    "      <th>0</th>\n",
    "      <td>18380397</td>\n",
    "      <td>valyala</td>\n",
    "      <td>18344932</td>\n",
    "      <td>TimescaleDB is great for storing time series c...</td>\n",
    "      <td>2018-11-05 06:53:19</td>\n",
    "    </tr>\n",
    "    <tr>\n",
    "      <th>1</th>\n",
    "      <td>18346406</td>\n",
    "      <td>msiggy</td>\n",
    "      <td>18344932</td>\n",
    "      <td>I&amp;#x27;m excited to give this database a try i...</td>\n",
    "      <td>2018-10-31 15:20:22</td>\n",
    "    </tr>\n",
    "    <tr>\n",
    "      <th>2</th>\n",
    "      <td>18348601</td>\n",
    "      <td>sman393</td>\n",
    "      <td>18344932</td>\n",
    "      <td>Can this be used side by side on normal Postgr...</td>\n",
    "      <td>2018-10-31 19:29:39</td>\n",
    "    </tr>\n",
    "    <tr>\n",
    "      <th>3</th>\n",
    "      <td>18348631</td>\n",
    "      <td>RobAtticus</td>\n",
    "      <td>18348601</td>\n",
    "      <td>Yep, absolutely. Regular PostgreSQL tables coe...</td>\n",
    "      <td>2018-10-31 19:34:52</td>\n",
    "    </tr>\n",
    "    <tr>\n",
    "      <th>4</th>\n",
    "      <td>18348984</td>\n",
    "      <td>sman393</td>\n",
    "      <td>18348631</td>\n",
    "      <td>Good to hear! how does the current TimescaleDB...</td>\n",
    "      <td>2018-10-31 20:23:46</td>\n",
    "    </tr>\n",
    "  </tbody>\n",
    "</table>\n",
    "\n",
    "As you see above, the DataFrame that `get_comments` returns should have 5 columns:\n",
    "- `'id'`: The unique ID of the comment.\n",
    "- `'by'`: The author of the comment.\n",
    "- `'parent'`: The unique ID of the comment this comment is replying to.\n",
    "- `'text'`: The actual comment.\n",
    "- `'time'`: When the comment was created (in `pd.Timestamp` format).\n",
    "\n",
    "Some guidance:\n",
    "- The URL to make requests to is `'https://hacker-news.firebaseio.com/v0/item/{id}.json'`, however, the `{id}` should be replaced with the ID of the article or page you are trying to access. \n",
    "- Again, do not `import json` – instead, use the `json` method on the Response object you get back.\n",
    "- **Make sure the comments in your DataFrame appear in the same order that they do on the page, from top to bottom.** Use depth-first search when traversing the comments tree. You will have to do this manually, since you cannot use BeautifulSoup (which is only for HTML documents, not JSON objects). Haven't taken (or finished) EECS 281 and don't know what depth-first search is? Don't worry – the video linked in the green box below will walk through the general idea.\n",
    "- Make sure the length of your returned DataFrame is the same as value for the `'descendants'` key in the response JSON, both of which correspond to the number of comments for the story.\n",
    "- You should ignore \"dead\" comments (you will know them when you see them), as well as \"dead\" comments' children. \n",
    "- Remember, you're allowed to use loops in this function (both `for`-loops and, **hint**, other types of loops!). You may also want to create at least one helper function.\n",
    "\n",
    "<div class=\"alert alert-block alert-success\">\n",
    "You may find <a href=\"https://www.youtube.com/watch?v=uOfwW-onmpc\"><b>this hint video 🎥</b></a> helpful!\n",
    "\n",
    "Also, the following Python behavior may be useful:\n",
    "\n",
    "```python\n",
    ">>> places = [280, 203, 398, 492]\n",
    ">>> places.pop(0)\n",
    "280\n",
    ">>> places\n",
    "[203, 398, 492]\n",
    "\n",
    ">>> places = [183, 101] + places\n",
    ">>> places\n",
    "[183, 101, 203, 398, 492]\n",
    "\n",
    "```\n",
    " \n",
    "</div>\n",
    "\n",
    "Some extra motivation from Max, a student from last semester:\n",
    "\n",
    "> \"I also wanted to share a recent interview experience. I had an online technical interview for a company, and they told me beforehand that the questions would be “general technical questions.” I wasn’t sure what to prepare for. It turned out the question was remarkably similar to Homework 5 Question 2, where we had to web scrape and use DFS/BFS to print out comments. In my interview, I had to web scrape and then traverse all the links on each page to print them out, my mind instantly went to Beautiful Soup and that question and the explanation video for BFS/DFS that we were given.\""
   ]
  },
  {
   "cell_type": "code",
   "execution_count": null,
   "id": "027246b0",
   "metadata": {
    "tags": [
     "to-py"
    ]
   },
   "outputs": [],
   "source": [
    "def get_comments(storyid):\n",
    "    ...\n",
    "    \n",
    "# Feel free to change this input to make sure your function works correctly.\n",
    "# For example, test your code on newer Hacker News articles, like\n",
    "# https://news.ycombinator.com/item?id=41660308!\n",
    "get_comments(18344932)"
   ]
  },
  {
   "cell_type": "code",
   "execution_count": null,
   "id": "433bc063",
   "metadata": {
    "deletable": false,
    "editable": false
   },
   "outputs": [],
   "source": [
    "grader.check(\"q02\")"
   ]
  },
  {
   "cell_type": "markdown",
   "id": "4b5d005f",
   "metadata": {},
   "source": [
    "## Question 3: Practice with Regular Expressions 📕\n",
    "\n",
    "---\n",
    "\n",
    "Regular expressions can be tricky, and the best way to gain familiarity with them is through lots of practice.\n",
    "\n",
    "In this question, you will work through 10 parts, **each of which requires you to write a regular expression that matches strings that satisfy certain criteria**. You will do this by – as usual – completing the implementation of a function. In Questions 3.1 through 3.9, your function will take in a string and return `True` if the string follows the pattern and `False` otherwise.\n",
    "\n",
    "- Make sure to take a close look at the examples for each function, as they provide useful guidance for the types of strings you should and shouldn't match.\n",
    "- Make sure to refer to the [Regular Expression Resources](https://practicaldsc.org/resources/#regular-expressions) on the course website. In particular, we recommend having [regex101.com](https://regex101.com/) open while working, along with the [cheat sheet](https://practicaldsc.org/resources/other/berkeley-regex-reference.pdf).\n",
    "- The number of points each part is worth tells you its relative difficulty level – some are worth <div style=\"display:inline-block; vertical-align: middle; padding:7px 7px; font-size:10px; font-weight:light; color:white; background-color:#e84c4a; border-radius:7px; text-align:left;\">2 Points</div> and some are worth <div style=\"display:inline-block; vertical-align: middle; padding:7px 7px; font-size:10px; font-weight:light; color:white; background-color:#e84c4a; border-radius:7px; text-align:left;\">3 Points</div>. If you're spending lots of time on exercises worth <div style=\"display:inline-block; vertical-align: middle; padding:7px 7px; font-size:10px; font-weight:light; color:white; background-color:#e84c4a; border-radius:7px; text-align:left;\">2 Points</div>, take a close look at the syntax from [Lecture 9](https://practicaldsc.org/resources/lectures/lec09/lec09-filled.html), as there is probably an easier way of writing the necessary pattern!\n",
    "- The 10 parts are all independent, and are **not** sorted by difficulty – some of the easiest parts are in the middle or towards the end!"
   ]
  },
  {
   "cell_type": "markdown",
   "id": "207ec7c1",
   "metadata": {},
   "source": [
    "### Question 3.1  <div style=\"display:inline-block; vertical-align: middle; padding:7px 7px; font-size:10px; font-weight:light; color:white; background-color:#e84c4a; border-radius:7px; text-align:left;\">2 Points</div>\n",
    "\n",
    "Write a regular expression that matches strings that have `'['` as the third character and `']'` as the sixth character. Example behavior is given below.\n",
    "\n",
    "```python\n",
    ">>> match_1(\"abcde]\")\n",
    "False\n",
    "\n",
    ">>> match_1(\"ab[cde\")\n",
    "False\n",
    "\n",
    ">>> match_1(\"ab[cd]ef\")\n",
    "True\n",
    "```"
   ]
  },
  {
   "cell_type": "code",
   "execution_count": null,
   "id": "fac2e3bc",
   "metadata": {
    "tags": []
   },
   "outputs": [],
   "source": [
    "def match_1(string):\n",
    "    pattern = ...\n",
    "\n",
    "    # Do not edit the following code.\n",
    "    return re.findall(pattern, string) != []"
   ]
  },
  {
   "cell_type": "code",
   "execution_count": null,
   "id": "058dfb53",
   "metadata": {
    "deletable": false,
    "editable": false
   },
   "outputs": [],
   "source": [
    "grader.check(\"q03_01\")"
   ]
  },
  {
   "cell_type": "markdown",
   "id": "ccdc4dc1",
   "metadata": {},
   "source": [
    "### Question 3.2 <div style=\"display:inline-block; vertical-align: middle; padding:7px 7px; font-size:10px; font-weight:light; color:white; background-color:#e84c4a; border-radius:7px; text-align:left;\">2 Points</div>\n",
    "\n",
    "Write a regular expression that matches strings that are phone numbers that start with `'(734)'` and follow the format `'(xxx) xxx-xxxx'` (`'x'` represents a digit). Example behavior is given below.\n",
    "\n",
    "```python\n",
    ">>> match_2(\"(734) 456-7890\")\n",
    "True\n",
    "\n",
    ">>> match_2(\"(123) 456-7890\")\n",
    "False\n",
    "\n",
    ">>> match_2(\"(734) 456-7890b\")\n",
    "False\n",
    "```\n",
    "\n",
    "Note that there is a space between `'(xxx)'` and `'xxx-xxxx'`!"
   ]
  },
  {
   "cell_type": "code",
   "execution_count": null,
   "id": "ae991bb8",
   "metadata": {
    "tags": []
   },
   "outputs": [],
   "source": [
    "def match_2(string):\n",
    "    pattern = ...\n",
    "\n",
    "    # Do not edit the following code.\n",
    "    return re.findall(pattern, string) != []"
   ]
  },
  {
   "cell_type": "code",
   "execution_count": null,
   "id": "e4a80f97",
   "metadata": {
    "deletable": false,
    "editable": false
   },
   "outputs": [],
   "source": [
    "grader.check(\"q03_02\")"
   ]
  },
  {
   "cell_type": "markdown",
   "id": "3029d04f",
   "metadata": {},
   "source": [
    "### Question 3.3 <div style=\"display:inline-block; vertical-align: middle; padding:7px 7px; font-size:10px; font-weight:light; color:white; background-color:#e84c4a; border-radius:7px; text-align:left;\">2 Points</div>\n",
    "\n",
    "Write a regular expression that matches strings that:\n",
    "- are between 6 and 10 characters long (inclusive),\n",
    "- contain only alphanumeric characters, whitespace and `'?'`, and\n",
    "- end with `'?'`.\n",
    "\n",
    "Example behavior is given below.\n",
    "\n",
    "```python\n",
    ">>> match_3('qw?ertsd?')\n",
    "True\n",
    "\n",
    ">>> match_3(\"ab   c ?\")\n",
    "True\n",
    "\n",
    ">>> match_3(\" adf!qes ?\")\n",
    "False\n",
    "\n",
    ">>> match_3('wwwWW .? ')\n",
    "False\n",
    "```\n",
    "\n",
    "Note that `'?'` is a special character."
   ]
  },
  {
   "cell_type": "code",
   "execution_count": null,
   "id": "c018a4b0",
   "metadata": {
    "tags": []
   },
   "outputs": [],
   "source": [
    "def match_3(string):\n",
    "    pattern = ...\n",
    "\n",
    "    # Do not edit the following code.\n",
    "    return re.findall(pattern, string) != []"
   ]
  },
  {
   "cell_type": "code",
   "execution_count": null,
   "id": "f91ae3e4",
   "metadata": {
    "deletable": false,
    "editable": false
   },
   "outputs": [],
   "source": [
    "grader.check(\"q03_03\")"
   ]
  },
  {
   "cell_type": "markdown",
   "id": "6226fd1e",
   "metadata": {},
   "source": [
    "### Question 3.4 <div style=\"display:inline-block; vertical-align: middle; padding:7px 7px; font-size:10px; font-weight:light; color:white; background-color:#e84c4a; border-radius:7px; text-align:left;\">3 Points</div>\n",
    "\n",
    "Write a regular expression that matches strings with exactly two `'$'`, one of which is at the start of the string, such that:\n",
    "- the characters between the two `'$'` can be anything (including nothing) except the lowercase letters `'a'`, `'b'`, and `'c'`, (and `'$'`), and\n",
    "- the characters after the second `'$'` can only be the **lowercase or uppercase** letters `'a'`/`'A'`, `'b'`/`'B'`, and `'c'`/`'C'`, with every `'a'`/`'A'` before every `'b'`/`'B'`, and every `'b'`/`'B'` before every `'c'`/`'C'`. There **must be** at least one `'a'` or `'A'`, at least one `'b'` or `'B'`, and at least one `'c'` or `'C'`.\n",
    "\n",
    "Example behavior is given below.\n",
    "\n",
    "```python\n",
    ">>> match_4(\"$!@#$aABc\")\n",
    "True\n",
    "\n",
    ">>> match_4('$qw!!  $aaBC')\n",
    "True\n",
    "\n",
    ">>> match_4('$a$aABc')\n",
    "False\n",
    "\n",
    ">>> match_4('$!@$')\n",
    "False\n",
    "```"
   ]
  },
  {
   "cell_type": "code",
   "execution_count": null,
   "id": "81dd30c6",
   "metadata": {
    "tags": []
   },
   "outputs": [],
   "source": [
    "def match_4(string):\n",
    "    pattern = ...\n",
    "\n",
    "    # Do not edit the following code.\n",
    "    return re.findall(pattern, string) != []"
   ]
  },
  {
   "cell_type": "code",
   "execution_count": null,
   "id": "8fabc804",
   "metadata": {
    "deletable": false,
    "editable": false
   },
   "outputs": [],
   "source": [
    "grader.check(\"q03_04\")"
   ]
  },
  {
   "cell_type": "markdown",
   "id": "044579db",
   "metadata": {},
   "source": [
    "### Question 3.5 <div style=\"display:inline-block; vertical-align: middle; padding:7px 7px; font-size:10px; font-weight:light; color:white; background-color:#e84c4a; border-radius:7px; text-align:left;\">2 Points</div>\n",
    "\n",
    "Write a regular expression that matches strings that represent valid Python file names, including the extension. For simplicity, assume that file names only contain letters, numbers, and underscores. Example behavior is given below.\n",
    "\n",
    "```python\n",
    ">>> match_5(\"eecs398.py\")\n",
    "True\n",
    "\n",
    ">>> match_5('eecs398_.py')\n",
    "True\n",
    "\n",
    ">>> match_5(\"here is a Python file eecs398.py\")\n",
    "False\n",
    "\n",
    ">>> match_5(\"eecs398+.py\")\n",
    "False\n",
    "```"
   ]
  },
  {
   "cell_type": "code",
   "execution_count": null,
   "id": "0adb5886",
   "metadata": {
    "tags": []
   },
   "outputs": [],
   "source": [
    "def match_5(string):\n",
    "    pattern = ...\n",
    "\n",
    "    # Do not edit the following code.\n",
    "    return re.findall(pattern, string) != []"
   ]
  },
  {
   "cell_type": "code",
   "execution_count": null,
   "id": "a5d1ea49",
   "metadata": {
    "deletable": false,
    "editable": false
   },
   "outputs": [],
   "source": [
    "grader.check(\"q03_05\")"
   ]
  },
  {
   "cell_type": "markdown",
   "id": "80cc0297",
   "metadata": {},
   "source": [
    "### Question 3.6 <div style=\"display:inline-block; vertical-align: middle; padding:7px 7px; font-size:10px; font-weight:light; color:white; background-color:#e84c4a; border-radius:7px; text-align:left;\">2 Points</div>\n",
    "\n",
    "Write a regular expression that matches strings that:\n",
    "- are made up of only lowercase letters and exactly one underscore (`'_'`), and\n",
    "- have at least one lowercase letter on both sides of the underscore.\n",
    "\n",
    "Example behavior is given below.\n",
    "\n",
    "```python\n",
    ">>> match_6(\"aab_cbbbc\")\n",
    "True\n",
    "\n",
    ">>> match_6(\"zebra_d\")\n",
    "True\n",
    "\n",
    ">>> match_6(\"aab_Abbbc\")\n",
    "False\n",
    "\n",
    ">>> match_6(\"zebra_\")\n",
    "False\n",
    "```"
   ]
  },
  {
   "cell_type": "code",
   "execution_count": null,
   "id": "24538e34",
   "metadata": {
    "tags": []
   },
   "outputs": [],
   "source": [
    "def match_6(string):\n",
    "    pattern = ...\n",
    "\n",
    "    # Do not edit the following code.\n",
    "    return re.findall(pattern, string) != []"
   ]
  },
  {
   "cell_type": "code",
   "execution_count": null,
   "id": "09d549d9",
   "metadata": {
    "deletable": false,
    "editable": false
   },
   "outputs": [],
   "source": [
    "grader.check(\"q03_06\")"
   ]
  },
  {
   "cell_type": "markdown",
   "id": "009703fe",
   "metadata": {},
   "source": [
    "### Question 3.7 <div style=\"display:inline-block; vertical-align: middle; padding:7px 7px; font-size:10px; font-weight:light; color:white; background-color:#e84c4a; border-radius:7px; text-align:left;\">2 Points</div>\n",
    "\n",
    "Write a regular expression that matches strings that start with and end with an underscore (`'_'`). Example behavior is given below.\n",
    "\n",
    "```python\n",
    ">>> match_7(\"_abc_\")\n",
    "True\n",
    "\n",
    ">>> match_7(\"_ZeBr@45Din000!!!\\b_\")\n",
    "True\n",
    "\n",
    ">>> match_7(\"abc\")\n",
    "False\n",
    "\n",
    ">>> match_7(\"_ncde\")\n",
    "False\n",
    "\n",
    ">>> match_7(\"_\") # Need at least two underscores!\n",
    "False\n",
    "```"
   ]
  },
  {
   "cell_type": "code",
   "execution_count": null,
   "id": "4940f6b5",
   "metadata": {
    "tags": []
   },
   "outputs": [],
   "source": [
    "def match_7(string):\n",
    "    pattern = ...\n",
    "\n",
    "    # Do not edit the following code.\n",
    "    return re.findall(pattern, string) != []"
   ]
  },
  {
   "cell_type": "code",
   "execution_count": null,
   "id": "a6a4c25c",
   "metadata": {
    "deletable": false,
    "editable": false
   },
   "outputs": [],
   "source": [
    "grader.check(\"q03_07\")"
   ]
  },
  {
   "cell_type": "markdown",
   "id": "f6b8c1d5",
   "metadata": {},
   "source": [
    "### Question 3.8 <div style=\"display:inline-block; vertical-align: middle; padding:7px 7px; font-size:10px; font-weight:light; color:white; background-color:#e84c4a; border-radius:7px; text-align:left;\">2 Points</div>\n",
    "\n",
    "Apple serial numbers are strings of length 1 or more that are made up of any characters, other than\n",
    "- the uppercase letter `'O'`, \n",
    "- the lowercase letter `'i`', and \n",
    "- the number `'1'`.\n",
    "\n",
    "Write a regular expression that matches strings that are valid Apple serial numbers. Example behavior is given below.\n",
    "\n",
    "```python\n",
    ">>> match_8('ASDJKL9380JKAL')\n",
    "True\n",
    "\n",
    ">>> match_8(\"ASJDKLFK0ASDo!!!!!!! !!!!!!!!!\")\n",
    "True\n",
    "\n",
    ">>> match_8('iPhone 10')\n",
    "False\n",
    "\n",
    ">>> match_8(\"hi ASDJKL9380JKAL\")\n",
    "False\n",
    "```"
   ]
  },
  {
   "cell_type": "code",
   "execution_count": null,
   "id": "269a320b",
   "metadata": {
    "tags": []
   },
   "outputs": [],
   "source": [
    "def match_8(string):\n",
    "    pattern = ...\n",
    "\n",
    "    # Do not edit the following code.\n",
    "    return re.findall(pattern, string) != []"
   ]
  },
  {
   "cell_type": "code",
   "execution_count": null,
   "id": "63fb7afb",
   "metadata": {
    "deletable": false,
    "editable": false
   },
   "outputs": [],
   "source": [
    "grader.check(\"q03_08\")"
   ]
  },
  {
   "cell_type": "markdown",
   "id": "dda45e1e",
   "metadata": {},
   "source": [
    "### Question 3.9 <div style=\"display:inline-block; vertical-align: middle; padding:7px 7px; font-size:10px; font-weight:light; color:white; background-color:#e84c4a; border-radius:7px; text-align:left;\">3 Points</div>\n",
    "\n",
    "Suppose DataID numbers are formatted as `'SC-NN-CCC-NNNN'`, where \n",
    "- SC represents state code in uppercase (e.g. `'MI'`),\n",
    "- NN represents a number with 2 digits (e.g. `'98'`),\n",
    "- CCC represents a three letter city code in uppercase (e.g. `'DTW'`), and\n",
    "- NNNN represents a number with 4 digits (e.g. `'1998'`).\n",
    "\n",
    "Write a regular expression that matches strings that are DataID numbers corresponding to the cities of `'DTW'` (Detroit) or `'LAN'` (Lansing), or the state of `'TX'` (Texas). Assume that there is only one city named `'DTW'` and only one city named `'LAN'`.\n",
    "\n",
    "Example behavior is given below.\n",
    "\n",
    "```python\n",
    ">>> match_9('MI-32-LAN-1232')\n",
    "True\n",
    "\n",
    ">>> match_9('TX-32-DTW-1232')\n",
    "True\n",
    "\n",
    "# Lansing is not in California!\n",
    ">>> match_9('CA-32-LAN-1232')\n",
    "False\n",
    "\n",
    ">>> match_9('mI-32-LAN-1232')\n",
    "False\n",
    "```"
   ]
  },
  {
   "cell_type": "code",
   "execution_count": null,
   "id": "27f01155",
   "metadata": {
    "tags": []
   },
   "outputs": [],
   "source": [
    "def match_9(string):\n",
    "    pattern = ...\n",
    "\n",
    "    # Do not edit the following code.\n",
    "    return re.findall(pattern, string) != []"
   ]
  },
  {
   "cell_type": "code",
   "execution_count": null,
   "id": "191cadef",
   "metadata": {
    "deletable": false,
    "editable": false
   },
   "outputs": [],
   "source": [
    "grader.check(\"q03_09\")"
   ]
  },
  {
   "cell_type": "markdown",
   "id": "4c4fa354",
   "metadata": {},
   "source": [
    "### Question 3.10 <div style=\"display:inline-block; vertical-align: middle; padding:7px 7px; font-size:10px; font-weight:light; color:white; background-color:#e84c4a; border-radius:7px; text-align:left;\">3 Points</div>\n",
    "\n",
    "In this final part, your task involves more than writing a single regular expression.\n",
    "\n",
    "Complete the implementation of the function `match_10`, which takes in a string (`string`) and:\n",
    "- converts the string to lowercase,\n",
    "- removes all non-alphanumeric characters (i.e. removes everything that is not in the `\\w` character class), and the letter `'a'`, and\n",
    "- returns a list of every **non-overlapping** three-character substring in the remaining string, starting from the beginning of the string.\n",
    "   \n",
    "Example behavior is given below.\n",
    "\n",
    "```python\n",
    ">>> match_10('Ab..DEF')\n",
    "['bde']\n",
    "\n",
    ">>> match_10('FINALS are COMING A')\n",
    "['fin', 'lsr', 'eco', 'min']\n",
    "\n",
    ">>> match_10('h9i9hOWW44areY@')\n",
    "['h9i', '9ho', 'ww4', '4re']\n",
    "```\n",
    "\n",
    "Here's how `match_10` should process `'Ab..DEF'`:\n",
    "\n",
    "1. Convert to lowercase: `'ab..def'`.\n",
    "2. Remove non-alphanumeric characters and the letter `'a'`: `'bdef'`.\n",
    "3. Starting from the beginning of the string, there is only a single non-overlapping three character substring: `'bde'`. Hence, we return `['bde']`.\n",
    "\n",
    "Some guidance: \n",
    "- Perform your operations in the exact order described above, otherwise your code may not pass all the tests.\n",
    "- Don't use a `for`-loop. You'll need to use `re.sub` in addition to `re.findall`."
   ]
  },
  {
   "cell_type": "code",
   "execution_count": null,
   "id": "ab222655",
   "metadata": {
    "tags": []
   },
   "outputs": [],
   "source": [
    "def match_10(string):\n",
    "    ..."
   ]
  },
  {
   "cell_type": "code",
   "execution_count": null,
   "id": "1bfa9cb5",
   "metadata": {
    "deletable": false,
    "editable": false
   },
   "outputs": [],
   "source": [
    "grader.check(\"q03_10\")"
   ]
  },
  {
   "cell_type": "markdown",
   "id": "6b958533",
   "metadata": {},
   "source": [
    "## Question 4: Capture Groups 📡\n",
    "\n",
    "---\n",
    "\n",
    "The dataset stored in `data/messy.txt` contains personal information from a fictional website that a user scraped from web server logs. Within this dataset, there are four fields that are of interest to you:\n",
    "1. Social Security Numbers\n",
    "1. Bitcoin Addresses\n",
    "1. Email Addresses \n",
    "1. Street Addresses\n",
    "\n",
    "Your job is to use `re.findall` to extract out the relevant pieces of information from `messy.txt`. **Since this data is very messy, your function will be allowed to miss ~5% of the records in each list. Good spot checking using certain useful substrings (e.g. `'@'` for emails) should help assure correctness!** As usual, your functions will be tested on a sample of the file `messy.txt`.\n",
    "\n",
    "Note that there are multiple \"delimiters\" (separators) in use in the file; there are few enough of them that you can safely determine what they are. **Before attempting any of the parts here, open `data/messy.txt` in your favorite text editor and explore!**"
   ]
  },
  {
   "cell_type": "markdown",
   "id": "40cbf4e3",
   "metadata": {},
   "source": [
    "### Question 4.1 <div style=\"display:inline-block; vertical-align: middle; padding:7px 7px; font-size:10px; font-weight:light; color:white; background-color:#e84c4a; border-radius:7px; text-align:left;\">2 Points</div>\n",
    "\n",
    "Complete the implementation of the function `extract_ssns`, which takes in a string (`string`) containing the contents of a server log file and returns the Social Security Numbers in the file as a list. Example behavior is given below.\n",
    "\n",
    "```python\n",
    ">>> extract_ssns('bitcoin:1BvBMSEYstWetqTFn5Au4m4GFg7xJaNVN2$jk%^3\\t,test@test55.umich.edu,lkj5r%ji|ssn:423-01-9575,530 High Street')\n",
    "['423-01-9575']\n",
    "\n",
    ">>> out = extract_ssns(open('data/messy.txt', encoding='utf8').read())\n",
    ">>> out[0]\n",
    "'380-09-9403'\n",
    "```\n",
    "\n",
    "Some guidance:\n",
    "- For our purposes, an SSN is a string of the form 3 digits-2 digits-4 digits.\n",
    "- The returned list should not contain any empty strings or the string `'null'`."
   ]
  },
  {
   "cell_type": "code",
   "execution_count": null,
   "id": "3e996b74",
   "metadata": {
    "tags": []
   },
   "outputs": [],
   "source": [
    "def extract_ssns(string):\n",
    "    ...\n",
    "    \n",
    "# To test your work, first run:\n",
    "extract_ssns('bitcoin:1BvBMSEYstWetqTFn5Au4m4GFg7xJaNVN2$jk%^3\\t,test@test55.umich.edu,lkj5r%ji|ssn:423-01-9575,530 High Street')\n",
    "# Then, once that works, uncomment:\n",
    "# extract_ssns(open('data/messy.txt', encoding='utf8').read())"
   ]
  },
  {
   "cell_type": "code",
   "execution_count": null,
   "id": "28558394",
   "metadata": {
    "deletable": false,
    "editable": false
   },
   "outputs": [],
   "source": [
    "grader.check(\"q04_01\")"
   ]
  },
  {
   "cell_type": "markdown",
   "id": "ca89930f",
   "metadata": {},
   "source": [
    "### Question 4.2  <div style=\"display:inline-block; vertical-align: middle; padding:7px 7px; font-size:10px; font-weight:light; color:white; background-color:#e84c4a; border-radius:7px; text-align:left;\">2 Points</div>\n",
    "\n",
    "Complete the implementation of the function `extract_bitcoin_addresses`, which takes in a string (`string`) containing the contents of a server log file and returns the Bitcoin addresses in the file as a list. Example behavior is given below. \n",
    "\n",
    "```python\n",
    ">>> extract_bitcoin_addresses('bitcoin:1BvBMSEYstWetqTFn5Au4m4GFg7xJaNVN2$jk%^3\\t,test@test55.umich.edu,lkj5r%ji|ssn:423-01-9575,530 High Street')\n",
    "['1BvBMSEYstWetqTFn5Au4m4GFg7xJaNVN2']\n",
    "\n",
    ">>> out = extract_bitcoin_addresses(open('data/messy.txt', encoding='utf8').read())\n",
    ">>> out[0]\n",
    "'18A8rBU3wvbLTSxMjqrPNc9mvonpA4XMiv'\n",
    "```\n",
    "\n",
    "Some guidance:\n",
    "- Assume Bitcoin addresses are alphanumeric strings.\n",
    "- The returned list should not contain any empty strings or the string `'null'`."
   ]
  },
  {
   "cell_type": "code",
   "execution_count": null,
   "id": "ce67dd84",
   "metadata": {
    "tags": []
   },
   "outputs": [],
   "source": [
    "def extract_bitcoin_addresses(string):\n",
    "    ...\n",
    "    \n",
    "# To test your work, first run:\n",
    "extract_bitcoin_addresses('bitcoin:1BvBMSEYstWetqTFn5Au4m4GFg7xJaNVN2$jk%^3\\t,test@test55.umich.edu,lkj5r%ji|ssn:423-01-9575,530 High Street')\n",
    "# Then, once that works, uncomment:\n",
    "# extract_bitcoin_addresses(open('data/messy.txt', encoding='utf8').read())"
   ]
  },
  {
   "cell_type": "code",
   "execution_count": null,
   "id": "4dfa7ff1",
   "metadata": {
    "deletable": false,
    "editable": false
   },
   "outputs": [],
   "source": [
    "grader.check(\"q04_02\")"
   ]
  },
  {
   "cell_type": "markdown",
   "id": "2f4efec2",
   "metadata": {},
   "source": [
    "### Question 4.3 <div style=\"display:inline-block; vertical-align: middle; padding:7px 7px; font-size:10px; font-weight:light; color:white; background-color:#e84c4a; border-radius:7px; text-align:left;\">2 Points</div>\n",
    "\n",
    "Complete the implementation of the function `extract_emails`, which takes in a string (`string`) containing the contents of a server log file and returns the email addresses in the file as a list. Example behavior is given below.\n",
    "\n",
    "```python\n",
    ">>> extract_emails('bitcoin:1BvBMSEYstWetqTFn5Au4m4GFg7xJaNVN2$jk%^3\\t,test@test55.umich.edu,lkj5r%ji|ssn:423-01-9575,530 High Street')\n",
    "['test@test55.umich.edu']\n",
    "\n",
    ">>> out = extract_emails(open('data/messy.txt', encoding='utf8').read())\n",
    ">>> out[0]\n",
    "'dottewell0@gnu.org'\n",
    "```\n",
    "\n",
    "Some guidance:\n",
    "- Assume that the usernames and domain names in an email address are alphanumeric. Domain names don't need to end in `'.com'` – assume that all parts of a domain name, including the very end, can be made up of any alphanumeric characters.\n",
    "- The returned list should not contain any empty strings or the string `'null'`. (It likely won't by default, but we've included this instruction in all four parts of this question.)"
   ]
  },
  {
   "cell_type": "code",
   "execution_count": null,
   "id": "54305776",
   "metadata": {
    "tags": []
   },
   "outputs": [],
   "source": [
    "def extract_emails(string):\n",
    "    ...\n",
    "    \n",
    "# To test your work, first run:\n",
    "extract_emails('bitcoin:1BvBMSEYstWetqTFn5Au4m4GFg7xJaNVN2$jk%^3\\t,test@test55.umich.edu,lkj5r%ji|ssn:423-01-9575,530 High Street')\n",
    "# Then, once that works, uncomment:\n",
    "# extract_emails(open('data/messy.txt', encoding='utf8').read())"
   ]
  },
  {
   "cell_type": "code",
   "execution_count": null,
   "id": "b2c1d1c0",
   "metadata": {
    "deletable": false,
    "editable": false
   },
   "outputs": [],
   "source": [
    "grader.check(\"q04_03\")"
   ]
  },
  {
   "cell_type": "markdown",
   "id": "46a37aa7",
   "metadata": {},
   "source": [
    "### Question 4.4 <div style=\"display:inline-block; vertical-align: middle; padding:7px 7px; font-size:10px; font-weight:light; color:white; background-color:#e84c4a; border-radius:7px; text-align:left;\">2 Points</div>\n",
    "\n",
    "Complete the implementation of the function `extract_street_addresses`, which takes in a string (`string`) containing the contents of a server log file and returns the street addresses in the file as a list. Example behavior is given below.\n",
    "\n",
    "```python\n",
    ">>> extract_street_addresses('bitcoin:1BvBMSEYstWetqTFn5Au4m4GFg7xJaNVN2$jk%^3\\t,test@test55.umich.edu,lkj5r%ji|ssn:423-01-9575,530 High Street')\n",
    "['530 High Street']\n",
    "\n",
    ">>> out = extract_street_addresses(open('data/messy.txt', encoding='utf8').read())\n",
    ">>> out[0]\n",
    "'814 Monterey Court'\n",
    "```\n",
    "\n",
    "As before, the returned list should not contain any empty strings or the string `'null'`."
   ]
  },
  {
   "cell_type": "code",
   "execution_count": null,
   "id": "89651e67",
   "metadata": {
    "tags": []
   },
   "outputs": [],
   "source": [
    "def extract_street_addresses(string):\n",
    "    ...\n",
    "\n",
    "# To test your work, first run:\n",
    "extract_street_addresses('bitcoin:1BvBMSEYstWetqTFn5Au4m4GFg7xJaNVN2$jk%^3\\t,test@test55.umich.edu,lkj5r%ji|ssn:423-01-9575,530 High Street')\n",
    "# Then, once that works, uncomment:\n",
    "# extract_street_addresses(open('data/messy.txt', encoding='utf8').read())"
   ]
  },
  {
   "cell_type": "code",
   "execution_count": null,
   "id": "0a838db1",
   "metadata": {
    "deletable": false,
    "editable": false
   },
   "outputs": [],
   "source": [
    "grader.check(\"q04_04\")"
   ]
  },
  {
   "cell_type": "markdown",
   "id": "5fdb9eb9",
   "metadata": {
    "tags": []
   },
   "source": [
    "## Finish Line 🏁\n",
    "\n",
    "Congratulations! You're ready to submit Homework 5. Remember that all you need to submit is this notebook; there is no separate PDF to submit, since there were no written questions."
   ]
  },
  {
   "cell_type": "markdown",
   "id": "b910530d",
   "metadata": {},
   "source": [
    "To submit your homework:\n",
    "\n",
    "1. Select `Kernel -> Restart & Run All` to ensure that you have executed all cells, including the test cells.\n",
    "2. Read through the notebook to make sure everything is fine and all tests passed.\n",
    "3. Download your notebook using `File -> Download as -> Notebook (.ipynb)`, then upload your notebook to Gradescope under \"Homework 5\".\n",
    "4. Stick around while the Gradescope autograder grades your work. Make sure you see that all **public tests** have passed on Gradescope. **Remember that homeworks have hidden tests, which you will not see your scores on until a few days after the deadline!**\n",
    "5. Check that you have a confirmation email from Gradescope and save it as proof of your submission."
   ]
  }
 ],
 "metadata": {
  "kernelspec": {
   "display_name": "Python 3 (ipykernel)",
   "language": "python",
   "name": "python3"
  },
  "language_info": {
   "codemirror_mode": {
    "name": "ipython",
    "version": 3
   },
   "file_extension": ".py",
   "mimetype": "text/x-python",
   "name": "python",
   "nbconvert_exporter": "python",
   "pygments_lexer": "ipython3",
   "version": "3.10.14"
  },
  "otter": {
   "tests": {
    "q01_01": {
     "name": "q01_01",
     "points": 4,
     "suites": [
      {
       "cases": [
        {
         "code": ">>> out = stock_history('F', 2024, 8)\n>>> out.shape == (22, 13)\nTrue",
         "failure_message": "DataFrame shape is incorrect.",
         "hidden": false,
         "locked": false
        },
        {
         "code": ">>> out = stock_history('F', 2024, 8)\n>>> out['label'].iloc[0] == 'August 30, 24'\nTrue",
         "failure_message": "Last label is incorrect.",
         "hidden": false,
         "locked": false
        },
        {
         "code": ">>> out = stock_history('F', 2024, 8)\n>>> np.isclose(out['open'].min(), 9.56)\nTrue",
         "failure_message": "Minimum value in the \"open\" column is incorrect.",
         "hidden": false,
         "locked": false
        },
        {
         "code": ">>> out = stock_history('F', 1998, 11)\n>>> np.isclose(out['open'].min(), 28.69)\nTrue",
         "failure_message": "Remember to encode the date range in the URL, so that your function works for years before 2020!",
         "hidden": false,
         "locked": false
        }
       ],
       "scored": true,
       "setup": "",
       "teardown": "",
       "type": "doctest"
      }
     ]
    },
    "q01_02": {
     "name": "q01_02",
     "points": 3,
     "suites": [
      {
       "cases": [
        {
         "code": ">>> out = stock_stats(stock_history('F', 2024, 8))\n>>> out[0] == '+3.04%'\nTrue",
         "failure_message": "Percentage change is incorrect.",
         "hidden": false,
         "locked": false
        },
        {
         "code": ">>> out = stock_stats(stock_history('F', 2024, 8))\n>>> out[1] == '13.16B'\nTrue",
         "failure_message": "Transaction volume is incorrect.",
         "hidden": false,
         "locked": false
        }
       ],
       "scored": true,
       "setup": "",
       "teardown": "",
       "type": "doctest"
      }
     ]
    },
    "q02": {
     "name": "q02",
     "points": 6,
     "suites": [
      {
       "cases": [
        {
         "code": ">>> out = get_comments(18344932)\n>>> out.shape == (18, 5)\nTrue",
         "failure_message": "On example input, the returned DataFrame has the wrong shape.",
         "hidden": false,
         "locked": false
        },
        {
         "code": ">>> out = get_comments(18344932)\n>>> out.loc[5, 'by'] == 'RobAtticus'\nTrue",
         "failure_message": "On example input, the returned DataFrame has an incorrect author name(s).",
         "hidden": false,
         "locked": false
        },
        {
         "code": ">>> out = get_comments(18344932)\n>>> out.loc[5, 'time'].day == 31\nTrue",
         "failure_message": "On example input, the returned DataFrame has an incorrect date(s).",
         "hidden": false,
         "locked": false
        }
       ],
       "scored": true,
       "setup": "",
       "teardown": "",
       "type": "doctest"
      }
     ]
    },
    "q03_01": {
     "name": "q03_01",
     "points": 2,
     "suites": [
      {
       "cases": [
        {
         "code": ">>> match_1(\"abcde]\") == False\nTrue",
         "failure_message": "match_1('abcde]') should return False.",
         "hidden": false,
         "locked": false
        },
        {
         "code": ">>> match_1(\"ab[cde\") == False\nTrue",
         "failure_message": "match_1('ab[cde') should return False.",
         "hidden": false,
         "locked": false
        },
        {
         "code": ">>> match_1(\"a[cd]\") == False\nTrue",
         "failure_message": "match_1('a[cd]') should return False.",
         "hidden": false,
         "locked": false
        },
        {
         "code": ">>> match_1(\"ab[cd]\") == True\nTrue",
         "failure_message": "match_1('ab[cd]') should return True.",
         "hidden": false,
         "locked": false
        },
        {
         "code": ">>> match_1(\"1ab[cd]\") == False\nTrue",
         "failure_message": "match_1('1ab[cd]') should return False.",
         "hidden": false,
         "locked": false
        },
        {
         "code": ">>> match_1(\"ab[cd]ef\") == True\nTrue",
         "failure_message": "match_1('ab[cd]ef') should return True.",
         "hidden": false,
         "locked": false
        },
        {
         "code": ">>> match_1(\"1b[#d] _\") == True\nTrue",
         "failure_message": "match_1('1b[#d] _') should return True.",
         "hidden": false,
         "locked": false
        },
        {
         "code": ">>> match_1('_ab[c#]') == False\nTrue",
         "failure_message": "match_1('_ab[c#]') should return False.",
         "hidden": false,
         "locked": false
        },
        {
         "code": ">>> match_1('_a[c#]!')\nTrue",
         "failure_message": "match_1('_a[c#]!') should return True.",
         "hidden": false,
         "locked": false
        }
       ],
       "scored": true,
       "setup": "",
       "teardown": "",
       "type": "doctest"
      }
     ]
    },
    "q03_02": {
     "name": "q03_02",
     "points": 2,
     "suites": [
      {
       "cases": [
        {
         "code": ">>> match_2(\"(123) 456-7890\") == False\nTrue",
         "failure_message": "match_2('(123) 456-7890') should return False.",
         "hidden": false,
         "locked": false
        },
        {
         "code": ">>> match_2(\"734-456-7890\") == False\nTrue",
         "failure_message": "match_2('734-456-7890') should return False.",
         "hidden": false,
         "locked": false
        },
        {
         "code": ">>> match_2(\"(734)45-7890\") == False\nTrue",
         "failure_message": "match_2('(734)45-7890') should return False.",
         "hidden": false,
         "locked": false
        },
        {
         "code": ">>> match_2(\"(734) 456-7890\") == True\nTrue",
         "failure_message": "match_2('(734) 456-7890') should return True.",
         "hidden": false,
         "locked": false
        },
        {
         "code": ">>> match_2(\"(734)456-789\") == False\nTrue",
         "failure_message": "match_2('(734)456-789') should return False.",
         "hidden": false,
         "locked": false
        },
        {
         "code": ">>> match_2(\"(734)456-7890\") == False\nTrue",
         "failure_message": "match_2('(734)456-7890') should return False.",
         "hidden": false,
         "locked": false
        },
        {
         "code": ">>> match_2(\"a(734) 456-7890\") == False\nTrue",
         "failure_message": "match_2('a(734) 456-7890') should return False.",
         "hidden": false,
         "locked": false
        },
        {
         "code": ">>> match_2(\"(734) 456-7890b\") == False\nTrue",
         "failure_message": "match_2('(734) 456-7890b') should return False.",
         "hidden": false,
         "locked": false
        },
        {
         "code": ">>> match_2('(734) 235-6781')\nTrue",
         "failure_message": "match_2('(734) 235-6781') should return True.",
         "hidden": false,
         "locked": false
        },
        {
         "code": ">>> match_2('(abc) def-ghi') == False\nTrue",
         "failure_message": "match_2('(abc) def-ghi') should return False.",
         "hidden": false,
         "locked": false
        }
       ],
       "scored": true,
       "setup": "",
       "teardown": "",
       "type": "doctest"
      }
     ]
    },
    "q03_03": {
     "name": "q03_03",
     "points": 2,
     "suites": [
      {
       "cases": [
        {
         "code": ">>> match_3(\"qwertsd?\") == True\nTrue",
         "failure_message": "match_3('qwertsd?') should return True.",
         "hidden": false,
         "locked": false
        },
        {
         "code": ">>> match_3(\"qw?ertsd?\") == True\nTrue",
         "failure_message": "match_3('qw?ertsd?') should return True.",
         "hidden": false,
         "locked": false
        },
        {
         "code": ">>> match_3(\"ab c?\") == False\nTrue",
         "failure_message": "match_3('ab c?') should return False.",
         "hidden": false,
         "locked": false
        },
        {
         "code": ">>> match_3(\"ab   c ?\") == True\nTrue",
         "failure_message": "match_3('ab   c ?') should return True.",
         "hidden": false,
         "locked": false
        },
        {
         "code": ">>> match_3(\" asdfqwes ?\") == False\nTrue",
         "failure_message": "match_3(' asdfqwes ?') should return False.",
         "hidden": false,
         "locked": false
        },
        {
         "code": ">>> match_3(\" adfqwes ?\") == True\nTrue",
         "failure_message": "match_3(' adfqwes ?') should return True.",
         "hidden": false,
         "locked": false
        },
        {
         "code": ">>> match_3(\" adf!qes ?\") == False\nTrue",
         "failure_message": "match_3(' adf!qes ?') should return False.",
         "hidden": false,
         "locked": false
        },
        {
         "code": ">>> match_3(\" adf!qe? \") == False\nTrue",
         "failure_message": "match_3(' adf!qe? ') should return False.",
         "hidden": false,
         "locked": false
        },
        {
         "code": ">>> match_3('wwwWW  ?')\nTrue",
         "failure_message": "match_3('wwwWW  ?') should return True.",
         "hidden": false,
         "locked": false
        },
        {
         "code": ">>> match_3('wwwWW .? ') == False\nTrue",
         "failure_message": "match_3('wwwWW .? ') should return False.",
         "hidden": false,
         "locked": false
        }
       ],
       "scored": true,
       "setup": "",
       "teardown": "",
       "type": "doctest"
      }
     ]
    },
    "q03_04": {
     "name": "q03_04",
     "points": 3,
     "suites": [
      {
       "cases": [
        {
         "code": ">>> match_4(\"$$AaaaaBbbbc\") == True\nTrue",
         "failure_message": "match_4('$$AaaaaBbbbc') should return True.",
         "hidden": false,
         "locked": false
        },
        {
         "code": ">>> match_4(\"$!@#$aABc\") == True\nTrue",
         "failure_message": "match_4('$!@#$aABc') should return True.",
         "hidden": false,
         "locked": false
        },
        {
         "code": ">>> match_4(\"$a$aABc\") == False\nTrue",
         "failure_message": "match_4('$a$aABc') should return False.",
         "hidden": false,
         "locked": false
        },
        {
         "code": ">>> match_4(\"$iiuABc\") == False\nTrue",
         "failure_message": "match_4('$iiuABc') should return False.",
         "hidden": false,
         "locked": false
        },
        {
         "code": ">>> match_4(\"123$$$Abc\") == False\nTrue",
         "failure_message": "match_4('123$$$Abc') should return False.",
         "hidden": false,
         "locked": false
        },
        {
         "code": ">>> match_4(\"$$Abc\") == True\nTrue",
         "failure_message": "match_4('$$Abc') should return True.",
         "hidden": false,
         "locked": false
        },
        {
         "code": ">>> match_4(\"$qw345t$AAAc\") == False\nTrue",
         "failure_message": "match_4('$qw345t$AAAc') should return False.",
         "hidden": false,
         "locked": false
        },
        {
         "code": ">>> match_4(\"$s$Bca\") == False\nTrue",
         "failure_message": "match_4('$s$Bca') should return False.",
         "hidden": false,
         "locked": false
        },
        {
         "code": ">>> match_4(\"$!@$\") == False\nTrue",
         "failure_message": "match_4('$!@$') should return False.",
         "hidden": false,
         "locked": false
        },
        {
         "code": ">>> match_4('$qw!!  $aaBC')\nTrue",
         "failure_message": "match_4('$qw!!  $aaBC') should return True.",
         "hidden": false,
         "locked": false
        },
        {
         "code": ">>> match_4('$qw!!  ABC') == False\nTrue",
         "failure_message": "match_4('$qw!!  ABC')) should return False.",
         "hidden": false,
         "locked": false
        }
       ],
       "scored": true,
       "setup": "",
       "teardown": "",
       "type": "doctest"
      }
     ]
    },
    "q03_05": {
     "name": "q03_05",
     "points": 2,
     "suites": [
      {
       "cases": [
        {
         "code": ">>> match_5(\"eecs398.py\") == True\nTrue",
         "failure_message": "match_5('eecs398.py') should return True.",
         "hidden": false,
         "locked": false
        },
        {
         "code": ">>> match_5(\"here is a Python file eecs398.py\") == False\nTrue",
         "failure_message": "match_5('here is a Python file eecs398.py') should return False.",
         "hidden": false,
         "locked": false
        },
        {
         "code": ">>> match_5(\"eecs398py\") == False\nTrue",
         "failure_message": "match_5('eecs398py') should return False.",
         "hidden": false,
         "locked": false
        },
        {
         "code": ">>> match_5(\"eecs398..py\") == False\nTrue",
         "failure_message": "match_5('eecs398..py') should return False.",
         "hidden": false,
         "locked": false
        },
        {
         "code": ">>> match_5(\"eecs398+.py\") == False\nTrue",
         "failure_message": "match_5('eecs398+.py') should return False.",
         "hidden": false,
         "locked": false
        },
        {
         "code": ">>> match_5('eecs398_.py')\nTrue",
         "failure_message": "match_5('eecs398_.py') should return True.",
         "hidden": false,
         "locked": false
        },
        {
         "code": ">>> match_5('eecs398_.py.py') == False\nTrue",
         "failure_message": "match_5('eecs398_.py.py') should return False.",
         "hidden": false,
         "locked": false
        }
       ],
       "scored": true,
       "setup": "",
       "teardown": "",
       "type": "doctest"
      }
     ]
    },
    "q03_06": {
     "name": "q03_06",
     "points": 2,
     "suites": [
      {
       "cases": [
        {
         "code": ">>> match_6(\"aab_cbb_bc\") == False\nTrue",
         "failure_message": "match_6('aab_cbb_bc') should return False.",
         "hidden": false,
         "locked": false
        },
        {
         "code": ">>> match_6(\"aab_cbbbc\") == True\nTrue",
         "failure_message": "match_6('aab_cbbbc') should return True.",
         "hidden": false,
         "locked": false
        },
        {
         "code": ">>> match_6(\"aab_Abbbc\") == False\nTrue",
         "failure_message": "match_6('aab_Abbbc') should return False.",
         "hidden": false,
         "locked": false
        },
        {
         "code": ">>> match_6(\"abcdef\") == False\nTrue",
         "failure_message": "match_6('abcdef') should return False.",
         "hidden": false,
         "locked": false
        },
        {
         "code": ">>> match_6(\"ABCDEF_ABCD\") == False\nTrue",
         "failure_message": "match_6('ABCDEF_ABCD') should return False.",
         "hidden": false,
         "locked": false
        },
        {
         "code": ">>> match_6('zebra_') == False\nTrue",
         "failure_message": "match_6('zebra_') should return False.",
         "hidden": false,
         "locked": false
        },
        {
         "code": ">>> match_6('zebra_d')\nTrue",
         "failure_message": "match_6('zebra_d') should return True.",
         "hidden": false,
         "locked": false
        },
        {
         "code": ">>> match_6('here zebra_d') == False\nTrue",
         "failure_message": "match_6('here zebra_d') should return False.",
         "hidden": false,
         "locked": false
        }
       ],
       "scored": true,
       "setup": "",
       "teardown": "",
       "type": "doctest"
      }
     ]
    },
    "q03_07": {
     "name": "q03_07",
     "points": 2,
     "suites": [
      {
       "cases": [
        {
         "code": ">>> match_7(\"_abc_\") == True\nTrue",
         "failure_message": "match_7('_abc_') should return True.",
         "hidden": false,
         "locked": false
        },
        {
         "code": ">>> match_7(\"_ZeBr@45Din000!!!\\b_\") == True\nTrue",
         "failure_message": "match_7(\"_ZeBr@45Din000!!!\\b_\") should return True.",
         "hidden": false,
         "locked": false
        },
        {
         "code": ">>> match_7(\"abd\") == False\nTrue",
         "failure_message": "match_7('abd') should return False.",
         "hidden": false,
         "locked": false
        },
        {
         "code": ">>> match_7(\"bcd\") == False\nTrue",
         "failure_message": "match_7('bcd') should return False.",
         "hidden": false,
         "locked": false
        },
        {
         "code": ">>> match_7(\"_ncde\") == False\nTrue",
         "failure_message": "match_7('_ncde') should return False.",
         "hidden": false,
         "locked": false
        },
        {
         "code": ">>> match_7('_') == False\nTrue",
         "failure_message": "match_7('_') should return False.",
         "hidden": false,
         "locked": false
        },
        {
         "code": ">>> match_7('abc_dc_') == False\nTrue",
         "failure_message": "match_7('abc_dc_') should return False.",
         "hidden": false,
         "locked": false
        }
       ],
       "scored": true,
       "setup": "",
       "teardown": "",
       "type": "doctest"
      }
     ]
    },
    "q03_08": {
     "name": "q03_08",
     "points": 2,
     "suites": [
      {
       "cases": [
        {
         "code": ">>> match_8(\"ASJDKLFK10ASDO\") == False\nTrue",
         "failure_message": "match_8('ASJDKLFK10ASDO') should return False.",
         "hidden": false,
         "locked": false
        },
        {
         "code": ">>> match_8(\"iPhone 10\") == False\nTrue",
         "failure_message": "match_8('iPhone 10') should return False.",
         "hidden": false,
         "locked": false
        },
        {
         "code": ">>> match_8(\"ASJDKLFK0ASDo!!!!!!! !!!!!!!!!\")\nTrue",
         "failure_message": "match_8('ASJDKLFK0ASDo!!!!!!! !!!!!!!!!') should return True.",
         "hidden": false,
         "locked": false
        },
        {
         "code": ">>> match_8(\"JKLSDNM01IDKSL\") == False\nTrue",
         "failure_message": "match_8('JKLSDNM01IDKSL') should return False.",
         "hidden": false,
         "locked": false
        },
        {
         "code": ">>> match_8(\"ASDKJLdsi0SKLl\") == False\nTrue",
         "failure_message": "match_8('ASDKJLdsi0SKLl') should return False.",
         "hidden": false,
         "locked": false
        },
        {
         "code": ">>> match_8('ASDJKL9380JKAL')\nTrue",
         "failure_message": "match_8('ASDJKL9380JKAL') should return True.",
         "hidden": false,
         "locked": false
        },
        {
         "code": ">>> match_8(\"hi ASDJKL9380JKAL\") == False\nTrue",
         "failure_message": "match_8('hi ASDJKL9380JKAL') should return False.",
         "hidden": false,
         "locked": false
        },
        {
         "code": ">>> match_8('ASJDKLFK10ASDO') == False\nTrue",
         "failure_message": "match_8('ASJDKLFK10ASDO') should return False.",
         "hidden": false,
         "locked": false
        }
       ],
       "scored": true,
       "setup": "",
       "teardown": "",
       "type": "doctest"
      }
     ]
    },
    "q03_09": {
     "name": "q03_09",
     "points": 3,
     "suites": [
      {
       "cases": [
        {
         "code": ">>> match_9('MI-32-LAN-1232')\nTrue",
         "failure_message": "match_9('MI-32-LAN-1232') should return True.",
         "hidden": false,
         "locked": false
        },
        {
         "code": ">>> match_9('TX-32-DTW-1232')\nTrue",
         "failure_message": "match_9('TX-32-DTW-1232') should return True.",
         "hidden": false,
         "locked": false
        },
        {
         "code": ">>> match_9('CA-32-LAN-1232') == False\nTrue",
         "failure_message": "match_9('CA-32-LAN-1232') should return False.",
         "hidden": false,
         "locked": false
        },
        {
         "code": ">>> match_9('mI-32-LAN-1232') == False\nTrue",
         "failure_message": "match_9('mI-32-LAN-1232') should return False.",
         "hidden": false,
         "locked": false
        },
        {
         "code": ">>> match_9('ca-23-SAN-1231') == False\nTrue",
         "failure_message": "match_9('ca-23-SAN-1231') should return False.",
         "hidden": false,
         "locked": false
        },
        {
         "code": ">>> match_9('TX-00-JFK-1345')\nTrue",
         "failure_message": "match_9('TX-00-JFK-1345') should return True.",
         "hidden": false,
         "locked": false
        },
        {
         "code": ">>> match_9('TX-00') == False\nTrue",
         "failure_message": "match_9('TX-00') should return False.",
         "hidden": false,
         "locked": false
        },
        {
         "code": ">>> match_9('TX-000-JFK-1345') == False\nTrue",
         "failure_message": "match_9('TX-000-JFK-1345') should return False.",
         "hidden": false,
         "locked": false
        },
        {
         "code": ">>> match_9('TX-00-JFK-134') == False\nTrue",
         "failure_message": "match_9('TX-00-JFK-134') should return False.",
         "hidden": false,
         "locked": false
        },
        {
         "code": ">>> match_9('ca-00-JFK-1345') == False\nTrue",
         "failure_message": "match_9('ca-00-JFK-1345') should return False.",
         "hidden": false,
         "locked": false
        },
        {
         "code": ">>> match_9('MI-19-DTW-1998')\nTrue",
         "failure_message": "match_9('MI-19-DTW-1998') should return True.",
         "hidden": false,
         "locked": false
        },
        {
         "code": ">>> match_9('MI-19-DTW-19980') == False\nTrue",
         "failure_message": "match_9('MI-19-DTW-19980') should return False.",
         "hidden": false,
         "locked": false
        }
       ],
       "scored": true,
       "setup": "",
       "teardown": "",
       "type": "doctest"
      }
     ]
    },
    "q03_10": {
     "name": "q03_10",
     "points": 3,
     "suites": [
      {
       "cases": [
        {
         "code": ">>> match_10('ABCdef') == ['bcd']\nTrue",
         "failure_message": "match_10('ABCdef') should return ['bcd'].",
         "hidden": false,
         "locked": false
        },
        {
         "code": ">>> match_10(' DEFaabc !g ') == ['def', 'bcg']\nTrue",
         "failure_message": "match_10(' DEFaabc !g ') should return ['def', 'bcg'].",
         "hidden": false,
         "locked": false
        },
        {
         "code": ">>> match_10('Come ti chiami?') == ['com', 'eti', 'chi']\nTrue",
         "failure_message": "match_10('Come ti chiami?') should return ['com', 'eti', 'chi'].",
         "hidden": false,
         "locked": false
        },
        {
         "code": ">>> match_10('and') == []\nTrue",
         "failure_message": "match_10('and') should return [].",
         "hidden": false,
         "locked": false
        },
        {
         "code": ">>> match_10('Ab..DEF') == ['bde']\nTrue",
         "failure_message": "match_10('Ab..DEF') should return ['bde'].",
         "hidden": false,
         "locked": false
        },
        {
         "code": ">>> match_10('acaadac!') == ['cdc']\nTrue",
         "failure_message": "match_10('acaadac!') should return ['cdc'].",
         "hidden": false,
         "locked": false
        },
        {
         "code": ">>> match_10('h9i9hOWW44areY@') == ['h9i', '9ho', 'ww4', '4re']\nTrue",
         "failure_message": "match_10('h9i9hOWW44areY@') should return ['h9i', '9ho', 'ww4', '4re'].",
         "hidden": false,
         "locked": false
        },
        {
         "code": ">>> match_10('FINALS are COMING A') == ['fin', 'lsr', 'eco', 'min']\nTrue",
         "failure_message": "match_10('FINALS are COMING A') should return ['fin', 'lsr', 'eco', 'min'].",
         "hidden": false,
         "locked": false
        }
       ],
       "scored": true,
       "setup": "",
       "teardown": "",
       "type": "doctest"
      }
     ]
    },
    "q04_01": {
     "name": "q04_01",
     "points": 2,
     "suites": [
      {
       "cases": [
        {
         "code": ">>> out = extract_ssns('bitcoin:1BvBMSEYstWetqTFn5Au4m4GFg7xJaNVN2$jk%^3\\t,test@test55.ca,lkj5r%ji|ssn:423-01-9575,530 High Street')\n>>> out[0] == '423-01-9575'\nTrue",
         "failure_message": "The first SSN in the example string should be 423-01-9575.",
         "hidden": false,
         "locked": false
        },
        {
         "code": ">>> s = open('data/messy.txt', encoding='utf8').read()\n>>> out = extract_ssns(s)\n>>> 2200 <= len(out) <= 3000\nTrue",
         "failure_message": "Between 2200 and 3000 SSNs should be extracted.",
         "hidden": false,
         "locked": false
        },
        {
         "code": ">>> s = open('data/messy.txt', encoding='utf8').read()\n>>> out = extract_ssns(s)\n>>> sixes = len([x for x in out if x[0] == '6'])\n>>> 300 <= sixes <= 350\nTrue",
         "failure_message": "Between 300 and 350 SSNs beginning with 6 should be extracted.",
         "hidden": false,
         "locked": false
        },
        {
         "code": ">>> s = open('data/messy.txt', encoding='utf8').read()\n>>> out = extract_ssns(s)\n>>> '634-49-4764' in out[15]\nTrue",
         "failure_message": "'634-49-4764' should be among the SSNs extracted.",
         "hidden": false,
         "locked": false
        }
       ],
       "scored": true,
       "setup": "",
       "teardown": "",
       "type": "doctest"
      }
     ]
    },
    "q04_02": {
     "name": "q04_02",
     "points": 2,
     "suites": [
      {
       "cases": [
        {
         "code": ">>> out = extract_bitcoin_addresses('bitcoin:1BvBMSEYstWetqTFn5Au4m4GFg7xJaNVN2$jk%^3\\t,test@test55.umich.edu,lkj5r%ji|ssn:423-01-9575,530 High Street')\n>>> out[0] == '1BvBMSEYstWetqTFn5Au4m4GFg7xJaNVN2'\nTrue",
         "failure_message": "The first bitcoin address in the example string should be 1BvBMSEYstWetqTFn5Au4m4GFg7xJaNVN2.",
         "hidden": false,
         "locked": false
        },
        {
         "code": ">>> s = open('data/messy.txt', encoding='utf8').read()\n>>> out = extract_bitcoin_addresses(s)\n>>> 2500 <= len(out) <= 3000\nTrue",
         "failure_message": "Between 2500 and 3000 bitcoin addresses need to be extracted.",
         "hidden": false,
         "locked": false
        },
        {
         "code": ">>> s = open('data/messy.txt', encoding='utf8').read()\n>>> out = extract_bitcoin_addresses(s)\n>>> 'null' not in out\nTrue",
         "failure_message": "The string 'null' should not be in the returned list.",
         "hidden": false,
         "locked": false
        }
       ],
       "scored": true,
       "setup": "",
       "teardown": "",
       "type": "doctest"
      }
     ]
    },
    "q04_03": {
     "name": "q04_03",
     "points": 2,
     "suites": [
      {
       "cases": [
        {
         "code": ">>> out = extract_emails('bitcoin:1BvBMSEYstWetqTFn5Au4m4GFg7xJaNVN2$jk%^3\\t,test@test55.umich.edu,lkj5r%ji|ssn:423-01-9575,530 High Street')\n>>> out[0] == 'test@test55.umich.edu'\nTrue",
         "failure_message": "The first email in the example string should be \"test@test55.umich.edu\".",
         "hidden": false,
         "locked": false
        },
        {
         "code": ">>> s = open('data/messy.txt', encoding='utf8').read()\n>>> out = extract_emails(s)\n>>> out[0] == 'dottewell0@gnu.org'\nTrue",
         "failure_message": "Between 550 and 1000 emails should be extracted.",
         "hidden": false,
         "locked": false
        },
        {
         "code": ">>> s = open('data/messy.txt', encoding='utf8').read()\n>>> out = extract_emails(s)\n>>> 550 <= len(out) <= 1000\nTrue",
         "failure_message": "Between 550 and 1000 emails should be extracted.",
         "hidden": false,
         "locked": false
        },
        {
         "code": ">>> s = open('data/messy.txt', encoding='utf8').read()\n>>> out = extract_emails(s)\n>>> gov = len([x for x in out if '.gov' in x])\n>>> 25 <= gov <= 100\nTrue",
         "failure_message": "Between 25 and 100 emails should contain \".gov\".",
         "hidden": false,
         "locked": false
        },
        {
         "code": ">>> s = open('data/messy.txt', encoding='utf8').read()\n>>> out = extract_emails(s)\n>>> sd = len([x for x in out if 'google.pl' in x])\n>>> 1 <= sd <= 4\nTrue",
         "failure_message": "Between 1 and 4 emails should contain \"google.pl\".",
         "hidden": false,
         "locked": false
        },
        {
         "code": ">>> s = open('data/messy.txt', encoding='utf8').read()\n>>> out = extract_emails(s)\n>>> 'ihouseleeme@mit.edu' in out\nTrue",
         "failure_message": "'ihouseleeme@mit.edu' should be among the emails extracted.",
         "hidden": false,
         "locked": false
        },
        {
         "code": ">>> s = open('data/messy.txt', encoding='utf8').read()\n>>> out = extract_emails(s)\n>>> 'null' not in out\nTrue",
         "failure_message": "The returned list should have no empty strings.",
         "hidden": false,
         "locked": false
        }
       ],
       "scored": true,
       "setup": "",
       "teardown": "",
       "type": "doctest"
      }
     ]
    },
    "q04_04": {
     "name": "q04_04",
     "points": 2,
     "suites": [
      {
       "cases": [
        {
         "code": ">>> out = extract_street_addresses('bitcoin:1BvBMSEYstWetqTFn5Au4m4GFg7xJaNVN2$jk%^3\\t,test@test55.umich.edu,lkj5r%ji|ssn:423-01-9575,530 High Street')\n>>> out[0] == '530 High Street'\nTrue",
         "failure_message": "The first street address in the example string should be '530 High Street'.",
         "hidden": false,
         "locked": false
        },
        {
         "code": ">>> s = open('data/messy.txt', encoding='utf8').read()\n>>> out = extract_street_addresses(s)\n>>> 700 <= len(out) <= 1400\nTrue",
         "failure_message": "Between 700 and 1400 addresses should be extracted.",
         "hidden": false,
         "locked": false
        },
        {
         "code": ">>> s = open('data/messy.txt', encoding='utf8').read()\n>>> out = extract_street_addresses(s)\n>>> addr = len([x for x in out if x[-4:] == 'Lane'])\n>>> 30 <= addr <= 60\nTrue",
         "failure_message": "Between 30 and 60 addresses ending in \"Lane\" should be extracted.",
         "hidden": false,
         "locked": false
        },
        {
         "code": ">>> s = open('data/messy.txt', encoding='utf8').read()\n>>> out = extract_street_addresses(s)\n>>> '732 Butterfield Plaza' in out\nTrue",
         "failure_message": "'732 Butterfield Plaza' should be extracted as a street address from messy.txt.",
         "hidden": false,
         "locked": false
        }
       ],
       "scored": true,
       "setup": "",
       "teardown": "",
       "type": "doctest"
      }
     ]
    }
   }
  }
 },
 "nbformat": 4,
 "nbformat_minor": 5
}
